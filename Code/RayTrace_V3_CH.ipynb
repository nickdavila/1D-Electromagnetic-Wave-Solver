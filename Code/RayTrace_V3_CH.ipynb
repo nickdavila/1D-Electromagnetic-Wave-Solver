{
 "cells": [
  {
   "cell_type": "markdown",
   "metadata": {
    "heading_collapsed": true
   },
   "source": [
    "# Module Load"
   ]
  },
  {
   "cell_type": "code",
   "execution_count": 587,
   "metadata": {
    "ExecuteTime": {
     "end_time": "2021-08-11T18:36:24.752866Z",
     "start_time": "2021-08-11T18:36:24.622698Z"
    },
    "hidden": true
   },
   "outputs": [
    {
     "name": "stdout",
     "output_type": "stream",
     "text": [
      "path_local =  /Users/kwoo/Desktop/PostDoc/InitialPlasma/python\n"
     ]
    }
   ],
   "source": [
    "import h5py, math, cmath, scipy, random, os, csv, pathlib, matplotlib\n",
    "\n",
    "from matplotlib.ticker import (MultipleLocator, FormatStrFormatter,AutoMinorLocator)\n",
    "from scipy.optimize import curve_fit\n",
    "from matplotlib import rcParams, rc, cm, colors\n",
    "from sklearn.decomposition import PCA\n",
    "from scipy.stats import skew, poisson, kurtosis \n",
    "from matplotlib.font_manager import FontProperties\n",
    "from scipy.ndimage import gaussian_filter, median_filter, sobel\n",
    "from scipy.interpolate import griddata\n",
    "from scipy.signal.signaltools import wiener\n",
    "from mpl_toolkits.mplot3d import Axes3D\n",
    "from numpy import linalg as LA\n",
    "from scipy.special import sph_harm, lambertw\n",
    "from scipy import interpolate\n",
    "\n",
    "import scipy.integrate as integrate\n",
    "import matplotlib.tri as tri\n",
    "import numpy.ma as ma\n",
    "import numpy as np\n",
    "import matplotlib.pyplot as plt\n",
    "import pandas as pd\n",
    "import scipy as sci\n",
    "import scipy.special as sp\n",
    "import time as timeCheck\n",
    "\n",
    "plt.style.use('classic')\n",
    "%matplotlib inline\n",
    "rcParams['font.family'] = 'Times New Roman'\n",
    "\n",
    "if 0 : plt.style.use('ggplot')\n",
    "if 0 : import seaborn as sns; sns.set()\n",
    "\n",
    "rc('text', usetex=True)\n",
    "rc('axes', linewidth=2)\n",
    "rc('font', weight='bold')\n",
    "rcParams['text.latex.preamble'] = [r'\\usepackage{sfmath} \\boldmath']\n",
    " \n",
    "path_local = str(pathlib.Path().absolute())\n",
    "print('path_local = ',path_local)"
   ]
  },
  {
   "cell_type": "markdown",
   "metadata": {},
   "source": [
    "# Electron Collision Frequency"
   ]
  },
  {
   "cell_type": "markdown",
   "metadata": {},
   "source": [
    "## get_param"
   ]
  },
  {
   "cell_type": "code",
   "execution_count": 1480,
   "metadata": {
    "ExecuteTime": {
     "end_time": "2021-08-21T01:58:58.296730Z",
     "start_time": "2021-08-21T01:58:58.269806Z"
    }
   },
   "outputs": [],
   "source": [
    "um = 10**-6 # m\n",
    "nm = 10**-9 # m\n",
    "ns = 10**-9 # s\n",
    "ps = 10**-12 # s\n",
    "fs = 10**-15 # s\n",
    "\n",
    "mole = 6.02214076*10**23 # unitless, the Avogadro number\n",
    "amu = 1.66*10**-27 # kg\n",
    "angstorm = 10**-10 # m\n",
    "hbar = 1.0545718*10**-34 # J*s\n",
    "eV = 1.6*10**-19 # J\n",
    "dyne = 10**-5 # N\n",
    "massElectron = 9.10938356*10**-31 # kg\n",
    "eCharge = 1.602176634*10**-19 # C\n",
    "eCharge_ESU = 4.80326*10**-10 # esu\n",
    "kB = 1.380649*10**-23 # J/K\n",
    "\n",
    "lightSpeed = 299792458 # m/s\n",
    "vacuumPermittivity = 8.854*10**-12 # C⋅V−1⋅m−1\n",
    "\n",
    "wavelength_355nm = 355*nm # m\n",
    "wavelength_450nm = 450*nm # m\n",
    "omega_355nm = 2*np.pi*(lightSpeed/wavelength_355nm) # 1/s\n",
    "omega_450nm = 2*np.pi*(lightSpeed/wavelength_450nm) # 1/s\n",
    "\n",
    "meV = 0.001*eV # J\n",
    "mdyne = 0.001*dyne # N\n",
    "massElectronReduced = massElectron/2 # kg\n",
    "\n",
    "gcm3_to_kgm3 = 1000 # kg/m^3\n",
    "kelvin_to_eV = 8.621738*10**-5 # eV \n",
    "J_to_erg = 10**7 # erg\n",
    "cm3_to_m3 = 0.01**3 # m^3\n",
    "J_per_mole_per_K = 1/mole/kelvin_to_eV/eV\n",
    "\n",
    "#################\n",
    "# SI units\n",
    "#################\n",
    "Ti = 0.025*eV # J\n",
    "Te = 0.025*eV # J\n",
    "Tc = 58*meV   # J\n",
    "rho = 1*gcm3_to_kgm3 # kg/m^3\n",
    "#####################################################################\n",
    "# Engineering ToolBox, (2004). Speed of Sound in Solids and Metals\n",
    "# https://www.engineeringtoolbox.com/sound-speed-solids-d_713.html\n",
    "cs = 2350 # m/s\n",
    "#cs = 10414.838745062643 # dw/dk\n",
    "#####################################################################\n",
    "Upotential = 3.5*eV # J\n",
    "mPh  = (12*6+5)*amu # kg\n",
    "mCH  = (12*1+1)*amu # kg\n",
    "mCH2 = (12*1+2)*amu # kg\n",
    "mC8H8 = mPh + mCH + mCH2\n",
    "dCC = 1.53*angstorm # m\n",
    "a = 2*dCC         # m\n",
    "G = 4.855*mdyne/angstorm # N/m\n",
    "K = 4.000*mdyne/angstorm # N/m\n",
    "kBZ = 2*np.pi/a # 1/m\n",
    "kmin_EAP = massElectronReduced*cs/hbar # 1/m\n",
    "#E_LO1 = 72.87*meV  # 33.53*meV # J\n",
    "#E_LO2 = 192.80*meV # 88.73*meV # J\n",
    "E_LO1 = 33.53*meV # J\n",
    "E_LO2 = 88.73*meV # J\n",
    "omega_LO1 = E_LO1/hbar # 1/s\n",
    "omega_LO2 = E_LO2/hbar # 1/s\n",
    "varepsilon_0     = 2.5\n",
    "varepsilon_infty = 1.01\n",
    "kmin_EOP_absrob = np.sqrt(E_LO1*10**-3*2*massElectronReduced)/hbar # 1/m\n",
    "kmin_EOP_emit1  = np.sqrt(E_LO1*2*massElectronReduced)/hbar # 1/m\n",
    "kmin_EOP_emit2  = np.sqrt(E_LO2*2*massElectronReduced)/hbar # 1/m\n",
    "# mass_density/total_ion_mass*Z_total [1/cm^3]\n",
    "R_CH = 1.03*1000 # kg/m^3\n",
    "Z_CH = 7 # no unit\n",
    "A_CH = (12.011+1.008)*1.66053904e-27 # kg\n",
    "n_vb_CH = Z_CH*R_CH/A_CH # [1/m^3]\n",
    "Eg_CH   = 4.05*eV # [J]\n",
    "n_a_CH  = 1.02*10**23*100**3 # 1/m^3\n",
    "Zmax_CH = Z_CH/2"
   ]
  },
  {
   "cell_type": "markdown",
   "metadata": {},
   "source": [
    "## get_nc"
   ]
  },
  {
   "cell_type": "code",
   "execution_count": 19,
   "metadata": {
    "ExecuteTime": {
     "end_time": "2021-08-10T22:19:42.259913Z",
     "start_time": "2021-08-10T22:19:42.253589Z"
    }
   },
   "outputs": [],
   "source": [
    "def get_nc(wavelength):\n",
    "    \n",
    "    # input wavelength unit : m\n",
    "    # output nc unit        : 1/m^3\n",
    "    \n",
    "    angular_freq = 2*math.pi*(lightSpeed/wavelength)\n",
    "    ne_crit = vacuumPermittivity*massElectron*angular_freq**2/eCharge**2\n",
    "    return ne_crit # (1/m^3)\n",
    "\n",
    "nc_355nm = get_nc(wavelength_355nm) # 1/m^3\n",
    "nc_450nm = get_nc(wavelength_450nm) # 1/m^3"
   ]
  },
  {
   "cell_type": "markdown",
   "metadata": {
    "heading_collapsed": true
   },
   "source": [
    "## get_E_Fermi"
   ]
  },
  {
   "cell_type": "code",
   "execution_count": 560,
   "metadata": {
    "ExecuteTime": {
     "end_time": "2021-08-11T17:49:38.813328Z",
     "start_time": "2021-08-11T17:49:38.804056Z"
    },
    "hidden": true
   },
   "outputs": [
    {
     "name": "stdout",
     "output_type": "stream",
     "text": [
      "E_Fermi_355nm/eV =  1.562e+00\n",
      "E_Fermi_450nm/eV =  1.138e+00\n"
     ]
    }
   ],
   "source": [
    "def get_E_Fermi(ne):\n",
    "    \n",
    "    # https://en.wikipedia.org/wiki/Fermi_energy\n",
    "    \n",
    "    # ne : 1/m^3\n",
    "    # massElectron : kg\n",
    "    \n",
    "    EF = hbar**2/(2*massElectron)*(3*np.pi**2*ne)**(2/3) # J\n",
    "        \n",
    "    return EF # J\n",
    "\n",
    "E_Fermi_355nm = get_E_Fermi(ne=get_nc(wavelength_355nm))\n",
    "E_Fermi_450nm = get_E_Fermi(ne=get_nc(wavelength_450nm))\n",
    "\n",
    "print('E_Fermi_355nm/eV = ',\"{:.3e}\".format(E_Fermi_355nm/eV))\n",
    "print('E_Fermi_450nm/eV = ',\"{:.3e}\".format(E_Fermi_450nm/eV))"
   ]
  },
  {
   "cell_type": "markdown",
   "metadata": {
    "heading_collapsed": true
   },
   "source": [
    "## get_mu"
   ]
  },
  {
   "cell_type": "code",
   "execution_count": 925,
   "metadata": {
    "ExecuteTime": {
     "end_time": "2021-08-12T22:07:03.718923Z",
     "start_time": "2021-08-12T22:07:03.709915Z"
    },
    "hidden": true
   },
   "outputs": [],
   "source": [
    "def get_mu(ne,Te):\n",
    "    \n",
    "    #print('>>> get_mu ... ')  \n",
    "    \n",
    "    #To sum up, to increase the number of particles of a classical gas keeping the       volume and entropy constant, you have to change the energy of the system by a negative amount. This change in the energy (which is negative) is the chemical potential of the classical gas.\n",
    "        \n",
    "    # ne : 1/m^3\n",
    "    # Te : J\n",
    "    \n",
    "    y = hbar**3*np.pi**2*ne/np.sqrt(2)/(massElectron*Te)**(3/2)\n",
    "    \n",
    "    a  = 15\n",
    "    y0 = 1.52\n",
    "    \n",
    "    if y < 1 :        \n",
    "        inside = 4*y/(2*np.pi**0.5-y)        \n",
    "        mu = Te*np.log(inside)\n",
    "        \n",
    "    if (y >= 1) and (y<2.5) :\n",
    "        inside1 = 4*y/(2*np.pi**0.5-y)\n",
    "        inside2 = (3*y/2)**(4/3)-np.pi**2/6\n",
    "        denominator1 = 1+math.exp( a*(y-y0))\n",
    "        denominator2 = 1+math.exp(-a*(y-y0))        \n",
    "        mu = Te*(np.log(inside1)/denominator1+np.sqrt(inside2)/denominator2)\n",
    "        \n",
    "    if y >= 2.5 :\n",
    "        inside = (3*y/2)**(4/3)-np.pi**2/6\n",
    "        mu = Te*np.sqrt(inside)\n",
    "    \n",
    "    #print('get_mu : mu = ',mu)\n",
    "    #return mu/eV # eV\n",
    "    return mu # J\n",
    "\n",
    "#temp = [ T for T in np.arange(0.01,100,0.01)]\n",
    "#mu = [get_mu(10**22*100**3,Te*eV)/eV for Te in temp]\n",
    "#plt.plot(temp,mu)"
   ]
  },
  {
   "cell_type": "markdown",
   "metadata": {
    "heading_collapsed": true
   },
   "source": [
    "## get_f_k"
   ]
  },
  {
   "cell_type": "code",
   "execution_count": 528,
   "metadata": {
    "ExecuteTime": {
     "end_time": "2021-08-11T16:36:25.619604Z",
     "start_time": "2021-08-11T16:36:25.364023Z"
    },
    "hidden": true,
    "scrolled": false
   },
   "outputs": [
    {
     "data": {
      "text/plain": [
       "[<matplotlib.lines.Line2D at 0x7fbd708c4050>]"
      ]
     },
     "execution_count": 528,
     "metadata": {},
     "output_type": "execute_result"
    },
    {
     "data": {
      "image/png": "[encoded data removed]",
      "text/plain": [
       "<Figure size 432x288 with 1 Axes>"
      ]
     },
     "metadata": {
      "needs_background": "light"
     },
     "output_type": "display_data"
    }
   ],
   "source": [
    "def get_f_k(k,Te,ne):\n",
    "    \n",
    "    #print('>>> get_FD_dist ... ')\n",
    "    \n",
    "    # Te : J\n",
    "    # ne : 1/m^3\n",
    "    \n",
    "    E_K = (hbar*k)**2/(2*massElectronReduced) # J\n",
    "    \n",
    "    mu = get_mu(ne,Te) # J\n",
    "    \n",
    "    #print(E_K)\n",
    "    \n",
    "    exponent=(E_K-mu)/Te\n",
    "        \n",
    "    if exponent < 150 : \n",
    "        f_k = 1/(math.exp(exponent)+1) # unitless\n",
    "    else : \n",
    "        f_k = 0\n",
    "    \n",
    "    if 0 : \n",
    "        print('exponent,f_k,Te/eV,ne,mu,E_K = ',\n",
    "              \"{:.3e}\".format(exponent),\n",
    "              \"{:.3e}\".format(f_k),\n",
    "              \"{:.3e}\".format(Te/eV),\n",
    "              \"{:.3e}\".format(ne),\n",
    "              \"{:.3e}\".format(mu),\n",
    "              \"{:.3e}\".format(E_K/eV))    \n",
    "    \n",
    "    return f_k # unitless\n",
    "\n",
    "T = 0.03*eV\n",
    "ne = 10**22*100**3\n",
    "get_f_k(kmin_EAP,T,ne) \n",
    "\n",
    "#temp = [ T for T in np.arange(0.01,10,0.01)]\n",
    "#f_k = [get_f_k(kmin_EAP,Te*eV,10**22*100**3)  for Te in temp]\n",
    "#plt.plot(temp,f_k)\n",
    "\n",
    "kvalue = [ k for k in np.arange(kmin_EAP,kBZ,(kBZ-kmin_EAP)/100)]\n",
    "f_k = [get_f_k(k,T,ne)  for k in kvalue]\n",
    "plt.plot(kvalue,f_k)"
   ]
  },
  {
   "cell_type": "markdown",
   "metadata": {
    "heading_collapsed": true
   },
   "source": [
    "## get_OMEGA"
   ]
  },
  {
   "cell_type": "code",
   "execution_count": 82,
   "metadata": {
    "ExecuteTime": {
     "end_time": "2021-08-10T23:18:30.394685Z",
     "start_time": "2021-08-10T23:18:30.084897Z"
    },
    "hidden": true
   },
   "outputs": [
    {
     "name": "stdout",
     "output_type": "stream",
     "text": [
      "omegaAO  (1/s) =  5548542.653501729\n",
      "omegaLO1 (1/s) =  110564549791022.64\n",
      "omegaLO2 (1/s) =  292517082890764.75\n"
     ]
    },
    {
     "data": {
      "text/plain": [
       "[<matplotlib.lines.Line2D at 0x7fbd60d1b090>]"
      ]
     },
     "execution_count": 82,
     "metadata": {},
     "output_type": "execute_result"
    },
    {
     "data": {
      "image/png": "[encoded data removed]",
      "text/plain": [
       "<Figure size 432x288 with 1 Axes>"
      ]
     },
     "metadata": {
      "needs_background": "light"
     },
     "output_type": "display_data"
    }
   ],
   "source": [
    "def get_OMEGA(ka,m):\n",
    "    \n",
    "    if 0 : print('>>> get_OMEGA ...')\n",
    "    \n",
    "    # Normal Vibrations and Their Dispersion in Syndiotactic Polystyrene\n",
    "    # SHANTANU RASTOGI and V. D. GUPTA\n",
    "    # J. MACKOMOL. SC1.-PHYS., B33(2), 129-141 (1994)\n",
    "        \n",
    "    alpha = -mPh*mCH*mCH2\n",
    "    beta  = G*mCH2*(mCH+mPh)+2*K*mPh*(mCH+mCH2)\n",
    "    gamma = (4*K**2*np.cos(ka/2)**2-2*K*(2*K+G))*mPh-2*G*K*(mCH+mCH2)\n",
    "    delta = 4*G*K**2*(1-np.cos(ka/2)**2)\n",
    "    \n",
    "    p = -beta**2/(3*alpha**2)+gamma/alpha\n",
    "    q = 2*beta**3/(27*alpha**3)-9*beta*gamma/(27*alpha**2)+delta/alpha\n",
    "    \n",
    "    argument = 1/3*np.arccos(3*q/(2*p)*np.sqrt(-3/p))+2*(m+1)*np.pi/3    \n",
    "    zm = 2*np.sqrt(-p/3)*np.cos(argument)\n",
    "    \n",
    "    omega = np.sqrt(zm - beta/(3*alpha))\n",
    "    \n",
    "    #return omega*hbar/meV/2 # meV\n",
    "    return omega # 1/s\n",
    "\n",
    "omegaAO  = get_OMEGA(ka=0,m=0) # 1/s\n",
    "omegaLO1 = get_OMEGA(ka=0,m=1) # 1/s\n",
    "omegaLO2 = get_OMEGA(ka=0,m=2) # 1/s\n",
    "    \n",
    "print('omegaAO  (1/s) = ',omegaAO )\n",
    "print('omegaLO1 (1/s) = ',omegaLO1)  \n",
    "print('omegaLO2 (1/s) = ',omegaLO2)  \n",
    "\n",
    "xdata    = [ ka for ka in np.arange(-np.pi,np.pi,0.01)]\n",
    "ydata_m0 = [ get_OMEGA(ka=x,m=0) for x in xdata]\n",
    "ydata_m1 = [ get_OMEGA(ka=x,m=1) for x in xdata]\n",
    "ydata_m2 = [ get_OMEGA(ka=x,m=2) for x in xdata]\n",
    "\n",
    "plt.plot(xdata,ydata_m0)\n",
    "plt.plot(xdata,ydata_m1)\n",
    "plt.plot(xdata,ydata_m2)"
   ]
  },
  {
   "cell_type": "markdown",
   "metadata": {
    "heading_collapsed": true
   },
   "source": [
    "## get_report_omega"
   ]
  },
  {
   "cell_type": "code",
   "execution_count": 75,
   "metadata": {
    "ExecuteTime": {
     "end_time": "2021-08-10T20:44:12.035706Z",
     "start_time": "2021-08-10T20:43:59.188264Z"
    },
    "hidden": true
   },
   "outputs": [
    {
     "name": "stdout",
     "output_type": "stream",
     "text": [
      "Save as                        : polystyrene_dispersion_relation\n",
      "path_local                     : /Users/kwoo/Desktop/PostDoc/InitialPlasma/python\n",
      "path_save                      : /Users/kwoo/Desktop/PostDoc/InitialPlasma/reports/plots/\n"
     ]
    },
    {
     "data": {
      "image/png": "[encoded data removed]",
      "text/plain": [
       "<Figure size 468x288 with 1 Axes>"
      ]
     },
     "metadata": {
      "needs_background": "light"
     },
     "output_type": "display_data"
    }
   ],
   "source": [
    "def get_report_omega(exportFlag):\n",
    "    \n",
    "    plt.close('all')\n",
    "    fig = plt.figure(figsize=[6.5,4])\n",
    "    fs,fs2,fs3,fs4=20,15,18,10\n",
    "\n",
    "    label1 = r'\\textbf{$\\omega_{\\mathrm{LA}}$}'\n",
    "    label2 = r'\\textbf{$\\omega_{\\mathrm{LO,1}}$}'\n",
    "    label3 = r'\\textbf{$\\omega_{\\mathrm{LO,2}}$}'\n",
    "\n",
    "    nrow,ncol=1,1\n",
    "    ax1 = plt.subplot2grid((nrow, ncol), (0,0), colspan=1, rowspan=1) \n",
    "\n",
    "    ax1.plot(xdata,ydata_m0,c='k',label=label1)\n",
    "    ax1.plot(xdata,ydata_m1,c='r',label=label2)\n",
    "    ax1.plot(xdata,ydata_m2,c='g',label=label3)\n",
    "\n",
    "    ax1.tick_params(which='major',length=10,labelsize=fs2)\n",
    "    ax1.set_xlabel(r'\\textbf{$k_x a$ (deg.)}',fontsize=fs)\n",
    "    ax1.set_ylabel(r'\\textbf{$\\hbar \\omega$ (meV)}',fontsize=fs)\n",
    "    ax1.legend(fontsize=fs2,loc='upper right',numpoints=1)\n",
    "    ax1.set_xlim([-np.pi,np.pi])\n",
    "    ax1.grid()\n",
    "    \n",
    "    plt.sca(ax1)\n",
    "    plt.xticks([-np.pi,-np.pi/2,0,np.pi/2,np.pi],\n",
    "               [r'$-180^\\circ$',r'$-90^\\circ$',r'$0^\\circ$',r'$90^\\circ$',r'$180^\\circ$'])   \n",
    "\n",
    "    plt.tight_layout()\n",
    "    if exportFlag : \n",
    "        export_name = 'polystyrene_dispersion_relation'\n",
    "        print(f'{\"Save as\":30}',':',export_name)\n",
    "        path = '/Users/kwoo/Desktop/PostDoc/InitialPlasma/reports/plots/'\n",
    "        print(f'{\"path_local\":30}',':',str(pathlib.Path().absolute()))    \n",
    "        print(f'{\"path_save\":30}',':',path)\n",
    "        plt.savefig(path+export_name+'.eps',format='eps')\n",
    "        plt.savefig(path+export_name,dpi=500) \n",
    "    plt.show() \n",
    "              \n",
    "get_report_omega(exportFlag=1)"
   ]
  },
  {
   "cell_type": "markdown",
   "metadata": {
    "heading_collapsed": true
   },
   "source": [
    "## get_EAP_rate"
   ]
  },
  {
   "cell_type": "code",
   "execution_count": 314,
   "metadata": {
    "ExecuteTime": {
     "end_time": "2021-08-11T02:19:37.989874Z",
     "start_time": "2021-08-11T02:19:37.980617Z"
    },
    "hidden": true
   },
   "outputs": [
    {
     "data": {
      "text/plain": [
       "284991351957.0703"
      ]
     },
     "execution_count": 314,
     "metadata": {},
     "output_type": "execute_result"
    }
   ],
   "source": [
    "def get_EAP_rate(k,Ti,rho):\n",
    "    \n",
    "    #print('>>> get_EAP_rate ...')\n",
    "\n",
    "    # Ti : J\n",
    "    # rho : kg/m^3\n",
    "    \n",
    "    factor_1 = Upotential**2*Ti*massElectronReduced\n",
    "    factor_2 = 2*np.pi*rho*cs**2*hbar**3*k\n",
    "    factor_3 = k**2 + (massElectronReduced*cs/hbar)**2\n",
    "    \n",
    "    return factor_1/factor_2*factor_3\n",
    "    \n",
    "get_EAP_rate(kmin_EAP,Ti,rho)"
   ]
  },
  {
   "cell_type": "markdown",
   "metadata": {
    "heading_collapsed": true
   },
   "source": [
    "## get_EAP_rate_avg"
   ]
  },
  {
   "cell_type": "code",
   "execution_count": 902,
   "metadata": {
    "ExecuteTime": {
     "end_time": "2021-08-12T18:37:30.076451Z",
     "start_time": "2021-08-12T18:37:25.583581Z"
    },
    "hidden": true
   },
   "outputs": [
    {
     "data": {
      "image/png": "[encoded data removed]",
      "text/plain": [
       "<Figure size 432x288 with 1 Axes>"
      ]
     },
     "metadata": {
      "needs_background": "light"
     },
     "output_type": "display_data"
    }
   ],
   "source": [
    "def get_EAP_rate_avg(Te,Ti,ne,rho):\n",
    "    \n",
    "    #print('>>> get_EAP_rate_avg ...')\n",
    "    \n",
    "    # Te : J\n",
    "    # Ti : J\n",
    "    # rho : kg/m^3\n",
    "    # ne : 1/m^3\n",
    "    \n",
    "    #k = np.sqrt((3/2*Te)*2*massElectronReduced)/hbar\n",
    "    \n",
    "    V = (dCC*2)**3 # m^3\n",
    "    \n",
    "    g_k = 2*V/(8*np.pi**3) # m^3\n",
    "    \n",
    "    f_k = get_f_k(kmin_EAP,Te,ne)\n",
    "    \n",
    "    m = 2\n",
    "    \n",
    "    result1 = integrate.quad(lambda k: g_k * get_f_k(k,Te,ne)*k**m * \\\n",
    "                             get_EAP_rate(k,Ti,rho) , kmin_EAP, kBZ)[0]\n",
    "\n",
    "    result2 = integrate.quad(lambda k: g_k * get_f_k(k,Te,ne)*k**m , kmin_EAP, kBZ)[0]\n",
    "    \n",
    "    residue = 10**-100\n",
    "    \n",
    "    EAP_rate_avg = result1/(result2+residue) # 1/s\n",
    "    #EAP_rate_avg = result2 # 1/s\n",
    "    \n",
    "    if 0 :\n",
    "        print('EAP_rate_avg = ',\"{:.3e}\".format(EAP_rate_avg),\n",
    "              ', Te (eV) = ',\"{:.3e}\".format(Te/eV))    \n",
    "    \n",
    "    return EAP_rate_avg\n",
    "\n",
    "    \n",
    "T = 0.01*eV\n",
    "ne = 10**22*100**3\n",
    "get_EAP_rate_avg(T,T,ne,rho)\n",
    "#get_EAP_rate_avg(Te,Ti,10**22*100**3,rho)\n",
    "\n",
    "#temp = [ T for T in np.arange(0.01,100,0.01)]\n",
    "\n",
    "temp      = [ T for T in np.arange(0.001,Tc/eV,0.0001)]\n",
    "collFreq2 = [get_EAP_rate_avg(T*eV,T*eV,10**22*100**3,rho) for T in temp]\n",
    "\n",
    "plt.loglog(temp,collFreq2)\n",
    "plt.grid()"
   ]
  },
  {
   "cell_type": "markdown",
   "metadata": {
    "heading_collapsed": true
   },
   "source": [
    "## get_EOP_rate"
   ]
  },
  {
   "cell_type": "code",
   "execution_count": 521,
   "metadata": {
    "ExecuteTime": {
     "end_time": "2021-08-11T16:34:13.700990Z",
     "start_time": "2021-08-11T16:34:13.684365Z"
    },
    "hidden": true
   },
   "outputs": [],
   "source": [
    "def get_EOP_rate(k,omega_LO,Ti,flag_emit,flag_absrob):\n",
    "    \n",
    "    #print('>>> get_EOP_rate ...')\n",
    "    \n",
    "    # omega_LO : 1/s\n",
    "    # Ti : J\n",
    "\n",
    "    factor1 = eCharge**2*massElectronReduced*omega_LO/(hbar**2*k)/(4*np.pi)\n",
    "    factor2 = (1/varepsilon_infty - 1/varepsilon_0)/vacuumPermittivity    \n",
    "    g_LO    = 1/(math.exp(hbar*omega_LO/Ti)-1)\n",
    "    \n",
    "    energy_LO  = hbar*omega_LO # J\n",
    "    energy_ele = (hbar*k)**2/(2*massElectronReduced) # J\n",
    "        \n",
    "    if (flag_emit==1) and (flag_absrob==0) :\n",
    "        inside = max(1 - energy_LO/energy_ele,0)\n",
    "        ln     = np.log((1 + inside**0.5)/(1 - inside**0.5))\n",
    "        rate   = factor1*factor2*(g_LO+1)*ln\n",
    "        \n",
    "        \n",
    "    if (flag_emit==0) and (flag_absrob==1) :\n",
    "        inside = 1 + energy_LO/energy_ele\n",
    "        ln     = np.log((inside**0.5 + 1)/(inside**0.5 - 1))\n",
    "        rate   = factor1*factor2*g_LO*ln\n",
    "        \n",
    "    if 0 :\n",
    "        #print('factor1 = ',factor1)\n",
    "        #print('factor2 = ',factor2)\n",
    "        print('factor1*factor2 = ',\"{:.3e}\".format(factor1*factor2))\n",
    "        print('g_LO = ',g_LO)\n",
    "        #print('hbar*omega_LO/eV = ',hbar*omega_LO/eV)\n",
    "        #print('energy_LO/eV = ',\"{:.3e}\".format(energy_LO/eV))\n",
    "        #print('energy_ele/eV = ',\"{:.3e}\".format(energy_ele/eV))    \n",
    "        #print('Ti/eV = ',Ti/eV)\n",
    "        print('inside = ',\"{:.3e}\".format(inside))\n",
    "        print('energy_LO/energy_ele = ',\"{:.3e}\".format(energy_LO/energy_ele))  \n",
    "        print('ln = ',\"{:.3e}\".format(ln)) \n",
    "        print('rate = ',\"{:.3e}\".format(rate))     \n",
    "        print()\n",
    "            \n",
    "    return rate # 1/s\n",
    "\n",
    "T = 0.02*eV\n",
    "\n",
    "EOP_emit1 = get_EOP_rate(kmin_EOP_emit1,omega_LO1,Ti,1,0)\n",
    "EOP_emit2 = get_EOP_rate(kmin_EOP_emit2,omega_LO2,Ti,1,0)\n",
    "\n",
    "#EOP_absrob1 = get_EOP_rate(kmin_EOP_absrob,omega_LO1,Ti,0,1)\n",
    "#EOP_absrob2 = get_EOP_rate(kmin_EOP_absrob,omega_LO2,Ti,0,1)\n",
    "\n",
    "#print(get_EOP_rate_avg(T*eV,T*eV,1*10**22*100**3,rho))"
   ]
  },
  {
   "cell_type": "markdown",
   "metadata": {
    "heading_collapsed": true
   },
   "source": [
    "## get_EOP_rate_avg"
   ]
  },
  {
   "cell_type": "code",
   "execution_count": 854,
   "metadata": {
    "ExecuteTime": {
     "end_time": "2021-08-11T23:03:31.394298Z",
     "start_time": "2021-08-11T23:03:31.240799Z"
    },
    "hidden": true,
    "scrolled": false
   },
   "outputs": [
    {
     "name": "stdout",
     "output_type": "stream",
     "text": [
      "115353635880403.2 2601626157159467.0 22.55348205804966\n"
     ]
    }
   ],
   "source": [
    "def get_EOP_rate_avg(Te,Ti,ne,rho):\n",
    "    \n",
    "    #print('>>> get_EAP_rate_avg ...')\n",
    "    \n",
    "    # Te : J\n",
    "    # Ti : J\n",
    "    # rho : kg/m^3\n",
    "    # ne : 1/m^3\n",
    "    \n",
    "    V = (dCC*2)**3 # m^3\n",
    "    \n",
    "    g_k = 2*V/(8*np.pi**3) # m^3\n",
    "    \n",
    "    m = 2\n",
    "    \n",
    "    result1 = integrate.quad(lambda k: g_k * get_f_k(k,Te,ne)*k**m * \\\n",
    "                             get_EOP_rate(k,omega_LO1,Ti,1,0) ,    kmin_EOP_emit1, kBZ)\n",
    "    result2 = integrate.quad(lambda k: g_k * get_f_k(k,Te,ne)*k**m,kmin_EOP_emit1, kBZ)\n",
    "    \n",
    "    result3 = integrate.quad(lambda k: g_k * get_f_k(k,Te,ne)*k**m * \\\n",
    "                             get_EOP_rate(k,omega_LO2,Ti,1,0) ,    kmin_EOP_emit2, kBZ)\n",
    "    result4 = integrate.quad(lambda k: g_k * get_f_k(k,Te,ne)*k**m,kmin_EOP_emit2, kBZ)\n",
    "    \n",
    "    result5 = integrate.quad(lambda k: g_k * get_f_k(k,Te,ne)*k**m * \\\n",
    "                             get_EOP_rate(k,omega_LO1,Ti,0,1) ,    kmin_EOP_absrob, kBZ)\n",
    "    result6 = integrate.quad(lambda k: g_k * get_f_k(k,Te,ne)*k**m,kmin_EOP_absrob, kBZ)\n",
    "    \n",
    "    result7 = integrate.quad(lambda k: g_k * get_f_k(k,Te,ne)*k**m * \\\n",
    "                             get_EOP_rate(k,omega_LO2,Ti,0,1) ,    kmin_EOP_absrob, kBZ)\n",
    "    result8 = integrate.quad(lambda k: g_k * get_f_k(k,Te,ne)*k**m,kmin_EOP_absrob, kBZ)\n",
    "    \n",
    "    residue = 10**-100\n",
    "    \n",
    "    EOP_rate_emit1 = result1[0]/(result2[0]+residue)\n",
    "    EOP_rate_emit2 = result3[0]/(result4[0]+residue)\n",
    "    EOP_rate_absorb1 = result5[0]/(result6[0]+residue)\n",
    "    EOP_rate_absorb2 = result7[0]/(result8[0]+residue)   \n",
    "    \n",
    "    EOP_rate = EOP_rate_emit1*1   + \\\n",
    "               EOP_rate_emit2*1   + \\\n",
    "               EOP_rate_absorb1*1 + \\\n",
    "               EOP_rate_absorb2*1\n",
    "    \n",
    "    if 0 : \n",
    "        print('EOP_rate_emit1   = ',\"{:.3e}\".format(EOP_rate_emit1))\n",
    "        print('EOP_rate_emit2   = ',\"{:.3e}\".format(EOP_rate_emit2))\n",
    "        print('EOP_rate_absorb1 = ',\"{:.3e}\".format(EOP_rate_absorb1))    \n",
    "        print('EOP_rate_absorb2 = ',\"{:.3e}\".format(EOP_rate_absorb2))\n",
    "        \n",
    "        print('result2[0] = ',\"{:.3e}\".format(result2[0]))        \n",
    "        print('result4[0] = ',\"{:.3e}\".format(result4[0])) \n",
    "        print('result6[0] = ',\"{:.3e}\".format(result6[0]))                \n",
    "    \n",
    "    return EOP_rate\n",
    "    \n",
    "T = 0.058    \n",
    "EAP_1 = get_EAP_rate_avg(T*eV,T*eV,1*10**22*100**3,rho)\n",
    "EOP_1 = get_EOP_rate_avg(T*eV,T*eV,1*10**22*100**3,rho)\n",
    "\n",
    "print(EAP_1,EOP_1,EOP_1/EAP_1)\n",
    "\n",
    "if 0 : \n",
    "    temp0     = np.array([ T for T in np.arange(0.001,Tc/eV,0.0001)])\n",
    "    collFreq2 = np.array([ get_EAP_rate_avg(T*eV,T*eV,3*10**22*100**3,rho) for T in temp0 ])\n",
    "    collFreq3 = np.array([ get_EOP_rate_avg(T*eV,T*eV,3*10**22*100**3,rho) for T in temp0 ])\n",
    "\n",
    "    plt.loglog(temp0,collFreq2)\n",
    "    plt.loglog(temp0,collFreq3)\n",
    "    plt.grid()"
   ]
  },
  {
   "cell_type": "markdown",
   "metadata": {
    "heading_collapsed": true
   },
   "source": [
    "## get_lambda_DH"
   ]
  },
  {
   "cell_type": "code",
   "execution_count": 586,
   "metadata": {
    "ExecuteTime": {
     "end_time": "2021-08-11T18:08:45.857242Z",
     "start_time": "2021-08-11T18:08:45.840664Z"
    },
    "hidden": true
   },
   "outputs": [
    {
     "data": {
      "text/plain": [
       "3.0633571043286097e-14"
      ]
     },
     "execution_count": 586,
     "metadata": {},
     "output_type": "execute_result"
    }
   ],
   "source": [
    "def get_lambda_DH(Te,Ti,ne,ni):\n",
    "        \n",
    "    # Te : J\n",
    "    # Ti : J  \n",
    "    # ne : 1/m^3\n",
    "    # ni : 1/m^3\n",
    "    \n",
    "    E_Fermi = get_E_Fermi(ne) # J    \n",
    "    T_Fermi = E_Fermi*2/3     # J\n",
    "    \n",
    "    Te_erg = Te*J_to_erg      # erg\n",
    "    Ti_erg = Ti*J_to_erg      # erg\n",
    "    Tf_erg = T_Fermi*J_to_erg # erg\n",
    "    \n",
    "    ne_gcc = ne/gcm3_to_kgm3  # g/cm^3\n",
    "    ni_gcc = ni/gcm3_to_kgm3  # g/cm^3\n",
    "        \n",
    "    part1 = 4*np.pi*ne_gcc*eCharge_ESU**2/np.sqrt(Te_erg**2+Tf_erg**2)\n",
    "    part2 = 4*np.pi*ni_gcc*eCharge_ESU**2*Z_CH**2/Ti_erg\n",
    "    \n",
    "    lambda_DH_cm = (part1 + part2)**(-1/2)     # cm\n",
    "    lambda_DH    = (part1 + part2)**(-1/2)/100 # m    \n",
    "    \n",
    "    if 0 : \n",
    "        print(' >>> get_lambda_DH ... ')    \n",
    "        print('E_Fermi/eV = ',\"{:.3e}\".format(E_Fermi/eV))\n",
    "        print('T_Fermi/eV = ',\"{:.3e}\".format(T_Fermi/eV))    \n",
    "        print('part1 = ',\"{:.3e}\".format(part1))\n",
    "        print('part2 = ',\"{:.3e}\".format(part2))    \n",
    "        print('lambda_DH (m) = ',\"{:.3e}\".format(lambda_DH)) \n",
    "    \n",
    "    return lambda_DH # m\n",
    "    \n",
    "get_lambda_DH(Te,Ti,10**22*100**3,n_a_CH)    "
   ]
  },
  {
   "cell_type": "markdown",
   "metadata": {
    "heading_collapsed": true
   },
   "source": [
    "## get_R_cloest"
   ]
  },
  {
   "cell_type": "code",
   "execution_count": 601,
   "metadata": {
    "ExecuteTime": {
     "end_time": "2021-08-11T18:48:47.837734Z",
     "start_time": "2021-08-11T18:48:47.826608Z"
    },
    "hidden": true
   },
   "outputs": [
    {
     "data": {
      "text/plain": [
       "8.958160238357753e-17"
      ]
     },
     "execution_count": 601,
     "metadata": {},
     "output_type": "execute_result"
    }
   ],
   "source": [
    "def get_R_cloest(Te,Ti,ne,ni):\n",
    "    \n",
    "    lambda_DH = get_lambda_DH(Te,Ti,ne,ni) # m\n",
    "    \n",
    "    w = lambertw(2*Z_CH*eCharge**2/(lambda_DH*Te)) # unitless\n",
    "    \n",
    "    R_cloest = lambda_DH*np.real(w) # m\n",
    "    \n",
    "    if 0 :\n",
    "        print('>>> get_R_cloest ... ')    \n",
    "        print('lambda_DH (m) = ',lambda_DH)\n",
    "        print('w, np.real(w) = ',w,np.real(w))\n",
    "        print('R_cloest  (m) = ',R_cloest)\n",
    "    \n",
    "    return R_cloest # m\n",
    "    \n",
    "get_R_cloest(Te,Ti,10**22*100**3,n_a_CH)    "
   ]
  },
  {
   "cell_type": "markdown",
   "metadata": {
    "heading_collapsed": true
   },
   "source": [
    "## get_R_Broglie"
   ]
  },
  {
   "cell_type": "code",
   "execution_count": 615,
   "metadata": {
    "ExecuteTime": {
     "end_time": "2021-08-11T18:58:03.837145Z",
     "start_time": "2021-08-11T18:58:03.829248Z"
    },
    "hidden": true
   },
   "outputs": [
    {
     "data": {
      "text/plain": [
       "1.0976946109186968e-08"
      ]
     },
     "execution_count": 615,
     "metadata": {},
     "output_type": "execute_result"
    }
   ],
   "source": [
    "def get_R_Broglie(Te):    \n",
    "    \n",
    "    R_Broglie = hbar*(2*np.pi)/np.sqrt(massElectron*Te) # m\n",
    "    \n",
    "    if 0 : \n",
    "        print(' >>> get_R_Broglie ... ')    \n",
    "        print('R_Broglie = ',R_Broglie)\n",
    "    \n",
    "    return R_Broglie # m\n",
    "    \n",
    "get_R_Broglie(Te)    "
   ]
  },
  {
   "cell_type": "markdown",
   "metadata": {
    "heading_collapsed": true
   },
   "source": [
    "## get_theta"
   ]
  },
  {
   "cell_type": "code",
   "execution_count": 651,
   "metadata": {
    "ExecuteTime": {
     "end_time": "2021-08-11T19:27:17.209684Z",
     "start_time": "2021-08-11T19:27:17.203376Z"
    },
    "hidden": true
   },
   "outputs": [],
   "source": [
    "def get_theta(b,bmax,Te,Ti,ne,ni):\n",
    "    \n",
    "    print(' >>> get_theta ... ')\n",
    "    \n",
    "    lambda_DH = get_lambda_DH(Te,Ti,ne,ni)\n",
    "    \n",
    "    R_cloest = get_R_cloest(Te,Ti,ne,ni)\n",
    "    \n",
    "    theta = integrate.quad(lambda r:r**(-2)*(1-2/Te*Z_CH*eCharge**2/r*math.exp(-r/lambda_DH)-(b/r)**2)**(-1/2),R_cloest,bmax) \n",
    "    \n",
    "    print(theta)\n",
    "    \n",
    "#get_theta(0,1.9964727358293832e-10,Te,Ti,10**22*100**3,n_a_CH)   "
   ]
  },
  {
   "cell_type": "markdown",
   "metadata": {
    "heading_collapsed": true
   },
   "source": [
    "## get_Coulomb_Log"
   ]
  },
  {
   "cell_type": "code",
   "execution_count": 654,
   "metadata": {
    "ExecuteTime": {
     "end_time": "2021-08-11T19:28:06.110170Z",
     "start_time": "2021-08-11T19:28:06.096408Z"
    },
    "hidden": true
   },
   "outputs": [
    {
     "data": {
      "text/plain": [
       "1"
      ]
     },
     "execution_count": 654,
     "metadata": {},
     "output_type": "execute_result"
    }
   ],
   "source": [
    "def get_Coulomb_Log(Te,Ti,ne,ni):\n",
    "         \n",
    "    R_cloest = get_R_cloest(Te,Ti,ne,ni)\n",
    "    \n",
    "    R_Broglie = get_R_Broglie(Te)\n",
    "    \n",
    "    lambda_DH = get_lambda_DH(Te,Ti,ne,ni)\n",
    "    \n",
    "    ai = (3/(4*np.pi*ni))**(1/3) # m\n",
    "    \n",
    "    bmin = 0.5 * max(R_cloest, R_Broglie) # m\n",
    "        \n",
    "    bmax = np.sqrt(lambda_DH**2+ai**2) # m\n",
    "    \n",
    "    Coulomb_Log = max(1/2*np.log(1+bmax**2/bmin**2),1)\n",
    "        \n",
    "    if 0 : \n",
    "        print('>>> get_Coulomb_Log ... ')        \n",
    "        print('R_cloest  (m) = ',R_cloest)\n",
    "        print('R_Broglie (m) = ',R_Broglie)\n",
    "        print('bmin (m)      = ',bmin) \n",
    "        print('lambda_DH (m) = ',lambda_DH)\n",
    "        print('ai (m)        = ',ai) \n",
    "        print('bmax (m)      = ',bmax)\n",
    "        print('Coulomb_Log   = ',Coulomb_Log)\n",
    "        \n",
    "    return Coulomb_Log\n",
    "    \n",
    "get_Coulomb_Log(Te,Ti,10**22*100**3,n_a_CH)     "
   ]
  },
  {
   "cell_type": "markdown",
   "metadata": {},
   "source": [
    "## get_vc_neutral"
   ]
  },
  {
   "cell_type": "code",
   "execution_count": 1579,
   "metadata": {
    "ExecuteTime": {
     "end_time": "2021-08-22T21:51:31.571164Z",
     "start_time": "2021-08-22T21:51:30.565115Z"
    }
   },
   "outputs": [
    {
     "data": {
      "image/png": "[encoded data removed]",
      "text/plain": [
       "<Figure size 432x288 with 1 Axes>"
      ]
     },
     "metadata": {
      "needs_background": "light"
     },
     "output_type": "display_data"
    }
   ],
   "source": [
    "def get_vc_neutral(Te,ni,ne,mode):\n",
    "    \n",
    "    sigma = np.pi*(dCC)**2 # m^2\n",
    "    \n",
    "    if mode == 0 : \n",
    "        n0 = ni - ne\n",
    "        \n",
    "    if mode == 1 :     \n",
    "        Z_eff = get_Zeff(ni,Te)\n",
    "        ne_eff = ni*Z_eff\n",
    "        n0 = ni - min(ne_eff,ni)\n",
    "    \n",
    "    vc_neutral = n0*sigma*np.sqrt(Te/massElectron) # 1/s\n",
    "    \n",
    "    if 0 : \n",
    "        print('>>> get_vc_neutral ... ')\n",
    "        print('vc_neutral = ',\"{:.3e}\".format(vc_neutral))\n",
    "    \n",
    "    return vc_neutral\n",
    "    \n",
    "#get_vc_neutral(1*eV,n_a_CH,0.025*eV,0.) \n",
    "\n",
    "temp4 = [ T for T in np.arange(0.025,1000,1)]\n",
    "collFreq4_mode0 = [get_vc_neutral(T*eV,n_a_CH,1*10**22*100**3,0) for T in temp4]\n",
    "collFreq4_mode1 = [get_vc_neutral(T*eV,n_a_CH,1*10**22*100**3,1) for T in temp4]\n",
    "\n",
    "plt.loglog(temp4,collFreq4_mode0)\n",
    "plt.loglog(temp4,collFreq4_mode1)\n",
    "plt.grid()"
   ]
  },
  {
   "cell_type": "markdown",
   "metadata": {},
   "source": [
    "## get_FD_integral"
   ]
  },
  {
   "cell_type": "code",
   "execution_count": 1127,
   "metadata": {
    "ExecuteTime": {
     "end_time": "2021-08-16T17:43:45.476131Z",
     "start_time": "2021-08-16T17:43:45.447236Z"
    }
   },
   "outputs": [
    {
     "ename": "TypeError",
     "evalue": "unsupported operand type(s) for -: 'float' and 'list'",
     "output_type": "error",
     "traceback": [
      "\u001b[0;31m---------------------------------------------------------------------------\u001b[0m",
      "\u001b[0;31mTypeError\u001b[0m                                 Traceback (most recent call last)",
      "\u001b[0;32m<ipython-input-1127-3a3c3d07f06d>\u001b[0m in \u001b[0;36m<module>\u001b[0;34m\u001b[0m\n\u001b[1;32m      9\u001b[0m     \u001b[0;32mreturn\u001b[0m \u001b[0mFD_integral\u001b[0m\u001b[0;34m\u001b[0m\u001b[0;34m\u001b[0m\u001b[0m\n\u001b[1;32m     10\u001b[0m \u001b[0;34m\u001b[0m\u001b[0m\n\u001b[0;32m---> 11\u001b[0;31m \u001b[0mget_FD_integral\u001b[0m\u001b[0;34m(\u001b[0m\u001b[0mx\u001b[0m\u001b[0;34m)\u001b[0m\u001b[0;34m\u001b[0m\u001b[0;34m\u001b[0m\u001b[0m\n\u001b[0m",
      "\u001b[0;32m<ipython-input-1127-3a3c3d07f06d>\u001b[0m in \u001b[0;36mget_FD_integral\u001b[0;34m(x)\u001b[0m\n\u001b[1;32m      1\u001b[0m \u001b[0;32mdef\u001b[0m \u001b[0mget_FD_integral\u001b[0m\u001b[0;34m(\u001b[0m\u001b[0mx\u001b[0m\u001b[0;34m)\u001b[0m\u001b[0;34m:\u001b[0m\u001b[0;34m\u001b[0m\u001b[0;34m\u001b[0m\u001b[0m\n\u001b[1;32m      2\u001b[0m \u001b[0;34m\u001b[0m\u001b[0m\n\u001b[0;32m----> 3\u001b[0;31m     \u001b[0mFD_integral\u001b[0m \u001b[0;34m=\u001b[0m \u001b[0mintegrate\u001b[0m\u001b[0;34m.\u001b[0m\u001b[0mquad\u001b[0m\u001b[0;34m(\u001b[0m\u001b[0;32mlambda\u001b[0m \u001b[0mt\u001b[0m\u001b[0;34m:\u001b[0m\u001b[0mt\u001b[0m\u001b[0;34m**\u001b[0m\u001b[0;36m0.5\u001b[0m\u001b[0;34m/\u001b[0m\u001b[0;34m(\u001b[0m\u001b[0;36m1\u001b[0m\u001b[0;34m+\u001b[0m\u001b[0mmath\u001b[0m\u001b[0;34m.\u001b[0m\u001b[0mexp\u001b[0m\u001b[0;34m(\u001b[0m\u001b[0mt\u001b[0m\u001b[0;34m-\u001b[0m\u001b[0mx\u001b[0m\u001b[0;34m)\u001b[0m\u001b[0;34m)\u001b[0m\u001b[0;34m,\u001b[0m\u001b[0;36m0\u001b[0m\u001b[0;34m,\u001b[0m\u001b[0;36m100\u001b[0m\u001b[0;34m)\u001b[0m\u001b[0;34m[\u001b[0m\u001b[0;36m0\u001b[0m\u001b[0;34m]\u001b[0m\u001b[0;34m\u001b[0m\u001b[0;34m\u001b[0m\u001b[0m\n\u001b[0m\u001b[1;32m      4\u001b[0m \u001b[0;34m\u001b[0m\u001b[0m\n\u001b[1;32m      5\u001b[0m     \u001b[0;32mif\u001b[0m \u001b[0;36m0\u001b[0m \u001b[0;34m:\u001b[0m\u001b[0;34m\u001b[0m\u001b[0;34m\u001b[0m\u001b[0m\n",
      "\u001b[0;32m/opt/anaconda3/lib/python3.7/site-packages/scipy/integrate/quadpack.py\u001b[0m in \u001b[0;36mquad\u001b[0;34m(func, a, b, args, full_output, epsabs, epsrel, limit, points, weight, wvar, wopts, maxp1, limlst)\u001b[0m\n\u001b[1;32m    339\u001b[0m     \u001b[0;32mif\u001b[0m \u001b[0mweight\u001b[0m \u001b[0;32mis\u001b[0m \u001b[0;32mNone\u001b[0m\u001b[0;34m:\u001b[0m\u001b[0;34m\u001b[0m\u001b[0;34m\u001b[0m\u001b[0m\n\u001b[1;32m    340\u001b[0m         retval = _quad(func, a, b, args, full_output, epsabs, epsrel, limit,\n\u001b[0;32m--> 341\u001b[0;31m                        points)\n\u001b[0m\u001b[1;32m    342\u001b[0m     \u001b[0;32melse\u001b[0m\u001b[0;34m:\u001b[0m\u001b[0;34m\u001b[0m\u001b[0;34m\u001b[0m\u001b[0m\n\u001b[1;32m    343\u001b[0m         retval = _quad_weight(func, a, b, args, full_output, epsabs, epsrel,\n",
      "\u001b[0;32m/opt/anaconda3/lib/python3.7/site-packages/scipy/integrate/quadpack.py\u001b[0m in \u001b[0;36m_quad\u001b[0;34m(func, a, b, args, full_output, epsabs, epsrel, limit, points)\u001b[0m\n\u001b[1;32m    446\u001b[0m     \u001b[0;32mif\u001b[0m \u001b[0mpoints\u001b[0m \u001b[0;32mis\u001b[0m \u001b[0;32mNone\u001b[0m\u001b[0;34m:\u001b[0m\u001b[0;34m\u001b[0m\u001b[0;34m\u001b[0m\u001b[0m\n\u001b[1;32m    447\u001b[0m         \u001b[0;32mif\u001b[0m \u001b[0minfbounds\u001b[0m \u001b[0;34m==\u001b[0m \u001b[0;36m0\u001b[0m\u001b[0;34m:\u001b[0m\u001b[0;34m\u001b[0m\u001b[0;34m\u001b[0m\u001b[0m\n\u001b[0;32m--> 448\u001b[0;31m             \u001b[0;32mreturn\u001b[0m \u001b[0m_quadpack\u001b[0m\u001b[0;34m.\u001b[0m\u001b[0m_qagse\u001b[0m\u001b[0;34m(\u001b[0m\u001b[0mfunc\u001b[0m\u001b[0;34m,\u001b[0m\u001b[0ma\u001b[0m\u001b[0;34m,\u001b[0m\u001b[0mb\u001b[0m\u001b[0;34m,\u001b[0m\u001b[0margs\u001b[0m\u001b[0;34m,\u001b[0m\u001b[0mfull_output\u001b[0m\u001b[0;34m,\u001b[0m\u001b[0mepsabs\u001b[0m\u001b[0;34m,\u001b[0m\u001b[0mepsrel\u001b[0m\u001b[0;34m,\u001b[0m\u001b[0mlimit\u001b[0m\u001b[0;34m)\u001b[0m\u001b[0;34m\u001b[0m\u001b[0;34m\u001b[0m\u001b[0m\n\u001b[0m\u001b[1;32m    449\u001b[0m         \u001b[0;32melse\u001b[0m\u001b[0;34m:\u001b[0m\u001b[0;34m\u001b[0m\u001b[0;34m\u001b[0m\u001b[0m\n\u001b[1;32m    450\u001b[0m             \u001b[0;32mreturn\u001b[0m \u001b[0m_quadpack\u001b[0m\u001b[0;34m.\u001b[0m\u001b[0m_qagie\u001b[0m\u001b[0;34m(\u001b[0m\u001b[0mfunc\u001b[0m\u001b[0;34m,\u001b[0m\u001b[0mbound\u001b[0m\u001b[0;34m,\u001b[0m\u001b[0minfbounds\u001b[0m\u001b[0;34m,\u001b[0m\u001b[0margs\u001b[0m\u001b[0;34m,\u001b[0m\u001b[0mfull_output\u001b[0m\u001b[0;34m,\u001b[0m\u001b[0mepsabs\u001b[0m\u001b[0;34m,\u001b[0m\u001b[0mepsrel\u001b[0m\u001b[0;34m,\u001b[0m\u001b[0mlimit\u001b[0m\u001b[0;34m)\u001b[0m\u001b[0;34m\u001b[0m\u001b[0;34m\u001b[0m\u001b[0m\n",
      "\u001b[0;32m<ipython-input-1127-3a3c3d07f06d>\u001b[0m in \u001b[0;36m<lambda>\u001b[0;34m(t)\u001b[0m\n\u001b[1;32m      1\u001b[0m \u001b[0;32mdef\u001b[0m \u001b[0mget_FD_integral\u001b[0m\u001b[0;34m(\u001b[0m\u001b[0mx\u001b[0m\u001b[0;34m)\u001b[0m\u001b[0;34m:\u001b[0m\u001b[0;34m\u001b[0m\u001b[0;34m\u001b[0m\u001b[0m\n\u001b[1;32m      2\u001b[0m \u001b[0;34m\u001b[0m\u001b[0m\n\u001b[0;32m----> 3\u001b[0;31m     \u001b[0mFD_integral\u001b[0m \u001b[0;34m=\u001b[0m \u001b[0mintegrate\u001b[0m\u001b[0;34m.\u001b[0m\u001b[0mquad\u001b[0m\u001b[0;34m(\u001b[0m\u001b[0;32mlambda\u001b[0m \u001b[0mt\u001b[0m\u001b[0;34m:\u001b[0m\u001b[0mt\u001b[0m\u001b[0;34m**\u001b[0m\u001b[0;36m0.5\u001b[0m\u001b[0;34m/\u001b[0m\u001b[0;34m(\u001b[0m\u001b[0;36m1\u001b[0m\u001b[0;34m+\u001b[0m\u001b[0mmath\u001b[0m\u001b[0;34m.\u001b[0m\u001b[0mexp\u001b[0m\u001b[0;34m(\u001b[0m\u001b[0mt\u001b[0m\u001b[0;34m-\u001b[0m\u001b[0mx\u001b[0m\u001b[0;34m)\u001b[0m\u001b[0;34m)\u001b[0m\u001b[0;34m,\u001b[0m\u001b[0;36m0\u001b[0m\u001b[0;34m,\u001b[0m\u001b[0;36m100\u001b[0m\u001b[0;34m)\u001b[0m\u001b[0;34m[\u001b[0m\u001b[0;36m0\u001b[0m\u001b[0;34m]\u001b[0m\u001b[0;34m\u001b[0m\u001b[0;34m\u001b[0m\u001b[0m\n\u001b[0m\u001b[1;32m      4\u001b[0m \u001b[0;34m\u001b[0m\u001b[0m\n\u001b[1;32m      5\u001b[0m     \u001b[0;32mif\u001b[0m \u001b[0;36m0\u001b[0m \u001b[0;34m:\u001b[0m\u001b[0;34m\u001b[0m\u001b[0;34m\u001b[0m\u001b[0m\n",
      "\u001b[0;31mTypeError\u001b[0m: unsupported operand type(s) for -: 'float' and 'list'"
     ]
    }
   ],
   "source": [
    "def get_FD_integral(x):\n",
    "        \n",
    "    FD_integral = integrate.quad(lambda t:t**0.5/(1+math.exp(t-x)),0,100)[0]\n",
    "    \n",
    "    if 0 : \n",
    "        print(' >>> get_FD_integral ... ')\n",
    "        print(' FD_integral ',FD_integral)\n",
    "    \n",
    "    return FD_integral\n",
    "    \n",
    "get_FD_integral(x)    "
   ]
  },
  {
   "cell_type": "markdown",
   "metadata": {},
   "source": [
    "## get_Zeff"
   ]
  },
  {
   "cell_type": "code",
   "execution_count": 1477,
   "metadata": {
    "ExecuteTime": {
     "end_time": "2021-08-21T01:49:39.332772Z",
     "start_time": "2021-08-21T01:49:37.686242Z"
    }
   },
   "outputs": [
    {
     "data": {
      "text/plain": [
       "[<matplotlib.lines.Line2D at 0x7fbd57453c90>]"
      ]
     },
     "execution_count": 1477,
     "metadata": {},
     "output_type": "execute_result"
    },
    {
     "data": {
      "image/png": "[encoded data removed]",
      "text/plain": [
       "<Figure size 432x288 with 1 Axes>"
      ]
     },
     "metadata": {
      "needs_background": "light"
     },
     "output_type": "display_data"
    }
   ],
   "source": [
    "def get_Zeff(ni,Te):\n",
    "    \n",
    "    # ni : 1/m^3\n",
    "    # T : J\n",
    "    \n",
    "    # Phys. Plasmas 23, 042704 (2016); https://doi.org/10.1063/1.4945753\n",
    "    # ni is the ion density\n",
    "    \n",
    "    T = Te/eV # eV\n",
    "    \n",
    "    a0 = 87.222\n",
    "    a1 = 10.866\n",
    "    a2 = -28.412\n",
    "    a3 = 17.915\n",
    "    a4 = -2.422\n",
    "    a5 = 0.595\n",
    "    a6 = -2.369*10**-2\n",
    "    \n",
    "    ai = (3/(4*np.pi*ni))**(1/3) # m\n",
    "    \n",
    "    Bohr_radius = 4*np.pi*vacuumPermittivity*hbar**2/(massElectron*eCharge**2) # m\n",
    "    \n",
    "    r0 = ai/Bohr_radius # no unit\n",
    "    \n",
    "    gamma0 = 1/(r0*T) # 1/eV\n",
    "    \n",
    "    fz = a1 + a2*T*((1+np.sqrt(3*gamma0))**(1/4)-1) + a3*T**0.9 + \\\n",
    "        (a4/r0 + a5/r0**2 + a6/r0**3)*T\n",
    "    \n",
    "    h = hbar*2*np.pi # J/K\n",
    "    \n",
    "    DB_wavelength = h/np.sqrt(massElectron*Te) # m\n",
    "    \n",
    "    RHS = a0/(ni*DB_wavelength**3)*math.exp(-fz/T)\n",
    "    \n",
    "    coeff = [1,RHS,-RHS]\n",
    "    sol   = np.roots(coeff) \n",
    "    \n",
    "    xi = max(sol)\n",
    "    xi_Jack = (-RHS+np.sqrt(RHS**2+4*RHS))/2\n",
    "    \n",
    "    Zeff = xi*Zmax_CH\n",
    "    \n",
    "    if 0 : \n",
    "        print('>>> get_Zeff ...')\n",
    "        print('Bohr_radius (m) = ',Bohr_radius)\n",
    "        print('ai (m) = ',ai)\n",
    "        print('a0 = ',a0)  \n",
    "        print('gamma0 = ',gamma0)      \n",
    "        print('fz = ',fz)\n",
    "        print('xi = ',xi)\n",
    "        print('xi_jack = ',xi_Jack)\n",
    "        print('Zeff = ',Zeff)\n",
    "        print('DB_wavelength (m) = ',DB_wavelength)  \n",
    "        print('ni*DB_wavelength**3 = ',ni*DB_wavelength**3)\n",
    "        print('a0/(ni*DB_wavelength**3) = ',a0/(ni*DB_wavelength**3))\n",
    "        print('math.exp(-fz/T) = ',math.exp(-fz/T))\n",
    "        print('sol = ',sol)\n",
    "        \n",
    "    return Zeff\n",
    "    \n",
    "get_Zeff(n_a_CH,1000*eV)  \n",
    "\n",
    "xdata = [ne for ne in np.arange(0.01,1000,1)]\n",
    "ydata = [get_Zeff(n_a_CH,T*eV)for T in xdata ]\n",
    "plt.loglog(xdata,ydata)"
   ]
  },
  {
   "cell_type": "markdown",
   "metadata": {},
   "source": [
    "## get_vc_ion"
   ]
  },
  {
   "cell_type": "code",
   "execution_count": 1580,
   "metadata": {
    "ExecuteTime": {
     "end_time": "2021-08-22T21:52:20.814463Z",
     "start_time": "2021-08-22T21:52:18.550945Z"
    }
   },
   "outputs": [
    {
     "data": {
      "image/png": "[encoded data removed]",
      "text/plain": [
       "<Figure size 432x288 with 1 Axes>"
      ]
     },
     "metadata": {
      "needs_background": "light"
     },
     "output_type": "display_data"
    }
   ],
   "source": [
    "def get_vc_ion(Te,Ti,ne,ni,degeneracy):\n",
    "    \n",
    "    Z_eff = ni/ne\n",
    "    \n",
    "    #Z_eff = get_Zeff(ni,Te)\n",
    "    \n",
    "    ne_gcc = ne/100**3 # g/cm^3\n",
    "    \n",
    "    me_cgs = massElectron*1000 # g\n",
    "    \n",
    "    Te_erg = Te*J_to_erg # erg\n",
    "    \n",
    "    Te_eV = Te/eV # eV\n",
    "    \n",
    "    Coulomb_Log = get_Coulomb_Log(Te,Ti,ne,ni) # unitless\n",
    "    \n",
    "    mu = get_mu(ne,Te) # J\n",
    "    \n",
    "    x = mu/Te # unitless\n",
    "    \n",
    "    FD_integral = get_FD_integral(x)+10**(-150)\n",
    "    \n",
    "    part1 = 2*np.sqrt(2)*np.pi/3\n",
    "    \n",
    "    part2 = Z_eff*eCharge_ESU**4*ne_gcc/np.sqrt(me_cgs)/Te_erg**1.5\n",
    "    \n",
    "    part3 = 1/(1+math.exp(-x))/FD_integral\n",
    "    \n",
    "    vc_ion = part1*part2*Coulomb_Log*part3**degeneracy\n",
    "            \n",
    "    Zlnlambda = 10\n",
    "    # Ref[NRL : all quantities in CGS except Te in eV]\n",
    "    vei_NRL = 2.91*10**-6*ne_gcc*Zlnlambda/(Te_eV**1.5) # 1/s with unit [Te] in eV    \n",
    "    \n",
    "    vei_WOO = math.sqrt(2)*ne*eCharge**4*Zlnlambda/ \\\n",
    "               (12*math.pi**1.5*vacuumPermittivity**2*math.sqrt(massElectron)*Te**1.5)    \n",
    "    \n",
    "    if degeneracy == 2 : vc_ion = vei_NRL\n",
    "    if degeneracy == 3 : vc_ion = vei_WOO\n",
    "\n",
    "    if 0 : \n",
    "        print('>>>> get_vc_ion ...')\n",
    "        print('part1 = ',part1)    \n",
    "        print('part2 = ',part2)\n",
    "        print('part3 = ',part3)    \n",
    "        print('Coulomb_Log = ',Coulomb_Log)   \n",
    "        print('mu = ',mu)  \n",
    "        print('FD_integral = ',FD_integral)   \n",
    "        print('Te/eV = ',Te/eV)\n",
    "        print('degeneracy = ',degeneracy)\n",
    "        print('vei = ',vei)\n",
    "        print('vc_ion = ',vc_ion)        \n",
    "        \n",
    "    return vc_ion\n",
    "    \n",
    "#get_vc_ion(Te,Ti,10**22*100**3,n_a_CH,0) \n",
    "\n",
    "NE_IN = 3*10**20*100**3\n",
    "\n",
    "if 1 : \n",
    "    temp5 = [ T for T in np.arange(0.01,1000,1)]\n",
    "    collFreq5   = np.array([get_vc_ion(T*eV,T*eV,NE_IN,n_a_CH,0) for T in temp5])\n",
    "    collFreq5QM = np.array([get_vc_ion(T*eV,T*eV,NE_IN,n_a_CH,1) for T in temp5])\n",
    "    collFreq5NRL= np.array([get_vc_ion(T*eV,T*eV,NE_IN,n_a_CH,2) for T in temp5])\n",
    "    collFreq5WOO= np.array([get_vc_ion(T*eV,T*eV,NE_IN,n_a_CH,3) for T in temp5])\n",
    "    \n",
    "    # get_vc_neutral(Te,ni,ne)\n",
    "    collFreq4_mode0 = np.array([get_vc_neutral(T*eV,n_a_CH,NE_IN,0) for T in temp5])\n",
    "    collFreq4_mode1 = np.array([get_vc_neutral(T*eV,n_a_CH,NE_IN,1) for T in temp5])    \n",
    "\n",
    "    plt.loglog(temp5,collFreq5,   c='r')\n",
    "    plt.loglog(temp5,collFreq5QM, c='g')\n",
    "    plt.loglog(temp5,collFreq5NRL,c='b')\n",
    "    plt.loglog(temp5,collFreq5WOO,c='k')\n",
    "    \n",
    "    plt.loglog(temp5,collFreq4_mode0)\n",
    "    plt.loglog(temp5,collFreq4_mode1)    \n",
    "    plt.loglog(temp5,collFreq4_mode0[:]+collFreq5[:]) \n",
    "    plt.loglog(temp5,collFreq4_mode1[:]+collFreq5[:])     "
   ]
  },
  {
   "cell_type": "markdown",
   "metadata": {},
   "source": [
    "## get_vc_new"
   ]
  },
  {
   "cell_type": "code",
   "execution_count": 1582,
   "metadata": {
    "ExecuteTime": {
     "end_time": "2021-08-22T21:53:28.786702Z",
     "start_time": "2021-08-22T21:53:07.677353Z"
    }
   },
   "outputs": [
    {
     "data": {
      "image/png": "[encoded data removed]",
      "text/plain": [
       "<Figure size 432x288 with 1 Axes>"
      ]
     },
     "metadata": {
      "needs_background": "light"
     },
     "output_type": "display_data"
    }
   ],
   "source": [
    "def get_vc_new(Te,Ti,ne,ni,rho):\n",
    "    \n",
    "    if 0 : \n",
    "        print('Te/eV = ',\"{:.3e}\".format(Te/eV))\n",
    "        print('Ti/eV = ',\"{:.3e}\".format(Ti/eV))\n",
    "        print('ne    = ',\"{:.3e}\".format(ne))\n",
    "        print('ni    = ',\"{:.3e}\".format(ni))        \n",
    "        print('rho   = ',\"{:.3e}\".format(rho))           \n",
    "        \n",
    "    vc_neutral = get_vc_neutral(Te,ni,ne,0)\n",
    "    \n",
    "    degeneracy = 1\n",
    "    \n",
    "    vc_ion = get_vc_ion(Te,Ti,ne,ni,degeneracy)\n",
    "    \n",
    "    XPS = (np.tanh(-(Te-Tc))+1)/2\n",
    "    \n",
    "    XAM = (np.tanh(+(Te-Tc))+1)/2\n",
    "    \n",
    "    ve = math.sqrt(1.5*Te/massElectron) # m/s\n",
    "    vmpf = ve*ni**(1/3) # 1/s    \n",
    "    \n",
    "    if Ti<Tc : \n",
    "        EAP_rate_avg = get_EAP_rate_avg(Te,Ti,ne,rho)\n",
    "        EOP_rate_avg = get_EOP_rate_avg(Te,Ti,ne,rho)        \n",
    "        vc_new = (EAP_rate_avg + EOP_rate_avg)*1\n",
    "        \n",
    "    #if (Te>=Tc) and (Te<eV) : vc_new = vc_neutral\n",
    "    if (Ti>=Tc) : \n",
    "        #vc_new = vc_neutral+vc_ion\n",
    "        vc_new = 1/(1/vc_neutral+1/vc_ion)\n",
    "        #vc_new = 1/(1/vmpf+1/vc_ion)\n",
    "    \n",
    "    if 0 : \n",
    "        print('>>> get_vc_new ... ')     \n",
    "        print('EAP_rate_avg (1/s) = ',\"{:.3e}\".format(EAP_rate_avg))\n",
    "        print('EOP_rate_avg (1/s) = ',\"{:.3e}\".format(EOP_rate_avg)) \n",
    "        print('vc_neutral (1/s)   = ',\"{:.3e}\".format(vc_neutral))\n",
    "        print('vc_ion (1/s)       = ',\"{:.3e}\".format(vc_ion))\n",
    "        print('vc_new (1/s)       = ',\"{:.3e}\".format(vc_new))\n",
    "    \n",
    "    return vc_new\n",
    "        \n",
    "#get_vc_new(Te,Ti,3*10**22*100**3,n_a_CH,rho) \n",
    "\n",
    "temp6 = [ T for T in np.arange(0.01,1000,0.01)]\n",
    "collFreq6  = [get_vc_new(T*eV,T*eV,3*10**22*100**3,n_a_CH,rho) for T in temp6]\n",
    "plt.loglog(temp6,collFreq6)\n",
    "plt.grid()"
   ]
  },
  {
   "cell_type": "markdown",
   "metadata": {},
   "source": [
    "## get_vc"
   ]
  },
  {
   "cell_type": "code",
   "execution_count": 1583,
   "metadata": {
    "ExecuteTime": {
     "end_time": "2021-08-22T21:53:50.463961Z",
     "start_time": "2021-08-22T21:53:48.709561Z"
    }
   },
   "outputs": [
    {
     "data": {
      "image/png": "[encoded data removed]",
      "text/plain": [
       "<Figure size 792x432 with 1 Axes>"
      ]
     },
     "metadata": {
      "needs_background": "light"
     },
     "output_type": "display_data"
    }
   ],
   "source": [
    "def get_vc(Te,Til,nfe,na,mode):\n",
    "    \n",
    "    # Te unit  : eV\n",
    "    # Til unit : eV\n",
    "    # nfe unit : 1/m^3\n",
    "    # na unit  : 1/m^3\n",
    "    \n",
    "    if Til <= 0.1 : \n",
    "        vph0 = 10**14 # 1/s\n",
    "        T0 = 300*kelvin_to_eV # eV\n",
    "        vc = vph0*Til/T0 # 1/s\n",
    "    \n",
    "    if Til > 0.1 :\n",
    "        Zlnlambda = 10\n",
    "        # Ref[NRL : all quantities in CGS except Te in eV]\n",
    "        vei_NRL = 2.91*10**-6*(nfe/100**3)*Zlnlambda/(Te**1.5) # 1/s with unit [Te] in eV\n",
    "        # Ref[Spitzer]\n",
    "        vei_WOO = math.sqrt(2)*nfe*eCharge**4*Zlnlambda/ \\\n",
    "              (12*math.pi**1.5*vacuumPermittivity**2*math.sqrt(massElectron)*(Te*eV)**1.5) # 1/s\n",
    "        # Ref[Lee-More : An electron conductivity model for dense plasmas]\n",
    "        ve = math.sqrt(1.5*Te*eV/massElectron) # m/s\n",
    "        vmpf = ve*na**(1/3) # 1/s\n",
    "        if mode==0 : vc = 1/(1/vmpf+1/vei_NRL) # 1/s\n",
    "        if mode==1 : vc = 1/(1/vmpf+1/vei_WOO) # 1/s\n",
    "        \n",
    "    if Til > 1000:\n",
    "        # Ref[Spitzer]\n",
    "        vei = math.sqrt(2)*nfe*eCharge**4*Zlnlambda/ \\\n",
    "              (12*math.pi**1.5*vacuumPermittivity**2*math.sqrt(massElectron)*(Te*eV)**1.5)\n",
    "        vc = vei\n",
    "\n",
    "    return vc # 1/s\n",
    "\n",
    "plot=1\n",
    "if plot==1:\n",
    "    \n",
    "    ne_IN = 1*10**22*100**3\n",
    "    temp = [ T for T in np.arange(0.01,1000,0.01) ]\n",
    "    collFreq_NRL = [get_vc(T,T,ne_IN,n_a_CH,0) for T in temp]\n",
    "    collFreq_WOO = [get_vc(T,T,ne_IN,n_a_CH,1) for T in temp]\n",
    "         \n",
    "    plt.figure(figsize=[11,6])\n",
    "    \n",
    "    #plt.loglog(temp,collFreq_NRL,lw=2,ls='dashed',   basex=10, c='red', label=r'$\\nu_{\\mathrm{old,NRL}}$')\n",
    "    plt.loglog(temp,collFreq_WOO,lw=2,basex=10,c='k',label=r'$\\nu_{\\mathrm{old}}$')\n",
    "    #plt.loglog(temp0,collFreq2,lw=2, basex=10, c='b', label=r'$\\nu_{LA}$')\n",
    "    #plt.loglog(temp0,collFreq3,lw=2, basex=10, c='r', label=r'$\\nu_{LO}$')\n",
    "    #plt.loglog(temp0,collFreq2[:]+collFreq3[:],lw=1, basex=10, color='r',           label=r'$\\nu_{LA}+\\nu_{LO}$')\n",
    "    \n",
    "    #plt.loglog(temp4,collFreq4,lw=2, basex=10, color='purple', label=r'$\\nu_{en}$') \n",
    "    #plt.loglog(temp5,collFreq5WOO,lw=2, basex=10, color='green', label=r'$\\nu_{ei}$')     \n",
    "    plt.loglog(temp6,collFreq6,lw=2,basex=10,color='r',label=r'$\\nu_{\\mathrm{new}}$') \n",
    "  \n",
    "    title = r'$n_{e} = 10^{22}\\mathrm{cm^{-3}}$ and $T_{e} = T_{i}$'\n",
    "    \n",
    "    plt.legend(fontsize=20,loc='lower left')\n",
    "    plt.title(title,fontsize=20)\n",
    "    plt.xlabel(r'\\textbf{Temperature (eV)}',fontsize=20)\n",
    "    plt.ylabel(r'\\textbf{Collision frequency $\\nu_{\\mathrm{c}}~(1/s)$}',fontsize=20)\n",
    "    plt.xticks(fontsize=20)\n",
    "    plt.yticks(fontsize=20)\n",
    "    plt.tick_params(direction='in',right=True,top=True,length=10)\n",
    "    plt.tick_params(which='minor',length=5,right=True,direction='in',top=True)\n",
    "    plt.ylim([10**13,10**16])\n",
    "    plt.xlim([0.01,1000])\n",
    "    plt.grid(which='major', linestyle='-', linewidth='1', color='grey')\n",
    "    plt.grid(which='minor', linestyle='--', linewidth='0.5', color='grey')\n",
    "    \n",
    "    plt.tight_layout()\n",
    "    if 0 : \n",
    "        export_name = 'collisional_freq_new_V5'\n",
    "        print(f'{\"Save as\":30}',':',export_name)\n",
    "        path = '/Users/kwoo/Desktop/PostDoc/InitialPlasma/reports/plots/'\n",
    "        print(f'{\"path_local\":30}',':',str(pathlib.Path().absolute()))    \n",
    "        print(f'{\"path_save\":30}',':',path)\n",
    "        plt.savefig(path+export_name+'.eps',format='eps')\n",
    "        plt.savefig(path+export_name,dpi=500) \n",
    "    plt.show() "
   ]
  },
  {
   "cell_type": "markdown",
   "metadata": {},
   "source": [
    "# Heat Capacity"
   ]
  },
  {
   "cell_type": "markdown",
   "metadata": {
    "ExecuteTime": {
     "end_time": "2021-08-21T16:49:15.709409Z",
     "start_time": "2021-08-21T16:49:15.674901Z"
    },
    "heading_collapsed": true
   },
   "source": [
    "## get_cp_solid"
   ]
  },
  {
   "cell_type": "code",
   "execution_count": 1517,
   "metadata": {
    "ExecuteTime": {
     "end_time": "2021-08-21T16:50:17.034489Z",
     "start_time": "2021-08-21T16:50:16.999246Z"
    },
    "hidden": true
   },
   "outputs": [],
   "source": [
    "def get_cp_solid(T):\n",
    "    \n",
    "    # T : K\n",
    "    \n",
    "    a1 = -0.098338\n",
    "    a2 = -1.30958\n",
    "    a3 = 6.5499\n",
    "    a4 = -8.13656\n",
    " \n",
    "    cp_solid_1 = math.exp(a1*np.log(T)**3 + a2*np.log(T)**2 + a3*np.log(T) + a4)    \n",
    "    cp_solid_2 = 7.7551*10**5*T**(-2) + 0.53447*T - 41.58\n",
    "    cp_molten  = 0.2653*T + 95.12\n",
    "    \n",
    "    if (T>=10) and (T<200)  : cp = cp_solid_1\n",
    "        \n",
    "    if (T>=200) and (T<373) : cp = cp_solid_2\n",
    "        \n",
    "    if (T>=373) and (T<1000) : cp = cp_molten      \n",
    "    \n",
    "    return cp"
   ]
  },
  {
   "cell_type": "markdown",
   "metadata": {
    "heading_collapsed": true
   },
   "source": [
    "## get_cp_data_lowT"
   ]
  },
  {
   "cell_type": "code",
   "execution_count": 1540,
   "metadata": {
    "ExecuteTime": {
     "end_time": "2021-08-21T17:10:18.770068Z",
     "start_time": "2021-08-21T17:10:18.445665Z"
    },
    "hidden": true
   },
   "outputs": [
    {
     "data": {
      "text/plain": [
       "[<matplotlib.lines.Line2D at 0x7fbd13609110>]"
      ]
     },
     "execution_count": 1540,
     "metadata": {},
     "output_type": "execute_result"
    },
    {
     "data": {
      "image/png": "[encoded data removed]",
      "text/plain": [
       "<Figure size 432x288 with 1 Axes>"
      ]
     },
     "metadata": {
      "needs_background": "light"
     },
     "output_type": "display_data"
    }
   ],
   "source": [
    "def get_cp_data_lowT():\n",
    "    \n",
    "    data =np.array([[0,0],\n",
    "          [0.1,0.0000633],\n",
    "          [0.2,0.000132],\n",
    "          [0.3,0.000269],\n",
    "          [0.4,0.000496],\n",
    "          [0.5,0.000838],\n",
    "          [0.6,0.00133],\n",
    "          [0.7,0.00200],\n",
    "          [0.8,0.00288],\n",
    "          [0.9,0.00401],\n",
    "          [1.0,0.00543],\n",
    "          [1.2,0.00929],\n",
    "          [1.4,0.01480],\n",
    "          [1.6,0.02231],\n",
    "          [1.8,0.03217],\n",
    "          [2.0,0.04477],\n",
    "          [3.0,0.1622],\n",
    "          [4.0,0.4058],\n",
    "          [5.0,0.8215],\n",
    "          [10,3.33],\n",
    "          [15,7.03],\n",
    "          [20,10.77],\n",
    "          [25,14.26],\n",
    "          [30,17.47],\n",
    "          [40,23.13],\n",
    "          [50,28.01],\n",
    "          [60,32.37],\n",
    "          [70,36.38],\n",
    "          [80,40.17],\n",
    "          [90,43.81],\n",
    "          [100,47.37],\n",
    "          [120,54.38],\n",
    "          [130,57.89],\n",
    "          [140,61.43],\n",
    "          [150,65.01],\n",
    "          [160,68.65],\n",
    "          [170,72.36],\n",
    "          [180,76.14],\n",
    "          [190,80.01],\n",
    "          [200,84.70175]])\n",
    "    \n",
    "    return data # J/mol/K\n",
    "\n",
    "cp_data_lowT = get_cp_data_lowT()\n",
    "plt.plot(cp_data_lowT[:,0],cp_data_lowT[:,1])\n",
    "\n",
    "temp = [ T for T in range(200,600,1)]\n",
    "cp_solid = [ get_cp_solid(T) for T in temp ]\n",
    "plt.plot(temp,cp_solid)"
   ]
  },
  {
   "cell_type": "markdown",
   "metadata": {
    "heading_collapsed": true
   },
   "source": [
    "## func_T3_law"
   ]
  },
  {
   "cell_type": "code",
   "execution_count": 1520,
   "metadata": {
    "ExecuteTime": {
     "end_time": "2021-08-21T16:53:00.761308Z",
     "start_time": "2021-08-21T16:53:00.753816Z"
    },
    "hidden": true
   },
   "outputs": [],
   "source": [
    "def func_T3_law(T,TD):\n",
    "    # T : K\n",
    "    # TD : K\n",
    "    gas_constant = mole*kB # J/mole/K    \n",
    "    return 12*np.pi**4/5*gas_constant*(T/TD)**3"
   ]
  },
  {
   "cell_type": "markdown",
   "metadata": {
    "heading_collapsed": true
   },
   "source": [
    "## get_T_Debye"
   ]
  },
  {
   "cell_type": "code",
   "execution_count": 1548,
   "metadata": {
    "ExecuteTime": {
     "end_time": "2021-08-21T17:25:30.227139Z",
     "start_time": "2021-08-21T17:25:29.624088Z"
    },
    "hidden": true
   },
   "outputs": [
    {
     "name": "stdout",
     "output_type": "stream",
     "text": [
      "T_Debye (K) =  66.87350842025788\n",
      "T_Debye (meV) =  5.765658687402574\n"
     ]
    },
    {
     "data": {
      "image/png": "[encoded data removed]",
      "text/plain": [
       "<Figure size 432x288 with 1 Axes>"
      ]
     },
     "metadata": {
      "needs_background": "light"
     },
     "output_type": "display_data"
    }
   ],
   "source": [
    "def get_T_Debye(cp_data_lowT):\n",
    "    \n",
    "    data = []\n",
    "    for ele in cp_data_lowT:\n",
    "        if ele[0]<10 : data.append(ele)\n",
    "    data = np.array(data)\n",
    "        \n",
    "    gas_constant = mole*kB # J/mole/K\n",
    "        \n",
    "    xdata = data[:,0]\n",
    "    ydata = data[:,1]\n",
    "     \n",
    "    popt, pcov = curve_fit(func_T3_law, xdata, ydata)\n",
    "    T_Debye = popt[0]\n",
    "    \n",
    "    xdata_fit = [T for T in np.arange(0,5,0.1)]\n",
    "    ydata_fit = func_T3_law(xdata_fit,T_Debye) \n",
    "    \n",
    "    plt.plot(xdata,ydata)\n",
    "    plt.plot(xdata_fit,ydata_fit) \n",
    "    \n",
    "    print('T_Debye (K) = ',popt[0])\n",
    "    print('T_Debye (meV) = ',popt[0]*kelvin_to_eV*1000)    \n",
    "    \n",
    "    return T_Debye\n",
    "\n",
    "T_Debye = get_T_Debye(cp_data_lowT)"
   ]
  },
  {
   "cell_type": "markdown",
   "metadata": {
    "heading_collapsed": true
   },
   "source": [
    "## get_Vexpansion"
   ]
  },
  {
   "cell_type": "code",
   "execution_count": 1525,
   "metadata": {
    "ExecuteTime": {
     "end_time": "2021-08-21T16:56:17.321982Z",
     "start_time": "2021-08-21T16:56:17.311231Z"
    },
    "hidden": true
   },
   "outputs": [],
   "source": [
    "def get_Vexpansion(T):\n",
    "    \n",
    "    # molar volume of a repeat unit\n",
    "    Vm = 92.8*10**-6 # m^3/mol \n",
    "    \n",
    "    # volumetric coefficient\n",
    "    ag = 2.37*10**-4\n",
    "    ar = 5.74*10**-4 \n",
    "\n",
    "    bulk_modulus = 3.58*10**9 # Pa\n",
    "    \n",
    "    Vexpansion = Vm*ag**2*bulk_modulus*T\n",
    "    \n",
    "    return Vexpansion"
   ]
  },
  {
   "cell_type": "markdown",
   "metadata": {
    "heading_collapsed": true
   },
   "source": [
    "## get_Einstein_function"
   ]
  },
  {
   "cell_type": "code",
   "execution_count": 1526,
   "metadata": {
    "ExecuteTime": {
     "end_time": "2021-08-21T16:57:28.917291Z",
     "start_time": "2021-08-21T16:57:28.489433Z"
    },
    "hidden": true
   },
   "outputs": [
    {
     "name": "stdout",
     "output_type": "stream",
     "text": [
      "0\n"
     ]
    },
    {
     "data": {
      "image/png": "[encoded data removed]",
      "text/plain": [
       "<Figure size 432x288 with 1 Axes>"
      ]
     },
     "metadata": {
      "needs_background": "light"
     },
     "output_type": "display_data"
    }
   ],
   "source": [
    "def get_Einstein_function(T,theta,N):\n",
    "    \n",
    "    R = 8.3145 # J/mole/K  \n",
    "       \n",
    "    if theta/T > 200 : \n",
    "        Einstein_function = 0\n",
    "    else : \n",
    "        part1 = (theta/T)**2*math.exp(theta/T)\n",
    "        part2 = (math.exp(theta/T) - 1)**2        \n",
    "        Einstein_function = N*R*part1/part2\n",
    "    \n",
    "    return Einstein_function\n",
    "\n",
    "print(get_Einstein_function(1,350,1))\n",
    "\n",
    "if 1 :     \n",
    "    temp = [ T for T in range(1,700,1)]\n",
    "    plt.plot(temp,[get_Einstein_function(T,4000,8) for T in temp])      \n",
    "    plt.plot(temp,[get_Einstein_function(T,2000,10) for T in temp])      \n",
    "    plt.plot(temp,[get_Einstein_function(T,1500,12) for T in temp])      \n",
    "    plt.plot(temp,[get_Einstein_function(T,1000,8) for T in temp])    \n",
    "    plt.plot(temp,[get_Einstein_function(T,700,2) for T in temp])\n",
    "    plt.plot(temp,[get_Einstein_function(T,500,1) for T in temp])\n",
    "    plt.plot(temp,[get_Einstein_function(T,350,1) for T in temp])"
   ]
  },
  {
   "cell_type": "markdown",
   "metadata": {
    "heading_collapsed": true
   },
   "source": [
    "## get_cp_group"
   ]
  },
  {
   "cell_type": "code",
   "execution_count": 1527,
   "metadata": {
    "ExecuteTime": {
     "end_time": "2021-08-21T16:58:41.117293Z",
     "start_time": "2021-08-21T16:58:40.816117Z"
    },
    "hidden": true
   },
   "outputs": [
    {
     "name": "stdout",
     "output_type": "stream",
     "text": [
      "74.9506385416552\n"
     ]
    },
    {
     "data": {
      "image/png": "[encoded data removed]",
      "text/plain": [
       "<Figure size 432x288 with 1 Axes>"
      ]
     },
     "metadata": {
      "needs_background": "light"
     },
     "output_type": "display_data"
    }
   ],
   "source": [
    "def get_cp_group(T):\n",
    "    \n",
    "    cp_group = get_Einstein_function(T,4000,8) +\\\n",
    "               get_Einstein_function(T,2000,10) +\\\n",
    "               get_Einstein_function(T,1500,12) +\\\n",
    "               get_Einstein_function(T,1000,8) +\\\n",
    "               get_Einstein_function(T,700,2) +\\\n",
    "               get_Einstein_function(T,500,1) +\\\n",
    "               get_Einstein_function(T,350,1)\n",
    "    \n",
    "    dimension = 1\n",
    "    return cp_group*dimension # J/mol/K\n",
    "\n",
    "print(get_cp_group(300))\n",
    "\n",
    "if 1 :\n",
    "    temp = [ T for T in range(1,700,1)]\n",
    "    cp_group = [ get_cp_group(T) for T in temp ]\n",
    "    plt.plot(temp,cp_group)"
   ]
  },
  {
   "cell_type": "markdown",
   "metadata": {
    "heading_collapsed": true
   },
   "source": [
    "## get_cp_skeletal"
   ]
  },
  {
   "cell_type": "code",
   "execution_count": 1544,
   "metadata": {
    "ExecuteTime": {
     "end_time": "2021-08-21T17:12:20.206400Z",
     "start_time": "2021-08-21T17:12:19.763762Z"
    },
    "hidden": true
   },
   "outputs": [
    {
     "data": {
      "image/png": "[encoded data removed]",
      "text/plain": [
       "<Figure size 432x288 with 1 Axes>"
      ]
     },
     "metadata": {
      "needs_background": "light"
     },
     "output_type": "display_data"
    }
   ],
   "source": [
    "def get_cp_skeletal(T):\n",
    "    \n",
    "    R = 8.3145 # J/mole/K\n",
    "    \n",
    "    #CT = 6 R [ (T/42.5)^2 / (1 + (T/42.5)^2)]    \n",
    "    #CP - CV = -T (dV/dT)2P / (dV/dP)2T = Vα2BT\n",
    "    \n",
    "    cp_skeletal = 6 * R * ((T/42.5)**2 / (1 + (T/42.5)**2))\n",
    "    \n",
    "    return cp_skeletal\n",
    "\n",
    "if 1 :\n",
    "    temp = np.array([ T for T in range(1,700,1)])\n",
    "    cp_skeletal = np.array([ get_cp_skeletal(T) for T in temp ])    \n",
    "    plt.plot(temp,cp_skeletal)\n",
    "    \n",
    "    Vexpansion = np.array([ get_Vexpansion(T) for T in temp ])\n",
    "    plt.plot(temp,Vexpansion) \n",
    "    \n",
    "    cp_group = np.array([ get_cp_group(T) for T in temp ])\n",
    "    plt.plot(temp,cp_group)\n",
    "    \n",
    "    temp2 = [ T for T in range(200,700,1)]\n",
    "    cp_solid = np.array([ get_cp_solid(T) for T in temp2 ])\n",
    "\n",
    "    cp_Debye = [ func_T3_law(T,T_Debye) for T in temp]    \n",
    "    \n",
    "    plt.plot(temp,cp_skeletal+cp_group,ls='dashed') \n",
    "    plt.plot(temp,cp_skeletal+cp_group+Vexpansion,ls='dashed')     "
   ]
  },
  {
   "cell_type": "markdown",
   "metadata": {
    "heading_collapsed": true
   },
   "source": [
    "## get_report_cp"
   ]
  },
  {
   "cell_type": "code",
   "execution_count": 1546,
   "metadata": {
    "ExecuteTime": {
     "end_time": "2021-08-21T17:13:33.356888Z",
     "start_time": "2021-08-21T17:13:30.102978Z"
    },
    "hidden": true
   },
   "outputs": [
    {
     "name": "stdout",
     "output_type": "stream",
     "text": [
      "Save as                        : polystyrene_heat_capacity\n",
      "path_local                     : /Users/kwoo/Desktop/PostDoc/InitialPlasma/python\n",
      "path_save                      : /Users/kwoo/Desktop/PostDoc/InitialPlasma/reports/plots/\n"
     ]
    },
    {
     "data": {
      "image/png": "[encoded data removed]",
      "text/plain": [
       "<Figure size 792x432 with 1 Axes>"
      ]
     },
     "metadata": {
      "needs_background": "light"
     },
     "output_type": "display_data"
    }
   ],
   "source": [
    "def get_report_cp(exportFlag):\n",
    "    \n",
    "    plt.close('all')\n",
    "    fig = plt.figure(figsize=[11,6])\n",
    "    fs,fs2,fs3,fs4=20,15,18,10\n",
    "\n",
    "    label1 = r'\\textbf{$C_{\\mathrm{Skeletal}}$}'\n",
    "    label2 = r'\\textbf{$C_{\\mathrm{Group}}$}'\n",
    "    label3 = r'\\textbf{$C_{\\mathrm{V}}$}'\n",
    "    label4 = r'\\textbf{$C_{\\mathrm{P}}$}'\n",
    "    label5 = r'\\textbf{$V\\alpha^2BT$}'\n",
    "    label6 = r'\\textbf{Exp. data}' \n",
    "    label7 = r'\\textbf{$\\frac{12\\pi^4N_{\\mathrm{A}}k_{\\mathrm{B}}}{5}(T/T_{\\mathrm{Debye}})^3$}'    \n",
    "\n",
    "    nrow,ncol=1,1\n",
    "    ax1 = plt.subplot2grid((nrow, ncol), (0,0), colspan=1, rowspan=1) \n",
    "    \n",
    "    yfactor = 1#1/mole/kelvin_to_eV/eV\n",
    "\n",
    "    ax1.plot(temp,cp_skeletal*yfactor,lw=2,label=label1)    \n",
    "    ax1.plot(temp,cp_group*yfactor,lw=2,label=label2)    \n",
    "    ax1.plot(temp,(cp_skeletal+cp_group)*yfactor,lw=2,label=label3)\n",
    "    ax1.plot(temp,(cp_skeletal+cp_group+Vexpansion)*yfactor,lw=2,label=label4)\n",
    "    ax1.plot(temp,Vexpansion*yfactor,lw=2,label=label5) \n",
    "    \n",
    "    #ax1.plot(cp_data_lowT[:,0],cp_data_lowT[:,1],lw=2,c='k')        \n",
    "    ax1.plot(temp2,cp_solid,lw=2,c='k')    \n",
    "    ax1.plot(temp,cp_Debye,lw=2,label=label7)     \n",
    "     \n",
    "    ax1.tick_params(which='major',length=10,labelsize=fs2)\n",
    "    ax1.set_xlabel(r'\\textbf{Temperature $T$ (K)}',fontsize=fs)\n",
    "    ax1.set_ylabel(r'\\textbf{Heat Capacity $C_{\\mathrm{m}}$ (J/mol/K)}',fontsize=fs) \n",
    "    #ax1.set_ylabel(r'\\textbf{Heat Capacity $C_\\mathrm{m}^\\mathrm{J/mol/K}\\times 0.12$}',fontsize=fs)\n",
    "    ax1.set_title(r'\\textbf{Polystyrene heat capacity}',fontsize=fs)      \n",
    "    ax1.legend(fontsize=fs2,loc='upper left',bbox_to_anchor=[0.1,0.95],numpoints=1)\n",
    "    ax1.set_ylim([0,300])\n",
    "    ax1.grid()\n",
    "\n",
    "\n",
    "    plt.tight_layout()\n",
    "    if exportFlag : \n",
    "        export_name = 'polystyrene_heat_capacity'\n",
    "        print(f'{\"Save as\":30}',':',export_name)\n",
    "        path = '/Users/kwoo/Desktop/PostDoc/InitialPlasma/reports/plots/'\n",
    "        print(f'{\"path_local\":30}',':',str(pathlib.Path().absolute()))    \n",
    "        print(f'{\"path_save\":30}',':',path)\n",
    "        plt.savefig(path+export_name+'.eps',format='eps')\n",
    "        plt.savefig(path+export_name,dpi=500) \n",
    "    plt.show() \n",
    "              \n",
    "get_report_cp(exportFlag=1)"
   ]
  },
  {
   "cell_type": "markdown",
   "metadata": {},
   "source": [
    "# Light Wave Propagation"
   ]
  },
  {
   "cell_type": "markdown",
   "metadata": {
    "heading_collapsed": true
   },
   "source": [
    "## get_param"
   ]
  },
  {
   "cell_type": "code",
   "execution_count": 930,
   "metadata": {
    "ExecuteTime": {
     "end_time": "2021-08-12T22:14:41.925475Z",
     "start_time": "2021-08-12T22:14:41.912923Z"
    },
    "hidden": true
   },
   "outputs": [
    {
     "name": "stdout",
     "output_type": "stream",
     "text": [
      "probe_intensity [W/m^2]  =  5.00e+13\n",
      "probe_intensity/100**2   =  5.00e+09 [W/cm^2]\n",
      "Eg_CH   [J]              =  6.48e-19\n",
      "rho_CH  [kg/m^3]         =  1030.0\n",
      "n_vb_CH [1/m^3]          =  3.335e+29\n",
      "n_a_CH  [1/m^3]          =  3.000e+28\n"
     ]
    }
   ],
   "source": [
    "um = 10**-6 # m\n",
    "nm = 10**-9 # m\n",
    "ns = 10**-9 # s\n",
    "ps = 10**-12 # s\n",
    "fs = 10**-15 # s\n",
    "eV = 1.6*10**-19 # J\n",
    "kelvin_to_eV = 8.621738*10**-5 # eV \n",
    "\n",
    "lightSpeed = 299792458 # m/s\n",
    "vacuumPermittivity = 8.854*10**-12 # C⋅V−1⋅m−1\n",
    "epsilon0 = 8.854187817e-12 # vacuum permitivity [F/m] 1.e7_dp / (4*pi*c*c) \n",
    "\n",
    "# angular frequencies of laser\n",
    "wavelength_355nm = 355*nm # m\n",
    "wavelength_450nm = 450*nm # m\n",
    "omega_355nm = 2*np.pi*(lightSpeed/wavelength_355nm) # 1/s\n",
    "omega_450nm = 2*np.pi*(lightSpeed/wavelength_450nm) # 1/s\n",
    "\n",
    "PlanckConstant = 6.62607015*10**-34 # J.s\n",
    "hbar = PlanckConstant/(2*math.pi) # J.s\n",
    "\n",
    "# input  laser intensity unit : W/m^2\n",
    "# output electric field  unit : V/m\n",
    "vacuumRefractiveIndex = 1\n",
    "coef_laserI_eField = (2/lightSpeed/vacuumPermittivity/vacuumRefractiveIndex)**0.5\n",
    "\n",
    "eCharge = 1.602176634*10**-19 # C\n",
    "massElectron = 9.10938356*10**-31 # kg\n",
    "massElectronReduced = massElectron/2 # kg\n",
    "\n",
    "eCharge_CGS = 4.80326*10**-10 # esu\n",
    "massElectron_CGS = 9.10938356*10**-31*1000 # g\n",
    "\n",
    "beam_radius = 430*um # m\n",
    "beam_area   = np.pi*beam_radius**2 # m^2\n",
    "\n",
    "probe_fluence   = 0.1*0.001*100**2 # J/m^2\n",
    "probe_duration  = 20*fs # s\n",
    "probe_intensity = probe_fluence/probe_duration # W/m^2\n",
    "\n",
    "sigma2 = 7*10**8 # cm.s/J^2\n",
    "\n",
    "# mass_density/total_ion_mass*Z_total [1/cm^3]\n",
    "R_CH = 1.03*1000 # kg/m^3\n",
    "Z_CH = 7 # no unit\n",
    "A_CH = (12.011+1.008)*1.66053904e-27 # kg\n",
    "n_vb_CH = Z_CH*R_CH/A_CH # [1/m^3]\n",
    "Eg_CH   = 4.05*eV # [J]\n",
    "n_a_CH  = 3*10**22*100**3 # 1/m^3\n",
    "rho = 1*gcm3_to_kgm3 # kg/m^3\n",
    "\n",
    "print('probe_intensity [W/m^2]  = ',\"{:.2e}\".format(probe_intensity))\n",
    "print('probe_intensity/100**2   = ',\"{:.2e}\".format(probe_intensity/100**2),'[W/cm^2]')\n",
    "print('Eg_CH   [J]              = ',Eg_CH)\n",
    "print('rho_CH  [kg/m^3]         = ',R_CH)\n",
    "print('n_vb_CH [1/m^3]          = ',\"{:.3e}\".format(n_vb_CH))\n",
    "print('n_a_CH  [1/m^3]          = ',\"{:.3e}\".format(n_a_CH))"
   ]
  },
  {
   "cell_type": "markdown",
   "metadata": {
    "heading_collapsed": true
   },
   "source": [
    "## get_data_pulse"
   ]
  },
  {
   "cell_type": "code",
   "execution_count": 1567,
   "metadata": {
    "ExecuteTime": {
     "end_time": "2021-08-22T19:50:53.311363Z",
     "start_time": "2021-08-22T19:50:53.246757Z"
    },
    "hidden": true
   },
   "outputs": [
    {
     "name": "stdout",
     "output_type": "stream",
     "text": [
      "pulse_1_Imax_TimePs =  115.0\n",
      "pulse_2_Imax_TimePs =  115.0\n",
      "pulse_3_Imax_TimePs =  175.0\n",
      "pulse_4_Imax_TimePs =  145.0\n",
      "pulse_1_Imax (W/cm^2) =  5.698e+10\n",
      "pulse_2_Imax (W/cm^2) =  1.200e+11\n",
      "pulse_3_Imax (W/cm^2) =  5.406e+11\n",
      "pulse_4_Imax (W/cm^2) =  5.199e+13\n"
     ]
    }
   ],
   "source": [
    "def get_data_pulse(file_name):\n",
    "    file_to_open = open(file_name,'r')\n",
    "    pulse = []\n",
    "    for line in file_to_open:\n",
    "        row = line.split()\n",
    "        tmp = []\n",
    "        for ele in row:\n",
    "            tmp.append(float(ele))\n",
    "        pulse.append(tmp)\n",
    "    pulse = np.array(pulse)\n",
    "    pulse[:,1] = pulse[:,1]/beam_area*10**12 # change TW into W/m^2\n",
    "    return pulse\n",
    "\n",
    "file_name = '/Users/kwoo/Desktop/PostDoc/InitialPlasma/python/RIGEL_DATA/pulse_1.dat'\n",
    "pulse_1 = get_data_pulse(file_name)\n",
    "\n",
    "file_name = '/Users/kwoo/Desktop/PostDoc/InitialPlasma/python/RIGEL_DATA/pulse_2.dat'\n",
    "pulse_2 = get_data_pulse(file_name)\n",
    "\n",
    "file_name = '/Users/kwoo/Desktop/PostDoc/InitialPlasma/python/RIGEL_DATA/pulse_3.dat'\n",
    "pulse_3 = get_data_pulse(file_name)\n",
    "\n",
    "file_name = '/Users/kwoo/Desktop/PostDoc/InitialPlasma/python/RIGEL_DATA/pulse_4.dat'\n",
    "pulse_4 = get_data_pulse(file_name)\n",
    "\n",
    "pulse_1_Imax = max(pulse_1[:,1])\n",
    "pulse_2_Imax = max(pulse_2[:,1])\n",
    "pulse_3_Imax = max(pulse_3[:,1])\n",
    "pulse_4_Imax = max(pulse_4[:,1])\n",
    "\n",
    "npos = list(pulse_1[:,1]).index(pulse_1_Imax)\n",
    "pulse_1_Imax_TimePs = pulse_1[npos][0]*1000\n",
    "print('pulse_1_Imax_TimePs = ',pulse_1_Imax_TimePs)\n",
    "\n",
    "npos = list(pulse_2[:,1]).index(pulse_2_Imax)\n",
    "pulse_2_Imax_TimePs = pulse_2[npos][0]*1000\n",
    "print('pulse_2_Imax_TimePs = ',pulse_2_Imax_TimePs)\n",
    "\n",
    "npos = list(pulse_3[:,1]).index(pulse_3_Imax)\n",
    "pulse_3_Imax_TimePs = pulse_3[npos][0]*1000\n",
    "print('pulse_3_Imax_TimePs = ',pulse_3_Imax_TimePs)\n",
    "\n",
    "npos = list(pulse_4[:,1]).index(pulse_4_Imax)\n",
    "pulse_4_Imax_TimePs = pulse_4[npos][0]*1000\n",
    "print('pulse_4_Imax_TimePs = ',pulse_4_Imax_TimePs)\n",
    "\n",
    "print('pulse_1_Imax (W/cm^2) = ',\"{:.3e}\".format(pulse_1_Imax*100**-2))\n",
    "print('pulse_2_Imax (W/cm^2) = ',\"{:.3e}\".format(pulse_2_Imax*100**-2))\n",
    "print('pulse_3_Imax (W/cm^2) = ',\"{:.3e}\".format(pulse_3_Imax*100**-2))\n",
    "print('pulse_4_Imax (W/cm^2) = ',\"{:.3e}\".format(pulse_4_Imax*100**-2))"
   ]
  },
  {
   "cell_type": "markdown",
   "metadata": {
    "heading_collapsed": true
   },
   "source": [
    "## get_report_pulse"
   ]
  },
  {
   "cell_type": "code",
   "execution_count": 858,
   "metadata": {
    "ExecuteTime": {
     "end_time": "2021-08-12T16:37:01.246089Z",
     "start_time": "2021-08-12T16:36:59.064117Z"
    },
    "hidden": true
   },
   "outputs": [
    {
     "name": "stdout",
     "output_type": "stream",
     "text": [
      "Imax_1 (TW/cm^2) =  0.05698246204804474\n",
      "Imax_2 (TW/cm^2) =  0.11999025996219692\n",
      "Imax_3 (TW/cm^2) =  0.5405587034164969\n"
     ]
    },
    {
     "data": {
      "image/png": "[encoded data removed]",
      "text/plain": [
       "<Figure size 468x288 with 1 Axes>"
      ]
     },
     "metadata": {
      "needs_background": "light"
     },
     "output_type": "display_data"
    }
   ],
   "source": [
    "def get_report_pulse(exportFlag):\n",
    "    \n",
    "    plt.close('all')\n",
    "    fig = plt.figure(figsize=[6.5,4])\n",
    "    fs,fs2,fs3,fs4=20,15,18,10\n",
    "\n",
    "    label1 = r'\\textbf{$I_{\\mathrm{max}}=0.057 ~\\mathrm{TW/cm^2}$}'\n",
    "    label2 = r'\\textbf{$I_{\\mathrm{max}}=0.12 ~\\mathrm{TW/cm^2}$}'\n",
    "    label3 = r'\\textbf{$I_{\\mathrm{max}}=0.54 ~\\mathrm{TW/cm^2}$}'\n",
    "\n",
    "    nrow,ncol=1,1\n",
    "    ax1 = plt.subplot2grid((nrow, ncol), (0,0), colspan=1, rowspan=1) \n",
    "\n",
    "    unit_x = 1000\n",
    "    unit_y = (100**-2)*(10**-12)\n",
    "    ax1.plot(pulse_1[:,0]*unit_x,pulse_1[:,1]*unit_y,'-',c='k',lw=2,label=label1)\n",
    "    ax1.plot(pulse_2[:,0]*unit_x,pulse_2[:,1]*unit_y,'--',c='k',lw=2,label=label2)\n",
    "    ax1.plot(pulse_3[:,0]*unit_x,pulse_3[:,1]*unit_y,'-.',c='k',lw=2,label=label3)\n",
    "    #ax1.plot(pulse_4[:,0]*unit_x,pulse_4[:,1]*unit_y)\n",
    "\n",
    "    print('Imax_1 (TW/cm^2) = ',max(pulse_1[:,1]*unit_y))\n",
    "    print('Imax_2 (TW/cm^2) = ',max(pulse_2[:,1]*unit_y))\n",
    "    print('Imax_3 (TW/cm^2) = ',max(pulse_3[:,1]*unit_y))\n",
    "\n",
    "    #ax1.set_xlim([10028,10034])\n",
    "    ax1.tick_params(which='major',length=10,labelsize=fs2)\n",
    "    ax1.set_xlabel(r'\\textbf{$t$ (ps)}',fontsize=fs)\n",
    "    ax1.set_ylabel(r'\\textbf{$I ~(\\mathrm{10^{12}W/cm^{-2}})$}',fontsize=fs)\n",
    "    ax1.legend(fontsize=fs2,loc='center',bbox_to_anchor=[1.1,0.8])\n",
    "\n",
    "    plt.tight_layout()\n",
    "    if exportFlag : \n",
    "        export_name = 'pulse_1_to_3_intensities'\n",
    "        print(f'{\"Save as\":30}',':',export_name)\n",
    "        path = '/Users/kwoo/Desktop/PostDoc/InitialPlasma/reports/plots/'\n",
    "        print(f'{\"path_local\":30}',':',str(pathlib.Path().absolute()))    \n",
    "        print(f'{\"path_save\":30}',':',path)\n",
    "        plt.savefig(path+export_name+'.eps',format='eps')\n",
    "        plt.savefig(path+export_name,dpi=500) \n",
    "    plt.show() \n",
    "              \n",
    "get_report_pulse(exportFlag=0)              "
   ]
  },
  {
   "cell_type": "markdown",
   "metadata": {
    "heading_collapsed": true
   },
   "source": [
    "## get_nc"
   ]
  },
  {
   "cell_type": "code",
   "execution_count": 859,
   "metadata": {
    "ExecuteTime": {
     "end_time": "2021-08-12T16:37:32.002462Z",
     "start_time": "2021-08-12T16:37:31.990362Z"
    },
    "hidden": true
   },
   "outputs": [],
   "source": [
    "def get_nc(wavelength):\n",
    "    \n",
    "    # input wavelength unit : m\n",
    "    # output nc unit : 1/m^3\n",
    "    \n",
    "    angular_freq = 2*math.pi*(lightSpeed/wavelength)\n",
    "    ne_crit = vacuumPermittivity*massElectron*angular_freq**2/eCharge**2\n",
    "    return ne_crit # (1/m^3)"
   ]
  },
  {
   "cell_type": "markdown",
   "metadata": {},
   "source": [
    "## get_WPI"
   ]
  },
  {
   "cell_type": "code",
   "execution_count": 1231,
   "metadata": {
    "ExecuteTime": {
     "end_time": "2021-08-17T16:34:09.810642Z",
     "start_time": "2021-08-17T16:34:09.651612Z"
    }
   },
   "outputs": [
    {
     "name": "stdout",
     "output_type": "stream",
     "text": [
      "x =  0.5 , identity_correct =  1.5707963267948961 , identity_wrong =  0.8687815422231111\n",
      "ellipE(x) =  1.4674622093394272\n",
      "ellipK(x) =  1.6857503548125963\n",
      "\n",
      "laserI  [W/m^2] =  10000000000\n",
      "laserE1 [V/m]   =  2744952.840923973\n",
      "laserE2 [V/m]   =  2744923.72749469\n",
      "laserE1/laserE2 =  1.0000106062798726 1.4142135623730951\n",
      "W_PI,W_PI_appro =  4.0160761113630756e+20 7e+20 [1/s/cm^3]\n",
      "W_PI/W_PI_appro =  0.5737251587661537\n"
     ]
    }
   ],
   "source": [
    "def Sumfunction(K1,K2,E1,E2,Nmax,x):\n",
    "    summation = 0\n",
    "    for n in range(0,Nmax+1):\n",
    "        Z1 = math.pi**2*(2*math.modf(x+1)[1] - 2*x + n)\n",
    "        Z2 = 2*K2*E2\n",
    "        z = math.sqrt(Z1/Z2)\n",
    "        summation += math.exp(-math.pi*n*(K1 - E1)/E2)*Phifunction(z)\n",
    "    return summation\n",
    "    \n",
    "def Phifunction(z):\n",
    "    integrand = lambda y: math.exp(y**2-z**2)\n",
    "    phi = integrate.quad(integrand, 0, z)\n",
    "    return phi[0]\n",
    "\n",
    "def ellipK(x):\n",
    "    integrand = lambda y: 1/math.sqrt(1-x**2*math.sin(y)**2)\n",
    "    output = integrate.quad(integrand, 0, math.pi/2)\n",
    "    return output[0]\n",
    "\n",
    "def ellipE(x):\n",
    "    integrand = lambda y: math.sqrt(1-x**2*math.sin(y)**2)\n",
    "    output = integrate.quad(integrand, 0, math.pi/2)\n",
    "    return output[0]\n",
    "\n",
    "def check_idensity():\n",
    "    x = 0.5\n",
    "    \n",
    "    identity_wrong = scipy.special.ellipk(x)*scipy.special.ellipe(math.sqrt(1-x**2)) + \\\n",
    "    scipy.special.ellipe(x)*scipy.special.ellipk(math.sqrt(1-x**2)) - \\\n",
    "    scipy.special.ellipk(x)*scipy.special.ellipk(math.sqrt(1-x**2))\n",
    "\n",
    "    identity_correct = ellipK(x)*ellipE(math.sqrt(1-x**2)) + \\\n",
    "    ellipE(x)*ellipK(math.sqrt(1-x**2)) - ellipK(x)*ellipK(math.sqrt(1-x**2))\n",
    "\n",
    "    print('x = ',x,', identity_correct = ',identity_correct,', identity_wrong = ',identity_wrong,)\n",
    "    print('ellipE(x) = ',ellipE(x))\n",
    "    print('ellipK(x) = ',ellipK(x))\n",
    "    \n",
    "check_idensity()    \n",
    "\n",
    "def WPIfunction(laserI_IN,laserE,Nmax,omega_IN,bangGap):\n",
    "    \n",
    "    # laserI_IN unit : W/m^2\n",
    "    # laserE unit : V/m\n",
    "    # omega_IN unit : 1/s\n",
    "    # bangGap  unit : J\n",
    "    \n",
    "    # laserI unit : W/cm^2\n",
    "    laserI = laserI_IN/100**2\n",
    "    \n",
    "    # definitions of gamma1 and gamma2 are different from Arnab\n",
    "    gamma = omega_IN*math.sqrt(massElectronReduced*bangGap)/(eCharge*laserE)  \n",
    "    gamma1 = gamma/(1+gamma**2)**0.5\n",
    "    gamma2 = gamma1/gamma\n",
    "    \n",
    "    elliptics = 0\n",
    "    if elliptics==0:\n",
    "        K1 = scipy.special.ellipk(gamma1)\n",
    "        K2 = scipy.special.ellipk(gamma2)\n",
    "        E1 = scipy.special.ellipe(gamma1)\n",
    "        E2 = scipy.special.ellipe(gamma2)\n",
    "    elif elliptics==1:\n",
    "        K1 = ellipk(gamma1)\n",
    "        K2 = ellipk(gamma2)\n",
    "        E1 = ellipe(gamma1)\n",
    "        E2 = ellipe(gamma2)\n",
    "    \n",
    "    # L. V. Keldysh Eq.(38)\n",
    "    bangGapEffective = 2*bangGap*E2/(math.pi*gamma1)\n",
    "    x = bangGapEffective/(hbar*omega_IN)\n",
    "    \n",
    "    Qvalue = math.sqrt(math.pi/2/K2)*Sumfunction(K1,K2,E1,E2,Nmax,x)\n",
    "    \n",
    "    # Jack's WPI is about three times smaller than Arnab's WPI\n",
    "    WPI = 2*omega_IN/(9*math.pi)*(omega_IN*massElectronReduced/(hbar*gamma1))**1.5*\\\n",
    "    Qvalue*math.exp(-math.pi*math.modf(x+1)[1]*(K1-E1)/E2)*10**-6 # 1/(s.cm^3)\n",
    "    \n",
    "    # laserI unit : J/(s.cm^2)\n",
    "    # sigma2 unit : cm.s/J^2\n",
    "    WPI_appro = sigma2*laserI**2 # 1/(s.cm^3)\n",
    "    \n",
    "    return [WPI,WPI_appro]\n",
    "\n",
    "def get_WPI(laserI,laserE,Nmax,omega_IN,bangGap):\n",
    "    \n",
    "    # laserI unit : W/cm^2\n",
    "    # laserE unit : V/m\n",
    "    # omega_IN unit : 1/s\n",
    "    # bangGap  unit : J\n",
    "    \n",
    "    # definitions of gamma1 and gamma2 are different from Arnab\n",
    "    gamma = omega_IN*math.sqrt(massElectronReduced*bangGap)/(eCharge*laserE)  \n",
    "    gamma1 = gamma/(1+gamma**2)**0.5\n",
    "    gamma2 = gamma1/gamma\n",
    "    \n",
    "    elliptics = 0\n",
    "    if elliptics==0:\n",
    "        K1 = scipy.special.ellipk(gamma1)\n",
    "        K2 = scipy.special.ellipk(gamma2)\n",
    "        E1 = scipy.special.ellipe(gamma1)\n",
    "        E2 = scipy.special.ellipe(gamma2)\n",
    "    elif elliptics==1:\n",
    "        K1 = ellipk(gamma1)\n",
    "        K2 = ellipk(gamma2)\n",
    "        E1 = ellipe(gamma1)\n",
    "        E2 = ellipe(gamma2)\n",
    "    \n",
    "    # L. V. Keldysh Eq.(38)\n",
    "    bangGapEffective = 2*bangGap*E2/(math.pi*gamma1)\n",
    "    x = bangGapEffective/(hbar*omega_IN)\n",
    "    \n",
    "    Qvalue = math.sqrt(math.pi/2/K2)*Sumfunction(K1,K2,E1,E2,Nmax,x)\n",
    "    \n",
    "    # Jack's WPI is about three times smaller than Arnab's WPI\n",
    "    WPI = 2*omega_IN/(9*math.pi)*(omega_IN*massElectronReduced/(hbar*gamma1))**1.5*\\\n",
    "    Qvalue*math.exp(-math.pi*math.modf(x+1)[1]*(K1-E1)/E2)*10**-6 # 1/(s.cm^3)\n",
    "    \n",
    "    # laserI unit : J/(s.cm^2)\n",
    "    # sigma2 unit : cm.s/J^2\n",
    "    WPI_appro = sigma2*laserI**2 # 1/(s.cm^3)\n",
    "    \n",
    "    return WPI*100**3/2 # 1/(s.m^3)\n",
    "\n",
    "laserI0 = 10000000000 # W/m^2\n",
    "laserE1 = coef_laserI_eField*math.sqrt(laserI0) # V/m\n",
    "laserE2 = math.sqrt(2*laserI0/(epsilon0*lightSpeed))  # V/m\n",
    "W_PI , W_PI_appro = WPIfunction(laserI_IN=laserI0,laserE=laserE2,Nmax=50,\n",
    "                                omega_IN=omega_355nm,bangGap=Eg_CH)\n",
    "print()\n",
    "print('laserI  [W/m^2] = ',laserI0)\n",
    "print('laserE1 [V/m]   = ',laserE1)\n",
    "print('laserE2 [V/m]   = ',laserE2)\n",
    "print('laserE1/laserE2 = ',laserE1/laserE2,np.sqrt(2))\n",
    "print('W_PI,W_PI_appro = ',W_PI , W_PI_appro,'[1/s/cm^3]')\n",
    "print('W_PI/W_PI_appro = ',W_PI/W_PI_appro)"
   ]
  },
  {
   "cell_type": "markdown",
   "metadata": {
    "heading_collapsed": true
   },
   "source": [
    "## get_laserE"
   ]
  },
  {
   "cell_type": "code",
   "execution_count": 861,
   "metadata": {
    "ExecuteTime": {
     "end_time": "2021-08-12T16:39:39.503464Z",
     "start_time": "2021-08-12T16:39:39.497544Z"
    },
    "hidden": true
   },
   "outputs": [],
   "source": [
    "def get_laserE(laserI,RefractiveIndex):\n",
    "    \n",
    "    # input  laser intensity unit : W/m^2\n",
    "    # output electric field  unit : V/m\n",
    "    coef_laserI_eField = (2/lightSpeed/vacuumPermittivity/RefractiveIndex)**0.5\n",
    "    \n",
    "    return coef_laserI_eField*laserI**0.5 # V/m"
   ]
  },
  {
   "cell_type": "markdown",
   "metadata": {
    "heading_collapsed": true
   },
   "source": [
    "## get_W1"
   ]
  },
  {
   "cell_type": "code",
   "execution_count": 862,
   "metadata": {
    "ExecuteTime": {
     "end_time": "2021-08-12T16:40:28.897864Z",
     "start_time": "2021-08-12T16:40:28.892551Z"
    },
    "hidden": true
   },
   "outputs": [],
   "source": [
    "def get_W1(laserE):\n",
    "    \n",
    "    # rate of one-photon absorption in the conduction band,\n",
    "    # which evolves linearly with the laser intensity.\n",
    "    # reference : L Barilleau et al 2016 J. Phys. D: Appl. Phys. 49 485103\n",
    "\n",
    "    # input electric field  unit : V/m\n",
    "    # output W1 unit : 1/s\n",
    "\n",
    "    return 10**(-7)*laserE**2 # 1/s"
   ]
  },
  {
   "cell_type": "markdown",
   "metadata": {
    "heading_collapsed": true
   },
   "source": [
    "## get_Ce"
   ]
  },
  {
   "cell_type": "code",
   "execution_count": 863,
   "metadata": {
    "ExecuteTime": {
     "end_time": "2021-08-12T16:41:36.907507Z",
     "start_time": "2021-08-12T16:41:36.898467Z"
    },
    "hidden": true
   },
   "outputs": [],
   "source": [
    "def get_Ce(n_fe):\n",
    "    \n",
    "    # input electron number density  unit : 1/m^3\n",
    "    # output Ce unit : 1/m^3\n",
    "    \n",
    "    return 1.5*n_fe # 1/ m^3"
   ]
  },
  {
   "cell_type": "markdown",
   "metadata": {},
   "source": [
    "## get_Ci"
   ]
  },
  {
   "cell_type": "code",
   "execution_count": 1376,
   "metadata": {
    "ExecuteTime": {
     "end_time": "2021-08-20T05:56:07.264894Z",
     "start_time": "2021-08-20T05:56:07.002937Z"
    }
   },
   "outputs": [
    {
     "data": {
      "image/png": "[encoded data removed]",
      "text/plain": [
       "<Figure size 432x288 with 1 Axes>"
      ]
     },
     "metadata": {
      "needs_background": "light"
     },
     "output_type": "display_data"
    }
   ],
   "source": [
    "def get_Ci(n_a):    \n",
    "    # input atomic number density  unit : 1/m^3\n",
    "    # output Ci unit : 1/m^3    \n",
    "    return 1.5*n_a # 1/ m^3\n",
    "\n",
    "def get_Ci_new(n_a,Ti):\n",
    "    \n",
    "    # input n_a: 1/m^3\n",
    "    # input Ti : J\n",
    "    \n",
    "    # T : K \n",
    "    T = Ti/eV/kelvin_to_eV\n",
    "    \n",
    "    #print(T)\n",
    "    \n",
    "    cp_solid_1 = 7.7551*10**5*T**(-2) + 0.53447*T - 41.58\n",
    "    cp_solid_2 = 0.2653*T + 95.12\n",
    "        \n",
    "    if (T>=200) and (T<373)  : Ci = cp_solid_1*J_per_mole_per_K*n_a\n",
    "        \n",
    "    if (T>=373) and (T<700) : Ci = cp_solid_2*J_per_mole_per_K*n_a\n",
    "\n",
    "    if (T>=700) : Ci = 1.5*n_a\n",
    "    \n",
    "    return Ci\n",
    "\n",
    "if 1 :\n",
    "    temp = [ T for T in np.arange(0.025,.07,.001)]\n",
    "    Ci_new = np.array([ get_Ci_new(n_a_CH,T*eV) for T in temp ])\n",
    "    plt.plot(temp,Ci_new/n_a_CH)"
   ]
  },
  {
   "cell_type": "markdown",
   "metadata": {},
   "source": [
    "## get_G"
   ]
  },
  {
   "cell_type": "code",
   "execution_count": 1378,
   "metadata": {
    "ExecuteTime": {
     "end_time": "2021-08-20T05:59:00.120902Z",
     "start_time": "2021-08-20T05:59:00.110084Z"
    }
   },
   "outputs": [],
   "source": [
    "def get_G(Ce,vc,Ti):\n",
    "    \n",
    "    # input collision frequency unit : 1/s\n",
    "    # input Ce unit : 1/m^3 \n",
    "    # output G unit : 1/m^3/s\n",
    "    \n",
    "    mS = (12+1)*8*amu\n",
    "    mB = (12+1)*6*amu  \n",
    "    mA = (12+1)*2*amu\n",
    "    mCH = (12+1)/2*amu\n",
    "    mC = 12*amu\n",
    "    mH = 1*amu    \n",
    "    \n",
    "    if (Ti < 2.32*eV)  : mil = mH # (mS + mC + mH)/3\n",
    "    if (Ti >= 2.32*eV) and (Ti < 2.43*eV) : mil = (mS+mB+mA)/3\n",
    "    if (Ti >= 2.43*eV) and (Ti < 4.00*eV) : mil = mB\n",
    "    if (Ti >= 4.00*eV) and (Ti < 8.00*eV) : mil = (mB+mA+mCH)/3\n",
    "    if (Ti >= 8.00*eV) : mil = mCH\n",
    "        \n",
    "    me_to_mil = massElectron/mil\n",
    "    \n",
    "    #me_to_mil = 1/1836\n",
    "    \n",
    "    return Ce*vc*me_to_mil # 1/m^3/s"
   ]
  },
  {
   "cell_type": "markdown",
   "metadata": {
    "heading_collapsed": true
   },
   "source": [
    "## get_n"
   ]
  },
  {
   "cell_type": "code",
   "execution_count": 866,
   "metadata": {
    "ExecuteTime": {
     "end_time": "2021-08-12T16:43:20.532274Z",
     "start_time": "2021-08-12T16:43:20.523491Z"
    },
    "hidden": true
   },
   "outputs": [],
   "source": [
    "def get_n(n_IN,omega_IN):\n",
    "    \n",
    "    # input n_IN : 1/m^3\n",
    "    # input omega_IN : 1/s\n",
    "    \n",
    "    n_CGS = n_IN/100**3 # 1/cm^3\n",
    "    \n",
    "    omega_pe = np.sqrt(4*np.pi*n_CGS*eCharge_CGS**2/massElectron_CGS) # 1/s\n",
    "    \n",
    "    RefractiveIndex = np.sqrt(1-(omega_pe/omega_IN)**2) # unitless\n",
    "    \n",
    "    return RefractiveIndex # unitless"
   ]
  },
  {
   "cell_type": "markdown",
   "metadata": {
    "heading_collapsed": true
   },
   "source": [
    "## get_JH"
   ]
  },
  {
   "cell_type": "code",
   "execution_count": 867,
   "metadata": {
    "ExecuteTime": {
     "end_time": "2021-08-12T16:43:46.067074Z",
     "start_time": "2021-08-12T16:43:46.050396Z"
    },
    "hidden": true
   },
   "outputs": [],
   "source": [
    "def get_JH(n_fe,vc,omega,laserE,RefractiveIndex):\n",
    "    \n",
    "    # input eCharge unit : Coulomb\n",
    "    # input n_fe    unit : 1/m^3 \n",
    "    # input vc      unit : 1/s\n",
    "    # input massElectron unit : kg\n",
    "    # input omega unit : 1/s\n",
    "    # input laserE unit : V/m\n",
    "    # input lightSpeed unit : m/s\n",
    "    # input vacuumPermittivity unit : # C⋅V−1⋅m−1\n",
    "    \n",
    "    # output dUdt  unit : 1/m^3/s   \n",
    "    # output sigma unit : 1/m\n",
    "    \n",
    "    dUdt  = eCharge**2*n_fe*vc/massElectron/(omega**2+vc**2)*laserE**2         # J/s/m^3\n",
    "    #sigma = dUdt/(laserE**2)*2/(lightSpeed*RefractiveIndex*vacuumPermittivity) # 1/m\n",
    "    sigma = dUdt/(laserE**2)/(lightSpeed*RefractiveIndex*vacuumPermittivity) # 1/m\n",
    "    #sigma = vc/(RefractiveIndex*lightSpeed)\n",
    "    return [dUdt,sigma]"
   ]
  },
  {
   "cell_type": "markdown",
   "metadata": {
    "heading_collapsed": true
   },
   "source": [
    "## get_vr"
   ]
  },
  {
   "cell_type": "code",
   "execution_count": 1253,
   "metadata": {
    "ExecuteTime": {
     "end_time": "2021-08-17T19:47:51.164522Z",
     "start_time": "2021-08-17T19:47:51.158627Z"
    },
    "hidden": true
   },
   "outputs": [
    {
     "name": "stdout",
     "output_type": "stream",
     "text": [
      "3.558e+08\n"
     ]
    }
   ],
   "source": [
    "def get_vr(ne,Te):\n",
    "    \n",
    "    # ne : 1/m^3\n",
    "    # Te : J\n",
    "    \n",
    "    Te_eV = Te/eV      # eV\n",
    "    ne_gcc = ne/100**3 # 1/cm^3\n",
    "    \n",
    "    tr = 1.8*10**26*Te_eV**4.5/ne_gcc**2 # s\n",
    "\n",
    "    vr = 1/tr # 1/s\n",
    "    \n",
    "    return vr\n",
    "    \n",
    "print(\"{:.3e}\".format(get_vr(4.5*10**19*100**3,10*eV))   )"
   ]
  },
  {
   "cell_type": "markdown",
   "metadata": {},
   "source": [
    "## get_vi"
   ]
  },
  {
   "cell_type": "code",
   "execution_count": 1252,
   "metadata": {
    "ExecuteTime": {
     "end_time": "2021-08-17T19:47:19.379446Z",
     "start_time": "2021-08-17T19:47:19.369835Z"
    }
   },
   "outputs": [
    {
     "name": "stdout",
     "output_type": "stream",
     "text": [
      "6.406e+11\n"
     ]
    }
   ],
   "source": [
    "def get_vi(laserE,omega,Eg,vc):\n",
    "\n",
    "    # input eCharge unit : Coulomb\n",
    "    # input vc      unit : 1/s\n",
    "    # input massElectron unit : kg\n",
    "    # input omega unit : 1/s\n",
    "    # input laserE unit : V/m\n",
    "    # input lightSpeed unit : m/s\n",
    "    # input vacuumPermittivity unit : # C⋅V−1⋅m−1\n",
    "    \n",
    "    vi  = eCharge**2*vc/massElectron/(omega**2+vc**2)*laserE**2/Eg_CH         # J/s\n",
    "    \n",
    "    return vi\n",
    "\n",
    "laserE = get_laserE(laserI=5.7*10**10*100**2,RefractiveIndex=1)\n",
    "\n",
    "print(\"{:.3e}\".format(get_vi(laserE,omega_355nm,Eg_CH,10**15)))"
   ]
  },
  {
   "cell_type": "markdown",
   "metadata": {},
   "source": [
    "## get_main"
   ]
  },
  {
   "cell_type": "code",
   "execution_count": 1584,
   "metadata": {
    "ExecuteTime": {
     "end_time": "2021-08-23T08:14:21.772988Z",
     "start_time": "2021-08-22T21:55:35.800057Z"
    },
    "scrolled": true
   },
   "outputs": [
    {
     "name": "stdout",
     "output_type": "stream",
     "text": [
      "time_step    =  0\n",
      "time         =  0.000e+00  ps\n",
      "time_current =  0.000e+00  ps\n",
      "time_next    =  5.000e+00  ps\n",
      "dt           =  1.184e-14  s\n",
      "Te_IN, Te_OUT =  2.500e-02 2.500e-02 eV\n",
      "Ti_IN, Ti_OUT =  2.500e-02 2.500e-02 eV\n",
      "ne_IN, ne_OUT =  1.000e+16 1.000e+16 1/m^3\n",
      "vc_IN, vc_OUT =  1.486e+15 1.486e+15 1/s\n",
      "dU_IN, dU_OUT =  1.601e+07 1.601e+07 J/s/m^3\n",
      "si_IN, si_OUT =  5.196e-06 5.196e-06 1/m\n",
      "Z_IN,  Z_OUT  =  9.804e-14 9.804e-14\n",
      "Z_QMD_IN,Z_QMD_OUT =  2.047e-97 2.047e-97\n",
      "Te_max        =  2.500e-02 eV\n",
      "Ti_max        =  2.500e-02 eV\n",
      "ite_max       =  422\n",
      "Ray propagation completed in time_step :  0\n",
      "t_end_wall - t_start_wall =  23  minutes\n",
      "time_ps,transimittance for probe and pump =  -1.150e+02 9.967e-01 1.000e+00\n",
      "---\n",
      "time_step    =  1\n",
      "time         =  4.997e+00  ps\n",
      "time_current =  5.000e+00  ps\n",
      "time_next    =  1.000e+01  ps\n",
      "dt           =  1.184e-14  s\n",
      "Te_IN, Te_OUT =  2.054e-02 2.054e-02 eV\n",
      "Ti_IN, Ti_OUT =  2.500e-02 2.500e-02 eV\n",
      "ne_IN, ne_OUT =  3.915e+16 3.915e+16 1/m^3\n",
      "vc_IN, vc_OUT =  1.424e+15 1.424e+15 1/s\n",
      "dU_IN, dU_OUT =  2.120e+06 2.120e+06 J/s/m^3\n",
      "si_IN, si_OUT =  1.961e-05 1.961e-05 1/m\n",
      "Z_IN,  Z_OUT  =  3.838e-13 3.838e-13\n",
      "Z_QMD_IN,Z_QMD_OUT =  7.312e-118 7.313e-118\n",
      "Te_max        =  2.054e-02 eV\n",
      "Ti_max        =  2.500e-02 eV\n",
      "ite_max       =  422\n",
      "Ray propagation completed in time_step :  1\n",
      "t_end_wall - t_start_wall =  46  minutes\n",
      "time_ps,transimittance for probe and pump =  -1.100e+02 9.967e-01 1.000e+00\n",
      "---\n",
      "time_step    =  2\n",
      "time         =  9.994e+00  ps\n",
      "time_current =  1.000e+01  ps\n",
      "time_next    =  1.500e+01  ps\n",
      "dt           =  1.184e-14  s\n",
      "Te_IN, Te_OUT =  2.043e-02 2.043e-02 eV\n",
      "Ti_IN, Ti_OUT =  2.500e-02 2.500e-02 eV\n",
      "ne_IN, ne_OUT =  1.896e+18 1.896e+18 1/m^3\n",
      "vc_IN, vc_OUT =  1.423e+15 1.423e+15 1/s\n",
      "dU_IN, dU_OUT =  8.199e+08 8.199e+08 J/s/m^3\n",
      "si_IN, si_OUT =  9.488e-04 9.488e-04 1/m\n",
      "Z_IN,  Z_OUT  =  1.859e-11 1.859e-11\n",
      "Z_QMD_IN,Z_QMD_OUT =  1.874e-118 1.874e-118\n",
      "Te_max        =  2.043e-02 eV\n",
      "Ti_max        =  2.500e-02 eV\n",
      "ite_max       =  422\n",
      "Ray propagation completed in time_step :  2\n",
      "t_end_wall - t_start_wall =  68  minutes\n",
      "time_ps,transimittance for probe and pump =  -1.050e+02 9.967e-01 1.000e+00\n",
      "---\n",
      "time_step    =  3\n",
      "time         =  1.499e+01  ps\n",
      "time_current =  1.500e+01  ps\n",
      "time_next    =  2.000e+01  ps\n",
      "dt           =  1.184e-14  s\n",
      "Te_IN, Te_OUT =  2.414e-02 2.414e-02 eV\n",
      "Ti_IN, Ti_OUT =  2.500e-02 2.500e-02 eV\n",
      "ne_IN, ne_OUT =  3.314e+18 3.313e+18 1/m^3\n",
      "vc_IN, vc_OUT =  1.475e+15 1.475e+15 1/s\n",
      "dU_IN, dU_OUT =  1.296e+09 1.296e+09 J/s/m^3\n",
      "si_IN, si_OUT =  1.711e-03 1.711e-03 1/m\n",
      "Z_IN,  Z_OUT  =  3.249e-11 3.248e-11\n",
      "Z_QMD_IN,Z_QMD_OUT =  8.790e-101 8.787e-101\n",
      "Te_max        =  2.414e-02 eV\n",
      "Ti_max        =  2.500e-02 eV\n",
      "ite_max       =  422\n",
      "Ray propagation completed in time_step :  3\n",
      "t_end_wall - t_start_wall =  90  minutes\n",
      "time_ps,transimittance for probe and pump =  -1.000e+02 9.967e-01 9.998e-01\n",
      "---\n",
      "time_step    =  4\n",
      "time         =  1.999e+01  ps\n",
      "time_current =  2.000e+01  ps\n",
      "time_next    =  2.500e+01  ps\n",
      "dt           =  1.184e-14  s\n",
      "Te_IN, Te_OUT =  4.082e-02 4.081e-02 eV\n",
      "Ti_IN, Ti_OUT =  2.500e-02 2.500e-02 eV\n",
      "ne_IN, ne_OUT =  2.715e+20 2.714e+20 1/m^3\n",
      "vc_IN, vc_OUT =  1.626e+15 1.626e+15 1/s\n",
      "dU_IN, dU_OUT =  1.592e+12 1.592e+12 J/s/m^3\n",
      "si_IN, si_OUT =  1.522e-01 1.521e-01 1/m\n",
      "Z_IN,  Z_OUT  =  2.662e-09 2.661e-09\n",
      "Z_QMD_IN,Z_QMD_OUT =  6.060e-61 5.975e-61\n",
      "Te_max        =  4.082e-02 eV\n",
      "Ti_max        =  2.500e-02 eV\n",
      "ite_max       =  422\n",
      "Ray propagation completed in time_step :  4\n",
      "t_end_wall - t_start_wall =  110  minutes\n",
      "time_ps,transimittance for probe and pump =  -9.500e+01 9.966e-01 9.996e-01\n",
      "---\n",
      "time_step    =  5\n",
      "time         =  2.499e+01  ps\n",
      "time_current =  2.500e+01  ps\n",
      "time_next    =  3.000e+01  ps\n",
      "dt           =  1.184e-14  s\n",
      "Te_IN, Te_OUT =  6.149e-02 6.148e-02 eV\n",
      "Ti_IN, Ti_OUT =  2.500e-02 2.500e-02 eV\n",
      "ne_IN, ne_OUT =  1.111e+21 1.110e+21 1/m^3\n",
      "vc_IN, vc_OUT =  1.718e+15 1.718e+15 1/s\n",
      "dU_IN, dU_OUT =  1.210e+13 1.210e+13 J/s/m^3\n",
      "si_IN, si_OUT =  6.513e-01 6.508e-01 1/m\n",
      "Z_IN,  Z_OUT  =  1.089e-08 1.088e-08\n",
      "Z_QMD_IN,Z_QMD_OUT =  1.442e-41 1.413e-41\n",
      "Te_max        =  6.149e-02 eV\n",
      "Ti_max        =  2.500e-02 eV\n",
      "ite_max       =  422\n",
      "Ray propagation completed in time_step :  5\n",
      "t_end_wall - t_start_wall =  130  minutes\n",
      "time_ps,transimittance for probe and pump =  -9.000e+01 9.965e-01 9.992e-01\n",
      "---\n",
      "time_step    =  6\n",
      "time         =  2.998e+01  ps\n",
      "time_current =  3.000e+01  ps\n",
      "time_next    =  3.500e+01  ps\n",
      "dt           =  1.184e-14  s\n",
      "Te_IN, Te_OUT =  1.069e-01 1.069e-01 eV\n",
      "Ti_IN, Ti_OUT =  2.500e-02 2.500e-02 eV\n",
      "ne_IN, ne_OUT =  4.876e+21 4.869e+21 1/m^3\n",
      "vc_IN, vc_OUT =  1.790e+15 1.790e+15 1/s\n",
      "dU_IN, dU_OUT =  1.169e+14 1.167e+14 J/s/m^3\n",
      "si_IN, si_OUT =  2.954e+00 2.950e+00 1/m\n",
      "Z_IN,  Z_OUT  =  4.780e-08 4.774e-08\n",
      "Z_QMD_IN,Z_QMD_OUT =  2.627e-25 2.548e-25\n",
      "Te_max        =  1.069e-01 eV\n",
      "Ti_max        =  2.500e-02 eV\n",
      "ite_max       =  422\n",
      "Ray propagation completed in time_step :  6\n",
      "t_end_wall - t_start_wall =  149  minutes\n",
      "time_ps,transimittance for probe and pump =  -8.500e+01 9.963e-01 9.987e-01\n",
      "---\n",
      "time_step    =  7\n",
      "time         =  3.498e+01  ps\n",
      "time_current =  3.500e+01  ps\n",
      "time_next    =  4.000e+01  ps\n",
      "dt           =  1.184e-14  s\n",
      "Te_IN, Te_OUT =  1.497e-01 1.496e-01 eV\n",
      "Ti_IN, Ti_OUT =  2.500e-02 2.500e-02 eV\n",
      "ne_IN, ne_OUT =  1.256e+22 1.254e+22 1/m^3\n",
      "vc_IN, vc_OUT =  1.800e+15 1.800e+15 1/s\n",
      "dU_IN, dU_OUT =  4.338e+14 4.330e+14 J/s/m^3\n",
      "si_IN, si_OUT =  7.646e+00 7.631e+00 1/m\n",
      "Z_IN,  Z_OUT  =  1.232e-07 1.229e-07\n",
      "Z_QMD_IN,Z_QMD_OUT =  5.227e-19 5.042e-19\n",
      "Te_max        =  1.497e-01 eV\n",
      "Ti_max        =  2.500e-02 eV\n",
      "ite_max       =  422\n",
      "Ray propagation completed in time_step :  7\n",
      "t_end_wall - t_start_wall =  167  minutes\n",
      "time_ps,transimittance for probe and pump =  -8.000e+01 9.958e-01 9.978e-01\n",
      "---\n",
      "time_step    =  8\n",
      "time         =  3.998e+01  ps\n",
      "time_current =  4.000e+01  ps\n",
      "time_next    =  4.500e+01  ps\n",
      "dt           =  1.184e-14  s\n",
      "Te_IN, Te_OUT =  2.226e-01 2.222e-01 eV\n",
      "Ti_IN, Ti_OUT =  2.500e-02 2.500e-02 eV\n",
      "ne_IN, ne_OUT =  3.117e+22 3.108e+22 1/m^3\n",
      "vc_IN, vc_OUT =  1.779e+15 1.779e+15 1/s\n",
      "dU_IN, dU_OUT =  1.667e+15 1.661e+15 J/s/m^3\n",
      "si_IN, si_OUT =  1.880e+01 1.874e+01 1/m\n",
      "Z_IN,  Z_OUT  =  3.056e-07 3.047e-07\n",
      "Z_QMD_IN,Z_QMD_OUT =  7.714e-14 7.387e-14\n",
      "Te_max        =  2.226e-01 eV\n",
      "Ti_max        =  2.500e-02 eV\n",
      "ite_max       =  422\n",
      "Ray propagation completed in time_step :  8\n",
      "t_end_wall - t_start_wall =  184  minutes\n",
      "time_ps,transimittance for probe and pump =  -7.500e+01 9.948e-01 9.964e-01\n",
      "---\n",
      "time_step    =  9\n",
      "time         =  4.497e+01  ps\n",
      "time_current =  4.500e+01  ps\n",
      "time_next    =  5.000e+01  ps\n",
      "dt           =  1.184e-14  s\n",
      "Te_IN, Te_OUT =  3.205e-01 3.195e-01 eV\n",
      "Ti_IN, Ti_OUT =  2.500e-02 2.500e-02 eV\n",
      "ne_IN, ne_OUT =  7.115e+22 7.079e+22 1/m^3\n",
      "vc_IN, vc_OUT =  1.732e+15 1.733e+15 1/s\n",
      "dU_IN, dU_OUT =  5.475e+15 5.449e+15 J/s/m^3\n",
      "si_IN, si_OUT =  4.200e+01 4.180e+01 1/m\n",
      "Z_IN,  Z_OUT  =  6.975e-07 6.940e-07\n",
      "Z_QMD_IN,Z_QMD_OUT =  1.417e-10 1.346e-10\n",
      "Te_max        =  3.205e-01 eV\n",
      "Ti_max        =  2.500e-02 eV\n",
      "ite_max       =  422\n",
      "Ray propagation completed in time_step :  9\n",
      "t_end_wall - t_start_wall =  202  minutes\n",
      "time_ps,transimittance for probe and pump =  -7.000e+01 9.917e-01 9.925e-01\n",
      "---\n",
      "time_step    =  10\n",
      "time         =  4.997e+01  ps\n",
      "time_current =  5.000e+01  ps\n",
      "time_next    =  5.500e+01  ps\n",
      "dt           =  1.184e-14  s\n",
      "Te_IN, Te_OUT =  5.499e-01 5.465e-01 eV\n",
      "Ti_IN, Ti_OUT =  2.500e-02 2.500e-02 eV\n",
      "ne_IN, ne_OUT =  1.989e+23 1.970e+23 1/m^3\n",
      "vc_IN, vc_OUT =  1.624e+15 1.625e+15 1/s\n",
      "dU_IN, dU_OUT =  2.607e+16 2.584e+16 J/s/m^3\n",
      "si_IN, si_OUT =  1.114e+02 1.104e+02 1/m\n",
      "Z_IN,  Z_OUT  =  1.950e-06 1.931e-06\n",
      "Z_QMD_IN,Z_QMD_OUT =  1.963e-07 1.843e-07\n",
      "Te_max        =  5.499e-01 eV\n",
      "Ti_max        =  2.500e-02 eV\n",
      "ite_max       =  422\n",
      "Ray propagation completed in time_step :  10\n",
      "t_end_wall - t_start_wall =  217  minutes\n",
      "time_ps,transimittance for probe and pump =  -6.500e+01 9.822e-01 9.832e-01\n",
      "---\n",
      "time_step    =  11\n",
      "time         =  5.497e+01  ps\n",
      "time_current =  5.500e+01  ps\n",
      "time_next    =  6.000e+01  ps\n",
      "dt           =  1.184e-14  s\n",
      "Te_IN, Te_OUT =  9.809e-01 9.678e-01 eV\n",
      "Ti_IN, Ti_OUT =  2.500e-02 2.500e-02 eV\n",
      "ne_IN, ne_OUT =  6.224e+23 6.092e+23 1/m^3\n",
      "vc_IN, vc_OUT =  1.475e+15 1.479e+15 1/s\n",
      "dU_IN, dU_OUT =  1.371e+17 1.345e+17 J/s/m^3\n",
      "si_IN, si_OUT =  3.213e+02 3.152e+02 1/m\n",
      "Z_IN,  Z_OUT  =  6.102e-06 5.973e-06\n",
      "Z_QMD_IN,Z_QMD_OUT =  1.958e-05 1.803e-05\n",
      "Te_max        =  9.809e-01 eV\n",
      "Ti_max        =  2.500e-02 eV\n",
      "ite_max       =  422\n"
     ]
    },
    {
     "name": "stdout",
     "output_type": "stream",
     "text": [
      "Ray propagation completed in time_step :  11\n",
      "t_end_wall - t_start_wall =  232  minutes\n",
      "time_ps,transimittance for probe and pump =  -6.000e+01 9.572e-01 9.620e-01\n",
      "---\n",
      "time_step    =  12\n",
      "time         =  5.997e+01  ps\n",
      "time_current =  6.000e+01  ps\n",
      "time_next    =  6.500e+01  ps\n",
      "dt           =  1.184e-14  s\n",
      "Te_IN, Te_OUT =  1.694e+00 1.645e+00 eV\n",
      "Ti_IN, Ti_OUT =  2.501e-02 2.501e-02 eV\n",
      "ne_IN, ne_OUT =  1.900e+24 1.814e+24 1/m^3\n",
      "vc_IN, vc_OUT =  1.324e+15 1.332e+15 1/s\n",
      "dU_IN, dU_OUT =  6.539e+17 6.276e+17 J/s/m^3\n",
      "si_IN, si_OUT =  8.929e+02 8.570e+02 1/m\n",
      "Z_IN,  Z_OUT  =  1.863e-05 1.778e-05\n",
      "Z_QMD_IN,Z_QMD_OUT =  2.785e-04 2.482e-04\n",
      "Te_max        =  1.694e+00 eV\n",
      "Ti_max        =  2.501e-02 eV\n",
      "ite_max       =  422\n",
      "Ray propagation completed in time_step :  12\n",
      "t_end_wall - t_start_wall =  247  minutes\n",
      "time_ps,transimittance for probe and pump =  -5.500e+01 9.108e-01 9.271e-01\n",
      "---\n",
      "time_step    =  13\n",
      "time         =  6.496e+01  ps\n",
      "time_current =  6.500e+01  ps\n",
      "time_next    =  7.000e+01  ps\n",
      "dt           =  1.184e-14  s\n",
      "Te_IN, Te_OUT =  2.511e+00 2.372e+00 eV\n",
      "Ti_IN, Ti_OUT =  2.503e-02 2.503e-02 eV\n",
      "ne_IN, ne_OUT =  4.624e+24 4.240e+24 1/m^3\n",
      "vc_IN, vc_OUT =  1.218e+15 1.233e+15 1/s\n",
      "dU_IN, dU_OUT =  2.082e+18 1.930e+18 J/s/m^3\n",
      "si_IN, si_OUT =  2.018e+03 1.870e+03 1/m\n",
      "Z_IN,  Z_OUT  =  4.534e-05 4.157e-05\n",
      "Z_QMD_IN,Z_QMD_OUT =  1.041e-03 8.790e-04\n",
      "Te_max        =  2.511e+00 eV\n",
      "Ti_max        =  2.503e-02 eV\n",
      "ite_max       =  422\n",
      "Ray propagation completed in time_step :  13\n",
      "t_end_wall - t_start_wall =  261  minutes\n",
      "time_ps,transimittance for probe and pump =  -5.000e+01 8.505e-01 8.849e-01\n",
      "---\n",
      "time_step    =  14\n",
      "time         =  6.996e+01  ps\n",
      "time_current =  7.000e+01  ps\n",
      "time_next    =  7.500e+01  ps\n",
      "dt           =  1.184e-14  s\n",
      "Te_IN, Te_OUT =  3.116e+00 2.833e+00 eV\n",
      "Ti_IN, Ti_OUT =  2.510e-02 2.508e-02 eV\n",
      "ne_IN, ne_OUT =  8.637e+24 7.538e+24 1/m^3\n",
      "vc_IN, vc_OUT =  1.163e+15 1.187e+15 1/s\n",
      "dU_IN, dU_OUT =  4.259e+18 3.787e+18 J/s/m^3\n",
      "si_IN, si_OUT =  3.617e+03 3.216e+03 1/m\n",
      "Z_IN,  Z_OUT  =  8.467e-05 7.391e-05\n",
      "Z_QMD_IN,Z_QMD_OUT =  1.868e-03 1.458e-03\n",
      "Te_max        =  3.116e+00 eV\n",
      "Ti_max        =  2.510e-02 eV\n",
      "ite_max       =  422\n",
      "Ray propagation completed in time_step :  14\n",
      "t_end_wall - t_start_wall =  277  minutes\n",
      "time_ps,transimittance for probe and pump =  -4.500e+01 7.862e-01 8.412e-01\n",
      "---\n",
      "time_step    =  15\n",
      "time         =  7.496e+01  ps\n",
      "time_current =  7.500e+01  ps\n",
      "time_next    =  8.000e+01  ps\n",
      "dt           =  1.184e-14  s\n",
      "Te_IN, Te_OUT =  3.415e+00 2.966e+00 eV\n",
      "Ti_IN, Ti_OUT =  2.521e-02 2.517e-02 eV\n",
      "ne_IN, ne_OUT =  1.340e+25 1.109e+25 1/m^3\n",
      "vc_IN, vc_OUT =  1.143e+15 1.178e+15 1/s\n",
      "dU_IN, dU_OUT =  6.521e+18 5.548e+18 J/s/m^3\n",
      "si_IN, si_OUT =  5.523e+03 4.697e+03 1/m\n",
      "Z_IN,  Z_OUT  =  1.313e-04 1.087e-04\n",
      "Z_QMD_IN,Z_QMD_OUT =  2.339e-03 1.645e-03\n",
      "Te_max        =  3.415e+00 eV\n",
      "Ti_max        =  2.521e-02 eV\n",
      "ite_max       =  422\n",
      "Ray propagation completed in time_step :  15\n",
      "t_end_wall - t_start_wall =  291  minutes\n",
      "time_ps,transimittance for probe and pump =  -4.000e+01 7.250e-01 7.995e-01\n",
      "---\n",
      "time_step    =  16\n",
      "time         =  7.995e+01  ps\n",
      "time_current =  8.000e+01  ps\n",
      "time_next    =  8.500e+01  ps\n",
      "dt           =  1.184e-14  s\n",
      "Te_IN, Te_OUT =  3.425e+00 2.830e+00 eV\n",
      "Ti_IN, Ti_OUT =  2.537e-02 2.529e-02 eV\n",
      "ne_IN, ne_OUT =  1.832e+25 1.441e+25 1/m^3\n",
      "vc_IN, vc_OUT =  1.146e+15 1.192e+15 1/s\n",
      "dU_IN, dU_OUT =  8.253e+18 6.726e+18 J/s/m^3\n",
      "si_IN, si_OUT =  7.574e+03 6.171e+03 1/m\n",
      "Z_IN,  Z_OUT  =  1.796e-04 1.412e-04\n",
      "Z_QMD_IN,Z_QMD_OUT =  2.355e-03 1.453e-03\n",
      "Te_max        =  3.425e+00 eV\n",
      "Ti_max        =  2.537e-02 eV\n",
      "ite_max       =  422\n",
      "Ray propagation completed in time_step :  16\n",
      "t_end_wall - t_start_wall =  306  minutes\n",
      "time_ps,transimittance for probe and pump =  -3.500e+01 6.663e-01 7.579e-01\n",
      "---\n",
      "time_step    =  17\n",
      "time         =  8.495e+01  ps\n",
      "time_current =  8.500e+01  ps\n",
      "time_next    =  9.000e+01  ps\n",
      "dt           =  1.184e-14  s\n",
      "Te_IN, Te_OUT =  3.443e+00 2.701e+00 eV\n",
      "Ti_IN, Ti_OUT =  2.559e-02 2.543e-02 eV\n",
      "ne_IN, ne_OUT =  2.365e+25 1.762e+25 1/m^3\n",
      "vc_IN, vc_OUT =  1.150e+15 1.208e+15 1/s\n",
      "dU_IN, dU_OUT =  1.003e+19 7.815e+18 J/s/m^3\n",
      "si_IN, si_OUT =  9.806e+03 7.637e+03 1/m\n",
      "Z_IN,  Z_OUT  =  2.318e-04 1.727e-04\n",
      "Z_QMD_IN,Z_QMD_OUT =  2.385e-03 1.279e-03\n",
      "Te_max        =  3.443e+00 eV\n",
      "Ti_max        =  2.559e-02 eV\n",
      "ite_max       =  422\n",
      "Ray propagation completed in time_step :  17\n",
      "t_end_wall - t_start_wall =  321  minutes\n",
      "time_ps,transimittance for probe and pump =  -3.000e+01 6.078e-01 7.146e-01\n",
      "---\n",
      "time_step    =  18\n",
      "time         =  8.995e+01  ps\n",
      "time_current =  9.000e+01  ps\n",
      "time_next    =  9.500e+01  ps\n",
      "dt           =  1.184e-14  s\n",
      "Te_IN, Te_OUT =  3.591e+00 2.666e+00 eV\n",
      "Ti_IN, Ti_OUT =  2.588e-02 2.560e-02 eV\n",
      "ne_IN, ne_OUT =  2.990e+25 2.098e+25 1/m^3\n",
      "vc_IN, vc_OUT =  1.146e+15 1.215e+15 1/s\n",
      "dU_IN, dU_OUT =  1.239e+19 9.169e+18 J/s/m^3\n",
      "si_IN, si_OUT =  1.237e+04 9.147e+03 1/m\n",
      "Z_IN,  Z_OUT  =  2.932e-04 2.057e-04\n",
      "Z_QMD_IN,Z_QMD_OUT =  2.632e-03 1.234e-03\n",
      "Te_max        =  3.591e+00 eV\n",
      "Ti_max        =  2.588e-02 eV\n",
      "ite_max       =  422\n",
      "Ray propagation completed in time_step :  18\n",
      "t_end_wall - t_start_wall =  336  minutes\n",
      "time_ps,transimittance for probe and pump =  -2.500e+01 5.454e-01 6.662e-01\n",
      "---\n",
      "time_step    =  19\n",
      "time         =  9.495e+01  ps\n",
      "time_current =  9.500e+01  ps\n",
      "time_next    =  1.000e+02  ps\n",
      "dt           =  1.184e-14  s\n",
      "Te_IN, Te_OUT =  3.963e+00 2.766e+00 eV\n",
      "Ti_IN, Ti_OUT =  2.626e-02 2.580e-02 eV\n",
      "ne_IN, ne_OUT =  3.811e+25 2.486e+25 1/m^3\n",
      "vc_IN, vc_OUT =  1.131e+15 1.210e+15 1/s\n",
      "dU_IN, dU_OUT =  1.613e+19 1.119e+19 J/s/m^3\n",
      "si_IN, si_OUT =  1.558e+04 1.080e+04 1/m\n",
      "Z_IN,  Z_OUT  =  3.737e-04 2.438e-04\n",
      "Z_QMD_IN,Z_QMD_OUT =  3.289e-03 1.365e-03\n",
      "Te_max        =  3.963e+00 eV\n",
      "Ti_max        =  2.626e-02 eV\n",
      "ite_max       =  422\n",
      "Ray propagation completed in time_step :  19\n",
      "t_end_wall - t_start_wall =  351  minutes\n",
      "time_ps,transimittance for probe and pump =  -2.000e+01 4.785e-01 6.125e-01\n",
      "---\n",
      "time_step    =  20\n",
      "time         =  9.994e+01  ps\n",
      "time_current =  1.000e+02  ps\n",
      "time_next    =  1.050e+02  ps\n",
      "dt           =  1.184e-14  s\n",
      "Te_IN, Te_OUT =  4.285e+00 2.772e+00 eV\n",
      "Ti_IN, Ti_OUT =  2.678e-02 2.604e-02 eV\n",
      "ne_IN, ne_OUT =  4.851e+25 2.906e+25 1/m^3\n",
      "vc_IN, vc_OUT =  1.124e+15 1.215e+15 1/s\n",
      "dU_IN, dU_OUT =  2.029e+19 1.305e+19 J/s/m^3\n",
      "si_IN, si_OUT =  1.973e+04 1.268e+04 1/m\n",
      "Z_IN,  Z_OUT  =  4.756e-04 2.849e-04\n",
      "Z_QMD_IN,Z_QMD_OUT =  3.892e-03 1.374e-03\n",
      "Te_max        =  4.285e+00 eV\n",
      "Ti_max        =  2.678e-02 eV\n",
      "ite_max       =  422\n",
      "Ray propagation completed in time_step :  20\n",
      "t_end_wall - t_start_wall =  366  minutes\n",
      "time_ps,transimittance for probe and pump =  -1.500e+01 4.072e-01 5.520e-01\n",
      "---\n",
      "time_step    =  21\n",
      "time         =  1.049e+02  ps\n",
      "time_current =  1.050e+02  ps\n",
      "time_next    =  1.100e+02  ps\n",
      "dt           =  1.184e-14  s\n",
      "Te_IN, Te_OUT =  4.843e+00 2.862e+00 eV\n",
      "Ti_IN, Ti_OUT =  2.750e-02 2.632e-02 eV\n",
      "ne_IN, ne_OUT =  6.289e+25 3.389e+25 1/m^3\n",
      "vc_IN, vc_OUT =  1.112e+15 1.214e+15 1/s\n",
      "dU_IN, dU_OUT =  2.675e+19 1.560e+19 J/s/m^3\n",
      "si_IN, si_OUT =  2.536e+04 1.477e+04 1/m\n",
      "Z_IN,  Z_OUT  =  6.166e-04 3.322e-04\n",
      "Z_QMD_IN,Z_QMD_OUT =  4.999e-03 1.498e-03\n",
      "Te_max        =  4.843e+00 eV\n",
      "Ti_max        =  2.750e-02 eV\n",
      "ite_max       =  422\n",
      "Ray propagation completed in time_step :  21\n",
      "t_end_wall - t_start_wall =  381  minutes\n",
      "time_ps,transimittance for probe and pump =  -1.000e+01 3.320e-01 4.843e-01\n",
      "---\n",
      "time_step    =  22\n",
      "time         =  1.099e+02  ps\n",
      "time_current =  1.100e+02  ps\n",
      "time_next    =  1.150e+02  ps\n",
      "dt           =  1.184e-14  s\n",
      "Te_IN, Te_OUT =  5.407e+00 2.847e+00 eV\n",
      "Ti_IN, Ti_OUT =  2.851e-02 2.665e-02 eV\n",
      "ne_IN, ne_OUT =  8.257e+25 3.909e+25 1/m^3\n",
      "vc_IN, vc_OUT =  1.111e+15 1.223e+15 1/s\n",
      "dU_IN, dU_OUT =  3.450e+19 1.782e+19 J/s/m^3\n",
      "si_IN, si_OUT =  3.329e+04 1.716e+04 1/m\n",
      "Z_IN,  Z_OUT  =  8.095e-04 3.832e-04\n",
      "Z_QMD_IN,Z_QMD_OUT =  6.183e-03 1.476e-03\n",
      "Te_max        =  5.407e+00 eV\n",
      "Ti_max        =  2.851e-02 eV\n",
      "ite_max       =  422\n",
      "Ray propagation completed in time_step :  22\n",
      "t_end_wall - t_start_wall =  395  minutes\n",
      "time_ps,transimittance for probe and pump =  -5.000e+00 2.582e-01 4.127e-01\n",
      "---\n",
      "time_step    =  23\n",
      "time         =  1.149e+02  ps\n",
      "time_current =  1.150e+02  ps\n",
      "time_next    =  1.200e+02  ps\n",
      "dt           =  1.184e-14  s\n",
      "Te_IN, Te_OUT =  5.899e+00 2.686e+00 eV\n",
      "Ti_IN, Ti_OUT =  2.990e-02 2.701e-02 eV\n",
      "ne_IN, ne_OUT =  1.088e+26 4.427e+25 1/m^3\n",
      "vc_IN, vc_OUT =  1.124e+15 1.247e+15 1/s\n",
      "dU_IN, dU_OUT =  4.276e+19 1.911e+19 J/s/m^3\n",
      "si_IN, si_OUT =  4.442e+04 1.978e+04 1/m\n",
      "Z_IN,  Z_OUT  =  1.067e-03 4.340e-04\n",
      "Z_QMD_IN,Z_QMD_OUT =  7.265e-03 1.260e-03\n",
      "Te_max        =  5.899e+00 eV\n",
      "Ti_max        =  2.990e-02 eV\n",
      "ite_max       =  422\n"
     ]
    },
    {
     "name": "stdout",
     "output_type": "stream",
     "text": [
      "Ray propagation completed in time_step :  23\n",
      "t_end_wall - t_start_wall =  410  minutes\n",
      "time_ps,transimittance for probe and pump =  1.421e-14 1.920e-01 3.422e-01\n",
      "---\n",
      "time_step    =  24\n",
      "time         =  1.199e+02  ps\n",
      "time_current =  1.200e+02  ps\n",
      "time_next    =  1.250e+02  ps\n",
      "dt           =  1.184e-14  s\n",
      "Te_IN, Te_OUT =  6.133e+00 2.335e+00 eV\n",
      "Ti_IN, Ti_OUT =  3.175e-02 2.738e-02 eV\n",
      "ne_IN, ne_OUT =  1.416e+26 4.883e+25 1/m^3\n",
      "vc_IN, vc_OUT =  1.158e+15 1.294e+15 1/s\n",
      "dU_IN, dU_OUT =  4.902e+19 1.867e+19 J/s/m^3\n",
      "si_IN, si_OUT =  5.952e+04 2.255e+04 1/m\n",
      "Z_IN,  Z_OUT  =  1.388e-03 4.787e-04\n",
      "Z_QMD_IN,Z_QMD_OUT =  7.791e-03 8.387e-04\n",
      "Te_max        =  6.133e+00 eV\n",
      "Ti_max        =  3.175e-02 eV\n",
      "ite_max       =  422\n",
      "Ray propagation completed in time_step :  24\n",
      "t_end_wall - t_start_wall =  424  minutes\n",
      "time_ps,transimittance for probe and pump =  5.000e+00 1.381e-01 2.777e-01\n",
      "---\n",
      "time_step    =  25\n",
      "time         =  1.249e+02  ps\n",
      "time_current =  1.250e+02  ps\n",
      "time_next    =  1.300e+02  ps\n",
      "dt           =  1.184e-14  s\n",
      "Te_IN, Te_OUT =  6.029e+00 1.864e+00 eV\n",
      "Ti_IN, Ti_OUT =  3.377e-02 2.772e-02 eV\n",
      "ne_IN, ne_OUT =  1.796e+26 5.236e+25 1/m^3\n",
      "vc_IN, vc_OUT =  1.209e+15 1.367e+15 1/s\n",
      "dU_IN, dU_OUT =  5.107e+19 1.661e+19 J/s/m^3\n",
      "si_IN, si_OUT =  7.862e+04 2.538e+04 1/m\n",
      "Z_IN,  Z_OUT  =  1.760e-03 5.134e-04\n",
      "Z_QMD_IN,Z_QMD_OUT =  7.555e-03 3.976e-04\n",
      "Te_max        =  6.029e+00 eV\n",
      "Ti_max        =  3.377e-02 eV\n",
      "ite_max       =  422\n",
      "Ray propagation completed in time_step :  25\n",
      "t_end_wall - t_start_wall =  438  minutes\n",
      "time_ps,transimittance for probe and pump =  1.000e+01 9.744e-02 2.224e-01\n",
      "---\n",
      "time_step    =  26\n",
      "time         =  1.299e+02  ps\n",
      "time_current =  1.300e+02  ps\n",
      "time_next    =  1.350e+02  ps\n",
      "dt           =  1.184e-14  s\n",
      "Te_IN, Te_OUT =  5.676e+00 1.397e+00 eV\n",
      "Ti_IN, Ti_OUT =  3.612e-02 2.801e-02 eV\n",
      "ne_IN, ne_OUT =  2.210e+26 5.488e+25 1/m^3\n",
      "vc_IN, vc_OUT =  1.279e+15 1.458e+15 1/s\n",
      "dU_IN, dU_OUT =  4.939e+19 1.376e+19 J/s/m^3\n",
      "si_IN, si_OUT =  1.020e+05 2.815e+04 1/m\n",
      "Z_IN,  Z_OUT  =  2.166e-03 5.380e-04\n",
      "Z_QMD_IN,Z_QMD_OUT =  6.770e-03 1.248e-04\n",
      "Te_max        =  5.676e+00 eV\n",
      "Ti_max        =  3.612e-02 eV\n",
      "ite_max       =  422\n",
      "Ray propagation completed in time_step :  26\n",
      "t_end_wall - t_start_wall =  453  minutes\n",
      "time_ps,transimittance for probe and pump =  1.500e+01 6.808e-02 1.766e-01\n",
      "---\n",
      "time_step    =  27\n",
      "time         =  1.349e+02  ps\n",
      "time_current =  1.350e+02  ps\n",
      "time_next    =  1.400e+02  ps\n",
      "dt           =  1.184e-14  s\n",
      "Te_IN, Te_OUT =  5.116e+00 9.917e-01 eV\n",
      "Ti_IN, Ti_OUT =  3.879e-02 2.823e-02 eV\n",
      "ne_IN, ne_OUT =  2.634e+26 5.652e+25 1/m^3\n",
      "vc_IN, vc_OUT =  1.370e+15 1.565e+15 1/s\n",
      "dU_IN, dU_OUT =  4.446e+19 1.069e+19 J/s/m^3\n",
      "si_IN, si_OUT =  1.295e+05 3.079e+04 1/m\n",
      "Z_IN,  Z_OUT  =  2.583e-03 5.542e-04\n",
      "Z_QMD_IN,Z_QMD_OUT =  5.565e-03 2.092e-05\n",
      "Te_max        =  5.116e+00 eV\n",
      "Ti_max        =  3.879e-02 eV\n",
      "ite_max       =  422\n",
      "Ray propagation completed in time_step :  27\n",
      "t_end_wall - t_start_wall =  469  minutes\n",
      "time_ps,transimittance for probe and pump =  2.000e+01 4.716e-02 1.387e-01\n",
      "---\n",
      "time_step    =  28\n",
      "time         =  1.399e+02  ps\n",
      "time_current =  1.400e+02  ps\n",
      "time_next    =  1.450e+02  ps\n",
      "dt           =  1.184e-14  s\n",
      "Te_IN, Te_OUT =  4.223e+00 6.388e-01 eV\n",
      "Ti_IN, Ti_OUT =  4.153e-02 2.840e-02 eV\n",
      "ne_IN, ne_OUT =  3.021e+26 5.743e+25 1/m^3\n",
      "vc_IN, vc_OUT =  1.494e+15 1.694e+15 1/s\n",
      "dU_IN, dU_OUT =  3.540e+19 7.474e+18 J/s/m^3\n",
      "si_IN, si_OUT =  1.604e+05 3.340e+04 1/m\n",
      "Z_IN,  Z_OUT  =  2.962e-03 5.630e-04\n",
      "Z_QMD_IN,Z_QMD_OUT =  3.773e-03 8.247e-07\n",
      "Te_max        =  4.223e+00 eV\n",
      "Ti_max        =  4.153e-02 eV\n",
      "ite_max       =  422\n",
      "Ray propagation completed in time_step :  28\n",
      "t_end_wall - t_start_wall =  486  minutes\n",
      "time_ps,transimittance for probe and pump =  2.500e+01 3.320e-02 1.094e-01\n",
      "---\n",
      "time_step    =  29\n",
      "time         =  1.449e+02  ps\n",
      "time_current =  1.450e+02  ps\n",
      "time_next    =  1.500e+02  ps\n",
      "dt           =  1.184e-14  s\n",
      "Te_IN, Te_OUT =  3.233e+00 3.888e-01 eV\n",
      "Ti_IN, Ti_OUT =  4.408e-02 2.850e-02 eV\n",
      "ne_IN, ne_OUT =  3.338e+26 5.783e+25 1/m^3\n",
      "vc_IN, vc_OUT =  1.647e+15 1.818e+15 1/s\n",
      "dU_IN, dU_OUT =  2.563e+19 4.806e+18 J/s/m^3\n",
      "si_IN, si_OUT =  1.928e+05 3.559e+04 1/m\n",
      "Z_IN,  Z_OUT  =  3.273e-03 5.669e-04\n",
      "Z_QMD_IN,Z_QMD_OUT =  2.047e-03 2.927e-09\n",
      "Te_max        =  3.233e+00 eV\n",
      "Ti_max        =  4.408e-02 eV\n",
      "ite_max       =  422\n",
      "Ray propagation completed in time_step :  29\n",
      "t_end_wall - t_start_wall =  503  minutes\n",
      "time_ps,transimittance for probe and pump =  3.000e+01 2.504e-02 9.003e-02\n",
      "---\n",
      "time_step    =  30\n",
      "time         =  1.499e+02  ps\n",
      "time_current =  1.500e+02  ps\n",
      "time_next    =  1.550e+02  ps\n",
      "dt           =  1.184e-14  s\n",
      "Te_IN, Te_OUT =  2.543e+00 2.588e-01 eV\n",
      "Ti_IN, Ti_OUT =  4.636e-02 2.857e-02 eV\n",
      "ne_IN, ne_OUT =  3.603e+26 5.797e+25 1/m^3\n",
      "vc_IN, vc_OUT =  1.799e+15 1.893e+15 1/s\n",
      "dU_IN, dU_OUT =  1.934e+19 3.238e+18 J/s/m^3\n",
      "si_IN, si_OUT =  2.238e+05 3.682e+04 1/m\n",
      "Z_IN,  Z_OUT  =  3.532e-03 5.683e-04\n",
      "Z_QMD_IN,Z_QMD_OUT =  1.080e-03 2.396e-12\n",
      "Te_max        =  2.543e+00 eV\n",
      "Ti_max        =  4.636e-02 eV\n",
      "ite_max       =  422\n",
      "Ray propagation completed in time_step :  30\n",
      "t_end_wall - t_start_wall =  521  minutes\n",
      "time_ps,transimittance for probe and pump =  3.500e+01 1.984e-02 7.638e-02\n",
      "---\n",
      "time_step    =  31\n",
      "time         =  1.549e+02  ps\n",
      "time_current =  1.550e+02  ps\n",
      "time_next    =  1.600e+02  ps\n",
      "dt           =  1.184e-14  s\n",
      "Te_IN, Te_OUT =  1.975e+00 1.797e-01 eV\n",
      "Ti_IN, Ti_OUT =  4.837e-02 2.861e-02 eV\n",
      "ne_IN, ne_OUT =  3.817e+26 5.795e+25 1/m^3\n",
      "vc_IN, vc_OUT =  1.959e+15 1.933e+15 1/s\n",
      "dU_IN, dU_OUT =  1.453e+19 2.184e+18 J/s/m^3\n",
      "si_IN, si_OUT =  2.537e+05 3.742e+04 1/m\n",
      "Z_IN,  Z_OUT  =  3.742e-03 5.682e-04\n",
      "Z_QMD_IN,Z_QMD_OUT =  4.869e-04 2.222e-16\n",
      "Te_max        =  1.975e+00 eV\n",
      "Ti_max        =  4.837e-02 eV\n",
      "ite_max       =  422\n",
      "Ray propagation completed in time_step :  31\n",
      "t_end_wall - t_start_wall =  541  minutes\n",
      "time_ps,transimittance for probe and pump =  4.000e+01 1.593e-02 6.490e-02\n",
      "---\n",
      "time_step    =  32\n",
      "time         =  1.599e+02  ps\n",
      "time_current =  1.600e+02  ps\n",
      "time_next    =  1.650e+02  ps\n",
      "dt           =  1.184e-14  s\n",
      "Te_IN, Te_OUT =  1.278e+00 1.120e-01 eV\n",
      "Ti_IN, Ti_OUT =  4.989e-02 2.864e-02 eV\n",
      "ne_IN, ne_OUT =  3.954e+26 5.781e+25 1/m^3\n",
      "vc_IN, vc_OUT =  2.192e+15 1.942e+15 1/s\n",
      "dU_IN, dU_OUT =  9.070e+18 1.213e+18 J/s/m^3\n",
      "si_IN, si_OUT =  2.856e+05 3.746e+04 1/m\n",
      "Z_IN,  Z_OUT  =  3.876e-03 5.668e-04\n",
      "Z_QMD_IN,Z_QMD_OUT =  8.218e-05 2.577e-24\n",
      "Te_max        =  1.278e+00 eV\n",
      "Ti_max        =  4.989e-02 eV\n",
      "ite_max       =  422\n",
      "Ray propagation completed in time_step :  32\n",
      "t_end_wall - t_start_wall =  562  minutes\n",
      "time_ps,transimittance for probe and pump =  4.500e+01 1.376e-02 5.780e-02\n",
      "---\n",
      "time_step    =  33\n",
      "time         =  1.649e+02  ps\n",
      "time_current =  1.650e+02  ps\n",
      "time_next    =  1.700e+02  ps\n",
      "dt           =  1.184e-14  s\n",
      "Te_IN, Te_OUT =  7.095e-01 6.996e-02 eV\n",
      "Ti_IN, Ti_OUT =  5.085e-02 2.865e-02 eV\n",
      "ne_IN, ne_OUT =  4.022e+26 5.760e+25 1/m^3\n",
      "vc_IN, vc_OUT =  2.480e+15 1.901e+15 1/s\n",
      "dU_IN, dU_OUT =  4.970e+18 5.892e+17 J/s/m^3\n",
      "si_IN, si_OUT =  3.160e+05 3.671e+04 1/m\n",
      "Z_IN,  Z_OUT  =  3.943e-03 5.647e-04\n",
      "Z_QMD_IN,Z_QMD_OUT =  2.012e-06 6.162e-37\n",
      "Te_max        =  7.095e-01 eV\n",
      "Ti_max        =  5.085e-02 eV\n",
      "ite_max       =  422\n",
      "Ray propagation completed in time_step :  33\n",
      "t_end_wall - t_start_wall =  585  minutes\n",
      "time_ps,transimittance for probe and pump =  5.000e+01 1.311e-02 5.526e-02\n",
      "---\n",
      "time_step    =  34\n",
      "time         =  1.699e+02  ps\n",
      "time_current =  1.700e+02  ps\n",
      "time_next    =  1.750e+02  ps\n",
      "dt           =  1.184e-14  s\n",
      "Te_IN, Te_OUT =  3.438e-01 4.708e-02 eV\n",
      "Ti_IN, Ti_OUT =  5.135e-02 2.866e-02 eV\n",
      "ne_IN, ne_OUT =  4.043e+26 5.734e+25 1/m^3\n",
      "vc_IN, vc_OUT =  2.775e+15 1.832e+15 1/s\n",
      "dU_IN, dU_OUT =  2.370e+18 2.524e+17 J/s/m^3\n",
      "si_IN, si_OUT =  3.401e+05 3.550e+04 1/m\n",
      "Z_IN,  Z_OUT  =  3.963e-03 5.622e-04\n",
      "Z_QMD_IN,Z_QMD_OUT =  4.551e-10 2.840e-53\n",
      "Te_max        =  3.438e-01 eV\n",
      "Ti_max        =  5.135e-02 eV\n",
      "ite_max       =  422\n",
      "Ray propagation completed in time_step :  34\n",
      "t_end_wall - t_start_wall =  618  minutes\n",
      "time_ps,transimittance for probe and pump =  5.500e+01 1.347e-02 5.611e-02\n",
      "---\n"
     ]
    },
    {
     "ename": "IndexError",
     "evalue": "index 36 is out of bounds for axis 0 with size 36",
     "output_type": "error",
     "traceback": [
      "\u001b[0;31m---------------------------------------------------------------------------\u001b[0m",
      "\u001b[0;31mIndexError\u001b[0m                                Traceback (most recent call last)",
      "\u001b[0;32m<ipython-input-1584-b73173dd1cc6>\u001b[0m in \u001b[0;36m<module>\u001b[0;34m\u001b[0m\n\u001b[1;32m     39\u001b[0m     \u001b[0mlaserE_INC\u001b[0m   \u001b[0;34m=\u001b[0m \u001b[0mget_laserE\u001b[0m\u001b[0;34m(\u001b[0m\u001b[0mlaserI_INC\u001b[0m\u001b[0;34m,\u001b[0m\u001b[0;36m1\u001b[0m\u001b[0;34m)\u001b[0m   \u001b[0;31m# V/m with RefractiveIndex = 1\u001b[0m\u001b[0;34m\u001b[0m\u001b[0;34m\u001b[0m\u001b[0m\n\u001b[1;32m     40\u001b[0m     \u001b[0mtime_current\u001b[0m \u001b[0;34m=\u001b[0m \u001b[0mpulse_IN\u001b[0m\u001b[0;34m[\u001b[0m\u001b[0mtime_step\u001b[0m\u001b[0;34m,\u001b[0m\u001b[0;36m0\u001b[0m\u001b[0;34m]\u001b[0m\u001b[0;34m*\u001b[0m\u001b[0mns\u001b[0m   \u001b[0;31m# s\u001b[0m\u001b[0;34m\u001b[0m\u001b[0;34m\u001b[0m\u001b[0m\n\u001b[0;32m---> 41\u001b[0;31m     \u001b[0mtime_next\u001b[0m    \u001b[0;34m=\u001b[0m \u001b[0mpulse_IN\u001b[0m\u001b[0;34m[\u001b[0m\u001b[0mtime_step\u001b[0m\u001b[0;34m+\u001b[0m\u001b[0;36m1\u001b[0m\u001b[0;34m,\u001b[0m\u001b[0;36m0\u001b[0m\u001b[0;34m]\u001b[0m\u001b[0;34m*\u001b[0m\u001b[0mns\u001b[0m \u001b[0;31m# s\u001b[0m\u001b[0;34m\u001b[0m\u001b[0;34m\u001b[0m\u001b[0m\n\u001b[0m\u001b[1;32m     42\u001b[0m     \u001b[0mite_max\u001b[0m      \u001b[0;34m=\u001b[0m \u001b[0mint\u001b[0m\u001b[0;34m(\u001b[0m\u001b[0;34m(\u001b[0m\u001b[0mtime_next\u001b[0m \u001b[0;34m-\u001b[0m \u001b[0mtime_current\u001b[0m\u001b[0;34m)\u001b[0m\u001b[0;34m/\u001b[0m\u001b[0mdt\u001b[0m\u001b[0;34m)\u001b[0m\u001b[0;34m\u001b[0m\u001b[0;34m\u001b[0m\u001b[0m\n\u001b[1;32m     43\u001b[0m \u001b[0;34m\u001b[0m\u001b[0m\n",
      "\u001b[0;31mIndexError\u001b[0m: index 36 is out of bounds for axis 0 with size 36"
     ]
    }
   ],
   "source": [
    "Thickness = 30 # um\n",
    "Nz = int(Thickness*um/wavelength_355nm)\n",
    "dz = wavelength_355nm # m\n",
    "dt = dz/lightSpeed*10 # s\n",
    "\n",
    "laserI_probe_INC = probe_intensity # W/m^2 # laser intensity of probe pulse\n",
    "alpha        = 10**(14)  # 1/s # rate of impact ionization\n",
    "taur         = 10**(-12)*1000 # s   # electron recombination\n",
    "nc_355nm     = get_nc(wavelength_355nm) # (1/m^3)\n",
    "nc_450nm     = get_nc(wavelength_450nm) # (1/m^3)\n",
    "\n",
    "Ns_zone  = 6\n",
    "Ns_edge  = 4\n",
    "var_zone = np.zeros([Nz,Ns_zone])\n",
    "\n",
    "n_0 = 10**10*100**3 # 1/m^3 \n",
    "n_1 = 0             # 1/m^3 \n",
    "n_2 = 0             # 1/m^3 \n",
    "Te  = 0.025*eV # J\n",
    "Ti  = 0.025*eV # J\n",
    "\n",
    "var_zone[:,0] = n_0 # 1/m^3 \n",
    "var_zone[:,1] = n_1 # 1/m^3 \n",
    "var_zone[:,2] = n_2 # 1/m^3\n",
    "var_zone[:,3] = Te  # J\n",
    "var_zone[:,4] = Ti  # J\n",
    "\n",
    "t_start_wall = timeCheck.time()\n",
    "hist         = []\n",
    "\n",
    "pulse_IN = pulse_2\n",
    "pulse_IN_Imax_TimePs = pulse_2_Imax_TimePs\n",
    "\n",
    "time         = 0                         # s\n",
    "time_step    = 0\n",
    "for time_step in range(pulse_IN.shape[0]*1):\n",
    "    \n",
    "    laserI_INC   = pulse_IN[time_step,1]      # W/m^2\n",
    "    laserE_INC   = get_laserE(laserI_INC,1)   # V/m with RefractiveIndex = 1\n",
    "    time_current = pulse_IN[time_step,0]*ns   # s\n",
    "    time_next    = pulse_IN[time_step+1,0]*ns # s\n",
    "    ite_max      = int((time_next - time_current)/dt)\n",
    "    \n",
    "    ne_IN  = sum(var_zone[0,0:2])  # 1/m^3\n",
    "    ne_OUT = sum(var_zone[-1,0:2]) # 1/m^3\n",
    "    n_IN     = get_n(ne_IN,omega_355nm)  # unitless\n",
    "    n_OUT    = get_n(ne_OUT,omega_355nm) # unitless \n",
    "    Te_IN    = var_zone[0,3]  # J\n",
    "    Te_OUT   = var_zone[-1,3] # J \n",
    "    Ti_IN    = var_zone[0,4]  # J\n",
    "    Ti_OUT   = var_zone[-1,4] # J     \n",
    "    vc_IN    = get_vc_new(Te_IN,Ti_IN,ne_IN,n_a_CH,R_CH)   # 1/s\n",
    "    vc_OUT   = get_vc_new(Te_OUT,Ti_OUT,ne_OUT,n_a_CH,R_CH)# 1/s    \n",
    "    dU_IN, si_IN   = get_JH(ne_IN,vc_IN,omega_355nm,laserE,n_IN)\n",
    "    dU_OUT, si_OUT = get_JH(ne_OUT,vc_OUT,omega_355nm,laserE,n_OUT) \n",
    "    Z_IN  = ne_IN/n_a_CH\n",
    "    Z_OUT = ne_OUT/n_a_CH\n",
    "    Z_QMD_IN  = get_Zeff(n_a_CH,Te_IN)\n",
    "    Z_QMD_OUT = get_Zeff(n_a_CH,Te_OUT)\n",
    "\n",
    "    print('time_step    = ',time_step)    \n",
    "    print('time         = ',\"{:.3e}\".format(time/ps),' ps')\n",
    "    print('time_current = ',\"{:.3e}\".format(time_current/ps),' ps')\n",
    "    print('time_next    = ',\"{:.3e}\".format(time_next/ps),' ps')\n",
    "    print('dt           = ',\"{:.3e}\".format(dt),' s')\n",
    "    print('Te_IN, Te_OUT = ',\"{:.3e}\".format(Te_IN/eV),\"{:.3e}\".format(Te_OUT/eV),'eV')\n",
    "    print('Ti_IN, Ti_OUT = ',\"{:.3e}\".format(Ti_IN/eV),\"{:.3e}\".format(Ti_OUT/eV),'eV') \n",
    "    print('ne_IN, ne_OUT = ',\"{:.3e}\".format(ne_IN),\"{:.3e}\".format(ne_OUT),'1/m^3')\n",
    "    print('vc_IN, vc_OUT = ',\"{:.3e}\".format(vc_IN),\"{:.3e}\".format(vc_OUT),'1/s')\n",
    "    print('dU_IN, dU_OUT = ',\"{:.3e}\".format(dU_IN),\"{:.3e}\".format(dU_OUT),'J/s/m^3') \n",
    "    print('si_IN, si_OUT = ',\"{:.3e}\".format(si_IN),\"{:.3e}\".format(si_OUT),'1/m') \n",
    "    print('Z_IN,  Z_OUT  = ',\"{:.3e}\".format(Z_IN),\"{:.3e}\".format(Z_OUT)) \n",
    "    print('Z_QMD_IN,Z_QMD_OUT = ',\"{:.3e}\".format(Z_QMD_IN),\"{:.3e}\".format(Z_QMD_OUT))\n",
    "    print('Te_max        = ',\"{:.3e}\".format(max(var_zone[:,3])/eV),'eV')\n",
    "    print('Ti_max        = ',\"{:.3e}\".format(max(var_zone[:,4])/eV),'eV')    \n",
    "    print('ite_max       = ',ite_max)    \n",
    "\n",
    "    for ite in range(ite_max):\n",
    "        \n",
    "        n_fe_max = np.max(var_zone[:,0]+var_zone[:,1]+var_zone[:,2]) # 1/m^3\n",
    "        Te_max   = np.max(var_zone[:,3]) # J\n",
    "        Ti_max   = np.max(var_zone[:,4]) # J\n",
    "\n",
    "        laserI        = laserI_INC       # W/m^2     \n",
    "        laserI_probe  = laserI_probe_INC # W/m^2\n",
    "        laserE        = laserE_INC       # V/m   \n",
    "        var_edge      = np.zeros([Nz+1,Ns_edge])\n",
    "        var_edge[0,0] = 0      # m\n",
    "        var_edge[0,1] = laserI # W/m^2\n",
    "        var_edge[0,2] = laserE # V/m\n",
    "        var_edge[0,3] = laserI_probe # W/m^2\n",
    "        \n",
    "        if 0 : \n",
    "            print()\n",
    "            print('ite, time, n_fe_max, transimittance = ',\n",
    "                  ite,\n",
    "                  \"{:.3e}\".format(time),\n",
    "                  \"{:.3e}\".format(n_fe_max),\n",
    "                  \"{:.3e}\".format(laserI_probe/laserI_probe_INC),\n",
    "                  \"{:.3e}\".format(laserI/laserI_INC))\n",
    "            print('---')        \n",
    "\n",
    "        for zone in range(1,Nz+1):\n",
    "            i_zone = zone - 1 \n",
    "            zp     = zone*dz     # m\n",
    "            zm     = (zone-1)*dz # m\n",
    "\n",
    "            n_0 = var_zone[i_zone,0] # 1/m^3\n",
    "            n_1 = var_zone[i_zone,1] # 1/m^3\n",
    "            n_2 = var_zone[i_zone,2] # 1/m^3\n",
    "            Te  = var_zone[i_zone,3] # J\n",
    "            Ti  = var_zone[i_zone,4] # J  \n",
    "\n",
    "            n_fe  = n_0 + n_1 + n_2          # 1/m^3\n",
    "            beta  = (n_vb_CH - n_fe)/n_vb_CH # no unit\n",
    "            n_old = [n_0, n_1, n_2]          # 1/m^3   \n",
    "            #####################################            \n",
    "            #vc_OLD  = get_vc(Te/eV,Ti/eV,n_fe,n_a_CH,1)               # 1/s\n",
    "            vc      = get_vc_new(Te,Ti,n_fe,n_a_CH,R_CH)# 1/s\n",
    "            #vr      = get_vr(n_fe,Te) # 1/s\n",
    "            #taur    = 1/vr # s\n",
    "            #alpha   = get_vi(laserE,omega_355nm,Eg_CH,vc) # 1/s\n",
    "            #####################################\n",
    "            n       = get_n(n_fe,omega_355nm) # unitless  \n",
    "            n_probe = get_n(n_fe,omega_450nm) # unitless     \n",
    "            laserE       = get_laserE(laserI,n)             # V/m         \n",
    "            laserE_probe = get_laserE(laserI_probe,n_probe) # V/m     \n",
    "            Nmax      = 50\n",
    "            WPI       = get_WPI(laserI,laserE,Nmax,omega_355nm,Eg_CH) # 1/(s.m^3)\n",
    "            W1        = get_W1(laserE) # 1/s\n",
    "            WPI_probe = get_WPI(laserI_probe,laserE_probe,Nmax,omega_450nm,Eg_CH) #1/(s.m^3)     \n",
    "            dUdt_JH, sigma_JH       = get_JH(n_fe,vc,omega_355nm,laserE,n)\n",
    "            dUdt_probe, sigma_probe = get_JH(n_fe,vc,omega_450nm,laserE_probe,n_probe) \n",
    "            \n",
    "            #######################\n",
    "            # Light Propagation\n",
    "            #######################     \n",
    "            dIdz             = - sigma_JH    * laserI       - WPI       * Eg_CH\n",
    "            dIdz_probe       = - sigma_probe * laserI_probe - WPI_probe * Eg_CH\n",
    "            laserI_new       = laserI       + dz * dIdz\n",
    "            laserI_probe_new = laserI_probe + dz * dIdz_probe\n",
    "\n",
    "            var_edge[zone,0] = zp                       # m\n",
    "            var_edge[zone,1] = laserI_new               # W/m^2\n",
    "            var_edge[zone,2] = get_laserE(laserI_new,n) # V/m\n",
    "            var_edge[zone,3] = laserI_probe_new         # W/m^2 \n",
    "\n",
    "            #######################\n",
    "            # Electron Dynamics\n",
    "            #######################\n",
    "            source = [beta*WPI,0,0]                             # 1/s/m^3\n",
    "            row1   = [-1/taur-W1,0,         2*alpha*beta      ] # 1/s\n",
    "            row2   = [W1        ,-1/taur-W1,0                 ] # 1/s\n",
    "            row3   = [0,        W1,         -1/taur-alpha*beta] # 1/s\n",
    "            matrix = [row1, row2, row3]                         # 1/s\n",
    "            n_new  = n_old + dt * (source + np.dot(matrix,n_old)) # 1/m^3\n",
    "            n_0_new, n_1_new, n_2_new = n_new       # 1/m^3       \n",
    "            n_fe_new = n_0_new + n_1_new + n_2_new  # 1/m^3\n",
    "            dn_fe    = n_fe_new - n_fe              # 1/m^3\n",
    "\n",
    "            var_zone[i_zone,0] = n_0_new # 1/m^3 \n",
    "            var_zone[i_zone,1] = n_1_new # 1/m^3 \n",
    "            var_zone[i_zone,2] = n_2_new # 1/m^3 \n",
    "\n",
    "            #######################\n",
    "            # Thermodynamics\n",
    "            #######################\n",
    "            #####################################\n",
    "            #vc =  get_vc(Te,Ti,n_fe_new,n_a_CH,1) # 1/s \n",
    "            vc = get_vc_new(Te,Ti,n_fe,n_a_CH,R_CH)# 1/s\n",
    "            #print('ite,vc = ',ite,vc)\n",
    "            #####################################\n",
    "            dUdt_JH, sigma_JH = get_JH(n_fe_new,vc,omega_355nm,laserE,n)\n",
    "            Ce = get_Ce(n_fe_new) # 1/m^3\n",
    "            Ci = get_Ci_new(n_a_CH,Ti)   # 1/m^3 \n",
    "            G  = get_G(Ce,vc,Ti)     # 1/m^3/s\n",
    "            #if Te <  Tc : G  = get_G(Ce,vc,'solid')     # 1/m^3/s\n",
    "            #if Te >= Tc : G  = get_G(Ce,vc,'plasma')    # 1/m^3/s\n",
    "            Qi = G*(Te-Ti)                             # J/s/m^3\n",
    "            Qe = dUdt_JH - 1.5*Te*dn_fe/dt - G*(Te-Ti) # J/s/m^3            \n",
    "            Te_new = Te + Qe*dt/Ce # eV\n",
    "            Ti_new = Ti + Qi*dt/Ci # eV     \n",
    "\n",
    "            var_zone[i_zone,3] = Te_new  # eV\n",
    "            var_zone[i_zone,4] = Ti_new  # eV \n",
    "\n",
    "            laserI       = laserI_new\n",
    "            laserI_probe = laserI_probe_new\n",
    "\n",
    "            if (n_0_new < 0) or (n_1_new < 0) or (n_2_new < 0) :\n",
    "                print('negative n_0, n_1, n_2 detected, STOP')\n",
    "                break\n",
    "\n",
    "            if (Te_new < 0) or (Ti_new < 0) :\n",
    "                print('negative Te, Ti detected, STOP')\n",
    "                print('Qe = ',Qe)\n",
    "                break \n",
    "\n",
    "            if (laserI_new < 0) or (laserI_probe_new < 0) :\n",
    "                print('negative laserI, laserI_probe detected, STOP')\n",
    "                break \n",
    "\n",
    "            if (n_fe_new > nc_355nm) or (n_fe_new > nc_450nm) :\n",
    "                print('negative n_fe exceed nc detected, STOP')\n",
    "                break             \n",
    "\n",
    "            #print(zone,laserI/laserI_INC)\n",
    "            #print(zone,\"{:.3e}\".format(laserI_probe),\"{:.3e}\".format(laserI_probe_INC))\n",
    "            #print(zone,laserI,laserI_new,laserI_probe,laserI_probe_new)\n",
    "            #print(zone,\"{:.3e}\".format(n_0_new),\"{:.3e}\".format(n_1_new),\"{:.3e}\".format(n_2_new),\n",
    "            #      ' : ',\"{:.3e}\".format(n_0),\"{:.3e}\".format(n_1),\"{:.3e}\".format(n_2))\n",
    "            #print(zone,time,Te_new,Ti_new,' : ',Te,Ti)\n",
    "            #print(zone,\"{:.3e}\".format(zp),\"{:.3e}\".format(time))\n",
    "            \n",
    "        time = time + dt\n",
    "                    \n",
    "    sol = [ne_IN,#0\n",
    "           ne_OUT,#1\n",
    "           n_IN,#2\n",
    "           n_OUT,#3\n",
    "           Te_IN,#4\n",
    "           Te_OUT,#5\n",
    "           vc_IN,#6\n",
    "           vc_OUT,#7\n",
    "           dU_IN,#8\n",
    "           dU_OUT,#9\n",
    "           si_IN,#10\n",
    "           si_OUT,#11\n",
    "           Ti_IN,#12\n",
    "           Ti_OUT,#13 \n",
    "           Z_IN,#14\n",
    "           Z_OUT,#15\n",
    "           Z_QMD_IN,#16\n",
    "           Z_QMD_OUT#17           \n",
    "          ]\n",
    "        \n",
    "    hist.append([time,#0\n",
    "                 laserI_probe/laserI_probe_INC,#1\n",
    "                 laserI/laserI_INC,#2\n",
    "                 var_zone,#3\n",
    "                 var_edge,#4\n",
    "                 sol#5\n",
    "                ])\n",
    "        \n",
    "    t_end_wall = timeCheck.time()\n",
    "    print('Ray propagation completed in time_step : ',time_step)    \n",
    "    print('t_end_wall - t_start_wall = ',int((t_end_wall-t_start_wall)/60),' minutes')\n",
    "    print('time_ps,transimittance for probe and pump = ',\n",
    "          \"{:.3e}\".format(time_current/ps-pulse_IN_Imax_TimePs),\n",
    "          \"{:.3e}\".format(laserI_probe/laserI_probe_INC),\n",
    "          \"{:.3e}\".format(laserI/laserI_INC))\n",
    "    print('---')      \n",
    "    \n",
    "hist = np.array(hist)    "
   ]
  },
  {
   "cell_type": "markdown",
   "metadata": {},
   "source": [
    "# Data"
   ]
  },
  {
   "cell_type": "markdown",
   "metadata": {},
   "source": [
    "## get_save_data"
   ]
  },
  {
   "cell_type": "code",
   "execution_count": 1585,
   "metadata": {
    "ExecuteTime": {
     "end_time": "2021-08-23T12:57:47.541569Z",
     "start_time": "2021-08-23T12:57:46.324520Z"
    }
   },
   "outputs": [
    {
     "data": {
      "image/png": "[encoded data removed]",
      "text/plain": [
       "<Figure size 432x288 with 1 Axes>"
      ]
     },
     "metadata": {
      "needs_background": "light"
     },
     "output_type": "display_data"
    },
    {
     "name": "stdout",
     "output_type": "stream",
     "text": [
      "Save as                        : pulse_2_transmittance_pump_WPI2xLower_vr1000xLarger_JHnew_VCPhonon_Zeff_VCneutral_TCnew_CInew\n",
      "path_local                     : /Users/kwoo/Desktop/PostDoc/InitialPlasma/python\n",
      "path_save                      : /Users/kwoo/Desktop/PostDoc/InitialPlasma/reports/plots/\n"
     ]
    }
   ],
   "source": [
    "def get_save_data(exportFlag):\n",
    "    \n",
    "    if exportFlag : \n",
    "        export_name = 'pulse_2_transmittance_pump_WPI2xLower_vr1000xLarger_JHnew_VCPhonon_Zeff_VCneutral_TCnew_CInew'\n",
    "        print(f'{\"Save as\":30}',':',export_name)\n",
    "        path = '/Users/kwoo/Desktop/PostDoc/InitialPlasma/reports/plots/'\n",
    "        print(f'{\"path_local\":30}',':',str(pathlib.Path().absolute()))    \n",
    "        print(f'{\"path_save\":30}',':',path)\n",
    "        np.savetxt(export_name+'.csv', data, delimiter=\",\")\n",
    "            \n",
    "data = []\n",
    "for ele in hist:\n",
    "    ele = np.array(ele)\n",
    "    #print(ele[0],ele[1])\n",
    "    if ele[1]>0 : data.append([ele[0]/ps,#0\n",
    "                               ele[1],#1\n",
    "                               ele[2],#2\n",
    "                               ele[5][0],#3 ne_IN,#0\n",
    "                               ele[5][1],#4 ne_OUT,#1\n",
    "                               ele[5][2],#5 n_IN,#2\n",
    "                               ele[5][3],#6 n_OUT,#3\n",
    "                               ele[5][4],#7 Te_IN,#4\n",
    "                               ele[5][5],#8 Te_OUT,#5\n",
    "                               ele[5][6],#9 vc_IN,#6\n",
    "                               ele[5][7],#10 vc_OUT,#7\n",
    "                               ele[5][8],#11 dU_IN,#8\n",
    "                               ele[5][9],#12 dU_OUT,#9\n",
    "                               ele[5][10],#13 si_IN,#10\n",
    "                               ele[5][11],#14 si_OUT#11\n",
    "                               ele[5][12],#15 Ti_IN,#12\n",
    "                               ele[5][13],#16 Ti_OUT#13\n",
    "                               ele[5][14],#17 Z_IN,#14\n",
    "                               ele[5][15],#18 Z_OUT#15  \n",
    "                               ele[5][16],#19 ZQMD_IN,#16\n",
    "                               ele[5][17]#20 ZQMD_OUT#17\n",
    "                              ])\n",
    "data = np.array(data)\n",
    "plt.plot(data[:,0],data[:,1])\n",
    "plt.grid()              \n",
    "plt.show()              \n",
    "              \n",
    "get_save_data(exportFlag=1)"
   ]
  },
  {
   "cell_type": "markdown",
   "metadata": {
    "heading_collapsed": true
   },
   "source": [
    "## get_open_data_exp"
   ]
  },
  {
   "cell_type": "code",
   "execution_count": 1566,
   "metadata": {
    "ExecuteTime": {
     "end_time": "2021-08-22T19:48:40.615561Z",
     "start_time": "2021-08-22T19:48:39.650740Z"
    },
    "hidden": true
   },
   "outputs": [
    {
     "data": {
      "text/plain": [
       "[<matplotlib.lines.Line2D at 0x7fbd16ca1c90>]"
      ]
     },
     "execution_count": 1566,
     "metadata": {},
     "output_type": "execute_result"
    },
    {
     "data": {
      "image/png": "[encoded data removed]",
      "text/plain": [
       "<Figure size 432x288 with 1 Axes>"
      ]
     },
     "metadata": {
      "needs_background": "light"
     },
     "output_type": "display_data"
    }
   ],
   "source": [
    "def get_open_data_exp(file_name):\n",
    "    \n",
    "    output = []\n",
    "    file_to_open = open(file_name,'r')\n",
    "    for line in file_to_open :\n",
    "        row = line.split('\\t')\n",
    "        tmp = [ float(ele) for ele in row ]\n",
    "        #print(tmp)\n",
    "        output.append(tmp)\n",
    "    return np.array(output)\n",
    "\n",
    "path = '/Users/kwoo/Desktop/PostDoc/InitialPlasma/Suxing/'\n",
    "file_name_1 = 'pulse_1_transmittance_new.csv' \n",
    "file_name_2 = 'pulse_2_transmittance_new.csv' \n",
    "file_name_3 = 'pulse_3_transmittance_new.csv' \n",
    "dat_1_exp = get_open_data_exp(path+file_name_1) \n",
    "dat_2_exp = get_open_data_exp(path+file_name_2) \n",
    "dat_3_exp = get_open_data_exp(path+file_name_3) \n",
    "\n",
    "plt.plot(dat_1_exp[:,0],dat_1_exp[:,1])\n",
    "plt.plot(dat_2_exp[:,0],dat_2_exp[:,1])\n",
    "plt.plot(dat_3_exp[:,0],dat_3_exp[:,1])"
   ]
  },
  {
   "cell_type": "markdown",
   "metadata": {},
   "source": [
    "## get_open_data_sim"
   ]
  },
  {
   "cell_type": "code",
   "execution_count": 1587,
   "metadata": {
    "ExecuteTime": {
     "end_time": "2021-08-23T13:01:14.017595Z",
     "start_time": "2021-08-23T13:01:13.647235Z"
    },
    "scrolled": true
   },
   "outputs": [
    {
     "data": {
      "image/png": "[encoded data removed]",
      "text/plain": [
       "<Figure size 432x288 with 1 Axes>"
      ]
     },
     "metadata": {
      "needs_background": "light"
     },
     "output_type": "display_data"
    }
   ],
   "source": [
    "def get_open_data_sim(file_name):\n",
    "    \n",
    "    output = []\n",
    "    file_to_open = open(file_name,'r')\n",
    "    for line in file_to_open :\n",
    "        row = line.split(',')\n",
    "        tmp = [ float(ele) for ele in row ]\n",
    "        #print(tmp)\n",
    "        output.append(tmp)\n",
    "    return np.array(output)\n",
    "\n",
    "path = '/Users/kwoo/Desktop/PostDoc/InitialPlasma/python/'\n",
    "file_name = 'pulse_1_transmittance_pump_vcSolidPhase10xLarger_WPI2xLower_vr1000xLower_JHnew.csv'  \n",
    "dat_1 = get_open_data_sim(path+file_name)\n",
    "\n",
    "path = '/Users/kwoo/Desktop/PostDoc/InitialPlasma/python/'\n",
    "file_name = 'pulse_2_transmittance_pump_vcSolidPhase10xLarger_WPI2xLower_vr1000xLower_JHnew.csv'  \n",
    "dat_2 = get_open_data_sim(path+file_name)\n",
    "\n",
    "path = '/Users/kwoo/Desktop/PostDoc/InitialPlasma/python/'\n",
    "file_name = 'pulse_3_transmittance_pump_vcSolidPhase10xLarger_WPI2xLower_vr1000xLower_JHnew.csv'  \n",
    "dat_3 = get_open_data_sim(path+file_name)\n",
    "\n",
    "path = '/Users/kwoo/Desktop/PostDoc/InitialPlasma/python/'\n",
    "file_name = 'pulse_1_transmittance_pump__WPI2xLower_vr1000xLower_JHnew_oldVCwithCorrectNEunit.csv' \n",
    "dat_4 = get_open_data_sim(path+file_name)\n",
    "\n",
    "path = '/Users/kwoo/Desktop/PostDoc/InitialPlasma/python/'\n",
    "file_name = 'pulse_1_transmittance_pump__WPI2xLower_vr1000xLower_JHnew_VCnew.csv'\n",
    "dat_5 = get_open_data_sim(path+file_name)\n",
    "\n",
    "path = '/Users/kwoo/Desktop/PostDoc/InitialPlasma/python/'\n",
    "file_name = 'pulse_1_transmittance_pump_WPIunchanged_vr1000xLower_JHnew_VCnew.csv'\n",
    "dat_6 = get_open_data_sim(path+file_name)\n",
    "\n",
    "path = '/Users/kwoo/Desktop/PostDoc/InitialPlasma/python/'\n",
    "file_name = 'pulse_1_transmittance_pump_WPIunchanged_vr1000xLower_JHnew_VCnew_vmfp.csv'\n",
    "dat_7 = get_open_data_sim(path+file_name)\n",
    "\n",
    "path = '/Users/kwoo/Desktop/PostDoc/InitialPlasma/python/'\n",
    "file_name = 'pulse_1_transmittance_pump_WPIunchanged_vr2000xLower_JHnew_VCnew_vmfp.csv'\n",
    "dat_8 = get_open_data_sim(path+file_name)\n",
    "\n",
    "path = '/Users/kwoo/Desktop/PostDoc/InitialPlasma/python/'\n",
    "file_name = 'pulse_1_transmittance_pump_WPI2xLower_vr10000xLower_JHnew_VCnew.csv'\n",
    "dat_9 = get_open_data_sim(path+file_name)\n",
    "\n",
    "path = '/Users/kwoo/Desktop/PostDoc/InitialPlasma/python/'\n",
    "file_name = 'pulse_1_transmittance_pump_WPI2xLower_vr1000xLarger_JHnew_VCnew_VCionE6Larger.csv'\n",
    "dat_10 = get_open_data_sim(path+file_name)\n",
    "\n",
    "path = '/Users/kwoo/Desktop/PostDoc/InitialPlasma/python/'\n",
    "file_name = 'pulse_1_transmittance_pump_WPI2xLower_vr1000xLarger_JHnew_VCnewPhonon_VCionE6Larger.csv'\n",
    "dat_11 = get_open_data_sim(path+file_name)\n",
    "\n",
    "path = '/Users/kwoo/Desktop/PostDoc/InitialPlasma/python/'\n",
    "file_name = 'pulse_1_transmittance_pump_WPI2xLower_vr1000xLarger_JHnew_VCnewPhonon_VCionE1Larger.csv'\n",
    "dat_12 = get_open_data_sim(path+file_name)\n",
    "\n",
    "path = '/Users/kwoo/Desktop/PostDoc/InitialPlasma/python/'\n",
    "file_name = 'pulse_1_transmittance_pump_WPI2xLower_vr1000xLarger_JHnew_VCnewPhonon_VCionZeff.csv'\n",
    "dat_13 = get_open_data_sim(path+file_name)\n",
    "\n",
    "path = '/Users/kwoo/Desktop/PostDoc/InitialPlasma/python/'\n",
    "file_name = 'pulse_1_transmittance_pump_WPI2xLower_vr10000xLarger_JHnew_VCnewPhonon_VCionZeff.csv'\n",
    "dat_14 = get_open_data_sim(path+file_name)\n",
    "\n",
    "path = '/Users/kwoo/Desktop/PostDoc/InitialPlasma/python/'\n",
    "file_name = 'pulse_1_transmittance_pump_WPI2xLower_vr10000xLarger_JHnew_VCnewPhonon_VCionZeff_VCneutral.csv'\n",
    "dat_15 = get_open_data_sim(path+file_name)\n",
    "\n",
    "path = '/Users/kwoo/Desktop/PostDoc/InitialPlasma/python/'\n",
    "file_name = 'pulse_1_transmittance_pump_WPI2xLower_vr1000xLarger_JHnew_VPhonon_VCionZeff_VCneutral_VrVinew.csv'\n",
    "dat_16 = get_open_data_sim(path+file_name)\n",
    "\n",
    "path = '/Users/kwoo/Desktop/PostDoc/InitialPlasma/python/'\n",
    "file_name = 'pulse_1_transmittance_pump_WPI2xLower_vr1000xLarger_JHnew_VCPhonon_VCionZeff_VCneutral_Gnew_TCnew.csv'\n",
    "dat_17 = get_open_data_sim(path+file_name)\n",
    "\n",
    "path = '/Users/kwoo/Desktop/PostDoc/InitialPlasma/python/'\n",
    "file_name = 'pulse_1_transmittance_pump_WPI2xLower_vr1000xLarger_JHnew_VCPhonon_VCionZeff_VCneutral_TCnew.csv'\n",
    "dat_18 = get_open_data_sim(path+file_name)\n",
    "\n",
    "path = '/Users/kwoo/Desktop/PostDoc/InitialPlasma/python/'\n",
    "file_name = 'pulse_1_transmittance_pump_WPI2xLower_vr1000xLarger_JHnew_VCPhonon_VCionZeff_VCneutral_TCnew_GmilMix.csv'\n",
    "dat_19 = get_open_data_sim(path+file_name)\n",
    "\n",
    "path = '/Users/kwoo/Desktop/PostDoc/InitialPlasma/python/'\n",
    "file_name = 'pulse_1_transmittance_pump_WPI2xLower_vr1000xLarger_JHnew_VCPhonon_VCZeff_VCneutral_TCnew_CInew.csv'\n",
    "dat_20 = get_open_data_sim(path+file_name)\n",
    "\n",
    "path = '/Users/kwoo/Desktop/PostDoc/InitialPlasma/python/'\n",
    "file_name = 'pulse_1_transmittance_pump_WPI2xLower_vr1000xLarger_JHnew_VCPhonon_QMDZeff_VCneutral_TCnew_CInew.csv'\n",
    "dat_21 = get_open_data_sim(path+file_name)\n",
    "\n",
    "path = '/Users/kwoo/Desktop/PostDoc/InitialPlasma/python/'\n",
    "file_name = 'pulse_2_transmittance_pump_WPI2xLower_vr1000xLarger_JHnew_VCPhonon_QMDZeff_VCneutral_TCnew_CInew.csv'\n",
    "dat_22 = get_open_data_sim(path+file_name)\n",
    "\n",
    "path = '/Users/kwoo/Desktop/PostDoc/InitialPlasma/python/'\n",
    "file_name = 'pulse_2_transmittance_pump_WPI2xLower_vr1000xLarger_JHnew_VCPhonon_Zeff_VCneutral_TCnew_CInew.csv'\n",
    "dat_23 = get_open_data_sim(path+file_name)\n",
    "\n",
    "#plt.plot(dat_1_exp[:,0],dat_1_exp[:,1])\n",
    "plt.plot(dat_2_exp[:,0],dat_2_exp[:,1])\n",
    "#plt.plot(dat_3_exp[:,0],dat_3_exp[:,1])\n",
    "#plt.plot(dat_1[:,0]-pulse_1_Imax_TimePs,dat_1[:,1])\n",
    "#plt.plot(dat_4[:,0]-pulse_1_Imax_TimePs,dat_4[:,1])\n",
    "#plt.plot(dat_5[:,0]-pulse_1_Imax_TimePs,dat_5[:,1])\n",
    "#plt.plot(dat_6[:,0]-pulse_1_Imax_TimePs,dat_6[:,1])\n",
    "#plt.plot(dat_7[:,0]-pulse_1_Imax_TimePs,dat_7[:,1])\n",
    "#plt.plot(dat_8[:,0]-pulse_1_Imax_TimePs,dat_8[:,1],ls='dashed')\n",
    "#plt.plot(dat_9[:,0]-pulse_1_Imax_TimePs,dat_9[:,1],ls='dashed')\n",
    "#plt.plot(dat_10[:,0]-pulse_1_Imax_TimePs,dat_10[:,1])\n",
    "#plt.plot(dat_11[:,0]-pulse_1_Imax_TimePs,dat_11[:,1])\n",
    "#plt.plot(dat_12[:,0]-pulse_1_Imax_TimePs,dat_12[:,1])\n",
    "#plt.plot(dat_13[:,0]-pulse_1_Imax_TimePs,dat_13[:,1])\n",
    "#plt.plot(dat_14[:,0]-pulse_1_Imax_TimePs,dat_14[:,1],ls='dashed')\n",
    "#plt.plot(dat_15[:,0]-pulse_1_Imax_TimePs,dat_15[:,1],c='k')\n",
    "#plt.plot(dat_16[:,0]-pulse_1_Imax_TimePs,dat_16[:,1],c='r')\n",
    "#plt.plot(dat_17[:,0]-pulse_1_Imax_TimePs,dat_17[:,1],c='r')\n",
    "#plt.plot(dat_18[:,0]-pulse_1_Imax_TimePs,dat_18[:,1],c='r')\n",
    "#plt.plot(dat_19[:,0]-pulse_1_Imax_TimePs,dat_19[:,1],c='g')\n",
    "#plt.plot(dat_20[:,0]-pulse_1_Imax_TimePs,dat_20[:,1],c='b')\n",
    "plt.plot(dat_21[:,0]-pulse_1_Imax_TimePs,dat_21[:,1],c='g')\n",
    "plt.plot(dat_22[:,0]-pulse_2_Imax_TimePs,dat_22[:,1],c='r')\n",
    "plt.plot(dat_23[:,0]-pulse_2_Imax_TimePs,dat_23[:,1],c='b')\n",
    "plt.grid()"
   ]
  },
  {
   "cell_type": "markdown",
   "metadata": {},
   "source": [
    "## get_report_transmittance"
   ]
  },
  {
   "cell_type": "code",
   "execution_count": 1557,
   "metadata": {
    "ExecuteTime": {
     "end_time": "2021-08-22T16:28:55.574774Z",
     "start_time": "2021-08-22T16:28:52.924215Z"
    }
   },
   "outputs": [
    {
     "name": "stdout",
     "output_type": "stream",
     "text": [
      "Save as                        : transmittance_pump2_include_phonons_neutrals_Tc_Ci_Zqmd\n",
      "path_local                     : /Users/kwoo/Desktop/PostDoc/InitialPlasma/python\n",
      "path_save                      : /Users/kwoo/Desktop/PostDoc/InitialPlasma/reports/plots/\n"
     ]
    },
    {
     "data": {
      "image/png": "[encoded data removed]",
      "text/plain": [
       "<Figure size 432x288 with 1 Axes>"
      ]
     },
     "metadata": {
      "needs_background": "light"
     },
     "output_type": "display_data"
    }
   ],
   "source": [
    "def get_report(exportFlag):\n",
    "    \n",
    "    plt.close('all')\n",
    "    fig = plt.figure(figsize=[6.,4])\n",
    "    fs,fs2,fs3,fs4=20,15,18,10\n",
    "\n",
    "    label1 = r'\\textbf{Exp. data}'\n",
    "    label2 = r'\\textbf{Pump 2 : $Z$}'\n",
    "    label3 = r'\\textbf{Pump 2 : $Z_\\mathrm{QMD}$}'    \n",
    "\n",
    "    nrow,ncol=1,1\n",
    "    ax1 = plt.subplot2grid((nrow, ncol), (0,0), colspan=1, rowspan=1) \n",
    "    \n",
    "    #ax1.plot(dat_1_exp[:,0],dat_1_exp[:,1],label=label1,c='k',lw=2)\n",
    "    ax1.plot(dat_2_exp[:,0],dat_2_exp[:,1],label=label1,c='k',lw=2)    \n",
    "    #ax1.plot(dat_20[:,0]-pulse_1_Imax_TimePs,dat_20[:,1],label=label2,c='b',lw=2)\n",
    "    ax1.plot(data[:,0]-pulse_2_Imax_TimePs,data[:,1],label=label3,c='r',lw=2)    \n",
    "\n",
    "    ax1.tick_params(which='major',length=10,labelsize=fs2)\n",
    "    ax1.set_xlabel(r'\\textbf{Time (ps)}',fontsize=fs)\n",
    "    ax1.set_ylabel(r'\\textbf{Transmittane}',fontsize=fs)\n",
    "    ax1.set_title(r'\\textbf{$\\nu_{\\mathrm{r}}=10^9~\\mathrm{s^{-1}}, ~W_{\\mathrm{PI}}/2, ~\\nu_{\\mathrm{c}}^{\\mathrm{ep}}$}',fontsize=fs)\n",
    "    ax1.legend(fontsize=fs2,loc='lower left',numpoints=1)\n",
    "    #ax1.set_xlim([-np.pi,np.pi])\n",
    "    ax1.grid()\n",
    "    \n",
    "    #plt.sca(ax1)\n",
    "    #plt.xticks([-np.pi,-np.pi/2,0,np.pi/2,np.pi],\n",
    "    #           [r'$-180^\\circ$',r'$-90^\\circ$',r'$0^\\circ$',r'$90^\\circ$',r'$180^\\circ$'])   \n",
    "\n",
    "    plt.tight_layout()\n",
    "    if exportFlag : \n",
    "        export_name = 'transmittance_pump2_include_phonons_neutrals_Tc_Ci_Zqmd'\n",
    "        print(f'{\"Save as\":30}',':',export_name)\n",
    "        path = '/Users/kwoo/Desktop/PostDoc/InitialPlasma/reports/plots/'\n",
    "        print(f'{\"path_local\":30}',':',str(pathlib.Path().absolute()))    \n",
    "        print(f'{\"path_save\":30}',':',path)\n",
    "        plt.savefig(path+export_name+'.eps',format='eps')\n",
    "        plt.savefig(path+export_name,dpi=500) \n",
    "    plt.show() \n",
    "              \n",
    "get_report(exportFlag=1)"
   ]
  },
  {
   "cell_type": "markdown",
   "metadata": {},
   "source": [
    "## get_report_absorptionCoef"
   ]
  },
  {
   "cell_type": "code",
   "execution_count": 1568,
   "metadata": {
    "ExecuteTime": {
     "end_time": "2021-08-22T20:20:28.180009Z",
     "start_time": "2021-08-22T20:20:08.821387Z"
    }
   },
   "outputs": [
    {
     "name": "stdout",
     "output_type": "stream",
     "text": [
      "Save as                        : transmittance_pump2_include_phonons_neutrals_absorptionCoef_Tc_Ci_Zqmd\n",
      "path_local                     : /Users/kwoo/Desktop/PostDoc/InitialPlasma/python\n",
      "path_save                      : /Users/kwoo/Desktop/PostDoc/InitialPlasma/reports/plots/\n"
     ]
    },
    {
     "data": {
      "image/png": "[encoded data removed]",
      "text/plain": [
       "<Figure size 432x288 with 1 Axes>"
      ]
     },
     "metadata": {
      "needs_background": "light"
     },
     "output_type": "display_data"
    }
   ],
   "source": [
    "def get_report(exportFlag):\n",
    "    \n",
    "    plt.close('all')\n",
    "    fig = plt.figure(figsize=[6.,4])\n",
    "    fs,fs2,fs3,fs4=20,15,18,10\n",
    "\n",
    "    label1 = r'\\textbf{Pump 2: $\\kappa_{\\mathrm{IN}}$}'\n",
    "    label2 = r'\\textbf{Pump 2: $\\kappa_{\\mathrm{OUT}}$}'\n",
    "\n",
    "    nrow,ncol=1,1\n",
    "    ax1 = plt.subplot2grid((nrow, ncol), (0,0), colspan=1, rowspan=1) \n",
    "    \n",
    "    ax1.plot(data[:,0]-pulse_1_Imax_TimePs,data[:,13]/10**6,label=label1,c='k',lw=2)  \n",
    "    ax1.plot(data[:,0]-pulse_1_Imax_TimePs,data[:,14]/10**6,label=label2,c='r',lw=2)    \n",
    "\n",
    "    ax1.tick_params(which='major',length=10,labelsize=fs2)\n",
    "    ax1.set_xlabel(r'\\textbf{Time (ps)}',fontsize=fs)\n",
    "    ax1.set_ylabel(r'\\textbf{Absorb coef. $\\kappa ~\\mathrm{(1/\\mu m)}$}',fontsize=fs)\n",
    "    ax1.set_title(r'\\textbf{$\\nu_{\\mathrm{r}}=10^9~\\mathrm{s^{-1}}, ~W_{\\mathrm{PI}}/2, ~\\nu_{\\mathrm{c}}^{\\mathrm{ep}}$}',fontsize=fs)\n",
    "    ax1.legend(fontsize=fs2,loc='upper left',numpoints=1)\n",
    "    #ax1.set_xlim([-np.pi,np.pi])\n",
    "    ax1.grid()\n",
    "    \n",
    "    #plt.sca(ax1)\n",
    "    #plt.xticks([-np.pi,-np.pi/2,0,np.pi/2,np.pi],\n",
    "    #           [r'$-180^\\circ$',r'$-90^\\circ$',r'$0^\\circ$',r'$90^\\circ$',r'$180^\\circ$'])   \n",
    "\n",
    "    plt.tight_layout()\n",
    "    if exportFlag : \n",
    "        export_name = 'transmittance_pump2_include_phonons_neutrals_absorptionCoef_Tc_Ci_Zqmd'\n",
    "        print(f'{\"Save as\":30}',':',export_name)\n",
    "        path = '/Users/kwoo/Desktop/PostDoc/InitialPlasma/reports/plots/'\n",
    "        print(f'{\"path_local\":30}',':',str(pathlib.Path().absolute()))    \n",
    "        print(f'{\"path_save\":30}',':',path)\n",
    "        plt.savefig(path+export_name+'.eps',format='eps')\n",
    "        plt.savefig(path+export_name,dpi=500) \n",
    "    plt.show() \n",
    "              \n",
    "get_report(exportFlag=1)"
   ]
  },
  {
   "cell_type": "markdown",
   "metadata": {},
   "source": [
    "## get_report_te"
   ]
  },
  {
   "cell_type": "code",
   "execution_count": 1569,
   "metadata": {
    "ExecuteTime": {
     "end_time": "2021-08-22T20:41:25.292699Z",
     "start_time": "2021-08-22T20:41:04.673609Z"
    }
   },
   "outputs": [
    {
     "name": "stdout",
     "output_type": "stream",
     "text": [
      "Save as                        : transmittance_pump2_include_phonons_neutrals_Te_Tc_Ci_Zqmd\n",
      "path_local                     : /Users/kwoo/Desktop/PostDoc/InitialPlasma/python\n",
      "path_save                      : /Users/kwoo/Desktop/PostDoc/InitialPlasma/reports/plots/\n"
     ]
    },
    {
     "data": {
      "image/png": "[encoded data removed]",
      "text/plain": [
       "<Figure size 432x288 with 1 Axes>"
      ]
     },
     "metadata": {
      "needs_background": "light"
     },
     "output_type": "display_data"
    }
   ],
   "source": [
    "def get_report(exportFlag):\n",
    "    \n",
    "    plt.close('all')\n",
    "    fig = plt.figure(figsize=[6.,4])\n",
    "    fs,fs2,fs3,fs4=20,15,18,10\n",
    "\n",
    "    label1 = r'\\textbf{Pump 2: $T_{\\mathrm{e,IN}}$}'\n",
    "    label2 = r'\\textbf{Pump 2: $T_{\\mathrm{e,OUT}}$}'\n",
    "\n",
    "    nrow,ncol=1,1\n",
    "    ax1 = plt.subplot2grid((nrow, ncol), (0,0), colspan=1, rowspan=1) \n",
    "    \n",
    "    ax1.plot(data[:,0]-pulse_1_Imax_TimePs,data[:,7]/eV,label=label1,c='k',lw=2)    \n",
    "    ax1.plot(data[:,0]-pulse_1_Imax_TimePs,data[:,8]/eV,label=label2,c='r',lw=2) \n",
    "\n",
    "    ax1.tick_params(which='major',length=10,labelsize=fs2)\n",
    "    ax1.set_xlabel(r'\\textbf{Time (ps)}',fontsize=fs)\n",
    "    ax1.set_ylabel(r'\\textbf{$T_{\\mathrm{e}} ~\\mathrm{(eV)}$}',fontsize=fs)\n",
    "    ax1.set_title(r'\\textbf{$\\nu_{\\mathrm{r}}=10^9~\\mathrm{s^{-1}}, ~W_{\\mathrm{PI}}/2, ~\\nu_{\\mathrm{c}}^{\\mathrm{ep}}$}',fontsize=fs)\n",
    "    ax1.legend(fontsize=fs2,loc='upper left',numpoints=1)\n",
    "    #ax1.set_xlim([-np.pi,np.pi])\n",
    "    ax1.grid()\n",
    "    \n",
    "    #plt.sca(ax1)\n",
    "    #plt.xticks([-np.pi,-np.pi/2,0,np.pi/2,np.pi],\n",
    "    #           [r'$-180^\\circ$',r'$-90^\\circ$',r'$0^\\circ$',r'$90^\\circ$',r'$180^\\circ$'])   \n",
    "\n",
    "    plt.tight_layout()\n",
    "    if exportFlag : \n",
    "        export_name = 'transmittance_pump2_include_phonons_neutrals_Te_Tc_Ci_Zqmd'\n",
    "        print(f'{\"Save as\":30}',':',export_name)\n",
    "        path = '/Users/kwoo/Desktop/PostDoc/InitialPlasma/reports/plots/'\n",
    "        print(f'{\"path_local\":30}',':',str(pathlib.Path().absolute()))    \n",
    "        print(f'{\"path_save\":30}',':',path)\n",
    "        plt.savefig(path+export_name+'.eps',format='eps')\n",
    "        plt.savefig(path+export_name,dpi=500) \n",
    "    plt.show() \n",
    "              \n",
    "get_report(exportFlag=1)"
   ]
  },
  {
   "cell_type": "markdown",
   "metadata": {},
   "source": [
    "## get_report_ti"
   ]
  },
  {
   "cell_type": "code",
   "execution_count": 1570,
   "metadata": {
    "ExecuteTime": {
     "end_time": "2021-08-22T20:41:57.411963Z",
     "start_time": "2021-08-22T20:41:41.928112Z"
    }
   },
   "outputs": [
    {
     "name": "stdout",
     "output_type": "stream",
     "text": [
      "Save as                        : transmittance_pump2_include_phonons_neutrals_Ti_Tc_Ci_Zqmd\n",
      "path_local                     : /Users/kwoo/Desktop/PostDoc/InitialPlasma/python\n",
      "path_save                      : /Users/kwoo/Desktop/PostDoc/InitialPlasma/reports/plots/\n"
     ]
    },
    {
     "data": {
      "image/png": "[encoded data removed]",
      "text/plain": [
       "<Figure size 432x288 with 1 Axes>"
      ]
     },
     "metadata": {
      "needs_background": "light"
     },
     "output_type": "display_data"
    }
   ],
   "source": [
    "def get_report(exportFlag):\n",
    "    \n",
    "    plt.close('all')\n",
    "    fig = plt.figure(figsize=[6.,4])\n",
    "    fs,fs2,fs3,fs4=20,15,18,10\n",
    "\n",
    "    label1 = r'\\textbf{Pump 2: $T_{\\mathrm{i,IN}}$}'\n",
    "    label2 = r'\\textbf{Pump 2: $T_{\\mathrm{i,OUT}}$}'\n",
    "\n",
    "    nrow,ncol=1,1\n",
    "    ax1 = plt.subplot2grid((nrow, ncol), (0,0), colspan=1, rowspan=1) \n",
    "    \n",
    "    ax1.plot(data[:,0]-pulse_1_Imax_TimePs,data[:,15]/eV,label=label1,c='k',lw=2)    \n",
    "    ax1.plot(data[:,0]-pulse_1_Imax_TimePs,data[:,16]/eV,label=label2,c='r',lw=2) \n",
    "\n",
    "    ax1.tick_params(which='major',length=10,labelsize=fs2)\n",
    "    ax1.set_xlabel(r'\\textbf{Time (ps)}',fontsize=fs)\n",
    "    ax1.set_ylabel(r'\\textbf{$T_{\\mathrm{i}} ~\\mathrm{(eV)}$}',fontsize=fs)\n",
    "    ax1.set_title(r'\\textbf{$\\nu_{\\mathrm{r}}=10^9~\\mathrm{s^{-1}}, ~W_{\\mathrm{PI}}/2, ~\\nu_{\\mathrm{c}}^{\\mathrm{ep}}$}',fontsize=fs)\n",
    "    ax1.legend(fontsize=fs2,loc='upper left',numpoints=1)\n",
    "    #ax1.set_xlim([-np.pi,np.pi])\n",
    "    ax1.grid()\n",
    "    \n",
    "    #plt.sca(ax1)\n",
    "    #plt.xticks([-np.pi,-np.pi/2,0,np.pi/2,np.pi],\n",
    "    #           [r'$-180^\\circ$',r'$-90^\\circ$',r'$0^\\circ$',r'$90^\\circ$',r'$180^\\circ$'])   \n",
    "\n",
    "    plt.tight_layout()\n",
    "    if exportFlag : \n",
    "        export_name = 'transmittance_pump2_include_phonons_neutrals_Ti_Tc_Ci_Zqmd'\n",
    "        print(f'{\"Save as\":30}',':',export_name)\n",
    "        path = '/Users/kwoo/Desktop/PostDoc/InitialPlasma/reports/plots/'\n",
    "        print(f'{\"path_local\":30}',':',str(pathlib.Path().absolute()))    \n",
    "        print(f'{\"path_save\":30}',':',path)\n",
    "        plt.savefig(path+export_name+'.eps',format='eps')\n",
    "        plt.savefig(path+export_name,dpi=500) \n",
    "    plt.show() \n",
    "              \n",
    "get_report(exportFlag=1)"
   ]
  },
  {
   "cell_type": "markdown",
   "metadata": {},
   "source": [
    "## get_report_vc"
   ]
  },
  {
   "cell_type": "code",
   "execution_count": 1571,
   "metadata": {
    "ExecuteTime": {
     "end_time": "2021-08-22T20:43:52.213022Z",
     "start_time": "2021-08-22T20:43:35.568227Z"
    }
   },
   "outputs": [
    {
     "name": "stdout",
     "output_type": "stream",
     "text": [
      "Save as                        : transmittance_pump2_include_phonons_neutrals_Vc_Tc_Ci_Zqmd\n",
      "path_local                     : /Users/kwoo/Desktop/PostDoc/InitialPlasma/python\n",
      "path_save                      : /Users/kwoo/Desktop/PostDoc/InitialPlasma/reports/plots/\n"
     ]
    },
    {
     "data": {
      "image/png": "[encoded data removed]",
      "text/plain": [
       "<Figure size 432x288 with 1 Axes>"
      ]
     },
     "metadata": {
      "needs_background": "light"
     },
     "output_type": "display_data"
    }
   ],
   "source": [
    "def get_report(exportFlag):\n",
    "    \n",
    "    plt.close('all')\n",
    "    fig = plt.figure(figsize=[6.,4])\n",
    "    fs,fs2,fs3,fs4=20,15,18,10\n",
    "\n",
    "    label1 = r'\\textbf{Pump 2: $\\nu_{\\mathrm{c,IN}}$}'\n",
    "    label2 = r'\\textbf{Pump 2: $\\nu_{\\mathrm{c,OUT}}$}'\n",
    "\n",
    "    nrow,ncol=1,1\n",
    "    ax1 = plt.subplot2grid((nrow, ncol), (0,0), colspan=1, rowspan=1) \n",
    "    \n",
    "    ax1.plot(data[:,0]-pulse_1_Imax_TimePs,data[:,9],label=label1,c='k',lw=2)    \n",
    "    ax1.plot(data[:,0]-pulse_1_Imax_TimePs,data[:,10],label=label2,c='r',lw=2) \n",
    "\n",
    "    ax1.tick_params(which='major',length=10,labelsize=fs2)\n",
    "    ax1.set_xlabel(r'\\textbf{Time (ps)}',fontsize=fs)\n",
    "    ax1.set_ylabel(r'\\textbf{$\\nu_{\\mathrm{c}} ~\\mathrm{(s^{-1})}$}',fontsize=fs)\n",
    "    ax1.set_title(r'\\textbf{$\\nu_{\\mathrm{r}}=10^9~\\mathrm{s^{-1}}, ~W_{\\mathrm{PI}}/2, ~\\nu_{\\mathrm{c}}^{\\mathrm{ep}}$}',fontsize=fs)\n",
    "    ax1.legend(fontsize=fs2,loc='center',bbox_to_anchor=[0.5,0.8],numpoints=1)\n",
    "    #ax1.set_xlim([-np.pi,np.pi])\n",
    "    ax1.grid()\n",
    "    \n",
    "    #plt.sca(ax1)\n",
    "    #plt.xticks([-np.pi,-np.pi/2,0,np.pi/2,np.pi],\n",
    "    #           [r'$-180^\\circ$',r'$-90^\\circ$',r'$0^\\circ$',r'$90^\\circ$',r'$180^\\circ$'])   \n",
    "\n",
    "    plt.tight_layout()\n",
    "    if exportFlag : \n",
    "        export_name = 'transmittance_pump2_include_phonons_neutrals_Vc_Tc_Ci_Zqmd'\n",
    "        print(f'{\"Save as\":30}',':',export_name)\n",
    "        path = '/Users/kwoo/Desktop/PostDoc/InitialPlasma/reports/plots/'\n",
    "        print(f'{\"path_local\":30}',':',str(pathlib.Path().absolute()))    \n",
    "        print(f'{\"path_save\":30}',':',path)\n",
    "        plt.savefig(path+export_name+'.eps',format='eps')\n",
    "        plt.savefig(path+export_name,dpi=500) \n",
    "    plt.show() \n",
    "              \n",
    "get_report(exportFlag=1)"
   ]
  },
  {
   "cell_type": "markdown",
   "metadata": {},
   "source": [
    "## get_report_ne"
   ]
  },
  {
   "cell_type": "code",
   "execution_count": 1572,
   "metadata": {
    "ExecuteTime": {
     "end_time": "2021-08-22T20:44:20.831333Z",
     "start_time": "2021-08-22T20:44:04.996981Z"
    }
   },
   "outputs": [
    {
     "name": "stdout",
     "output_type": "stream",
     "text": [
      "Save as                        : transmittance_pump2_include_phonons_neutrals_Ne_Tc_Ci_Zqmd\n",
      "path_local                     : /Users/kwoo/Desktop/PostDoc/InitialPlasma/python\n",
      "path_save                      : /Users/kwoo/Desktop/PostDoc/InitialPlasma/reports/plots/\n"
     ]
    },
    {
     "data": {
      "image/png": "[encoded data removed]",
      "text/plain": [
       "<Figure size 432x288 with 1 Axes>"
      ]
     },
     "metadata": {
      "needs_background": "light"
     },
     "output_type": "display_data"
    }
   ],
   "source": [
    "def get_report(exportFlag):\n",
    "    \n",
    "    plt.close('all')\n",
    "    fig = plt.figure(figsize=[6.,4])\n",
    "    fs,fs2,fs3,fs4=20,15,18,10\n",
    "\n",
    "    label1 = r'\\textbf{Pump 2: $n_{\\mathrm{e,IN}}$}'\n",
    "    label2 = r'\\textbf{Pump 2: $n_{\\mathrm{e,OUT}}$}'\n",
    "\n",
    "    nrow,ncol=1,1\n",
    "    ax1 = plt.subplot2grid((nrow, ncol), (0,0), colspan=1, rowspan=1) \n",
    "    \n",
    "    ax1.plot(data[:,0]-pulse_1_Imax_TimePs,data[:,3]/100**3,label=label1,c='k',lw=2)    \n",
    "    ax1.plot(data[:,0]-pulse_1_Imax_TimePs,data[:,4]/100**3,label=label2,c='r',lw=2) \n",
    "\n",
    "    ax1.tick_params(which='major',length=10,labelsize=fs2)\n",
    "    ax1.set_xlabel(r'\\textbf{Time (ps)}',fontsize=fs)\n",
    "    ax1.set_ylabel(r'\\textbf{$n_{\\mathrm{e}} ~\\mathrm{(1/cm^{-3})}$}',fontsize=fs)\n",
    "    ax1.set_title(r'\\textbf{$\\nu_{\\mathrm{r}}=10^9~\\mathrm{s^{-1}}, ~W_{\\mathrm{PI}}/2, ~\\nu_{\\mathrm{c}}^{\\mathrm{ep}}$}',fontsize=fs)\n",
    "    ax1.legend(fontsize=fs2,loc='upper left',numpoints=1)\n",
    "    #ax1.set_xlim([-np.pi,np.pi])\n",
    "    ax1.grid()\n",
    "    \n",
    "    #plt.sca(ax1)\n",
    "    #plt.xticks([-np.pi,-np.pi/2,0,np.pi/2,np.pi],\n",
    "    #           [r'$-180^\\circ$',r'$-90^\\circ$',r'$0^\\circ$',r'$90^\\circ$',r'$180^\\circ$'])   \n",
    "\n",
    "    plt.tight_layout()\n",
    "    if exportFlag : \n",
    "        export_name = 'transmittance_pump2_include_phonons_neutrals_Ne_Tc_Ci_Zqmd'\n",
    "        print(f'{\"Save as\":30}',':',export_name)\n",
    "        path = '/Users/kwoo/Desktop/PostDoc/InitialPlasma/reports/plots/'\n",
    "        print(f'{\"path_local\":30}',':',str(pathlib.Path().absolute()))    \n",
    "        print(f'{\"path_save\":30}',':',path)\n",
    "        plt.savefig(path+export_name+'.eps',format='eps')\n",
    "        plt.savefig(path+export_name,dpi=500) \n",
    "    plt.show() \n",
    "              \n",
    "get_report(exportFlag=1)"
   ]
  },
  {
   "cell_type": "markdown",
   "metadata": {},
   "source": [
    "## get_report_JH"
   ]
  },
  {
   "cell_type": "code",
   "execution_count": 1573,
   "metadata": {
    "ExecuteTime": {
     "end_time": "2021-08-22T20:44:47.894806Z",
     "start_time": "2021-08-22T20:44:33.627014Z"
    }
   },
   "outputs": [
    {
     "name": "stdout",
     "output_type": "stream",
     "text": [
      "Save as                        : transmittance_pump2_include_phonons_neutrals_dUdt_Tc_Ci_Zqmd\n",
      "path_local                     : /Users/kwoo/Desktop/PostDoc/InitialPlasma/python\n",
      "path_save                      : /Users/kwoo/Desktop/PostDoc/InitialPlasma/reports/plots/\n"
     ]
    },
    {
     "data": {
      "image/png": "[encoded data removed]",
      "text/plain": [
       "<Figure size 432x288 with 1 Axes>"
      ]
     },
     "metadata": {
      "needs_background": "light"
     },
     "output_type": "display_data"
    }
   ],
   "source": [
    "def get_report(exportFlag):\n",
    "    \n",
    "    plt.close('all')\n",
    "    fig = plt.figure(figsize=[6.,4])\n",
    "    fs,fs2,fs3,fs4=20,15,18,10\n",
    "\n",
    "    label1 = r'\\textbf{Pump 2: $\\dot{U}_{\\mathrm{JH,IN}}$}'\n",
    "    label2 = r'\\textbf{Pump 2: $\\dot{U}_{\\mathrm{JH,OUT}}$}'\n",
    "\n",
    "    nrow,ncol=1,1\n",
    "    ax1 = plt.subplot2grid((nrow, ncol), (0,0), colspan=1, rowspan=1) \n",
    "    \n",
    "    ax1.plot(data[:,0]-pulse_1_Imax_TimePs,data[:,11],label=label1,c='k',lw=2)    \n",
    "    ax1.plot(data[:,0]-pulse_1_Imax_TimePs,data[:,12],label=label2,c='r',lw=2) \n",
    "\n",
    "    ax1.tick_params(which='major',length=10,labelsize=fs2)\n",
    "    ax1.set_xlabel(r'\\textbf{Time (ps)}',fontsize=fs)\n",
    "    ax1.set_ylabel(r'\\textbf{$\\dot{U}_{\\mathrm{JH}} ~\\mathrm{(J/m^3/s)}$}',fontsize=fs)\n",
    "    ax1.set_title(r'\\textbf{$\\nu_{\\mathrm{r}}=10^9~\\mathrm{s^{-1}}, ~W_{\\mathrm{PI}}/2, ~\\nu_{\\mathrm{c}}^{\\mathrm{ep}}$}',fontsize=fs)\n",
    "    ax1.legend(fontsize=fs2,loc='upper left',numpoints=1)\n",
    "    #ax1.set_xlim([-np.pi,np.pi])\n",
    "    ax1.grid()\n",
    "    \n",
    "    #plt.sca(ax1)\n",
    "    #plt.xticks([-np.pi,-np.pi/2,0,np.pi/2,np.pi],\n",
    "    #           [r'$-180^\\circ$',r'$-90^\\circ$',r'$0^\\circ$',r'$90^\\circ$',r'$180^\\circ$'])   \n",
    "\n",
    "    plt.tight_layout()\n",
    "    if exportFlag : \n",
    "        export_name = 'transmittance_pump2_include_phonons_neutrals_dUdt_Tc_Ci_Zqmd'\n",
    "        print(f'{\"Save as\":30}',':',export_name)\n",
    "        path = '/Users/kwoo/Desktop/PostDoc/InitialPlasma/reports/plots/'\n",
    "        print(f'{\"path_local\":30}',':',str(pathlib.Path().absolute()))    \n",
    "        print(f'{\"path_save\":30}',':',path)\n",
    "        plt.savefig(path+export_name+'.eps',format='eps')\n",
    "        plt.savefig(path+export_name,dpi=500) \n",
    "    plt.show() \n",
    "              \n",
    "get_report(exportFlag=1)"
   ]
  },
  {
   "cell_type": "markdown",
   "metadata": {},
   "source": [
    "## get_report_Z"
   ]
  },
  {
   "cell_type": "code",
   "execution_count": 1565,
   "metadata": {
    "ExecuteTime": {
     "end_time": "2021-08-22T16:32:17.759933Z",
     "start_time": "2021-08-22T16:31:51.487439Z"
    }
   },
   "outputs": [
    {
     "name": "stdout",
     "output_type": "stream",
     "text": [
      "Save as                        : transmittance_pump2_include_phonons_neutrals_Z_Tc_Ci_Zqmd\n",
      "path_local                     : /Users/kwoo/Desktop/PostDoc/InitialPlasma/python\n",
      "path_save                      : /Users/kwoo/Desktop/PostDoc/InitialPlasma/reports/plots/\n"
     ]
    },
    {
     "data": {
      "image/png": "[encoded data removed]",
      "text/plain": [
       "<Figure size 432x288 with 1 Axes>"
      ]
     },
     "metadata": {
      "needs_background": "light"
     },
     "output_type": "display_data"
    }
   ],
   "source": [
    "def get_report(exportFlag):\n",
    "    \n",
    "    plt.close('all')\n",
    "    fig = plt.figure(figsize=[6.,4])\n",
    "    fs,fs2,fs3,fs4=20,15,18,10\n",
    "\n",
    "    label1 = r'\\textbf{Pump 2: $Z_{\\mathrm{IN}}$}'\n",
    "    label2 = r'\\textbf{Pump 2: $Z_{\\mathrm{OUT}}$}'\n",
    "    label3 = r'\\textbf{Pump 2: $Z_{\\mathrm{IN}}^{\\mathrm{QMD}}$}'\n",
    "    label4 = r'\\textbf{Pump 2: $Z_{\\mathrm{OUT}}^{\\mathrm{QMD}}$}'    \n",
    "\n",
    "    nrow,ncol=1,1\n",
    "    ax1 = plt.subplot2grid((nrow, ncol), (0,0), colspan=1, rowspan=1) \n",
    "    \n",
    "    ax1.plot(data[:,0]-pulse_1_Imax_TimePs,data[:,17],label=label1,c='k',lw=2)    \n",
    "    ax1.plot(data[:,0]-pulse_1_Imax_TimePs,data[:,18],label=label2,c='r',lw=2)\n",
    "    \n",
    "    ax1.plot(data[:,0]-pulse_1_Imax_TimePs,data[:,19],label=label3,c='k',lw=2,ls='dashed')    \n",
    "    ax1.plot(data[:,0]-pulse_1_Imax_TimePs,data[:,20],label=label4,c='r',lw=2,ls='dashed')    \n",
    "\n",
    "    ax1.tick_params(which='major',length=10,labelsize=fs2)\n",
    "    ax1.set_xlabel(r'\\textbf{Time (ps)}',fontsize=fs)\n",
    "    ax1.set_ylabel(r'\\textbf{$Z$}',fontsize=fs)\n",
    "    ax1.set_title(r'\\textbf{$\\nu_{\\mathrm{r}}=10^9~\\mathrm{s^{-1}}, ~W_{\\mathrm{PI}}/2, ~\\nu_{\\mathrm{c}}^{\\mathrm{ep}}$}',fontsize=fs)\n",
    "    ax1.legend(fontsize=fs2,loc='upper left',numpoints=1)\n",
    "    #ax1.set_xlim([-np.pi,np.pi])\n",
    "    ax1.grid()\n",
    "    \n",
    "    #plt.sca(ax1)\n",
    "    #plt.xticks([-np.pi,-np.pi/2,0,np.pi/2,np.pi],\n",
    "    #           [r'$-180^\\circ$',r'$-90^\\circ$',r'$0^\\circ$',r'$90^\\circ$',r'$180^\\circ$'])   \n",
    "\n",
    "    plt.tight_layout()\n",
    "    if exportFlag : \n",
    "        export_name = 'transmittance_pump2_include_phonons_neutrals_Z_Tc_Ci_Zqmd'\n",
    "        print(f'{\"Save as\":30}',':',export_name)\n",
    "        path = '/Users/kwoo/Desktop/PostDoc/InitialPlasma/reports/plots/'\n",
    "        print(f'{\"path_local\":30}',':',str(pathlib.Path().absolute()))    \n",
    "        print(f'{\"path_save\":30}',':',path)\n",
    "        plt.savefig(path+export_name+'.eps',format='eps')\n",
    "        plt.savefig(path+export_name,dpi=500) \n",
    "    plt.show() \n",
    "              \n",
    "get_report(exportFlag=1)"
   ]
  },
  {
   "cell_type": "code",
   "execution_count": null,
   "metadata": {},
   "outputs": [],
   "source": []
  }
 ],
 "metadata": {
  "hide_input": false,
  "kernelspec": {
   "display_name": "Python 3",
   "language": "python",
   "name": "python3"
  },
  "language_info": {
   "codemirror_mode": {
    "name": "ipython",
    "version": 3
   },
   "file_extension": ".py",
   "mimetype": "text/x-python",
   "name": "python",
   "nbconvert_exporter": "python",
   "pygments_lexer": "ipython3",
   "version": "3.7.4"
  },
  "latex_envs": {
   "LaTeX_envs_menu_present": true,
   "autoclose": false,
   "autocomplete": true,
   "bibliofile": "biblio.bib",
   "cite_by": "apalike",
   "current_citInitial": 1,
   "eqLabelWithNumbers": true,
   "eqNumInitial": 1,
   "hotkeys": {
    "equation": "Ctrl-E",
    "itemize": "Ctrl-I"
   },
   "labels_anchors": false,
   "latex_user_defs": false,
   "report_style_numbering": false,
   "user_envs_cfg": false
  },
  "nbTranslate": {
   "displayLangs": [
    "*"
   ],
   "hotkey": "alt-t",
   "langInMainMenu": true,
   "sourceLang": "en",
   "targetLang": "fr",
   "useGoogleTranslate": true
  },
  "toc": {
   "base_numbering": 1,
   "nav_menu": {},
   "number_sections": true,
   "sideBar": true,
   "skip_h1_title": false,
   "title_cell": "Table of Contents",
   "title_sidebar": "Contents",
   "toc_cell": false,
   "toc_position": {
    "height": "calc(100% - 180px)",
    "left": "10px",
    "top": "150px",
    "width": "250.43478393554688px"
   },
   "toc_section_display": true,
   "toc_window_display": true
  },
  "varInspector": {
   "cols": {
    "lenName": 16,
    "lenType": 16,
    "lenVar": 40
   },
   "kernels_config": {
    "python": {
     "delete_cmd_postfix": "",
     "delete_cmd_prefix": "del ",
     "library": "var_list.py",
     "varRefreshCmd": "print(var_dic_list())"
    },
    "r": {
     "delete_cmd_postfix": ") ",
     "delete_cmd_prefix": "rm(",
     "library": "var_list.r",
     "varRefreshCmd": "cat(var_dic_list()) "
    }
   },
   "types_to_exclude": [
    "module",
    "function",
    "builtin_function_or_method",
    "instance",
    "_Feature"
   ],
   "window_display": false
  }
 },
 "nbformat": 4,
 "nbformat_minor": 2
}
