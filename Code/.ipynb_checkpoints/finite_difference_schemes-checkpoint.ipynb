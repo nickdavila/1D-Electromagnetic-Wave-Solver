{
 "cells": [
  {
   "cell_type": "code",
   "execution_count": 1,
   "id": "941d11c2",
   "metadata": {},
   "outputs": [],
   "source": [
    "import numpy as np\n",
    "import matplotlib.pyplot as plt\n",
    "import time # using this to tell how long a simulation run takes\n",
    "# import matplotlib.animation as animation\n",
    "\n",
    "from time import process_time\n",
    "from matplotlib.animation import FuncAnimation\n",
    "from IPython.display import HTML"
   ]
  },
  {
   "cell_type": "markdown",
   "id": "c7c7ac6a",
   "metadata": {},
   "source": [
    "## Explicit finite difference scheme"
   ]
  },
  {
   "attachments": {
    "explicit_method_stencil.png": {
     "image/png": "[encoded data removed]"
    }
   },
   "cell_type": "markdown",
   "id": "71bd9635",
   "metadata": {},
   "source": [
    "### Rewriting equation in terms of row (position) and column (time) indicies.\n",
    "\n",
    "The equation (Eq. 4.0 in doc) given to me by Jack is: \n",
    "\n",
    "\\begin{equation}\n",
    "E^{n+1}_i = \\left ( \\frac{\\Delta t}{\\Delta x} \\frac{c}{n} \\right )^2 (E^{n}_{i+1} - 2E^{n}_{i} + E^{n}_{i-1})-(-2E^{n}_{i} + E^{n-1}_{i})\n",
    "\\end{equation}\n",
    "\n",
    "where $ \\displaystyle r = \\left ( \\frac{\\Delta t}{\\Delta x} \\frac{c}{n} \\right )^2 $ and n is the position index and i is the time index (dimensionless)\n",
    "\n",
    "![explicit_method_stencil.png](attachment:explicit_method_stencil.png)\n",
    "\n",
    "Using the image above, we use [i,n] ; [i-1,n] ; [i+1,n] ; [i, n-1] and take a weighted average to find [i,n+1]."
   ]
  },
  {
   "cell_type": "markdown",
   "id": "1fcc0d3c",
   "metadata": {},
   "source": [
    "### Defining parameters needed to solve differential equation: $ \\nabla^{2} E - \\frac{n^2}{c^2} \\frac{\\partial^2 E}{\\partial t^{2}} = 0$"
   ]
  },
  {
   "cell_type": "code",
   "execution_count": 2,
   "id": "e330e215",
   "metadata": {},
   "outputs": [],
   "source": [
    "# Unit conversions\n",
    "ps = 10**-12    # picoseconds unit\n",
    "nm = 10**-9     # nanometers unit\n",
    "um = 10 ** -6   # micrometer unit\n",
    "    \n",
    "# Physical parameters\n",
    "RefractiveIndex = 1                         # unitless\n",
    "speed_of_light = 299792458                  # in m/s\n",
    "wavelength = 351 * nm                       # wavelenght in nm\n",
    "\n",
    "# time-step size “dt” is strictly controlled by Courant–Friedrichs–Lewy (CFL) condition \n",
    "# so that the wave propagation distance within a allowed time-step size cannot exceed the grid size “dx”.\n",
    "CFL = 0.1\n",
    "delta_x = 0.001 * wavelength                \n",
    "delta_t = CFL * delta_x / speed_of_light    # time related time-step\n",
    "\n",
    "# Physics formulas\n",
    "frequency = speed_of_light/wavelength       # in Hertz\n",
    "angular_frequency = 2 * np.pi * frequency   # in Hertz\n",
    "wavenumber = (2 * np.pi) / wavelength       # wave number 'k' will used in non-complex solution\n",
    "period = wavelength / speed_of_light        # wave period (can also be calculated with 1/f)\n",
    "\n",
    "# Grid and time parameters\n",
    "lambda_mult = 10                                    # int used to increase number of cycles and wavelength (longer plot; large numbers take long time to run) \n",
    "T = lambda_mult * period                            # modeling time\n",
    "n_timestep = int(T/delta_t)                         # n time step\n",
    "L = wavelength * lambda_mult                        # length of simulation\n",
    "n_cells = int(L/delta_x)                            # number of cells (can also think of as number of grid points)\n",
    "\n",
    "# ONLY USED THESE FOR DEBUGGING! NEED IN CODE STILL??\n",
    "n_cycles = period / delta_t                         # number of timesteps to finish one period\n",
    "ntimestep_dividedby_ncycle = n_timestep / n_cycles  # equal to number of periods passing through simulation time "
   ]
  },
  {
   "cell_type": "markdown",
   "id": "549af399",
   "metadata": {},
   "source": [
    "### Initializing laser intensity and electric field"
   ]
  },
  {
   "cell_type": "code",
   "execution_count": 3,
   "id": "4d2df0eb",
   "metadata": {},
   "outputs": [],
   "source": [
    "R = 25 * um                     # radius of laser\n",
    "E_L = 10 * (10 ** -6)           # in joules laser energy (10 mu joules)\n",
    "Area_L = np.pi * R **2          # area of laser\n",
    "T_laser = 100 * ps              # laser pulse time\n",
    "I_0 = E_L / (Area_L * T_laser)  # laser intensities (SI unit is Joules/(m**2) * s )\n",
    "permittivity_free_space = 8.85418782 * 10 **-12\n",
    "\n",
    "# Electric field (same as before but now using complex refractive index)\n",
    "refract_index_ghost = 1\n",
    "E_0 = np.sqrt( (2 * I_0) / (speed_of_light * refract_index_ghost * permittivity_free_space))  # SI unit is voltage / m\n",
    "\n",
    "# Laser intensity\n",
    "I_0 = E_L / (Area_L * T_laser)  # laser intensities (SI unit is Joules/(m**2) * s )"
   ]
  },
  {
   "cell_type": "markdown",
   "id": "823398fa",
   "metadata": {},
   "source": [
    "## Modeling the damping wave"
   ]
  },
  {
   "cell_type": "code",
   "execution_count": 4,
   "id": "2a7c67b4",
   "metadata": {},
   "outputs": [],
   "source": [
    "# defining complex index of refraction (no imaginary yet)\n",
    "n_r = 1\n",
    "n_i = 0.0\n",
    "complex_refractive_index = complex(n_r, n_i)\n",
    "complex_wavenumber = (angular_frequency / speed_of_light) * complex_refractive_index"
   ]
  },
  {
   "cell_type": "code",
   "execution_count": 5,
   "id": "26ddc959",
   "metadata": {},
   "outputs": [
    {
     "ename": "KeyboardInterrupt",
     "evalue": "",
     "output_type": "error",
     "traceback": [
      "\u001b[1;31m---------------------------------------------------------------------------\u001b[0m",
      "\u001b[1;31mKeyboardInterrupt\u001b[0m                         Traceback (most recent call last)",
      "Cell \u001b[1;32mIn[5], line 66\u001b[0m\n\u001b[0;32m     63\u001b[0m E_complex[n\u001b[38;5;241m+\u001b[39m\u001b[38;5;241m1\u001b[39m, i] \u001b[38;5;241m=\u001b[39m np\u001b[38;5;241m.\u001b[39mexp(\u001b[38;5;241m-\u001b[39mcomplex_wavenumber\u001b[38;5;241m.\u001b[39mimag \u001b[38;5;241m*\u001b[39m x[i]) \u001b[38;5;241m*\u001b[39m ( (r_const_complex\u001b[38;5;241m.\u001b[39mreal) \u001b[38;5;241m*\u001b[39m ( E_complex[n, i\u001b[38;5;241m+\u001b[39m\u001b[38;5;241m1\u001b[39m] \u001b[38;5;241m-\u001b[39m \u001b[38;5;241m2\u001b[39m\u001b[38;5;241m*\u001b[39mE_complex[n, i] \u001b[38;5;241m+\u001b[39m E_complex[n, i\u001b[38;5;241m-\u001b[39m\u001b[38;5;241m1\u001b[39m] ) \u001b[38;5;241m-\u001b[39m ( \u001b[38;5;241m-\u001b[39m\u001b[38;5;241m2\u001b[39m\u001b[38;5;241m*\u001b[39mE_complex[n, i] \u001b[38;5;241m+\u001b[39m E_complex[n\u001b[38;5;241m-\u001b[39m\u001b[38;5;241m1\u001b[39m, i] ) )\n\u001b[0;32m     65\u001b[0m \u001b[38;5;66;03m# this if block constrains the wave to inside our physical bounds\u001b[39;00m\n\u001b[1;32m---> 66\u001b[0m \u001b[38;5;28;01mif\u001b[39;00m (\u001b[38;5;28;01mTrue\u001b[39;00m) \u001b[38;5;129;01mand\u001b[39;00m \u001b[38;5;28mabs\u001b[39m(E_complex[n\u001b[38;5;241m+\u001b[39m\u001b[38;5;241m1\u001b[39m, i])\u001b[38;5;241m/\u001b[39m\u001b[38;5;28mabs\u001b[39m(E_0) \u001b[38;5;241m>\u001b[39m \u001b[38;5;241m1\u001b[39m:\n\u001b[0;32m     67\u001b[0m     E_complex[n\u001b[38;5;241m+\u001b[39m\u001b[38;5;241m1\u001b[39m, i] \u001b[38;5;241m=\u001b[39m E_0 \u001b[38;5;241m*\u001b[39m np\u001b[38;5;241m.\u001b[39msign(E_complex[n, i])\n\u001b[0;32m     69\u001b[0m index \u001b[38;5;241m+\u001b[39m\u001b[38;5;241m=\u001b[39m \u001b[38;5;241m1\u001b[39m\n",
      "\u001b[1;31mKeyboardInterrupt\u001b[0m: "
     ]
    }
   ],
   "source": [
    "# Start the stopwatch / counter \n",
    "start = time.time()\n",
    "\n",
    "x = []  # spatial domain (can also think of as coordinates of grid points)\n",
    "t = []  # time domain\n",
    "\n",
    "# Creating arrays for the spatial and time domains. Starting at -2 in order to create ghost cells. And ending with + 3 for the same reason\n",
    "# The ghost cells are there so that in the matrix we can access all indeces\n",
    "# To append, using formula Dr. Woo gave me: X_i = delta_x(i + 1/2)\n",
    "for i in range(-2, n_cells + 3):\n",
    "    x.append(delta_x * (i + 0.5))\n",
    "\n",
    "for i in range(-2, n_timestep + 3):\n",
    "    t.append(delta_t * (i + 0.5))\n",
    "    \n",
    "x = np.array(x)\n",
    "t = np.array(t)\n",
    "\n",
    "E_complex = 1j * np.zeros((len(t), len(x))) # initializing imaginary matrix of dimensions (t, x)\n",
    "S_xt = 1j * np.zeros((len(t), len(x)))\n",
    "\n",
    "r_const_complex = ( (delta_t/delta_x) * (speed_of_light/complex_refractive_index) ) ** 2 # our parameter\n",
    "\n",
    "# These loops will go through the grid. We start at 1 so as to not calculate the\n",
    "# value when the a time or spatial point is equal to 0.\n",
    "index = 0\n",
    "for n in range(1, (len(t) - 3)*1 + 0):\n",
    "    t_sim = t[n] # in seconds\n",
    "    \n",
    "    # Defning cos and sin terms for wave to later be turned into complex numbers for t_nm1\n",
    "    # Making sin zero because it is imaginary component\n",
    "    cos_term_0_t_nm1 = E_0 * np.cos((wavenumber * x[0]) - (angular_frequency * t[n-1]) + np.pi/2)\n",
    "    sin_term_0_t_nm1 = 0\n",
    "    \n",
    "    cos_term_1_t_nm1 = E_0 * np.cos((wavenumber * x[1]) - (angular_frequency * t[n-1]) + np.pi/2)\n",
    "    sin_term_1_t_nm1 = 0\n",
    "    \n",
    "    # Initial conditions in time:\n",
    "    E_complex[n-1, 0] = complex(cos_term_0_t_nm1, sin_term_0_t_nm1)\n",
    "    E_complex[n-1, 1] = complex(cos_term_1_t_nm1, sin_term_1_t_nm1)\n",
    "    \n",
    "    \n",
    "    # Defning cos and sin terms for wave to later be turned into complex numbers for t_n\n",
    "    # Making sin zero because it is imaginary component\n",
    "    cos_term_0_t_n = E_0 * np.cos((wavenumber * x[0]) - (angular_frequency * t[n]) + np.pi/2)\n",
    "    sin_term_0_t_n = 0\n",
    "    \n",
    "    cos_term_1_t_n = E_0 * np.cos((wavenumber * x[1]) - (angular_frequency * t[n]) + np.pi/2)\n",
    "    sin_term_1_t_n = 0\n",
    "    \n",
    "    # Instantenously defining the boundary conditions/values of ghost cells on the RIGHT:\n",
    "    E_complex[n, 0] = complex(cos_term_0_t_n, sin_term_0_t_n)\n",
    "    E_complex[n, 1] = complex(cos_term_1_t_n, sin_term_1_t_n)\n",
    "    \n",
    "    # We have no laser on the left, so boundary conditions are just 0\n",
    "    E_complex[n, -1] = complex(0)\n",
    "    E_complex[n, -2] = complex(0)\n",
    "    \n",
    "    precision_num = 10\n",
    "    for i in range(2, len(x) - 3):\n",
    "        \n",
    "        # explicit scheme\n",
    "        E_complex[n+1, i] = np.exp(-complex_wavenumber.imag * x[i]) * ( (r_const_complex.real) * ( E_complex[n, i+1] - 2*E_complex[n, i] + E_complex[n, i-1] ) - ( -2*E_complex[n, i] + E_complex[n-1, i] ) )\n",
    "        \n",
    "        # this if block constrains the wave to inside our physical bounds\n",
    "        if (True) and abs(E_complex[n+1, i])/abs(E_0) > 1:\n",
    "            E_complex[n+1, i] = E_0 * np.sign(E_complex[n, i])\n",
    "    \n",
    "        index += 1\n",
    "        \n",
    "# Stop the stopwatch / counter\n",
    "end = time.time()\n",
    "   \n",
    "print(\"Elapsed time:\", end, start) \n",
    "print(\"Elapsed time during the whole program in minutes:\", datetime.timedelta(seconds = (end - start))) "
   ]
  },
  {
   "cell_type": "code",
   "execution_count": null,
   "id": "6817242f",
   "metadata": {
    "scrolled": false
   },
   "outputs": [],
   "source": [
    "plt.plot(E_complex[int(9999 * lambda_mult), :].real)"
   ]
  },
  {
   "cell_type": "code",
   "execution_count": null,
   "id": "9fa6eef3",
   "metadata": {},
   "outputs": [],
   "source": [
    "# np.save(f\"E_complex_{lambda_mult}_cycles\", E_complex)\n",
    "# np.save(f\"E_complex_{lambda_mult}_cycles_xdata\", x)\n",
    "# np.save(f\"E_complex_{lambda_mult}_cycles_tdata\", t)\n",
    "# E_complex_10_cycles_data = np.load(\"E_complex_10_cycles.npy\")\n",
    "# E_complex_10_cycles_xdata = np.load(\"E_complex_10_cycles_xdata.npy\")\n",
    "# E_complex_10_cycles_tdata = np.load(\"E_complex_10_cycles_tdata.npy\")"
   ]
  },
  {
   "cell_type": "code",
   "execution_count": null,
   "id": "2cfe2ee6",
   "metadata": {
    "scrolled": false
   },
   "outputs": [],
   "source": [
    "# plt.plot(E_complex_10_cycles_data[int(9999 * lambda_mult), :].real)"
   ]
  },
  {
   "cell_type": "code",
   "execution_count": null,
   "id": "e270bd37",
   "metadata": {},
   "outputs": [],
   "source": [
    "# re-defining complex index of refraction (adding imaginary part to force damping using analytical solution)\n",
    "n_r = 1\n",
    "n_i = 0.125\n",
    "complex_refractive_index = complex(n_r, n_i)\n",
    "complex_wavenumber = (angular_frequency / speed_of_light) * complex_refractive_index"
   ]
  },
  {
   "cell_type": "code",
   "execution_count": null,
   "id": "690f6ab3",
   "metadata": {},
   "outputs": [],
   "source": [
    "format_title = \"{} cycles complex\".format(lambda_mult)\n",
    "plt.title(format_title)\n",
    "plt.xlabel(\"\")\n",
    "plt.ylabel(\"\")\n",
    "# plt.plot(np.exp(-complex_wavenumber.imag * x) * E_complex[int(9999 * lambda_mult), :].real)\n",
    "plt.plot(np.exp(-complex_wavenumber.imag * E_complex_10_cycles_xdata) * E_complex_10_cycles_data[int(9999 * lambda_mult), :].real)\n",
    "# plt.legend([\"real: {} * λ\".format(lambda_mult), \"complex: {} * λ\".format(lambda_mult)])\n",
    "# plt.savefig('{}_times_lambda.png'.format(lambda_mult))"
   ]
  },
  {
   "cell_type": "code",
   "execution_count": null,
   "id": "1630d1a8",
   "metadata": {},
   "outputs": [],
   "source": [
    "plt.plot(np.exp(-complex_wavenumber.imag * x))"
   ]
  },
  {
   "cell_type": "markdown",
   "id": "ecf6c4c2",
   "metadata": {},
   "source": [
    "I am plotting Eq. (10) from the Google doc\n",
    "\n",
    "\\begin{equation}\n",
    "S(x,t) = - \\frac{\\omega^{2}_{p} \\nu_c}{\\omega^{2}_{L} + \\nu^{2}_c} \\cdot \\varepsilon_0 E(x, t)^2\n",
    "\\end{equation}\n",
    "\n",
    "Using definitions from Eq (9) $\\displaystyle k_{i} = \\frac{\\omega_L}{c} n_{i} = \\frac{1}{cn} \\frac{\\omega^{2}_{p} \\nu_c}{\\omega^{2}_{L} + \\nu^{2}_c}$, I rearranged Eq. (10) and substituted $\\displaystyle \\frac{\\omega^{2}_{p} \\nu_c}{\\omega^{2}_{L} + \\nu^{2}_c}$ for $\\displaystyle -(k_{i} * cn)$\n",
    "\n",
    "So now my new Eq. (10) reads as\n",
    "\n",
    "\\begin{equation}\n",
    "S(x,t) = - (k_{i} * cn) \\cdot \\varepsilon_0 E(x, t)^2\n",
    "\\end{equation}"
   ]
  },
  {
   "cell_type": "code",
   "execution_count": null,
   "id": "4c4c218e",
   "metadata": {},
   "outputs": [],
   "source": [
    "# S_xt = -(complex_wavenumber * speed_of_light * RefractiveIndex) * permittivity_free_space * (E_complex[int(9999 * lambda_mult), :].real)**2\n",
    "# S_xt = -(complex_wavenumber * speed_of_light * RefractiveIndex) * permittivity_free_space * (E_complex.real)**2\n",
    "#S_xt = -(complex_wavenumber * speed_of_light * RefractiveIndex) * permittivity_free_space * (E_complex_10_cycles_data.real)**2\n",
    "S_xt = -(complex_wavenumber * speed_of_light * RefractiveIndex) * permittivity_free_space * (E_complex_10_cycles_data[int(10000 * lambda_mult), :].real)"
   ]
  },
  {
   "cell_type": "code",
   "execution_count": null,
   "id": "07d5bf08",
   "metadata": {
    "scrolled": false
   },
   "outputs": [],
   "source": [
    "plt.plot(S_xt)\n",
    "plt.show()"
   ]
  },
  {
   "cell_type": "markdown",
   "id": "cf401c76",
   "metadata": {},
   "source": [
    "Given the relation that \n",
    "\n",
    "$\\displaystyle S(x, t) = -2 * k_{i} * I$, we can rearrange for $I$ (laser intensity) and get $\\displaystyle I = \\frac{S(x, t)}{-2 * k_{i}}$"
   ]
  },
  {
   "cell_type": "code",
   "execution_count": null,
   "id": "1f907c61",
   "metadata": {},
   "outputs": [],
   "source": [
    "laser_intensity = S_xt / (-2 * complex_wavenumber)"
   ]
  },
  {
   "cell_type": "code",
   "execution_count": null,
   "id": "560cbf3a",
   "metadata": {
    "scrolled": false
   },
   "outputs": [],
   "source": [
    "plt.plot(E_complex_10_cycles_data[int(9999 * lambda_mult), :].real, laser_intensity)\n",
    "plt.title(\"E vs I plot\")\n",
    "plt.xlabel(\"I\")\n",
    "plt.ylabel(\"E\")\n",
    "plt.show()"
   ]
  },
  {
   "cell_type": "markdown",
   "id": "7c3013b8",
   "metadata": {},
   "source": [
    "# Questions\n",
    "\n",
    "Questions:\n",
    "\n",
    "Do we still need to keep the code for the non-complex solution?\n",
    "\n",
    "What are good units for the x and y axis for a plot of the 10 cycles?"
   ]
  },
  {
   "cell_type": "markdown",
   "id": "6b0e5704",
   "metadata": {},
   "source": [
    "# SOLUTION USING NON-COMPLEX"
   ]
  },
  {
   "cell_type": "code",
   "execution_count": null,
   "id": "0a7c58f7",
   "metadata": {},
   "outputs": [],
   "source": [
    "R = 25 * um # radius of laser\n",
    "E_L = 10 * (10 ** -6) # in joules laser energy (10 mu joules)\n",
    "Area_L = np.pi * R **2 # area of laser\n",
    "T_laser = 100 * ps # laser pulse time\n",
    "I_0 = E_L / (Area_L * T_laser) # laser intensities (SI unit is Joules/(m**2) * s )\n",
    "permittivity_free_space = 8.85418782 * 10 **-12\n",
    "\n",
    "# Electric field\n",
    "E_0 = np.sqrt( (2 * I_0) / (speed_of_light * RefractiveIndex * permittivity_free_space) ) # SI unit is voltage / m\n",
    "\n",
    "# Laser intensity\n",
    "I_0 = E_L / (Area_L * T_laser) # laser intensities (SI unit is Joules/(m**2) * s )"
   ]
  },
  {
   "cell_type": "markdown",
   "id": "a11f0dac",
   "metadata": {},
   "source": [
    "### Solving explicitly using Eq (1): $E^{n+1}_i = \\left ( \\frac{\\Delta t}{\\Delta x} \\frac{c}{n} \\right )^2 (E^{n}_{i+1} - 2E^{n}_{i} + E^{n}_{i-1})-(-2E^{n}_{i} + E^{n-1}_{i})$"
   ]
  },
  {
   "cell_type": "code",
   "execution_count": null,
   "id": "fd25cfe5",
   "metadata": {},
   "outputs": [],
   "source": [
    "x = []  # spatial domain (can also think of as coordinates of grid points)\n",
    "t = []  # time domain\n",
    "\n",
    "# Creating arrays for the spatial and time domains. Starting at -2 in order to create ghost cells. And ending with + 3 for the same reason\n",
    "# The ghost cells are there so that in the matrix we can access all indeces\n",
    "# To append, using formula Dr. Woo gave me: X_i = delta_x(i + 1/2)\n",
    "for i in range(-2, n_cells + 3):\n",
    "    x.append(delta_x * (i + 0.5))\n",
    "\n",
    "for i in range(-2, n_timestep + 3):\n",
    "    t.append(delta_t * (i + 0.5))\n",
    "    \n",
    "x = np.array(x)\n",
    "t = np.array(t)\n",
    "\n",
    "# BEFORE: E = np.zeros((len(x), len(t)))\n",
    "E = np.zeros((len(t), len(x)))\n",
    "# E_10 = np.zeros((len(t), len(x)))\n",
    "\n",
    "r_const = ( (delta_t/delta_x) * (speed_of_light/RefractiveIndex) ) ** 2 # our parameter\n",
    "print('r_const', r_const)\n",
    "\n",
    "# These loops will go through the grid. We start at 1 so as to not calculate the\n",
    "# value when the a time or spatial point is equal to 0.\n",
    "index = 0\n",
    "for n in range(1, (len(t) - 3)*0 + 3):\n",
    "    t_sim = t[n] # in seconds\n",
    "    \n",
    "    # Initial conditions in time:\n",
    "    E[n-1, 0] = E_0 * np.sin( angular_frequency * t[n-1] - wavenumber * x[0] )\n",
    "    E[n-1, 1] = E_0 * np.sin( angular_frequency * t[n-1] - wavenumber * x[1] )\n",
    "    \n",
    "    # Instantenously defining the boundary conditions/values of ghost cells on the RIGHT:\n",
    "    E[n, 0] = E_0 * np.sin( angular_frequency * t[n] - wavenumber * x[0] )\n",
    "    E[n, 1] = E_0 * np.sin( angular_frequency * t[n] - wavenumber * x[1] )\n",
    "    \n",
    "    # We have no laser on the left, so boundary conditions are just 0\n",
    "    E[n, -1] = 0\n",
    "    E[n, -2] = 0\n",
    "    \n",
    "    # Initial conditions in time:\n",
    "    E[1, 2:] = 0\n",
    "    for i in range(2, len(x) - 3):\n",
    "        E[n+1, i] = (r_const) * ( E[n, i+1] - 2*E[n, i] + E[n, i-1] ) - ( -2*E[n, i] + E[n-1, i] )\n",
    "        \n",
    "#         print('E[n+1, i]/E_0', E[n+1, i]/E_0)\n",
    "        if n == 2:\n",
    "            print('index', index, 'n+1', n+1, 'i', i, 'E[n+1, i]', E[n+1, i], 'E[n+1, i]/E_0', E[n+1, i]/E_0, (r_const) * (E[n, i+1] - 2*E[n, i] + E[n, i-1]), -2*E[n, i] + E[n-1, i], E[n, i-1] * r_const)\n",
    "        \n",
    "        # if the ratio is not bounded to from -1 to 1, then we have overshot and are out of simulation physical bounds\n",
    "        if (True) and abs(E[n+1, i]/E_0) > 1:\n",
    "            print('stop')\n",
    "            #print('index', index, 'n+1', n+1, 'i', i, \"E[n+1, i] {:.{}e}\".format(E_complex[n+1, i], precision_num), 'abs(E[n+1, i])/abs(E_0) {:.{}e}'.format(abs(E_complex[n+1, i])/abs(E_0), precision_num))\n",
    "            print('index', index, 'n+1', n+1, 'i', i, 'E[n+1, i]', E[n+1, i], 'E[n+1, i]/E_0', E[n+1, i]/E_0, (r_const) * (E[n, i+1] - 2*E[n, i] + E[n, i-1]), -2*E[n, i] + E[n-1, i], E[n, i-1] * r_const)\n",
    "            break\n",
    "    \n",
    "        index += 1"
   ]
  }
 ],
 "metadata": {
  "kernelspec": {
   "display_name": "Python 3 (ipykernel)",
   "language": "python",
   "name": "python3"
  },
  "language_info": {
   "codemirror_mode": {
    "name": "ipython",
    "version": 3
   },
   "file_extension": ".py",
   "mimetype": "text/x-python",
   "name": "python",
   "nbconvert_exporter": "python",
   "pygments_lexer": "ipython3",
   "version": "3.11.4"
  }
 },
 "nbformat": 4,
 "nbformat_minor": 5
}
