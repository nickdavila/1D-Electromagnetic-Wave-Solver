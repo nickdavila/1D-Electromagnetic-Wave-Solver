{
 "cells": [
  {
   "cell_type": "code",
   "execution_count": null,
   "id": "941d11c2",
   "metadata": {},
   "outputs": [],
   "source": [
    "import numpy as np\n",
    "import matplotlib.pyplot as plt\n",
    "import datetime # using this to tell how long a simulation run takes\n",
    "import time # using this to tell how long a simulation run takes\n",
    "import matplotlib.animation as animation\n",
    "\n",
    "from time import process_time\n",
    "from matplotlib.animation import FuncAnimation\n",
    "from IPython.display import HTML"
   ]
  },
  {
   "cell_type": "markdown",
   "id": "c7c7ac6a",
   "metadata": {},
   "source": [
    "## Explicit finite difference scheme"
   ]
  },
  {
   "attachments": {
    "explicit_method_stencil.png": {
     "image/png": "[encoded data removed]"
    }
   },
   "cell_type": "markdown",
   "id": "71bd9635",
   "metadata": {},
   "source": [
    "### Rewriting equation in terms of row (position) and column (time) indicies.\n",
    "\n",
    "The equation (Eq. 4.0 in doc) given to me by Jack is: \n",
    "\n",
    "\\begin{equation}\n",
    "E^{n+1}_i = \\left ( \\frac{\\Delta t}{\\Delta x} \\frac{c}{n} \\right )^2 (E^{n}_{i+1} - 2E^{n}_{i} + E^{n}_{i-1})-(-2E^{n}_{i} + E^{n-1}_{i})\n",
    "\\end{equation}\n",
    "\n",
    "where $ \\displaystyle r = \\left ( \\frac{\\Delta t}{\\Delta x} \\frac{c}{n} \\right )^2 $ and n is the position index and i is the time index (dimensionless)\n",
    "\n",
    "![explicit_method_stencil.png](attachment:explicit_method_stencil.png)\n",
    "\n",
    "Using the image above, we use [i,n] ; [i-1,n] ; [i+1,n] ; [i, n-1] and take a weighted average to find [i,n+1]."
   ]
  },
  {
   "cell_type": "markdown",
   "id": "a54ff6a2",
   "metadata": {},
   "source": [
    "### Defining global arrays for I, E, T_e, T_i, n_e, rho\n"
   ]
  },
  {
   "cell_type": "code",
   "execution_count": null,
   "id": "70368a4a",
   "metadata": {},
   "outputs": [],
   "source": [
    "I = np.zeros((10, 10))\n",
    "E = np.zeros((10, 10))\n",
    "T_e = np.zeros((10, 10))\n",
    "T_i = np.zeros((10, 10))\n",
    "n_e = np.zeros((10, 10))\n",
    "rho = np.zeros((10, 10))"
   ]
  },
  {
   "cell_type": "markdown",
   "id": "1fcc0d3c",
   "metadata": {},
   "source": [
    "### Defining parameters needed to solve differential equation: $ \\nabla^{2} E - \\frac{n^2}{c^2} \\frac{\\partial^2 E}{\\partial t^{2}} = 0$"
   ]
  },
  {
   "cell_type": "code",
   "execution_count": null,
   "id": "e330e215",
   "metadata": {},
   "outputs": [],
   "source": [
    "# Unit conversions\n",
    "ps = 10**-12    # picoseconds unit\n",
    "nm = 10**-9     # nanometers unit\n",
    "um = 10 ** -6   # micrometer unit\n",
    "    \n",
    "# Physical parameters\n",
    "RefractiveIndex = 1                         # unitless\n",
    "speed_of_light = 299792458                  # in m/s\n",
    "wavelength = 351 * nm # we choose wavelength\n",
    "\n",
    "# time-step size “dt” is strictly controlled by Courant–Friedrichs–Lewy (CFL) condition \n",
    "#so that the wave propagation distance within a allowed time-step size cannot exceed the grid size “dx”.\n",
    "CFL = 0.5\n",
    "delta_x = 0.05 * wavelength\n",
    "delta_t = CFL * delta_x / speed_of_light    # time related time-step\n",
    "\n",
    "# Physics formulas\n",
    "frequency = speed_of_light/wavelength       # in Hertz\n",
    "angular_frequency = 2 * np.pi * frequency   # in Hertz\n",
    "wavenumber = (2 * np.pi) / wavelength       # wave number 'k' will be imaginary part in the coming days (when we do it correctly)\n",
    "period = wavelength / speed_of_light        # wave period (can also be calculated with 1/f)\n",
    "\n",
    "# Grid and time parameters\n",
    "lambda_mult = 10  # represents number of cycles\n",
    "T = lambda_mult * period # modeling time\n",
    "n_timestep = int(T/delta_t)        # n time step\n",
    "\n",
    "L = wavelength * lambda_mult\n",
    "n_cells = int(L/delta_x)            # number of cells (can also think of as number of grid points)"
   ]
  },
  {
   "cell_type": "markdown",
   "id": "549af399",
   "metadata": {},
   "source": [
    "### Initializing laser intensity and electric field"
   ]
  },
  {
   "cell_type": "code",
   "execution_count": null,
   "id": "4d2df0eb",
   "metadata": {},
   "outputs": [],
   "source": [
    "R = 25 * um # radius of laser\n",
    "E_L = 10 * (10 ** -6) # in joules laser energy (10 mu joules)\n",
    "Area_L = np.pi * R **2 # area of laser\n",
    "T_laser = 100 * ps # laser pulse time\n",
    "I_0 = E_L / (Area_L * T_laser) # laser intensities (SI unit is Joules/(m**2) * s )\n",
    "permittivity_free_space = 8.85418782 * 10 **-12\n",
    "\n",
    "# Electric field (same as before but now using complex refractive index)\n",
    "E_0 = np.sqrt( (2 * I_0) / (speed_of_light * RefractiveIndex * permittivity_free_space)) # SI unit is voltage / m\n",
    "\n",
    "# Laser intensity\n",
    "I_0 = E_L / (Area_L * T_laser) # laser intensities (SI unit is Joules/(m**2) * s )"
   ]
  },
  {
   "cell_type": "markdown",
   "id": "823398fa",
   "metadata": {},
   "source": [
    "## Modeling the damping wave"
   ]
  },
  {
   "cell_type": "code",
   "execution_count": null,
   "id": "2a7c67b4",
   "metadata": {},
   "outputs": [],
   "source": [
    "# defining complex index of refraction (no imaginary yet)\n",
    "n_r = 1\n",
    "n_i = 0.0\n",
    "complex_refractive_index = complex(n_r, n_i)\n",
    "complex_wavenumber = (angular_frequency / speed_of_light) * complex_refractive_index"
   ]
  },
  {
   "cell_type": "code",
   "execution_count": null,
   "id": "26ddc959",
   "metadata": {},
   "outputs": [],
   "source": [
    "# Start the stopwatch / counter \n",
    "start = time.time()\n",
    "\n",
    "x = []  # spatial domain (can also think of as coordinates of grid points)\n",
    "t = []  # time domain\n",
    "\n",
    "# Creating arrays for the spatial and time domains. Starting at -2 in order to create ghost cells. And ending with + 3 for the same reason\n",
    "# The ghost cells are there so that in the matrix we can access all indeces\n",
    "# To append, using formula Dr. Woo gave me: X_i = delta_x(i + 1/2)\n",
    "for i in range(-2, n_cells + 3):\n",
    "    x.append(delta_x * (i + 0.5))\n",
    "\n",
    "for i in range(-2, n_timestep + 3):\n",
    "    t.append(delta_t * (i + 0.5))\n",
    "    \n",
    "x = np.array(x)\n",
    "t = np.array(t)\n",
    "\n",
    "E_complex = 1j * np.zeros((len(t), len(x))) # initializing imaginary matrix of dimensions (t, x)\n",
    "# S_xt = 1j * np.zeros((len(t), len(x)))\n",
    "\n",
    "r_const_complex = ( (delta_t/delta_x) * (speed_of_light/complex_refractive_index) ) ** 2 # our parameter\n",
    "\n",
    "# These loops will go through the grid. We start at 1 so as to not calculate the\n",
    "# value when the a time or spatial point is equal to 0.\n",
    "index = 0\n",
    "for n in range(1, (len(t) - 3)*1 + 0):\n",
    "    t_sim = t[n] # in seconds\n",
    "    \n",
    "    # Defning cos and sin terms for wave to later be turned into complex numbers for t_nm1\n",
    "    # Making sin zero because it is imaginary component\n",
    "    cos_term_0_t_nm1 = E_0 * np.cos((wavenumber * x[0]) - (angular_frequency * t[n-1]) + np.pi/2)\n",
    "    sin_term_0_t_nm1 = 0\n",
    "    \n",
    "    cos_term_1_t_nm1 = E_0 * np.cos((wavenumber * x[1]) - (angular_frequency * t[n-1]) + np.pi/2)\n",
    "    sin_term_1_t_nm1 = 0\n",
    "    \n",
    "    # Initial conditions in time:\n",
    "    E_complex[n-1, 0] = complex(cos_term_0_t_nm1, sin_term_0_t_nm1)\n",
    "    E_complex[n-1, 1] = complex(cos_term_1_t_nm1, sin_term_1_t_nm1)\n",
    "    \n",
    "    \n",
    "    # Defning cos and sin terms for wave to later be turned into complex numbers for t_n\n",
    "    # Making sin zero because it is imaginary component\n",
    "    cos_term_0_t_n = E_0 * np.cos((wavenumber * x[0]) - (angular_frequency * t[n]) + np.pi/2)\n",
    "    sin_term_0_t_n = 0\n",
    "    \n",
    "    cos_term_1_t_n = E_0 * np.cos((wavenumber * x[1]) - (angular_frequency * t[n]) + np.pi/2)\n",
    "    sin_term_1_t_n = 0\n",
    "    \n",
    "    # Instantenously defining the boundary conditions/values of ghost cells on the RIGHT:\n",
    "    E_complex[n, 0] = complex(cos_term_0_t_n, sin_term_0_t_n)\n",
    "    E_complex[n, 1] = complex(cos_term_1_t_n, sin_term_1_t_n)\n",
    "    \n",
    "    # We have no laser on the left, so boundary conditions are just 0\n",
    "    E_complex[n, -1] = complex(0)\n",
    "    E_complex[n, -2] = complex(0)\n",
    "    \n",
    "    precision_num = 10\n",
    "    for i in range(2, len(x) - 3):\n",
    "        \n",
    "        # explicit scheme\n",
    "        E_complex[n+1, i] = np.exp(-complex_wavenumber.imag * x[i]) * ( (r_const_complex.real) * ( E_complex[n, i+1] - 2*E_complex[n, i] + E_complex[n, i-1] ) - ( -2*E_complex[n, i] + E_complex[n-1, i] ) )\n",
    "        \n",
    "        # this if block constrains the wave to inside our physical bounds\n",
    "        if (True) and abs(E_complex[n+1, i])/abs(E_0) > 1:\n",
    "            E_complex[n+1, i] = E_0 * np.sign(E_complex[n, i])\n",
    "    \n",
    "        index += 1\n",
    "        \n",
    "# Stop the stopwatch / counter\n",
    "end = time.time()\n",
    "   \n",
    "print(\"Elapsed time:\", end, start) \n",
    "print(\"Elapsed time during the whole program in minutes:\", datetime.timedelta(seconds = (end - start))) "
   ]
  },
  {
   "cell_type": "code",
   "execution_count": null,
   "id": "ffb44159",
   "metadata": {
    "scrolled": false
   },
   "outputs": [],
   "source": [
    "plt.plot(E_complex[int(9999 * lambda_mult), :].real)"
   ]
  },
  {
   "cell_type": "code",
   "execution_count": null,
   "id": "5c99732e",
   "metadata": {
    "scrolled": false
   },
   "outputs": [],
   "source": [
    "plt.plot(E_complex[int(int(E_complex.shape[0]/lambda_mult) * lambda_mult), :].real)"
   ]
  },
  {
   "cell_type": "code",
   "execution_count": null,
   "id": "9fa6eef3",
   "metadata": {},
   "outputs": [],
   "source": [
    "# np.save(f\"E_complex_{lambda_mult}_cycles\", E_complex)\n",
    "# np.save(f\"E_complex_{lambda_mult}_cycles_xdata\", x)\n",
    "# np.save(f\"E_complex_{lambda_mult}_cycles_tdata\", t)\n",
    "# E_complex_10_cycles_data = np.load(\"E_complex_10_cycles.npy\")\n",
    "# E_complex_10_cycles_xdata = np.load(\"E_complex_10_cycles_xdata.npy\")\n",
    "# E_complex_10_cycles_tdata = np.load(\"E_complex_10_cycles_tdata.npy\")"
   ]
  },
  {
   "cell_type": "code",
   "execution_count": null,
   "id": "06e1afb5",
   "metadata": {
    "scrolled": false
   },
   "outputs": [],
   "source": [
    "plt.plot(E_complex_10_cycles_data[int(9999 * lambda_mult), :].real)"
   ]
  },
  {
   "cell_type": "code",
   "execution_count": null,
   "id": "e270bd37",
   "metadata": {},
   "outputs": [],
   "source": [
    "# re-defining complex index of refraction (adding imaginary part to force damping using analytical solution)\n",
    "n_r = 1\n",
    "n_i = 0.125\n",
    "complex_refractive_index = complex(n_r, n_i)\n",
    "complex_wavenumber = (angular_frequency / speed_of_light) * complex_refractive_index"
   ]
  },
  {
   "cell_type": "code",
   "execution_count": null,
   "id": "690f6ab3",
   "metadata": {},
   "outputs": [],
   "source": [
    "format_title = \"{} cycles complex\".format(lambda_mult)\n",
    "plt.title(format_title)\n",
    "plt.xlabel(\"Number of grid points in system (nm)\") # in entire simulation domain. Units of 10 ** -9 meters in SI units\n",
    "plt.ylabel(\"Electric field amplitude (V/m)\") # SI unit of volts / m\n",
    "# plt.plot(np.exp(-complex_wavenumber.imag * x) * E_complex[int(int(E_complex.shape[0]/lambda_mult) * lambda_mult), :].real)\n",
    "plt.plot(np.exp(-complex_wavenumber.imag * x) * E_complex[200, :].real)\n",
    "# plt.plot(np.exp(-complex_wavenumber.imag * E_complex_10_cycles_xdata) * E_complex_10_cycles_data[int(9999 * lambda_mult), :].real)\n",
    "# plt.legend([\"real: {} * λ\".format(lambda_mult), \"complex: {} * λ\".format(lambda_mult)])\n",
    "# plt.savefig('{}_times_lambda.png'.format(lambda_mult))\n",
    "plt.show()"
   ]
  },
  {
   "cell_type": "code",
   "execution_count": null,
   "id": "1630d1a8",
   "metadata": {},
   "outputs": [],
   "source": [
    "plt.plot(np.exp(-complex_wavenumber.imag * x))\n",
    "plt.ylabel(\"Absorption coefficient (unitless)\")\n",
    "plt.xlabel(\"Position in nm\")\n",
    "plt.show()"
   ]
  },
  {
   "cell_type": "code",
   "execution_count": null,
   "id": "47bda70f",
   "metadata": {},
   "outputs": [],
   "source": [
    "# laser_intensity = S_xt / (-2 * complex_wavenumber)\n",
    "laser_intensity = (speed_of_light * n_r * permittivity_free_space)/2 * (E_complex.real)**2"
   ]
  },
  {
   "cell_type": "code",
   "execution_count": null,
   "id": "877210a3",
   "metadata": {},
   "outputs": [],
   "source": [
    "S_xt_ = -2 * complex_wavenumber * laser_intensity"
   ]
  },
  {
   "cell_type": "code",
   "execution_count": null,
   "id": "801dcaa6",
   "metadata": {
    "scrolled": false
   },
   "outputs": [],
   "source": [
    "plt.plot(x, laser_intensity[400,:])\n",
    "plt.title(\"Plot of Laser Intensity '$I$' over space\")\n",
    "plt.xlabel(\"Space (x)\")\n",
    "plt.ylabel(\"Laser Intensity\")\n",
    "plt.show()"
   ]
  },
  {
   "cell_type": "code",
   "execution_count": null,
   "id": "e613daf9",
   "metadata": {},
   "outputs": [],
   "source": [
    "# Enable interactive plot\n",
    "%matplotlib notebook"
   ]
  },
  {
   "cell_type": "code",
   "execution_count": null,
   "id": "3df70bda",
   "metadata": {},
   "outputs": [],
   "source": [
    "Y_UPPER_LIMIT = 1.5 * 10**8\n",
    "Y_LOWER_LIMIT = -1 * 10**8"
   ]
  },
  {
   "cell_type": "code",
   "execution_count": null,
   "id": "3cd4b394",
   "metadata": {},
   "outputs": [],
   "source": [
    "# creating a blank window\n",
    "# for the animation \n",
    "fig = plt.figure() \n",
    "axis = plt.axes(xlim =(0, 400),\n",
    "                ylim =(Y_LOWER_LIMIT, Y_UPPER_LIMIT)) \n",
    "  \n",
    "line, = axis.plot([], [], lw = 2) \n",
    "   \n",
    "# what will our line dataset\n",
    "# contain?\n",
    "def init(): \n",
    "    line.set_data([], []) \n",
    "    return line, \n",
    "   \n",
    "# initializing empty values\n",
    "# for x and y co-ordinates\n",
    "xdata, ydata = [], [] \n",
    "   \n",
    "# animation function \n",
    "def animate(i): \n",
    "    # t is a parameter which varies\n",
    "    # with the frame number\n",
    "#     t = 0.1 * i \n",
    "       \n",
    "    # x, y values to be plotted \n",
    "    x_test = x/nm \n",
    "    y = np.exp(-complex_wavenumber.imag * x) * E_complex[i, :].real\n",
    "       \n",
    "    # appending values to the previously \n",
    "    # empty x and y data holders \n",
    "    xdata.append(x) \n",
    "    ydata.append(y) \n",
    "    line.set_data(xdata, ydata) \n",
    "      \n",
    "    return line,\n",
    "   \n",
    "# calling the animation function     \n",
    "anim = animation.FuncAnimation(fig, animate, init_func = init, \n",
    "                               frames = 400, interval = 20, blit = True) \n",
    "   \n",
    "# saves the animation in our desktop\n",
    "anim.save('growingCoil.gif', writer = 'ffmpeg', fps = 30)"
   ]
  }
 ],
 "metadata": {
  "kernelspec": {
   "display_name": "Python 3 (ipykernel)",
   "language": "python",
   "name": "python3"
  },
  "language_info": {
   "codemirror_mode": {
    "name": "ipython",
    "version": 3
   },
   "file_extension": ".py",
   "mimetype": "text/x-python",
   "name": "python",
   "nbconvert_exporter": "python",
   "pygments_lexer": "ipython3",
   "version": "3.11.4"
  }
 },
 "nbformat": 4,
 "nbformat_minor": 5
}
