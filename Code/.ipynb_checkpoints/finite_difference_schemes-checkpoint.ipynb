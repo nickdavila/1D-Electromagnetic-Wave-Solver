{
 "cells": [
  {
   "cell_type": "code",
   "execution_count": 1,
   "id": "cc16b3f7",
   "metadata": {},
   "outputs": [
    {
     "data": {
      "application/javascript": [
       "MathJax.Hub.Config({\n",
       "    TeX: { equationNumbers: { autoNumber: \"AMS\" } }\n",
       "});\n",
       "// Code to be able to number equations in the markdown\n"
      ],
      "text/plain": [
       "<IPython.core.display.Javascript object>"
      ]
     },
     "metadata": {},
     "output_type": "display_data"
    }
   ],
   "source": [
    "%%javascript\n",
    "MathJax.Hub.Config({\n",
    "    TeX: { equationNumbers: { autoNumber: \"AMS\" } }\n",
    "});\n",
    "// Code to be able to number equations in the markdown"
   ]
  },
  {
   "cell_type": "code",
   "execution_count": 2,
   "id": "941d11c2",
   "metadata": {},
   "outputs": [],
   "source": [
    "import numpy as np\n",
    "import matplotlib.pyplot as plt\n",
    "# import matplotlib.animation as animation\n",
    "\n",
    "from time import process_time\n",
    "from matplotlib.animation import FuncAnimation\n",
    "from IPython.display import HTML"
   ]
  },
  {
   "cell_type": "markdown",
   "id": "c7c7ac6a",
   "metadata": {},
   "source": [
    "## Explicit finite difference scheme"
   ]
  },
  {
   "attachments": {
    "explicit_method_stencil.png": {
     "image/png": "[encoded data removed]"
    }
   },
   "cell_type": "markdown",
   "id": "71bd9635",
   "metadata": {},
   "source": [
    "### Rewriting equation in terms of row (position) and column (time) indicies.\n",
    "\n",
    "The equation (Eq. 4.0 in doc) given to me by Jack is: \n",
    "\n",
    "\\begin{equation}\n",
    "E^{n+1}_i = \\left ( \\frac{\\Delta t}{\\Delta x} \\frac{c}{n} \\right )^2 (E^{n}_{i+1} - 2E^{n}_{i} + E^{n}_{i-1})-(-2E^{n}_{i} + E^{n-1}_{i})\n",
    "\\end{equation}\n",
    "\n",
    "where $ \\displaystyle r = \\left ( \\frac{\\Delta t}{\\Delta x} \\frac{c}{n} \\right )^2 $ and n is the position index and i is the time index (dimensionless)\n",
    "\n",
    "![explicit_method_stencil.png](attachment:explicit_method_stencil.png)\n",
    "\n",
    "Using the image above, we use [i,n] ; [i-1,n] ; [i+1,n] ; [i, n-1] and take a weighted average to find [i,n+1]."
   ]
  },
  {
   "cell_type": "markdown",
   "id": "a54ff6a2",
   "metadata": {},
   "source": [
    "### Defining global arrays for I, E, T_e, T_i, n_e, rho\n"
   ]
  },
  {
   "cell_type": "code",
   "execution_count": 3,
   "id": "70368a4a",
   "metadata": {},
   "outputs": [],
   "source": [
    "I = np.zeros((10, 10))\n",
    "E = np.zeros((10, 10))\n",
    "T_e = np.zeros((10, 10))\n",
    "T_i = np.zeros((10, 10))\n",
    "n_e = np.zeros((10, 10))\n",
    "rho = np.zeros((10, 10))"
   ]
  },
  {
   "cell_type": "markdown",
   "id": "1fcc0d3c",
   "metadata": {},
   "source": [
    "### Defining parameters needed to solve differential equation: $ \\nabla^{2} E - \\frac{n^2}{c^2} \\frac{\\partial^2 E}{\\partial t^{2}} = 0$"
   ]
  },
  {
   "cell_type": "code",
   "execution_count": 4,
   "id": "e330e215",
   "metadata": {},
   "outputs": [],
   "source": [
    "# Unit conversions\n",
    "ps = 10**-12    # picoseconds unit\n",
    "nm = 10**-9     # nanometers unit\n",
    "um = 10 ** -6   # micrometer unit\n",
    "    \n",
    "# Physical parameters\n",
    "RefractiveIndex = 1                         # unitless\n",
    "speed_of_light = 299792458                  # in m/s\n",
    "wavelength = 351 * nm # we choose wavelength\n",
    "\n",
    "# time-step size “dt” is strictly controlled by Courant–Friedrichs–Lewy (CFL) condition \n",
    "#so that the wave propagation distance within a allowed time-step size cannot exceed the grid size “dx”.\n",
    "CFL = 0.1\n",
    "delta_x = 0.001 * wavelength\n",
    "delta_t = CFL * delta_x / speed_of_light    # time related time-step\n",
    "\n",
    "# Physics formulas\n",
    "frequency = speed_of_light/wavelength       # in Hertz\n",
    "angular_frequency = 2 * np.pi * frequency   # in Hertz\n",
    "wavenumber = (2 * np.pi) / wavelength       # wave number 'k' will be imaginary part in the coming days (when we do it correctly)\n",
    "period = wavelength / speed_of_light        # wave period (can also be calculated with 1/f)\n",
    "\n",
    "# Grid and time parameters\n",
    "lambda_mult = 1  # represents number of cycles\n",
    "T = lambda_mult * period # modeling time\n",
    "n_timestep = int(T/delta_t)        # n time step\n",
    "n_cycles = period / delta_t  # number of timesteps to finish one period\n",
    "ntimestep_dividedby_ncycle = n_timestep / n_cycles # equal to number of periods passing through simulation time \n",
    "# L = 500 * nm            # length in SI units in meters\n",
    "\n",
    "L = wavelength * lambda_mult\n",
    "n_cells = int(L/delta_x)            # number of cells (can also think of as number of grid points)\n",
    "# delta_x = L/n_cells     # spatial time-step (can also think of as grid spacing)"
   ]
  },
  {
   "cell_type": "markdown",
   "id": "1d2f7d42",
   "metadata": {},
   "source": [
    "### Initializing laser intensity and electric field"
   ]
  },
  {
   "cell_type": "code",
   "execution_count": 5,
   "id": "91e88b1b",
   "metadata": {},
   "outputs": [],
   "source": [
    "R = 25 * um # radius of laser\n",
    "E_L = 10 * (10 ** -6) # in joules laser energy (10 mu joules)\n",
    "Area_L = np.pi * R **2 # area of laser\n",
    "T_laser = 100 * ps # laser pulse time\n",
    "I_0 = E_L / (Area_L * T_laser) # laser intensities (SI unit is Joules/(m**2) * s )\n",
    "permittivity_free_space = 8.85418782 * 10 **-12\n",
    "\n",
    "# Electric field (same as before but now using complex refractive index)\n",
    "refract_index_ghost = 1\n",
    "E_0 = np.sqrt( (2 * I_0) / (speed_of_light * refract_index_ghost * permittivity_free_space)) # SI unit is voltage / m\n",
    "\n",
    "# Laser intensity\n",
    "I_0 = E_L / (Area_L * T_laser) # laser intensities (SI unit is Joules/(m**2) * s )"
   ]
  },
  {
   "cell_type": "markdown",
   "id": "823398fa",
   "metadata": {},
   "source": [
    "## Modeling the damping wave"
   ]
  },
  {
   "cell_type": "code",
   "execution_count": 6,
   "id": "2a7c67b4",
   "metadata": {},
   "outputs": [],
   "source": [
    "# defining complex index of refraction (no imaginary yet)\n",
    "n_r = 1\n",
    "# n_i = 6.48\n",
    "n_i = 0.0\n",
    "# complex_refractive_index = np.cdouble(complex(n_r, n_i))\n",
    "complex_refractive_index = complex(n_r, n_i)\n",
    "complex_wavenumber = (angular_frequency / speed_of_light) * complex_refractive_index"
   ]
  },
  {
   "cell_type": "code",
   "execution_count": 7,
   "id": "26ddc959",
   "metadata": {},
   "outputs": [
    {
     "name": "stdout",
     "output_type": "stream",
     "text": [
      "E_complex.max() 0j\n",
      "E_complex.min() 0j\n",
      "r_const_complex (0.010000000000000004+0j)\n",
      "Elapsed time: 25.03125 0.1875\n",
      "Elapsed time during the whole program in minutes: 0.4140625\n"
     ]
    }
   ],
   "source": [
    "# Start the stopwatch / counter \n",
    "t1_start = process_time() \n",
    "\n",
    "x = []  # spatial domain (can also think of as coordinates of grid points)\n",
    "t = []  # time domain\n",
    "\n",
    "# Creating arrays for the spatial and time domains. Starting at -2 in order to create ghost cells. And ending with + 3 for the same reason\n",
    "# The ghost cells are there so that in the matrix we can access all indeces\n",
    "# To append, using formula Dr. Woo gave me: X_i = delta_x(i + 1/2)\n",
    "for i in range(-2, n_cells + 3):\n",
    "    x.append(delta_x * (i + 0.5))\n",
    "\n",
    "for i in range(-2, n_timestep + 3):\n",
    "    t.append(delta_t * (i + 0.5))\n",
    "    \n",
    "x = np.array(x)\n",
    "t = np.array(t)\n",
    "\n",
    "E_complex = 1j * np.zeros((len(t), len(x)))\n",
    "\n",
    "print('E_complex.max()', E_complex.max()) \n",
    "print('E_complex.min()', E_complex.min())\n",
    "\n",
    "r_const_complex = ( (delta_t/delta_x) * (speed_of_light/complex_refractive_index) ) ** 2 # our parameter\n",
    "print('r_const_complex', r_const_complex)\n",
    "\n",
    "# These loops will go through the grid. We start at 1 so as to not calculate the\n",
    "# value when the a time or spatial point is equal to 0.\n",
    "index = 0\n",
    "for n in range(1, (len(t) - 3)*1 + 0):\n",
    "    t_sim = t[n] # in seconds\n",
    "    \n",
    "    # Defning cos and sin terms for wave to later be turned into complex numbers for t_nm1\n",
    "    cos_term_0_t_nm1 = E_0 * np.cos((wavenumber * x[0]) - (angular_frequency * t[n-1]) + np.pi/2)\n",
    "#     sin_term_0_t_nm1 = E_0 * np.sin((wavenumber * x[0]) - (angular_frequency * t[n-1]) + np.pi/2)\n",
    "    sin_term_0_t_nm1 = 0\n",
    "    \n",
    "    cos_term_1_t_nm1 = E_0 * np.cos((wavenumber * x[1]) - (angular_frequency * t[n-1]) + np.pi/2)\n",
    "#     sin_term_1_t_nm1 = E_0 * np.sin((wavenumber * x[1]) - (angular_frequency * t[n-1]) + np.pi/2)\n",
    "    sin_term_1_t_nm1 = 0\n",
    "    \n",
    "#     print('cos_term_0_t_nm1', cos_term_0_t_nm1)\n",
    "#     print('sin_term_0_t_nm1', sin_term_0_t_nm1)\n",
    "#     print('cos_term_1_t_nm1', cos_term_1_t_nm1)\n",
    "#     print('sin_term_1_t_nm1', sin_term_1_t_nm1)\n",
    "\n",
    "    \n",
    "    # Initial conditions in time:\n",
    "    E_complex[n-1, 0] = complex(cos_term_0_t_nm1, sin_term_0_t_nm1)\n",
    "    E_complex[n-1, 1] = complex(cos_term_1_t_nm1, sin_term_1_t_nm1)\n",
    "    \n",
    "#     print('E_complex[n-1, 0]', E_complex[n-1, 0])\n",
    "#     print('E_complex[n-1, 1]', E_complex[n-1, 1])\n",
    "#     print('abs(E_complex[n-1, 0])', abs(E_complex[n-1, 0]), 'abs(E_complex[n-1, 1])', abs(E_complex[n-1, 1]))\n",
    "#     print('E_0', E_0)\n",
    "\n",
    "    \n",
    "    # Defning cos and sin terms for wave to later be turned into complex numbers for t_n\n",
    "    cos_term_0_t_n = E_0 * np.cos((wavenumber * x[0]) - (angular_frequency * t[n]) + np.pi/2)\n",
    "#     sin_term_0_t_n = E_0 * np.sin((wavenumber * x[0]) - (angular_frequency * t[n]) + np.pi/2)\n",
    "    sin_term_0_t_n = 0\n",
    "    \n",
    "    cos_term_1_t_n = E_0 * np.cos((wavenumber * x[1]) - (angular_frequency * t[n]) + np.pi/2)\n",
    "#     sin_term_1_t_n = E_0 * np.sin((wavenumber * x[1]) - (angular_frequency * t[n]) + np.pi/2)\n",
    "    sin_term_1_t_n = 0\n",
    "    \n",
    "#     print('cos_term_0_t_n', cos_term_0_t_n)\n",
    "#     print('sin_term_1_t_n', sin_term_1_t_n)\n",
    "    \n",
    "    \n",
    "    # Instantenously defining the boundary conditions/values of ghost cells on the RIGHT:\n",
    "    E_complex[n, 0] = complex(cos_term_0_t_n, sin_term_0_t_n)\n",
    "    E_complex[n, 1] = complex(cos_term_1_t_n, sin_term_1_t_n)\n",
    "    \n",
    "#     print()\n",
    "#     print('E_complex[n, 0]', E_complex[n, 0])\n",
    "#     print('E_complex[n, 1]', E_complex[n, 1])\n",
    "#     print('abs(E_complex[n, 0])', abs(E_complex[n, 0]), 'abs(E_complex[n, 1])', abs(E_complex[n, 1]))\n",
    "#     print('E_0', E_0)\n",
    "    \n",
    "    # We have no laser on the left, so boundary conditions are just 0\n",
    "    E_complex[n, -1] = complex(0)\n",
    "    E_complex[n, -2] = complex(0)\n",
    "    \n",
    "    # Initial conditions in time:\n",
    "#     E_complex[1, 2:] = 0\n",
    "    \n",
    "    precision_num = 10\n",
    "    for i in range(2, len(x) - 3):\n",
    "        \n",
    "        E_complex[n+1, i] = np.exp(-complex_wavenumber.imag * x[i]) * ( (r_const_complex.real) * ( E_complex[n, i+1] - 2*E_complex[n, i] + E_complex[n, i-1] ) - ( -2*E_complex[n, i] + E_complex[n-1, i] ) )\n",
    "        \n",
    "        #constrain\n",
    "        if (True) and abs(E_complex[n+1, i])/abs(E_0) > 1:\n",
    "            E_complex[n+1, i] = E_0 * np.sign(E_complex[n, i])\n",
    "            \n",
    "            \n",
    "\n",
    "#         E_complex[n+1, i] = E_complex[n+1, i] * np.exp(-complex_wavenumber.imag * x[i])\n",
    "\n",
    "        if (False) and n == 2:\n",
    "            print('index', index, 'n+1', n+1, 'i', i, \"E[n+1, i] {:.{}e}\".format(E_complex[n+1, i], precision_num), 'abs(E[n+1, i])/abs(E_0) {:.{}e}'.format(abs(E_complex[n+1, i])/abs(E_0), precision_num))\n",
    "            \n",
    "\n",
    "        # if the ratio is not bounded to from -1 to 1, then we have overshot and are out of simulation physical bounds\n",
    "        if (False) and abs(E_complex[n+1, i])/abs(E_0) > 1:\n",
    "            print('stop')\n",
    "#             print('index', index, 'n+1', n+1, 'i', i, \"E[n+1, i] {:.{}e}\".format(E_complex[n+1, i], precision_num), 'abs(E[n+1, i])/abs(E_0) {:.{}e}'.format(abs(E_complex[n+1, i])/abs(E_0), precision_num))\n",
    "            print('index', index, 'n+1', n+1, 'i', i, \"E[n+1, i]\", E_complex[n+1, i], 'abs(E[n+1, i])/abs(E_0) ', abs(E_complex[n+1, i])/abs(E_0))\n",
    "            print()\n",
    "            print(\"E_0 {:.{}e}\".format(E_0, precision_num))\n",
    "            print()\n",
    "            print('(r_const_complex) * ( E[n, i+1] - 2*E[n, i] + E[n, i-1] ) {:.{}e}'.format((r_const_complex) * ( E_complex[n, i+1] - 2*E_complex[n, i] + E_complex[n, i-1] ), precision_num))\n",
    "            print('abs((r_const_complex) * ( E[n, i+1] - 2*E[n, i] + E[n, i-1] )) {:.{}e}'.format(abs((r_const_complex) * ( E_complex[n, i+1] - 2*E_complex[n, i] + E_complex[n, i-1] )), precision_num))\n",
    "            print()\n",
    "            print('( -2*E[n, i] + E[n-1, i] ) {:.{}e}'.format( ( -2*E_complex[n, i] + E_complex[n-1, i] ), precision_num) )\n",
    "            \n",
    "            print('abs( -2*E[n, i] + E[n-1, i] ) {:.{}e}'.format( abs(( -2*E_complex[n, i] + E_complex[n-1, i] )), precision_num) )\n",
    "            print()\n",
    "            print('abs(r_const_complex) {:.{}e}'.format( abs(r_const_complex), precision_num) )\n",
    "            print()\n",
    "            \n",
    "            print('E[n, i+1] {:.{}e}'.format(E_complex[n, i+1], precision_num), 'E[n, i] {:.{}e}'.format(E_complex[n, i], precision_num), 'E[n, i-1] {:.{}e}'.format(E_complex[n, i-1], precision_num), 'E[n-1, i] {:.{}e}'.format( E_complex[n-1, i], precision_num))\n",
    "            print()\n",
    "            print(abs(E_complex[n, i+1]/E_0),  abs(E_complex[n, i]/E_0), abs(E_complex[n, i-1]/E_0), abs(E_complex[n-1, i]/E_0))\n",
    "            print()\n",
    "            \n",
    "            print('cos_term_0_t_nm1', cos_term_0_t_nm1)\n",
    "            print('sin_term_0_t_nm1', sin_term_0_t_nm1)\n",
    "            print('cos_term_1_t_nm1', cos_term_1_t_nm1)\n",
    "            print('sin_term_1_t_nm1', sin_term_1_t_nm1)\n",
    "            \n",
    "            print(np.sqrt(cos_term_0_t_nm1 ** 2 + sin_term_0_t_nm1 ** 2))\n",
    "            print(np.sqrt(cos_term_1_t_nm1 ** 2 + sin_term_1_t_nm1 ** 2))\n",
    "            \n",
    "            print(np.sqrt(cos_term_0_t_n ** 2 + sin_term_0_t_n ** 2))\n",
    "            print(np.sqrt(cos_term_1_t_n ** 2 + sin_term_1_t_n ** 2))\n",
    "            print()\n",
    "            break\n",
    "    \n",
    "        index += 1\n",
    "        \n",
    "# Stop the stopwatch / counter\n",
    "t1_stop = process_time()\n",
    "   \n",
    "print(\"Elapsed time:\", t1_stop, t1_start) \n",
    "   \n",
    "print(\"Elapsed time during the whole program in minutes:\",\n",
    "                                         (t1_stop - t1_start)/60 ) "
   ]
  },
  {
   "cell_type": "code",
   "execution_count": 8,
   "id": "091973cf",
   "metadata": {
    "scrolled": false
   },
   "outputs": [
    {
     "data": {
      "text/plain": [
       "[<matplotlib.lines.Line2D at 0x1f3ff518590>]"
      ]
     },
     "execution_count": 8,
     "metadata": {},
     "output_type": "execute_result"
    },
    {
     "data": {
      "image/png": "[encoded data removed]",
      "text/plain": [
       "<Figure size 640x480 with 1 Axes>"
      ]
     },
     "metadata": {},
     "output_type": "display_data"
    }
   ],
   "source": [
    "plt.plot(E_complex[int(9999 * 1), :].real)"
   ]
  },
  {
   "cell_type": "code",
   "execution_count": 9,
   "id": "cd0e1c75",
   "metadata": {},
   "outputs": [],
   "source": [
    "# re-defining complex index of refraction (adding imaginary part to force damping using analytical solution)\n",
    "n_r = 1\n",
    "# n_i = 6.48\n",
    "n_i = 0.5\n",
    "# complex_refractive_index = np.cdouble(complex(n_r, n_i))\n",
    "complex_refractive_index = complex(n_r, n_i)\n",
    "complex_wavenumber = (angular_frequency / speed_of_light) * complex_refractive_index"
   ]
  },
  {
   "cell_type": "code",
   "execution_count": 10,
   "id": "3b211886",
   "metadata": {},
   "outputs": [
    {
     "data": {
      "text/plain": [
       "[<matplotlib.lines.Line2D at 0x1f3ff85fd50>]"
      ]
     },
     "execution_count": 10,
     "metadata": {},
     "output_type": "execute_result"
    },
    {
     "data": {
      "image/png": "[encoded data removed]",
      "text/plain": [
       "<Figure size 640x480 with 1 Axes>"
      ]
     },
     "metadata": {},
     "output_type": "display_data"
    }
   ],
   "source": [
    "plt.plot(np.exp(-complex_wavenumber.imag * x))"
   ]
  },
  {
   "cell_type": "code",
   "execution_count": 11,
   "id": "690f6ab3",
   "metadata": {},
   "outputs": [
    {
     "data": {
      "text/plain": [
       "[<matplotlib.lines.Line2D at 0x1f38716c150>]"
      ]
     },
     "execution_count": 11,
     "metadata": {},
     "output_type": "execute_result"
    },
    {
     "data": {
      "image/png": "[encoded data removed]",
      "text/plain": [
       "<Figure size 640x480 with 1 Axes>"
      ]
     },
     "metadata": {},
     "output_type": "display_data"
    }
   ],
   "source": [
    "plt.plot(np.exp(-complex_wavenumber.imag * x) * E_complex[int(9999 * 1), :].real)"
   ]
  },
  {
   "cell_type": "markdown",
   "id": "107bba80",
   "metadata": {},
   "source": [
    "# SOLUTION USING NON-COMPLEX"
   ]
  },
  {
   "cell_type": "code",
   "execution_count": null,
   "id": "ea285351",
   "metadata": {},
   "outputs": [],
   "source": [
    "R = 25 * um # radius of laser\n",
    "E_L = 10 * (10 ** -6) # in joules laser energy (10 mu joules)\n",
    "Area_L = np.pi * R **2 # area of laser\n",
    "T_laser = 100 * ps # laser pulse time\n",
    "I_0 = E_L / (Area_L * T_laser) # laser intensities (SI unit is Joules/(m**2) * s )\n",
    "permittivity_free_space = 8.85418782 * 10 **-12\n",
    "\n",
    "# Electric field\n",
    "E_0 = np.sqrt( (2 * I_0) / (speed_of_light * RefractiveIndex * permittivity_free_space) ) # SI unit is voltage / m\n",
    "\n",
    "# Laser intensity\n",
    "I_0 = E_L / (Area_L * T_laser) # laser intensities (SI unit is Joules/(m**2) * s )"
   ]
  },
  {
   "cell_type": "markdown",
   "id": "0a6007bf",
   "metadata": {},
   "source": [
    "### Solving explicitly using Eq (1): $E^{n+1}_i = \\left ( \\frac{\\Delta t}{\\Delta x} \\frac{c}{n} \\right )^2 (E^{n}_{i+1} - 2E^{n}_{i} + E^{n}_{i-1})-(-2E^{n}_{i} + E^{n-1}_{i})$"
   ]
  },
  {
   "cell_type": "code",
   "execution_count": null,
   "id": "ac72e819",
   "metadata": {},
   "outputs": [],
   "source": [
    "x = []  # spatial domain (can also think of as coordinates of grid points)\n",
    "t = []  # time domain\n",
    "\n",
    "# Creating arrays for the spatial and time domains. Starting at -2 in order to create ghost cells. And ending with + 3 for the same reason\n",
    "# The ghost cells are there so that in the matrix we can access all indeces\n",
    "# To append, using formula Dr. Woo gave me: X_i = delta_x(i + 1/2)\n",
    "for i in range(-2, n_cells + 3):\n",
    "    x.append(delta_x * (i + 0.5))\n",
    "\n",
    "for i in range(-2, n_timestep + 3):\n",
    "    t.append(delta_t * (i + 0.5))\n",
    "    \n",
    "x = np.array(x)\n",
    "t = np.array(t)\n",
    "\n",
    "# BEFORE: E = np.zeros((len(x), len(t)))\n",
    "E = np.zeros((len(t), len(x)))\n",
    "# E_10 = np.zeros((len(t), len(x)))\n",
    "\n",
    "r_const = ( (delta_t/delta_x) * (speed_of_light/RefractiveIndex) ) ** 2 # our parameter\n",
    "print('r_const', r_const)\n",
    "\n",
    "# These loops will go through the grid. We start at 1 so as to not calculate the\n",
    "# value when the a time or spatial point is equal to 0.\n",
    "index = 0\n",
    "for n in range(1, (len(t) - 3)*0 + 3):\n",
    "    t_sim = t[n] # in seconds\n",
    "    \n",
    "    # Initial conditions in time:\n",
    "    E[n-1, 0] = E_0 * np.sin( angular_frequency * t[n-1] - wavenumber * x[0] )\n",
    "    E[n-1, 1] = E_0 * np.sin( angular_frequency * t[n-1] - wavenumber * x[1] )\n",
    "    \n",
    "    # Instantenously defining the boundary conditions/values of ghost cells on the RIGHT:\n",
    "    E[n, 0] = E_0 * np.sin( angular_frequency * t[n] - wavenumber * x[0] )\n",
    "    E[n, 1] = E_0 * np.sin( angular_frequency * t[n] - wavenumber * x[1] )\n",
    "    \n",
    "    # We have no laser on the left, so boundary conditions are just 0\n",
    "    E[n, -1] = 0\n",
    "    E[n, -2] = 0\n",
    "    \n",
    "    # Initial conditions in time:\n",
    "    E[1, 2:] = 0\n",
    "    for i in range(2, len(x) - 3):\n",
    "        E[n+1, i] = (r_const) * ( E[n, i+1] - 2*E[n, i] + E[n, i-1] ) - ( -2*E[n, i] + E[n-1, i] )\n",
    "        \n",
    "#         print('E[n+1, i]/E_0', E[n+1, i]/E_0)\n",
    "        if n == 2:\n",
    "            print('index', index, 'n+1', n+1, 'i', i, 'E[n+1, i]', E[n+1, i], 'E[n+1, i]/E_0', E[n+1, i]/E_0, (r_const) * (E[n, i+1] - 2*E[n, i] + E[n, i-1]), -2*E[n, i] + E[n-1, i], E[n, i-1] * r_const)\n",
    "        \n",
    "        # if the ratio is not bounded to from -1 to 1, then we have overshot and are out of simulation physical bounds\n",
    "        if (True) and abs(E[n+1, i]/E_0) > 1:\n",
    "            print('stop')\n",
    "            #print('index', index, 'n+1', n+1, 'i', i, \"E[n+1, i] {:.{}e}\".format(E_complex[n+1, i], precision_num), 'abs(E[n+1, i])/abs(E_0) {:.{}e}'.format(abs(E_complex[n+1, i])/abs(E_0), precision_num))\n",
    "            print('index', index, 'n+1', n+1, 'i', i, 'E[n+1, i]', E[n+1, i], 'E[n+1, i]/E_0', E[n+1, i]/E_0, (r_const) * (E[n, i+1] - 2*E[n, i] + E[n, i-1]), -2*E[n, i] + E[n-1, i], E[n, i-1] * r_const)\n",
    "            break\n",
    "    \n",
    "        index += 1"
   ]
  }
 ],
 "metadata": {
  "kernelspec": {
   "display_name": "Python 3 (ipykernel)",
   "language": "python",
   "name": "python3"
  },
  "language_info": {
   "codemirror_mode": {
    "name": "ipython",
    "version": 3
   },
   "file_extension": ".py",
   "mimetype": "text/x-python",
   "name": "python",
   "nbconvert_exporter": "python",
   "pygments_lexer": "ipython3",
   "version": "3.11.4"
  }
 },
 "nbformat": 4,
 "nbformat_minor": 5
}
