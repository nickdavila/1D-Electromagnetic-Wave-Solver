{
 "cells": [
  {
   "cell_type": "code",
   "execution_count": null,
   "id": "e330e215",
   "metadata": {},
   "outputs": [],
   "source": [
    "# Necessary imports\n",
    "import numpy as np\n",
    "import matplotlib.pyplot as plt\n",
    "from matplotlib.animation import FuncAnimation\n",
    "from IPython.display import HTML\n",
    "\n",
    "# Unit conversions\n",
    "ps = 10**-12    # picoseconds unit\n",
    "nm = 10**-9     # nanometers unit\n",
    "um = 10 ** -6   # micrometer unit\n",
    "    \n",
    "# Physical parameters\n",
    "RefractiveIndex = 1                         # unitless\n",
    "speed_of_light = 299792458                  # in m/s\n",
    "wavelength = 351 * nm # we choose wavelength\n",
    "R = 25 * um # radius of laser\n",
    "E_L = 10 * (10 ** -6) # in joules laser energy (10 mu joules)\n",
    "Area_L = np.pi * R **2 # area of laser\n",
    "T_laser = 100 * ps # laser pulse time\n",
    "I_0 = E_L / (Area_L * T_laser) # laser intensities (SI unit is Joules/(m**2) * s )\n",
    "permittivity_free_space = 8.85418782 * 10 **-12\n",
    "# Electric field (same as before but now using complex refractive index)\n",
    "E_0 = np.sqrt( (2 * I_0) / (speed_of_light * RefractiveIndex * permittivity_free_space)) # SI unit is voltage / m\n",
    "# Laser intensity\n",
    "I_0 = E_L / (Area_L * T_laser) # laser intensities (SI unit is Joules/(m**2) * s )\n",
    "\n",
    "# time-step size “dt” is strictly controlled by Courant–Friedrichs–Lewy (CFL) condition \n",
    "#so that the wave propagation distance within a allowed time-step size cannot exceed the grid size “dx”.\n",
    "CFL = 0.5\n",
    "delta_x = 0.05 * wavelength\n",
    "delta_t = CFL * delta_x / speed_of_light    # time related time-step\n",
    "\n",
    "# Physics formulas\n",
    "frequency = speed_of_light/wavelength       # in Hertz\n",
    "angular_frequency = 2 * np.pi * frequency   # in Hertz\n",
    "wavenumber = (2 * np.pi) / wavelength       # wave number 'k' will be imaginary part in the coming days (when we do it correctly)\n",
    "period = wavelength / speed_of_light        # wave period (can also be calculated with 1/f)\n",
    "\n",
    "# Grid and time parameters\n",
    "lambda_mult = 10  # represents number of cycles\n",
    "T = lambda_mult * period # modeling time\n",
    "n_timestep = int(T/delta_t)        # n time step\n",
    "\n",
    "L = wavelength * lambda_mult\n",
    "n_cells = int(L/delta_x)            # number of cells (can also think of as number of grid points)"
   ]
  },
  {
   "cell_type": "markdown",
   "id": "823398fa",
   "metadata": {},
   "source": [
    "## Modeling the damping wave"
   ]
  },
  {
   "cell_type": "code",
   "execution_count": null,
   "id": "26ddc959",
   "metadata": {},
   "outputs": [],
   "source": [
    "def complex_decaying_wave_soln(n_real, n_imaginary):\n",
    "\n",
    "    # defining complex index of refraction (no imaginary yet)\n",
    "    n_real = 1\n",
    "    n_imaginary = 0.0\n",
    "    complex_refractive_index = complex(n_real, n_imaginary)\n",
    "    complex_wavenumber = (angular_frequency / speed_of_light) * complex_refractive_index\n",
    "\n",
    "    x = []  # spatial domain (can also think of as coordinates of grid points)\n",
    "    t = []  # time domain\n",
    "\n",
    "    # Creating arrays for the spatial and time domains. Starting at -2 in order to create ghost cells. And ending with + 3 for the same reason\n",
    "    # The ghost cells are there so that in the matrix we can access all indeces\n",
    "    # To append, using formula Dr. Woo gave me: X_i = delta_x(i + 1/2)\n",
    "    for i in range(-2, n_cells + 3):\n",
    "        x.append(delta_x * (i + 0.5))\n",
    "\n",
    "    for i in range(-2, n_timestep + 3):\n",
    "        t.append(delta_t * (i + 0.5))\n",
    "\n",
    "    x = np.array(x)\n",
    "    t = np.array(t)\n",
    "\n",
    "    E_complex = 1j * np.zeros((len(t), len(x))) # initializing imaginary matrix of dimensions (t, x)\n",
    "    # S_xt = 1j * np.zeros((len(t), len(x)))\n",
    "\n",
    "    r_const_complex = ( (delta_t/delta_x) * (speed_of_light/complex_refractive_index) ) ** 2 # our parameter\n",
    "\n",
    "    # These loops will go through the grid. We start at 1 so as to not calculate the\n",
    "    # value when the a time or spatial point is equal to 0.\n",
    "    index = 0\n",
    "    for n in range(1, (len(t) - 3)*1 + 0):\n",
    "        t_sim = t[n] # in seconds\n",
    "\n",
    "        # Defning cos and sin terms for wave to later be turned into complex numbers for t_nm1\n",
    "        # Making sin zero because it is imaginary component\n",
    "        cos_term_0_t_nm1 = E_0 * np.cos((wavenumber * x[0]) - (angular_frequency * t[n-1]) + np.pi/2)\n",
    "        sin_term_0_t_nm1 = 0\n",
    "\n",
    "        cos_term_1_t_nm1 = E_0 * np.cos((wavenumber * x[1]) - (angular_frequency * t[n-1]) + np.pi/2)\n",
    "        sin_term_1_t_nm1 = 0\n",
    "\n",
    "        # Initial conditions in time:\n",
    "        E_complex[n-1, 0] = complex(cos_term_0_t_nm1, sin_term_0_t_nm1)\n",
    "        E_complex[n-1, 1] = complex(cos_term_1_t_nm1, sin_term_1_t_nm1)\n",
    "\n",
    "\n",
    "        # Defning cos and sin terms for wave to later be turned into complex numbers for t_n\n",
    "        # Making sin zero because it is imaginary component\n",
    "        cos_term_0_t_n = E_0 * np.cos((wavenumber * x[0]) - (angular_frequency * t[n]) + np.pi/2)\n",
    "        sin_term_0_t_n = 0\n",
    "\n",
    "        cos_term_1_t_n = E_0 * np.cos((wavenumber * x[1]) - (angular_frequency * t[n]) + np.pi/2)\n",
    "        sin_term_1_t_n = 0\n",
    "\n",
    "        # Instantenously defining the boundary conditions/values of ghost cells on the RIGHT:\n",
    "        E_complex[n, 0] = complex(cos_term_0_t_n, sin_term_0_t_n)\n",
    "        E_complex[n, 1] = complex(cos_term_1_t_n, sin_term_1_t_n)\n",
    "\n",
    "        # We have no laser on the left, so boundary conditions are just 0\n",
    "        E_complex[n, -1] = complex(0)\n",
    "        E_complex[n, -2] = complex(0)\n",
    "\n",
    "        precision_num = 10\n",
    "        for i in range(2, len(x) - 3):\n",
    "\n",
    "            # explicit scheme\n",
    "            E_complex[n+1, i] = np.exp(-complex_wavenumber.imag * x[i]) * ( (r_const_complex.real) * ( E_complex[n, i+1] - 2*E_complex[n, i] + E_complex[n, i-1] ) - ( -2*E_complex[n, i] + E_complex[n-1, i] ) )\n",
    "\n",
    "            # this if block constrains the wave to inside our physical bounds\n",
    "            if (True) and abs(E_complex[n+1, i])/abs(E_0) > 1:\n",
    "                E_complex[n+1, i] = E_0 * np.sign(E_complex[n, i])\n",
    "\n",
    "            index += 1\n",
    "            \n",
    "    return E_complex, x, t\n",
    "\n",
    "E_complex_non_damped = complex_decaying_wave_soln(1, 0)\n",
    "\n",
    "# Adding imaginary to damp wave\n",
    "# re-defining complex index of refraction (adding imaginary part to force damping using analytical solution)\n",
    "# n_r = 1\n",
    "# n_i = 0.125\n",
    "# complex_refractive_index = complex(n_r, n_i)\n",
    "# complex_wavenumber = (angular_frequency / speed_of_light) * complex_refractive_index"
   ]
  },
  {
   "cell_type": "code",
   "execution_count": null,
   "id": "f120aa40",
   "metadata": {},
   "outputs": [],
   "source": [
    "test = complex_decaying_wave_soln(1, 0)"
   ]
  },
  {
   "cell_type": "code",
   "execution_count": null,
   "id": "5c99732e",
   "metadata": {
    "scrolled": false
   },
   "outputs": [],
   "source": [
    "plt.plot(test[0][int(int(test[0].shape[0]/lambda_mult) * lambda_mult), :].real)"
   ]
  },
  {
   "cell_type": "code",
   "execution_count": null,
   "id": "e270bd37",
   "metadata": {},
   "outputs": [],
   "source": [
    "n_i = 0.125"
   ]
  },
  {
   "cell_type": "code",
   "execution_count": null,
   "id": "690f6ab3",
   "metadata": {},
   "outputs": [],
   "source": [
    "format_title = \"{} cycles complex\".format(lambda_mult)\n",
    "plt.title(format_title)\n",
    "plt.xlabel(\"Number of grid points in system (nm)\") # in entire simulation domain. Units of 10 ** -9 meters in SI units\n",
    "plt.ylabel(\"Electric field amplitude (V/m)\") # SI unit of volts / m\n",
    "plt.plot(np.exp(-complex_wavenumber.imag * test[1]) * test[0][int(int(test[0].shape[0]/lambda_mult) * lambda_mult), :].real)\n",
    "plt.show()"
   ]
  },
  {
   "cell_type": "code",
   "execution_count": null,
   "id": "1630d1a8",
   "metadata": {},
   "outputs": [],
   "source": [
    "plt.plot(np.exp(-complex_wavenumber.imag * x))\n",
    "plt.ylabel(\"Absorption coefficient (unitless)\")\n",
    "plt.xlabel(\"Position in nm\")\n",
    "plt.show()"
   ]
  },
  {
   "cell_type": "code",
   "execution_count": null,
   "id": "47bda70f",
   "metadata": {},
   "outputs": [],
   "source": [
    "# laser_intensity = S_xt / (-2 * complex_wavenumber)\n",
    "laser_intensity = (speed_of_light * n_r * permittivity_free_space)/2 * (E_complex.real)**2"
   ]
  },
  {
   "cell_type": "code",
   "execution_count": null,
   "id": "877210a3",
   "metadata": {},
   "outputs": [],
   "source": [
    "S_xt_ = -2 * complex_wavenumber * laser_intensity"
   ]
  },
  {
   "cell_type": "code",
   "execution_count": null,
   "id": "801dcaa6",
   "metadata": {
    "scrolled": false
   },
   "outputs": [],
   "source": [
    "plt.plot(x, laser_intensity[400,:])\n",
    "plt.title(\"Plot of Laser Intensity '$I$' over space\")\n",
    "plt.xlabel(\"Space (x)\")\n",
    "plt.ylabel(\"Laser Intensity\")\n",
    "plt.show()"
   ]
  }
 ],
 "metadata": {
  "kernelspec": {
   "display_name": "Python 3 (ipykernel)",
   "language": "python",
   "name": "python3"
  },
  "language_info": {
   "codemirror_mode": {
    "name": "ipython",
    "version": 3
   },
   "file_extension": ".py",
   "mimetype": "text/x-python",
   "name": "python",
   "nbconvert_exporter": "python",
   "pygments_lexer": "ipython3",
   "version": "3.11.4"
  }
 },
 "nbformat": 4,
 "nbformat_minor": 5
}
