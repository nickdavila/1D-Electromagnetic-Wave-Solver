{
 "cells": [
  {
   "cell_type": "code",
   "execution_count": 1,
   "id": "cc16b3f7",
   "metadata": {},
   "outputs": [
    {
     "data": {
      "application/javascript": [
       "MathJax.Hub.Config({\n",
       "    TeX: { equationNumbers: { autoNumber: \"AMS\" } }\n",
       "});\n",
       "// Code to be able to number equations in the markdown\n"
      ],
      "text/plain": [
       "<IPython.core.display.Javascript object>"
      ]
     },
     "metadata": {},
     "output_type": "display_data"
    }
   ],
   "source": [
    "%%javascript\n",
    "MathJax.Hub.Config({\n",
    "    TeX: { equationNumbers: { autoNumber: \"AMS\" } }\n",
    "});\n",
    "// Code to be able to number equations in the markdown"
   ]
  },
  {
   "cell_type": "code",
   "execution_count": 2,
   "id": "941d11c2",
   "metadata": {},
   "outputs": [],
   "source": [
    "import numpy as np\n",
    "import matplotlib.pyplot as plt\n",
    "# import matplotlib.animation as animation\n",
    "from matplotlib.animation import FuncAnimation\n",
    "from IPython.display import HTML"
   ]
  },
  {
   "cell_type": "markdown",
   "id": "c7c7ac6a",
   "metadata": {},
   "source": [
    "## Explicit finite difference scheme"
   ]
  },
  {
   "attachments": {
    "explicit_method_stencil.png": {
     "image/png": "[encoded data removed]"
    }
   },
   "cell_type": "markdown",
   "id": "71bd9635",
   "metadata": {},
   "source": [
    "### Rewriting equation in terms of row (position) and column (time) indicies.\n",
    "\n",
    "The equation (Eq. 4.0 in doc) given to me by Jack is: \n",
    "\n",
    "$$ E^{n+1}_i = \\left ( \\frac{\\Delta t}{\\Delta x} \\frac{c}{n} \\right )^2 (E^{n}_{i+1} - 2E^{n}_{i} + E^{n}_{i-1})-(-2E^{n}_{i} + E^{n-1}_{i}) $$\n",
    "\n",
    "I want to have the equation in terms of rows and columns, so ultimately I want to rewrite the following equation to be in the form of rows and columns: \n",
    "\n",
    "\\begin{equation}\n",
    "E^{n+1}_{i} = rE^{n}_{i-1} + (1-2r)E^{n}_{i} + rE^{n}_{i+1} - (-2E^{n}_{i} + E^{n-1}_{i})\n",
    "\\end{equation}\n",
    "\n",
    "where $ \\displaystyle r = \\left ( \\frac{\\Delta t}{\\Delta x} \\frac{c}{n} \\right )^2 $ and n is the position index and i is the time index (dimensionless)\n",
    "\n",
    "![explicit_method_stencil.png](attachment:explicit_method_stencil.png)\n",
    "\n",
    "Using the image above, we use [i,n] ; [i-1,n] ; [i+1,n] ; [i, n-1] and take a weighted average to find [i,n+1]."
   ]
  },
  {
   "cell_type": "markdown",
   "id": "a54ff6a2",
   "metadata": {},
   "source": [
    "### Defining global arrays for I, E, T_e, T_i, n_e, rho\n"
   ]
  },
  {
   "cell_type": "code",
   "execution_count": 3,
   "id": "70368a4a",
   "metadata": {},
   "outputs": [],
   "source": [
    "I = np.zeros((10, 10))\n",
    "E = np.zeros((10, 10))\n",
    "T_e = np.zeros((10, 10))\n",
    "T_i = np.zeros((10, 10))\n",
    "n_e = np.zeros((10, 10))\n",
    "rho = np.zeros((10, 10))"
   ]
  },
  {
   "cell_type": "markdown",
   "id": "1fcc0d3c",
   "metadata": {},
   "source": [
    "### Defining parameters needed to solve differential equation: $ \\nabla^{2} E - \\frac{n^2}{c^2} \\frac{\\partial^2 E}{\\partial t^{2}} = 0$"
   ]
  },
  {
   "cell_type": "code",
   "execution_count": 22,
   "id": "e330e215",
   "metadata": {},
   "outputs": [],
   "source": [
    "# Unit conversions\n",
    "ps = 10**-12    # picoseconds unit\n",
    "nm = 10**-9     # nanometers unit\n",
    "um = 10 ** -6   # micrometer unit\n",
    "    \n",
    "# Physical parameters\n",
    "RefractiveIndex = 1                         # unitless\n",
    "speed_of_light = 299792458                  # in m/s\n",
    "wavelength = 351 * nm\n",
    "\n",
    "# Physics formulas\n",
    "frequency = speed_of_light/wavelength       # in Hertz\n",
    "angular_frequency = 2 * np.pi * frequency   # in Hertz\n",
    "wavenumber = (2 * np.pi) / wavelength       # wave number 'k' will be imaginary part in the coming days (when we do it correctly)\n",
    "\n",
    "# Grid and time parameters\n",
    "T = 1 * ps              # time in seconds (* picoseonds) (in the future, will represent modeling time)\n",
    "n_timestep = 100       # n time step\n",
    "L = 500 * nm            # length in SI units in meters\n",
    "n_cells = 10            # number of cells (can also think of as number of grid points)\n",
    "delta_x = L/n_cells     # spatial time-step (can also think of as grid spacing)\n",
    "delta_t = T/n_timestep  # time related time-step"
   ]
  },
  {
   "cell_type": "markdown",
   "id": "32e10d66",
   "metadata": {},
   "source": [
    "### Initializing laser intensity and electric field"
   ]
  },
  {
   "cell_type": "code",
   "execution_count": 23,
   "id": "6d288bdc",
   "metadata": {},
   "outputs": [],
   "source": [
    "R = 25 * um # radius of laser\n",
    "E_L = 10 * (10 ** -6) # in joules laser energy (10 mu joules)\n",
    "Area_L = np.pi * R **2 # area of laser\n",
    "T_laser = 100 * ps # laser pulse time\n",
    "I_0 = E_L / (Area_L * T_laser) # laser intensities (SI unit is Joules/(m**2) * s )\n",
    "permittivity_free_space = 8.85418782 * 10 **-12\n",
    "\n",
    "# Electric field\n",
    "E_0 = np.sqrt( (2 * I_0) / (speed_of_light * RefractiveIndex * permittivity_free_space) ) # SI unit is voltage / m\n",
    "\n",
    "# Laser intensity\n",
    "I_0 = E_L / (Area_L * T_laser) # laser intensities (SI unit is Joules/(m**2) * s )"
   ]
  },
  {
   "cell_type": "markdown",
   "id": "f38ce331",
   "metadata": {},
   "source": [
    "### Solving Eq (1) explicitly: $E^{n+1}_{i} = rE^{n}_{i-1} + (1-2r)E^{n}_{i} + rE^{n}_{i+1} - (-2E^{n}_{i} + E^{n-1}_{i})$"
   ]
  },
  {
   "cell_type": "code",
   "execution_count": 53,
   "id": "31db8253",
   "metadata": {},
   "outputs": [],
   "source": [
    "period = wavelength / speed_of_light"
   ]
  },
  {
   "cell_type": "code",
   "execution_count": 54,
   "id": "e10c2240",
   "metadata": {},
   "outputs": [
    {
     "data": {
      "text/plain": [
       "1.1708099741455137e-15"
      ]
     },
     "execution_count": 54,
     "metadata": {},
     "output_type": "execute_result"
    }
   ],
   "source": [
    "period"
   ]
  },
  {
   "cell_type": "code",
   "execution_count": 43,
   "id": "cb3d3889",
   "metadata": {},
   "outputs": [
    {
     "data": {
      "text/plain": [
       "5366528681791604.0"
      ]
     },
     "execution_count": 43,
     "metadata": {},
     "output_type": "execute_result"
    }
   ],
   "source": [
    "angular_frequency"
   ]
  },
  {
   "cell_type": "code",
   "execution_count": 47,
   "id": "50854cbb",
   "metadata": {},
   "outputs": [
    {
     "data": {
      "text/plain": [
       "17900812.84096748"
      ]
     },
     "execution_count": 47,
     "metadata": {},
     "output_type": "execute_result"
    }
   ],
   "source": [
    "wavenumber"
   ]
  },
  {
   "cell_type": "code",
   "execution_count": 48,
   "id": "aea95c50",
   "metadata": {},
   "outputs": [
    {
     "data": {
      "text/plain": [
       "195891384.73574314"
      ]
     },
     "execution_count": 48,
     "metadata": {},
     "output_type": "execute_result"
    }
   ],
   "source": [
    "E_0"
   ]
  },
  {
   "cell_type": "code",
   "execution_count": 50,
   "id": "6324f2f4",
   "metadata": {},
   "outputs": [
    {
     "data": {
      "text/plain": [
       "1e-14"
      ]
     },
     "execution_count": 50,
     "metadata": {},
     "output_type": "execute_result"
    }
   ],
   "source": [
    "delta_t"
   ]
  },
  {
   "cell_type": "code",
   "execution_count": 49,
   "id": "47657e8a",
   "metadata": {},
   "outputs": [
    {
     "data": {
      "text/plain": [
       "array([-7.50e-08, -2.50e-08,  2.50e-08,  7.50e-08,  1.25e-07,  1.75e-07,\n",
       "        2.25e-07,  2.75e-07,  3.25e-07,  3.75e-07,  4.25e-07,  4.75e-07,\n",
       "        5.25e-07,  5.75e-07,  6.25e-07])"
      ]
     },
     "execution_count": 49,
     "metadata": {},
     "output_type": "execute_result"
    }
   ],
   "source": [
    "x"
   ]
  },
  {
   "cell_type": "code",
   "execution_count": 51,
   "id": "3627aabf",
   "metadata": {},
   "outputs": [
    {
     "name": "stdout",
     "output_type": "stream",
     "text": [
      "5366.528681791604\n"
     ]
    }
   ],
   "source": [
    "print(angular_frequency * tsim)"
   ]
  },
  {
   "cell_type": "code",
   "execution_count": 52,
   "id": "eec7c65f",
   "metadata": {},
   "outputs": [
    {
     "name": "stdout",
     "output_type": "stream",
     "text": [
      "[-1.34256096 -0.44752032  0.44752032  1.34256096  2.23760161  3.13264225\n",
      "  4.02768289  4.92272353  5.81776417  6.71280482  7.60784546  8.5028861\n",
      "  9.39792674 10.29296738 11.18800803]\n"
     ]
    }
   ],
   "source": [
    "print(wavenumber * x)"
   ]
  },
  {
   "cell_type": "code",
   "execution_count": 120,
   "id": "c50cf2c7",
   "metadata": {
    "scrolled": false
   },
   "outputs": [
    {
     "data": {
      "text/plain": [
       "[<matplotlib.lines.Line2D at 0x1d3ec002910>]"
      ]
     },
     "execution_count": 120,
     "metadata": {},
     "output_type": "execute_result"
    },
    {
     "data": {
      "image/png": "[encoded data removed]",
      "text/plain": [
       "<Figure size 640x480 with 1 Axes>"
      ]
     },
     "metadata": {},
     "output_type": "display_data"
    }
   ],
   "source": [
    "tsim = period/2\n",
    "plt.plot(E_0 * np.sin( angular_frequency * tsim - wavenumber * x))"
   ]
  },
  {
   "cell_type": "code",
   "execution_count": 116,
   "id": "52cf1d5f",
   "metadata": {},
   "outputs": [
    {
     "name": "stdout",
     "output_type": "stream",
     "text": [
      "6.283185307179586\n",
      "190811367.97841793 6.283185307179586 -1.3425609630725615 1.1708099741455137e-15\n"
     ]
    }
   ],
   "source": [
    "tsim = period\n",
    "print(angular_frequency * tsim)\n",
    "print(E_0 * np.sin( angular_frequency * tsim - wavenumber * x[0]),  angular_frequency * tsim, wavenumber * x[0], tsim)"
   ]
  },
  {
   "cell_type": "code",
   "execution_count": 117,
   "id": "a4db03ab",
   "metadata": {},
   "outputs": [
    {
     "name": "stdout",
     "output_type": "stream",
     "text": [
      "6.283185307179586 -1.3425609630725615 7.625746270252147\n",
      "190811367.97841793 6.283185307179586 -1.3425609630725615 1.1708099741455137e-15 5366528681791604.0\n"
     ]
    }
   ],
   "source": [
    "tsim = period\n",
    "print(angular_frequency * tsim, wavenumber * x[0], angular_frequency * tsim - wavenumber * x[0] )\n",
    "print(E_0 * np.sin( (angular_frequency * tsim) - (wavenumber * x[0]) ),  angular_frequency * tsim, wavenumber * x[0], tsim, angular_frequency)"
   ]
  },
  {
   "cell_type": "code",
   "execution_count": 118,
   "id": "7e170fdc",
   "metadata": {},
   "outputs": [
    {
     "name": "stdout",
     "output_type": "stream",
     "text": [
      "1.5707963267948966 -1.3425609630725615 2.913357289867458\n",
      "44322189.2948861 1.5707963267948966 -1.3425609630725615 2.9270249353637844e-16 5366528681791604.0\n"
     ]
    }
   ],
   "source": [
    "tsim = period / 4\n",
    "print(angular_frequency * tsim, wavenumber * x[0], angular_frequency * tsim - wavenumber * x[0]  )\n",
    "print(E_0 * np.sin( angular_frequency * tsim - wavenumber * x[0]),  angular_frequency * tsim, wavenumber * x[0], tsim, angular_frequency)"
   ]
  },
  {
   "cell_type": "code",
   "execution_count": 135,
   "id": "6a603a75",
   "metadata": {},
   "outputs": [
    {
     "data": {
      "text/plain": [
       "3595.020714947269"
      ]
     },
     "execution_count": 135,
     "metadata": {},
     "output_type": "execute_result"
    }
   ],
   "source": [
    "r_const"
   ]
  },
  {
   "cell_type": "code",
   "execution_count": 139,
   "id": "6149a730",
   "metadata": {},
   "outputs": [
    {
     "name": "stdout",
     "output_type": "stream",
     "text": [
      "1.9999999999999996e-07 5000000.000000001\n"
     ]
    }
   ],
   "source": [
    "print((delta_t/delta_x), (delta_x/delta_t))"
   ]
  },
  {
   "cell_type": "code",
   "execution_count": 137,
   "id": "d8bd2302",
   "metadata": {},
   "outputs": [
    {
     "data": {
      "text/plain": [
       "1"
      ]
     },
     "execution_count": 137,
     "metadata": {},
     "output_type": "execute_result"
    }
   ],
   "source": [
    "RefractiveIndex"
   ]
  },
  {
   "cell_type": "code",
   "execution_count": 138,
   "id": "90aa3a4c",
   "metadata": {},
   "outputs": [
    {
     "data": {
      "text/plain": [
       "299792458"
      ]
     },
     "execution_count": 138,
     "metadata": {},
     "output_type": "execute_result"
    }
   ],
   "source": [
    "speed_of_light"
   ]
  },
  {
   "cell_type": "code",
   "execution_count": null,
   "id": "41a88106",
   "metadata": {},
   "outputs": [],
   "source": []
  },
  {
   "cell_type": "code",
   "execution_count": 142,
   "id": "2eca982b",
   "metadata": {
    "scrolled": true
   },
   "outputs": [
    {
     "name": "stdout",
     "output_type": "stream",
     "text": [
      "E[n, 0] 19386829.301570598 phase0 28.17520437203058\n",
      "E[n, 1] 164217084.38314566 phase1 27.280163729982206\n",
      "index 0 n 2 i 2 E[n+1, i] 590363820105.6523 E[n+1, i]/E_0 3013.730394024481\n",
      "index 1 n 2 i 3 E[n+1, i] 0.0 E[n+1, i]/E_0 0.0\n",
      "index 2 n 2 i 4 E[n+1, i] 0.0 E[n+1, i]/E_0 0.0\n",
      "index 3 n 2 i 5 E[n+1, i] 0.0 E[n+1, i]/E_0 0.0\n",
      "index 4 n 2 i 6 E[n+1, i] 0.0 E[n+1, i]/E_0 0.0\n",
      "index 5 n 2 i 7 E[n+1, i] 0.0 E[n+1, i]/E_0 0.0\n",
      "index 6 n 2 i 8 E[n+1, i] 0.0 E[n+1, i]/E_0 0.0\n",
      "index 7 n 2 i 9 E[n+1, i] 0.0 E[n+1, i]/E_0 0.0\n",
      "index 8 n 2 i 10 E[n+1, i] 0.0 E[n+1, i]/E_0 0.0\n",
      "index 9 n 2 i 11 E[n+1, i] 0.0 E[n+1, i]/E_0 0.0\n"
     ]
    }
   ],
   "source": [
    "x = []  # spatial domain (can also think of as coordinates of grid points)\n",
    "t = []  # time domain\n",
    "\n",
    "# Creating arrays for the spatial and time domains. Starting at -2 in order to create ghost cells. And ending with + 3 for the same reason\n",
    "# The ghost cells are there so that in the matrix we can access all indeces\n",
    "# To append, using formula Dr. Woo gave me: X_i = delta_x(i + 1/2)\n",
    "for i in range(-2, n_cells + 3):\n",
    "    x.append(delta_x * (i + 0.5))\n",
    "\n",
    "for i in range(-2, n_timestep + 3):\n",
    "    t.append(delta_t * (i + 0.5))\n",
    "    \n",
    "x = np.array(x)\n",
    "t = np.array(t)\n",
    "\n",
    "# BEFORE: E = np.zeros((len(x), len(t)))\n",
    "E = np.zeros((len(t), len(x)))\n",
    "\n",
    "r_const = ( (delta_t/delta_x) * (speed_of_light/RefractiveIndex) ) ** 2 # our parameter\n",
    "\n",
    "# These loops will go through the grid. We start at 1 so as to not calculate the\n",
    "# value when the a time or spatial point is equal to 0.\n",
    "index = 0\n",
    "for n in range(2, (len(t) - 3)*0 + 3):\n",
    "    t_sim = t[n] # in seconds\n",
    "    \n",
    "    # Assignment of boundary conditions in space:\n",
    "    \n",
    "    # Instantenously defining the boundary conditions/values of ghost cells on the RIGHT:\n",
    "    E[n, 0] = E_0 * np.sin( angular_frequency * t_sim - wavenumber * x[0] )\n",
    "    E[n, 1] = E_0 * np.sin( angular_frequency * t_sim - wavenumber * x[1] )\n",
    "    \n",
    "    # We have no laser on the left, so boundary conditions are just 0\n",
    "    E[n, -1] = 0\n",
    "    E[n, -2] = 0\n",
    "    \n",
    "    print('E[n, 0]', E[n, 0], \"phase0\", angular_frequency * t_sim - wavenumber * x[0])\n",
    "    print('E[n, 1]', E[n, 1], \"phase1\", angular_frequency * t_sim - wavenumber * x[1])\n",
    "    # Initial conditions in time:\n",
    "    E[1, 2:] = 0\n",
    "    for i in range(2, len(x) - 3):\n",
    "#         E[n+1, i] = (r_const) * (E[n, i-1] + (1 - 2*r_const) * E[n, i] + r_const * E[n, i+1]) - (-2 * E[n, i] + E[n-1,i])\n",
    "        E[n+1, i] = (r_const) * (E[n, i+1] - 2*E[n, i] + E[n, i-1]) - (-2*E[n, i] + E[n-1, i])\n",
    "        print('index', index, 'n', n, 'i', i, 'E[n+1, i]', E[n+1, i], 'E[n+1, i]/E_0', E[n+1, i]/E_0)\n",
    "        index += 1\n"
   ]
  },
  {
   "cell_type": "code",
   "execution_count": 20,
   "id": "6bfe1185",
   "metadata": {
    "collapsed": true
   },
   "outputs": [
    {
     "data": {
      "text/plain": [
       "array([[ 0.00000000e+000,  0.00000000e+000,  0.00000000e+000,\n",
       "         0.00000000e+000,  0.00000000e+000,  0.00000000e+000,\n",
       "         0.00000000e+000,  0.00000000e+000,  0.00000000e+000,\n",
       "         0.00000000e+000,  0.00000000e+000,  0.00000000e+000,\n",
       "         0.00000000e+000,  0.00000000e+000,  0.00000000e+000],\n",
       "       [ 0.00000000e+000,  0.00000000e+000,  0.00000000e+000,\n",
       "         0.00000000e+000,  0.00000000e+000,  0.00000000e+000,\n",
       "         0.00000000e+000,  0.00000000e+000,  0.00000000e+000,\n",
       "         0.00000000e+000,  0.00000000e+000,  0.00000000e+000,\n",
       "         0.00000000e+000,  0.00000000e+000,  0.00000000e+000],\n",
       "       [ 1.68794526e+008,  1.26348117e+008,  0.00000000e+000,\n",
       "         0.00000000e+000,  0.00000000e+000,  0.00000000e+000,\n",
       "         0.00000000e+000,  0.00000000e+000,  0.00000000e+000,\n",
       "         0.00000000e+000,  0.00000000e+000,  0.00000000e+000,\n",
       "         0.00000000e+000,  0.00000000e+000,  0.00000000e+000],\n",
       "       [ 5.07585374e+006,  1.68794526e+008,  4.54224099e+013,\n",
       "         0.00000000e+000,  0.00000000e+000,  0.00000000e+000,\n",
       "         0.00000000e+000,  0.00000000e+000,  0.00000000e+000,\n",
       "         0.00000000e+000,  0.00000000e+000,  0.00000000e+000,\n",
       "         0.00000000e+000,  0.00000000e+000,  0.00000000e+000],\n",
       "       [-1.73717743e+008, -6.96419180e+007, -1.17409262e+025,\n",
       "         1.63294505e+019,  0.00000000e+000,  0.00000000e+000,\n",
       "         0.00000000e+000,  0.00000000e+000,  0.00000000e+000,\n",
       "         0.00000000e+000,  0.00000000e+000,  0.00000000e+000,\n",
       "         0.00000000e+000,  0.00000000e+000,  0.00000000e+000],\n",
       "       [ 1.63417989e+008, -1.92190596e+008,  3.03483334e+036,\n",
       "        -8.44177458e+030,  5.87047127e+024,  0.00000000e+000,\n",
       "         0.00000000e+000,  0.00000000e+000,  0.00000000e+000,\n",
       "         0.00000000e+000,  0.00000000e+000,  0.00000000e+000,\n",
       "         0.00000000e+000,  0.00000000e+000,  0.00000000e+000],\n",
       "       [ 1.52139293e+007,  5.07585374e+006, -7.84454279e+047,\n",
       "         3.27308586e+042, -4.55225317e+036,  2.11044658e+030,\n",
       "         0.00000000e+000,  0.00000000e+000,  0.00000000e+000,\n",
       "         0.00000000e+000,  0.00000000e+000,  0.00000000e+000,\n",
       "         0.00000000e+000,  0.00000000e+000,  0.00000000e+000],\n",
       "       [-1.78174417e+008,  1.93895819e+008,  2.02768612e+059,\n",
       "        -1.12805097e+054,  2.35336202e+048, -2.18205926e+042,\n",
       "         7.58709918e+035,  0.00000000e+000,  0.00000000e+000,\n",
       "         0.00000000e+000,  0.00000000e+000,  0.00000000e+000,\n",
       "         0.00000000e+000,  0.00000000e+000,  0.00000000e+000],\n",
       "       [ 1.57602569e+008,  6.00630771e+007, -5.24124091e+070,\n",
       "         3.64478173e+065, -1.01384130e+060,  1.41006410e+054,\n",
       "        -9.80568531e+047,  2.72757787e+041,  0.00000000e+000,\n",
       "         0.00000000e+000,  0.00000000e+000,  0.00000000e+000,\n",
       "         0.00000000e+000,  0.00000000e+000,  0.00000000e+000],\n",
       "       [ 2.53111458e+007, -1.73717743e+008,  1.35477701e+082,\n",
       "        -1.13053956e+077,  3.93091702e+071, -7.28955941e+065,\n",
       "         7.60381414e+059, -4.23019702e+053,  9.80569895e+046,\n",
       "         0.00000000e+000,  0.00000000e+000,  0.00000000e+000,\n",
       "         0.00000000e+000,  0.00000000e+000,  0.00000000e+000],\n",
       "       [-1.82152579e+008, -1.18423222e+008, -3.50188449e+093,\n",
       "         3.40930414e+088, -1.42250795e+083,  3.29740185e+077,\n",
       "        -4.58606985e+071,  3.82702158e+065, -1.77422536e+059,\n",
       "         3.52516908e+052,  0.00000000e+000,  0.00000000e+000,\n",
       "         0.00000000e+000,  0.00000000e+000,  0.00000000e+000],\n",
       "       [ 1.51363886e+008,  1.33933688e+008,  9.05182432e+104,\n",
       "        -1.00714288e+100,  4.90259908e+094, -1.36371786e+089,\n",
       "         2.37084493e+083, -2.63792232e+077,  1.83442954e+071,\n",
       "        -7.28957361e+064,  1.26730559e+058,  0.00000000e+000,\n",
       "         0.00000000e+000,  0.00000000e+000,  0.00000000e+000],\n",
       "       [ 0.00000000e+000,  0.00000000e+000, -2.33975680e+116,\n",
       "         2.92871563e+111, -1.62931082e+106,  5.28747806e+100,\n",
       "        -1.10308313e+095,  1.53418229e+089, -1.42250770e+083,\n",
       "         8.47904407e+076, -2.94819391e+070,  4.55598984e+063,\n",
       "         0.00000000e+000,  0.00000000e+000,  0.00000000e+000],\n",
       "       [ 0.00000000e+000,  0.00000000e+000,  0.00000000e+000,\n",
       "         0.00000000e+000,  0.00000000e+000,  0.00000000e+000,\n",
       "         0.00000000e+000,  0.00000000e+000,  0.00000000e+000,\n",
       "         0.00000000e+000,  0.00000000e+000,  0.00000000e+000,\n",
       "         0.00000000e+000,  0.00000000e+000,  0.00000000e+000],\n",
       "       [ 0.00000000e+000,  0.00000000e+000,  0.00000000e+000,\n",
       "         0.00000000e+000,  0.00000000e+000,  0.00000000e+000,\n",
       "         0.00000000e+000,  0.00000000e+000,  0.00000000e+000,\n",
       "         0.00000000e+000,  0.00000000e+000,  0.00000000e+000,\n",
       "         0.00000000e+000,  0.00000000e+000,  0.00000000e+000]])"
      ]
     },
     "execution_count": 20,
     "metadata": {},
     "output_type": "execute_result"
    }
   ],
   "source": [
    "E"
   ]
  },
  {
   "cell_type": "code",
   "execution_count": 21,
   "id": "f182fd66",
   "metadata": {
    "scrolled": true
   },
   "outputs": [
    {
     "ename": "ValueError",
     "evalue": "'nan' is not in list",
     "output_type": "error",
     "traceback": [
      "\u001b[1;31m---------------------------------------------------------------------------\u001b[0m",
      "\u001b[1;31mValueError\u001b[0m                                Traceback (most recent call last)",
      "Cell \u001b[1;32mIn[21], line 2\u001b[0m\n\u001b[0;32m      1\u001b[0m \u001b[38;5;28;01mfor\u001b[39;00m i \u001b[38;5;129;01min\u001b[39;00m \u001b[38;5;28mrange\u001b[39m(\u001b[38;5;28mlen\u001b[39m(x)):\n\u001b[1;32m----> 2\u001b[0m     \u001b[38;5;28;43mlist\u001b[39;49m\u001b[43m(\u001b[49m\u001b[43mE\u001b[49m\u001b[43m[\u001b[49m\u001b[43mi\u001b[49m\u001b[43m,\u001b[49m\u001b[43m:\u001b[49m\u001b[43m]\u001b[49m\u001b[43m)\u001b[49m\u001b[38;5;241;43m.\u001b[39;49m\u001b[43mindex\u001b[49m\u001b[43m(\u001b[49m\u001b[38;5;124;43m'\u001b[39;49m\u001b[38;5;124;43mnan\u001b[39;49m\u001b[38;5;124;43m'\u001b[39;49m\u001b[43m)\u001b[49m\n",
      "\u001b[1;31mValueError\u001b[0m: 'nan' is not in list"
     ]
    }
   ],
   "source": [
    "for i in range(len(x)):\n",
    "    list(E[i,:]).index('nan')"
   ]
  },
  {
   "cell_type": "code",
   "execution_count": null,
   "id": "f5029cb8",
   "metadata": {},
   "outputs": [],
   "source": [
    "E.shape"
   ]
  },
  {
   "cell_type": "markdown",
   "id": "5bbae769",
   "metadata": {},
   "source": [
    "# Remove all nan values from array\n",
    "E = E[:, ~np.isnan(E).any(axis=0)]"
   ]
  },
  {
   "cell_type": "code",
   "execution_count": null,
   "id": "6c194a66",
   "metadata": {},
   "outputs": [],
   "source": [
    "E.shape"
   ]
  },
  {
   "cell_type": "markdown",
   "id": "bf52f226",
   "metadata": {},
   "source": [
    "## Laser source\n",
    "\n",
    "Plot an animated wave through time."
   ]
  },
  {
   "cell_type": "code",
   "execution_count": null,
   "id": "22ead11f",
   "metadata": {},
   "outputs": [],
   "source": [
    "plt.plot(E)\n",
    "plt.show()"
   ]
  },
  {
   "cell_type": "code",
   "execution_count": null,
   "id": "b6ebe25a",
   "metadata": {},
   "outputs": [],
   "source": [
    "%matplotlib notebook"
   ]
  },
  {
   "cell_type": "code",
   "execution_count": null,
   "id": "bd3ba60b",
   "metadata": {},
   "outputs": [],
   "source": [
    "Y_UPPER_LIMIT = 3 * 10**8\n",
    "Y_LOWER_LIMIT = -3 * 10**8"
   ]
  },
  {
   "cell_type": "code",
   "execution_count": null,
   "id": "4d9f4030",
   "metadata": {},
   "outputs": [],
   "source": [
    "E.shape"
   ]
  },
  {
   "cell_type": "code",
   "execution_count": null,
   "id": "454e9102",
   "metadata": {
    "scrolled": true
   },
   "outputs": [],
   "source": [
    "E[:, 0].shape"
   ]
  },
  {
   "cell_type": "code",
   "execution_count": null,
   "id": "cd6e66e4",
   "metadata": {},
   "outputs": [],
   "source": []
  },
  {
   "cell_type": "code",
   "execution_count": null,
   "id": "aadb594f",
   "metadata": {},
   "outputs": [],
   "source": [
    "fig, ax = plt.subplots()\n",
    "ax.set(xlim=(0, 100), ylim=(Y_LOWER_LIMIT, Y_UPPER_LIMIT))\n",
    "\n",
    "line = ax.plot(x, E[:,0], color='k', lw=2)[0]\n",
    "\n",
    "def animate(i):\n",
    "    line.set_ydata(E[:,i])\n",
    "    \n",
    "anim = FuncAnimation(fig, animate, interval=1, frames=100)\n",
    " \n",
    "anim.save('filename.gif')\n",
    "    \n",
    "# plt.draw()\n",
    "plt.show()"
   ]
  },
  {
   "cell_type": "code",
   "execution_count": null,
   "id": "880a72fb",
   "metadata": {},
   "outputs": [],
   "source": [
    "line"
   ]
  },
  {
   "cell_type": "code",
   "execution_count": null,
   "id": "e3d03d56",
   "metadata": {
    "scrolled": false
   },
   "outputs": [],
   "source": [
    "# initializing a figure in \n",
    "# which the graph will be plotted\n",
    "fig = plt.figure() \n",
    "   \n",
    "# marking the x-axis and y-axis\n",
    "axis = plt.axes(xlim=(0, 100), ylim=(Y_LOWER_LIMIT, Y_UPPER_LIMIT)) \n",
    "  \n",
    "# initializing a line variable\n",
    "line, = axis.plot([], [], lw = 3) \n",
    "\n",
    "# data which the line will \n",
    "# contain (x, y)\n",
    "def init(): \n",
    "    line.set_data([])\n",
    "    return line,\n",
    "   \n",
    "def animate(i):\n",
    "#     x = np.linspace(0, 4, 1000)\n",
    "   \n",
    "    # plots a sine graph\n",
    "#     y = np.sin(2 * np.pi * (x - 0.01 * i))\n",
    "    line.set_data(E[i])\n",
    "      \n",
    "    return line,\n",
    "   \n",
    "anim = FuncAnimation(fig, animate, init_func = init,\n",
    "                     frames = 1, interval = 20, blit = True)\n",
    "  \n",
    "anim.save('test.gif')\n",
    "\n",
    "plt.show()"
   ]
  },
  {
   "cell_type": "code",
   "execution_count": null,
   "id": "14a8ad6b",
   "metadata": {},
   "outputs": [],
   "source": []
  }
 ],
 "metadata": {
  "kernelspec": {
   "display_name": "Python 3 (ipykernel)",
   "language": "python",
   "name": "python3"
  },
  "language_info": {
   "codemirror_mode": {
    "name": "ipython",
    "version": 3
   },
   "file_extension": ".py",
   "mimetype": "text/x-python",
   "name": "python",
   "nbconvert_exporter": "python",
   "pygments_lexer": "ipython3",
   "version": "3.11.4"
  }
 },
 "nbformat": 4,
 "nbformat_minor": 5
}
