{
 "cells": [
  {
   "cell_type": "code",
   "execution_count": 6,
   "id": "cc16b3f7",
   "metadata": {},
   "outputs": [
    {
     "data": {
      "application/javascript": [
       "MathJax.Hub.Config({\n",
       "    TeX: { equationNumbers: { autoNumber: \"AMS\" } }\n",
       "});\n",
       "// Code to be able to number equations in the markdown\n"
      ],
      "text/plain": [
       "<IPython.core.display.Javascript object>"
      ]
     },
     "metadata": {},
     "output_type": "display_data"
    }
   ],
   "source": [
    "%%javascript\n",
    "MathJax.Hub.Config({\n",
    "    TeX: { equationNumbers: { autoNumber: \"AMS\" } }\n",
    "});\n",
    "// Code to be able to number equations in the markdown"
   ]
  },
  {
   "cell_type": "markdown",
   "id": "941d11c2",
   "metadata": {},
   "source": [
    "## Explicit finite difference scheme"
   ]
  },
  {
   "attachments": {
    "explicit_method-stencil.png": {
     "image/png": "[encoded data removed]"
    }
   },
   "cell_type": "markdown",
   "id": "7eb9941a",
   "metadata": {},
   "source": [
    "### Rewriting equation in terms of row (position) and column (time) indicies.\n",
    "\n",
    "The equation (Eq. 4.0 in doc) given to me by Jack is: \n",
    "\n",
    "$$ E^{n+1}_i = \\left ( \\frac{\\Delta t}{\\Delta x} \\frac{c}{n} \\right )^2 (E^{n}_{i+1} - 2E^{n}_{i} + E^{n}_{i-1})-(-2E^{n}_{i} + E^{n-1}_{i}) $$\n",
    "\n",
    "I want to have the equation in terms of rows and columns, so ultimately I want to rewrite the following equation to be in the form of rows and columns: \n",
    "\n",
    "\\begin{equation}\n",
    "E^{n+1}_{j} = rE^{n}_{j-1} + (1-2r)E^{n}_{j} + rE^{n}_{j+1}\n",
    "\\end{equation}\n",
    "\n",
    "where $ \\displaystyle r = \\left ( \\frac{\\Delta t}{\\Delta x} \\frac{c}{n} \\right ) $ and n is the position index and j is the time index (dimensionless)\n",
    "\n",
    "So I express the above equation as:\n",
    "\n",
    "\\begin{equation}\n",
    "E^{n}_{j} = rE^{n-1}_{j-1} + (1-2r)E^{n}_{j-1} + rE^{n+1}_{j-1} \n",
    "\\end{equation}\n",
    "\n",
    "This is going to calculate a value based on a weighted average. If we think of a matrix, it will use a sum of the previous\n",
    "time value and it's adjacent values.\n",
    "![explicit_method-stencil.png](attachment:explicit_method-stencil.png)\n",
    "\n",
    "Using the image above, we use j,n;j-1,n;j+1,n and take a weighted average to find j,n+1. However we can define our j,n+1 point to be j,n and then use Eq(2) to find the value."
   ]
  },
  {
   "cell_type": "code",
   "execution_count": 8,
   "id": "ca171b64",
   "metadata": {},
   "outputs": [],
   "source": [
    "import numpy as np\n",
    "import matplotlib.pyplot as plt"
   ]
  },
  {
   "cell_type": "markdown",
   "id": "18609d0d",
   "metadata": {},
   "source": [
    "#### Function 'ElectricFieldExplicit takes the following inputs:\n",
    "\n",
    "* **x**, the input vector x to represent spatial coordinates. This will be a vector of equal step size, **delta_x**.\n",
    "\n",
    "* **t**, the input vector t to represent time coordinates. This will be a vector of equal step size, **delta_y**.\n",
    "\n",
    "* **boundary_conditions**, the boundary conditions (not sure what to do here yet) E(x=0, t) and E(x=?, t) ??\n",
    "\n",
    "* **initial_conditions**, the initial conditions\n",
    "\n"
   ]
  },
  {
   "cell_type": "code",
   "execution_count": 15,
   "id": "120871fa",
   "metadata": {},
   "outputs": [],
   "source": [
    "# I believe I need two different time steps. One time step for spatial derivative and one for time derivative.\n",
    "delta_x = 0.25\n",
    "delta_y = 0.25\n",
    "\n",
    "# create a range of numbers from 0 to 1. Not sure what range is best exactly.\n",
    "# we add the step size to the range so that it includes the last value\n",
    "x = np.arange(0, 1 + delta_x, delta_x)\n",
    "t = np.arange(0, 1 + delta_y, delta_y)"
   ]
  },
  {
   "cell_type": "code",
   "execution_count": 16,
   "id": "b3271b53",
   "metadata": {},
   "outputs": [
    {
     "data": {
      "text/plain": [
       "array([[0., 0., 0., 0., 0.],\n",
       "       [0., 0., 0., 0., 0.],\n",
       "       [0., 0., 0., 0., 0.],\n",
       "       [0., 0., 0., 0., 0.],\n",
       "       [0., 0., 0., 0., 0.]])"
      ]
     },
     "execution_count": 16,
     "metadata": {},
     "output_type": "execute_result"
    }
   ],
   "source": [
    "# We need to initialize a E matrix which will store our values to go through in it.\n",
    "n = len(x)\n",
    "m = len(t)\n",
    "\n",
    "E = np.zeros((n, m))\n",
    "E"
   ]
  }
 ],
 "metadata": {
  "kernelspec": {
   "display_name": "Python 3 (ipykernel)",
   "language": "python",
   "name": "python3"
  },
  "language_info": {
   "codemirror_mode": {
    "name": "ipython",
    "version": 3
   },
   "file_extension": ".py",
   "mimetype": "text/x-python",
   "name": "python",
   "nbconvert_exporter": "python",
   "pygments_lexer": "ipython3",
   "version": "3.11.4"
  }
 },
 "nbformat": 4,
 "nbformat_minor": 5
}
