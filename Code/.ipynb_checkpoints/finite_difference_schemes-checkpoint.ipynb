{
 "cells": [
  {
   "cell_type": "markdown",
   "id": "941d11c2",
   "metadata": {},
   "source": [
    "## Explicit finite difference scheme"
   ]
  },
  {
   "cell_type": "markdown",
   "id": "78c7dd61",
   "metadata": {},
   "source": [
    "### Step 1: Rewrite equation in terms of row (position) and column (time) indicies.\n",
    "\n",
    "The equation (Eq. 4.0 in doc) given to me by Jack is: \n",
    "\n",
    "$$ E^{n+1}_i = \\left ( \\frac{\\Delta t}{\\Delta x} \\frac{c}{n} \\right )^2 (E^{n}_{i+1} - 2E^{n}_{i} + E^{n}_{i-1})-(-2E^{n}_{i} + E^{n-1}_{i}) $$\n",
    "\n",
    "I want to have the equation in terms of rows and columns, so ultimately I want to rewrite the following equation to be in the form of rows and columns: \n",
    "\n",
    "$$ u^{n+1}_{j} = ru^{n}_{j-1} + (1-2r)u^{n}_{j} + ru^{n}_{j+1}   $$\n",
    "\n",
    "where $ \\displaystyle r = \\left ( \\frac{\\Delta t}{\\Delta x} \\frac{c}{n} \\right ) $\n",
    "\n",
    "So I express the above equation as:\n",
    "\n",
    "$$ u^{n}_{j} = ru^{n-1}_{j-1} + (1-2r)u^{n}_{j-1} + ru^{n+1}_{j-1} $$"
   ]
  },
  {
   "cell_type": "code",
   "execution_count": 1,
   "id": "ca171b64",
   "metadata": {},
   "outputs": [],
   "source": [
    "import numpy as np\n",
    "import matplotlib.pyplot as plt"
   ]
  },
  {
   "cell_type": "code",
   "execution_count": 2,
   "id": "120871fa",
   "metadata": {},
   "outputs": [],
   "source": [
    "# create a range of numbers from 0 to 1. Not sure what range is best exactly.\n",
    "x = np.arange(0, 1, 0.25)"
   ]
  },
  {
   "cell_type": "code",
   "execution_count": null,
   "id": "bf5c649b",
   "metadata": {},
   "outputs": [],
   "source": []
  }
 ],
 "metadata": {
  "kernelspec": {
   "display_name": "Python 3 (ipykernel)",
   "language": "python",
   "name": "python3"
  },
  "language_info": {
   "codemirror_mode": {
    "name": "ipython",
    "version": 3
   },
   "file_extension": ".py",
   "mimetype": "text/x-python",
   "name": "python",
   "nbconvert_exporter": "python",
   "pygments_lexer": "ipython3",
   "version": "3.11.4"
  }
 },
 "nbformat": 4,
 "nbformat_minor": 5
}
