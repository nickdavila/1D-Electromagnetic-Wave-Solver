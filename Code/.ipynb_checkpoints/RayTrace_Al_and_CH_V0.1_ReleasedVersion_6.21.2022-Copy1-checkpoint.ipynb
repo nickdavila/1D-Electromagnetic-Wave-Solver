{
 "cells": [
  {
   "cell_type": "markdown",
   "metadata": {},
   "source": [
    "# Module Load"
   ]
  },
  {
   "cell_type": "code",
   "execution_count": 1,
   "metadata": {
    "ExecuteTime": {
     "end_time": "2023-03-01T02:30:37.103742Z",
     "start_time": "2023-03-01T02:30:35.674125Z"
    }
   },
   "outputs": [
    {
     "name": "stderr",
     "output_type": "stream",
     "text": [
      "C:\\Users\\nickd\\AppData\\Local\\Temp\\ipykernel_10812\\2580724601.py:13: DeprecationWarning: Please use `wiener` from the `scipy.signal` namespace, the `scipy.signal.signaltools` namespace is deprecated.\n",
      "  from scipy.signal.signaltools import wiener\n"
     ]
    },
    {
     "name": "stdout",
     "output_type": "stream",
     "text": [
      "path_local =  C:\\Users\\nickd\\OneDrive\\Documents\\GitHub\\PFURO-2023-PRIV\\Code\n"
     ]
    }
   ],
   "source": [
    "import h5py, math, cmath, scipy, random, os, csv, pathlib, matplotlib\n",
    "\n",
    "from mpmath import *\n",
    "\n",
    "from matplotlib.ticker import (MultipleLocator, FormatStrFormatter,AutoMinorLocator)\n",
    "from scipy.optimize import curve_fit\n",
    "from matplotlib import rcParams, rc, cm, colors\n",
    "from sklearn.decomposition import PCA\n",
    "from scipy.stats import skew, poisson, kurtosis \n",
    "from matplotlib.font_manager import FontProperties\n",
    "from scipy.ndimage import gaussian_filter, median_filter, sobel\n",
    "from scipy.interpolate import griddata\n",
    "from scipy.signal.signaltools import wiener\n",
    "from mpl_toolkits.mplot3d import Axes3D\n",
    "from numpy import linalg as LA\n",
    "from scipy.special import sph_harm, lambertw, gamma, factorial\n",
    "from scipy import interpolate\n",
    "\n",
    "import scipy.integrate as integrate\n",
    "import matplotlib.tri as tri\n",
    "import numpy.ma as ma\n",
    "import numpy as np\n",
    "import matplotlib.pyplot as plt\n",
    "import pandas as pd\n",
    "import scipy as sci\n",
    "import scipy.special as sp\n",
    "import time as timeCheck\n",
    "\n",
    "plt.style.use('classic')\n",
    "%matplotlib inline\n",
    "rcParams['font.family'] = 'Times New Roman'\n",
    "\n",
    "if 0 : plt.style.use('ggplot')\n",
    "if 0 : import seaborn as sns; sns.set()\n",
    "\n",
    "rc('text', usetex=True)\n",
    "rc('axes', linewidth=2)\n",
    "rc('font', weight='bold')\n",
    "# rcParams['text.latex.preamble'] = [r'\\usepackage{sfmath} \\boldmath']\n",
    "rcParams = {'text.latex.preamble' : [r'\\usepackage{amsmath}']}\n",
    " \n",
    "path_local = str(pathlib.Path().absolute())\n",
    "print('path_local = ',path_local)"
   ]
  },
  {
   "cell_type": "markdown",
   "metadata": {},
   "source": [
    "# Parameters (REORGANIZE!)"
   ]
  },
  {
   "cell_type": "markdown",
   "metadata": {},
   "source": [
    "## Physics Constants"
   ]
  },
  {
   "cell_type": "code",
   "execution_count": 2,
   "metadata": {},
   "outputs": [],
   "source": [
    "um = 10**-6 # m\n",
    "nm = 10**-9 # m\n",
    "ns = 10**-9 # s\n",
    "ps = 10**-12 # s\n",
    "fs = 10**-15 # s\n",
    "eV = 1.6*10**-19 # J\n",
    "kelvin_to_eV = 8.621738*10**-5 # eV \n",
    "gcm3_to_kgm3 = 10**3 # kg/m^3\n",
    "J_to_erg = 10**7 # erg\n",
    "cm3_to_m3 = 0.01**3 # m^3\n",
    "Wcm2_to_Wm2 = 100**2 # J/m^2/s\n",
    "\n",
    "mole = 6.02214076*10**23 # unitless, the Avogadro number\n",
    "amu = 1.66*10**-27 # kg\n",
    "angstorm = 10**-10 # m\n",
    "hbar = 1.0545718*10**-34 # J*s\n",
    "eV = 1.6*10**-19 # J\n",
    "dyne = 10**-5 # N\n",
    "massElectron = 9.10938356*10**-31 # kg\n",
    "eCharge = 1.602176634*10**-19 # C\n",
    "eCharge_ESU = 4.80326*10**-10 # esu\n",
    "kB = 1.380649*10**-23 # J/K\n",
    "lightSpeed = 299792458.000000 # m/s\n",
    "vacuumPermittivity = 8.854187817000000E-012 # C⋅V−1⋅m−1 or C^2/N/m^2"
   ]
  },
  {
   "cell_type": "markdown",
   "metadata": {},
   "source": [
    "## Laser Parameters"
   ]
  },
  {
   "cell_type": "code",
   "execution_count": 3,
   "metadata": {},
   "outputs": [],
   "source": [
    "# 800\n",
    "# 355"
   ]
  },
  {
   "cell_type": "markdown",
   "metadata": {},
   "source": [
    "## Aluminum Parameters"
   ]
  },
  {
   "cell_type": "markdown",
   "metadata": {},
   "source": [
    "## CH Parameters"
   ]
  },
  {
   "cell_type": "markdown",
   "metadata": {},
   "source": [
    "## Sapphire Parameters"
   ]
  },
  {
   "cell_type": "code",
   "execution_count": 4,
   "metadata": {
    "ExecuteTime": {
     "end_time": "2023-03-01T17:27:00.608433Z",
     "start_time": "2023-03-01T17:27:00.577489Z"
    }
   },
   "outputs": [
    {
     "name": "stdout",
     "output_type": "stream",
     "text": [
      "J_per_mole_per_K =  0.12037444387473313\n",
      "skin_length_Al_liquid [nm] =  17.782675205798366\n",
      "hbar*omega_LO/eV =  0.05218030155811667\n",
      "Z_eff =  2.529256931325612\n",
      "M_eff =  9.109334532765864e-31\n",
      "Sapphire_mass =  1.6925372948e-25\n",
      "ni =  2.351499144053012e+28\n",
      "E_800nm/eV =  1.5519107999294668\n",
      "omega_800nm =  2354564459136066.0\n",
      "omega_355nm =  5306060752982685.0\n",
      "omega_355nm/omega_800nm =  2.253521126760564\n",
      "melting_point_Aluminum (meV) =  80.5\n",
      "melting_point_Sapphire (meV) =  202.2\n",
      "melting_point_Hydrogen (meV) =  1.2\n",
      "melting_point_CH (meV)       =  45.0\n"
     ]
    }
   ],
   "source": [
    "J_per_mole_per_K = 1/mole/kelvin_to_eV/eV\n",
    "print('J_per_mole_per_K = ',J_per_mole_per_K)\n",
    "\n",
    "# Sapphire material properties\n",
    "Debye_Temp = 1042 # K\n",
    "Melting_Point_Celsius = 2040 # C\n",
    "Melting_Point = Melting_Point_Celsius + 273.15 # K\n",
    "Molar_Mass = 101.961276 # g/mol\n",
    "Density = 3.98 # g/cm^3\n",
    "Molar_Volume = Molar_Mass/Density # cm^3/mol\n",
    "Bulk_Modulus = 240 # GPa\n",
    "Thermal_Exp_Coef = 5.5*10**(-6) # 1/K\n",
    "lattice_constant_aAxis = 4.758*angstorm # m \n",
    "lattice_constant_cAxis = 12.99*angstorm # m\n",
    "lattice_constant = max(lattice_constant_aAxis,lattice_constant_cAxis)\n",
    "kBZ = 2*np.pi/lattice_constant # 1/m\n",
    "\n",
    "# Sapphire electron-phonon scattering properties\n",
    "massElectronReduced = massElectron*0.5 # kg\n",
    "Upotential = 19*eV # J\n",
    "omega_LO = 2*np.pi*12.6*10**12 # 1/s\n",
    "varepsilon_infty = 3.038 # || c axis\n",
    "varepsilon_0 = 11.11 # || c axis\n",
    "\n",
    "# Sapphire ionization properties\n",
    "Al_mass = 26.981539*amu # kg\n",
    "O_mass = 15.999*amu # kg\n",
    "Sapphire_mass = 2*Al_mass + 3*O_mass # kg\n",
    "Z_Al = 3\n",
    "Z_O = 2\n",
    "Z_total = Z_O + Z_Al # Al2O3\n",
    "Z_eff = Al_mass/Sapphire_mass*Z_Al*2 + O_mass/Sapphire_mass*Z_O*3\n",
    "M_eff = massElectron*Sapphire_mass/(massElectron+Sapphire_mass) # kg\n",
    "\n",
    "melting_point_Sapphire = 2072+273.13 # degree celsius\n",
    "melting_point_Aluminum = 660.3+273.13 # degree celsius\n",
    "melting_point_Hydrogen = -259.2+273.13 # degree celsius\n",
    "melting_point_CH = 249+273.13 # degree celsius\n",
    "\n",
    "# Laser Parameters\n",
    "wavelength_800nm = 800*nm\n",
    "wavelength_355nm = 355*nm\n",
    "wavelength_351nm = 351*nm\n",
    "# input  laser intensity unit : W/m^2\n",
    "# output electric field  unit : V/m\n",
    "vacuumRefractiveIndex = 1\n",
    "coef_laserI_eField = (2/lightSpeed/vacuumPermittivity/vacuumRefractiveIndex)**0.5\n",
    "omega_800nm = lightSpeed/wavelength_800nm*2*np.pi\n",
    "omega_355nm = lightSpeed/wavelength_355nm*2*np.pi\n",
    "omega_351nm = lightSpeed/wavelength_351nm*2*np.pi\n",
    "Eg_Sapphire = 8.8*eV # J\n",
    "Eg_CH = 4.05*eV # J\n",
    "sigma2 = 7*10**8 # cm.s/J^2\n",
    "E_800nm = hbar*omega_800nm # J\n",
    "\n",
    "rho = Density*gcm3_to_kgm3 # kg/m^3\n",
    "bulk_modulus = Bulk_Modulus*10**9 # Pa\n",
    "ni = rho/Sapphire_mass # 1/m^3\n",
    "n_vb = ni*Z_total # 1/m^3\n",
    "\n",
    "n_Al_liquid = 1.98\n",
    "k_Al_liquid = 7.16\n",
    "\n",
    "skin_length_Al_liquid = lightSpeed/(omega_800nm*k_Al_liquid)\n",
    "print('skin_length_Al_liquid [nm] = ',skin_length_Al_liquid/nm)\n",
    "\n",
    "print('hbar*omega_LO/eV = ',hbar*omega_LO/eV)\n",
    "print('Z_eff = ',Z_eff)\n",
    "print('M_eff = ',M_eff)\n",
    "print('Sapphire_mass = ',Sapphire_mass)\n",
    "print('ni = ',ni)\n",
    "print('E_800nm/eV = ',E_800nm/eV)\n",
    "print('omega_800nm = ',omega_800nm)\n",
    "print('omega_355nm = ',omega_355nm)\n",
    "print('omega_355nm/omega_800nm = ',omega_355nm/omega_800nm)\n",
    "\n",
    "print('melting_point_Aluminum (meV) = ',round(melting_point_Aluminum*kelvin_to_eV*1000,1))\n",
    "print('melting_point_Sapphire (meV) = ',round(melting_point_Sapphire*kelvin_to_eV*1000,1))\n",
    "print('melting_point_Hydrogen (meV) = ',round(melting_point_Hydrogen*kelvin_to_eV*1000,1))\n",
    "print('melting_point_CH (meV)       = ',round(melting_point_CH*kelvin_to_eV*1000,1))"
   ]
  },
  {
   "cell_type": "markdown",
   "metadata": {
    "heading_collapsed": true
   },
   "source": [
    "# Heat Capacity (From Jack: Al and CH)\n",
    "\n",
    "We have this\n",
    "\n",
    "Concept for IPF is lattice vibration. The system will have internal energy that eventually becomes a harmonic oscillator.  U = Estein model for heat capacity.\n",
    "\n",
    "Eventually heat capacity just C_ve = dU/dT\n",
    "\n",
    "Laser will oscillate electrons and electrons will be oscilalting in polarizaation direction which will then hit the ion so when the electron collides with the ions. Driving oscillator problem cause then the whole system will start vibrating which will have eigen frequency. Basically we have two types of oscillations (acoustic and polar optical phonons).\n",
    "\n",
    "Acoustic phonon = long wavelength perturbation (transport sound waves or the SHOCK in our case also transports heat). Means a small 'k' (wave vector).\n",
    "\n",
    "Polar optical phonon = (in lattice, two atoms will move molecules and produce some charge separation, so they will have some residual charge to make them become polar. So they become quasi polar molecules which carry some residual charge which will later on interact with Electric field (WE HAVE THIS IN CH).\n",
    "\n",
    "Aluminum has acoustic mode, CH has polar and acoustic mode because of their specific lattice structure. \n",
    "\n",
    "Polar -- dipole moments\n",
    "\n",
    "Polar is short wavelength\n",
    "\n",
    "Aluminum has a fcc shappe (conal) and each \n",
    "\n",
    "phonon = vibrational mode in lattice vibration = eigenfrequency type = quantum concept to describe lattice vibration\n",
    "\n",
    "Ion = plasma in our model.\n",
    "Lattice = bounded nucleus on solid state before goes into plasma"
   ]
  },
  {
   "cell_type": "markdown",
   "metadata": {
    "hidden": true
   },
   "source": [
    "## get_Cp_exp"
   ]
  },
  {
   "cell_type": "code",
   "execution_count": 5,
   "metadata": {
    "ExecuteTime": {
     "end_time": "2023-01-04T17:01:45.324402Z",
     "start_time": "2023-01-04T17:01:45.306479Z"
    },
    "hidden": true
   },
   "outputs": [],
   "source": [
    "def get_Cp_exp():\n",
    "    \n",
    "    # https://polymerdatabase.com/polymer%20physics/CpPS.html\n",
    "    # Cp - Cv (J/mol/K) = MolarVolume(m^3/mole) * ThermalExp(1/K)**2 * BulkModulus(Pa) * Temperature(K)\n",
    "    # correction term (J/mol/K)\n",
    "    \n",
    "    filename = '\\Sapphire_Heat_Capacity.csv'\n",
    "    file_to_open = open(path_local+filename,'r')\n",
    "\n",
    "    Cp_data = []\n",
    "    for line in file_to_open:\n",
    "        row = line.split(',')\n",
    "        #print([float(ele) for ele in row])\n",
    "        Cp_data.append([float(ele) for ele in row])\n",
    "    Cp_data = np.array(Cp_data)\n",
    "    \n",
    "    return Cp_data\n",
    "\n",
    "# this data is needed for get_Cp_exp_fit\n",
    "Cp_data = get_Cp_exp()"
   ]
  },
  {
   "cell_type": "markdown",
   "metadata": {
    "hidden": true
   },
   "source": [
    "## get_Cp_exp_fit"
   ]
  },
  {
   "cell_type": "code",
   "execution_count": 6,
   "metadata": {
    "ExecuteTime": {
     "end_time": "2023-01-04T17:02:11.328392Z",
     "start_time": "2023-01-04T17:01:48.369727Z"
    },
    "hidden": true
   },
   "outputs": [
    {
     "data": {
      "text/plain": [
       "<Figure size 640x480 with 0 Axes>"
      ]
     },
     "metadata": {},
     "output_type": "display_data"
    },
    {
     "data": {
      "image/png": "[encoded data removed]",
      "text/plain": [
       "<Figure size 480x400 with 1 Axes>"
      ]
     },
     "metadata": {},
     "output_type": "display_data"
    }
   ],
   "source": [
    "def get_Cp_exp_fit(Ti):\n",
    "    \n",
    "    # T : kelvein\n",
    "\n",
    "    def func(x,a0,a1,a2,a3,a4,a5,a6,a7,a8,a9,a10):\n",
    "        return a0+a1*x+a2*x**2+a3*x**3+a4*x**4+a5*x**5+a6*x**6+a7*x**7+a8*x**8+a9*x**9+a10*x**10\n",
    "\n",
    "    xdata = Cp_data[:,0]\n",
    "    ydata = Cp_data[:,1]    \n",
    "    popt, pcov = curve_fit(func, xdata, ydata)\n",
    "    a0,a1,a2,a3,a4,a5,a6,a7,a8,a9,a10 = popt\n",
    "    \n",
    "    return func(Ti,a0,a1,a2,a3,a4,a5,a6,a7,a8,a9,a10) # J/mol/K\n",
    "\n",
    "if 1 :\n",
    "    # begin the fit\n",
    "    T_initial = 273.15\n",
    "    T_final   = Cp_data[-1,0]\n",
    "    xdata_fit = np.array([T for T in np.arange(T_initial,T_final,1)])\n",
    "    ydata_fit = np.array([get_Cp_exp_fit(T) for T in xdata_fit])\n",
    "\n",
    "    plt.figure()\n",
    "    fig, ax = plt.subplots(figsize=(6,5))\n",
    "    fs = 20\n",
    "    ax.plot(Cp_data[:,0],Cp_data[:,1]*J_per_mole_per_K,'.',c='k',label='Ditmars exp. data')\n",
    "    ax.plot(xdata_fit,ydata_fit*J_per_mole_per_K,label='fit',c='r')\n",
    "\n",
    "    ax.legend(numpoints=1,fontsize=fs,loc='lower right')\n",
    "    ax.tick_params(which='major',length=10,labelsize=fs)\n",
    "    ax.set_xlabel(r'$T$(K)',fontsize=fs)\n",
    "    ax.set_ylabel(r'$C_\\mathrm{p}\\mathrm{(J/mol/K)}$',fontsize=fs)\n",
    "    ax.set_title(r'Sapphire heat capacity',fontsize=fs)"
   ]
  },
  {
   "cell_type": "markdown",
   "metadata": {
    "hidden": true
   },
   "source": [
    "## get_Cv_exp_fit"
   ]
  },
  {
   "cell_type": "code",
   "execution_count": 19,
   "metadata": {
    "ExecuteTime": {
     "end_time": "2023-01-04T17:02:55.162412Z",
     "start_time": "2023-01-04T17:02:11.380194Z"
    },
    "hidden": true
   },
   "outputs": [
    {
     "data": {
      "text/plain": [
       "<Figure size 640x480 with 0 Axes>"
      ]
     },
     "metadata": {},
     "output_type": "display_data"
    },
    {
     "data": {
      "image/png": "[encoded data removed]",
      "text/plain": [
       "<Figure size 480x400 with 1 Axes>"
      ]
     },
     "metadata": {},
     "output_type": "display_data"
    }
   ],
   "source": [
    "def get_Cv_exp_fit(Ti):\n",
    "    \n",
    "    # Ti : kelvein\n",
    "\n",
    "    def func(x,a0,a1,a2,a3,a4,a5,a6,a7,a8,a9,a10):\n",
    "        return a0+a1*x+a2*x**2+a3*x**3+a4*x**4+a5*x**5+a6*x**6+a7*x**7+a8*x**8+a9*x**9+a10*x**10\n",
    "\n",
    "    xdata = Cp_data[:,0]\n",
    "    ydata = Cp_data[:,1]    \n",
    "    popt, pcov = curve_fit(func, xdata, ydata)\n",
    "    a0,a1,a2,a3,a4,a5,a6,a7,a8,a9,a10 = popt\n",
    "    \n",
    "    # Molar_Volume : cm^3/mole\n",
    "    # Thermal_Exp_Coef : 1/K\n",
    "    # Bulk_Modulus : GPa\n",
    "    # The factor 1000 is to convert cm^3*GPa into m^3*Pa = J\n",
    "    \n",
    "    Cp = func(Ti,a0,a1,a2,a3,a4,a5,a6,a7,a8,a9,a10) # J/mol/K\n",
    "    correction = Molar_Volume*Thermal_Exp_Coef**2*Bulk_Modulus*Ti*1000 # J/mol/K\n",
    "    \n",
    "    return Cp - correction # J/mol/K\n",
    "\n",
    "if 1 :\n",
    "    # begin the fit\n",
    "    T_initial = 273.15\n",
    "    T_final   = Cp_data[-1,0]\n",
    "    xdata_fit = np.array([T for T in np.arange(T_initial,T_final,1)])\n",
    "    ydata_fit = np.array([get_Cp_exp_fit(T) for T in xdata_fit])\n",
    "    ydata_fit2= np.array([get_Cv_exp_fit(T) for T in xdata_fit])\n",
    "\n",
    "    plt.figure()\n",
    "    fig, ax = plt.subplots(figsize=(6,5))\n",
    "    fs = 20\n",
    "    ax.plot(Cp_data[:,0],Cp_data[:,1]*J_per_mole_per_K,'.',c='k',label='Ditmars exp. data')\n",
    "    ax.plot(xdata_fit,ydata_fit*J_per_mole_per_K,label='Cp fit',c='r')\n",
    "    ax.plot(xdata_fit,ydata_fit2*J_per_mole_per_K,label='Cv fit',c='b')\n",
    "\n",
    "    ax.legend(numpoints=1,fontsize=fs,loc='lower right')\n",
    "    ax.tick_params(which='major',length=10,labelsize=fs)\n",
    "    ax.set_xlabel(r'$T$(K)',fontsize=fs)\n",
    "    ax.set_ylabel(r'$C_\\mathrm{p}\\mathrm{(J/mol/K)}$',fontsize=fs)\n",
    "    ax.set_title(r'Sapphire heat capacity',fontsize=fs)"
   ]
  },
  {
   "cell_type": "markdown",
   "metadata": {
    "hidden": true
   },
   "source": [
    "## get_Cv_theory (Debye model)"
   ]
  },
  {
   "cell_type": "code",
   "execution_count": 20,
   "metadata": {
    "ExecuteTime": {
     "end_time": "2023-01-04T17:02:55.396716Z",
     "start_time": "2023-01-04T17:02:55.214975Z"
    },
    "hidden": true
   },
   "outputs": [
    {
     "data": {
      "text/plain": [
       "<matplotlib.legend.Legend at 0x22c56410d10>"
      ]
     },
     "execution_count": 20,
     "metadata": {},
     "output_type": "execute_result"
    },
    {
     "data": {
      "text/plain": [
       "<Figure size 640x480 with 0 Axes>"
      ]
     },
     "metadata": {},
     "output_type": "display_data"
    },
    {
     "data": {
      "image/png": "[encoded data removed]",
      "text/plain": [
       "<Figure size 480x400 with 1 Axes>"
      ]
     },
     "metadata": {},
     "output_type": "display_data"
    }
   ],
   "source": [
    "def get_Cv_theory(Ti):\n",
    "    \n",
    "    # http://hyperphysics.phy-astr.gsu.edu/hbase/Solids/phonon.html\n",
    "\n",
    "    natoms = 5\n",
    "\n",
    "    TD = Debye_Temp*kelvin_to_eV*eV\n",
    "    \n",
    "    def func(x):\n",
    "        return x**4*math.exp(x)/(math.exp(x)-1)**2\n",
    "    \n",
    "    r1 = integrate.quad(lambda x: func(x),0,TD/Ti)[0]\n",
    "    \n",
    "    C = 9*(Ti/TD)**3*r1\n",
    "    \n",
    "    if Ti/(kelvin_to_eV*eV) > Melting_Point : C = 1.5\n",
    "    \n",
    "    if 0 :\n",
    "        print('Ti = ',Ti/(kelvin_to_eV*eV))\n",
    "        print('C  = ',C)\n",
    "        \n",
    "    return C*natoms*mole*kB # J/mole/K\n",
    "\n",
    "lattice_T = np.array([Ti*kelvin_to_eV*eV for Ti in np.arange(10,Melting_Point,10)])\n",
    "Cv_theory = np.array([get_Cv_theory(Ti) for Ti in lattice_T])\n",
    "\n",
    "plt.figure()\n",
    "fig, ax = plt.subplots(figsize=(6,5))\n",
    "fs = 20\n",
    "\n",
    "#ax.plot(Cp_data[:,0],Cp_data[:,1],'.',c='k',label='Ditmars exp. data')\n",
    "ax.plot(Cp_data[:,0],Cp_data[:,1]-Molar_Volume*Thermal_Exp_Coef**2*Bulk_Modulus*Cp_data[:,0]*1000,'.',c='k',label='Ditmars exp. data')  \n",
    "ax.plot(lattice_T/(kelvin_to_eV*eV),Cv_theory,c='r',label='Debye model')\n",
    "\n",
    "ax.tick_params(which='major',length=10,labelsize=fs)\n",
    "ax.set_xlabel(r'$T$(K)',fontsize=fs)\n",
    "ax.set_ylabel(r'$C_\\mathrm{V}\\mathrm{(J/mol/K)}$',fontsize=fs)\n",
    "ax.set_title(r'Sapphire heat capacity',fontsize=fs)\n",
    "ax.legend(numpoints=1,fontsize=fs,loc='lower right')"
   ]
  },
  {
   "cell_type": "markdown",
   "metadata": {},
   "source": [
    "# Electron-Phonon Collision Rates\n",
    "\n",
    "What matters is the rate of momentum relaxation. So when electron collides with particle you want and eventually they have some momentum which eventually relaxes. Which means electron momentum transfers to other particles. So we calculate average time to relax and excited electron state to equilibrium.\n",
    "\n",
    "Transition from ground state to excited state and how long it takes for electron to relax.\n",
    "Collision frequency called V_c which we eventually multiply by some parameter to define collision frequency in Energy and not in momentum.\n",
    "\n",
    "\n",
    "This module will eventually help us get 'G' which is the relaxations scale."
   ]
  },
  {
   "cell_type": "markdown",
   "metadata": {},
   "source": [
    "## get_g_DOS"
   ]
  },
  {
   "cell_type": "code",
   "execution_count": 21,
   "metadata": {
    "ExecuteTime": {
     "end_time": "2023-01-04T17:03:24.969381Z",
     "start_time": "2023-01-04T17:03:24.952427Z"
    }
   },
   "outputs": [
    {
     "data": {
      "text/plain": [
       "1.5022259925440287e+46"
      ]
     },
     "execution_count": 21,
     "metadata": {},
     "output_type": "execute_result"
    }
   ],
   "source": [
    "def get_g_DOS(E):\n",
    "    \n",
    "    if E<0 :\n",
    "        print('>>> get_g_DOS : negative E detected, STOP')\n",
    "        import sys\n",
    "        sys.exit()\n",
    "    \n",
    "    # M. Lundstrom \"Fundamental of Carrier Transport\", P.48, Eq.(2.9)\n",
    "    \n",
    "    return (2*massElectronReduced)**(3/2)/(2*np.pi**2*hbar**3)*np.sqrt(E)\n",
    "    \n",
    "get_g_DOS(eV)    "
   ]
  },
  {
   "cell_type": "markdown",
   "metadata": {},
   "source": [
    "## get_vc_DAC (Deformation Acoustic potential interaction)"
   ]
  },
  {
   "cell_type": "code",
   "execution_count": 22,
   "metadata": {
    "ExecuteTime": {
     "end_time": "2023-01-04T17:03:29.114811Z",
     "start_time": "2023-01-04T17:03:28.960992Z"
    }
   },
   "outputs": [
    {
     "data": {
      "text/plain": [
       "<Figure size 640x480 with 0 Axes>"
      ]
     },
     "metadata": {},
     "output_type": "display_data"
    },
    {
     "data": {
      "image/png": "[encoded data removed]",
      "text/plain": [
       "<Figure size 480x440 with 1 Axes>"
      ]
     },
     "metadata": {},
     "output_type": "display_data"
    }
   ],
   "source": [
    "def get_vc_DAC(rho,Ti,Te):\n",
    "    \n",
    "    # M. Lundstrom \"Fundamental of Carrier Transport\", P.68, Eq.(2.66)\n",
    "        \n",
    "    cs = np.sqrt(bulk_modulus/rho) # m/s\n",
    "    \n",
    "    # elastic constant\n",
    "    cl = rho*cs**2\n",
    "               \n",
    "    vc_Lundstorm = np.pi*Upotential**2*Ti/(hbar*cl)*get_g_DOS(Te) # 1/s\n",
    "        \n",
    "    if 0 : \n",
    "        print('>>> get_vc_DAC ...')\n",
    "        print('cs = ',cs)\n",
    "        print('vc_Lundstorm = ',\"{:.3e}\".format(vc_Lundstorm))\n",
    "    \n",
    "    return vc_Lundstorm # 1/s\n",
    "\n",
    "if 1 : \n",
    "    Ti = 0.01*eV\n",
    "    temp = np.array([T for T in np.arange(0.01,Melting_Point*kelvin_to_eV,0.005)])\n",
    "    vc_DAC = np.array([get_vc_DAC(rho,Ti,Te*eV)*10**(-13) for Te in temp])\n",
    "    \n",
    "    plt.figure()\n",
    "    fig, ax = plt.subplots(figsize=(6,5.5))\n",
    "    fs,fs2 = 20,15\n",
    "    ax.plot(temp,vc_DAC,lw=2,c='k')    \n",
    "\n",
    "    #ax.legend(numpoints=1,fontsize=fs,loc='lower right')\n",
    "    ax.tick_params(which='major',length=10,labelsize=fs)\n",
    "    ax.set_xlabel(r'$T_\\mathrm{e}$(eV)',fontsize=fs)\n",
    "    ax.set_ylabel(r'Scattering rate ($10^{13}$ 1/s)',fontsize=fs)\n",
    "    ax.set_title(r'Sapphire deformation '+'\\n'+'acoustic phonon scatterings',fontsize=fs)\n",
    "    #ax.grid(True)"
   ]
  },
  {
   "cell_type": "markdown",
   "metadata": {},
   "source": [
    "## get_vc_POP_Lundstorm (Polar Optical)"
   ]
  },
  {
   "cell_type": "code",
   "execution_count": 24,
   "metadata": {
    "ExecuteTime": {
     "end_time": "2023-01-04T17:03:33.197271Z",
     "start_time": "2023-01-04T17:03:33.017010Z"
    }
   },
   "outputs": [
    {
     "name": "stdout",
     "output_type": "stream",
     "text": [
      "vc_POP_Lundstorm =  1.719e+13\n",
      "tes :  4.228e+14\n"
     ]
    },
    {
     "ename": "ValueError",
     "evalue": "keyword grid_b is not recognized; valid keywords are ['size', 'width', 'color', 'tickdir', 'pad', 'labelsize', 'labelcolor', 'zorder', 'gridOn', 'tick1On', 'tick2On', 'label1On', 'label2On', 'length', 'direction', 'left', 'bottom', 'right', 'top', 'labelleft', 'labelbottom', 'labelright', 'labeltop', 'labelrotation', 'grid_agg_filter', 'grid_alpha', 'grid_animated', 'grid_antialiased', 'grid_clip_box', 'grid_clip_on', 'grid_clip_path', 'grid_color', 'grid_dash_capstyle', 'grid_dash_joinstyle', 'grid_dashes', 'grid_data', 'grid_drawstyle', 'grid_figure', 'grid_fillstyle', 'grid_gapcolor', 'grid_gid', 'grid_in_layout', 'grid_label', 'grid_linestyle', 'grid_linewidth', 'grid_marker', 'grid_markeredgecolor', 'grid_markeredgewidth', 'grid_markerfacecolor', 'grid_markerfacecoloralt', 'grid_markersize', 'grid_markevery', 'grid_mouseover', 'grid_path_effects', 'grid_picker', 'grid_pickradius', 'grid_rasterized', 'grid_sketch_params', 'grid_snap', 'grid_solid_capstyle', 'grid_solid_joinstyle', 'grid_transform', 'grid_url', 'grid_visible', 'grid_xdata', 'grid_ydata', 'grid_zorder', 'grid_aa', 'grid_c', 'grid_ds', 'grid_ls', 'grid_lw', 'grid_mec', 'grid_mew', 'grid_mfc', 'grid_mfcalt', 'grid_ms']",
     "output_type": "error",
     "traceback": [
      "\u001b[1;31m---------------------------------------------------------------------------\u001b[0m",
      "\u001b[1;31mValueError\u001b[0m                                Traceback (most recent call last)",
      "Cell \u001b[1;32mIn[24], line 75\u001b[0m\n\u001b[0;32m     73\u001b[0m ax\u001b[38;5;241m.\u001b[39mset_title(\u001b[38;5;124m'\u001b[39m\u001b[38;5;124mOptical phonon energy = 0.052 eV\u001b[39m\u001b[38;5;124m'\u001b[39m,fontsize\u001b[38;5;241m=\u001b[39mfs)\n\u001b[0;32m     74\u001b[0m \u001b[38;5;66;03m#ax.grid(True)\u001b[39;00m\n\u001b[1;32m---> 75\u001b[0m \u001b[43max\u001b[49m\u001b[38;5;241;43m.\u001b[39;49m\u001b[43mgrid\u001b[49m\u001b[43m(\u001b[49m\u001b[43mb\u001b[49m\u001b[38;5;241;43m=\u001b[39;49m\u001b[38;5;28;43;01mTrue\u001b[39;49;00m\u001b[43m,\u001b[49m\u001b[43m \u001b[49m\u001b[43mwhich\u001b[49m\u001b[38;5;241;43m=\u001b[39;49m\u001b[38;5;124;43m'\u001b[39;49m\u001b[38;5;124;43mmajor\u001b[39;49m\u001b[38;5;124;43m'\u001b[39;49m\u001b[43m,\u001b[49m\u001b[43m \u001b[49m\u001b[43mcolor\u001b[49m\u001b[38;5;241;43m=\u001b[39;49m\u001b[38;5;124;43m'\u001b[39;49m\u001b[38;5;124;43mgrey\u001b[39;49m\u001b[38;5;124;43m'\u001b[39;49m\u001b[43m,\u001b[49m\u001b[43m \u001b[49m\u001b[43mlinestyle\u001b[49m\u001b[38;5;241;43m=\u001b[39;49m\u001b[38;5;124;43m'\u001b[39;49m\u001b[38;5;124;43m--\u001b[39;49m\u001b[38;5;124;43m'\u001b[39;49m\u001b[43m)\u001b[49m  \n",
      "File \u001b[1;32m~\\OneDrive\\Documents\\GitHub\\PFURO-2023-PRIV\\Code\\pfurovenv\\Lib\\site-packages\\matplotlib\\axes\\_base.py:3194\u001b[0m, in \u001b[0;36m_AxesBase.grid\u001b[1;34m(self, visible, which, axis, **kwargs)\u001b[0m\n\u001b[0;32m   3192\u001b[0m _api\u001b[38;5;241m.\u001b[39mcheck_in_list([\u001b[38;5;124m'\u001b[39m\u001b[38;5;124mx\u001b[39m\u001b[38;5;124m'\u001b[39m, \u001b[38;5;124m'\u001b[39m\u001b[38;5;124my\u001b[39m\u001b[38;5;124m'\u001b[39m, \u001b[38;5;124m'\u001b[39m\u001b[38;5;124mboth\u001b[39m\u001b[38;5;124m'\u001b[39m], axis\u001b[38;5;241m=\u001b[39maxis)\n\u001b[0;32m   3193\u001b[0m \u001b[38;5;28;01mif\u001b[39;00m axis \u001b[38;5;129;01min\u001b[39;00m [\u001b[38;5;124m'\u001b[39m\u001b[38;5;124mx\u001b[39m\u001b[38;5;124m'\u001b[39m, \u001b[38;5;124m'\u001b[39m\u001b[38;5;124mboth\u001b[39m\u001b[38;5;124m'\u001b[39m]:\n\u001b[1;32m-> 3194\u001b[0m     \u001b[38;5;28;43mself\u001b[39;49m\u001b[38;5;241;43m.\u001b[39;49m\u001b[43mxaxis\u001b[49m\u001b[38;5;241;43m.\u001b[39;49m\u001b[43mgrid\u001b[49m\u001b[43m(\u001b[49m\u001b[43mvisible\u001b[49m\u001b[43m,\u001b[49m\u001b[43m \u001b[49m\u001b[43mwhich\u001b[49m\u001b[38;5;241;43m=\u001b[39;49m\u001b[43mwhich\u001b[49m\u001b[43m,\u001b[49m\u001b[43m \u001b[49m\u001b[38;5;241;43m*\u001b[39;49m\u001b[38;5;241;43m*\u001b[39;49m\u001b[43mkwargs\u001b[49m\u001b[43m)\u001b[49m\n\u001b[0;32m   3195\u001b[0m \u001b[38;5;28;01mif\u001b[39;00m axis \u001b[38;5;129;01min\u001b[39;00m [\u001b[38;5;124m'\u001b[39m\u001b[38;5;124my\u001b[39m\u001b[38;5;124m'\u001b[39m, \u001b[38;5;124m'\u001b[39m\u001b[38;5;124mboth\u001b[39m\u001b[38;5;124m'\u001b[39m]:\n\u001b[0;32m   3196\u001b[0m     \u001b[38;5;28mself\u001b[39m\u001b[38;5;241m.\u001b[39myaxis\u001b[38;5;241m.\u001b[39mgrid(visible, which\u001b[38;5;241m=\u001b[39mwhich, \u001b[38;5;241m*\u001b[39m\u001b[38;5;241m*\u001b[39mkwargs)\n",
      "File \u001b[1;32m~\\OneDrive\\Documents\\GitHub\\PFURO-2023-PRIV\\Code\\pfurovenv\\Lib\\site-packages\\matplotlib\\axis.py:1660\u001b[0m, in \u001b[0;36mAxis.grid\u001b[1;34m(self, visible, which, **kwargs)\u001b[0m\n\u001b[0;32m   1657\u001b[0m \u001b[38;5;28;01mif\u001b[39;00m which \u001b[38;5;129;01min\u001b[39;00m [\u001b[38;5;124m'\u001b[39m\u001b[38;5;124mmajor\u001b[39m\u001b[38;5;124m'\u001b[39m, \u001b[38;5;124m'\u001b[39m\u001b[38;5;124mboth\u001b[39m\u001b[38;5;124m'\u001b[39m]:\n\u001b[0;32m   1658\u001b[0m     gridkw[\u001b[38;5;124m'\u001b[39m\u001b[38;5;124mgridOn\u001b[39m\u001b[38;5;124m'\u001b[39m] \u001b[38;5;241m=\u001b[39m (\u001b[38;5;129;01mnot\u001b[39;00m \u001b[38;5;28mself\u001b[39m\u001b[38;5;241m.\u001b[39m_major_tick_kw[\u001b[38;5;124m'\u001b[39m\u001b[38;5;124mgridOn\u001b[39m\u001b[38;5;124m'\u001b[39m]\n\u001b[0;32m   1659\u001b[0m                         \u001b[38;5;28;01mif\u001b[39;00m visible \u001b[38;5;129;01mis\u001b[39;00m \u001b[38;5;28;01mNone\u001b[39;00m \u001b[38;5;28;01melse\u001b[39;00m visible)\n\u001b[1;32m-> 1660\u001b[0m     \u001b[38;5;28;43mself\u001b[39;49m\u001b[38;5;241;43m.\u001b[39;49m\u001b[43mset_tick_params\u001b[49m\u001b[43m(\u001b[49m\u001b[43mwhich\u001b[49m\u001b[38;5;241;43m=\u001b[39;49m\u001b[38;5;124;43m'\u001b[39;49m\u001b[38;5;124;43mmajor\u001b[39;49m\u001b[38;5;124;43m'\u001b[39;49m\u001b[43m,\u001b[49m\u001b[43m \u001b[49m\u001b[38;5;241;43m*\u001b[39;49m\u001b[38;5;241;43m*\u001b[39;49m\u001b[43mgridkw\u001b[49m\u001b[43m)\u001b[49m\n\u001b[0;32m   1661\u001b[0m \u001b[38;5;28mself\u001b[39m\u001b[38;5;241m.\u001b[39mstale \u001b[38;5;241m=\u001b[39m \u001b[38;5;28;01mTrue\u001b[39;00m\n",
      "File \u001b[1;32m~\\OneDrive\\Documents\\GitHub\\PFURO-2023-PRIV\\Code\\pfurovenv\\Lib\\site-packages\\matplotlib\\axis.py:932\u001b[0m, in \u001b[0;36mAxis.set_tick_params\u001b[1;34m(self, which, reset, **kwargs)\u001b[0m\n\u001b[0;32m    919\u001b[0m \u001b[38;5;250m\u001b[39m\u001b[38;5;124;03m\"\"\"\u001b[39;00m\n\u001b[0;32m    920\u001b[0m \u001b[38;5;124;03mSet appearance parameters for ticks, ticklabels, and gridlines.\u001b[39;00m\n\u001b[0;32m    921\u001b[0m \n\u001b[1;32m   (...)\u001b[0m\n\u001b[0;32m    929\u001b[0m \u001b[38;5;124;03m    gridlines.\u001b[39;00m\n\u001b[0;32m    930\u001b[0m \u001b[38;5;124;03m\"\"\"\u001b[39;00m\n\u001b[0;32m    931\u001b[0m _api\u001b[38;5;241m.\u001b[39mcheck_in_list([\u001b[38;5;124m'\u001b[39m\u001b[38;5;124mmajor\u001b[39m\u001b[38;5;124m'\u001b[39m, \u001b[38;5;124m'\u001b[39m\u001b[38;5;124mminor\u001b[39m\u001b[38;5;124m'\u001b[39m, \u001b[38;5;124m'\u001b[39m\u001b[38;5;124mboth\u001b[39m\u001b[38;5;124m'\u001b[39m], which\u001b[38;5;241m=\u001b[39mwhich)\n\u001b[1;32m--> 932\u001b[0m kwtrans \u001b[38;5;241m=\u001b[39m \u001b[38;5;28;43mself\u001b[39;49m\u001b[38;5;241;43m.\u001b[39;49m\u001b[43m_translate_tick_params\u001b[49m\u001b[43m(\u001b[49m\u001b[43mkwargs\u001b[49m\u001b[43m)\u001b[49m\n\u001b[0;32m    934\u001b[0m \u001b[38;5;66;03m# the kwargs are stored in self._major/minor_tick_kw so that any\u001b[39;00m\n\u001b[0;32m    935\u001b[0m \u001b[38;5;66;03m# future new ticks will automatically get them\u001b[39;00m\n\u001b[0;32m    936\u001b[0m \u001b[38;5;28;01mif\u001b[39;00m reset:\n",
      "File \u001b[1;32m~\\OneDrive\\Documents\\GitHub\\PFURO-2023-PRIV\\Code\\pfurovenv\\Lib\\site-packages\\matplotlib\\axis.py:1076\u001b[0m, in \u001b[0;36mAxis._translate_tick_params\u001b[1;34m(kw, reverse)\u001b[0m\n\u001b[0;32m   1074\u001b[0m \u001b[38;5;28;01mfor\u001b[39;00m key \u001b[38;5;129;01min\u001b[39;00m kw_:\n\u001b[0;32m   1075\u001b[0m     \u001b[38;5;28;01mif\u001b[39;00m key \u001b[38;5;129;01mnot\u001b[39;00m \u001b[38;5;129;01min\u001b[39;00m allowed_keys:\n\u001b[1;32m-> 1076\u001b[0m         \u001b[38;5;28;01mraise\u001b[39;00m \u001b[38;5;167;01mValueError\u001b[39;00m(\n\u001b[0;32m   1077\u001b[0m             \u001b[38;5;124m\"\u001b[39m\u001b[38;5;124mkeyword \u001b[39m\u001b[38;5;132;01m%s\u001b[39;00m\u001b[38;5;124m is not recognized; valid keywords are \u001b[39m\u001b[38;5;132;01m%s\u001b[39;00m\u001b[38;5;124m\"\u001b[39m\n\u001b[0;32m   1078\u001b[0m             \u001b[38;5;241m%\u001b[39m (key, allowed_keys))\n\u001b[0;32m   1079\u001b[0m kwtrans\u001b[38;5;241m.\u001b[39mupdate(kw_)\n\u001b[0;32m   1080\u001b[0m \u001b[38;5;28;01mreturn\u001b[39;00m kwtrans\n",
      "\u001b[1;31mValueError\u001b[0m: keyword grid_b is not recognized; valid keywords are ['size', 'width', 'color', 'tickdir', 'pad', 'labelsize', 'labelcolor', 'zorder', 'gridOn', 'tick1On', 'tick2On', 'label1On', 'label2On', 'length', 'direction', 'left', 'bottom', 'right', 'top', 'labelleft', 'labelbottom', 'labelright', 'labeltop', 'labelrotation', 'grid_agg_filter', 'grid_alpha', 'grid_animated', 'grid_antialiased', 'grid_clip_box', 'grid_clip_on', 'grid_clip_path', 'grid_color', 'grid_dash_capstyle', 'grid_dash_joinstyle', 'grid_dashes', 'grid_data', 'grid_drawstyle', 'grid_figure', 'grid_fillstyle', 'grid_gapcolor', 'grid_gid', 'grid_in_layout', 'grid_label', 'grid_linestyle', 'grid_linewidth', 'grid_marker', 'grid_markeredgecolor', 'grid_markeredgewidth', 'grid_markerfacecolor', 'grid_markerfacecoloralt', 'grid_markersize', 'grid_markevery', 'grid_mouseover', 'grid_path_effects', 'grid_picker', 'grid_pickradius', 'grid_rasterized', 'grid_sketch_params', 'grid_snap', 'grid_solid_capstyle', 'grid_solid_joinstyle', 'grid_transform', 'grid_url', 'grid_visible', 'grid_xdata', 'grid_ydata', 'grid_zorder', 'grid_aa', 'grid_c', 'grid_ds', 'grid_ls', 'grid_lw', 'grid_mec', 'grid_mew', 'grid_mfc', 'grid_mfcalt', 'grid_ms']"
     ]
    },
    {
     "data": {
      "text/plain": [
       "<Figure size 640x480 with 0 Axes>"
      ]
     },
     "metadata": {},
     "output_type": "display_data"
    },
    {
     "data": {
      "image/png": "[encoded data removed]",
      "text/plain": [
       "<Figure size 600x440 with 1 Axes>"
      ]
     },
     "metadata": {},
     "output_type": "display_data"
    }
   ],
   "source": [
    "def get_vc_POP_Lundstorm(Te,omega_LO,Ti):\n",
    "        \n",
    "    # omega_LO : 1/s\n",
    "    # Ti : J\n",
    "    # Te : J\n",
    "    \n",
    "    E_e = 3/2*Te # J\n",
    "    \n",
    "    # M. Lundstrom \"Fundamental of Carrier Transport\", P.39, Eq.(2.83)\n",
    "    \n",
    "    E_p = hbar*omega_LO # J\n",
    "\n",
    "    factor1 = eCharge**2*omega_LO/(4*np.pi*hbar)/np.sqrt(2*E_e/massElectronReduced)\n",
    "    factor2 = (1/varepsilon_infty - 1/varepsilon_0)/vacuumPermittivity\n",
    "    \n",
    "    # Bose-Einstein factor\n",
    "    # M. Lundstrom \"Fundamental of Carrier Transport\", P.39, Eq.(1.113)\n",
    "    g_LO = 1/(math.exp(E_p/Ti)-1)\n",
    "    \n",
    "    part1 = g_LO*np.sqrt(1+E_p/E_e)\n",
    "    \n",
    "    if E_p/E_e < 1 :\n",
    "        part2 = (g_LO+1)*np.sqrt(1-E_p/E_e)\n",
    "    else :\n",
    "        part2 = 0\n",
    "        \n",
    "    part3 = E_p*g_LO/E_e*np.arcsinh(np.sqrt(E_e/E_p))\n",
    "    \n",
    "    if E_e/E_p > 1 :\n",
    "        part4 = E_p*(g_LO+1)/E_e*np.arcsinh(np.sqrt(E_e/E_p-1))\n",
    "    else :\n",
    "        part4 = 0\n",
    "      \n",
    "    vc_POP_Lundstorm = factor1*factor2*(part1+part2-part3+part4)\n",
    "    \n",
    "    if 0 :\n",
    "        #print('>>> get_EOP_rate ...')\n",
    "        print('E_p/meV = ',E_p/meV)\n",
    "        print('E_e/meV = ',E_e/meV)\n",
    "        print('E_e/E_p = ',E_e/E_p)        \n",
    "        print('omega_LO = ',omega_LO) \n",
    "        print('factor1 = ',factor1) \n",
    "        print('factor2 = ',factor2) \n",
    "        print('g_LO = ',g_LO)  \n",
    "        print('part1 = ',part1)\n",
    "        print('part2 = ',part2)\n",
    "        print('part3 = ',part3)\n",
    "        print('part4 = ',part4)  \n",
    "    \n",
    "    return vc_POP_Lundstorm # 1/s\n",
    "\n",
    "Te = 0.025*eV\n",
    "Ti = 0.025*eV\n",
    "\n",
    "print('vc_POP_Lundstorm = ',\"{:.3e}\".format(get_vc_POP_Lundstorm(Te,omega_LO,Ti)))\n",
    "print('tes : ',\"{:.3e}\".format(422831425610877.44))\n",
    "    \n",
    "if 1 : \n",
    "    temp = np.array([T for T in np.arange(0.01,Melting_Point*kelvin_to_eV,0.005)])\n",
    "    vc_DAC = np.array([get_vc_DAC(rho,Ti,Te*eV)*10**(-14) for Te in temp])\n",
    "    vc_POP = np.array([get_vc_POP_Lundstorm(Te*eV,omega_LO,Ti)*10**(-14) for Te in temp])\n",
    "    \n",
    "    plt.figure()\n",
    "    fig, ax = plt.subplots(figsize=(7.5,5.5))\n",
    "    fs,fs2 = 20,15\n",
    "    ax.plot(temp,vc_DAC,lw=2,c='k',label='Deformation acoustic phonon scatterings')\n",
    "    ax.plot(temp,vc_POP,lw=2,c='r',label='Polar optical phonon scatterings')\n",
    "\n",
    "    ax.legend(numpoints=1,fontsize=fs2,loc='center',bbox_to_anchor=[.9,.3])\n",
    "    ax.tick_params(which='major',length=10,labelsize=fs)\n",
    "    ax.set_xlabel(r'$T_\\mathrm{e}$(eV)',fontsize=fs)\n",
    "    ax.set_ylabel(r'Scattering rate ($10^{14}$ 1/s)',fontsize=fs)\n",
    "    ax.set_title('Optical phonon energy = 0.052 eV',fontsize=fs)\n",
    "    #ax.grid(True)\n",
    "    ax.grid(b=True, which='major', color='grey', linestyle='--')  "
   ]
  },
  {
   "cell_type": "markdown",
   "metadata": {},
   "source": [
    "# Coulomb Logarithm"
   ]
  },
  {
   "cell_type": "markdown",
   "metadata": {},
   "source": [
    "## get_nc"
   ]
  },
  {
   "cell_type": "code",
   "execution_count": 25,
   "metadata": {
    "ExecuteTime": {
     "end_time": "2023-03-01T17:58:11.272559Z",
     "start_time": "2023-03-01T17:58:11.257629Z"
    }
   },
   "outputs": [
    {
     "name": "stdout",
     "output_type": "stream",
     "text": [
      "nc_800nm [1/cm^3] =  1.7419596865359522e+21\n"
     ]
    }
   ],
   "source": [
    "def get_nc(wavelength):\n",
    "    \n",
    "    # input wavelength unit : m\n",
    "    # output nc unit        : 1/m^3\n",
    "    \n",
    "    angular_freq = 2*math.pi*(lightSpeed/wavelength)\n",
    "    ne_crit = vacuumPermittivity*massElectron*angular_freq**2/eCharge**2\n",
    "    return ne_crit # (1/m^3)\n",
    "\n",
    "nc_800nm = get_nc(wavelength_800nm) # 1/m^3\n",
    "print('nc_800nm [1/cm^3] = ',nc_800nm/10**6)"
   ]
  },
  {
   "cell_type": "markdown",
   "metadata": {},
   "source": [
    "## get_E_Fermi"
   ]
  },
  {
   "cell_type": "code",
   "execution_count": 26,
   "metadata": {
    "ExecuteTime": {
     "end_time": "2023-01-04T17:03:40.592134Z",
     "start_time": "2023-01-04T17:03:40.576207Z"
    }
   },
   "outputs": [
    {
     "name": "stdout",
     "output_type": "stream",
     "text": [
      "E_Fermi_800nm/eV =  5.286e-01\n"
     ]
    }
   ],
   "source": [
    "def get_E_Fermi(ne):\n",
    "\n",
    "    # P. 198 Statistical Mechanics Eq. (24)\n",
    "    \n",
    "    # ne : 1/m^3\n",
    "    # massElectron : kg\n",
    "    \n",
    "    # weight factor arising from internal structure e.g. spin\n",
    "    g = 2\n",
    "    \n",
    "    EF = hbar**2/(2*massElectron)*(6*np.pi**2*ne/g)**(2/3) # J\n",
    "        \n",
    "    return EF # J\n",
    "\n",
    "E_Fermi_800nm = get_E_Fermi(ne=nc_800nm)\n",
    "\n",
    "print('E_Fermi_800nm/eV = ',\"{:.3e}\".format(E_Fermi_800nm/eV))"
   ]
  },
  {
   "cell_type": "markdown",
   "metadata": {},
   "source": [
    "## get_lambda_DH"
   ]
  },
  {
   "cell_type": "code",
   "execution_count": 27,
   "metadata": {
    "ExecuteTime": {
     "end_time": "2023-01-04T17:03:43.239045Z",
     "start_time": "2023-01-04T17:03:43.223151Z"
    }
   },
   "outputs": [
    {
     "data": {
      "text/plain": [
       "4.288390250613928e-14"
      ]
     },
     "execution_count": 27,
     "metadata": {},
     "output_type": "execute_result"
    }
   ],
   "source": [
    "def get_lambda_DH(Te,Ti,ne,ni):\n",
    "        \n",
    "    # Te : J\n",
    "    # Ti : J  \n",
    "    # ne : 1/m^3\n",
    "    # ni : 1/m^3\n",
    "    \n",
    "    E_Fermi = get_E_Fermi(ne) # J    \n",
    "    T_Fermi = E_Fermi*2/3     # J\n",
    "    \n",
    "    Te_erg = Te*J_to_erg      # erg\n",
    "    Ti_erg = Ti*J_to_erg      # erg\n",
    "    Tf_erg = T_Fermi*J_to_erg # erg\n",
    "    \n",
    "    ne_gcc = ne/gcm3_to_kgm3  # g/cm^3\n",
    "    ni_gcc = ni/gcm3_to_kgm3  # g/cm^3\n",
    "        \n",
    "    part1 = 4*np.pi*ne_gcc*eCharge_ESU**2/np.sqrt(Te_erg**2+Tf_erg**2)\n",
    "    part2 = 4*np.pi*ni_gcc*eCharge_ESU**2*Z_total**2/Ti_erg\n",
    "    \n",
    "    lambda_DH_cm = (part1 + part2)**(-1/2)     # cm\n",
    "    lambda_DH    = (part1 + part2)**(-1/2)/100 # m    \n",
    "    \n",
    "    if 0 : \n",
    "        print(' >>> get_lambda_DH ... ')    \n",
    "        print('E_Fermi/eV = ',\"{:.3e}\".format(E_Fermi/eV))\n",
    "        print('T_Fermi/eV = ',\"{:.3e}\".format(T_Fermi/eV))    \n",
    "        print('part1 = ',\"{:.3e}\".format(part1))\n",
    "        print('part2 = ',\"{:.3e}\".format(part2))    \n",
    "        print('lambda_DH (m) = ',\"{:.3e}\".format(lambda_DH),\"{:.3e}\".format(3.0633571046391684E-014)) \n",
    "    \n",
    "    return lambda_DH # m\n",
    "    \n",
    "get_lambda_DH(0.025*eV,0.025*eV,10**22*100**3,3*10**22*100**3)    "
   ]
  },
  {
   "cell_type": "markdown",
   "metadata": {},
   "source": [
    "## get_R_cloest"
   ]
  },
  {
   "cell_type": "code",
   "execution_count": 28,
   "metadata": {
    "ExecuteTime": {
     "end_time": "2023-01-04T17:03:47.379658Z",
     "start_time": "2023-01-04T17:03:47.369719Z"
    }
   },
   "outputs": [
    {
     "data": {
      "text/plain": [
       "6.411885905957971e-17"
      ]
     },
     "execution_count": 28,
     "metadata": {},
     "output_type": "execute_result"
    }
   ],
   "source": [
    "def get_R_cloest(Te,Ti,ne,ni):\n",
    "    \n",
    "    lambda_DH = get_lambda_DH(Te,Ti,ne,ni) # m\n",
    "    \n",
    "    w = lambertw(2*Z_total*eCharge**2/(lambda_DH*Te)) # unitless\n",
    "    \n",
    "    R_cloest = lambda_DH*np.real(w) # m\n",
    "    \n",
    "    if 0 :\n",
    "        print('>>> get_R_cloest ... ')    \n",
    "        print('lambda_DH (m) = ',lambda_DH)\n",
    "        print('w, np.real(w) = ',w,np.real(w))\n",
    "        print('R_cloest  (m) = ',R_cloest)\n",
    "    \n",
    "    return R_cloest # m\n",
    "    \n",
    "get_R_cloest(Te,Ti,10**22*100**3,10**22*100**3)"
   ]
  },
  {
   "cell_type": "markdown",
   "metadata": {},
   "source": [
    "## get_R_Broglie"
   ]
  },
  {
   "cell_type": "code",
   "execution_count": 29,
   "metadata": {
    "ExecuteTime": {
     "end_time": "2023-01-04T17:03:52.001757Z",
     "start_time": "2023-01-04T17:03:51.993750Z"
    }
   },
   "outputs": [
    {
     "data": {
      "text/plain": [
       "1.0976946109186968e-08"
      ]
     },
     "execution_count": 29,
     "metadata": {},
     "output_type": "execute_result"
    }
   ],
   "source": [
    "def get_R_Broglie(Te):    \n",
    "    \n",
    "    R_Broglie = hbar*(2*np.pi)/np.sqrt(massElectron*Te) # m\n",
    "    \n",
    "    if 0 : \n",
    "        print(' >>> get_R_Broglie ... ')    \n",
    "        print('R_Broglie = ',R_Broglie)\n",
    "    \n",
    "    return R_Broglie # m\n",
    "    \n",
    "get_R_Broglie(0.025*eV)    "
   ]
  },
  {
   "cell_type": "markdown",
   "metadata": {},
   "source": [
    "## get_Coulomb_Log0"
   ]
  },
  {
   "cell_type": "code",
   "execution_count": 30,
   "metadata": {
    "ExecuteTime": {
     "end_time": "2023-01-04T17:03:57.954397Z",
     "start_time": "2023-01-04T17:03:57.944423Z"
    }
   },
   "outputs": [
    {
     "data": {
      "text/plain": [
       "1"
      ]
     },
     "execution_count": 30,
     "metadata": {},
     "output_type": "execute_result"
    }
   ],
   "source": [
    "def get_Coulomb_Log0(Te,ne):\n",
    "    \n",
    "    # Te : J\n",
    "    # ne : 1/m^3\n",
    "         \n",
    "    Debye_length = np.sqrt(vacuumPermittivity*Te/ne/(Z_eff*eCharge)**2) # m\n",
    "    \n",
    "    Impact_length = (Z_eff*eCharge)**2/(4*np.pi*vacuumPermittivity)/(3*Te)\n",
    "    \n",
    "    Broglie_length = hbar*(2*np.pi)/np.sqrt(massElectron*Te) # m\n",
    "    \n",
    "    bmin = min(Broglie_length,Impact_length)\n",
    "    bmax = Debye_length\n",
    "    \n",
    "    Coulomb_Log = max(np.log(bmax/bmin),1)\n",
    "    \n",
    "    if 0 :\n",
    "        print('Debye_length = ',Debye_length)\n",
    "        print('Impact_length = ',Impact_length)\n",
    "        print('Broglie_length  = ',Broglie_length)\n",
    "        print('Coulomb_Log = ',Coulomb_Log,np.log(bmax/bmin))\n",
    "        \n",
    "    return Coulomb_Log\n",
    "    \n",
    "get_Coulomb_Log0(Te=1*eV,ne=10**26)    "
   ]
  },
  {
   "cell_type": "markdown",
   "metadata": {},
   "source": [
    "## get_Coulomb_Log"
   ]
  },
  {
   "cell_type": "code",
   "execution_count": 31,
   "metadata": {
    "ExecuteTime": {
     "end_time": "2023-01-04T17:04:01.266662Z",
     "start_time": "2023-01-04T17:04:01.247713Z"
    }
   },
   "outputs": [
    {
     "data": {
      "text/plain": [
       "1"
      ]
     },
     "execution_count": 31,
     "metadata": {},
     "output_type": "execute_result"
    }
   ],
   "source": [
    "def get_Coulomb_Log(Te,Ti,ne,ni):\n",
    "         \n",
    "    R_cloest = get_R_cloest(Te,Ti,ne,ni)*0\n",
    "    \n",
    "    R_Broglie = get_R_Broglie(Te)\n",
    "    \n",
    "    lambda_DH = get_lambda_DH(Te,Ti,ne,ni)\n",
    "    \n",
    "    ai = (3/(4*np.pi*ni))**(1/3) # m\n",
    "    \n",
    "    bmin = 0.5 * max(R_cloest, R_Broglie) # m\n",
    "        \n",
    "    bmax = np.sqrt(lambda_DH**2+ai**2) # m\n",
    "    \n",
    "    Coulomb_Log = max(1/2*np.log(1+bmax**2/bmin**2),1)\n",
    "        \n",
    "    if 0 : \n",
    "        print('>>> get_Coulomb_Log ... ')        \n",
    "        print('R_cloest  (m) = ',R_cloest)\n",
    "        print('R_Broglie (m) = ',R_Broglie)\n",
    "        print('bmin (m)      = ',bmin) \n",
    "        print('lambda_DH (m) = ',lambda_DH)\n",
    "        print('ai (m)        = ',ai) \n",
    "        print('bmax (m)      = ',bmax)\n",
    "        print('Coulomb_Log   = ',Coulomb_Log)\n",
    "        \n",
    "    return Coulomb_Log\n",
    "    \n",
    "get_Coulomb_Log(0.025*eV,0.025*eV,10**22*100**3,3*10**22*100**3)     "
   ]
  },
  {
   "cell_type": "markdown",
   "metadata": {},
   "source": [
    "# Plasma Collision Frequency\n",
    "\n",
    "Plasma frequency is before light waves go inside material"
   ]
  },
  {
   "cell_type": "markdown",
   "metadata": {},
   "source": [
    "## get_mu (mu is chemical potential)"
   ]
  },
  {
   "cell_type": "code",
   "execution_count": 32,
   "metadata": {
    "ExecuteTime": {
     "end_time": "2023-01-04T17:04:05.203520Z",
     "start_time": "2023-01-04T17:04:05.193549Z"
    }
   },
   "outputs": [
    {
     "data": {
      "text/plain": [
       "-8.621078704940307e-20"
      ]
     },
     "execution_count": 32,
     "metadata": {},
     "output_type": "execute_result"
    }
   ],
   "source": [
    "def get_mu(ne,Te):\n",
    "    \n",
    "    #print('>>> get_mu ... ')  \n",
    "    \n",
    "    #To sum up, to increase the number of particles of a classical gas keeping the       volume and entropy constant, you have to change the energy of the system by a negative amount. This change in the energy (which is negative) is the chemical potential of the classical gas.\n",
    "        \n",
    "    # ne : 1/m^3\n",
    "    # Te : J\n",
    "    \n",
    "    y = hbar**3*np.pi**2*ne/np.sqrt(2)/(massElectron*Te)**(3/2)\n",
    "    \n",
    "    #print('y = ',y)\n",
    "    \n",
    "    a  = 15\n",
    "    y0 = 1.52\n",
    "    \n",
    "    if y < 1 :        \n",
    "        inside = 4*y/(2*np.pi**0.5-y)        \n",
    "        mu = Te*np.log(inside)\n",
    "        \n",
    "    if (y >= 1) and (y<2.5) :\n",
    "        inside1 = 4*y/(2*np.pi**0.5-y)\n",
    "        inside2 = (3*y/2)**(4/3)-np.pi**2/6\n",
    "        denominator1 = 1+math.exp( a*(y-y0))\n",
    "        denominator2 = 1+math.exp(-a*(y-y0))        \n",
    "        mu = Te*(np.log(inside1)/denominator1+np.sqrt(inside2)/denominator2)\n",
    "        #print(inside1,inside2)\n",
    "        #print(denominator1,denominator2)\n",
    "        #print(mu)\n",
    "        \n",
    "    if y >= 2.5 :\n",
    "        inside = (3*y/2)**(4/3)-np.pi**2/6\n",
    "        mu = Te*np.sqrt(inside)\n",
    "    \n",
    "    #print('get_mu : mu_eV = ',mu/eV,', Te_eV = ',Te/eV,', y = ',y)\n",
    "    \n",
    "    return mu # J\n",
    "\n",
    "#temp = [ T for T in np.arange(0.01,100,0.01)]\n",
    "#mu = [get_mu(10**22*100**3,Te*eV)/eV for Te in temp]\n",
    "#plt.plot(temp,mu)\n",
    "get_mu(10**22*100**3,0.25*eV)\n",
    "get_mu(10**22*100**3,0.90*eV)\n",
    "get_mu(10**22*100**3,1.90*eV)"
   ]
  },
  {
   "cell_type": "markdown",
   "metadata": {},
   "source": [
    "## Fermi_Dirac"
   ]
  },
  {
   "cell_type": "code",
   "execution_count": 33,
   "metadata": {
    "ExecuteTime": {
     "end_time": "2023-01-04T17:04:07.904575Z",
     "start_time": "2023-01-04T17:04:07.881635Z"
    }
   },
   "outputs": [
    {
     "name": "stdout",
     "output_type": "stream",
     "text": [
      "0.693147180559945\n",
      "0.8862269254527579\n"
     ]
    },
    {
     "data": {
      "text/plain": [
       "mpf('0.82247396492091884')"
      ]
     },
     "execution_count": 33,
     "metadata": {},
     "output_type": "execute_result"
    }
   ],
   "source": [
    "def Fermi_Dirac(s,x): \n",
    "    #print(s+1,-math.exp(x))\n",
    "    return -gamma(s+1)*polylog(s+1,-math.exp(x))\n",
    "    #return -gamma(s+1)\n",
    "    #return polylog(s+1,-math.exp(x))\n",
    "\n",
    "print(polylog(1,0.5))\n",
    "print(gamma(1.5))\n",
    "Fermi_Dirac(1,.00001)"
   ]
  },
  {
   "cell_type": "markdown",
   "metadata": {},
   "source": [
    "## get_mu_new"
   ]
  },
  {
   "cell_type": "code",
   "execution_count": 34,
   "metadata": {
    "ExecuteTime": {
     "end_time": "2023-01-04T17:04:11.018649Z",
     "start_time": "2023-01-04T17:04:10.984867Z"
    }
   },
   "outputs": [
    {
     "name": "stdout",
     "output_type": "stream",
     "text": [
      "mu_new =  -14.881147299083137\n",
      "mu     =  -14.88126880992447\n"
     ]
    }
   ],
   "source": [
    "def get_mu_new(ne,Te):\n",
    "    \n",
    "    y = hbar**3*np.pi**2*ne/np.sqrt(2)/(massElectron*Te)**(3/2)\n",
    "\n",
    "    def integration(x):\n",
    "        return integrate.quad(lambda t : t**0.5/(math.exp(t-x)+1), 0, 10**2)[0]\n",
    "\n",
    "    def func(x):\n",
    "        s = 0.5\n",
    "        return Fermi_Dirac(s,x).real - y\n",
    "\n",
    "    sol = scipy.optimize.root(func, 0, method='lm')\n",
    "    y_inverted = sol.x[0]\n",
    "    #print('y = ',y,'y_inverted = ',y_inverted)\n",
    "    \n",
    "    mu = y_inverted*Te # J\n",
    "    \n",
    "    return mu # J\n",
    "\n",
    "ne = 10**19*100**3\n",
    "Te = 2*eV\n",
    "print('mu_new = ',get_mu_new(ne,Te)/eV)\n",
    "print('mu     = ',get_mu(ne,Te)/eV)"
   ]
  },
  {
   "cell_type": "markdown",
   "metadata": {},
   "source": [
    "## get_FD_integral"
   ]
  },
  {
   "cell_type": "code",
   "execution_count": 35,
   "metadata": {
    "ExecuteTime": {
     "end_time": "2023-01-04T17:04:13.226565Z",
     "start_time": "2023-01-04T17:04:13.207647Z"
    }
   },
   "outputs": [
    {
     "data": {
      "text/plain": [
       "0.7334031356607263"
      ]
     },
     "execution_count": 35,
     "metadata": {},
     "output_type": "execute_result"
    }
   ],
   "source": [
    "def get_FD_integral(x):\n",
    "        \n",
    "    FD_integral = integrate.quad(lambda t:t**0.5/(1+math.exp(t-x)),0,100)[0]\n",
    "    \n",
    "    if 0 : \n",
    "        print(' >>> get_FD_integral ... ')\n",
    "        print(' FD_integral ',FD_integral)\n",
    "    \n",
    "    return FD_integral\n",
    "    \n",
    "get_FD_integral(0.1)    "
   ]
  },
  {
   "cell_type": "markdown",
   "metadata": {},
   "source": [
    "## get_vc_ion"
   ]
  },
  {
   "cell_type": "code",
   "execution_count": 36,
   "metadata": {
    "ExecuteTime": {
     "end_time": "2023-01-04T17:04:18.400282Z",
     "start_time": "2023-01-04T17:04:18.249897Z"
    }
   },
   "outputs": [
    {
     "data": {
      "text/plain": [
       "<Figure size 640x480 with 0 Axes>"
      ]
     },
     "metadata": {},
     "output_type": "display_data"
    },
    {
     "data": {
      "image/png": "[encoded data removed]",
      "text/plain": [
       "<Figure size 480x440 with 1 Axes>"
      ]
     },
     "metadata": {},
     "output_type": "display_data"
    }
   ],
   "source": [
    "def get_vc_ion(Te,Ti,ne,ni,degeneracy):\n",
    "\n",
    "    ne_gcc = ne/100**3 # g/cm^3\n",
    "    \n",
    "    Te_eV = Te/eV # eV\n",
    "    \n",
    "    Coulomb_Log = get_Coulomb_Log(Te,Ti,ne,ni) # unitless\n",
    "            \n",
    "    Zlnlambda = Coulomb_Log\n",
    "    # Ref[NRL : all quantities in CGS except Te in eV]\n",
    "    vei_NRL = 2.91*10**-6*ne_gcc*Zlnlambda/(Te_eV**1.5) # 1/s with unit [Te] in eV    \n",
    "    \n",
    "    part1 = np.sqrt(2/np.pi)/3\n",
    "    part2 = ((Z_total*eCharge**2)/(4*math.pi*vacuumPermittivity))**2\n",
    "    part3 = (4*math.pi)/(massElectron**.5*Te**1.5)\n",
    "    vei_Standard = part1 * ni * part2 * part3 * Zlnlambda \n",
    "\n",
    "    if degeneracy == 2 : vc_ion = vei_NRL\n",
    "    if degeneracy == 3 : vc_ion = vei_Standard\n",
    "    \n",
    "    if 0 : \n",
    "        print('>>>> get_vc_ion ...')\n",
    "  \n",
    "        print('vei_NRL = ',vei_NRL)\n",
    "        print('vei_Standard = ',vei_Standard)    \n",
    "     \n",
    "        \n",
    "    return vc_ion\n",
    "    \n",
    "get_vc_ion(0.025*eV,0.025*eV,10**22*100**3,3*10**22*100**3,3) \n",
    "\n",
    "if 1 : \n",
    "    temp = [ T for T in np.arange(Melting_Point*kelvin_to_eV,10,0.1)]\n",
    "    vc_ION = [get_vc_ion(T*eV,T*eV,nc_800nm,ni,3)*10**(-21) for T in temp]    \n",
    "    \n",
    "    plt.figure()\n",
    "    fig, ax = plt.subplots(figsize=(6,5.5))\n",
    "    fs,fs2 = 20,15\n",
    "    ax.plot(temp,vc_ION,lw=2,c='k')\n",
    "\n",
    "    #ax.legend(numpoints=1,fontsize=fs2,loc='center',bbox_to_anchor=[.9,.3])\n",
    "    ax.tick_params(which='major',length=10,labelsize=fs)\n",
    "    ax.set_xlabel(r'$T_\\mathrm{e}$(eV)',fontsize=fs)\n",
    "    ax.set_ylabel(r'Scattering rate ($10^{21}$ 1/s)',fontsize=fs)\n",
    "    ax.set_title('Electron-ion collision frequency',fontsize=fs)\n",
    "    #ax.grid(True)"
   ]
  },
  {
   "cell_type": "markdown",
   "metadata": {},
   "source": [
    "# Lattice Collision Frequency"
   ]
  },
  {
   "cell_type": "markdown",
   "metadata": {},
   "source": [
    "## get_vc_neutral"
   ]
  },
  {
   "cell_type": "code",
   "execution_count": 37,
   "metadata": {
    "ExecuteTime": {
     "end_time": "2023-01-04T17:04:21.798228Z",
     "start_time": "2023-01-04T17:04:21.649588Z"
    },
    "scrolled": false
   },
   "outputs": [
    {
     "data": {
      "text/plain": [
       "<Figure size 640x480 with 0 Axes>"
      ]
     },
     "metadata": {},
     "output_type": "display_data"
    },
    {
     "data": {
      "image/png": "[encoded data removed]",
      "text/plain": [
       "<Figure size 480x440 with 1 Axes>"
      ]
     },
     "metadata": {},
     "output_type": "display_data"
    }
   ],
   "source": [
    "def get_vc_neutral(Te,ni):\n",
    "    \n",
    "    sigma = np.pi*(lattice_constant)**2 # m^2\n",
    "    \n",
    "    vc_neutral = ni*sigma*np.sqrt(Te/massElectron) # 1/s\n",
    "    \n",
    "    if 0 : \n",
    "        print('>>> get_vc_neutral ... ')\n",
    "        print('vc_neutral = ',\"{:.3e}\".format(vc_neutral))\n",
    "    \n",
    "    return vc_neutral # 1/s\n",
    "    \n",
    "get_vc_neutral(0.025*eV,ni) \n",
    "\n",
    "if 1 : \n",
    "    temp = [ T for T in np.arange(Melting_Point*kelvin_to_eV,10,0.1)]\n",
    "    vc_NEU = [get_vc_neutral(T*eV,ni)*10**(-17) for T in temp]    \n",
    "    \n",
    "    plt.figure()\n",
    "    fig, ax = plt.subplots(figsize=(6,5.5))\n",
    "    fs,fs2 = 20,15\n",
    "    ax.plot(temp,vc_NEU,lw=2,c='k')\n",
    "\n",
    "    #ax.legend(numpoints=1,fontsize=fs2,loc='center',bbox_to_anchor=[.9,.3])\n",
    "    ax.tick_params(which='major',length=10,labelsize=fs)\n",
    "    ax.set_xlabel(r'$T_\\mathrm{e}$(eV)',fontsize=fs)\n",
    "    ax.set_ylabel(r'Scattering rate ($10^{17}$ 1/s)',fontsize=fs)\n",
    "    ax.set_title('Electron-neutral collision frequency',fontsize=fs)\n",
    "    #ax.grid(True)"
   ]
  },
  {
   "cell_type": "markdown",
   "metadata": {},
   "source": [
    "## get_vc"
   ]
  },
  {
   "cell_type": "code",
   "execution_count": 38,
   "metadata": {
    "ExecuteTime": {
     "end_time": "2023-01-04T17:04:25.563347Z",
     "start_time": "2023-01-04T17:04:24.415554Z"
    }
   },
   "outputs": [
    {
     "data": {
      "text/plain": [
       "<Figure size 640x480 with 0 Axes>"
      ]
     },
     "metadata": {},
     "output_type": "display_data"
    },
    {
     "data": {
      "image/png": "[encoded data removed]",
      "text/plain": [
       "<Figure size 480x440 with 1 Axes>"
      ]
     },
     "metadata": {},
     "output_type": "display_data"
    }
   ],
   "source": [
    "def get_vc(Te,Ti,ne,ni,rho):\n",
    "    \n",
    "    if 0 : \n",
    "        print('Te/eV = ',\"{:.3e}\".format(Te/eV))\n",
    "        print('Ti/eV = ',\"{:.3e}\".format(Ti/eV))\n",
    "        print('ne    = ',\"{:.3e}\".format(ne))\n",
    "        print('ni    = ',\"{:.3e}\".format(ni))        \n",
    "        print('rho   = ',\"{:.3e}\".format(rho))           \n",
    "        \n",
    "    vc_neutral = get_vc_neutral(Te,ni)        \n",
    "    \n",
    "    degeneracy = 3\n",
    "    \n",
    "    vc_ion = get_vc_ion(Te,Ti,ne,ni,degeneracy)\n",
    "    \n",
    "    Tc = Melting_Point*kelvin_to_eV*eV # J\n",
    "    \n",
    "    XPS = (np.tanh(-(Te-Tc))+1)/2\n",
    "    \n",
    "    XAM = (np.tanh(+(Te-Tc))+1)/2\n",
    "    \n",
    "    ve = math.sqrt(1.5*Te/massElectron) # m/s\n",
    "    vmpf = ve*ni**(1/3) # 1/s   \n",
    "        \n",
    "    if Te<Tc : \n",
    "        EAP_rate_avg = get_vc_DAC(rho,Ti,Te)\n",
    "        POP_rate_avg = get_vc_POP_Lundstorm(Te,omega_LO,Ti)\n",
    "        vc_new = EAP_rate_avg + POP_rate_avg*1\n",
    "\n",
    "    if (Te>=Tc) : \n",
    "        #vc_new = 1/(1/vc_neutral+1/vc_ion)\n",
    "        vc_new = 1/(1/vmpf+1/vc_ion)\n",
    "    \n",
    "    if 0 : \n",
    "        print('>>> get_vc_new ... ')     \n",
    "        print('EAP_rate_avg (1/s) = ',\"{:.3e}\".format(EAP_rate_avg))\n",
    "        print('EOP_rate_avg (1/s) = ',\"{:.3e}\".format(EOP_rate_avg)) \n",
    "        print('vc_neutral (1/s)   = ',\"{:.3e}\".format(vc_neutral))\n",
    "        print('vc_ion (1/s)       = ',\"{:.3e}\".format(vc_ion))\n",
    "        print('vc_new (1/s)       = ',\"{:.3e}\".format(vc_new),\"{:.3e}\".format(1498142804067695.8))\n",
    "    \n",
    "    return vc_new\n",
    "        \n",
    "get_vc(0.025*eV,0.025*eV,10**22*100**3,3*10**22*100**3,rho) \n",
    "\n",
    "if 1 :\n",
    "    temp = [ T for T in np.arange(0.01,100,0.01)]\n",
    "    collFreq = [get_vc(T*eV,T*eV,nc_800nm,ni,rho) for T in temp]\n",
    "    \n",
    "    plt.figure()\n",
    "    fig, ax = plt.subplots(figsize=(6,5.5))\n",
    "    fs,fs2 = 20,15\n",
    "    ax.loglog(temp,collFreq,lw=2,c='k')\n",
    "\n",
    "    #ax.legend(numpoints=1,fontsize=fs2,loc='center',bbox_to_anchor=[.9,.3])\n",
    "    ax.tick_params(which='major',length=10,labelsize=fs)\n",
    "    ax.set_xlabel(r'$T_\\mathrm{e}$(eV)',fontsize=fs)\n",
    "    ax.set_ylabel(r'Collision frequency (1/s)',fontsize=fs)\n",
    "    ax.set_title(r'$T_\\mathrm{e} = T_\\mathrm{i}$',fontsize=fs)\n",
    "    #ax.grid(True)     "
   ]
  },
  {
   "cell_type": "markdown",
   "metadata": {},
   "source": [
    "# Heat Transfer"
   ]
  },
  {
   "cell_type": "markdown",
   "metadata": {},
   "source": [
    "## get_G"
   ]
  },
  {
   "cell_type": "code",
   "execution_count": 39,
   "metadata": {
    "ExecuteTime": {
     "end_time": "2023-01-04T17:04:28.144686Z",
     "start_time": "2023-01-04T17:04:28.127709Z"
    }
   },
   "outputs": [
    {
     "name": "stdout",
     "output_type": "stream",
     "text": [
      "G(1/s/m^3) =  8.962e+37\n",
      "G/Ce/vc =  3.430e-05\n"
     ]
    }
   ],
   "source": [
    "def get_G(Ce,vc):\n",
    "    \n",
    "    # input collision frequency unit : 1/s\n",
    "    # input Ce unit : 1/m^3 \n",
    "    # output G unit : 1/m^3/s    \n",
    "    \n",
    "    #me_to_mil = 1/1836\n",
    "    me_to_mil = massElectron/min(Al_mass,O_mass)\n",
    "    #print('me_to_mil = ',me_to_mil,1/1836)\n",
    "    \n",
    "    return Ce*vc*me_to_mil #1/m^3/s\n",
    "\n",
    "Ce = 1.5*get_nc(wavelength_800nm) \n",
    "vc=10**15\n",
    "G = get_G(Ce,vc)\n",
    "print('G(1/s/m^3) = ',\"{:.3e}\".format(G))\n",
    "print('G/Ce/vc = ',\"{:.3e}\".format(G/Ce/vc))"
   ]
  },
  {
   "cell_type": "markdown",
   "metadata": {},
   "source": [
    "## get_Sq"
   ]
  },
  {
   "cell_type": "code",
   "execution_count": 40,
   "metadata": {
    "ExecuteTime": {
     "end_time": "2023-01-04T17:04:30.952615Z",
     "start_time": "2023-01-04T17:04:30.936877Z"
    }
   },
   "outputs": [
    {
     "data": {
      "text/plain": [
       "-0.0"
      ]
     },
     "execution_count": 40,
     "metadata": {},
     "output_type": "execute_result"
    }
   ],
   "source": [
    "def get_Sq(Te,Ti,q,k):\n",
    "    \n",
    "    cs = np.sqrt(bulk_modulus/rho) # m/s\n",
    "    \n",
    "    E_ph = hbar*cs*q # J\n",
    "    E_el = hbar**2*k**2/(2*massElectronReduced) # J\n",
    "    \n",
    "    Nq_i = 1/(math.exp(E_ph/Ti)-1)\n",
    "    Nq_e = 1/(math.exp(E_ph/Te)-1) \n",
    "    \n",
    "    mu = get_mu(ne,Te)\n",
    "    \n",
    "    E_Fermi = get_E_Fermi(ne)    \n",
    "    \n",
    "    E_el_BZ = hbar**2*kBZ**2/(2*massElectronReduced)\n",
    "        \n",
    "    if (E_el-mu)/Te < 100 :\n",
    "        F_k  = 1/(math.exp((E_el-mu)/Te)+1)\n",
    "        F_kq = 1/(math.exp((E_el+E_ph-mu)/Te)+1)\n",
    "    else :\n",
    "        F_k  = 0\n",
    "        F_kq = 0\n",
    "    \n",
    "    Sq = (F_kq - F_k)*(Nq_i - Nq_e)\n",
    "    \n",
    "    if 0 : \n",
    "        print('>>> get_Sq ... ')\n",
    "        print('E_ph/eV = ',E_ph/eV)\n",
    "        print('E_el/eV = ',E_el/eV)    \n",
    "        print('Nq_e = ',Nq_e)\n",
    "        print('Nq_i = ',Nq_i) \n",
    "        print('mu/eV = ',mu/eV) \n",
    "        print('E_el_BZ/eV = ',E_el_BZ/eV)\n",
    "        print('E_Fermi/eV = ',E_Fermi/eV)\n",
    "        print('(E_el-mu)/Te = ',(E_el-mu)/Te)\n",
    "        print('F_k = ',F_k)\n",
    "        print('F_kq = ',F_kq)\n",
    "        print('Sq = ',Sq)\n",
    "    \n",
    "    return Sq\n",
    "\n",
    "ne = 10**22*100**3 # 1/m^3\n",
    "#ni = n_a_CH # 1/m^3\n",
    "Te,Ti = 0.0251*eV, 0.025*eV # J    \n",
    "q = 0.1*2*pi/lattice_constant # 1/m\n",
    "k = q\n",
    "\n",
    "get_Sq(Te,Ti,q,k)    "
   ]
  },
  {
   "cell_type": "markdown",
   "metadata": {},
   "source": [
    "## get_G_ep_DAC"
   ]
  },
  {
   "cell_type": "code",
   "execution_count": 41,
   "metadata": {
    "ExecuteTime": {
     "end_time": "2023-01-04T17:04:33.730072Z",
     "start_time": "2023-01-04T17:04:33.198902Z"
    }
   },
   "outputs": [
    {
     "name": "stdout",
     "output_type": "stream",
     "text": [
      "1.693e-04\n"
     ]
    },
    {
     "name": "stderr",
     "output_type": "stream",
     "text": [
      "C:\\Users\\nickd\\OneDrive\\Documents\\GitHub\\PFURO-2023-PRIV\\Code\\pfurovenv\\Lib\\site-packages\\scipy\\integrate\\_quadpack_py.py:1233: IntegrationWarning: The maximum number of subdivisions (50) has been achieved.\n",
      "  If increasing the limit yields no improvement it is advised to analyze \n",
      "  the integrand in order to determine the difficulties.  If the position of a \n",
      "  local difficulty can be determined (singularity, discontinuity) one will \n",
      "  probably gain from splitting up the interval and calling the integrator \n",
      "  on the subranges.  Perhaps a special-purpose integrator should be used.\n",
      "  quad_r = quad(f, low, high, args=args, full_output=self.full_output,\n",
      "C:\\Users\\nickd\\OneDrive\\Documents\\GitHub\\PFURO-2023-PRIV\\Code\\pfurovenv\\Lib\\site-packages\\scipy\\integrate\\_quadpack_py.py:1233: IntegrationWarning: The occurrence of roundoff error is detected, which prevents \n",
      "  the requested tolerance from being achieved.  The error may be \n",
      "  underestimated.\n",
      "  quad_r = quad(f, low, high, args=args, full_output=self.full_output,\n"
     ]
    }
   ],
   "source": [
    "def get_G_ep_DAC(Te,Ti,rho):\n",
    "    \n",
    "    cs = np.sqrt(bulk_modulus/rho) # m/s\n",
    "\n",
    "    def f(q, k):\n",
    "\n",
    "        const = Upotential**2*massElectronReduced/(8*np.pi**3*hbar*rho) # J*m^3/s\n",
    "\n",
    "        if 0 :\n",
    "            print('const = ',const)\n",
    "            print('get_Sq(Te,Ti,q,k) = ',get_Sq(Te,Ti,q,k))\n",
    "\n",
    "        return const*k*q**3*get_Sq(Te,Ti,q,k) # J/s/m\n",
    "\n",
    "    def bounds_k():\n",
    "        return [0, kBZ]\n",
    "\n",
    "    def bounds_q(k):\n",
    "        return [0, 2*k + 2*massElectronReduced*cs/hbar]\n",
    "    \n",
    "    result = integrate.nquad(f, [bounds_q, bounds_k])[0] # J/s/m^3\n",
    "    \n",
    "    return result # J/s/m^3\n",
    "\n",
    "ne = 10**22*100**3 # 1/m^3\n",
    "Te,Ti = 0.02*eV, 0.025*eV # J  \n",
    "vc=10**15\n",
    "G_ep_DAC = get_G_ep_DAC(Te,Ti,rho)\n",
    "\n",
    "print(\"{:.3e}\".format(G_ep_DAC/(Te-Ti)/(1.5*ne)/vc))"
   ]
  },
  {
   "cell_type": "markdown",
   "metadata": {},
   "source": [
    "## get_G_ep_POP"
   ]
  },
  {
   "cell_type": "code",
   "execution_count": 42,
   "metadata": {
    "ExecuteTime": {
     "end_time": "2023-01-04T17:04:37.883304Z",
     "start_time": "2023-01-04T17:04:36.983743Z"
    }
   },
   "outputs": [
    {
     "name": "stdout",
     "output_type": "stream",
     "text": [
      "9.413e-04\n"
     ]
    }
   ],
   "source": [
    "def get_G_ep_POP(Te,Ti,rho,omega_LO):\n",
    "\n",
    "    def f(q, k):\n",
    "\n",
    "        factor = (1/varepsilon_infty - 1/varepsilon_0)/vacuumPermittivity  \n",
    "        const = omega_LO**2*massElectronReduced*eCharge**2/(8*np.pi**3*hbar)*factor\n",
    "\n",
    "        if 0 :\n",
    "            print('const = ',const)\n",
    "            print('get_Sq(Te,Ti,q,k) = ',get_Sq(Te,Ti,q,k))\n",
    "\n",
    "        return const*k/q*get_Sq(Te,Ti,q,k) # J/s/m\n",
    "\n",
    "    def bounds_k():\n",
    "        return [np.sqrt(2*massElectronReduced*omega_LO/hbar), kBZ]\n",
    "\n",
    "    def bounds_q(k):\n",
    "        return [k*(1-np.sqrt(1-hbar*omega_LO/(hbar**2*k**2/2/massElectronReduced))),\n",
    "                k*(1+np.sqrt(1+hbar*omega_LO/(hbar**2*k**2/2/massElectronReduced)))]\n",
    "    \n",
    "    result = integrate.nquad(f, [bounds_q, bounds_k])[0] # J/s/m^3\n",
    "    \n",
    "    return result # J/s/m^3\n",
    "\n",
    "ne = 10**22*100**3 # 1/m^3\n",
    "Te,Ti = 0.01*eV, 0.025*eV # J  \n",
    "vc=10**15\n",
    "G_ep_POP = get_G_ep_POP(Te,Ti,rho,omega_LO)\n",
    "\n",
    "print(\"{:.3e}\".format(G_ep_POP/(Te-Ti)/(1.5*ne)/vc))"
   ]
  },
  {
   "cell_type": "markdown",
   "metadata": {},
   "source": [
    "# Laser Propagation"
   ]
  },
  {
   "cell_type": "markdown",
   "metadata": {},
   "source": [
    "## get_pulse_read"
   ]
  },
  {
   "cell_type": "code",
   "execution_count": 43,
   "metadata": {
    "ExecuteTime": {
     "end_time": "2023-03-01T02:35:42.711417Z",
     "start_time": "2023-03-01T02:35:42.551506Z"
    }
   },
   "outputs": [
    {
     "ename": "FileNotFoundError",
     "evalue": "[Errno 2] No such file or directory: 'B:/RIGEL/from_ken/Al_Films/Sapphire_pulse.dat'",
     "output_type": "error",
     "traceback": [
      "\u001b[1;31m---------------------------------------------------------------------------\u001b[0m",
      "\u001b[1;31mFileNotFoundError\u001b[0m                         Traceback (most recent call last)",
      "Cell \u001b[1;32mIn[43], line 1\u001b[0m\n\u001b[1;32m----> 1\u001b[0m file_to_open \u001b[38;5;241m=\u001b[39m \u001b[38;5;28;43mopen\u001b[39;49m\u001b[43m(\u001b[49m\u001b[38;5;124;43m'\u001b[39;49m\u001b[38;5;124;43mB:/RIGEL/from_ken/Al_Films/Sapphire_pulse.dat\u001b[39;49m\u001b[38;5;124;43m'\u001b[39;49m\u001b[43m,\u001b[49m\u001b[38;5;124;43m'\u001b[39;49m\u001b[38;5;124;43mr\u001b[39;49m\u001b[38;5;124;43m'\u001b[39;49m\u001b[43m)\u001b[49m\n\u001b[0;32m      2\u001b[0m file_to_write \u001b[38;5;241m=\u001b[39m \u001b[38;5;28mopen\u001b[39m(\u001b[38;5;124m'\u001b[39m\u001b[38;5;124mB:/RIGEL/from_ken/Al_Films/Sapphire_pulse_4.dat\u001b[39m\u001b[38;5;124m'\u001b[39m,\u001b[38;5;124m'\u001b[39m\u001b[38;5;124mw\u001b[39m\u001b[38;5;124m'\u001b[39m)\n\u001b[0;32m      4\u001b[0m data \u001b[38;5;241m=\u001b[39m []\n",
      "File \u001b[1;32m~\\OneDrive\\Documents\\GitHub\\PFURO-2023-PRIV\\Code\\pfurovenv\\Lib\\site-packages\\IPython\\core\\interactiveshell.py:284\u001b[0m, in \u001b[0;36m_modified_open\u001b[1;34m(file, *args, **kwargs)\u001b[0m\n\u001b[0;32m    277\u001b[0m \u001b[38;5;28;01mif\u001b[39;00m file \u001b[38;5;129;01min\u001b[39;00m {\u001b[38;5;241m0\u001b[39m, \u001b[38;5;241m1\u001b[39m, \u001b[38;5;241m2\u001b[39m}:\n\u001b[0;32m    278\u001b[0m     \u001b[38;5;28;01mraise\u001b[39;00m \u001b[38;5;167;01mValueError\u001b[39;00m(\n\u001b[0;32m    279\u001b[0m         \u001b[38;5;124mf\u001b[39m\u001b[38;5;124m\"\u001b[39m\u001b[38;5;124mIPython won\u001b[39m\u001b[38;5;124m'\u001b[39m\u001b[38;5;124mt let you open fd=\u001b[39m\u001b[38;5;132;01m{\u001b[39;00mfile\u001b[38;5;132;01m}\u001b[39;00m\u001b[38;5;124m by default \u001b[39m\u001b[38;5;124m\"\u001b[39m\n\u001b[0;32m    280\u001b[0m         \u001b[38;5;124m\"\u001b[39m\u001b[38;5;124mas it is likely to crash IPython. If you know what you are doing, \u001b[39m\u001b[38;5;124m\"\u001b[39m\n\u001b[0;32m    281\u001b[0m         \u001b[38;5;124m\"\u001b[39m\u001b[38;5;124myou can use builtins\u001b[39m\u001b[38;5;124m'\u001b[39m\u001b[38;5;124m open.\u001b[39m\u001b[38;5;124m\"\u001b[39m\n\u001b[0;32m    282\u001b[0m     )\n\u001b[1;32m--> 284\u001b[0m \u001b[38;5;28;01mreturn\u001b[39;00m \u001b[43mio_open\u001b[49m\u001b[43m(\u001b[49m\u001b[43mfile\u001b[49m\u001b[43m,\u001b[49m\u001b[43m \u001b[49m\u001b[38;5;241;43m*\u001b[39;49m\u001b[43margs\u001b[49m\u001b[43m,\u001b[49m\u001b[43m \u001b[49m\u001b[38;5;241;43m*\u001b[39;49m\u001b[38;5;241;43m*\u001b[39;49m\u001b[43mkwargs\u001b[49m\u001b[43m)\u001b[49m\n",
      "\u001b[1;31mFileNotFoundError\u001b[0m: [Errno 2] No such file or directory: 'B:/RIGEL/from_ken/Al_Films/Sapphire_pulse.dat'"
     ]
    }
   ],
   "source": [
    "file_to_open = open('B:/RIGEL/from_ken/Al_Films/Sapphire_pulse.dat','r')\n",
    "file_to_write = open('B:/RIGEL/from_ken/Al_Films/Sapphire_pulse_4.dat','w')\n",
    "\n",
    "data = []\n",
    "for line in file_to_open:\n",
    "    row = [float(ele) for ele in line.split()]\n",
    "    data.append(row)\n",
    "    # print(row)\n",
    "    file_to_write.writelines([str(row[0]),' ',str(row[1]*4),'\\n'])\n",
    "data = np.array(data)\n",
    "file_to_write.close()\n",
    "\n",
    "\n",
    "\n",
    "plt.plot(data[:,0],data[:,1])\n",
    "plt.plot(data[:,0],data[:,1]*2)\n",
    "plt.plot(data[:,0],data[:,1]*3)\n",
    "plt.plot(data[:,0],data[:,1]*4)"
   ]
  },
  {
   "cell_type": "markdown",
   "metadata": {},
   "source": [
    "## get_pulse"
   ]
  },
  {
   "cell_type": "code",
   "execution_count": 44,
   "metadata": {
    "ExecuteTime": {
     "end_time": "2023-03-01T02:25:07.935804Z",
     "start_time": "2023-03-01T02:25:07.855523Z"
    }
   },
   "outputs": [
    {
     "name": "stdout",
     "output_type": "stream",
     "text": [
      "laser_pulse.shape =  (15, 2)\n",
      "initial intenisty (W/m^2) =  2.8992e+13\n"
     ]
    },
    {
     "ename": "ValueError",
     "evalue": "keyword grid_b is not recognized; valid keywords are ['size', 'width', 'color', 'tickdir', 'pad', 'labelsize', 'labelcolor', 'zorder', 'gridOn', 'tick1On', 'tick2On', 'label1On', 'label2On', 'length', 'direction', 'left', 'bottom', 'right', 'top', 'labelleft', 'labelbottom', 'labelright', 'labeltop', 'labelrotation', 'grid_agg_filter', 'grid_alpha', 'grid_animated', 'grid_antialiased', 'grid_clip_box', 'grid_clip_on', 'grid_clip_path', 'grid_color', 'grid_dash_capstyle', 'grid_dash_joinstyle', 'grid_dashes', 'grid_data', 'grid_drawstyle', 'grid_figure', 'grid_fillstyle', 'grid_gapcolor', 'grid_gid', 'grid_in_layout', 'grid_label', 'grid_linestyle', 'grid_linewidth', 'grid_marker', 'grid_markeredgecolor', 'grid_markeredgewidth', 'grid_markerfacecolor', 'grid_markerfacecoloralt', 'grid_markersize', 'grid_markevery', 'grid_mouseover', 'grid_path_effects', 'grid_picker', 'grid_pickradius', 'grid_rasterized', 'grid_sketch_params', 'grid_snap', 'grid_solid_capstyle', 'grid_solid_joinstyle', 'grid_transform', 'grid_url', 'grid_visible', 'grid_xdata', 'grid_ydata', 'grid_zorder', 'grid_aa', 'grid_c', 'grid_ds', 'grid_ls', 'grid_lw', 'grid_mec', 'grid_mew', 'grid_mfc', 'grid_mfcalt', 'grid_ms']",
     "output_type": "error",
     "traceback": [
      "\u001b[1;31m---------------------------------------------------------------------------\u001b[0m",
      "\u001b[1;31mValueError\u001b[0m                                Traceback (most recent call last)",
      "Cell \u001b[1;32mIn[44], line 26\u001b[0m\n\u001b[0;32m     23\u001b[0m ax\u001b[38;5;241m.\u001b[39mset_ylabel(\u001b[38;5;124mr\u001b[39m\u001b[38;5;124m'\u001b[39m\u001b[38;5;124mIntensity $\u001b[39m\u001b[38;5;124m\\\u001b[39m\u001b[38;5;124mmathrm\u001b[39m\u001b[38;5;124m{\u001b[39m\u001b[38;5;124m(10^\u001b[39m\u001b[38;5;132;01m{10}\u001b[39;00m\u001b[38;5;124m ~W/cm^2)}$\u001b[39m\u001b[38;5;124m'\u001b[39m,fontsize\u001b[38;5;241m=\u001b[39mfs)\n\u001b[0;32m     24\u001b[0m \u001b[38;5;66;03m#ax.set_title('Optical phonon energy = 0.052 eV',fontsize=fs)\u001b[39;00m\n\u001b[0;32m     25\u001b[0m \u001b[38;5;66;03m#ax.grid(True)\u001b[39;00m\n\u001b[1;32m---> 26\u001b[0m \u001b[43max\u001b[49m\u001b[38;5;241;43m.\u001b[39;49m\u001b[43mgrid\u001b[49m\u001b[43m(\u001b[49m\u001b[43mb\u001b[49m\u001b[38;5;241;43m=\u001b[39;49m\u001b[38;5;28;43;01mTrue\u001b[39;49;00m\u001b[43m,\u001b[49m\u001b[43m \u001b[49m\u001b[43mwhich\u001b[49m\u001b[38;5;241;43m=\u001b[39;49m\u001b[38;5;124;43m'\u001b[39;49m\u001b[38;5;124;43mmajor\u001b[39;49m\u001b[38;5;124;43m'\u001b[39;49m\u001b[43m,\u001b[49m\u001b[43m \u001b[49m\u001b[43mcolor\u001b[49m\u001b[38;5;241;43m=\u001b[39;49m\u001b[38;5;124;43m'\u001b[39;49m\u001b[38;5;124;43mgrey\u001b[39;49m\u001b[38;5;124;43m'\u001b[39;49m\u001b[43m,\u001b[49m\u001b[43m \u001b[49m\u001b[43mlinestyle\u001b[49m\u001b[38;5;241;43m=\u001b[39;49m\u001b[38;5;124;43m'\u001b[39;49m\u001b[38;5;124;43m--\u001b[39;49m\u001b[38;5;124;43m'\u001b[39;49m\u001b[43m)\u001b[49m\n\u001b[0;32m     28\u001b[0m plt\u001b[38;5;241m.\u001b[39mtight_layout()\n\u001b[0;32m     29\u001b[0m \u001b[38;5;28;01mif\u001b[39;00m \u001b[38;5;241m0\u001b[39m :\n",
      "File \u001b[1;32m~\\OneDrive\\Documents\\GitHub\\PFURO-2023-PRIV\\Code\\pfurovenv\\Lib\\site-packages\\matplotlib\\axes\\_base.py:3194\u001b[0m, in \u001b[0;36m_AxesBase.grid\u001b[1;34m(self, visible, which, axis, **kwargs)\u001b[0m\n\u001b[0;32m   3192\u001b[0m _api\u001b[38;5;241m.\u001b[39mcheck_in_list([\u001b[38;5;124m'\u001b[39m\u001b[38;5;124mx\u001b[39m\u001b[38;5;124m'\u001b[39m, \u001b[38;5;124m'\u001b[39m\u001b[38;5;124my\u001b[39m\u001b[38;5;124m'\u001b[39m, \u001b[38;5;124m'\u001b[39m\u001b[38;5;124mboth\u001b[39m\u001b[38;5;124m'\u001b[39m], axis\u001b[38;5;241m=\u001b[39maxis)\n\u001b[0;32m   3193\u001b[0m \u001b[38;5;28;01mif\u001b[39;00m axis \u001b[38;5;129;01min\u001b[39;00m [\u001b[38;5;124m'\u001b[39m\u001b[38;5;124mx\u001b[39m\u001b[38;5;124m'\u001b[39m, \u001b[38;5;124m'\u001b[39m\u001b[38;5;124mboth\u001b[39m\u001b[38;5;124m'\u001b[39m]:\n\u001b[1;32m-> 3194\u001b[0m     \u001b[38;5;28;43mself\u001b[39;49m\u001b[38;5;241;43m.\u001b[39;49m\u001b[43mxaxis\u001b[49m\u001b[38;5;241;43m.\u001b[39;49m\u001b[43mgrid\u001b[49m\u001b[43m(\u001b[49m\u001b[43mvisible\u001b[49m\u001b[43m,\u001b[49m\u001b[43m \u001b[49m\u001b[43mwhich\u001b[49m\u001b[38;5;241;43m=\u001b[39;49m\u001b[43mwhich\u001b[49m\u001b[43m,\u001b[49m\u001b[43m \u001b[49m\u001b[38;5;241;43m*\u001b[39;49m\u001b[38;5;241;43m*\u001b[39;49m\u001b[43mkwargs\u001b[49m\u001b[43m)\u001b[49m\n\u001b[0;32m   3195\u001b[0m \u001b[38;5;28;01mif\u001b[39;00m axis \u001b[38;5;129;01min\u001b[39;00m [\u001b[38;5;124m'\u001b[39m\u001b[38;5;124my\u001b[39m\u001b[38;5;124m'\u001b[39m, \u001b[38;5;124m'\u001b[39m\u001b[38;5;124mboth\u001b[39m\u001b[38;5;124m'\u001b[39m]:\n\u001b[0;32m   3196\u001b[0m     \u001b[38;5;28mself\u001b[39m\u001b[38;5;241m.\u001b[39myaxis\u001b[38;5;241m.\u001b[39mgrid(visible, which\u001b[38;5;241m=\u001b[39mwhich, \u001b[38;5;241m*\u001b[39m\u001b[38;5;241m*\u001b[39mkwargs)\n",
      "File \u001b[1;32m~\\OneDrive\\Documents\\GitHub\\PFURO-2023-PRIV\\Code\\pfurovenv\\Lib\\site-packages\\matplotlib\\axis.py:1660\u001b[0m, in \u001b[0;36mAxis.grid\u001b[1;34m(self, visible, which, **kwargs)\u001b[0m\n\u001b[0;32m   1657\u001b[0m \u001b[38;5;28;01mif\u001b[39;00m which \u001b[38;5;129;01min\u001b[39;00m [\u001b[38;5;124m'\u001b[39m\u001b[38;5;124mmajor\u001b[39m\u001b[38;5;124m'\u001b[39m, \u001b[38;5;124m'\u001b[39m\u001b[38;5;124mboth\u001b[39m\u001b[38;5;124m'\u001b[39m]:\n\u001b[0;32m   1658\u001b[0m     gridkw[\u001b[38;5;124m'\u001b[39m\u001b[38;5;124mgridOn\u001b[39m\u001b[38;5;124m'\u001b[39m] \u001b[38;5;241m=\u001b[39m (\u001b[38;5;129;01mnot\u001b[39;00m \u001b[38;5;28mself\u001b[39m\u001b[38;5;241m.\u001b[39m_major_tick_kw[\u001b[38;5;124m'\u001b[39m\u001b[38;5;124mgridOn\u001b[39m\u001b[38;5;124m'\u001b[39m]\n\u001b[0;32m   1659\u001b[0m                         \u001b[38;5;28;01mif\u001b[39;00m visible \u001b[38;5;129;01mis\u001b[39;00m \u001b[38;5;28;01mNone\u001b[39;00m \u001b[38;5;28;01melse\u001b[39;00m visible)\n\u001b[1;32m-> 1660\u001b[0m     \u001b[38;5;28;43mself\u001b[39;49m\u001b[38;5;241;43m.\u001b[39;49m\u001b[43mset_tick_params\u001b[49m\u001b[43m(\u001b[49m\u001b[43mwhich\u001b[49m\u001b[38;5;241;43m=\u001b[39;49m\u001b[38;5;124;43m'\u001b[39;49m\u001b[38;5;124;43mmajor\u001b[39;49m\u001b[38;5;124;43m'\u001b[39;49m\u001b[43m,\u001b[49m\u001b[43m \u001b[49m\u001b[38;5;241;43m*\u001b[39;49m\u001b[38;5;241;43m*\u001b[39;49m\u001b[43mgridkw\u001b[49m\u001b[43m)\u001b[49m\n\u001b[0;32m   1661\u001b[0m \u001b[38;5;28mself\u001b[39m\u001b[38;5;241m.\u001b[39mstale \u001b[38;5;241m=\u001b[39m \u001b[38;5;28;01mTrue\u001b[39;00m\n",
      "File \u001b[1;32m~\\OneDrive\\Documents\\GitHub\\PFURO-2023-PRIV\\Code\\pfurovenv\\Lib\\site-packages\\matplotlib\\axis.py:932\u001b[0m, in \u001b[0;36mAxis.set_tick_params\u001b[1;34m(self, which, reset, **kwargs)\u001b[0m\n\u001b[0;32m    919\u001b[0m \u001b[38;5;250m\u001b[39m\u001b[38;5;124;03m\"\"\"\u001b[39;00m\n\u001b[0;32m    920\u001b[0m \u001b[38;5;124;03mSet appearance parameters for ticks, ticklabels, and gridlines.\u001b[39;00m\n\u001b[0;32m    921\u001b[0m \n\u001b[1;32m   (...)\u001b[0m\n\u001b[0;32m    929\u001b[0m \u001b[38;5;124;03m    gridlines.\u001b[39;00m\n\u001b[0;32m    930\u001b[0m \u001b[38;5;124;03m\"\"\"\u001b[39;00m\n\u001b[0;32m    931\u001b[0m _api\u001b[38;5;241m.\u001b[39mcheck_in_list([\u001b[38;5;124m'\u001b[39m\u001b[38;5;124mmajor\u001b[39m\u001b[38;5;124m'\u001b[39m, \u001b[38;5;124m'\u001b[39m\u001b[38;5;124mminor\u001b[39m\u001b[38;5;124m'\u001b[39m, \u001b[38;5;124m'\u001b[39m\u001b[38;5;124mboth\u001b[39m\u001b[38;5;124m'\u001b[39m], which\u001b[38;5;241m=\u001b[39mwhich)\n\u001b[1;32m--> 932\u001b[0m kwtrans \u001b[38;5;241m=\u001b[39m \u001b[38;5;28;43mself\u001b[39;49m\u001b[38;5;241;43m.\u001b[39;49m\u001b[43m_translate_tick_params\u001b[49m\u001b[43m(\u001b[49m\u001b[43mkwargs\u001b[49m\u001b[43m)\u001b[49m\n\u001b[0;32m    934\u001b[0m \u001b[38;5;66;03m# the kwargs are stored in self._major/minor_tick_kw so that any\u001b[39;00m\n\u001b[0;32m    935\u001b[0m \u001b[38;5;66;03m# future new ticks will automatically get them\u001b[39;00m\n\u001b[0;32m    936\u001b[0m \u001b[38;5;28;01mif\u001b[39;00m reset:\n",
      "File \u001b[1;32m~\\OneDrive\\Documents\\GitHub\\PFURO-2023-PRIV\\Code\\pfurovenv\\Lib\\site-packages\\matplotlib\\axis.py:1076\u001b[0m, in \u001b[0;36mAxis._translate_tick_params\u001b[1;34m(kw, reverse)\u001b[0m\n\u001b[0;32m   1074\u001b[0m \u001b[38;5;28;01mfor\u001b[39;00m key \u001b[38;5;129;01min\u001b[39;00m kw_:\n\u001b[0;32m   1075\u001b[0m     \u001b[38;5;28;01mif\u001b[39;00m key \u001b[38;5;129;01mnot\u001b[39;00m \u001b[38;5;129;01min\u001b[39;00m allowed_keys:\n\u001b[1;32m-> 1076\u001b[0m         \u001b[38;5;28;01mraise\u001b[39;00m \u001b[38;5;167;01mValueError\u001b[39;00m(\n\u001b[0;32m   1077\u001b[0m             \u001b[38;5;124m\"\u001b[39m\u001b[38;5;124mkeyword \u001b[39m\u001b[38;5;132;01m%s\u001b[39;00m\u001b[38;5;124m is not recognized; valid keywords are \u001b[39m\u001b[38;5;132;01m%s\u001b[39;00m\u001b[38;5;124m\"\u001b[39m\n\u001b[0;32m   1078\u001b[0m             \u001b[38;5;241m%\u001b[39m (key, allowed_keys))\n\u001b[0;32m   1079\u001b[0m kwtrans\u001b[38;5;241m.\u001b[39mupdate(kw_)\n\u001b[0;32m   1080\u001b[0m \u001b[38;5;28;01mreturn\u001b[39;00m kwtrans\n",
      "\u001b[1;31mValueError\u001b[0m: keyword grid_b is not recognized; valid keywords are ['size', 'width', 'color', 'tickdir', 'pad', 'labelsize', 'labelcolor', 'zorder', 'gridOn', 'tick1On', 'tick2On', 'label1On', 'label2On', 'length', 'direction', 'left', 'bottom', 'right', 'top', 'labelleft', 'labelbottom', 'labelright', 'labeltop', 'labelrotation', 'grid_agg_filter', 'grid_alpha', 'grid_animated', 'grid_antialiased', 'grid_clip_box', 'grid_clip_on', 'grid_clip_path', 'grid_color', 'grid_dash_capstyle', 'grid_dash_joinstyle', 'grid_dashes', 'grid_data', 'grid_drawstyle', 'grid_figure', 'grid_fillstyle', 'grid_gapcolor', 'grid_gid', 'grid_in_layout', 'grid_label', 'grid_linestyle', 'grid_linewidth', 'grid_marker', 'grid_markeredgecolor', 'grid_markeredgewidth', 'grid_markerfacecolor', 'grid_markerfacecoloralt', 'grid_markersize', 'grid_markevery', 'grid_mouseover', 'grid_path_effects', 'grid_picker', 'grid_pickradius', 'grid_rasterized', 'grid_sketch_params', 'grid_snap', 'grid_solid_capstyle', 'grid_solid_joinstyle', 'grid_transform', 'grid_url', 'grid_visible', 'grid_xdata', 'grid_ydata', 'grid_zorder', 'grid_aa', 'grid_c', 'grid_ds', 'grid_ls', 'grid_lw', 'grid_mec', 'grid_mew', 'grid_mfc', 'grid_mfcalt', 'grid_ms']"
     ]
    },
    {
     "data": {
      "text/plain": [
       "<Figure size 640x480 with 0 Axes>"
      ]
     },
     "metadata": {},
     "output_type": "display_data"
    },
    {
     "data": {
      "image/png": "[encoded data removed]",
      "text/plain": [
       "<Figure size 480x440 with 1 Axes>"
      ]
     },
     "metadata": {},
     "output_type": "display_data"
    }
   ],
   "source": [
    "def get_pulse(t,Imax,sigma,mu):\n",
    "    \n",
    "    return Imax*math.exp(-(t-mu)**4/2/sigma**4)\n",
    "\n",
    "Imax = 4.78*10**9*Wcm2_to_Wm2 # J/s/m^2\n",
    "sigma = 50\n",
    "mu = 100\n",
    "\n",
    "tmin = 50\n",
    "laser_pulse = np.array([[t-tmin,get_pulse(t,Imax,sigma,mu)] for t in np.arange(tmin,200,10)])\n",
    "print('laser_pulse.shape = ',laser_pulse.shape)\n",
    "print('initial intenisty (W/m^2) = ',\"{:.4e}\".format(laser_pulse[0,1]))\n",
    "\n",
    "if 1 :\n",
    "    plt.figure()\n",
    "    fig, ax = plt.subplots(figsize=(6,5.5))\n",
    "    fs,fs2 = 20,15\n",
    "    ax.plot(laser_pulse[:,0],laser_pulse[:,1]/100**2/10**10,c='k',lw=2)\n",
    "\n",
    "    #ax.legend(numpoints=1,fontsize=fs2,loc='center',bbox_to_anchor=[.9,.3])\n",
    "    ax.tick_params(which='major',length=10,labelsize=fs)\n",
    "    ax.set_xlabel(r'Time (ps)',fontsize=fs)\n",
    "    ax.set_ylabel(r'Intensity $\\mathrm{(10^{10} ~W/cm^2)}$',fontsize=fs)\n",
    "    #ax.set_title('Optical phonon energy = 0.052 eV',fontsize=fs)\n",
    "    #ax.grid(True)\n",
    "    ax.grid(b=True, which='major', color='grey', linestyle='--')\n",
    "    \n",
    "    plt.tight_layout()\n",
    "    if 0 :\n",
    "        path_local_sapphire = '/Users/kwoo/Desktop/PostDoc/InitialPlasma/python/Sapphire/'\n",
    "        exportname = path_local_sapphire + 'Sapphire_LaserPulse'\n",
    "        print(exportname)\n",
    "        plt.savefig(exportname+'.eps',format='eps')\n",
    "        plt.savefig(exportname+'.png',dpi=500)    "
   ]
  },
  {
   "cell_type": "markdown",
   "metadata": {},
   "source": [
    "## get_WPI (photoionization)"
   ]
  },
  {
   "cell_type": "code",
   "execution_count": 45,
   "metadata": {
    "ExecuteTime": {
     "end_time": "2023-01-04T17:09:45.347765Z",
     "start_time": "2023-01-04T17:09:45.287794Z"
    },
    "scrolled": false
   },
   "outputs": [
    {
     "name": "stdout",
     "output_type": "stream",
     "text": [
      "x =  0.5 , identity_correct =  1.5707963267948961 , identity_wrong =  0.8687815422231111\n",
      "ellipE(x) =  1.4674622093394272\n",
      "ellipK(x) =  1.6857503548125963\n",
      "\n",
      "laserI  [W/m^2] =  4.963e+11\n",
      "laserE1 [V/m]   =  1.93386e+07\n",
      "laserE2 [V/m]   =  1.93386e+07\n",
      "laserE1/laserE2 =  0.9999999999999998\n",
      "bangGap [eV]    =  8.8\n",
      "omega [1/s]     =  5.3665e+15\n",
      "W_PI,W_PI_appro =  3.250e+16 1.725e+24 [1/s/cm^3]\n",
      "W_PI/W_PI_appro =  1.8842837146498825e-08\n",
      "W_PI/W_PI_2     =  1.0\n",
      "1.3459e+07\n"
     ]
    }
   ],
   "source": [
    "def Sumfunction(K1,K2,E1,E2,Nmax,x):\n",
    "    summation = 0\n",
    "    for n in range(0,Nmax+1):\n",
    "        Z1 = math.pi**2*(2*math.modf(x+1)[1] - 2*x + n)\n",
    "        Z2 = 2*K2*E2\n",
    "        z = math.sqrt(Z1/Z2)\n",
    "        summation += math.exp(-math.pi*n*(K1 - E1)/E2)*Phifunction(z)\n",
    "    return summation\n",
    "    \n",
    "def Phifunction(z):\n",
    "    integrand = lambda y: math.exp(y**2-z**2)\n",
    "    phi = integrate.quad(integrand, 0, z)\n",
    "    return phi[0]\n",
    "\n",
    "def ellipK(x):\n",
    "    integrand = lambda y: 1/math.sqrt(1-x**2*math.sin(y)**2)\n",
    "    output = integrate.quad(integrand, 0, math.pi/2)\n",
    "    return output[0]\n",
    "\n",
    "def ellipE(x):\n",
    "    integrand = lambda y: math.sqrt(1-x**2*math.sin(y)**2)\n",
    "    output = integrate.quad(integrand, 0, math.pi/2)\n",
    "    return output[0]\n",
    "\n",
    "def check_idensity():\n",
    "    x = 0.5\n",
    "    \n",
    "    identity_wrong = scipy.special.ellipk(x)*scipy.special.ellipe(math.sqrt(1-x**2)) + \\\n",
    "    scipy.special.ellipe(x)*scipy.special.ellipk(math.sqrt(1-x**2)) - \\\n",
    "    scipy.special.ellipk(x)*scipy.special.ellipk(math.sqrt(1-x**2))\n",
    "\n",
    "    identity_correct = ellipK(x)*ellipE(math.sqrt(1-x**2)) + \\\n",
    "    ellipE(x)*ellipK(math.sqrt(1-x**2)) - ellipK(x)*ellipK(math.sqrt(1-x**2))\n",
    "\n",
    "    print('x = ',x,', identity_correct = ',identity_correct,', identity_wrong = ',identity_wrong,)\n",
    "    print('ellipE(x) = ',ellipE(x))\n",
    "    print('ellipK(x) = ',ellipK(x))\n",
    "    \n",
    "check_idensity()    \n",
    "\n",
    "def WPIfunction(laserI_IN,laserE,Nmax,omega_IN,bangGap):\n",
    "    \n",
    "    # laserI_IN unit : W/m^2\n",
    "    # laserE unit : V/m\n",
    "    # omega_IN unit : 1/s\n",
    "    # bangGap  unit : J\n",
    "    \n",
    "    # laserI unit : W/cm^2\n",
    "    laserI = laserI_IN/100**2\n",
    "    \n",
    "    # definitions of gamma1 and gamma2 are different from Arnab\n",
    "    gamma = omega_IN*math.sqrt(massElectronReduced*bangGap)/(eCharge*laserE)  \n",
    "    gamma1 = gamma/(1+gamma**2)**0.5\n",
    "    gamma2 = gamma1/gamma\n",
    "    \n",
    "    elliptics = 0\n",
    "    if elliptics==0:\n",
    "        K1 = scipy.special.ellipk(gamma1)\n",
    "        K2 = scipy.special.ellipk(gamma2)\n",
    "        E1 = scipy.special.ellipe(gamma1)\n",
    "        E2 = scipy.special.ellipe(gamma2)\n",
    "    elif elliptics==1:\n",
    "        K1 = ellipk(gamma1)\n",
    "        K2 = ellipk(gamma2)\n",
    "        E1 = ellipe(gamma1)\n",
    "        E2 = ellipe(gamma2)\n",
    "    \n",
    "    # L. V. Keldysh Eq.(38)\n",
    "    bangGapEffective = 2*bangGap*E2/(math.pi*gamma1)\n",
    "    x = bangGapEffective/(hbar*omega_IN)\n",
    "    \n",
    "    Qvalue = math.sqrt(math.pi/2/K2)*Sumfunction(K1,K2,E1,E2,Nmax,x)\n",
    "    \n",
    "    # Jack's WPI is about three times smaller than Arnab's WPI\n",
    "    WPI = 2*omega_IN/(9*math.pi)*(omega_IN*massElectronReduced/(hbar*gamma1))**1.5*\\\n",
    "    Qvalue*math.exp(-math.pi*math.modf(x+1)[1]*(K1-E1)/E2)*10**-6 # 1/(s.cm^3)\n",
    "    \n",
    "    # laserI unit : J/(s.cm^2)\n",
    "    # sigma2 unit : cm.s/J^2\n",
    "    WPI_appro = sigma2*laserI**2 # 1/(s.cm^3)\n",
    "    \n",
    "    return [WPI,WPI_appro] # 1/(s.cm^3)\n",
    "\n",
    "def get_WPI(laserI,laserE,Nmax,omega_IN,bangGap):\n",
    "    \n",
    "    # laserI unit : W/cm^2\n",
    "    # laserE unit : V/m\n",
    "    # omega_IN unit : 1/s\n",
    "    # bangGap  unit : J\n",
    "    \n",
    "    # definitions of gamma1 and gamma2 are different from Arnab\n",
    "    gamma = omega_IN*math.sqrt(massElectronReduced*bangGap)/(eCharge*laserE)  \n",
    "    gamma1 = gamma/(1+gamma**2)**0.5\n",
    "    gamma2 = gamma1/gamma\n",
    "    \n",
    "    # consistent with RIGEL\n",
    "    if 0 :\n",
    "        print()\n",
    "        print('omega_IN = ',\"{:.4e}\".format(omega_IN))\n",
    "        print('massElectronReduced = ',massElectronReduced)\n",
    "        print('bangGap = ',bangGap)\n",
    "        print('laserE = ',laserE)\n",
    "        print('gamma  = ',\"{:.4e}\".format(gamma))\n",
    "        print('gamma1 = ',\"{:.4e}\".format(gamma1))\n",
    "        print('gamma2 = ',\"{:.4e}\".format(gamma2))    \n",
    "    \n",
    "    elliptics = 1\n",
    "    if elliptics==0:\n",
    "        K1 = scipy.special.ellipk(gamma1)\n",
    "        K2 = scipy.special.ellipk(gamma2)\n",
    "        E1 = scipy.special.ellipe(gamma1)\n",
    "        E2 = scipy.special.ellipe(gamma2)\n",
    "    elif elliptics==1:\n",
    "        K1 = ellipk(gamma1)\n",
    "        K2 = ellipk(gamma2)\n",
    "        E1 = ellipe(gamma1)\n",
    "        E2 = ellipe(gamma2)\n",
    "        \n",
    "    if 0 :\n",
    "        print()\n",
    "        print('K1 = ',K1)\n",
    "        print('K2 = ',K2)\n",
    "        print('E1 = ',E1)\n",
    "        print('E2 = ',E2)\n",
    "        K1 = 8.72947347444027        \n",
    "    \n",
    "    # L. V. Keldysh Eq.(38)\n",
    "    bangGapEffective = 2*bangGap*E2/(math.pi*gamma1)\n",
    "    x = bangGapEffective/(hbar*omega_IN)\n",
    "    \n",
    "    Qvalue = math.sqrt(math.pi/2/K2)*Sumfunction(K1,K2,E1,E2,Nmax,x)\n",
    "    \n",
    "    # Jack's WPI is about three times smaller than Arnab's WPI\n",
    "    WPI = 2*omega_IN/(9*math.pi)*(omega_IN*massElectronReduced/(hbar*gamma1))**1.5*\\\n",
    "    Qvalue*math.exp(-math.pi*math.modf(x+1)[1]*(K1-E1)/E2)*10**-6 # 1/(s.cm^3)\n",
    "    \n",
    "    # laserI unit : J/(s.cm^2)\n",
    "    # sigma2 unit : cm.s/J^2\n",
    "    WPI_appro = sigma2*laserI**2 # 1/(s.cm^3)\n",
    "\n",
    "    if 0 :\n",
    "        print()\n",
    "        print('bangGapEffective = ',bangGapEffective)\n",
    "        print('x = ',x)\n",
    "        print('Qvalue = ',Qvalue)\n",
    "        print('WPI [1/(s.cm^3)] = ',WPI)\n",
    "        print('WPI [1/(s.m^3)]  = ',WPI*10**6)\n",
    "    \n",
    "    #print(2*omega_IN/(9*math.pi)*(omega_IN*massElectronReduced/(hbar*gamma1))**1.5)\n",
    "    #print(math.exp(-math.pi*math.modf(x+1)[1]*(K1-E1)/E2)*10**-6)\n",
    "    #print((K1-E1)/E2)\n",
    "    #print(math.modf(x+1)[1])\n",
    "    #print(-math.pi*math.modf(x+1)[1]*(K1-E1)/E2)\n",
    "    \n",
    "    return WPI*100**3 # 1/(s.m^3)\n",
    "\n",
    "laserI0 = 100000000000000.0 #10000000000 # W/m^2\n",
    "laserI0 = laser_pulse[0,1] # W/m^2\n",
    "laserI0 = 496349837638.738\n",
    "\n",
    "omega_IN=omega_351nm\n",
    "bangGap=Eg_Sapphire\n",
    "Nmax=100\n",
    "\n",
    "laserE1 = coef_laserI_eField*math.sqrt(laserI0) # V/m\n",
    "laserE2 = math.sqrt(2*laserI0/(vacuumPermittivity*lightSpeed))  # V/m\n",
    "\n",
    "W_PI , W_PI_appro = WPIfunction(laserI_IN=laserI0,laserE=laserE2,Nmax=Nmax,\n",
    "                                omega_IN=omega_IN,bangGap=bangGap)\n",
    "W_PI_2 = get_WPI(laserI0,laserE2,Nmax,omega_IN,bangGap)\n",
    "print()\n",
    "print('laserI  [W/m^2] = ',\"{:.3e}\".format(laserI0))\n",
    "print('laserE1 [V/m]   = ',\"{:.5e}\".format(laserE1))\n",
    "print('laserE2 [V/m]   = ',\"{:.5e}\".format(laserE2))\n",
    "print('laserE1/laserE2 = ',laserE1/laserE2)\n",
    "print('bangGap [eV]    = ',bangGap/eV)\n",
    "print('omega [1/s]     = ',\"{:.4e}\".format(omega_IN))\n",
    "print('W_PI,W_PI_appro = ',\"{:.3e}\".format(W_PI),\"{:.3e}\".format(W_PI_appro),'[1/s/cm^3]')\n",
    "print('W_PI/W_PI_appro = ',W_PI/W_PI_appro)\n",
    "print('W_PI/W_PI_2     = ',W_PI*10**6/W_PI_2)\n",
    "print(\"{:.4e}\".format(13459326.5726694))"
   ]
  },
  {
   "cell_type": "markdown",
   "metadata": {},
   "source": [
    "## get_laserE"
   ]
  },
  {
   "cell_type": "code",
   "execution_count": 46,
   "metadata": {
    "ExecuteTime": {
     "end_time": "2023-01-04T17:04:47.997564Z",
     "start_time": "2023-01-04T17:04:47.991587Z"
    }
   },
   "outputs": [],
   "source": [
    "def get_laserE(laserI,RefractiveIndex):\n",
    "    \n",
    "    # input  laser intensity unit : W/m^2\n",
    "    # output electric field  unit : V/m\n",
    "    coef_laserI_eField = (2/lightSpeed/vacuumPermittivity/RefractiveIndex)**0.5\n",
    "    \n",
    "    return coef_laserI_eField*laserI**0.5 # V/m"
   ]
  },
  {
   "cell_type": "markdown",
   "metadata": {},
   "source": [
    "## get_W1 (one - electron excitation rate)"
   ]
  },
  {
   "cell_type": "code",
   "execution_count": 47,
   "metadata": {
    "ExecuteTime": {
     "end_time": "2023-01-04T17:04:51.748907Z",
     "start_time": "2023-01-04T17:04:51.735942Z"
    }
   },
   "outputs": [],
   "source": [
    "def get_W1(laserE):\n",
    "    \n",
    "    # rate of one-photon absorption in the conduction band,\n",
    "    # which evolves linearly with the laser intensity.\n",
    "    # reference : L Barilleau et al 2016 J. Phys. D: Appl. Phys. 49 485103\n",
    "\n",
    "    # input electric field  unit : V/m\n",
    "    # output W1 unit : 1/s\n",
    "\n",
    "    return 10**(-7)*laserE**2 # 1/s"
   ]
  },
  {
   "cell_type": "markdown",
   "metadata": {},
   "source": [
    "## get_f_E (Fermi-Dirac Distribution)"
   ]
  },
  {
   "cell_type": "code",
   "execution_count": 48,
   "metadata": {
    "ExecuteTime": {
     "end_time": "2023-01-04T17:04:54.617135Z",
     "start_time": "2023-01-04T17:04:54.600212Z"
    }
   },
   "outputs": [],
   "source": [
    "def get_f_E(E,Te,mu):  \n",
    "    \n",
    "    # E  : J\n",
    "    # Te : J\n",
    "    # mu : J\n",
    "    \n",
    "    return 1/(math.exp((E - mu)/Te)+1)"
   ]
  },
  {
   "cell_type": "markdown",
   "metadata": {},
   "source": [
    "## get_Ce (Cve is heat hapacity for electrons)"
   ]
  },
  {
   "cell_type": "code",
   "execution_count": 49,
   "metadata": {
    "ExecuteTime": {
     "end_time": "2023-01-04T17:05:08.366670Z",
     "start_time": "2023-01-04T17:04:56.745239Z"
    }
   },
   "outputs": [
    {
     "data": {
      "text/plain": [
       "<Figure size 640x480 with 0 Axes>"
      ]
     },
     "metadata": {},
     "output_type": "display_data"
    },
    {
     "data": {
      "image/png": "[encoded data removed]",
      "text/plain": [
       "<Figure size 480x440 with 1 Axes>"
      ]
     },
     "metadata": {},
     "output_type": "display_data"
    }
   ],
   "source": [
    "def get_Ce(ne,Te):\n",
    "    \n",
    "    # input electron number density  unit : 1/m^3\n",
    "    # output Ce unit :\n",
    "        \n",
    "    mu = get_mu_new(ne,Te) # J\n",
    "        \n",
    "    h = hbar*2*np.pi\n",
    "    \n",
    "    E_Fermi = get_E_Fermi(ne) # J  \n",
    "        \n",
    "    const = 8*np.sqrt(2)*np.pi*massElectron**(3/2)/h**3\n",
    "    \n",
    "    #emin = 0\n",
    "    #emax = 100\n",
    "    \n",
    "    #result1  = integrate.quad(lambda E:E**0.5/(math.exp(E - X)+1),emin,emax)[0]\n",
    "    #result2  = integrate.quad(lambda E:E**1.5/(math.exp(E - X)+1),emin,emax)[0]     \n",
    "    \n",
    "    X = mu/Te\n",
    "         \n",
    "    result11 = -gamma(0.5+1)*polylog(0.5+1,-math.exp(X)).real    \n",
    "    result22 = -gamma(1.5+1)*polylog(1.5+1,-math.exp(X)).real \n",
    "    \n",
    "    dTe = 1.01*Te\n",
    "    dmu = get_mu_new(ne,dTe) # J \n",
    "    dX = dmu/dTe\n",
    "        \n",
    "    result33 = -gamma(0.5+1)*polylog(0.5+1,-math.exp(dX)).real \n",
    "    result44 = -gamma(1.5+1)*polylog(1.5+1,-math.exp(dX)).real \n",
    "    \n",
    "    E0 = result22/result11*Te\n",
    "    E1 = result44/result33*dTe\n",
    "    dE = E1 - E0\n",
    "    dT = dTe-Te\n",
    "    \n",
    "    if 0 : \n",
    "        print('mu/eV = ',mu/eV)\n",
    "        print('X = mu/Te = ',mu/Te)     \n",
    "        print('E_Fermi/eV = ',E_Fermi/eV)    \n",
    "        print('dmu/eV = ',dmu/eV)\n",
    "        print('dX = ',dX)\n",
    "        print('dE/dT = ',dE/dT)\n",
    "    \n",
    "    #Ce = np.pi**2/2*(Te/E_Fermi)    \n",
    "    #Ce = 1.5*ne # 1/ m^3\n",
    "    Ce = dE/dT*ne # no unit * 1/ m^3\n",
    "    return Ce # 1/ m^3\n",
    "\n",
    "ne = 10**22*100**3\n",
    "get_Ce(ne,10*eV)\n",
    "\n",
    "Tdata = np.array([T for T in np.arange(0.025,10,.1)])\n",
    "Ce_data = np.array([get_Ce(ne,T*eV)/ne for T in Tdata])\n",
    "\n",
    "if 1 :\n",
    "    plt.figure()\n",
    "    fig, ax = plt.subplots(figsize=(6,5.5))\n",
    "    fs,fs2 = 20,15\n",
    "    ax.plot(Tdata,Ce_data,c='k',lw=2)\n",
    "\n",
    "    #ax.legend(numpoints=1,fontsize=fs2,loc='center',bbox_to_anchor=[.9,.3])\n",
    "    ax.tick_params(which='major',length=10,labelsize=fs)\n",
    "    ax.set_xlabel(r'$T_\\mathrm{e}$(eV)',fontsize=fs)\n",
    "    ax.set_ylabel(r'Heat capacity $C_\\mathrm{e}$',fontsize=fs)\n",
    "    #ax.set_title('Optical phonon energy = 0.052 eV',fontsize=fs)\n",
    "    #ax.grid(True)\n",
    "    #ax.grid(b=True, which='major', color='grey', linestyle='--')"
   ]
  },
  {
   "cell_type": "markdown",
   "metadata": {},
   "source": [
    "## get_Ci heat hapacity for lattice)"
   ]
  },
  {
   "cell_type": "code",
   "execution_count": 50,
   "metadata": {
    "ExecuteTime": {
     "end_time": "2023-01-04T17:05:08.457254Z",
     "start_time": "2023-01-04T17:05:08.441836Z"
    }
   },
   "outputs": [
    {
     "data": {
      "text/plain": [
       "3.5272487160795175e+28"
      ]
     },
     "execution_count": 50,
     "metadata": {},
     "output_type": "execute_result"
    }
   ],
   "source": [
    "def get_Ci(Ti,ni):\n",
    "    \n",
    "    T = Ti/eV/kelvin_to_eV\n",
    "    \n",
    "    if T > Cp_data[-1,0] :\n",
    "        Ci = 1.5*ni # 1/m^3\n",
    "    else:\n",
    "        for i in range(len(Cp_data)-1):\n",
    "            if (T>Cp_data[i,0]) and (T<=Cp_data[i+1,0]):\n",
    "                Cp = (Cp_data[i,1]+Cp_data[i,1])/2 # J/mol/K\n",
    "                correction = Molar_Volume*Thermal_Exp_Coef**2*Bulk_Modulus*T*1000 # J/mol/K\n",
    "                Cv = Cp - correction # J/mol/K\n",
    "                Ci = Cv*J_per_mole_per_K*ni # 1/m^3\n",
    "    \n",
    "    return Ci # 1/m^3    \n",
    "    \n",
    "get_Ci(eV,ni)    "
   ]
  },
  {
   "cell_type": "markdown",
   "metadata": {},
   "source": [
    "## get_n"
   ]
  },
  {
   "cell_type": "code",
   "execution_count": 51,
   "metadata": {
    "ExecuteTime": {
     "end_time": "2023-01-04T17:09:24.477825Z",
     "start_time": "2023-01-04T17:09:24.470845Z"
    }
   },
   "outputs": [],
   "source": [
    "def get_n(n_IN,omega_IN):\n",
    "    \n",
    "    # input n_IN : 1/m^3\n",
    "    # input omega_IN : 1/s\n",
    "    \n",
    "    n_CGS = n_IN/100**3 # 1/cm^3\n",
    "    eCharge_CGS = eCharge_ESU\n",
    "    massElectron_CGS = massElectron*1000\n",
    "    \n",
    "    omega_pe = np.sqrt(4*np.pi*n_CGS*eCharge_CGS**2/massElectron_CGS) # 1/s\n",
    "    \n",
    "    RefractiveIndex = np.sqrt(1-(omega_pe/omega_IN)**2) # unitless\n",
    "    \n",
    "    return RefractiveIndex # unitless"
   ]
  },
  {
   "cell_type": "markdown",
   "metadata": {},
   "source": [
    "## get_JH (Joule Heating)"
   ]
  },
  {
   "cell_type": "code",
   "execution_count": 52,
   "metadata": {
    "ExecuteTime": {
     "end_time": "2023-01-04T19:07:06.057508Z",
     "start_time": "2023-01-04T19:07:06.042548Z"
    }
   },
   "outputs": [],
   "source": [
    "def get_JH(n_fe,vc,omega,laserE,RefractiveIndex):\n",
    "    \n",
    "    # input eCharge unit : Coulomb\n",
    "    # input n_fe    unit : 1/m^3 \n",
    "    # input vc      unit : 1/s\n",
    "    # input massElectron unit : kg\n",
    "    # input omega unit : 1/s\n",
    "    # input laserE unit : V/m\n",
    "    # input lightSpeed unit : m/s\n",
    "    # input vacuumPermittivity unit : # C⋅V−1⋅m−1\n",
    "    \n",
    "    # output dUdt  unit : 1/m^3/s \n",
    "    # output sigma unit : 1/m\n",
    "    \n",
    "    dUdt  = eCharge**2*n_fe*vc/massElectron/(omega**2+vc**2)*laserE**2         # J/s/m^3\n",
    "    #sigma = dUdt/(laserE**2)*2/(lightSpeed*RefractiveIndex*vacuumPermittivity) # 1/m\n",
    "    sigma = dUdt/(laserE**2)/(lightSpeed*RefractiveIndex*vacuumPermittivity) # 1/m\n",
    "    #sigma = vc/(RefractiveIndex*lightSpeed)\n",
    "    return [dUdt,sigma]\n",
    "\n",
    "# Jan 4, 2023\n",
    "# The following parameters are able to reproduce RIGEL output for \"absorption_colli\"\n",
    "#get_JH(n_fe=7.182043840550881E+026,vc=96700000000000.0,omega=5.366528681791604E+015,laserE=19034362,RefractiveIndex=1)"
   ]
  },
  {
   "cell_type": "markdown",
   "metadata": {},
   "source": [
    "## get_vr (Atomic collisional frequency)"
   ]
  },
  {
   "cell_type": "code",
   "execution_count": 53,
   "metadata": {
    "ExecuteTime": {
     "end_time": "2023-01-04T17:09:27.145827Z",
     "start_time": "2023-01-04T17:09:27.127907Z"
    }
   },
   "outputs": [
    {
     "name": "stdout",
     "output_type": "stream",
     "text": [
      "1.628e+12\n"
     ]
    }
   ],
   "source": [
    "def get_vr(ne,ni):\n",
    "    \n",
    "    # ne : 1/m^3\n",
    "    # ni : 1/m^3\n",
    "\n",
    "    vr = (ne/ni)**2*10**12 # 1/s\n",
    "    \n",
    "    return vr\n",
    "    \n",
    "print(\"{:.3e}\".format(get_vr(3*10**22*100**3,ni))   )"
   ]
  },
  {
   "cell_type": "markdown",
   "metadata": {},
   "source": [
    "\n",
    "## get_main (MAKE SURE OTHER MODULES COMPILE AND RUN WELL!) (REPLACE THIS MODULE WITH MY FIELD SOLVER)"
   ]
  },
  {
   "cell_type": "code",
   "execution_count": 54,
   "metadata": {
    "ExecuteTime": {
     "end_time": "2023-01-04T22:43:19.030538Z",
     "start_time": "2023-01-04T22:42:45.677459Z"
    }
   },
   "outputs": [
    {
     "name": "stdout",
     "output_type": "stream",
     "text": [
      "time_step    =  0\n",
      "time         =  0.000e+00  ps\n",
      "time_current =  0.000e+00  ps\n",
      "time_next    =  1.000e+01  ps\n",
      "dt           =  2.669e-15  s\n",
      "laserI_INC   =  2.899e+13  W/m^2\n",
      "Te_IN/eV,  Ti_IN/eV  =  2.500e-02 2.500e-02\n",
      "Te_OUT/eV, Ti_OUT/eV =  2.500e-02 2.500e-02\n",
      "ite_max      =  3747\n",
      "time_ps,zone,I/I0 0 1 1.000e+00\n",
      "laserI               =  2.899e+13\n",
      "n_fe_new [1/m^3]     =  1.417e+01\n",
      "n_fe [1/m^3]         =  0.000e+00\n",
      "W_PI [1/s/m^3]       =  3.250e+22\n",
      "W_PI*Eg_CH [J/s/m^3] =  4.575e+04\n",
      "dUdt_JH [J/s/m^3]    =  4.420e-08\n",
      "vc [1/s]             =  2.809e+13\n",
      "omega [rad/s]        =  2.355e+15\n",
      "ni [1/m^3]           =  2.351e+28\n",
      "\n",
      "time_ps,zone,I/I0 0 2 1.000e+00\n",
      "laserI               =  2.899e+13\n",
      "n_fe_new [1/m^3]     =  1.417e+01\n",
      "n_fe [1/m^3]         =  0.000e+00\n",
      "W_PI [1/s/m^3]       =  3.250e+22\n",
      "W_PI*Eg_CH [J/s/m^3] =  4.575e+04\n",
      "dUdt_JH [J/s/m^3]    =  4.420e-08\n",
      "vc [1/s]             =  2.809e+13\n",
      "omega [rad/s]        =  2.355e+15\n",
      "ni [1/m^3]           =  2.351e+28\n",
      "\n",
      "time_ps,zone,I/I0 0 3 1.000e+00\n",
      "laserI               =  2.899e+13\n",
      "n_fe_new [1/m^3]     =  1.417e+01\n",
      "n_fe [1/m^3]         =  0.000e+00\n",
      "W_PI [1/s/m^3]       =  3.250e+22\n",
      "W_PI*Eg_CH [J/s/m^3] =  4.575e+04\n",
      "dUdt_JH [J/s/m^3]    =  4.420e-08\n",
      "vc [1/s]             =  2.809e+13\n",
      "omega [rad/s]        =  2.355e+15\n",
      "ni [1/m^3]           =  2.351e+28\n",
      "\n",
      "time_ps,zone,I/I0 0 4 1.000e+00\n",
      "laserI               =  2.899e+13\n",
      "n_fe_new [1/m^3]     =  1.417e+01\n",
      "n_fe [1/m^3]         =  0.000e+00\n",
      "W_PI [1/s/m^3]       =  3.250e+22\n",
      "W_PI*Eg_CH [J/s/m^3] =  4.575e+04\n",
      "dUdt_JH [J/s/m^3]    =  4.420e-08\n",
      "vc [1/s]             =  2.809e+13\n",
      "omega [rad/s]        =  2.355e+15\n",
      "ni [1/m^3]           =  2.351e+28\n",
      "\n",
      "time_ps,zone,I/I0 0 5 1.000e+00\n",
      "laserI               =  2.899e+13\n",
      "n_fe_new [1/m^3]     =  1.417e+01\n",
      "n_fe [1/m^3]         =  0.000e+00\n",
      "W_PI [1/s/m^3]       =  3.250e+22\n",
      "W_PI*Eg_CH [J/s/m^3] =  4.575e+04\n",
      "dUdt_JH [J/s/m^3]    =  4.420e-08\n",
      "vc [1/s]             =  2.809e+13\n",
      "omega [rad/s]        =  2.355e+15\n",
      "ni [1/m^3]           =  2.351e+28\n",
      "\n",
      "time_ps,zone,I/I0 0 6 1.000e+00\n",
      "laserI               =  2.899e+13\n",
      "n_fe_new [1/m^3]     =  1.417e+01\n",
      "n_fe [1/m^3]         =  0.000e+00\n",
      "W_PI [1/s/m^3]       =  3.250e+22\n",
      "W_PI*Eg_CH [J/s/m^3] =  4.575e+04\n",
      "dUdt_JH [J/s/m^3]    =  4.420e-08\n",
      "vc [1/s]             =  2.809e+13\n",
      "omega [rad/s]        =  2.355e+15\n",
      "ni [1/m^3]           =  2.351e+28\n",
      "\n",
      "time_ps,zone,I/I0 0 7 1.000e+00\n",
      "laserI               =  2.899e+13\n",
      "n_fe_new [1/m^3]     =  1.417e+01\n",
      "n_fe [1/m^3]         =  0.000e+00\n",
      "W_PI [1/s/m^3]       =  3.250e+22\n",
      "W_PI*Eg_CH [J/s/m^3] =  4.575e+04\n",
      "dUdt_JH [J/s/m^3]    =  4.420e-08\n",
      "vc [1/s]             =  2.809e+13\n",
      "omega [rad/s]        =  2.355e+15\n",
      "ni [1/m^3]           =  2.351e+28\n",
      "\n",
      "time_ps,zone,I/I0 0 8 1.000e+00\n",
      "laserI               =  2.899e+13\n",
      "n_fe_new [1/m^3]     =  1.417e+01\n",
      "n_fe [1/m^3]         =  0.000e+00\n",
      "W_PI [1/s/m^3]       =  3.250e+22\n",
      "W_PI*Eg_CH [J/s/m^3] =  4.575e+04\n",
      "dUdt_JH [J/s/m^3]    =  4.420e-08\n",
      "vc [1/s]             =  2.809e+13\n",
      "omega [rad/s]        =  2.355e+15\n",
      "ni [1/m^3]           =  2.351e+28\n",
      "\n",
      "time_ps,zone,I/I0 0 9 1.000e+00\n",
      "laserI               =  2.899e+13\n",
      "n_fe_new [1/m^3]     =  1.417e+01\n",
      "n_fe [1/m^3]         =  0.000e+00\n",
      "W_PI [1/s/m^3]       =  3.250e+22\n",
      "W_PI*Eg_CH [J/s/m^3] =  4.575e+04\n",
      "dUdt_JH [J/s/m^3]    =  4.420e-08\n",
      "vc [1/s]             =  2.809e+13\n",
      "omega [rad/s]        =  2.355e+15\n",
      "ni [1/m^3]           =  2.351e+28\n",
      "\n",
      "time_ps,zone,I/I0 0 10 1.000e+00\n",
      "laserI               =  2.899e+13\n",
      "n_fe_new [1/m^3]     =  1.417e+01\n",
      "n_fe [1/m^3]         =  0.000e+00\n",
      "W_PI [1/s/m^3]       =  3.250e+22\n",
      "W_PI*Eg_CH [J/s/m^3] =  4.575e+04\n",
      "dUdt_JH [J/s/m^3]    =  4.420e-08\n",
      "vc [1/s]             =  2.809e+13\n",
      "omega [rad/s]        =  2.355e+15\n",
      "ni [1/m^3]           =  2.351e+28\n",
      "\n",
      "time_ps,zone,I/I0 0 11 1.000e+00\n",
      "laserI               =  2.899e+13\n",
      "n_fe_new [1/m^3]     =  1.417e+01\n",
      "n_fe [1/m^3]         =  0.000e+00\n",
      "W_PI [1/s/m^3]       =  3.250e+22\n",
      "W_PI*Eg_CH [J/s/m^3] =  4.575e+04\n",
      "dUdt_JH [J/s/m^3]    =  4.420e-08\n",
      "vc [1/s]             =  2.809e+13\n",
      "omega [rad/s]        =  2.355e+15\n",
      "ni [1/m^3]           =  2.351e+28\n",
      "\n",
      "time_ps,zone,I/I0 0 12 1.000e+00\n",
      "laserI               =  2.899e+13\n",
      "n_fe_new [1/m^3]     =  1.417e+01\n",
      "n_fe [1/m^3]         =  0.000e+00\n",
      "W_PI [1/s/m^3]       =  3.250e+22\n",
      "W_PI*Eg_CH [J/s/m^3] =  4.575e+04\n",
      "dUdt_JH [J/s/m^3]    =  4.420e-08\n",
      "vc [1/s]             =  2.809e+13\n",
      "omega [rad/s]        =  2.355e+15\n",
      "ni [1/m^3]           =  2.351e+28\n",
      "\n",
      "time_ps,zone,I/I0 0 13 1.000e+00\n",
      "laserI               =  2.899e+13\n",
      "n_fe_new [1/m^3]     =  1.417e+01\n",
      "n_fe [1/m^3]         =  0.000e+00\n",
      "W_PI [1/s/m^3]       =  3.250e+22\n",
      "W_PI*Eg_CH [J/s/m^3] =  4.575e+04\n",
      "dUdt_JH [J/s/m^3]    =  4.420e-08\n",
      "vc [1/s]             =  2.809e+13\n",
      "omega [rad/s]        =  2.355e+15\n",
      "ni [1/m^3]           =  2.351e+28\n",
      "\n",
      "time_ps,zone,I/I0 0 14 1.000e+00\n",
      "laserI               =  2.899e+13\n",
      "n_fe_new [1/m^3]     =  1.417e+01\n",
      "n_fe [1/m^3]         =  0.000e+00\n",
      "W_PI [1/s/m^3]       =  3.250e+22\n",
      "W_PI*Eg_CH [J/s/m^3] =  4.575e+04\n",
      "dUdt_JH [J/s/m^3]    =  4.420e-08\n",
      "vc [1/s]             =  2.809e+13\n",
      "omega [rad/s]        =  2.355e+15\n",
      "ni [1/m^3]           =  2.351e+28\n",
      "\n",
      "time_ps,zone,I/I0 0 15 1.000e+00\n",
      "laserI               =  2.899e+13\n",
      "n_fe_new [1/m^3]     =  1.417e+01\n",
      "n_fe [1/m^3]         =  0.000e+00\n",
      "W_PI [1/s/m^3]       =  3.250e+22\n",
      "W_PI*Eg_CH [J/s/m^3] =  4.575e+04\n",
      "dUdt_JH [J/s/m^3]    =  4.420e-08\n",
      "vc [1/s]             =  2.809e+13\n",
      "omega [rad/s]        =  2.355e+15\n",
      "ni [1/m^3]           =  2.351e+28\n",
      "\n",
      "time_ps,zone,I/I0 0 16 1.000e+00\n",
      "laserI               =  2.899e+13\n",
      "n_fe_new [1/m^3]     =  1.417e+01\n",
      "n_fe [1/m^3]         =  0.000e+00\n",
      "W_PI [1/s/m^3]       =  3.250e+22\n",
      "W_PI*Eg_CH [J/s/m^3] =  4.575e+04\n",
      "dUdt_JH [J/s/m^3]    =  4.420e-08\n",
      "vc [1/s]             =  2.809e+13\n",
      "omega [rad/s]        =  2.355e+15\n",
      "ni [1/m^3]           =  2.351e+28\n",
      "\n",
      "time_ps,zone,I/I0 0 17 1.000e+00\n",
      "laserI               =  2.899e+13\n",
      "n_fe_new [1/m^3]     =  1.417e+01\n",
      "n_fe [1/m^3]         =  0.000e+00\n",
      "W_PI [1/s/m^3]       =  3.250e+22\n",
      "W_PI*Eg_CH [J/s/m^3] =  4.575e+04\n",
      "dUdt_JH [J/s/m^3]    =  4.420e-08\n",
      "vc [1/s]             =  2.809e+13\n",
      "omega [rad/s]        =  2.355e+15\n",
      "ni [1/m^3]           =  2.351e+28\n",
      "\n",
      "time_ps,zone,I/I0 0 18 1.000e+00\n",
      "laserI               =  2.899e+13\n",
      "n_fe_new [1/m^3]     =  1.417e+01\n",
      "n_fe [1/m^3]         =  0.000e+00\n",
      "W_PI [1/s/m^3]       =  3.250e+22\n",
      "W_PI*Eg_CH [J/s/m^3] =  4.575e+04\n",
      "dUdt_JH [J/s/m^3]    =  4.420e-08\n",
      "vc [1/s]             =  2.809e+13\n",
      "omega [rad/s]        =  2.355e+15\n",
      "ni [1/m^3]           =  2.351e+28\n",
      "\n",
      "time_ps,zone,I/I0 0 19 1.000e+00\n",
      "laserI               =  2.899e+13\n",
      "n_fe_new [1/m^3]     =  1.417e+01\n",
      "n_fe [1/m^3]         =  0.000e+00\n",
      "W_PI [1/s/m^3]       =  3.250e+22\n",
      "W_PI*Eg_CH [J/s/m^3] =  4.575e+04\n",
      "dUdt_JH [J/s/m^3]    =  4.420e-08\n",
      "vc [1/s]             =  2.809e+13\n",
      "omega [rad/s]        =  2.355e+15\n",
      "ni [1/m^3]           =  2.351e+28\n",
      "\n",
      "time_ps,zone,I/I0 0 20 1.000e+00\n",
      "laserI               =  2.899e+13\n",
      "n_fe_new [1/m^3]     =  1.417e+01\n",
      "n_fe [1/m^3]         =  0.000e+00\n",
      "W_PI [1/s/m^3]       =  3.250e+22\n",
      "W_PI*Eg_CH [J/s/m^3] =  4.575e+04\n",
      "dUdt_JH [J/s/m^3]    =  4.420e-08\n",
      "vc [1/s]             =  2.809e+13\n",
      "omega [rad/s]        =  2.355e+15\n",
      "ni [1/m^3]           =  2.351e+28\n",
      "\n",
      "time_ps,zone,I/I0 0 21 1.000e+00\n",
      "laserI               =  2.899e+13\n",
      "n_fe_new [1/m^3]     =  1.417e+01\n",
      "n_fe [1/m^3]         =  0.000e+00\n",
      "W_PI [1/s/m^3]       =  3.250e+22\n",
      "W_PI*Eg_CH [J/s/m^3] =  4.575e+04\n",
      "dUdt_JH [J/s/m^3]    =  4.420e-08\n",
      "vc [1/s]             =  2.809e+13\n",
      "omega [rad/s]        =  2.355e+15\n",
      "ni [1/m^3]           =  2.351e+28\n",
      "\n",
      "time_ps,zone,I/I0 0 22 1.000e+00\n",
      "laserI               =  2.899e+13\n",
      "n_fe_new [1/m^3]     =  1.417e+01\n",
      "n_fe [1/m^3]         =  0.000e+00\n",
      "W_PI [1/s/m^3]       =  3.250e+22\n",
      "W_PI*Eg_CH [J/s/m^3] =  4.575e+04\n",
      "dUdt_JH [J/s/m^3]    =  4.420e-08\n",
      "vc [1/s]             =  2.809e+13\n",
      "omega [rad/s]        =  2.355e+15\n",
      "ni [1/m^3]           =  2.351e+28\n",
      "\n",
      "time_ps,zone,I/I0 0 23 1.000e+00\n",
      "laserI               =  2.899e+13\n",
      "n_fe_new [1/m^3]     =  1.417e+01\n",
      "n_fe [1/m^3]         =  0.000e+00\n",
      "W_PI [1/s/m^3]       =  3.250e+22\n",
      "W_PI*Eg_CH [J/s/m^3] =  4.575e+04\n",
      "dUdt_JH [J/s/m^3]    =  4.420e-08\n",
      "vc [1/s]             =  2.809e+13\n",
      "omega [rad/s]        =  2.355e+15\n",
      "ni [1/m^3]           =  2.351e+28\n",
      "\n",
      "time_ps,zone,I/I0 0 24 1.000e+00\n",
      "laserI               =  2.899e+13\n",
      "n_fe_new [1/m^3]     =  1.417e+01\n",
      "n_fe [1/m^3]         =  0.000e+00\n",
      "W_PI [1/s/m^3]       =  3.250e+22\n",
      "W_PI*Eg_CH [J/s/m^3] =  4.575e+04\n",
      "dUdt_JH [J/s/m^3]    =  4.420e-08\n",
      "vc [1/s]             =  2.809e+13\n",
      "omega [rad/s]        =  2.355e+15\n",
      "ni [1/m^3]           =  2.351e+28\n",
      "\n",
      "time_ps,zone,I/I0 0 25 1.000e+00\n",
      "laserI               =  2.899e+13\n",
      "n_fe_new [1/m^3]     =  1.417e+01\n",
      "n_fe [1/m^3]         =  0.000e+00\n",
      "W_PI [1/s/m^3]       =  3.250e+22\n",
      "W_PI*Eg_CH [J/s/m^3] =  4.575e+04\n",
      "dUdt_JH [J/s/m^3]    =  4.420e-08\n",
      "vc [1/s]             =  2.809e+13\n",
      "omega [rad/s]        =  2.355e+15\n",
      "ni [1/m^3]           =  2.351e+28\n",
      "\n",
      "time_ps,zone,I/I0 0 26 1.000e+00\n",
      "laserI               =  2.899e+13\n",
      "n_fe_new [1/m^3]     =  1.417e+01\n",
      "n_fe [1/m^3]         =  0.000e+00\n",
      "W_PI [1/s/m^3]       =  3.250e+22\n",
      "W_PI*Eg_CH [J/s/m^3] =  4.575e+04\n",
      "dUdt_JH [J/s/m^3]    =  4.420e-08\n",
      "vc [1/s]             =  2.809e+13\n",
      "omega [rad/s]        =  2.355e+15\n",
      "ni [1/m^3]           =  2.351e+28\n",
      "\n",
      "time_ps,zone,I/I0 0 27 1.000e+00\n",
      "laserI               =  2.899e+13\n",
      "n_fe_new [1/m^3]     =  1.417e+01\n",
      "n_fe [1/m^3]         =  0.000e+00\n",
      "W_PI [1/s/m^3]       =  3.250e+22\n",
      "W_PI*Eg_CH [J/s/m^3] =  4.575e+04\n",
      "dUdt_JH [J/s/m^3]    =  4.420e-08\n",
      "vc [1/s]             =  2.809e+13\n",
      "omega [rad/s]        =  2.355e+15\n",
      "ni [1/m^3]           =  2.351e+28\n",
      "\n"
     ]
    },
    {
     "name": "stdout",
     "output_type": "stream",
     "text": [
      "time_ps,zone,I/I0 0 28 1.000e+00\n",
      "laserI               =  2.899e+13\n",
      "n_fe_new [1/m^3]     =  1.417e+01\n",
      "n_fe [1/m^3]         =  0.000e+00\n",
      "W_PI [1/s/m^3]       =  3.250e+22\n",
      "W_PI*Eg_CH [J/s/m^3] =  4.575e+04\n",
      "dUdt_JH [J/s/m^3]    =  4.420e-08\n",
      "vc [1/s]             =  2.809e+13\n",
      "omega [rad/s]        =  2.355e+15\n",
      "ni [1/m^3]           =  2.351e+28\n",
      "\n",
      "time_ps,zone,I/I0 0 29 1.000e+00\n",
      "laserI               =  2.899e+13\n",
      "n_fe_new [1/m^3]     =  1.417e+01\n",
      "n_fe [1/m^3]         =  0.000e+00\n",
      "W_PI [1/s/m^3]       =  3.250e+22\n",
      "W_PI*Eg_CH [J/s/m^3] =  4.575e+04\n",
      "dUdt_JH [J/s/m^3]    =  4.420e-08\n",
      "vc [1/s]             =  2.809e+13\n",
      "omega [rad/s]        =  2.355e+15\n",
      "ni [1/m^3]           =  2.351e+28\n",
      "\n",
      "time_ps,zone,I/I0 0 30 1.000e+00\n",
      "laserI               =  2.899e+13\n",
      "n_fe_new [1/m^3]     =  1.417e+01\n",
      "n_fe [1/m^3]         =  0.000e+00\n",
      "W_PI [1/s/m^3]       =  3.250e+22\n",
      "W_PI*Eg_CH [J/s/m^3] =  4.575e+04\n",
      "dUdt_JH [J/s/m^3]    =  4.420e-08\n",
      "vc [1/s]             =  2.809e+13\n",
      "omega [rad/s]        =  2.355e+15\n",
      "ni [1/m^3]           =  2.351e+28\n",
      "\n",
      "time_ps,zone,I/I0 0 31 1.000e+00\n",
      "laserI               =  2.899e+13\n",
      "n_fe_new [1/m^3]     =  1.417e+01\n",
      "n_fe [1/m^3]         =  0.000e+00\n",
      "W_PI [1/s/m^3]       =  3.250e+22\n",
      "W_PI*Eg_CH [J/s/m^3] =  4.575e+04\n",
      "dUdt_JH [J/s/m^3]    =  4.420e-08\n",
      "vc [1/s]             =  2.809e+13\n",
      "omega [rad/s]        =  2.355e+15\n",
      "ni [1/m^3]           =  2.351e+28\n",
      "\n",
      "time_ps,zone,I/I0 0 32 1.000e+00\n",
      "laserI               =  2.899e+13\n",
      "n_fe_new [1/m^3]     =  1.417e+01\n",
      "n_fe [1/m^3]         =  0.000e+00\n",
      "W_PI [1/s/m^3]       =  3.250e+22\n",
      "W_PI*Eg_CH [J/s/m^3] =  4.575e+04\n",
      "dUdt_JH [J/s/m^3]    =  4.420e-08\n",
      "vc [1/s]             =  2.809e+13\n",
      "omega [rad/s]        =  2.355e+15\n",
      "ni [1/m^3]           =  2.351e+28\n",
      "\n",
      "time_ps,zone,I/I0 0 33 1.000e+00\n",
      "laserI               =  2.899e+13\n",
      "n_fe_new [1/m^3]     =  1.417e+01\n",
      "n_fe [1/m^3]         =  0.000e+00\n",
      "W_PI [1/s/m^3]       =  3.250e+22\n",
      "W_PI*Eg_CH [J/s/m^3] =  4.575e+04\n",
      "dUdt_JH [J/s/m^3]    =  4.420e-08\n",
      "vc [1/s]             =  2.809e+13\n",
      "omega [rad/s]        =  2.355e+15\n",
      "ni [1/m^3]           =  2.351e+28\n",
      "\n",
      "time_ps,zone,I/I0 0 34 1.000e+00\n",
      "laserI               =  2.899e+13\n",
      "n_fe_new [1/m^3]     =  1.417e+01\n",
      "n_fe [1/m^3]         =  0.000e+00\n",
      "W_PI [1/s/m^3]       =  3.250e+22\n",
      "W_PI*Eg_CH [J/s/m^3] =  4.575e+04\n",
      "dUdt_JH [J/s/m^3]    =  4.420e-08\n",
      "vc [1/s]             =  2.809e+13\n",
      "omega [rad/s]        =  2.355e+15\n",
      "ni [1/m^3]           =  2.351e+28\n",
      "\n",
      "time_ps,zone,I/I0 0 35 1.000e+00\n",
      "laserI               =  2.899e+13\n",
      "n_fe_new [1/m^3]     =  1.417e+01\n",
      "n_fe [1/m^3]         =  0.000e+00\n",
      "W_PI [1/s/m^3]       =  3.250e+22\n",
      "W_PI*Eg_CH [J/s/m^3] =  4.575e+04\n",
      "dUdt_JH [J/s/m^3]    =  4.420e-08\n",
      "vc [1/s]             =  2.809e+13\n",
      "omega [rad/s]        =  2.355e+15\n",
      "ni [1/m^3]           =  2.351e+28\n",
      "\n",
      "time_ps,zone,I/I0 0 36 1.000e+00\n",
      "laserI               =  2.899e+13\n",
      "n_fe_new [1/m^3]     =  1.417e+01\n",
      "n_fe [1/m^3]         =  0.000e+00\n",
      "W_PI [1/s/m^3]       =  3.250e+22\n",
      "W_PI*Eg_CH [J/s/m^3] =  4.575e+04\n",
      "dUdt_JH [J/s/m^3]    =  4.420e-08\n",
      "vc [1/s]             =  2.809e+13\n",
      "omega [rad/s]        =  2.355e+15\n",
      "ni [1/m^3]           =  2.351e+28\n",
      "\n",
      "time_ps,zone,I/I0 0 37 1.000e+00\n",
      "laserI               =  2.899e+13\n",
      "n_fe_new [1/m^3]     =  1.417e+01\n",
      "n_fe [1/m^3]         =  0.000e+00\n",
      "W_PI [1/s/m^3]       =  3.250e+22\n",
      "W_PI*Eg_CH [J/s/m^3] =  4.575e+04\n",
      "dUdt_JH [J/s/m^3]    =  4.420e-08\n",
      "vc [1/s]             =  2.809e+13\n",
      "omega [rad/s]        =  2.355e+15\n",
      "ni [1/m^3]           =  2.351e+28\n",
      "\n",
      "time_ps,zone,I/I0 0 38 1.000e+00\n",
      "laserI               =  2.899e+13\n",
      "n_fe_new [1/m^3]     =  1.417e+01\n",
      "n_fe [1/m^3]         =  0.000e+00\n",
      "W_PI [1/s/m^3]       =  3.250e+22\n",
      "W_PI*Eg_CH [J/s/m^3] =  4.575e+04\n",
      "dUdt_JH [J/s/m^3]    =  4.420e-08\n",
      "vc [1/s]             =  2.809e+13\n",
      "omega [rad/s]        =  2.355e+15\n",
      "ni [1/m^3]           =  2.351e+28\n",
      "\n",
      "time_ps,zone,I/I0 0 39 1.000e+00\n",
      "laserI               =  2.899e+13\n",
      "n_fe_new [1/m^3]     =  1.417e+01\n",
      "n_fe [1/m^3]         =  0.000e+00\n",
      "W_PI [1/s/m^3]       =  3.250e+22\n",
      "W_PI*Eg_CH [J/s/m^3] =  4.575e+04\n",
      "dUdt_JH [J/s/m^3]    =  4.420e-08\n",
      "vc [1/s]             =  2.809e+13\n",
      "omega [rad/s]        =  2.355e+15\n",
      "ni [1/m^3]           =  2.351e+28\n",
      "\n",
      "time_ps,zone,I/I0 0 40 1.000e+00\n",
      "laserI               =  2.899e+13\n",
      "n_fe_new [1/m^3]     =  1.417e+01\n",
      "n_fe [1/m^3]         =  0.000e+00\n",
      "W_PI [1/s/m^3]       =  3.250e+22\n",
      "W_PI*Eg_CH [J/s/m^3] =  4.575e+04\n",
      "dUdt_JH [J/s/m^3]    =  4.420e-08\n",
      "vc [1/s]             =  2.809e+13\n",
      "omega [rad/s]        =  2.355e+15\n",
      "ni [1/m^3]           =  2.351e+28\n",
      "\n",
      "time_ps,zone,I/I0 0 41 1.000e+00\n",
      "laserI               =  2.899e+13\n",
      "n_fe_new [1/m^3]     =  1.417e+01\n",
      "n_fe [1/m^3]         =  0.000e+00\n",
      "W_PI [1/s/m^3]       =  3.250e+22\n",
      "W_PI*Eg_CH [J/s/m^3] =  4.575e+04\n",
      "dUdt_JH [J/s/m^3]    =  4.420e-08\n",
      "vc [1/s]             =  2.809e+13\n",
      "omega [rad/s]        =  2.355e+15\n",
      "ni [1/m^3]           =  2.351e+28\n",
      "\n",
      "time_ps,zone,I/I0 0 42 1.000e+00\n",
      "laserI               =  2.899e+13\n",
      "n_fe_new [1/m^3]     =  1.417e+01\n",
      "n_fe [1/m^3]         =  0.000e+00\n",
      "W_PI [1/s/m^3]       =  3.250e+22\n",
      "W_PI*Eg_CH [J/s/m^3] =  4.575e+04\n",
      "dUdt_JH [J/s/m^3]    =  4.420e-08\n",
      "vc [1/s]             =  2.809e+13\n",
      "omega [rad/s]        =  2.355e+15\n",
      "ni [1/m^3]           =  2.351e+28\n",
      "\n",
      "time_ps,zone,I/I0 0 43 1.000e+00\n",
      "laserI               =  2.899e+13\n",
      "n_fe_new [1/m^3]     =  1.417e+01\n",
      "n_fe [1/m^3]         =  0.000e+00\n",
      "W_PI [1/s/m^3]       =  3.250e+22\n",
      "W_PI*Eg_CH [J/s/m^3] =  4.575e+04\n",
      "dUdt_JH [J/s/m^3]    =  4.420e-08\n",
      "vc [1/s]             =  2.809e+13\n",
      "omega [rad/s]        =  2.355e+15\n",
      "ni [1/m^3]           =  2.351e+28\n",
      "\n",
      "time_ps,zone,I/I0 0 44 1.000e+00\n",
      "laserI               =  2.899e+13\n",
      "n_fe_new [1/m^3]     =  1.417e+01\n",
      "n_fe [1/m^3]         =  0.000e+00\n",
      "W_PI [1/s/m^3]       =  3.250e+22\n",
      "W_PI*Eg_CH [J/s/m^3] =  4.575e+04\n",
      "dUdt_JH [J/s/m^3]    =  4.420e-08\n",
      "vc [1/s]             =  2.809e+13\n",
      "omega [rad/s]        =  2.355e+15\n",
      "ni [1/m^3]           =  2.351e+28\n",
      "\n",
      "time_ps,zone,I/I0 0 45 1.000e+00\n",
      "laserI               =  2.899e+13\n",
      "n_fe_new [1/m^3]     =  1.417e+01\n",
      "n_fe [1/m^3]         =  0.000e+00\n",
      "W_PI [1/s/m^3]       =  3.250e+22\n",
      "W_PI*Eg_CH [J/s/m^3] =  4.575e+04\n",
      "dUdt_JH [J/s/m^3]    =  4.420e-08\n",
      "vc [1/s]             =  2.809e+13\n",
      "omega [rad/s]        =  2.355e+15\n",
      "ni [1/m^3]           =  2.351e+28\n",
      "\n",
      "time_ps,zone,I/I0 0 46 1.000e+00\n",
      "laserI               =  2.899e+13\n",
      "n_fe_new [1/m^3]     =  1.417e+01\n",
      "n_fe [1/m^3]         =  0.000e+00\n",
      "W_PI [1/s/m^3]       =  3.250e+22\n",
      "W_PI*Eg_CH [J/s/m^3] =  4.575e+04\n",
      "dUdt_JH [J/s/m^3]    =  4.420e-08\n",
      "vc [1/s]             =  2.809e+13\n",
      "omega [rad/s]        =  2.355e+15\n",
      "ni [1/m^3]           =  2.351e+28\n",
      "\n",
      "time_ps,zone,I/I0 0 47 1.000e+00\n",
      "laserI               =  2.899e+13\n",
      "n_fe_new [1/m^3]     =  1.417e+01\n",
      "n_fe [1/m^3]         =  0.000e+00\n",
      "W_PI [1/s/m^3]       =  3.250e+22\n",
      "W_PI*Eg_CH [J/s/m^3] =  4.575e+04\n",
      "dUdt_JH [J/s/m^3]    =  4.420e-08\n",
      "vc [1/s]             =  2.809e+13\n",
      "omega [rad/s]        =  2.355e+15\n",
      "ni [1/m^3]           =  2.351e+28\n",
      "\n",
      "time_ps,zone,I/I0 0 48 1.000e+00\n",
      "laserI               =  2.899e+13\n",
      "n_fe_new [1/m^3]     =  1.417e+01\n",
      "n_fe [1/m^3]         =  0.000e+00\n",
      "W_PI [1/s/m^3]       =  3.250e+22\n",
      "W_PI*Eg_CH [J/s/m^3] =  4.575e+04\n",
      "dUdt_JH [J/s/m^3]    =  4.420e-08\n",
      "vc [1/s]             =  2.809e+13\n",
      "omega [rad/s]        =  2.355e+15\n",
      "ni [1/m^3]           =  2.351e+28\n",
      "\n",
      "time_ps,zone,I/I0 0 49 1.000e+00\n",
      "laserI               =  2.899e+13\n",
      "n_fe_new [1/m^3]     =  1.417e+01\n",
      "n_fe [1/m^3]         =  0.000e+00\n",
      "W_PI [1/s/m^3]       =  3.250e+22\n",
      "W_PI*Eg_CH [J/s/m^3] =  4.575e+04\n",
      "dUdt_JH [J/s/m^3]    =  4.420e-08\n",
      "vc [1/s]             =  2.809e+13\n",
      "omega [rad/s]        =  2.355e+15\n",
      "ni [1/m^3]           =  2.351e+28\n",
      "\n",
      "time_ps,zone,I/I0 0 50 1.000e+00\n",
      "laserI               =  2.899e+13\n",
      "n_fe_new [1/m^3]     =  1.417e+01\n",
      "n_fe [1/m^3]         =  0.000e+00\n",
      "W_PI [1/s/m^3]       =  3.250e+22\n",
      "W_PI*Eg_CH [J/s/m^3] =  4.575e+04\n",
      "dUdt_JH [J/s/m^3]    =  4.420e-08\n",
      "vc [1/s]             =  2.809e+13\n",
      "omega [rad/s]        =  2.355e+15\n",
      "ni [1/m^3]           =  2.351e+28\n",
      "\n",
      "time_ps,zone,I/I0 0 51 1.000e+00\n",
      "laserI               =  2.899e+13\n",
      "n_fe_new [1/m^3]     =  1.417e+01\n",
      "n_fe [1/m^3]         =  0.000e+00\n",
      "W_PI [1/s/m^3]       =  3.250e+22\n",
      "W_PI*Eg_CH [J/s/m^3] =  4.575e+04\n",
      "dUdt_JH [J/s/m^3]    =  4.420e-08\n",
      "vc [1/s]             =  2.809e+13\n",
      "omega [rad/s]        =  2.355e+15\n",
      "ni [1/m^3]           =  2.351e+28\n",
      "\n",
      "time_ps,zone,I/I0 0 52 1.000e+00\n",
      "laserI               =  2.899e+13\n",
      "n_fe_new [1/m^3]     =  1.417e+01\n",
      "n_fe [1/m^3]         =  0.000e+00\n",
      "W_PI [1/s/m^3]       =  3.250e+22\n",
      "W_PI*Eg_CH [J/s/m^3] =  4.575e+04\n",
      "dUdt_JH [J/s/m^3]    =  4.420e-08\n",
      "vc [1/s]             =  2.809e+13\n",
      "omega [rad/s]        =  2.355e+15\n",
      "ni [1/m^3]           =  2.351e+28\n",
      "\n",
      "time_ps,zone,I/I0 0 53 1.000e+00\n",
      "laserI               =  2.899e+13\n",
      "n_fe_new [1/m^3]     =  1.417e+01\n",
      "n_fe [1/m^3]         =  0.000e+00\n",
      "W_PI [1/s/m^3]       =  3.250e+22\n",
      "W_PI*Eg_CH [J/s/m^3] =  4.575e+04\n",
      "dUdt_JH [J/s/m^3]    =  4.420e-08\n",
      "vc [1/s]             =  2.809e+13\n",
      "omega [rad/s]        =  2.355e+15\n",
      "ni [1/m^3]           =  2.351e+28\n",
      "\n",
      "time_ps,zone,I/I0 0 54 1.000e+00\n",
      "laserI               =  2.899e+13\n",
      "n_fe_new [1/m^3]     =  1.417e+01\n",
      "n_fe [1/m^3]         =  0.000e+00\n",
      "W_PI [1/s/m^3]       =  3.250e+22\n",
      "W_PI*Eg_CH [J/s/m^3] =  4.575e+04\n",
      "dUdt_JH [J/s/m^3]    =  4.420e-08\n",
      "vc [1/s]             =  2.809e+13\n",
      "omega [rad/s]        =  2.355e+15\n",
      "ni [1/m^3]           =  2.351e+28\n",
      "\n",
      "time_ps,zone,I/I0 0 55 1.000e+00\n",
      "laserI               =  2.899e+13\n",
      "n_fe_new [1/m^3]     =  1.417e+01\n",
      "n_fe [1/m^3]         =  0.000e+00\n",
      "W_PI [1/s/m^3]       =  3.250e+22\n",
      "W_PI*Eg_CH [J/s/m^3] =  4.575e+04\n",
      "dUdt_JH [J/s/m^3]    =  4.420e-08\n",
      "vc [1/s]             =  2.809e+13\n",
      "omega [rad/s]        =  2.355e+15\n",
      "ni [1/m^3]           =  2.351e+28\n",
      "\n",
      "time_ps,zone,I/I0 0 56 1.000e+00\n",
      "laserI               =  2.899e+13\n",
      "n_fe_new [1/m^3]     =  1.417e+01\n",
      "n_fe [1/m^3]         =  0.000e+00\n",
      "W_PI [1/s/m^3]       =  3.250e+22\n",
      "W_PI*Eg_CH [J/s/m^3] =  4.575e+04\n",
      "dUdt_JH [J/s/m^3]    =  4.420e-08\n",
      "vc [1/s]             =  2.809e+13\n",
      "omega [rad/s]        =  2.355e+15\n",
      "ni [1/m^3]           =  2.351e+28\n",
      "\n",
      "time_ps,zone,I/I0 0 57 1.000e+00\n",
      "laserI               =  2.899e+13\n",
      "n_fe_new [1/m^3]     =  1.417e+01\n",
      "n_fe [1/m^3]         =  0.000e+00\n",
      "W_PI [1/s/m^3]       =  3.250e+22\n",
      "W_PI*Eg_CH [J/s/m^3] =  4.575e+04\n",
      "dUdt_JH [J/s/m^3]    =  4.420e-08\n",
      "vc [1/s]             =  2.809e+13\n",
      "omega [rad/s]        =  2.355e+15\n",
      "ni [1/m^3]           =  2.351e+28\n",
      "\n",
      "time_ps,zone,I/I0 0 58 1.000e+00\n",
      "laserI               =  2.899e+13\n",
      "n_fe_new [1/m^3]     =  1.417e+01\n",
      "n_fe [1/m^3]         =  0.000e+00\n",
      "W_PI [1/s/m^3]       =  3.250e+22\n",
      "W_PI*Eg_CH [J/s/m^3] =  4.575e+04\n",
      "dUdt_JH [J/s/m^3]    =  4.420e-08\n",
      "vc [1/s]             =  2.809e+13\n",
      "omega [rad/s]        =  2.355e+15\n",
      "ni [1/m^3]           =  2.351e+28\n",
      "\n",
      "time_ps,zone,I/I0 0 59 1.000e+00\n",
      "laserI               =  2.899e+13\n",
      "n_fe_new [1/m^3]     =  1.417e+01\n",
      "n_fe [1/m^3]         =  0.000e+00\n",
      "W_PI [1/s/m^3]       =  3.250e+22\n",
      "W_PI*Eg_CH [J/s/m^3] =  4.575e+04\n",
      "dUdt_JH [J/s/m^3]    =  4.420e-08\n",
      "vc [1/s]             =  2.809e+13\n",
      "omega [rad/s]        =  2.355e+15\n",
      "ni [1/m^3]           =  2.351e+28\n",
      "\n",
      "time_ps,zone,I/I0 0 60 1.000e+00\n",
      "laserI               =  2.899e+13\n",
      "n_fe_new [1/m^3]     =  1.417e+01\n",
      "n_fe [1/m^3]         =  0.000e+00\n",
      "W_PI [1/s/m^3]       =  3.250e+22\n",
      "W_PI*Eg_CH [J/s/m^3] =  4.575e+04\n",
      "dUdt_JH [J/s/m^3]    =  4.420e-08\n",
      "vc [1/s]             =  2.809e+13\n",
      "omega [rad/s]        =  2.355e+15\n",
      "ni [1/m^3]           =  2.351e+28\n",
      "\n"
     ]
    },
    {
     "name": "stdout",
     "output_type": "stream",
     "text": [
      "time_ps,zone,I/I0 0 61 1.000e+00\n",
      "laserI               =  2.899e+13\n",
      "n_fe_new [1/m^3]     =  1.417e+01\n",
      "n_fe [1/m^3]         =  0.000e+00\n",
      "W_PI [1/s/m^3]       =  3.250e+22\n",
      "W_PI*Eg_CH [J/s/m^3] =  4.575e+04\n",
      "dUdt_JH [J/s/m^3]    =  4.420e-08\n",
      "vc [1/s]             =  2.809e+13\n",
      "omega [rad/s]        =  2.355e+15\n",
      "ni [1/m^3]           =  2.351e+28\n",
      "\n"
     ]
    },
    {
     "ename": "KeyboardInterrupt",
     "evalue": "",
     "output_type": "error",
     "traceback": [
      "\u001b[1;31m---------------------------------------------------------------------------\u001b[0m",
      "\u001b[1;31mKeyboardInterrupt\u001b[0m                         Traceback (most recent call last)",
      "Cell \u001b[1;32mIn[54], line 146\u001b[0m\n\u001b[0;32m    144\u001b[0m \u001b[38;5;66;03m#####################################\u001b[39;00m\n\u001b[0;32m    145\u001b[0m dUdt_JH, sigma_JH \u001b[38;5;241m=\u001b[39m get_JH(n_fe_new,vc,omega_800nm,laserE,n)\n\u001b[1;32m--> 146\u001b[0m Ce \u001b[38;5;241m=\u001b[39m \u001b[43mget_Ce\u001b[49m\u001b[43m(\u001b[49m\u001b[43mn_fe_new\u001b[49m\u001b[43m,\u001b[49m\u001b[43mTe\u001b[49m\u001b[43m)\u001b[49m \u001b[38;5;66;03m# 1/m^3\u001b[39;00m\n\u001b[0;32m    147\u001b[0m Ci \u001b[38;5;241m=\u001b[39m get_Ci(Ti,ni) \u001b[38;5;66;03m# 1/m^3 \u001b[39;00m\n\u001b[0;32m    148\u001b[0m G  \u001b[38;5;241m=\u001b[39m get_G(Ce,vc)  \u001b[38;5;66;03m# 1/m^3/s\u001b[39;00m\n",
      "Cell \u001b[1;32mIn[49], line 6\u001b[0m, in \u001b[0;36mget_Ce\u001b[1;34m(ne, Te)\u001b[0m\n\u001b[0;32m      1\u001b[0m \u001b[38;5;28;01mdef\u001b[39;00m \u001b[38;5;21mget_Ce\u001b[39m(ne,Te):\n\u001b[0;32m      2\u001b[0m     \n\u001b[0;32m      3\u001b[0m     \u001b[38;5;66;03m# input electron number density  unit : 1/m^3\u001b[39;00m\n\u001b[0;32m      4\u001b[0m     \u001b[38;5;66;03m# output Ce unit :\u001b[39;00m\n\u001b[1;32m----> 6\u001b[0m     mu \u001b[38;5;241m=\u001b[39m \u001b[43mget_mu_new\u001b[49m\u001b[43m(\u001b[49m\u001b[43mne\u001b[49m\u001b[43m,\u001b[49m\u001b[43mTe\u001b[49m\u001b[43m)\u001b[49m \u001b[38;5;66;03m# J\u001b[39;00m\n\u001b[0;32m      8\u001b[0m     h \u001b[38;5;241m=\u001b[39m hbar\u001b[38;5;241m*\u001b[39m\u001b[38;5;241m2\u001b[39m\u001b[38;5;241m*\u001b[39mnp\u001b[38;5;241m.\u001b[39mpi\n\u001b[0;32m     10\u001b[0m     E_Fermi \u001b[38;5;241m=\u001b[39m get_E_Fermi(ne) \u001b[38;5;66;03m# J  \u001b[39;00m\n",
      "Cell \u001b[1;32mIn[34], line 12\u001b[0m, in \u001b[0;36mget_mu_new\u001b[1;34m(ne, Te)\u001b[0m\n\u001b[0;32m      9\u001b[0m     s \u001b[38;5;241m=\u001b[39m \u001b[38;5;241m0.5\u001b[39m\n\u001b[0;32m     10\u001b[0m     \u001b[38;5;28;01mreturn\u001b[39;00m Fermi_Dirac(s,x)\u001b[38;5;241m.\u001b[39mreal \u001b[38;5;241m-\u001b[39m y\n\u001b[1;32m---> 12\u001b[0m sol \u001b[38;5;241m=\u001b[39m \u001b[43mscipy\u001b[49m\u001b[38;5;241;43m.\u001b[39;49m\u001b[43moptimize\u001b[49m\u001b[38;5;241;43m.\u001b[39;49m\u001b[43mroot\u001b[49m\u001b[43m(\u001b[49m\u001b[43mfunc\u001b[49m\u001b[43m,\u001b[49m\u001b[43m \u001b[49m\u001b[38;5;241;43m0\u001b[39;49m\u001b[43m,\u001b[49m\u001b[43m \u001b[49m\u001b[43mmethod\u001b[49m\u001b[38;5;241;43m=\u001b[39;49m\u001b[38;5;124;43m'\u001b[39;49m\u001b[38;5;124;43mlm\u001b[39;49m\u001b[38;5;124;43m'\u001b[39;49m\u001b[43m)\u001b[49m\n\u001b[0;32m     13\u001b[0m y_inverted \u001b[38;5;241m=\u001b[39m sol\u001b[38;5;241m.\u001b[39mx[\u001b[38;5;241m0\u001b[39m]\n\u001b[0;32m     14\u001b[0m \u001b[38;5;66;03m#print('y = ',y,'y_inverted = ',y_inverted)\u001b[39;00m\n",
      "File \u001b[1;32m~\\OneDrive\\Documents\\GitHub\\PFURO-2023-PRIV\\Code\\pfurovenv\\Lib\\site-packages\\scipy\\optimize\\_root.py:238\u001b[0m, in \u001b[0;36mroot\u001b[1;34m(fun, x0, args, method, jac, tol, callback, options)\u001b[0m\n\u001b[0;32m    236\u001b[0m     sol \u001b[38;5;241m=\u001b[39m _root_hybr(fun, x0, args\u001b[38;5;241m=\u001b[39margs, jac\u001b[38;5;241m=\u001b[39mjac, \u001b[38;5;241m*\u001b[39m\u001b[38;5;241m*\u001b[39moptions)\n\u001b[0;32m    237\u001b[0m \u001b[38;5;28;01melif\u001b[39;00m meth \u001b[38;5;241m==\u001b[39m \u001b[38;5;124m'\u001b[39m\u001b[38;5;124mlm\u001b[39m\u001b[38;5;124m'\u001b[39m:\n\u001b[1;32m--> 238\u001b[0m     sol \u001b[38;5;241m=\u001b[39m \u001b[43m_root_leastsq\u001b[49m\u001b[43m(\u001b[49m\u001b[43mfun\u001b[49m\u001b[43m,\u001b[49m\u001b[43m \u001b[49m\u001b[43mx0\u001b[49m\u001b[43m,\u001b[49m\u001b[43m \u001b[49m\u001b[43margs\u001b[49m\u001b[38;5;241;43m=\u001b[39;49m\u001b[43margs\u001b[49m\u001b[43m,\u001b[49m\u001b[43m \u001b[49m\u001b[43mjac\u001b[49m\u001b[38;5;241;43m=\u001b[39;49m\u001b[43mjac\u001b[49m\u001b[43m,\u001b[49m\u001b[43m \u001b[49m\u001b[38;5;241;43m*\u001b[39;49m\u001b[38;5;241;43m*\u001b[39;49m\u001b[43moptions\u001b[49m\u001b[43m)\u001b[49m\n\u001b[0;32m    239\u001b[0m \u001b[38;5;28;01melif\u001b[39;00m meth \u001b[38;5;241m==\u001b[39m \u001b[38;5;124m'\u001b[39m\u001b[38;5;124mdf-sane\u001b[39m\u001b[38;5;124m'\u001b[39m:\n\u001b[0;32m    240\u001b[0m     _warn_jac_unused(jac, method)\n",
      "File \u001b[1;32m~\\OneDrive\\Documents\\GitHub\\PFURO-2023-PRIV\\Code\\pfurovenv\\Lib\\site-packages\\scipy\\optimize\\_root.py:296\u001b[0m, in \u001b[0;36m_root_leastsq\u001b[1;34m(fun, x0, args, jac, col_deriv, xtol, ftol, gtol, maxiter, eps, factor, diag, **unknown_options)\u001b[0m\n\u001b[0;32m    265\u001b[0m \u001b[38;5;250m\u001b[39m\u001b[38;5;124;03m\"\"\"\u001b[39;00m\n\u001b[0;32m    266\u001b[0m \u001b[38;5;124;03mSolve for least squares with Levenberg-Marquardt\u001b[39;00m\n\u001b[0;32m    267\u001b[0m \n\u001b[1;32m   (...)\u001b[0m\n\u001b[0;32m    292\u001b[0m \u001b[38;5;124;03m    N positive entries that serve as a scale factors for the variables.\u001b[39;00m\n\u001b[0;32m    293\u001b[0m \u001b[38;5;124;03m\"\"\"\u001b[39;00m\n\u001b[0;32m    295\u001b[0m _check_unknown_options(unknown_options)\n\u001b[1;32m--> 296\u001b[0m x, cov_x, info, msg, ier \u001b[38;5;241m=\u001b[39m \u001b[43mleastsq\u001b[49m\u001b[43m(\u001b[49m\u001b[43mfun\u001b[49m\u001b[43m,\u001b[49m\u001b[43m \u001b[49m\u001b[43mx0\u001b[49m\u001b[43m,\u001b[49m\u001b[43m \u001b[49m\u001b[43margs\u001b[49m\u001b[38;5;241;43m=\u001b[39;49m\u001b[43margs\u001b[49m\u001b[43m,\u001b[49m\u001b[43m \u001b[49m\u001b[43mDfun\u001b[49m\u001b[38;5;241;43m=\u001b[39;49m\u001b[43mjac\u001b[49m\u001b[43m,\u001b[49m\n\u001b[0;32m    297\u001b[0m \u001b[43m                                   \u001b[49m\u001b[43mfull_output\u001b[49m\u001b[38;5;241;43m=\u001b[39;49m\u001b[38;5;28;43;01mTrue\u001b[39;49;00m\u001b[43m,\u001b[49m\n\u001b[0;32m    298\u001b[0m \u001b[43m                                   \u001b[49m\u001b[43mcol_deriv\u001b[49m\u001b[38;5;241;43m=\u001b[39;49m\u001b[43mcol_deriv\u001b[49m\u001b[43m,\u001b[49m\u001b[43m \u001b[49m\u001b[43mxtol\u001b[49m\u001b[38;5;241;43m=\u001b[39;49m\u001b[43mxtol\u001b[49m\u001b[43m,\u001b[49m\n\u001b[0;32m    299\u001b[0m \u001b[43m                                   \u001b[49m\u001b[43mftol\u001b[49m\u001b[38;5;241;43m=\u001b[39;49m\u001b[43mftol\u001b[49m\u001b[43m,\u001b[49m\u001b[43m \u001b[49m\u001b[43mgtol\u001b[49m\u001b[38;5;241;43m=\u001b[39;49m\u001b[43mgtol\u001b[49m\u001b[43m,\u001b[49m\n\u001b[0;32m    300\u001b[0m \u001b[43m                                   \u001b[49m\u001b[43mmaxfev\u001b[49m\u001b[38;5;241;43m=\u001b[39;49m\u001b[43mmaxiter\u001b[49m\u001b[43m,\u001b[49m\u001b[43m \u001b[49m\u001b[43mepsfcn\u001b[49m\u001b[38;5;241;43m=\u001b[39;49m\u001b[43meps\u001b[49m\u001b[43m,\u001b[49m\n\u001b[0;32m    301\u001b[0m \u001b[43m                                   \u001b[49m\u001b[43mfactor\u001b[49m\u001b[38;5;241;43m=\u001b[39;49m\u001b[43mfactor\u001b[49m\u001b[43m,\u001b[49m\u001b[43m \u001b[49m\u001b[43mdiag\u001b[49m\u001b[38;5;241;43m=\u001b[39;49m\u001b[43mdiag\u001b[49m\u001b[43m)\u001b[49m\n\u001b[0;32m    302\u001b[0m sol \u001b[38;5;241m=\u001b[39m OptimizeResult(x\u001b[38;5;241m=\u001b[39mx, message\u001b[38;5;241m=\u001b[39mmsg, status\u001b[38;5;241m=\u001b[39mier,\n\u001b[0;32m    303\u001b[0m                      success\u001b[38;5;241m=\u001b[39mier \u001b[38;5;129;01min\u001b[39;00m (\u001b[38;5;241m1\u001b[39m, \u001b[38;5;241m2\u001b[39m, \u001b[38;5;241m3\u001b[39m, \u001b[38;5;241m4\u001b[39m), cov_x\u001b[38;5;241m=\u001b[39mcov_x,\n\u001b[0;32m    304\u001b[0m                      fun\u001b[38;5;241m=\u001b[39minfo\u001b[38;5;241m.\u001b[39mpop(\u001b[38;5;124m'\u001b[39m\u001b[38;5;124mfvec\u001b[39m\u001b[38;5;124m'\u001b[39m))\n\u001b[0;32m    305\u001b[0m sol\u001b[38;5;241m.\u001b[39mupdate(info)\n",
      "File \u001b[1;32m~\\OneDrive\\Documents\\GitHub\\PFURO-2023-PRIV\\Code\\pfurovenv\\Lib\\site-packages\\scipy\\optimize\\_minpack_py.py:428\u001b[0m, in \u001b[0;36mleastsq\u001b[1;34m(func, x0, args, Dfun, full_output, col_deriv, ftol, xtol, gtol, maxfev, epsfcn, factor, diag)\u001b[0m\n\u001b[0;32m    426\u001b[0m     \u001b[38;5;28;01mif\u001b[39;00m maxfev \u001b[38;5;241m==\u001b[39m \u001b[38;5;241m0\u001b[39m:\n\u001b[0;32m    427\u001b[0m         maxfev \u001b[38;5;241m=\u001b[39m \u001b[38;5;241m200\u001b[39m\u001b[38;5;241m*\u001b[39m(n \u001b[38;5;241m+\u001b[39m \u001b[38;5;241m1\u001b[39m)\n\u001b[1;32m--> 428\u001b[0m     retval \u001b[38;5;241m=\u001b[39m \u001b[43m_minpack\u001b[49m\u001b[38;5;241;43m.\u001b[39;49m\u001b[43m_lmdif\u001b[49m\u001b[43m(\u001b[49m\u001b[43mfunc\u001b[49m\u001b[43m,\u001b[49m\u001b[43m \u001b[49m\u001b[43mx0\u001b[49m\u001b[43m,\u001b[49m\u001b[43m \u001b[49m\u001b[43margs\u001b[49m\u001b[43m,\u001b[49m\u001b[43m \u001b[49m\u001b[43mfull_output\u001b[49m\u001b[43m,\u001b[49m\u001b[43m \u001b[49m\u001b[43mftol\u001b[49m\u001b[43m,\u001b[49m\u001b[43m \u001b[49m\u001b[43mxtol\u001b[49m\u001b[43m,\u001b[49m\n\u001b[0;32m    429\u001b[0m \u001b[43m                             \u001b[49m\u001b[43mgtol\u001b[49m\u001b[43m,\u001b[49m\u001b[43m \u001b[49m\u001b[43mmaxfev\u001b[49m\u001b[43m,\u001b[49m\u001b[43m \u001b[49m\u001b[43mepsfcn\u001b[49m\u001b[43m,\u001b[49m\u001b[43m \u001b[49m\u001b[43mfactor\u001b[49m\u001b[43m,\u001b[49m\u001b[43m \u001b[49m\u001b[43mdiag\u001b[49m\u001b[43m)\u001b[49m\n\u001b[0;32m    430\u001b[0m \u001b[38;5;28;01melse\u001b[39;00m:\n\u001b[0;32m    431\u001b[0m     \u001b[38;5;28;01mif\u001b[39;00m col_deriv:\n",
      "Cell \u001b[1;32mIn[34], line 10\u001b[0m, in \u001b[0;36mget_mu_new.<locals>.func\u001b[1;34m(x)\u001b[0m\n\u001b[0;32m      8\u001b[0m \u001b[38;5;28;01mdef\u001b[39;00m \u001b[38;5;21mfunc\u001b[39m(x):\n\u001b[0;32m      9\u001b[0m     s \u001b[38;5;241m=\u001b[39m \u001b[38;5;241m0.5\u001b[39m\n\u001b[1;32m---> 10\u001b[0m     \u001b[38;5;28;01mreturn\u001b[39;00m \u001b[43mFermi_Dirac\u001b[49m\u001b[43m(\u001b[49m\u001b[43ms\u001b[49m\u001b[43m,\u001b[49m\u001b[43mx\u001b[49m\u001b[43m)\u001b[49m\u001b[38;5;241m.\u001b[39mreal \u001b[38;5;241m-\u001b[39m y\n",
      "Cell \u001b[1;32mIn[33], line 3\u001b[0m, in \u001b[0;36mFermi_Dirac\u001b[1;34m(s, x)\u001b[0m\n\u001b[0;32m      1\u001b[0m \u001b[38;5;28;01mdef\u001b[39;00m \u001b[38;5;21mFermi_Dirac\u001b[39m(s,x): \n\u001b[0;32m      2\u001b[0m     \u001b[38;5;66;03m#print(s+1,-math.exp(x))\u001b[39;00m\n\u001b[1;32m----> 3\u001b[0m     \u001b[38;5;28;01mreturn\u001b[39;00m \u001b[38;5;241;43m-\u001b[39;49m\u001b[43mgamma\u001b[49m\u001b[43m(\u001b[49m\u001b[43ms\u001b[49m\u001b[38;5;241;43m+\u001b[39;49m\u001b[38;5;241;43m1\u001b[39;49m\u001b[43m)\u001b[49m\u001b[38;5;241;43m*\u001b[39;49m\u001b[43mpolylog\u001b[49m\u001b[43m(\u001b[49m\u001b[43ms\u001b[49m\u001b[38;5;241;43m+\u001b[39;49m\u001b[38;5;241;43m1\u001b[39;49m\u001b[43m,\u001b[49m\u001b[38;5;241;43m-\u001b[39;49m\u001b[43mmath\u001b[49m\u001b[38;5;241;43m.\u001b[39;49m\u001b[43mexp\u001b[49m\u001b[43m(\u001b[49m\u001b[43mx\u001b[49m\u001b[43m)\u001b[49m\u001b[43m)\u001b[49m\n",
      "File \u001b[1;32m<string>:5\u001b[0m, in \u001b[0;36m__mul__\u001b[1;34m(self, other)\u001b[0m\n",
      "\u001b[1;31mKeyboardInterrupt\u001b[0m: "
     ]
    }
   ],
   "source": [
    "#### MESH AND CFL ####\n",
    "Thickness = 1000 # um CHANGE THIS TO 1000 NANOM\n",
    "Nz = int(Thickness*um/wavelength_800nm) # CHANGE THE 800NM TO 351NANOM\n",
    "dz = wavelength_800nm # m  # CHANGE THE 800NM TO 351NANOM\n",
    "dt = dz/lightSpeed*1 # s\n",
    "# \n",
    "#laserI_probe_INC = probe_intensity # W/m^2 # laser intensity of probe pulse\n",
    "alpha        = 10**(14)  # 1/s # rate of impact ionization\n",
    "taur         = 10**(-12)*1000 # s   # electron recombination (relaxation)\n",
    "nc_800nm     = get_nc(wavelength_800nm) # (1/m^3) # CHANGE THE 800NM TO 351NANOM\n",
    "   \n",
    "Ns_zone  = 6\n",
    "Ns_edge  = 4\n",
    "var_zone = np.zeros([Nz,Ns_zone])\n",
    "\n",
    "n_0 = 0     # 1/m^3 \n",
    "n_1 = 0     # 1/m^3 \n",
    "n_2 = 0     # 1/m^3 \n",
    "Te  = 0.025*eV # J\n",
    "Ti  = 0.025*eV # J\n",
    "\n",
    "# FOR ME, JUST SAVE ne, Te and Ti because ne split into diff components\n",
    "var_zone[:,0] = n_0 # 1/m^3 \n",
    "var_zone[:,1] = n_1 # 1/m^3 \n",
    "var_zone[:,2] = n_2 # 1/m^3\n",
    "var_zone[:,3] = Te  # J\n",
    "var_zone[:,4] = Ti  # J\n",
    "\n",
    "t_start_wall = timeCheck.time() # simulation start points\n",
    "hist         = []\n",
    "\n",
    "pulse_IN = laser_pulse # initialize laser pulse\n",
    "#pulse_IN_Imax_TimePs = pulse_1_Imax_TimePs\n",
    "   \n",
    "time         = 0                         # s\n",
    "time_step    = 0\n",
    "for time_step in range(pulse_IN.shape[0]-1):\n",
    "\n",
    "    laserI_INC   = pulse_IN[time_step,1]      # W/m^2\n",
    "    laserE_INC   = get_laserE(laserI_INC,1)   # V/m with RefractiveIndex = 1\n",
    "    time_current = pulse_IN[time_step,0]*ps   # s\n",
    "    time_next    = pulse_IN[time_step+1,0]*ps # s\n",
    "    ite_max      = int((time_next - time_current)/dt)\n",
    "\n",
    "    print('time_step    = ',time_step)    \n",
    "    print('time         = ',\"{:.3e}\".format(time/ps),' ps')\n",
    "    print('time_current = ',\"{:.3e}\".format(time_current/ps),' ps')\n",
    "    print('time_next    = ',\"{:.3e}\".format(time_next/ps),' ps')\n",
    "    print('dt           = ',\"{:.3e}\".format(dt),' s')\n",
    "    print('laserI_INC   = ',\"{:.3e}\".format(laserI_INC),' W/m^2')\n",
    "    print('Te_IN/eV,  Ti_IN/eV  = ',\"{:.3e}\".format(var_zone[0,3]/eV),\n",
    "          \"{:.3e}\".format(var_zone[0,4]/eV))\n",
    "    print('Te_OUT/eV, Ti_OUT/eV = ',\"{:.3e}\".format(var_zone[-1,3]/eV),\n",
    "          \"{:.3e}\".format(var_zone[-1,4]/eV))    \n",
    "    print('ite_max      = ',ite_max) \n",
    "    \n",
    "    for ite in range(ite_max):\n",
    "        \n",
    "        # wont need the three, just one (zero)\n",
    "        n_fe_max = np.max(var_zone[:,0]+var_zone[:,1]+var_zone[:,2]) # 1/m^3\n",
    "        Te_max   = np.max(var_zone[:,3]) # J\n",
    "        Ti_max   = np.max(var_zone[:,4]) # J\n",
    "\n",
    "        laserI        = laserI_INC       # W/m^2     \n",
    "        laserI_probe  = 0 #laserI_probe_INC # W/m^2\n",
    "        laserE        = laserE_INC       # V/m   \n",
    "        \n",
    "        # mesh to store variable to save inside this long array.\n",
    "        var_edge      = np.zeros([Nz+1,Ns_edge])\n",
    "        var_edge[0,0] = 0      # m (initial position)\n",
    "        var_edge[0,1] = laserI # W/m^2\n",
    "        var_edge[0,2] = laserE # V/m\n",
    "        var_edge[0,3] = 0 #laserI_probe # W/m^2\n",
    "        \n",
    "        # x or space for loop, other one was time for loop\n",
    "        for zone in range(1,Nz+1):\n",
    "            # create a square zone\n",
    "            i_zone = zone - 1 \n",
    "            zp     = zone*dz     # m\n",
    "            zm     = (zone-1)*dz # m\n",
    "\n",
    "            # again, only need ne not n1, n2, n3\n",
    "            n_0 = var_zone[i_zone,0] # 1/m^3\n",
    "            n_1 = var_zone[i_zone,1] # 1/m^3\n",
    "            n_2 = var_zone[i_zone,2] # 1/m^3\n",
    "            Te  = var_zone[i_zone,3] # J\n",
    "            Ti  = var_zone[i_zone,4] # J  \n",
    "            \n",
    "            # ne only\n",
    "            n_fe  = n_0 + n_1 + n_2          # 1/m^3\n",
    "            beta  = (n_vb - n_fe)/n_vb # no unit\n",
    "            # ne_old\n",
    "            n_old = [n_0, n_1, n_2]          # 1/m^3   \n",
    "            #####################################            \n",
    "            vc = get_vc(Te,Ti,n_fe,ni,rho)             # 1/s\n",
    "            #####################################\n",
    "            n       = get_n(n_fe,omega_800nm) # unitless (critical density CHANGE TO 351 nm)  \n",
    "            #n_probe = get_n(n_fe,omega_450nm) # unitless     \n",
    "            laserE       = get_laserE(laserI,n)             # V/m         \n",
    "            #laserE_probe = get_laserE(laserI_probe,n_probe) # V/m     \n",
    "            Nmax      = 50\n",
    "            WPI       = get_WPI(laserI,laserE,Nmax,omega_800nm,Eg_Sapphire) # 1/(s.m^3)\n",
    "            W1        = get_W1(laserE) # 1/s DO NOT NEED!!\n",
    "            #WPI_probe = get_WPI(laserI_probe,laserE_probe,Nmax,omega_450nm,Eg_CH) #1/(s.m^3)     \n",
    "            dUdt_JH, sigma_JH       = get_JH(n_fe,vc,omega_800nm,laserE,n)\n",
    "            #dUdt_probe, sigma_probe = get_JH(n_fe,vc,omega_450nm,laserE_probe,n_probe) \n",
    "            \n",
    "            #######################\n",
    "            # Light Propagation\n",
    "            #######################     \n",
    "            dIdz             = - sigma_JH    * laserI       - WPI       * Eg_Sapphire\n",
    "            #dIdz_probe       = - sigma_probe * laserI_probe - WPI_probe * Eg_Sapphire\n",
    "            laserI_new       = laserI       + dz * dIdz\n",
    "            #laserI_probe_new = laserI_probe + dz * dIdz_probe\n",
    "\n",
    "            var_edge[zone,0] = zp                       # m\n",
    "            var_edge[zone,1] = laserI_new               # W/m^2\n",
    "            var_edge[zone,2] = get_laserE(laserI_new,n) # V/m\n",
    "            var_edge[zone,3] = 0 #laserI_probe_new         # W/m^2  WE HAVE NO PROBE BEAM\n",
    "            \n",
    "            #######################\n",
    "            # Electron Dynamics\n",
    "            #######################\n",
    "            source = [beta*WPI,0,0]                             # 1/s/m^3\n",
    "            row1   = [-1/taur-W1,0,         2*alpha*beta      ] # 1/s\n",
    "            row2   = [W1        ,-1/taur-W1,0                 ] # 1/s\n",
    "            row3   = [0,        W1,         -1/taur-alpha*beta] # 1/s\n",
    "            matrix = [row1, row2, row3]                         # 1/s\n",
    "            n_new  = n_old + dt * (source + np.dot(matrix,n_old)) # 1/m^3\n",
    "            n_0_new, n_1_new, n_2_new = n_new       # 1/m^3       \n",
    "            n_fe_new = n_0_new + n_1_new + n_2_new  # 1/m^3\n",
    "            dn_fe    = n_fe_new - n_fe              # 1/m^3\n",
    "\n",
    "            # ne for me!\n",
    "            var_zone[i_zone,0] = n_0_new # 1/m^3 \n",
    "            var_zone[i_zone,1] = n_1_new # 1/m^3 \n",
    "            var_zone[i_zone,2] = n_2_new # 1/m^3  \n",
    "            \n",
    "            #######################\n",
    "            # Thermodynamics (calculates transfer from C_ve from source laser?)\n",
    "            #######################\n",
    "            #####################################\n",
    "            vc = get_vc(Te,Ti,n_fe_new,ni,rho) # 1/s\n",
    "            #####################################\n",
    "            dUdt_JH, sigma_JH = get_JH(n_fe_new,vc,omega_800nm,laserE,n)\n",
    "            Ce = get_Ce(n_fe_new,Te) # 1/m^3\n",
    "            Ci = get_Ci(Ti,ni) # 1/m^3 \n",
    "            G  = get_G(Ce,vc)  # 1/m^3/s\n",
    "            Qe = dUdt_JH - 1.5*Te*dn_fe/dt - G*(Te-Ti) # J/s/m^3\n",
    "            Qi = G*(Te-Ti)                             # J/s/m^3\n",
    "            Te_new = Te + Qe*dt/Ce # eV\n",
    "            Ti_new = Ti + Qi*dt/Ci # eV \n",
    "            \n",
    "            var_zone[i_zone,3] = Te_new  # eV\n",
    "            var_zone[i_zone,4] = Ti_new  # eV \n",
    "\n",
    "            laserI       = laserI_new\n",
    "            #laserI_probe = laserI_probe_new\n",
    "            \n",
    "            if (n_0_new < 0) or (n_1_new < 0) or (n_2_new < 0) :\n",
    "                print('negative n_0, n_1, n_2 detected, STOP')\n",
    "                break\n",
    "\n",
    "            if (Te_new < 0) or (Ti_new < 0) :\n",
    "                print('negative Te, Ti detected, STOP')\n",
    "                print('laserI = ',\"{:.3e}\".format(laserI))\n",
    "                print('omega_355nm = ',\"{:.3e}\".format(omega_800nm))\n",
    "                print('Eg_CH = ',\"{:.3e}\".format(Eg_Sapphire))\n",
    "                print('beta, WPI = ',beta, WPI)\n",
    "                print('source = ',source)\n",
    "                print('n_0_new, n_1_new, n_2_new = ',n_0_new, n_1_new, n_2_new)\n",
    "                print('dn_fe = ',\"{:.3e}\".format(dn_fe))\n",
    "                print('Qe = ',\"{:.3e}\".format(Qe))\n",
    "                print('Qi = ',\"{:.3e}\".format(Qi))\n",
    "                print('vc = ',\"{:.3e}\".format(vc))\n",
    "                print('dUdt_JH = ',dUdt_JH)\n",
    "                print('Ce = ',\"{:.3e}\".format(Ce))\n",
    "                print('ni = ',\"{:.3e}\".format(ni))\n",
    "                print('Ci/ni = ',\"{:.3e}\".format(Ci/ni))\n",
    "                print('G = ',\"{:.3e}\".format(G))\n",
    "                break\n",
    "\n",
    "            if (laserI_new < 0) :\n",
    "                print('negative laserI, laserI_probe detected, STOP')\n",
    "                break \n",
    "\n",
    "            if (n_fe_new > nc_800nm) :\n",
    "                print('negative n_fe exceed nc detected, STOP')\n",
    "                break\n",
    "                \n",
    "            if 1 : \n",
    "                print('time_ps,zone,I/I0',int(time/ps),zone,\"{:.3e}\".format(laserI/laserI_INC))   \n",
    "                print('laserI               = ',\"{:.3e}\".format(laserI))\n",
    "                print('n_fe_new [1/m^3]     = ',\"{:.3e}\".format(n_fe_new))\n",
    "                print('n_fe [1/m^3]         = ',\"{:.3e}\".format(n_fe))\n",
    "                print('W_PI [1/s/m^3]       = ',\"{:.3e}\".format(W_PI*10**6))\n",
    "                print('W_PI*Eg_CH [J/s/m^3] = ',\"{:.3e}\".format(W_PI*10**6*Eg_Sapphire))\n",
    "                print('dUdt_JH [J/s/m^3]    = ',\"{:.3e}\".format(dUdt_JH))\n",
    "                print('vc [1/s]             = ',\"{:.3e}\".format(vc))\n",
    "                print('omega [rad/s]        = ',\"{:.3e}\".format(omega_800nm))\n",
    "                print('ni [1/m^3]           = ',\"{:.3e}\".format(ni))\n",
    "                print()\n",
    "                \n",
    "        time = time + dt\n",
    "        \n",
    "    hist.append([time,\n",
    "                 #laserI_probe/laserI_probe_INC,\n",
    "                 laserI/laserI_INC,\n",
    "                 var_zone,var_edge\n",
    "                ])\n",
    "        \n",
    "    t_end_wall = timeCheck.time()\n",
    "    print('Ray propagation completed in time_step : ',time_step)    \n",
    "    print('t_end_wall - t_start_wall = ',int((t_end_wall-t_start_wall)/60),' minutes')\n",
    "    print('time_ps,transimittance for probe and pump = ',    \n",
    "          \"{:.3e}\".format(laserI/laserI_INC))\n",
    "    print('---')      \n",
    "    \n",
    "hist = np.array(hist)                 "
   ]
  },
  {
   "cell_type": "code",
   "execution_count": null,
   "metadata": {},
   "outputs": [],
   "source": []
  }
 ],
 "metadata": {
  "hide_input": false,
  "kernelspec": {
   "display_name": "Python 3 (ipykernel)",
   "language": "python",
   "name": "python3"
  },
  "language_info": {
   "codemirror_mode": {
    "name": "ipython",
    "version": 3
   },
   "file_extension": ".py",
   "mimetype": "text/x-python",
   "name": "python",
   "nbconvert_exporter": "python",
   "pygments_lexer": "ipython3",
   "version": "3.11.4"
  },
  "latex_envs": {
   "LaTeX_envs_menu_present": true,
   "autoclose": false,
   "autocomplete": true,
   "bibliofile": "biblio.bib",
   "cite_by": "apalike",
   "current_citInitial": 1,
   "eqLabelWithNumbers": true,
   "eqNumInitial": 1,
   "hotkeys": {
    "equation": "Ctrl-E",
    "itemize": "Ctrl-I"
   },
   "labels_anchors": false,
   "latex_user_defs": false,
   "report_style_numbering": false,
   "user_envs_cfg": false
  },
  "nbTranslate": {
   "displayLangs": [
    "*"
   ],
   "hotkey": "alt-t",
   "langInMainMenu": true,
   "sourceLang": "en",
   "targetLang": "fr",
   "useGoogleTranslate": true
  },
  "toc": {
   "base_numbering": 1,
   "nav_menu": {},
   "number_sections": true,
   "sideBar": true,
   "skip_h1_title": false,
   "title_cell": "Table of Contents",
   "title_sidebar": "Contents",
   "toc_cell": false,
   "toc_position": {
    "height": "calc(100% - 180px)",
    "left": "10px",
    "top": "150px",
    "width": "165px"
   },
   "toc_section_display": true,
   "toc_window_display": true
  },
  "varInspector": {
   "cols": {
    "lenName": 16,
    "lenType": 16,
    "lenVar": 40
   },
   "kernels_config": {
    "python": {
     "delete_cmd_postfix": "",
     "delete_cmd_prefix": "del ",
     "library": "var_list.py",
     "varRefreshCmd": "print(var_dic_list())"
    },
    "r": {
     "delete_cmd_postfix": ") ",
     "delete_cmd_prefix": "rm(",
     "library": "var_list.r",
     "varRefreshCmd": "cat(var_dic_list()) "
    }
   },
   "types_to_exclude": [
    "module",
    "function",
    "builtin_function_or_method",
    "instance",
    "_Feature"
   ],
   "window_display": false
  }
 },
 "nbformat": 4,
 "nbformat_minor": 2
}
