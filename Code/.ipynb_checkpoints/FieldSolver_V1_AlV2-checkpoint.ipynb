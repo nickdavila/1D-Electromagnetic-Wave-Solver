{
 "cells": [
  {
   "cell_type": "markdown",
   "metadata": {
    "heading_collapsed": true
   },
   "source": [
    "# Module Load"
   ]
  },
  {
   "cell_type": "code",
   "execution_count": 1,
   "metadata": {
    "ExecuteTime": {
     "end_time": "2021-08-11T18:36:24.752866Z",
     "start_time": "2021-08-11T18:36:24.622698Z"
    },
    "hidden": true
   },
   "outputs": [
    {
     "name": "stderr",
     "output_type": "stream",
     "text": [
      "C:\\Users\\nickd\\AppData\\Local\\Temp\\ipykernel_21300\\903236561.py:11: DeprecationWarning: Please use `wiener` from the `scipy.signal` namespace, the `scipy.signal.signaltools` namespace is deprecated.\n",
      "  from scipy.signal.signaltools import wiener\n"
     ]
    },
    {
     "name": "stdout",
     "output_type": "stream",
     "text": [
      "path_local =  C:\\Users\\nickd\\OneDrive\\Documents\\GitHub\\PFURO-2023-PRIV\\Code\n"
     ]
    }
   ],
   "source": [
    "import h5py, math, cmath, scipy, random, os, csv, pathlib, matplotlib\n",
    "\n",
    "from matplotlib.ticker import (MultipleLocator, FormatStrFormatter,AutoMinorLocator)\n",
    "from scipy.optimize import curve_fit\n",
    "from matplotlib import rcParams, rc, cm, colors\n",
    "from sklearn.decomposition import PCA\n",
    "from scipy.stats import skew, poisson, kurtosis \n",
    "from matplotlib.font_manager import FontProperties\n",
    "from scipy.ndimage import gaussian_filter, median_filter, sobel\n",
    "from scipy.interpolate import griddata\n",
    "from scipy.signal.signaltools import wiener\n",
    "from mpl_toolkits.mplot3d import Axes3D\n",
    "from numpy import linalg as LA\n",
    "from scipy.special import sph_harm, lambertw\n",
    "from scipy import interpolate\n",
    "\n",
    "import scipy.integrate as integrate\n",
    "import matplotlib.tri as tri\n",
    "import numpy.ma as ma\n",
    "import numpy as np\n",
    "import matplotlib.pyplot as plt\n",
    "import pandas as pd\n",
    "import scipy as sci\n",
    "import scipy.special as sp\n",
    "import time as timeCheck\n",
    "\n",
    "plt.style.use('classic')\n",
    "%matplotlib inline\n",
    "rcParams['font.family'] = 'Times New Roman'\n",
    "\n",
    "if 0 : plt.style.use('ggplot')\n",
    "if 0 : import seaborn as sns; sns.set()\n",
    "\n",
    "rc('text', usetex=True)\n",
    "rc('axes', linewidth=2)\n",
    "rc('font', weight='bold')\n",
    "# rcParams['text.latex.preamble'] = [r'\\usepackage{sfmath} \\boldmath']\n",
    "rcParams = {'text.latex.preamble' : [r'\\usepackage{amsmath} \\boldmath']}\n",
    " \n",
    "path_local = str(pathlib.Path().absolute())\n",
    "print('path_local = ',path_local)"
   ]
  },
  {
   "cell_type": "markdown",
   "metadata": {},
   "source": [
    "# Electron Collision Frequency"
   ]
  },
  {
   "cell_type": "markdown",
   "metadata": {},
   "source": [
    "## get_param"
   ]
  },
  {
   "cell_type": "code",
   "execution_count": 2,
   "metadata": {
    "ExecuteTime": {
     "end_time": "2021-08-21T01:58:58.296730Z",
     "start_time": "2021-08-21T01:58:58.269806Z"
    }
   },
   "outputs": [],
   "source": [
    "um = 10**-6 # m\n",
    "nm = 10**-9 # m\n",
    "ns = 10**-9 # s\n",
    "ps = 10**-12 # s\n",
    "fs = 10**-15 # s\n",
    "\n",
    "mole = 6.02214076*10**23 # unitless, the Avogadro number\n",
    "amu = 1.66*10**-27 # kg\n",
    "angstorm = 10**-10 # m\n",
    "hbar = 1.0545718*10**-34 # J*s\n",
    "eV = 1.6*10**-19 # J\n",
    "dyne = 10**-5 # N\n",
    "massElectron = 9.10938356*10**-31 # kg\n",
    "eCharge = 1.602176634*10**-19 # C\n",
    "eCharge_ESU = 4.80326*10**-10 # esu\n",
    "kB = 1.380649*10**-23 # J/K\n",
    "\n",
    "lightSpeed = 299792458 # m/s\n",
    "vacuumPermittivity = 8.854*10**-12 # C⋅V−1⋅m−1\n",
    "\n",
    "wavelength_351nm = 351*nm # m\n",
    "wavelength_355nm = 355*nm # m\n",
    "wavelength_450nm = 450*nm # m\n",
    "omega_355nm = 2*np.pi*(lightSpeed/wavelength_355nm) # 1/s\n",
    "omega_450nm = 2*np.pi*(lightSpeed/wavelength_450nm) # 1/s\n",
    "\n",
    "meV = 0.001*eV # J\n",
    "mdyne = 0.001*dyne # N\n",
    "massElectronReduced = massElectron/2 # kg\n",
    "\n",
    "gcm3_to_kgm3 = 1000 # kg/m^3\n",
    "kelvin_to_eV = 8.621738*10**-5 # eV \n",
    "J_to_erg = 10**7 # erg\n",
    "cm3_to_m3 = 0.01**3 # m^3\n",
    "J_per_mole_per_K = 1/mole/kelvin_to_eV/eV\n",
    "\n",
    "#################\n",
    "# SI units\n",
    "#################\n",
    "Ti = 0.025*eV # J\n",
    "Te = 0.025*eV # J\n",
    "Tc = 58*meV   # J\n",
    "rho = 1*gcm3_to_kgm3 # kg/m^3\n",
    "#####################################################################\n",
    "# Engineering ToolBox, (2004). Speed of Sound in Solids and Metals\n",
    "# https://www.engineeringtoolbox.com/sound-speed-solids-d_713.html\n",
    "cs = 2350 # m/s\n",
    "#cs = 10414.838745062643 # dw/dk\n",
    "#####################################################################\n",
    "Upotential = 3.5*eV # J\n",
    "mPh  = (12*6+5)*amu # kg\n",
    "mCH  = (12*1+1)*amu # kg\n",
    "mCH2 = (12*1+2)*amu # kg\n",
    "mC8H8 = mPh + mCH + mCH2\n",
    "dCC = 1.53*angstorm # m\n",
    "a = 2*dCC         # m\n",
    "G = 4.855*mdyne/angstorm # N/m\n",
    "K = 4.000*mdyne/angstorm # N/m\n",
    "kBZ = 2*np.pi/a # 1/m\n",
    "kmin_EAP = massElectronReduced*cs/hbar # 1/m\n",
    "#E_LO1 = 72.87*meV  # 33.53*meV # J\n",
    "#E_LO2 = 192.80*meV # 88.73*meV # J\n",
    "E_LO1 = 33.53*meV # J\n",
    "E_LO2 = 88.73*meV # J\n",
    "omega_LO1 = E_LO1/hbar # 1/s\n",
    "omega_LO2 = E_LO2/hbar # 1/s\n",
    "varepsilon_0     = 2.5\n",
    "varepsilon_infty = 1.01\n",
    "kmin_EOP_absrob = np.sqrt(E_LO1*10**-3*2*massElectronReduced)/hbar # 1/m\n",
    "kmin_EOP_emit1  = np.sqrt(E_LO1*2*massElectronReduced)/hbar # 1/m\n",
    "kmin_EOP_emit2  = np.sqrt(E_LO2*2*massElectronReduced)/hbar # 1/m\n",
    "# mass_density/total_ion_mass*Z_total [1/cm^3]\n",
    "R_CH = 1.03*1000 # kg/m^3\n",
    "Z_CH = 7 # no unit\n",
    "A_CH = (12.011+1.008)*1.66053904e-27 # kg\n",
    "n_vb_CH = Z_CH*R_CH/A_CH # [1/m^3]\n",
    "Eg_CH   = 4.05*eV # [J]\n",
    "n_a_CH  = 1.02*10**23*100**3 # 1/m^3\n",
    "Zmax_CH = Z_CH/2"
   ]
  },
  {
   "cell_type": "markdown",
   "metadata": {},
   "source": [
    "## get_nc"
   ]
  },
  {
   "cell_type": "code",
   "execution_count": 3,
   "metadata": {
    "ExecuteTime": {
     "end_time": "2021-08-10T22:19:42.259913Z",
     "start_time": "2021-08-10T22:19:42.253589Z"
    }
   },
   "outputs": [],
   "source": [
    "def get_nc(wavelength):\n",
    "    \n",
    "    # input wavelength unit : m\n",
    "    # output nc unit        : 1/m^3\n",
    "    \n",
    "    angular_freq = 2*math.pi*(lightSpeed/wavelength)\n",
    "    ne_crit = vacuumPermittivity*massElectron*angular_freq**2/eCharge**2\n",
    "    return ne_crit # (1/m^3)\n",
    "\n",
    "nc_351nm = get_nc(wavelength_351nm) # 1/m^3\n",
    "nc_355nm = get_nc(wavelength_355nm) # 1/m^3\n",
    "nc_450nm = get_nc(wavelength_450nm) # 1/m^3"
   ]
  },
  {
   "cell_type": "markdown",
   "metadata": {
    "heading_collapsed": true
   },
   "source": [
    "## get_E_Fermi"
   ]
  },
  {
   "cell_type": "code",
   "execution_count": 4,
   "metadata": {
    "ExecuteTime": {
     "end_time": "2021-08-11T17:49:38.813328Z",
     "start_time": "2021-08-11T17:49:38.804056Z"
    },
    "hidden": true
   },
   "outputs": [
    {
     "name": "stdout",
     "output_type": "stream",
     "text": [
      "E_Fermi_355nm/eV =  1.562e+00\n",
      "E_Fermi_450nm/eV =  1.138e+00\n"
     ]
    }
   ],
   "source": [
    "def get_E_Fermi(ne):\n",
    "    \n",
    "    # https://en.wikipedia.org/wiki/Fermi_energy\n",
    "    \n",
    "    # ne : 1/m^3\n",
    "    # massElectron : kg\n",
    "    \n",
    "    EF = hbar**2/(2*massElectron)*(3*np.pi**2*ne)**(2/3) # J\n",
    "        \n",
    "    return EF # J\n",
    "\n",
    "E_Fermi_351nm = get_E_Fermi(ne=get_nc(wavelength_351nm))\n",
    "E_Fermi_355nm = get_E_Fermi(ne=get_nc(wavelength_355nm))\n",
    "E_Fermi_450nm = get_E_Fermi(ne=get_nc(wavelength_450nm))\n",
    "\n",
    "print('E_Fermi_355nm/eV = ',\"{:.3e}\".format(E_Fermi_355nm/eV))\n",
    "print('E_Fermi_450nm/eV = ',\"{:.3e}\".format(E_Fermi_450nm/eV))"
   ]
  },
  {
   "cell_type": "markdown",
   "metadata": {
    "heading_collapsed": true
   },
   "source": [
    "## get_mu"
   ]
  },
  {
   "cell_type": "code",
   "execution_count": 5,
   "metadata": {
    "ExecuteTime": {
     "end_time": "2021-08-12T22:07:03.718923Z",
     "start_time": "2021-08-12T22:07:03.709915Z"
    },
    "hidden": true
   },
   "outputs": [],
   "source": [
    "def get_mu(ne,Te):\n",
    "    \n",
    "    #print('>>> get_mu ... ')  \n",
    "    \n",
    "    #To sum up, to increase the number of particles of a classical gas keeping the       volume and entropy constant, you have to change the energy of the system by a negative amount. This change in the energy (which is negative) is the chemical potential of the classical gas.\n",
    "        \n",
    "    # ne : 1/m^3\n",
    "    # Te : J\n",
    "    \n",
    "    y = hbar**3*np.pi**2*ne/np.sqrt(2)/(massElectron*Te)**(3/2)\n",
    "    \n",
    "    a  = 15\n",
    "    y0 = 1.52\n",
    "    \n",
    "    if y < 1 :        \n",
    "        inside = 4*y/(2*np.pi**0.5-y)        \n",
    "        mu = Te*np.log(inside)\n",
    "        \n",
    "    if (y >= 1) and (y<2.5) :\n",
    "        inside1 = 4*y/(2*np.pi**0.5-y)\n",
    "        inside2 = (3*y/2)**(4/3)-np.pi**2/6\n",
    "        denominator1 = 1+math.exp( a*(y-y0))\n",
    "        denominator2 = 1+math.exp(-a*(y-y0))        \n",
    "        mu = Te*(np.log(inside1)/denominator1+np.sqrt(inside2)/denominator2)\n",
    "        \n",
    "    if y >= 2.5 :\n",
    "        inside = (3*y/2)**(4/3)-np.pi**2/6\n",
    "#         print(\"INSIDE MU\")\n",
    "#         print('Te', Te, 'inside', inside)\n",
    "        mu = Te*np.sqrt(inside)\n",
    "    \n",
    "    #print('get_mu : mu = ',mu)\n",
    "    #return mu/eV # eV\n",
    "    return mu # J\n",
    "\n",
    "#temp = [ T for T in np.arange(0.01,100,0.01)]\n",
    "#mu = [get_mu(10**22*100**3,Te*eV)/eV for Te in temp]\n",
    "#plt.plot(temp,mu)"
   ]
  },
  {
   "cell_type": "code",
   "execution_count": 6,
   "metadata": {},
   "outputs": [
    {
     "data": {
      "text/plain": [
       "-8.63640336710481e-20"
      ]
     },
     "execution_count": 6,
     "metadata": {},
     "output_type": "execute_result"
    }
   ],
   "source": [
    "get_mu(9999999414595144.0, 4.000000234205021e-21)"
   ]
  },
  {
   "cell_type": "markdown",
   "metadata": {
    "heading_collapsed": true
   },
   "source": [
    "## get_f_k"
   ]
  },
  {
   "cell_type": "code",
   "execution_count": 7,
   "metadata": {},
   "outputs": [
    {
     "name": "stderr",
     "output_type": "stream",
     "text": [
      "'which' is not recognized as an internal or external command,\n",
      "operable program or batch file.\n"
     ]
    }
   ],
   "source": [
    "!which latex"
   ]
  },
  {
   "cell_type": "code",
   "execution_count": 8,
   "metadata": {
    "ExecuteTime": {
     "end_time": "2021-08-11T16:36:25.619604Z",
     "start_time": "2021-08-11T16:36:25.364023Z"
    },
    "hidden": true
   },
   "outputs": [
    {
     "data": {
      "text/plain": [
       "[<matplotlib.lines.Line2D at 0x1c5e973eb50>]"
      ]
     },
     "execution_count": 8,
     "metadata": {},
     "output_type": "execute_result"
    },
    {
     "data": {
      "image/png": "[encoded data removed]",
      "text/plain": [
       "<Figure size 640x480 with 1 Axes>"
      ]
     },
     "metadata": {},
     "output_type": "display_data"
    }
   ],
   "source": [
    "def get_f_k(k,Te,ne):\n",
    "    \n",
    "    #print('>>> get_FD_dist ... ')\n",
    "    \n",
    "    # Te : J\n",
    "    # ne : 1/m^3\n",
    "    \n",
    "    E_K = (hbar*k)**2/(2*massElectronReduced) # J\n",
    "    \n",
    "    mu = get_mu(ne,Te) # J\n",
    "    \n",
    "    #print(E_K)\n",
    "    \n",
    "    exponent=(E_K-mu)/Te\n",
    "        \n",
    "    if exponent < 150 : \n",
    "        f_k = 1/(math.exp(exponent)+1) # unitless\n",
    "    else : \n",
    "        f_k = 0\n",
    "    \n",
    "    if 0 : \n",
    "        print('exponent,f_k,Te/eV,ne,mu,E_K = ',\n",
    "              \"{:.3e}\".format(exponent),\n",
    "              \"{:.3e}\".format(f_k),\n",
    "              \"{:.3e}\".format(Te/eV),\n",
    "              \"{:.3e}\".format(ne),\n",
    "              \"{:.3e}\".format(mu),\n",
    "              \"{:.3e}\".format(E_K/eV))    \n",
    "    \n",
    "    return f_k # unitless\n",
    "\n",
    "T = 0.03*eV\n",
    "ne = 10**22*100**3\n",
    "get_f_k(kmin_EAP,T,ne) \n",
    "\n",
    "#temp = [ T for T in np.arange(0.01,10,0.01)]\n",
    "#f_k = [get_f_k(kmin_EAP,Te*eV,10**22*100**3)  for Te in temp]\n",
    "#plt.plot(temp,f_k)\n",
    "\n",
    "kvalue = [ k for k in np.arange(kmin_EAP,kBZ,(kBZ-kmin_EAP)/100)]\n",
    "f_k = [get_f_k(k,T,ne)  for k in kvalue]\n",
    "plt.plot(kvalue,f_k)"
   ]
  },
  {
   "cell_type": "markdown",
   "metadata": {
    "heading_collapsed": true
   },
   "source": [
    "## get_OMEGA"
   ]
  },
  {
   "cell_type": "code",
   "execution_count": 9,
   "metadata": {
    "ExecuteTime": {
     "end_time": "2021-08-10T23:18:30.394685Z",
     "start_time": "2021-08-10T23:18:30.084897Z"
    },
    "hidden": true
   },
   "outputs": [
    {
     "name": "stdout",
     "output_type": "stream",
     "text": [
      "omegaAO  (1/s) =  5548542.653501729\n",
      "omegaLO1 (1/s) =  110564549791022.64\n",
      "omegaLO2 (1/s) =  292517082890764.75\n"
     ]
    },
    {
     "data": {
      "text/plain": [
       "[<matplotlib.lines.Line2D at 0x1c5e9833d10>]"
      ]
     },
     "execution_count": 9,
     "metadata": {},
     "output_type": "execute_result"
    },
    {
     "data": {
      "image/png": "[encoded data removed]",
      "text/plain": [
       "<Figure size 640x480 with 1 Axes>"
      ]
     },
     "metadata": {},
     "output_type": "display_data"
    }
   ],
   "source": [
    "def get_OMEGA(ka,m):\n",
    "    \n",
    "    if 0 : print('>>> get_OMEGA ...')\n",
    "    \n",
    "    # Normal Vibrations and Their Dispersion in Syndiotactic Polystyrene\n",
    "    # SHANTANU RASTOGI and V. D. GUPTA\n",
    "    # J. MACKOMOL. SC1.-PHYS., B33(2), 129-141 (1994)\n",
    "        \n",
    "    alpha = -mPh*mCH*mCH2\n",
    "    beta  = G*mCH2*(mCH+mPh)+2*K*mPh*(mCH+mCH2)\n",
    "    gamma = (4*K**2*np.cos(ka/2)**2-2*K*(2*K+G))*mPh-2*G*K*(mCH+mCH2)\n",
    "    delta = 4*G*K**2*(1-np.cos(ka/2)**2)\n",
    "    \n",
    "    p = -beta**2/(3*alpha**2)+gamma/alpha\n",
    "    q = 2*beta**3/(27*alpha**3)-9*beta*gamma/(27*alpha**2)+delta/alpha\n",
    "    \n",
    "    argument = 1/3*np.arccos(3*q/(2*p)*np.sqrt(-3/p))+2*(m+1)*np.pi/3    \n",
    "    zm = 2*np.sqrt(-p/3)*np.cos(argument)\n",
    "    \n",
    "    omega = np.sqrt(zm - beta/(3*alpha))\n",
    "    \n",
    "    #return omega*hbar/meV/2 # meV\n",
    "    return omega # 1/s\n",
    "\n",
    "omegaAO  = get_OMEGA(ka=0,m=0) # 1/s\n",
    "omegaLO1 = get_OMEGA(ka=0,m=1) # 1/s\n",
    "omegaLO2 = get_OMEGA(ka=0,m=2) # 1/s\n",
    "    \n",
    "print('omegaAO  (1/s) = ',omegaAO )\n",
    "print('omegaLO1 (1/s) = ',omegaLO1)  \n",
    "print('omegaLO2 (1/s) = ',omegaLO2)  \n",
    "\n",
    "xdata    = [ ka for ka in np.arange(-np.pi,np.pi,0.01)]\n",
    "ydata_m0 = [ get_OMEGA(ka=x,m=0) for x in xdata]\n",
    "ydata_m1 = [ get_OMEGA(ka=x,m=1) for x in xdata]\n",
    "ydata_m2 = [ get_OMEGA(ka=x,m=2) for x in xdata]\n",
    "\n",
    "plt.plot(xdata,ydata_m0)\n",
    "plt.plot(xdata,ydata_m1)\n",
    "plt.plot(xdata,ydata_m2)"
   ]
  },
  {
   "cell_type": "markdown",
   "metadata": {
    "heading_collapsed": true
   },
   "source": [
    "## get_report_omega"
   ]
  },
  {
   "cell_type": "code",
   "execution_count": 10,
   "metadata": {
    "ExecuteTime": {
     "end_time": "2021-08-10T20:44:12.035706Z",
     "start_time": "2021-08-10T20:43:59.188264Z"
    },
    "hidden": true
   },
   "outputs": [
    {
     "data": {
      "image/png": "[encoded data removed]",
      "text/plain": [
       "<Figure size 520x320 with 1 Axes>"
      ]
     },
     "metadata": {},
     "output_type": "display_data"
    }
   ],
   "source": [
    "def get_report_omega(exportFlag):\n",
    "    \n",
    "    plt.close('all')\n",
    "    fig = plt.figure(figsize=[6.5,4])\n",
    "    fs,fs2,fs3,fs4=20,15,18,10\n",
    "\n",
    "    label1 = r'\\textbf{$\\omega_{\\mathrm{LA}}$}'\n",
    "    label2 = r'\\textbf{$\\omega_{\\mathrm{LO,1}}$}'\n",
    "    label3 = r'\\textbf{$\\omega_{\\mathrm{LO,2}}$}'\n",
    "\n",
    "    nrow,ncol=1,1\n",
    "    ax1 = plt.subplot2grid((nrow, ncol), (0,0), colspan=1, rowspan=1) \n",
    "\n",
    "    ax1.plot(xdata,ydata_m0,c='k',label=label1)\n",
    "    ax1.plot(xdata,ydata_m1,c='r',label=label2)\n",
    "    ax1.plot(xdata,ydata_m2,c='g',label=label3)\n",
    "\n",
    "    ax1.tick_params(which='major',length=10,labelsize=fs2)\n",
    "    ax1.set_xlabel(r'\\textbf{$k_x a$ (deg.)}',fontsize=fs)\n",
    "    ax1.set_ylabel(r'\\textbf{$\\hbar \\omega$ (meV)}',fontsize=fs)\n",
    "    ax1.legend(fontsize=fs2,loc='upper right',numpoints=1)\n",
    "    ax1.set_xlim([-np.pi,np.pi])\n",
    "    ax1.grid()\n",
    "    \n",
    "    plt.sca(ax1)\n",
    "    plt.xticks([-np.pi,-np.pi/2,0,np.pi/2,np.pi],\n",
    "               [r'$-180^\\circ$',r'$-90^\\circ$',r'$0^\\circ$',r'$90^\\circ$',r'$180^\\circ$'])   \n",
    "\n",
    "    plt.tight_layout()\n",
    "    if exportFlag : \n",
    "        export_name = 'polystyrene_dispersion_relation'\n",
    "        print(f'{\"Save as\":30}',':',export_name)\n",
    "        path = '/Users/kwoo/Desktop/PostDoc/InitialPlasma/reports/plots/'\n",
    "        print(f'{\"path_local\":30}',':',str(pathlib.Path().absolute()))    \n",
    "        print(f'{\"path_save\":30}',':',path)\n",
    "        plt.savefig(path+export_name+'.eps',format='eps')\n",
    "        plt.savefig(path+export_name,dpi=500) \n",
    "    plt.show() \n",
    "              \n",
    "get_report_omega(exportFlag=0)"
   ]
  },
  {
   "cell_type": "markdown",
   "metadata": {
    "heading_collapsed": true
   },
   "source": [
    "## get_EAP_rate"
   ]
  },
  {
   "cell_type": "code",
   "execution_count": 11,
   "metadata": {
    "ExecuteTime": {
     "end_time": "2021-08-11T02:19:37.989874Z",
     "start_time": "2021-08-11T02:19:37.980617Z"
    },
    "hidden": true
   },
   "outputs": [
    {
     "data": {
      "text/plain": [
       "284991351957.0703"
      ]
     },
     "execution_count": 11,
     "metadata": {},
     "output_type": "execute_result"
    }
   ],
   "source": [
    "def get_EAP_rate(k,Ti,rho):\n",
    "    \n",
    "    #print('>>> get_EAP_rate ...')\n",
    "\n",
    "    # Ti : J\n",
    "    # rho : kg/m^3\n",
    "    \n",
    "    factor_1 = Upotential**2*Ti*massElectronReduced\n",
    "    factor_2 = 2*np.pi*rho*cs**2*hbar**3*k\n",
    "    factor_3 = k**2 + (massElectronReduced*cs/hbar)**2\n",
    "    \n",
    "    return factor_1/factor_2*factor_3\n",
    "    \n",
    "get_EAP_rate(kmin_EAP,Ti,rho)"
   ]
  },
  {
   "cell_type": "markdown",
   "metadata": {
    "heading_collapsed": true
   },
   "source": [
    "## get_EAP_rate_avg"
   ]
  },
  {
   "cell_type": "code",
   "execution_count": 12,
   "metadata": {
    "ExecuteTime": {
     "end_time": "2021-08-12T18:37:30.076451Z",
     "start_time": "2021-08-12T18:37:25.583581Z"
    },
    "hidden": true
   },
   "outputs": [
    {
     "data": {
      "image/png": "[encoded data removed]",
      "text/plain": [
       "<Figure size 640x480 with 1 Axes>"
      ]
     },
     "metadata": {},
     "output_type": "display_data"
    }
   ],
   "source": [
    "def get_EAP_rate_avg(Te,Ti,ne,rho):\n",
    "    \n",
    "    #print('>>> get_EAP_rate_avg ...')\n",
    "    \n",
    "    # Te : J\n",
    "    # Ti : J\n",
    "    # rho : kg/m^3\n",
    "    # ne : 1/m^3\n",
    "    \n",
    "    #k = np.sqrt((3/2*Te)*2*massElectronReduced)/hbar\n",
    "    \n",
    "    V = (dCC*2)**3 # m^3\n",
    "    \n",
    "    g_k = 2*V/(8*np.pi**3) # m^3\n",
    "    \n",
    "    f_k = get_f_k(kmin_EAP,Te,ne)\n",
    "    \n",
    "    m = 2\n",
    "    \n",
    "    result1 = integrate.quad(lambda k: g_k * get_f_k(k,Te,ne)*k**m * \\\n",
    "                             get_EAP_rate(k,Ti,rho) , kmin_EAP, kBZ)[0]\n",
    "\n",
    "    result2 = integrate.quad(lambda k: g_k * get_f_k(k,Te,ne)*k**m , kmin_EAP, kBZ)[0]\n",
    "    \n",
    "    residue = 10**-100\n",
    "    \n",
    "    EAP_rate_avg = result1/(result2+residue) # 1/s\n",
    "    #EAP_rate_avg = result2 # 1/s\n",
    "    \n",
    "    if 0 :\n",
    "        print('EAP_rate_avg = ',\"{:.3e}\".format(EAP_rate_avg),\n",
    "              ', Te (eV) = ',\"{:.3e}\".format(Te/eV))    \n",
    "    \n",
    "    return EAP_rate_avg\n",
    "\n",
    "    \n",
    "T = 0.01*eV\n",
    "ne = 10**22*100**3\n",
    "get_EAP_rate_avg(T,T,ne,rho)\n",
    "#get_EAP_rate_avg(Te,Ti,10**22*100**3,rho)\n",
    "\n",
    "#temp = [ T for T in np.arange(0.01,100,0.01)]\n",
    "\n",
    "temp      = [ T for T in np.arange(0.001,Tc/eV,0.0001)]\n",
    "collFreq2 = [get_EAP_rate_avg(T*eV,T*eV,10**22*100**3,rho) for T in temp]\n",
    "\n",
    "plt.loglog(temp,collFreq2)\n",
    "plt.grid()"
   ]
  },
  {
   "cell_type": "markdown",
   "metadata": {
    "heading_collapsed": true
   },
   "source": [
    "## get_EOP_rate"
   ]
  },
  {
   "cell_type": "code",
   "execution_count": 13,
   "metadata": {
    "ExecuteTime": {
     "end_time": "2021-08-11T16:34:13.700990Z",
     "start_time": "2021-08-11T16:34:13.684365Z"
    },
    "hidden": true
   },
   "outputs": [],
   "source": [
    "def get_EOP_rate(k,omega_LO,Ti,flag_emit,flag_absrob):\n",
    "    \n",
    "    #print('>>> get_EOP_rate ...')\n",
    "    \n",
    "    # omega_LO : 1/s\n",
    "    # Ti : J\n",
    "\n",
    "    factor1 = eCharge**2*massElectronReduced*omega_LO/(hbar**2*k)/(4*np.pi)\n",
    "    factor2 = (1/varepsilon_infty - 1/varepsilon_0)/vacuumPermittivity    \n",
    "    g_LO    = 1/(math.exp(hbar*omega_LO/Ti)-1)\n",
    "    \n",
    "    energy_LO  = hbar*omega_LO # J\n",
    "    energy_ele = (hbar*k)**2/(2*massElectronReduced) # J\n",
    "        \n",
    "    if (flag_emit==1) and (flag_absrob==0) :\n",
    "        inside = max(1 - energy_LO/energy_ele,0)\n",
    "        ln     = np.log((1 + inside**0.5)/(1 - inside**0.5))\n",
    "        rate   = factor1*factor2*(g_LO+1)*ln\n",
    "        \n",
    "        \n",
    "    if (flag_emit==0) and (flag_absrob==1) :\n",
    "        inside = 1 + energy_LO/energy_ele\n",
    "        ln     = np.log((inside**0.5 + 1)/(inside**0.5 - 1))\n",
    "        rate   = factor1*factor2*g_LO*ln\n",
    "        \n",
    "    if 0 :\n",
    "        #print('factor1 = ',factor1)\n",
    "        #print('factor2 = ',factor2)\n",
    "        print('factor1*factor2 = ',\"{:.3e}\".format(factor1*factor2))\n",
    "        print('g_LO = ',g_LO)\n",
    "        #print('hbar*omega_LO/eV = ',hbar*omega_LO/eV)\n",
    "        #print('energy_LO/eV = ',\"{:.3e}\".format(energy_LO/eV))\n",
    "        #print('energy_ele/eV = ',\"{:.3e}\".format(energy_ele/eV))    \n",
    "        #print('Ti/eV = ',Ti/eV)\n",
    "        print('inside = ',\"{:.3e}\".format(inside))\n",
    "        print('energy_LO/energy_ele = ',\"{:.3e}\".format(energy_LO/energy_ele))  \n",
    "        print('ln = ',\"{:.3e}\".format(ln)) \n",
    "        print('rate = ',\"{:.3e}\".format(rate))     \n",
    "        print()\n",
    "            \n",
    "    return rate # 1/s\n",
    "\n",
    "T = 0.02*eV\n",
    "\n",
    "EOP_emit1 = get_EOP_rate(kmin_EOP_emit1,omega_LO1,Ti,1,0)\n",
    "EOP_emit2 = get_EOP_rate(kmin_EOP_emit2,omega_LO2,Ti,1,0)\n",
    "\n",
    "#EOP_absrob1 = get_EOP_rate(kmin_EOP_absrob,omega_LO1,Ti,0,1)\n",
    "#EOP_absrob2 = get_EOP_rate(kmin_EOP_absrob,omega_LO2,Ti,0,1)\n",
    "\n",
    "#print(get_EOP_rate_avg(T*eV,T*eV,1*10**22*100**3,rho))"
   ]
  },
  {
   "cell_type": "markdown",
   "metadata": {
    "heading_collapsed": true
   },
   "source": [
    "## get_EOP_rate_avg"
   ]
  },
  {
   "cell_type": "code",
   "execution_count": 14,
   "metadata": {
    "ExecuteTime": {
     "end_time": "2021-08-11T23:03:31.394298Z",
     "start_time": "2021-08-11T23:03:31.240799Z"
    },
    "hidden": true
   },
   "outputs": [
    {
     "name": "stdout",
     "output_type": "stream",
     "text": [
      "115353635880403.2 2601626157159467.0 22.55348205804966\n"
     ]
    }
   ],
   "source": [
    "def get_EOP_rate_avg(Te,Ti,ne,rho):\n",
    "    \n",
    "    #print('>>> get_EAP_rate_avg ...')\n",
    "    \n",
    "    # Te : J\n",
    "    # Ti : J\n",
    "    # rho : kg/m^3\n",
    "    # ne : 1/m^3\n",
    "    \n",
    "    V = (dCC*2)**3 # m^3\n",
    "    \n",
    "    g_k = 2*V/(8*np.pi**3) # m^3\n",
    "    \n",
    "    m = 2\n",
    "    \n",
    "    result1 = integrate.quad(lambda k: g_k * get_f_k(k,Te,ne)*k**m * \\\n",
    "                             get_EOP_rate(k,omega_LO1,Ti,1,0) ,    kmin_EOP_emit1, kBZ)\n",
    "    result2 = integrate.quad(lambda k: g_k * get_f_k(k,Te,ne)*k**m,kmin_EOP_emit1, kBZ)\n",
    "    \n",
    "    result3 = integrate.quad(lambda k: g_k * get_f_k(k,Te,ne)*k**m * \\\n",
    "                             get_EOP_rate(k,omega_LO2,Ti,1,0) ,    kmin_EOP_emit2, kBZ)\n",
    "    result4 = integrate.quad(lambda k: g_k * get_f_k(k,Te,ne)*k**m,kmin_EOP_emit2, kBZ)\n",
    "    \n",
    "    result5 = integrate.quad(lambda k: g_k * get_f_k(k,Te,ne)*k**m * \\\n",
    "                             get_EOP_rate(k,omega_LO1,Ti,0,1) ,    kmin_EOP_absrob, kBZ)\n",
    "    result6 = integrate.quad(lambda k: g_k * get_f_k(k,Te,ne)*k**m,kmin_EOP_absrob, kBZ)\n",
    "    \n",
    "    result7 = integrate.quad(lambda k: g_k * get_f_k(k,Te,ne)*k**m * \\\n",
    "                             get_EOP_rate(k,omega_LO2,Ti,0,1) ,    kmin_EOP_absrob, kBZ)\n",
    "    result8 = integrate.quad(lambda k: g_k * get_f_k(k,Te,ne)*k**m,kmin_EOP_absrob, kBZ)\n",
    "    \n",
    "    residue = 10**-100\n",
    "    \n",
    "    EOP_rate_emit1 = result1[0]/(result2[0]+residue)\n",
    "    EOP_rate_emit2 = result3[0]/(result4[0]+residue)\n",
    "    EOP_rate_absorb1 = result5[0]/(result6[0]+residue)\n",
    "    EOP_rate_absorb2 = result7[0]/(result8[0]+residue)   \n",
    "    \n",
    "    EOP_rate = EOP_rate_emit1*1   + \\\n",
    "               EOP_rate_emit2*1   + \\\n",
    "               EOP_rate_absorb1*1 + \\\n",
    "               EOP_rate_absorb2*1\n",
    "    \n",
    "    if 0 : \n",
    "        print('EOP_rate_emit1   = ',\"{:.3e}\".format(EOP_rate_emit1))\n",
    "        print('EOP_rate_emit2   = ',\"{:.3e}\".format(EOP_rate_emit2))\n",
    "        print('EOP_rate_absorb1 = ',\"{:.3e}\".format(EOP_rate_absorb1))    \n",
    "        print('EOP_rate_absorb2 = ',\"{:.3e}\".format(EOP_rate_absorb2))\n",
    "        \n",
    "        print('result2[0] = ',\"{:.3e}\".format(result2[0]))        \n",
    "        print('result4[0] = ',\"{:.3e}\".format(result4[0])) \n",
    "        print('result6[0] = ',\"{:.3e}\".format(result6[0]))                \n",
    "    \n",
    "    return EOP_rate\n",
    "    \n",
    "T = 0.058    \n",
    "EAP_1 = get_EAP_rate_avg(T*eV,T*eV,1*10**22*100**3,rho)\n",
    "EOP_1 = get_EOP_rate_avg(T*eV,T*eV,1*10**22*100**3,rho)\n",
    "\n",
    "print(EAP_1,EOP_1,EOP_1/EAP_1)\n",
    "\n",
    "if 0 : \n",
    "    temp0     = np.array([ T for T in np.arange(0.001,Tc/eV,0.0001)])\n",
    "    collFreq2 = np.array([ get_EAP_rate_avg(T*eV,T*eV,3*10**22*100**3,rho) for T in temp0 ])\n",
    "    collFreq3 = np.array([ get_EOP_rate_avg(T*eV,T*eV,3*10**22*100**3,rho) for T in temp0 ])\n",
    "\n",
    "    plt.loglog(temp0,collFreq2)\n",
    "    plt.loglog(temp0,collFreq3)\n",
    "    plt.grid()"
   ]
  },
  {
   "cell_type": "markdown",
   "metadata": {
    "heading_collapsed": true
   },
   "source": [
    "## get_lambda_DH"
   ]
  },
  {
   "cell_type": "code",
   "execution_count": 15,
   "metadata": {
    "ExecuteTime": {
     "end_time": "2021-08-11T18:08:45.857242Z",
     "start_time": "2021-08-11T18:08:45.840664Z"
    },
    "hidden": true
   },
   "outputs": [
    {
     "data": {
      "text/plain": [
       "1.6614268764957574e-14"
      ]
     },
     "execution_count": 15,
     "metadata": {},
     "output_type": "execute_result"
    }
   ],
   "source": [
    "def get_lambda_DH(Te,Ti,ne,ni):\n",
    "        \n",
    "    # Te : J\n",
    "    # Ti : J  \n",
    "    # ne : 1/m^3\n",
    "    # ni : 1/m^3\n",
    "    \n",
    "    E_Fermi = get_E_Fermi(ne) # J    \n",
    "    T_Fermi = E_Fermi*2/3     # J\n",
    "    \n",
    "    Te_erg = Te*J_to_erg      # erg\n",
    "    Ti_erg = Ti*J_to_erg      # erg\n",
    "    Tf_erg = T_Fermi*J_to_erg # erg\n",
    "    \n",
    "    ne_gcc = ne/gcm3_to_kgm3  # g/cm^3\n",
    "    ni_gcc = ni/gcm3_to_kgm3  # g/cm^3\n",
    "        \n",
    "    part1 = 4*np.pi*ne_gcc*eCharge_ESU**2/np.sqrt(Te_erg**2+Tf_erg**2)\n",
    "    part2 = 4*np.pi*ni_gcc*eCharge_ESU**2*Z_CH**2/Ti_erg\n",
    "    \n",
    "    lambda_DH_cm = (part1 + part2)**(-1/2)     # cm\n",
    "    lambda_DH    = (part1 + part2)**(-1/2)/100 # m    \n",
    "    \n",
    "    if 0 : \n",
    "        print(' >>> get_lambda_DH ... ')    \n",
    "        print('E_Fermi/eV = ',\"{:.3e}\".format(E_Fermi/eV))\n",
    "        print('T_Fermi/eV = ',\"{:.3e}\".format(T_Fermi/eV))    \n",
    "        print('part1 = ',\"{:.3e}\".format(part1))\n",
    "        print('part2 = ',\"{:.3e}\".format(part2))    \n",
    "        print('lambda_DH (m) = ',\"{:.3e}\".format(lambda_DH)) \n",
    "    \n",
    "    return lambda_DH # m\n",
    "    \n",
    "get_lambda_DH(Te,Ti,10**22*100**3,n_a_CH)    "
   ]
  },
  {
   "cell_type": "markdown",
   "metadata": {
    "heading_collapsed": true
   },
   "source": [
    "## get_R_cloest"
   ]
  },
  {
   "cell_type": "code",
   "execution_count": 16,
   "metadata": {
    "ExecuteTime": {
     "end_time": "2021-08-11T18:48:47.837734Z",
     "start_time": "2021-08-11T18:48:47.826608Z"
    },
    "hidden": true
   },
   "outputs": [
    {
     "data": {
      "text/plain": [
       "8.936200869780325e-17"
      ]
     },
     "execution_count": 16,
     "metadata": {},
     "output_type": "execute_result"
    }
   ],
   "source": [
    "def get_R_cloest(Te,Ti,ne,ni):\n",
    "    \n",
    "    lambda_DH = get_lambda_DH(Te,Ti,ne,ni) # m\n",
    "    \n",
    "    w = lambertw(2*Z_CH*eCharge**2/(lambda_DH*Te)) # unitless\n",
    "    \n",
    "    R_cloest = lambda_DH*np.real(w) # m\n",
    "    \n",
    "    if 0 :\n",
    "        print('>>> get_R_cloest ... ')    \n",
    "        print('lambda_DH (m) = ',lambda_DH)\n",
    "        print('w, np.real(w) = ',w,np.real(w))\n",
    "        print('R_cloest  (m) = ',R_cloest)\n",
    "    \n",
    "    return R_cloest # m\n",
    "    \n",
    "get_R_cloest(Te,Ti,10**22*100**3,n_a_CH)    "
   ]
  },
  {
   "cell_type": "markdown",
   "metadata": {
    "heading_collapsed": true
   },
   "source": [
    "## get_R_Broglie"
   ]
  },
  {
   "cell_type": "code",
   "execution_count": 17,
   "metadata": {
    "ExecuteTime": {
     "end_time": "2021-08-11T18:58:03.837145Z",
     "start_time": "2021-08-11T18:58:03.829248Z"
    },
    "hidden": true
   },
   "outputs": [
    {
     "data": {
      "text/plain": [
       "1.0976946109186968e-08"
      ]
     },
     "execution_count": 17,
     "metadata": {},
     "output_type": "execute_result"
    }
   ],
   "source": [
    "def get_R_Broglie(Te):    \n",
    "    \n",
    "    R_Broglie = hbar*(2*np.pi)/np.sqrt(massElectron*Te) # m\n",
    "    \n",
    "    if 0 : \n",
    "        print(' >>> get_R_Broglie ... ')    \n",
    "        print('R_Broglie = ',R_Broglie)\n",
    "    \n",
    "    return R_Broglie # m\n",
    "    \n",
    "get_R_Broglie(Te)    "
   ]
  },
  {
   "cell_type": "markdown",
   "metadata": {
    "heading_collapsed": true
   },
   "source": [
    "## get_theta"
   ]
  },
  {
   "cell_type": "code",
   "execution_count": 18,
   "metadata": {
    "ExecuteTime": {
     "end_time": "2021-08-11T19:27:17.209684Z",
     "start_time": "2021-08-11T19:27:17.203376Z"
    },
    "hidden": true
   },
   "outputs": [],
   "source": [
    "def get_theta(b,bmax,Te,Ti,ne,ni):\n",
    "    \n",
    "    print(' >>> get_theta ... ')\n",
    "    \n",
    "    lambda_DH = get_lambda_DH(Te,Ti,ne,ni)\n",
    "    \n",
    "    R_cloest = get_R_cloest(Te,Ti,ne,ni)\n",
    "    \n",
    "    theta = integrate.quad(lambda r:r**(-2)*(1-2/Te*Z_CH*eCharge**2/r*math.exp(-r/lambda_DH)-(b/r)**2)**(-1/2),R_cloest,bmax) \n",
    "    \n",
    "    print(theta)\n",
    "    \n",
    "#get_theta(0,1.9964727358293832e-10,Te,Ti,10**22*100**3,n_a_CH)   "
   ]
  },
  {
   "cell_type": "markdown",
   "metadata": {
    "heading_collapsed": true
   },
   "source": [
    "## get_Coulomb_Log"
   ]
  },
  {
   "cell_type": "code",
   "execution_count": 19,
   "metadata": {
    "ExecuteTime": {
     "end_time": "2021-08-11T19:28:06.110170Z",
     "start_time": "2021-08-11T19:28:06.096408Z"
    },
    "hidden": true
   },
   "outputs": [
    {
     "data": {
      "text/plain": [
       "1"
      ]
     },
     "execution_count": 19,
     "metadata": {},
     "output_type": "execute_result"
    }
   ],
   "source": [
    "def get_Coulomb_Log(Te,Ti,ne,ni):\n",
    "         \n",
    "    R_cloest = get_R_cloest(Te,Ti,ne,ni)\n",
    "    \n",
    "    R_Broglie = get_R_Broglie(Te)\n",
    "    \n",
    "    lambda_DH = get_lambda_DH(Te,Ti,ne,ni)\n",
    "    \n",
    "    ai = (3/(4*np.pi*ni))**(1/3) # m\n",
    "    \n",
    "    bmin = 0.5 * max(R_cloest, R_Broglie) # m\n",
    "        \n",
    "    bmax = np.sqrt(lambda_DH**2+ai**2) # m\n",
    "    \n",
    "    Coulomb_Log = max(1/2*np.log(1+bmax**2/bmin**2),1)\n",
    "        \n",
    "    if 0 : \n",
    "        print('>>> get_Coulomb_Log ... ')        \n",
    "        print('R_cloest  (m) = ',R_cloest)\n",
    "        print('R_Broglie (m) = ',R_Broglie)\n",
    "        print('bmin (m)      = ',bmin) \n",
    "        print('lambda_DH (m) = ',lambda_DH)\n",
    "        print('ai (m)        = ',ai) \n",
    "        print('bmax (m)      = ',bmax)\n",
    "        print('Coulomb_Log   = ',Coulomb_Log)\n",
    "        \n",
    "    return Coulomb_Log\n",
    "    \n",
    "get_Coulomb_Log(Te,Ti,10**22*100**3,n_a_CH)     "
   ]
  },
  {
   "cell_type": "markdown",
   "metadata": {},
   "source": [
    "## get_Zeff"
   ]
  },
  {
   "cell_type": "code",
   "execution_count": 20,
   "metadata": {
    "ExecuteTime": {
     "end_time": "2021-08-21T01:49:39.332772Z",
     "start_time": "2021-08-21T01:49:37.686242Z"
    }
   },
   "outputs": [
    {
     "data": {
      "text/plain": [
       "[<matplotlib.lines.Line2D at 0x1c5b6208f10>]"
      ]
     },
     "execution_count": 20,
     "metadata": {},
     "output_type": "execute_result"
    },
    {
     "data": {
      "image/png": "[encoded data removed]",
      "text/plain": [
       "<Figure size 640x480 with 1 Axes>"
      ]
     },
     "metadata": {},
     "output_type": "display_data"
    }
   ],
   "source": [
    "def get_Zeff(ni,Te):\n",
    "    \n",
    "    # ni : 1/m^3\n",
    "    # T : J\n",
    "    \n",
    "    # Phys. Plasmas 23, 042704 (2016); https://doi.org/10.1063/1.4945753\n",
    "    # ni is the ion density\n",
    "    \n",
    "    T = Te/eV # eV\n",
    "    \n",
    "    a0 = 87.222\n",
    "    a1 = 10.866\n",
    "    a2 = -28.412\n",
    "    a3 = 17.915\n",
    "    a4 = -2.422\n",
    "    a5 = 0.595\n",
    "    a6 = -2.369*10**-2\n",
    "    \n",
    "    ai = (3/(4*np.pi*ni))**(1/3) # m\n",
    "    \n",
    "    Bohr_radius = 4*np.pi*vacuumPermittivity*hbar**2/(massElectron*eCharge**2) # m\n",
    "    \n",
    "    r0 = ai/Bohr_radius # no unit\n",
    "    \n",
    "    gamma0 = 1/(r0*T) # 1/eV\n",
    "    \n",
    "    fz = a1 + a2*T*((1+np.sqrt(3*gamma0))**(1/4)-1) + a3*T**0.9 + \\\n",
    "        (a4/r0 + a5/r0**2 + a6/r0**3)*T\n",
    "    \n",
    "    h = hbar*2*np.pi # J/K\n",
    "    \n",
    "    DB_wavelength = h/np.sqrt(massElectron*Te) # m\n",
    "    \n",
    "    RHS = a0/(ni*DB_wavelength**3)*math.exp(-fz/T)\n",
    "    \n",
    "    coeff = [1,RHS,-RHS]\n",
    "    sol   = np.roots(coeff) \n",
    "    \n",
    "    xi = max(sol)\n",
    "    xi_Jack = (-RHS+np.sqrt(RHS**2+4*RHS))/2\n",
    "    \n",
    "    Zeff = xi*Zmax_CH\n",
    "    \n",
    "    if 0 : \n",
    "        print('>>> get_Zeff ...')\n",
    "        print('Bohr_radius (m) = ',Bohr_radius)\n",
    "        print('ai (m) = ',ai)\n",
    "        print('a0 = ',a0)  \n",
    "        print('gamma0 = ',gamma0)      \n",
    "        print('fz = ',fz)\n",
    "        print('xi = ',xi)\n",
    "        print('xi_jack = ',xi_Jack)\n",
    "        print('Zeff = ',Zeff)\n",
    "        print('DB_wavelength (m) = ',DB_wavelength)  \n",
    "        print('ni*DB_wavelength**3 = ',ni*DB_wavelength**3)\n",
    "        print('a0/(ni*DB_wavelength**3) = ',a0/(ni*DB_wavelength**3))\n",
    "        print('math.exp(-fz/T) = ',math.exp(-fz/T))\n",
    "        print('sol = ',sol)\n",
    "        \n",
    "    return Zeff\n",
    "    \n",
    "get_Zeff(n_a_CH,1000*eV)  \n",
    "\n",
    "xdata = [ne for ne in np.arange(0.01,1000,1)]\n",
    "ydata = [get_Zeff(n_a_CH,T*eV)for T in xdata ]\n",
    "plt.loglog(xdata,ydata)"
   ]
  },
  {
   "cell_type": "markdown",
   "metadata": {},
   "source": [
    "## get_vc_neutral"
   ]
  },
  {
   "cell_type": "code",
   "execution_count": 21,
   "metadata": {
    "ExecuteTime": {
     "end_time": "2021-08-22T21:51:31.571164Z",
     "start_time": "2021-08-22T21:51:30.565115Z"
    }
   },
   "outputs": [
    {
     "data": {
      "image/png": "[encoded data removed]",
      "text/plain": [
       "<Figure size 640x480 with 1 Axes>"
      ]
     },
     "metadata": {},
     "output_type": "display_data"
    }
   ],
   "source": [
    "def get_vc_neutral(Te,ni,ne,mode):\n",
    "    \n",
    "    sigma = np.pi*(dCC)**2 # m^2\n",
    "    \n",
    "    if mode == 0 : \n",
    "        n0 = ni - ne\n",
    "        \n",
    "    if mode == 1 :     \n",
    "        Z_eff = get_Zeff(ni,Te)\n",
    "        ne_eff = ni*Z_eff\n",
    "        n0 = ni - min(ne_eff,ni)\n",
    "    \n",
    "    vc_neutral = n0*sigma*np.sqrt(Te/massElectron) # 1/s\n",
    "    \n",
    "    if 0 : \n",
    "        print('>>> get_vc_neutral ... ')\n",
    "        print('vc_neutral = ',\"{:.3e}\".format(vc_neutral))\n",
    "    \n",
    "    return vc_neutral\n",
    "    \n",
    "#get_vc_neutral(1*eV,n_a_CH,0.025*eV,0.) \n",
    "\n",
    "temp4 = [ T for T in np.arange(0.025,1000,1)]\n",
    "collFreq4_mode0 = [get_vc_neutral(T*eV,n_a_CH,1*10**22*100**3,0) for T in temp4]\n",
    "collFreq4_mode1 = [get_vc_neutral(T*eV,n_a_CH,1*10**22*100**3,1) for T in temp4]\n",
    "\n",
    "plt.loglog(temp4,collFreq4_mode0)\n",
    "plt.loglog(temp4,collFreq4_mode1)\n",
    "plt.grid()"
   ]
  },
  {
   "cell_type": "markdown",
   "metadata": {},
   "source": [
    "## get_FD_integral (testing purposes)"
   ]
  },
  {
   "cell_type": "code",
   "execution_count": 22,
   "metadata": {
    "ExecuteTime": {
     "end_time": "2021-08-16T17:43:45.476131Z",
     "start_time": "2021-08-16T17:43:45.447236Z"
    }
   },
   "outputs": [
    {
     "data": {
      "text/plain": [
       "1.396375280666549"
      ]
     },
     "execution_count": 22,
     "metadata": {},
     "output_type": "execute_result"
    }
   ],
   "source": [
    "def get_FD_integral(x):\n",
    "        \n",
    "    FD_integral = integrate.quad(lambda t:t**0.5/(1+math.exp(t-x)),0,100)[0]\n",
    "    \n",
    "    if 0 : \n",
    "        print(' >>> get_FD_integral ... ')\n",
    "        print(' FD_integral ',FD_integral)\n",
    "    \n",
    "    return FD_integral\n",
    "    \n",
    "x = 1\n",
    "get_FD_integral(x)    "
   ]
  },
  {
   "cell_type": "markdown",
   "metadata": {},
   "source": [
    "## get_vc_ion"
   ]
  },
  {
   "cell_type": "code",
   "execution_count": 23,
   "metadata": {
    "ExecuteTime": {
     "end_time": "2021-08-22T21:52:20.814463Z",
     "start_time": "2021-08-22T21:52:18.550945Z"
    }
   },
   "outputs": [
    {
     "data": {
      "image/png": "[encoded data removed]",
      "text/plain": [
       "<Figure size 640x480 with 1 Axes>"
      ]
     },
     "metadata": {},
     "output_type": "display_data"
    }
   ],
   "source": [
    "def get_vc_ion(Te,Ti,ne,ni,degeneracy):\n",
    "    \n",
    "    Z_eff = ni/ne\n",
    "    \n",
    "    #Z_eff = get_Zeff(ni,Te)\n",
    "    \n",
    "    ne_gcc = ne/100**3 # g/cm^3\n",
    "    \n",
    "    me_cgs = massElectron*1000 # g\n",
    "    \n",
    "    Te_erg = Te*J_to_erg # erg\n",
    "    \n",
    "    Te_eV = Te/eV # eV\n",
    "    \n",
    "    Coulomb_Log = get_Coulomb_Log(Te,Ti,ne,ni) # unitless\n",
    "    \n",
    "#     print(\"%%%%%%%%%%%%%%%%%%%%%%%%%%%%%%%%%%%%%%%%%%%%%%%%%%%%%%%%%%%%%%%%%\")\n",
    "#     print(\"INSIDE get_vc_ion\")\n",
    "# #     print(\"ne\", ne,\"Te\", Te)\n",
    "#     print('ne', ne, 'Te', Te)\n",
    "\n",
    "    \n",
    "    mu = get_mu(ne,Te) # J\n",
    "    \n",
    "    x = mu/Te # unitless\n",
    "    \n",
    "    FD_integral = get_FD_integral(x)+10**(-150)\n",
    "    \n",
    "    part1 = 2*np.sqrt(2)*np.pi/3\n",
    "    \n",
    "    part2 = Z_eff*eCharge_ESU**4*ne_gcc/np.sqrt(me_cgs)/Te_erg**1.5\n",
    "    \n",
    "    part3 = 1/(1+math.exp(-x))/FD_integral\n",
    "    \n",
    "    vc_ion = part1*part2*Coulomb_Log*part3**degeneracy\n",
    "            \n",
    "    Zlnlambda = 10\n",
    "    # Ref[NRL : all quantities in CGS except Te in eV]\n",
    "    vei_NRL = 2.91*10**-6*ne_gcc*Zlnlambda/(Te_eV**1.5) # 1/s with unit [Te] in eV    \n",
    "    \n",
    "    vei_WOO = math.sqrt(2)*ne*eCharge**4*Zlnlambda/ \\\n",
    "               (12*math.pi**1.5*vacuumPermittivity**2*math.sqrt(massElectron)*Te**1.5)    \n",
    "    \n",
    "    if degeneracy == 2 : vc_ion = vei_NRL\n",
    "    if degeneracy == 3 : vc_ion = vei_WOO\n",
    "\n",
    "    if 0 : \n",
    "        print('>>>> get_vc_ion ...')\n",
    "        print('part1 = ',part1)    \n",
    "        print('part2 = ',part2)\n",
    "        print('part3 = ',part3)    \n",
    "        print('Coulomb_Log = ',Coulomb_Log)   \n",
    "        print('mu = ',mu)  \n",
    "        print('FD_integral = ',FD_integral)   \n",
    "        print('Te/eV = ',Te/eV)\n",
    "        print('degeneracy = ',degeneracy)\n",
    "        print('vei = ',vei)\n",
    "        print('vc_ion = ',vc_ion)        \n",
    "        \n",
    "    return vc_ion\n",
    "    \n",
    "#get_vc_ion(Te,Ti,10**22*100**3,n_a_CH,0) \n",
    "\n",
    "NE_IN = 3*10**20*100**3\n",
    "\n",
    "if 1 : \n",
    "    temp5 = [ T for T in np.arange(0.01,1000,1)]\n",
    "    collFreq5   = np.array([get_vc_ion(T*eV,T*eV,NE_IN,n_a_CH,0) for T in temp5])\n",
    "    collFreq5QM = np.array([get_vc_ion(T*eV,T*eV,NE_IN,n_a_CH,1) for T in temp5])\n",
    "    collFreq5NRL= np.array([get_vc_ion(T*eV,T*eV,NE_IN,n_a_CH,2) for T in temp5])\n",
    "    collFreq5WOO= np.array([get_vc_ion(T*eV,T*eV,NE_IN,n_a_CH,3) for T in temp5])\n",
    "    \n",
    "    # get_vc_neutral(Te,ni,ne)\n",
    "    collFreq4_mode0 = np.array([get_vc_neutral(T*eV,n_a_CH,NE_IN,0) for T in temp5])\n",
    "    collFreq4_mode1 = np.array([get_vc_neutral(T*eV,n_a_CH,NE_IN,1) for T in temp5])    \n",
    "\n",
    "    plt.loglog(temp5,collFreq5,   c='r')\n",
    "    plt.loglog(temp5,collFreq5QM, c='g')\n",
    "    plt.loglog(temp5,collFreq5NRL,c='b')\n",
    "    plt.loglog(temp5,collFreq5WOO,c='k')\n",
    "    \n",
    "    plt.loglog(temp5,collFreq4_mode0)\n",
    "    plt.loglog(temp5,collFreq4_mode1)    \n",
    "    plt.loglog(temp5,collFreq4_mode0[:]+collFreq5[:]) \n",
    "    plt.loglog(temp5,collFreq4_mode1[:]+collFreq5[:])     "
   ]
  },
  {
   "cell_type": "markdown",
   "metadata": {},
   "source": [
    "## get_vc_new"
   ]
  },
  {
   "cell_type": "code",
   "execution_count": 24,
   "metadata": {
    "ExecuteTime": {
     "end_time": "2021-08-22T21:53:28.786702Z",
     "start_time": "2021-08-22T21:53:07.677353Z"
    },
    "scrolled": false
   },
   "outputs": [
    {
     "data": {
      "image/png": "[encoded data removed]",
      "text/plain": [
       "<Figure size 640x480 with 1 Axes>"
      ]
     },
     "metadata": {},
     "output_type": "display_data"
    }
   ],
   "source": [
    "def get_vc_new(Te,Ti,ne,ni,rho):\n",
    "    \n",
    "    if 0 : \n",
    "        print('Te/eV = ',\"{:.3e}\".format(Te/eV))\n",
    "        print('Ti/eV = ',\"{:.3e}\".format(Ti/eV))\n",
    "        print('ne    = ',\"{:.3e}\".format(ne))\n",
    "        print('ni    = ',\"{:.3e}\".format(ni))        \n",
    "        print('rho   = ',\"{:.3e}\".format(rho))           \n",
    "        \n",
    "    vc_neutral = get_vc_neutral(Te,ni,ne,0)\n",
    "    \n",
    "    degeneracy = 1\n",
    "    \n",
    "#     print(\"#######################################################\")\n",
    "#     print(\"INSIDE get_vc_new\")\n",
    "#     print(\"Te\", Te,\"Ti\", Ti,\"ne\", ne,\"ni\", ni,\"degeneracy\", degeneracy)\n",
    "    vc_ion = get_vc_ion(Te,Ti,ne,ni,degeneracy)\n",
    "    \n",
    "#     print('Te', Te, 'Ti', Ti, 'ne', ne, 'ni', ni, 'degeneracy', degeneracy)\n",
    "    \n",
    "    XPS = (np.tanh(-(Te-Tc))+1)/2\n",
    "    \n",
    "    XAM = (np.tanh(+(Te-Tc))+1)/2\n",
    "    \n",
    "    ve = math.sqrt(1.5*Te/massElectron) # m/s\n",
    "    vmpf = ve*ni**(1/3) # 1/s    \n",
    "    \n",
    "    if Ti<Tc : \n",
    "        EAP_rate_avg = get_EAP_rate_avg(Te,Ti,ne,rho)\n",
    "        EOP_rate_avg = get_EOP_rate_avg(Te,Ti,ne,rho)        \n",
    "        vc_new = (EAP_rate_avg + EOP_rate_avg)*1\n",
    "        \n",
    "    #if (Te>=Tc) and (Te<eV) : vc_new = vc_neutral\n",
    "    if (Ti>=Tc) : \n",
    "        #vc_new = vc_neutral+vc_ion\n",
    "        vc_new = 1/(1/vc_neutral+1/vc_ion)\n",
    "        #vc_new = 1/(1/vmpf+1/vc_ion)\n",
    "    \n",
    "    if 0 : \n",
    "        print('>>> get_vc_new ... ')     \n",
    "        print('EAP_rate_avg (1/s) = ',\"{:.3e}\".format(EAP_rate_avg))\n",
    "        print('EOP_rate_avg (1/s) = ',\"{:.3e}\".format(EOP_rate_avg)) \n",
    "        print('vc_neutral (1/s)   = ',\"{:.3e}\".format(vc_neutral))\n",
    "        print('vc_ion (1/s)       = ',\"{:.3e}\".format(vc_ion))\n",
    "        print('vc_new (1/s)       = ',\"{:.3e}\".format(vc_new))\n",
    "    \n",
    "    return vc_new\n",
    "        \n",
    "#get_vc_new(Te,Ti,3*10**22*100**3,n_a_CH,rho) \n",
    "\n",
    "temp6 = [ T for T in np.arange(0.01,1000,0.01)]\n",
    "collFreq6  = [get_vc_new(T*eV,T*eV,3*10**22*100**3,n_a_CH,rho) for T in temp6]\n",
    "plt.loglog(temp6,collFreq6)\n",
    "plt.grid()"
   ]
  },
  {
   "cell_type": "code",
   "execution_count": 25,
   "metadata": {},
   "outputs": [],
   "source": [
    "# get_vc_new(Te,Ti,n_fe,n_a_CH,R_CH)"
   ]
  },
  {
   "cell_type": "code",
   "execution_count": 26,
   "metadata": {},
   "outputs": [],
   "source": [
    "# Te 4.000000234205021e-21 Ti 4.0000000000000004e-21 n_fe 9999999414595144.0 n_a_CH 30000000000000000000000000000 R_CH 1030.0"
   ]
  },
  {
   "cell_type": "code",
   "execution_count": 27,
   "metadata": {},
   "outputs": [],
   "source": [
    "\n",
    "# get_vc_new(4.000000234205021e-21, 4.0000000000000004e-21, 9999999414595144.0, 30000000000000000000000000000, 1030.0)"
   ]
  },
  {
   "cell_type": "markdown",
   "metadata": {},
   "source": [
    "## get_vc"
   ]
  },
  {
   "cell_type": "code",
   "execution_count": 28,
   "metadata": {
    "ExecuteTime": {
     "end_time": "2021-08-22T21:53:50.463961Z",
     "start_time": "2021-08-22T21:53:48.709561Z"
    }
   },
   "outputs": [
    {
     "data": {
      "image/png": "[encoded data removed]",
      "text/plain": [
       "<Figure size 880x480 with 1 Axes>"
      ]
     },
     "metadata": {},
     "output_type": "display_data"
    }
   ],
   "source": [
    "def get_vc(Te,Til,nfe,na,mode):\n",
    "    \n",
    "    # Te unit  : eV\n",
    "    # Til unit : eV\n",
    "    # nfe unit : 1/m^3\n",
    "    # na unit  : 1/m^3\n",
    "    \n",
    "    if Til <= 0.1 : \n",
    "        vph0 = 10**14 # 1/s\n",
    "        T0 = 300*kelvin_to_eV # eV\n",
    "        vc = vph0*Til/T0 # 1/s\n",
    "    \n",
    "    if Til > 0.1 :\n",
    "        Zlnlambda = 10\n",
    "        # Ref[NRL : all quantities in CGS except Te in eV]\n",
    "        vei_NRL = 2.91*10**-6*(nfe/100**3)*Zlnlambda/(Te**1.5) # 1/s with unit [Te] in eV\n",
    "        # Ref[Spitzer]\n",
    "        vei_WOO = math.sqrt(2)*nfe*eCharge**4*Zlnlambda/ \\\n",
    "              (12*math.pi**1.5*vacuumPermittivity**2*math.sqrt(massElectron)*(Te*eV)**1.5) # 1/s\n",
    "        # Ref[Lee-More : An electron conductivity model for dense plasmas]\n",
    "        ve = math.sqrt(1.5*Te*eV/massElectron) # m/s\n",
    "        vmpf = ve*na**(1/3) # 1/s\n",
    "        if mode==0 : vc = 1/(1/vmpf+1/vei_NRL) # 1/s\n",
    "        if mode==1 : vc = 1/(1/vmpf+1/vei_WOO) # 1/s\n",
    "        \n",
    "    if Til > 1000:\n",
    "        # Ref[Spitzer]\n",
    "        vei = math.sqrt(2)*nfe*eCharge**4*Zlnlambda/ \\\n",
    "              (12*math.pi**1.5*vacuumPermittivity**2*math.sqrt(massElectron)*(Te*eV)**1.5)\n",
    "        vc = vei\n",
    "\n",
    "    return vc # 1/s\n",
    "\n",
    "plot=1\n",
    "if plot==1:\n",
    "    \n",
    "    ne_IN = 1*10**22*100**3\n",
    "    temp = [ T for T in np.arange(0.01,1000,0.01) ]\n",
    "    collFreq_NRL = [get_vc(T,T,ne_IN,n_a_CH,0) for T in temp]\n",
    "    collFreq_WOO = [get_vc(T,T,ne_IN,n_a_CH,1) for T in temp]\n",
    "         \n",
    "    plt.figure(figsize=[11,6])\n",
    "    \n",
    "    #plt.loglog(temp,collFreq_NRL,lw=2,ls='dashed',   basex=10, c='red', label=r'$\\nu_{\\mathrm{old,NRL}}$')\n",
    "    plt.loglog(temp,collFreq_WOO,lw=2,c='k',label=r'$\\nu_{\\mathrm{old}}$')\n",
    "    #plt.loglog(temp0,collFreq2,lw=2, basex=10, c='b', label=r'$\\nu_{LA}$')\n",
    "    #plt.loglog(temp0,collFreq3,lw=2, basex=10, c='r', label=r'$\\nu_{LO}$')\n",
    "    #plt.loglog(temp0,collFreq2[:]+collFreq3[:],lw=1, basex=10, color='r',           label=r'$\\nu_{LA}+\\nu_{LO}$')\n",
    "    \n",
    "    #plt.loglog(temp4,collFreq4,lw=2, basex=10, color='purple', label=r'$\\nu_{en}$') \n",
    "    #plt.loglog(temp5,collFreq5WOO,lw=2, basex=10, color='green', label=r'$\\nu_{ei}$')     \n",
    "    plt.loglog(temp6,collFreq6,lw=2,color='r',label=r'$\\nu_{\\mathrm{new}}$') \n",
    "  \n",
    "    title = r'$n_{e} = 10^{22}\\mathrm{cm^{-3}}$ and $T_{e} = T_{i}$'\n",
    "    \n",
    "    plt.legend(fontsize=20,loc='lower left')\n",
    "    plt.title(title,fontsize=20)\n",
    "    plt.xlabel(r'\\textbf{Temperature (eV)}',fontsize=20)\n",
    "    plt.ylabel(r'\\textbf{Collision frequency $\\nu_{\\mathrm{c}}~(1/s)$}',fontsize=20)\n",
    "    plt.xticks(fontsize=20)\n",
    "    plt.yticks(fontsize=20)\n",
    "    plt.tick_params(direction='in',right=True,top=True,length=10)\n",
    "    plt.tick_params(which='minor',length=5,right=True,direction='in',top=True)\n",
    "    plt.ylim([10**13,10**16])\n",
    "    plt.xlim([0.01,1000])\n",
    "    plt.grid(which='major', linestyle='-', linewidth='1', color='grey')\n",
    "    plt.grid(which='minor', linestyle='--', linewidth='0.5', color='grey')\n",
    "    \n",
    "    plt.tight_layout()\n",
    "    if 0 : \n",
    "        export_name = 'collisional_freq_new_V5'\n",
    "        print(f'{\"Save as\":30}',':',export_name)\n",
    "        path = '/Users/kwoo/Desktop/PostDoc/InitialPlasma/reports/plots/'\n",
    "        print(f'{\"path_local\":30}',':',str(pathlib.Path().absolute()))    \n",
    "        print(f'{\"path_save\":30}',':',path)\n",
    "        plt.savefig(path+export_name+'.eps',format='eps')\n",
    "        plt.savefig(path+export_name,dpi=500) \n",
    "    plt.show() "
   ]
  },
  {
   "cell_type": "markdown",
   "metadata": {},
   "source": [
    "# Heat Capacity"
   ]
  },
  {
   "cell_type": "markdown",
   "metadata": {
    "ExecuteTime": {
     "end_time": "2021-08-21T16:49:15.709409Z",
     "start_time": "2021-08-21T16:49:15.674901Z"
    },
    "heading_collapsed": true
   },
   "source": [
    "## get_cp_solid"
   ]
  },
  {
   "cell_type": "code",
   "execution_count": 29,
   "metadata": {
    "ExecuteTime": {
     "end_time": "2021-08-21T16:50:17.034489Z",
     "start_time": "2021-08-21T16:50:16.999246Z"
    },
    "hidden": true
   },
   "outputs": [],
   "source": [
    "def get_cp_solid(T):\n",
    "    \n",
    "    # T : K\n",
    "    \n",
    "    a1 = -0.098338\n",
    "    a2 = -1.30958\n",
    "    a3 = 6.5499\n",
    "    a4 = -8.13656\n",
    " \n",
    "    cp_solid_1 = math.exp(a1*np.log(T)**3 + a2*np.log(T)**2 + a3*np.log(T) + a4)    \n",
    "    cp_solid_2 = 7.7551*10**5*T**(-2) + 0.53447*T - 41.58\n",
    "    cp_molten  = 0.2653*T + 95.12\n",
    "    \n",
    "    if (T>=10) and (T<200)  : cp = cp_solid_1\n",
    "        \n",
    "    if (T>=200) and (T<373) : cp = cp_solid_2\n",
    "        \n",
    "    if (T>=373) and (T<1000) : cp = cp_molten      \n",
    "    \n",
    "    return cp"
   ]
  },
  {
   "cell_type": "markdown",
   "metadata": {
    "heading_collapsed": true
   },
   "source": [
    "## get_cp_data_lowT"
   ]
  },
  {
   "cell_type": "code",
   "execution_count": 30,
   "metadata": {
    "ExecuteTime": {
     "end_time": "2021-08-21T17:10:18.770068Z",
     "start_time": "2021-08-21T17:10:18.445665Z"
    },
    "hidden": true
   },
   "outputs": [
    {
     "data": {
      "text/plain": [
       "[<matplotlib.lines.Line2D at 0x1c5f052c290>]"
      ]
     },
     "execution_count": 30,
     "metadata": {},
     "output_type": "execute_result"
    },
    {
     "data": {
      "image/png": "[encoded data removed]",
      "text/plain": [
       "<Figure size 640x480 with 1 Axes>"
      ]
     },
     "metadata": {},
     "output_type": "display_data"
    }
   ],
   "source": [
    "def get_cp_data_lowT():\n",
    "    \n",
    "    data =np.array([[0,0],\n",
    "          [0.1,0.0000633],\n",
    "          [0.2,0.000132],\n",
    "          [0.3,0.000269],\n",
    "          [0.4,0.000496],\n",
    "          [0.5,0.000838],\n",
    "          [0.6,0.00133],\n",
    "          [0.7,0.00200],\n",
    "          [0.8,0.00288],\n",
    "          [0.9,0.00401],\n",
    "          [1.0,0.00543],\n",
    "          [1.2,0.00929],\n",
    "          [1.4,0.01480],\n",
    "          [1.6,0.02231],\n",
    "          [1.8,0.03217],\n",
    "          [2.0,0.04477],\n",
    "          [3.0,0.1622],\n",
    "          [4.0,0.4058],\n",
    "          [5.0,0.8215],\n",
    "          [10,3.33],\n",
    "          [15,7.03],\n",
    "          [20,10.77],\n",
    "          [25,14.26],\n",
    "          [30,17.47],\n",
    "          [40,23.13],\n",
    "          [50,28.01],\n",
    "          [60,32.37],\n",
    "          [70,36.38],\n",
    "          [80,40.17],\n",
    "          [90,43.81],\n",
    "          [100,47.37],\n",
    "          [120,54.38],\n",
    "          [130,57.89],\n",
    "          [140,61.43],\n",
    "          [150,65.01],\n",
    "          [160,68.65],\n",
    "          [170,72.36],\n",
    "          [180,76.14],\n",
    "          [190,80.01],\n",
    "          [200,84.70175]])\n",
    "    \n",
    "    return data # J/mol/K\n",
    "\n",
    "cp_data_lowT = get_cp_data_lowT()\n",
    "plt.plot(cp_data_lowT[:,0],cp_data_lowT[:,1])\n",
    "\n",
    "temp = [ T for T in range(200,600,1)]\n",
    "cp_solid = [ get_cp_solid(T) for T in temp ]\n",
    "plt.plot(temp,cp_solid)"
   ]
  },
  {
   "cell_type": "markdown",
   "metadata": {
    "heading_collapsed": true
   },
   "source": [
    "## func_T3_law"
   ]
  },
  {
   "cell_type": "code",
   "execution_count": 31,
   "metadata": {
    "ExecuteTime": {
     "end_time": "2021-08-21T16:53:00.761308Z",
     "start_time": "2021-08-21T16:53:00.753816Z"
    },
    "hidden": true
   },
   "outputs": [],
   "source": [
    "def func_T3_law(T,TD):\n",
    "    # T : K\n",
    "    # TD : K\n",
    "    gas_constant = mole*kB # J/mole/K    \n",
    "    return 12*np.pi**4/5*gas_constant*(T/TD)**3"
   ]
  },
  {
   "cell_type": "markdown",
   "metadata": {
    "heading_collapsed": true
   },
   "source": [
    "## get_T_Debye"
   ]
  },
  {
   "cell_type": "code",
   "execution_count": 32,
   "metadata": {
    "ExecuteTime": {
     "end_time": "2021-08-21T17:25:30.227139Z",
     "start_time": "2021-08-21T17:25:29.624088Z"
    },
    "hidden": true
   },
   "outputs": [
    {
     "name": "stdout",
     "output_type": "stream",
     "text": [
      "T_Debye (K) =  66.87350842025788\n",
      "T_Debye (meV) =  5.765658687402574\n"
     ]
    },
    {
     "data": {
      "image/png": "[encoded data removed]",
      "text/plain": [
       "<Figure size 640x480 with 1 Axes>"
      ]
     },
     "metadata": {},
     "output_type": "display_data"
    }
   ],
   "source": [
    "def get_T_Debye(cp_data_lowT):\n",
    "    \n",
    "    data = []\n",
    "    for ele in cp_data_lowT:\n",
    "        if ele[0]<10 : data.append(ele)\n",
    "    data = np.array(data)\n",
    "        \n",
    "    gas_constant = mole*kB # J/mole/K\n",
    "        \n",
    "    xdata = data[:,0]\n",
    "    ydata = data[:,1]\n",
    "     \n",
    "    popt, pcov = curve_fit(func_T3_law, xdata, ydata)\n",
    "    T_Debye = popt[0]\n",
    "    \n",
    "    xdata_fit = [T for T in np.arange(0,5,0.1)]\n",
    "    ydata_fit = func_T3_law(xdata_fit,T_Debye) \n",
    "    \n",
    "    plt.plot(xdata,ydata)\n",
    "    plt.plot(xdata_fit,ydata_fit) \n",
    "    \n",
    "    print('T_Debye (K) = ',popt[0])\n",
    "    print('T_Debye (meV) = ',popt[0]*kelvin_to_eV*1000)    \n",
    "    \n",
    "    return T_Debye\n",
    "\n",
    "T_Debye = get_T_Debye(cp_data_lowT)"
   ]
  },
  {
   "cell_type": "markdown",
   "metadata": {
    "heading_collapsed": true
   },
   "source": [
    "## get_Vexpansion"
   ]
  },
  {
   "cell_type": "code",
   "execution_count": 33,
   "metadata": {
    "ExecuteTime": {
     "end_time": "2021-08-21T16:56:17.321982Z",
     "start_time": "2021-08-21T16:56:17.311231Z"
    },
    "hidden": true
   },
   "outputs": [],
   "source": [
    "def get_Vexpansion(T):\n",
    "    \n",
    "    # molar volume of a repeat unit\n",
    "    Vm = 92.8*10**-6 # m^3/mol \n",
    "    \n",
    "    # volumetric coefficient\n",
    "    ag = 2.37*10**-4\n",
    "    ar = 5.74*10**-4 \n",
    "\n",
    "    bulk_modulus = 3.58*10**9 # Pa\n",
    "    \n",
    "    Vexpansion = Vm*ag**2*bulk_modulus*T\n",
    "    \n",
    "    return Vexpansion"
   ]
  },
  {
   "cell_type": "markdown",
   "metadata": {
    "heading_collapsed": true
   },
   "source": [
    "## get_Einstein_function"
   ]
  },
  {
   "cell_type": "code",
   "execution_count": 34,
   "metadata": {
    "ExecuteTime": {
     "end_time": "2021-08-21T16:57:28.917291Z",
     "start_time": "2021-08-21T16:57:28.489433Z"
    },
    "hidden": true
   },
   "outputs": [
    {
     "name": "stdout",
     "output_type": "stream",
     "text": [
      "0\n"
     ]
    },
    {
     "data": {
      "image/png": "[encoded data removed]",
      "text/plain": [
       "<Figure size 640x480 with 1 Axes>"
      ]
     },
     "metadata": {},
     "output_type": "display_data"
    }
   ],
   "source": [
    "def get_Einstein_function(T,theta,N):\n",
    "    \n",
    "    R = 8.3145 # J/mole/K  \n",
    "       \n",
    "    if theta/T > 200 : \n",
    "        Einstein_function = 0\n",
    "    else : \n",
    "        part1 = (theta/T)**2*math.exp(theta/T)\n",
    "        part2 = (math.exp(theta/T) - 1)**2        \n",
    "        Einstein_function = N*R*part1/part2\n",
    "    \n",
    "    return Einstein_function\n",
    "\n",
    "print(get_Einstein_function(1,350,1))\n",
    "\n",
    "if 1 :     \n",
    "    temp = [ T for T in range(1,700,1)]\n",
    "    plt.plot(temp,[get_Einstein_function(T,4000,8) for T in temp])      \n",
    "    plt.plot(temp,[get_Einstein_function(T,2000,10) for T in temp])      \n",
    "    plt.plot(temp,[get_Einstein_function(T,1500,12) for T in temp])      \n",
    "    plt.plot(temp,[get_Einstein_function(T,1000,8) for T in temp])    \n",
    "    plt.plot(temp,[get_Einstein_function(T,700,2) for T in temp])\n",
    "    plt.plot(temp,[get_Einstein_function(T,500,1) for T in temp])\n",
    "    plt.plot(temp,[get_Einstein_function(T,350,1) for T in temp])"
   ]
  },
  {
   "cell_type": "markdown",
   "metadata": {
    "heading_collapsed": true
   },
   "source": [
    "## get_cp_group"
   ]
  },
  {
   "cell_type": "code",
   "execution_count": 35,
   "metadata": {
    "ExecuteTime": {
     "end_time": "2021-08-21T16:58:41.117293Z",
     "start_time": "2021-08-21T16:58:40.816117Z"
    },
    "hidden": true
   },
   "outputs": [
    {
     "name": "stdout",
     "output_type": "stream",
     "text": [
      "74.9506385416552\n"
     ]
    },
    {
     "data": {
      "image/png": "[encoded data removed]",
      "text/plain": [
       "<Figure size 640x480 with 1 Axes>"
      ]
     },
     "metadata": {},
     "output_type": "display_data"
    }
   ],
   "source": [
    "def get_cp_group(T):\n",
    "    \n",
    "    cp_group = get_Einstein_function(T,4000,8) +\\\n",
    "               get_Einstein_function(T,2000,10) +\\\n",
    "               get_Einstein_function(T,1500,12) +\\\n",
    "               get_Einstein_function(T,1000,8) +\\\n",
    "               get_Einstein_function(T,700,2) +\\\n",
    "               get_Einstein_function(T,500,1) +\\\n",
    "               get_Einstein_function(T,350,1)\n",
    "    \n",
    "    dimension = 1\n",
    "    return cp_group*dimension # J/mol/K\n",
    "\n",
    "print(get_cp_group(300))\n",
    "\n",
    "if 1 :\n",
    "    temp = [ T for T in range(1,700,1)]\n",
    "    cp_group = [ get_cp_group(T) for T in temp ]\n",
    "    plt.plot(temp,cp_group)"
   ]
  },
  {
   "cell_type": "markdown",
   "metadata": {
    "heading_collapsed": true
   },
   "source": [
    "## get_cp_skeletal"
   ]
  },
  {
   "cell_type": "code",
   "execution_count": 36,
   "metadata": {
    "ExecuteTime": {
     "end_time": "2021-08-21T17:12:20.206400Z",
     "start_time": "2021-08-21T17:12:19.763762Z"
    },
    "hidden": true
   },
   "outputs": [
    {
     "data": {
      "image/png": "[encoded data removed]",
      "text/plain": [
       "<Figure size 640x480 with 1 Axes>"
      ]
     },
     "metadata": {},
     "output_type": "display_data"
    }
   ],
   "source": [
    "def get_cp_skeletal(T):\n",
    "    \n",
    "    R = 8.3145 # J/mole/K\n",
    "    \n",
    "    #CT = 6 R [ (T/42.5)^2 / (1 + (T/42.5)^2)]    \n",
    "    #CP - CV = -T (dV/dT)2P / (dV/dP)2T = Vα2BT\n",
    "    \n",
    "    cp_skeletal = 6 * R * ((T/42.5)**2 / (1 + (T/42.5)**2))\n",
    "    \n",
    "    return cp_skeletal\n",
    "\n",
    "if 1 :\n",
    "    temp = np.array([ T for T in range(1,700,1)])\n",
    "    cp_skeletal = np.array([ get_cp_skeletal(T) for T in temp ])    \n",
    "    plt.plot(temp,cp_skeletal)\n",
    "    \n",
    "    Vexpansion = np.array([ get_Vexpansion(T) for T in temp ])\n",
    "    plt.plot(temp,Vexpansion) \n",
    "    \n",
    "    cp_group = np.array([ get_cp_group(T) for T in temp ])\n",
    "    plt.plot(temp,cp_group)\n",
    "    \n",
    "    temp2 = [ T for T in range(200,700,1)]\n",
    "    cp_solid = np.array([ get_cp_solid(T) for T in temp2 ])\n",
    "\n",
    "    cp_Debye = [ func_T3_law(T,T_Debye) for T in temp]    \n",
    "    \n",
    "    plt.plot(temp,cp_skeletal+cp_group,ls='dashed') \n",
    "    plt.plot(temp,cp_skeletal+cp_group+Vexpansion,ls='dashed')     "
   ]
  },
  {
   "cell_type": "markdown",
   "metadata": {
    "heading_collapsed": true
   },
   "source": [
    "## get_report_cp"
   ]
  },
  {
   "cell_type": "code",
   "execution_count": 37,
   "metadata": {
    "ExecuteTime": {
     "end_time": "2021-08-21T17:13:33.356888Z",
     "start_time": "2021-08-21T17:13:30.102978Z"
    },
    "hidden": true
   },
   "outputs": [
    {
     "data": {
      "image/png": "[encoded data removed]",
      "text/plain": [
       "<Figure size 880x480 with 1 Axes>"
      ]
     },
     "metadata": {},
     "output_type": "display_data"
    }
   ],
   "source": [
    "def get_report_cp(exportFlag):\n",
    "    \n",
    "    plt.close('all')\n",
    "    fig = plt.figure(figsize=[11,6])\n",
    "    fs,fs2,fs3,fs4=20,15,18,10\n",
    "\n",
    "    label1 = r'\\textbf{$C_{\\mathrm{Skeletal}}$}'\n",
    "    label2 = r'\\textbf{$C_{\\mathrm{Group}}$}'\n",
    "    label3 = r'\\textbf{$C_{\\mathrm{V}}$}'\n",
    "    label4 = r'\\textbf{$C_{\\mathrm{P}}$}'\n",
    "    label5 = r'\\textbf{$V\\alpha^2BT$}'\n",
    "    label6 = r'\\textbf{Exp. data}' \n",
    "    label7 = r'\\textbf{$\\frac{12\\pi^4N_{\\mathrm{A}}k_{\\mathrm{B}}}{5}(T/T_{\\mathrm{Debye}})^3$}'    \n",
    "\n",
    "    nrow,ncol=1,1\n",
    "    ax1 = plt.subplot2grid((nrow, ncol), (0,0), colspan=1, rowspan=1) \n",
    "    \n",
    "    yfactor = 1#1/mole/kelvin_to_eV/eV\n",
    "\n",
    "    ax1.plot(temp,cp_skeletal*yfactor,lw=2,label=label1)    \n",
    "    ax1.plot(temp,cp_group*yfactor,lw=2,label=label2)    \n",
    "    ax1.plot(temp,(cp_skeletal+cp_group)*yfactor,lw=2,label=label3)\n",
    "    ax1.plot(temp,(cp_skeletal+cp_group+Vexpansion)*yfactor,lw=2,label=label4)\n",
    "    ax1.plot(temp,Vexpansion*yfactor,lw=2,label=label5) \n",
    "    \n",
    "    #ax1.plot(cp_data_lowT[:,0],cp_data_lowT[:,1],lw=2,c='k')        \n",
    "    ax1.plot(temp2,cp_solid,lw=2,c='k')    # EXPERIMENTAL DATA!!! exp_data_CH\n",
    "    ax1.plot(temp,cp_Debye,lw=2,label=label7)     \n",
    "     \n",
    "    ax1.tick_params(which='major',length=10,labelsize=fs2)\n",
    "    ax1.set_xlabel(r'\\textbf{Temperature $T$ (K)}',fontsize=fs)\n",
    "    ax1.set_ylabel(r'\\textbf{Heat Capacity $C_{\\mathrm{m}}$ (J/mol/K)}',fontsize=fs) \n",
    "    #ax1.set_ylabel(r'\\textbf{Heat Capacity $C_\\mathrm{m}^\\mathrm{J/mol/K}\\times 0.12$}',fontsize=fs)\n",
    "    ax1.set_title(r'\\textbf{Polystyrene heat capacity}',fontsize=fs)      \n",
    "    ax1.legend(fontsize=fs2,loc='upper left',bbox_to_anchor=[0.1,0.95],numpoints=1)\n",
    "    ax1.set_ylim([0,300])\n",
    "    ax1.grid()\n",
    "\n",
    "\n",
    "    plt.tight_layout()\n",
    "    if exportFlag : \n",
    "        export_name = 'polystyrene_heat_capacity'\n",
    "        print(f'{\"Save as\":30}',':',export_name)\n",
    "        path = '/Users/kwoo/Desktop/PostDoc/InitialPlasma/reports/plots/'\n",
    "        print(f'{\"path_local\":30}',':',str(pathlib.Path().absolute()))    \n",
    "        print(f'{\"path_save\":30}',':',path)\n",
    "        plt.savefig(path+export_name+'.eps',format='eps')\n",
    "        plt.savefig(path+export_name,dpi=500) \n",
    "    plt.show() \n",
    "              \n",
    "get_report_cp(exportFlag=0)"
   ]
  },
  {
   "cell_type": "markdown",
   "metadata": {},
   "source": [
    "# Light Wave Propagation"
   ]
  },
  {
   "cell_type": "markdown",
   "metadata": {
    "heading_collapsed": true
   },
   "source": [
    "## get_param"
   ]
  },
  {
   "cell_type": "code",
   "execution_count": 38,
   "metadata": {
    "ExecuteTime": {
     "end_time": "2021-08-12T22:14:41.925475Z",
     "start_time": "2021-08-12T22:14:41.912923Z"
    },
    "hidden": true
   },
   "outputs": [
    {
     "name": "stdout",
     "output_type": "stream",
     "text": [
      "probe_intensity [W/m^2]  =  5.00e+13\n",
      "probe_intensity/100**2   =  5.00e+09 [W/cm^2]\n",
      "Eg_CH   [J]              =  6.48e-19\n",
      "rho_CH  [kg/m^3]         =  1030.0\n",
      "n_vb_CH [1/m^3]          =  3.335e+29\n",
      "n_a_CH  [1/m^3]          =  3.000e+28\n"
     ]
    }
   ],
   "source": [
    "um = 10**-6 # m\n",
    "nm = 10**-9 # m\n",
    "ns = 10**-9 # s\n",
    "ps = 10**-12 # s\n",
    "fs = 10**-15 # s\n",
    "eV = 1.6*10**-19 # J\n",
    "kelvin_to_eV = 8.621738*10**-5 # eV \n",
    "\n",
    "lightSpeed = 299792458 # m/s\n",
    "vacuumPermittivity = 8.854*10**-12 # C⋅V−1⋅m−1\n",
    "epsilon0 = 8.854187817e-12 # vacuum permitivity [F/m] 1.e7_dp / (4*pi*c*c) \n",
    "\n",
    "# angular frequencies of laser\n",
    "wavelength_355nm = 355*nm # m\n",
    "wavelength_450nm = 450*nm # m\n",
    "\n",
    "omega_351nm = 2*np.pi*(lightSpeed/wavelength_355nm) # 1/s\n",
    "omega_355nm = 2*np.pi*(lightSpeed/wavelength_355nm) # 1/s\n",
    "omega_450nm = 2*np.pi*(lightSpeed/wavelength_450nm) # 1/s\n",
    "\n",
    "PlanckConstant = 6.62607015*10**-34 # J.s\n",
    "hbar = PlanckConstant/(2*math.pi) # J.s\n",
    "\n",
    "# input  laser intensity unit : W/m^2\n",
    "# output electric field  unit : V/m\n",
    "vacuumRefractiveIndex = 1\n",
    "coef_laserI_eField = (2/lightSpeed/vacuumPermittivity/vacuumRefractiveIndex)**0.5\n",
    "\n",
    "eCharge = 1.602176634*10**-19 # C\n",
    "massElectron = 9.10938356*10**-31 # kg\n",
    "massElectronReduced = massElectron/2 # kg\n",
    "\n",
    "eCharge_CGS = 4.80326*10**-10 # esu\n",
    "massElectron_CGS = 9.10938356*10**-31*1000 # g\n",
    "\n",
    "beam_radius = 430*um # m\n",
    "beam_area   = np.pi*beam_radius**2 # m^2\n",
    "\n",
    "probe_fluence   = 0.1*0.001*100**2 # J/m^2\n",
    "probe_duration  = 20*fs # s\n",
    "probe_intensity = probe_fluence/probe_duration # W/m^2\n",
    "\n",
    "sigma2 = 7*10**8 # cm.s/J^2\n",
    "\n",
    "# mass_density/total_ion_mass*Z_total [1/cm^3]\n",
    "R_CH = 1.03*1000 # kg/m^3\n",
    "Z_CH = 7 # no unit\n",
    "A_CH = (12.011+1.008)*1.66053904e-27 # kg\n",
    "n_vb_CH = Z_CH*R_CH/A_CH # [1/m^3]\n",
    "Eg_CH   = 4.05*eV # [J]\n",
    "n_a_CH  = 3*10**22*100**3 # 1/m^3\n",
    "rho = 1*gcm3_to_kgm3 # kg/m^3\n",
    "\n",
    "print('probe_intensity [W/m^2]  = ',\"{:.2e}\".format(probe_intensity))\n",
    "print('probe_intensity/100**2   = ',\"{:.2e}\".format(probe_intensity/100**2),'[W/cm^2]')\n",
    "print('Eg_CH   [J]              = ',Eg_CH)\n",
    "print('rho_CH  [kg/m^3]         = ',R_CH)\n",
    "print('n_vb_CH [1/m^3]          = ',\"{:.3e}\".format(n_vb_CH))\n",
    "print('n_a_CH  [1/m^3]          = ',\"{:.3e}\".format(n_a_CH))"
   ]
  },
  {
   "cell_type": "markdown",
   "metadata": {
    "heading_collapsed": true
   },
   "source": [
    "## get_data_pulse"
   ]
  },
  {
   "cell_type": "code",
   "execution_count": 39,
   "metadata": {
    "ExecuteTime": {
     "end_time": "2021-08-22T19:50:53.311363Z",
     "start_time": "2021-08-22T19:50:53.246757Z"
    },
    "hidden": true
   },
   "outputs": [
    {
     "name": "stdout",
     "output_type": "stream",
     "text": [
      "pulse_1_Imax_TimePs =  115.0\n",
      "pulse_1_Imax (W/cm^2) =  8.917e+07\n"
     ]
    }
   ],
   "source": [
    "def get_data_pulse(file_name):\n",
    "    file_to_open = open(file_name,'r')\n",
    "    pulse = []\n",
    "    for line in file_to_open:\n",
    "        row = line.split()\n",
    "        tmp = []\n",
    "        for ele in row:\n",
    "            tmp.append(float(ele))\n",
    "        pulse.append(tmp)\n",
    "    pulse = np.array(pulse)\n",
    "    pulse[:,1] = pulse[:,1]/beam_area*10**12 # change TW into W/m^2\n",
    "    return pulse # [nanoseconds, W/m^2]\n",
    "\n",
    "file_name = 'pulse_1.dat'\n",
    "pulse_1 = get_data_pulse(file_name)\n",
    "\n",
    "# file_name = '/Users/kwoo/Desktop/PostDoc/InitialPlasma/python/RIGEL_DATA/pulse_2.dat'\n",
    "# pulse_2 = get_data_pulse(file_name)\n",
    "\n",
    "# file_name = '/Users/kwoo/Desktop/PostDoc/InitialPlasma/python/RIGEL_DATA/pulse_3.dat'\n",
    "# pulse_3 = get_data_pulse(file_name)\n",
    "\n",
    "# file_name = '/Users/kwoo/Desktop/PostDoc/InitialPlasma/python/RIGEL_DATA/pulse_4.dat'\n",
    "# pulse_4 = get_data_pulse(file_name)\n",
    "\n",
    "pulse_1_Imax = max(pulse_1[:,1])\n",
    "# pulse_2_Imax = max(pulse_2[:,1])\n",
    "# pulse_3_Imax = max(pulse_3[:,1])\n",
    "# pulse_4_Imax = max(pulse_4[:,1])\n",
    "\n",
    "npos = list(pulse_1[:,1]).index(pulse_1_Imax)\n",
    "pulse_1_Imax_TimePs = pulse_1[npos][0]*1000\n",
    "print('pulse_1_Imax_TimePs = ',pulse_1_Imax_TimePs)\n",
    "\n",
    "# npos = list(pulse_2[:,1]).index(pulse_2_Imax)\n",
    "# pulse_2_Imax_TimePs = pulse_2[npos][0]*1000\n",
    "# print('pulse_2_Imax_TimePs = ',pulse_2_Imax_TimePs)\n",
    "\n",
    "# npos = list(pulse_3[:,1]).index(pulse_3_Imax)\n",
    "# pulse_3_Imax_TimePs = pulse_3[npos][0]*1000\n",
    "# print('pulse_3_Imax_TimePs = ',pulse_3_Imax_TimePs)\n",
    "\n",
    "# npos = list(pulse_4[:,1]).index(pulse_4_Imax)\n",
    "# pulse_4_Imax_TimePs = pulse_4[npos][0]*1000\n",
    "# print('pulse_4_Imax_TimePs = ',pulse_4_Imax_TimePs)\n",
    "\n",
    "print('pulse_1_Imax (W/cm^2) = ',\"{:.3e}\".format(pulse_1_Imax*100**-2))\n",
    "# print('pulse_2_Imax (W/cm^2) = ',\"{:.3e}\".format(pulse_2_Imax*100**-2))\n",
    "# print('pulse_3_Imax (W/cm^2) = ',\"{:.3e}\".format(pulse_3_Imax*100**-2))\n",
    "# print('pulse_4_Imax (W/cm^2) = ',\"{:.3e}\".format(pulse_4_Imax*100**-2))"
   ]
  },
  {
   "cell_type": "code",
   "execution_count": 40,
   "metadata": {},
   "outputs": [
    {
     "data": {
      "text/plain": [
       "[<matplotlib.lines.Line2D at 0x1c5ee32f850>]"
      ]
     },
     "execution_count": 40,
     "metadata": {},
     "output_type": "execute_result"
    },
    {
     "data": {
      "image/png": "[encoded data removed]",
      "text/plain": [
       "<Figure size 640x480 with 1 Axes>"
      ]
     },
     "metadata": {},
     "output_type": "display_data"
    }
   ],
   "source": [
    "plt.plot(pulse_1[:,0], pulse_1[:,1]) # x is in nanoseconds, "
   ]
  },
  {
   "cell_type": "code",
   "execution_count": 41,
   "metadata": {},
   "outputs": [
    {
     "data": {
      "text/plain": [
       "(36, 2)"
      ]
     },
     "execution_count": 41,
     "metadata": {},
     "output_type": "execute_result"
    }
   ],
   "source": [
    "pulse_1.shape"
   ]
  },
  {
   "cell_type": "code",
   "execution_count": 42,
   "metadata": {},
   "outputs": [
    {
     "data": {
      "text/plain": [
       "1.75e-10"
      ]
     },
     "execution_count": 42,
     "metadata": {},
     "output_type": "execute_result"
    }
   ],
   "source": [
    "(pulse_1[-1, 0] - pulse_1[0, 0]) * ns  # in nanoseconds"
   ]
  },
  {
   "cell_type": "markdown",
   "metadata": {
    "heading_collapsed": true
   },
   "source": [
    "## get_report_pulse"
   ]
  },
  {
   "cell_type": "code",
   "execution_count": 43,
   "metadata": {
    "ExecuteTime": {
     "end_time": "2021-08-12T16:37:01.246089Z",
     "start_time": "2021-08-12T16:36:59.064117Z"
    },
    "hidden": true
   },
   "outputs": [
    {
     "name": "stdout",
     "output_type": "stream",
     "text": [
      "Imax_1 (TW/cm^2) =  8.917497081839025e-05\n"
     ]
    },
    {
     "data": {
      "image/png": "[encoded data removed]",
      "text/plain": [
       "<Figure size 520x320 with 1 Axes>"
      ]
     },
     "metadata": {},
     "output_type": "display_data"
    }
   ],
   "source": [
    "def get_report_pulse(exportFlag):\n",
    "    \n",
    "    plt.close('all')\n",
    "    fig = plt.figure(figsize=[6.5,4])\n",
    "    fs,fs2,fs3,fs4=20,15,18,10\n",
    "\n",
    "    label1 = r'\\textbf{$I_{\\mathrm{max}}=0.057 ~\\mathrm{TW/cm^2}$}'\n",
    "    label2 = r'\\textbf{$I_{\\mathrm{max}}=0.12 ~\\mathrm{TW/cm^2}$}'\n",
    "    label3 = r'\\textbf{$I_{\\mathrm{max}}=0.54 ~\\mathrm{TW/cm^2}$}'\n",
    "\n",
    "    nrow,ncol=1,1\n",
    "    ax1 = plt.subplot2grid((nrow, ncol), (0,0), colspan=1, rowspan=1) \n",
    "\n",
    "    unit_x = 1000\n",
    "    unit_y = (100**-2)*(10**-12)\n",
    "    ax1.plot(pulse_1[:,0]*unit_x,pulse_1[:,1]*unit_y,'-',c='k',lw=2,label=label1)\n",
    "#     ax1.plot(pulse_2[:,0]*unit_x,pulse_2[:,1]*unit_y,'--',c='k',lw=2,label=label2)\n",
    "#     ax1.plot(pulse_3[:,0]*unit_x,pulse_3[:,1]*unit_y,'-.',c='k',lw=2,label=label3)\n",
    "    #ax1.plot(pulse_4[:,0]*unit_x,pulse_4[:,1]*unit_y)\n",
    "\n",
    "    print('Imax_1 (TW/cm^2) = ',max(pulse_1[:,1]*unit_y))\n",
    "#     print('Imax_2 (TW/cm^2) = ',max(pulse_2[:,1]*unit_y))\n",
    "#     print('Imax_3 (TW/cm^2) = ',max(pulse_3[:,1]*unit_y))\n",
    "\n",
    "    #ax1.set_xlim([10028,10034])\n",
    "    ax1.tick_params(which='major',length=10,labelsize=fs2)\n",
    "    ax1.set_xlabel(r'\\textbf{$t$ (ps)}',fontsize=fs)\n",
    "    ax1.set_ylabel(r'\\textbf{$I ~(\\mathrm{10^{12}W/cm^{-2}})$}',fontsize=fs)\n",
    "    ax1.legend(fontsize=fs2,loc='center',bbox_to_anchor=[1.1,0.8])\n",
    "\n",
    "    plt.tight_layout()\n",
    "    if exportFlag : \n",
    "        export_name = 'pulse_1_to_3_intensities'\n",
    "        print(f'{\"Save as\":30}',':',export_name)\n",
    "        path = '/Users/kwoo/Desktop/PostDoc/InitialPlasma/reports/plots/'\n",
    "        print(f'{\"path_local\":30}',':',str(pathlib.Path().absolute()))    \n",
    "        print(f'{\"path_save\":30}',':',path)\n",
    "        plt.savefig(path+export_name+'.eps',format='eps')\n",
    "        plt.savefig(path+export_name,dpi=500) \n",
    "    plt.show() \n",
    "              \n",
    "get_report_pulse(exportFlag=0)              "
   ]
  },
  {
   "cell_type": "markdown",
   "metadata": {
    "heading_collapsed": true
   },
   "source": [
    "## get_nc (critical density)"
   ]
  },
  {
   "cell_type": "code",
   "execution_count": 44,
   "metadata": {
    "ExecuteTime": {
     "end_time": "2021-08-12T16:37:32.002462Z",
     "start_time": "2021-08-12T16:37:31.990362Z"
    },
    "hidden": true
   },
   "outputs": [],
   "source": [
    "def get_nc(wavelength):\n",
    "    \n",
    "    # input wavelength unit : m\n",
    "    # output nc unit : 1/m^3\n",
    "    \n",
    "    angular_freq = 2*math.pi*(lightSpeed/wavelength)\n",
    "    ne_crit = vacuumPermittivity*massElectron*angular_freq**2/eCharge**2\n",
    "    return ne_crit # (1/m^3)"
   ]
  },
  {
   "cell_type": "markdown",
   "metadata": {},
   "source": [
    "## get_WPI"
   ]
  },
  {
   "cell_type": "code",
   "execution_count": 45,
   "metadata": {
    "ExecuteTime": {
     "end_time": "2021-08-17T16:34:09.810642Z",
     "start_time": "2021-08-17T16:34:09.651612Z"
    }
   },
   "outputs": [
    {
     "name": "stdout",
     "output_type": "stream",
     "text": [
      "x =  0.5 , identity_correct =  1.5707963267948961 , identity_wrong =  0.8687815422231111\n",
      "ellipE(x) =  1.4674622093394272\n",
      "ellipK(x) =  1.6857503548125963\n",
      "\n",
      "laserI  [W/m^2] =  10000000000\n",
      "laserE1 [V/m]   =  2744952.840923973\n",
      "laserE2 [V/m]   =  2744923.72749469\n",
      "laserE1/laserE2 =  1.0000106062798726 1.4142135623730951\n",
      "W_PI,W_PI_appro =  4.0160759500787345e+20 7e+20 [1/s/cm^3]\n",
      "W_PI/W_PI_appro =  0.5737251357255335\n"
     ]
    }
   ],
   "source": [
    "def Sumfunction(K1,K2,E1,E2,Nmax,x):\n",
    "    summation = 0\n",
    "    for n in range(0,Nmax+1):\n",
    "        Z1 = math.pi**2*(2*math.modf(x+1)[1] - 2*x + n)\n",
    "        Z2 = 2*K2*E2\n",
    "        z = math.sqrt(Z1/Z2)\n",
    "        summation += math.exp(-math.pi*n*(K1 - E1)/E2)*Phifunction(z)\n",
    "    return summation\n",
    "    \n",
    "def Phifunction(z):\n",
    "    integrand = lambda y: math.exp(y**2-z**2)\n",
    "    phi = integrate.quad(integrand, 0, z)\n",
    "    return phi[0]\n",
    "\n",
    "def ellipK(x):\n",
    "    integrand = lambda y: 1/math.sqrt(1-x**2*math.sin(y)**2)\n",
    "    output = integrate.quad(integrand, 0, math.pi/2)\n",
    "    return output[0]\n",
    "\n",
    "def ellipE(x):\n",
    "    integrand = lambda y: math.sqrt(1-x**2*math.sin(y)**2)\n",
    "    output = integrate.quad(integrand, 0, math.pi/2)\n",
    "    return output[0]\n",
    "\n",
    "def check_idensity():\n",
    "    x = 0.5\n",
    "    \n",
    "    identity_wrong = scipy.special.ellipk(x)*scipy.special.ellipe(math.sqrt(1-x**2)) + \\\n",
    "    scipy.special.ellipe(x)*scipy.special.ellipk(math.sqrt(1-x**2)) - \\\n",
    "    scipy.special.ellipk(x)*scipy.special.ellipk(math.sqrt(1-x**2))\n",
    "\n",
    "    identity_correct = ellipK(x)*ellipE(math.sqrt(1-x**2)) + \\\n",
    "    ellipE(x)*ellipK(math.sqrt(1-x**2)) - ellipK(x)*ellipK(math.sqrt(1-x**2))\n",
    "\n",
    "    print('x = ',x,', identity_correct = ',identity_correct,', identity_wrong = ',identity_wrong,)\n",
    "    print('ellipE(x) = ',ellipE(x))\n",
    "    print('ellipK(x) = ',ellipK(x))\n",
    "    \n",
    "check_idensity()    \n",
    "\n",
    "def WPIfunction(laserI_IN,laserE,Nmax,omega_IN,bangGap):\n",
    "    \n",
    "    # laserI_IN unit : W/m^2\n",
    "    # laserE unit : V/m\n",
    "    # omega_IN unit : 1/s\n",
    "    # bangGap  unit : J\n",
    "    \n",
    "    # laserI unit : W/cm^2\n",
    "    laserI = laserI_IN/100**2\n",
    "    \n",
    "    # definitions of gamma1 and gamma2 are different from Arnab\n",
    "    gamma = omega_IN*math.sqrt(massElectronReduced*bangGap)/(eCharge*laserE)  \n",
    "    gamma1 = gamma/(1+gamma**2)**0.5\n",
    "    gamma2 = gamma1/gamma\n",
    "    \n",
    "    elliptics = 0\n",
    "    if elliptics==0:\n",
    "        K1 = scipy.special.ellipk(gamma1)\n",
    "        K2 = scipy.special.ellipk(gamma2)\n",
    "        E1 = scipy.special.ellipe(gamma1)\n",
    "        E2 = scipy.special.ellipe(gamma2)\n",
    "    elif elliptics==1:\n",
    "        K1 = ellipk(gamma1)\n",
    "        K2 = ellipk(gamma2)\n",
    "        E1 = ellipe(gamma1)\n",
    "        E2 = ellipe(gamma2)\n",
    "    \n",
    "    # L. V. Keldysh Eq.(38)\n",
    "    bangGapEffective = 2*bangGap*E2/(math.pi*gamma1)\n",
    "    x = bangGapEffective/(hbar*omega_IN)\n",
    "    \n",
    "    Qvalue = math.sqrt(math.pi/2/K2)*Sumfunction(K1,K2,E1,E2,Nmax,x)\n",
    "    \n",
    "    # Jack's WPI is about three times smaller than Arnab's WPI\n",
    "    WPI = 2*omega_IN/(9*math.pi)*(omega_IN*massElectronReduced/(hbar*gamma1))**1.5*\\\n",
    "    Qvalue*math.exp(-math.pi*math.modf(x+1)[1]*(K1-E1)/E2)*10**-6 # 1/(s.cm^3)\n",
    "    \n",
    "    # laserI unit : J/(s.cm^2)\n",
    "    # sigma2 unit : cm.s/J^2\n",
    "    WPI_appro = sigma2*laserI**2 # 1/(s.cm^3)\n",
    "    \n",
    "    return [WPI,WPI_appro]\n",
    "\n",
    "def get_WPI(laserI,laserE,Nmax,omega_IN,bangGap):\n",
    "    \n",
    "    # laserI unit : W/cm^2\n",
    "    # laserE unit : V/m\n",
    "    # omega_IN unit : 1/s\n",
    "    # bangGap  unit : J\n",
    "    \n",
    "    # definitions of gamma1 and gamma2 are different from Arnab\n",
    "    gamma = omega_IN*math.sqrt(massElectronReduced*bangGap)/(eCharge*laserE)  \n",
    "    gamma1 = gamma/(1+gamma**2)**0.5\n",
    "    gamma2 = gamma1/gamma\n",
    "    \n",
    "    elliptics = 0\n",
    "    if elliptics==0:\n",
    "        K1 = scipy.special.ellipk(gamma1)\n",
    "        K2 = scipy.special.ellipk(gamma2)\n",
    "        E1 = scipy.special.ellipe(gamma1)\n",
    "        E2 = scipy.special.ellipe(gamma2)\n",
    "    elif elliptics==1:\n",
    "        K1 = ellipk(gamma1)\n",
    "        K2 = ellipk(gamma2)\n",
    "        E1 = ellipe(gamma1)\n",
    "        E2 = ellipe(gamma2)\n",
    "    \n",
    "    # L. V. Keldysh Eq.(38)\n",
    "    bangGapEffective = 2*bangGap*E2/(math.pi*gamma1)\n",
    "    x = bangGapEffective/(hbar*omega_IN)\n",
    "    \n",
    "    Qvalue = math.sqrt(math.pi/2/K2)*Sumfunction(K1,K2,E1,E2,Nmax,x)\n",
    "    \n",
    "    # Jack's WPI is about three times smaller than Arnab's WPI\n",
    "    WPI = 2*omega_IN/(9*math.pi)*(omega_IN*massElectronReduced/(hbar*gamma1))**1.5*\\\n",
    "    Qvalue*math.exp(-math.pi*math.modf(x+1)[1]*(K1-E1)/E2)*10**-6 # 1/(s.cm^3)\n",
    "    \n",
    "    # laserI unit : J/(s.cm^2)\n",
    "    # sigma2 unit : cm.s/J^2\n",
    "    WPI_appro = sigma2*laserI**2 # 1/(s.cm^3)\n",
    "    \n",
    "    return WPI*100**3/2 # 1/(s.m^3)\n",
    "\n",
    "laserI0 = 10000000000 # W/m^2\n",
    "laserE1 = coef_laserI_eField*math.sqrt(laserI0) # V/m\n",
    "laserE2 = math.sqrt(2*laserI0/(epsilon0*lightSpeed))  # V/m\n",
    "W_PI , W_PI_appro = WPIfunction(laserI_IN=laserI0,laserE=laserE2,Nmax=50,\n",
    "                                omega_IN=omega_355nm,bangGap=Eg_CH)\n",
    "print()\n",
    "print('laserI  [W/m^2] = ',laserI0)\n",
    "print('laserE1 [V/m]   = ',laserE1)\n",
    "print('laserE2 [V/m]   = ',laserE2)\n",
    "print('laserE1/laserE2 = ',laserE1/laserE2,np.sqrt(2))\n",
    "print('W_PI,W_PI_appro = ',W_PI , W_PI_appro,'[1/s/cm^3]')\n",
    "print('W_PI/W_PI_appro = ',W_PI/W_PI_appro)"
   ]
  },
  {
   "cell_type": "markdown",
   "metadata": {
    "heading_collapsed": true
   },
   "source": [
    "## get_laserE"
   ]
  },
  {
   "cell_type": "code",
   "execution_count": 46,
   "metadata": {
    "ExecuteTime": {
     "end_time": "2021-08-12T16:39:39.503464Z",
     "start_time": "2021-08-12T16:39:39.497544Z"
    },
    "hidden": true
   },
   "outputs": [],
   "source": [
    "def get_laserE(laserI,RefractiveIndex):\n",
    "    \n",
    "    # input  laser intensity unit : W/m^2\n",
    "    # output electric field  unit : V/m\n",
    "    coef_laserI_eField = (2/lightSpeed/vacuumPermittivity/RefractiveIndex)**0.5\n",
    "    \n",
    "    return coef_laserI_eField*laserI**0.5 # V/m"
   ]
  },
  {
   "cell_type": "markdown",
   "metadata": {
    "heading_collapsed": true
   },
   "source": [
    "## get_W1"
   ]
  },
  {
   "cell_type": "code",
   "execution_count": 47,
   "metadata": {
    "ExecuteTime": {
     "end_time": "2021-08-12T16:40:28.897864Z",
     "start_time": "2021-08-12T16:40:28.892551Z"
    },
    "hidden": true
   },
   "outputs": [],
   "source": [
    "def get_W1(laserE):\n",
    "    \n",
    "    # rate of one-photon absorption in the conduction band,\n",
    "    # which evolves linearly with the laser intensity.\n",
    "    # reference : L Barilleau et al 2016 J. Phys. D: Appl. Phys. 49 485103\n",
    "\n",
    "    # input electric field  unit : V/m\n",
    "    # output W1 unit : 1/s\n",
    "\n",
    "    return 10**(-7)*laserE**2 # 1/s"
   ]
  },
  {
   "cell_type": "markdown",
   "metadata": {
    "heading_collapsed": true
   },
   "source": [
    "## get_Ce"
   ]
  },
  {
   "cell_type": "code",
   "execution_count": 48,
   "metadata": {
    "ExecuteTime": {
     "end_time": "2021-08-12T16:41:36.907507Z",
     "start_time": "2021-08-12T16:41:36.898467Z"
    },
    "hidden": true
   },
   "outputs": [],
   "source": [
    "def get_Ce(n_fe):\n",
    "    \n",
    "    # input electron number density  unit : 1/m^3\n",
    "    # output Ce unit : 1/m^3\n",
    "    \n",
    "    return 1.5*n_fe # 1/ m^3"
   ]
  },
  {
   "cell_type": "markdown",
   "metadata": {},
   "source": [
    "## get_Ci"
   ]
  },
  {
   "cell_type": "code",
   "execution_count": 49,
   "metadata": {
    "ExecuteTime": {
     "end_time": "2021-08-20T05:56:07.264894Z",
     "start_time": "2021-08-20T05:56:07.002937Z"
    }
   },
   "outputs": [
    {
     "data": {
      "image/png": "[encoded data removed]",
      "text/plain": [
       "<Figure size 640x480 with 1 Axes>"
      ]
     },
     "metadata": {},
     "output_type": "display_data"
    }
   ],
   "source": [
    "def get_Ci(n_a):    \n",
    "    # input atomic number density  unit : 1/m^3\n",
    "    # output Ci unit : 1/m^3    \n",
    "    return 1.5*n_a # 1/ m^3\n",
    "\n",
    "def get_Ci_new(n_a,Ti):\n",
    "    \n",
    "    # input n_a: 1/m^3\n",
    "    # input Ti : J\n",
    "    \n",
    "    # T : K \n",
    "    T = Ti/eV/kelvin_to_eV\n",
    "    \n",
    "    #print(T)\n",
    "    \n",
    "    cp_solid_1 = 7.7551*10**5*T**(-2) + 0.53447*T - 41.58\n",
    "    cp_solid_2 = 0.2653*T + 95.12\n",
    "        \n",
    "    if (T>=200) and (T<373)  : Ci = cp_solid_1*J_per_mole_per_K*n_a\n",
    "        \n",
    "    if (T>=373) and (T<700) : Ci = cp_solid_2*J_per_mole_per_K*n_a\n",
    "\n",
    "    if (T>=700) : Ci = 1.5*n_a\n",
    "    \n",
    "    return Ci\n",
    "\n",
    "if 1 :\n",
    "    temp = [ T for T in np.arange(0.025,.07,.001)]\n",
    "    Ci_new = np.array([ get_Ci_new(n_a_CH,T*eV) for T in temp ])\n",
    "    plt.plot(temp,Ci_new/n_a_CH)"
   ]
  },
  {
   "cell_type": "markdown",
   "metadata": {},
   "source": [
    "## get_G (V_c^{energy} energy relaxation rate)\n",
    "\n",
    "1 / How long it takes for energy in excited state to initial state for electrons"
   ]
  },
  {
   "cell_type": "code",
   "execution_count": 50,
   "metadata": {
    "ExecuteTime": {
     "end_time": "2021-08-20T05:59:00.120902Z",
     "start_time": "2021-08-20T05:59:00.110084Z"
    }
   },
   "outputs": [],
   "source": [
    "def get_G(Ce,vc,Ti):\n",
    "    \n",
    "    # input collision frequency unit : 1/s\n",
    "    # input Ce unit : 1/m^3 \n",
    "    # output G unit : 1/m^3/s\n",
    "    \n",
    "    mS = (12+1)*8*amu\n",
    "    mB = (12+1)*6*amu  \n",
    "    mA = (12+1)*2*amu\n",
    "    mCH = (12+1)/2*amu\n",
    "    mC = 12*amu\n",
    "    mH = 1*amu    \n",
    "    \n",
    "    if (Ti < 2.32*eV)  : mil = mH # (mS + mC + mH)/3\n",
    "    if (Ti >= 2.32*eV) and (Ti < 2.43*eV) : mil = (mS+mB+mA)/3\n",
    "    if (Ti >= 2.43*eV) and (Ti < 4.00*eV) : mil = mB\n",
    "    if (Ti >= 4.00*eV) and (Ti < 8.00*eV) : mil = (mB+mA+mCH)/3\n",
    "    if (Ti >= 8.00*eV) : mil = mCH\n",
    "        \n",
    "    me_to_mil = massElectron/mil\n",
    "    \n",
    "    #me_to_mil = 1/1836\n",
    "    \n",
    "    return Ce*vc*me_to_mil # 1/m^3/s"
   ]
  },
  {
   "cell_type": "markdown",
   "metadata": {
    "heading_collapsed": true
   },
   "source": [
    "## get_n"
   ]
  },
  {
   "cell_type": "code",
   "execution_count": 51,
   "metadata": {
    "ExecuteTime": {
     "end_time": "2021-08-12T16:43:20.532274Z",
     "start_time": "2021-08-12T16:43:20.523491Z"
    },
    "hidden": true
   },
   "outputs": [],
   "source": [
    "def get_n(n_IN,omega_IN):\n",
    "    \n",
    "    # input n_IN : 1/m^3\n",
    "    # input omega_IN : 1/s\n",
    "    \n",
    "    n_CGS = n_IN/100**3 # 1/cm^3\n",
    "    \n",
    "    omega_pe = np.sqrt(4*np.pi*n_CGS*eCharge_CGS**2/massElectron_CGS) # 1/s\n",
    "    \n",
    "    RefractiveIndex = np.sqrt(1-(omega_pe/omega_IN)**2) # unitless\n",
    "    \n",
    "    return RefractiveIndex # unitless"
   ]
  },
  {
   "cell_type": "markdown",
   "metadata": {
    "heading_collapsed": true
   },
   "source": [
    "## get_JH"
   ]
  },
  {
   "cell_type": "code",
   "execution_count": 52,
   "metadata": {
    "ExecuteTime": {
     "end_time": "2021-08-12T16:43:46.067074Z",
     "start_time": "2021-08-12T16:43:46.050396Z"
    },
    "hidden": true
   },
   "outputs": [],
   "source": [
    "def get_JH(n_fe,vc,omega,laserE,RefractiveIndex):\n",
    "    \n",
    "    # input eCharge unit : Coulomb\n",
    "    # input n_fe    unit : 1/m^3 \n",
    "    # input vc      unit : 1/s\n",
    "    # input massElectron unit : kg\n",
    "    # input omega unit : 1/s\n",
    "    # input laserE unit : V/m\n",
    "    # input lightSpeed unit : m/s\n",
    "    # input vacuumPermittivity unit : # C⋅V−1⋅m−1\n",
    "    \n",
    "    # output dUdt  unit : 1/m^3/s   \n",
    "    # output sigma unit : 1/m\n",
    "    \n",
    "    dUdt  = eCharge**2*n_fe*vc/massElectron/(omega**2+vc**2)*laserE**2         # J/s/m^3\n",
    "    #sigma = dUdt/(laserE**2)*2/(lightSpeed*RefractiveIndex*vacuumPermittivity) # 1/m\n",
    "    sigma = dUdt/(laserE**2)/(lightSpeed*RefractiveIndex*vacuumPermittivity) # 1/m\n",
    "    #sigma = vc/(RefractiveIndex*lightSpeed)\n",
    "    return [dUdt,sigma]"
   ]
  },
  {
   "cell_type": "markdown",
   "metadata": {
    "heading_collapsed": true
   },
   "source": [
    "## get_vr"
   ]
  },
  {
   "cell_type": "code",
   "execution_count": 53,
   "metadata": {
    "ExecuteTime": {
     "end_time": "2021-08-17T19:47:51.164522Z",
     "start_time": "2021-08-17T19:47:51.158627Z"
    },
    "hidden": true
   },
   "outputs": [
    {
     "name": "stdout",
     "output_type": "stream",
     "text": [
      "3.558e+08\n"
     ]
    }
   ],
   "source": [
    "def get_vr(ne,Te):\n",
    "    \n",
    "    # ne : 1/m^3\n",
    "    # Te : J\n",
    "    \n",
    "    Te_eV = Te/eV      # eV\n",
    "    ne_gcc = ne/100**3 # 1/cm^3\n",
    "    \n",
    "    tr = 1.8*10**26*Te_eV**4.5/ne_gcc**2 # s\n",
    "\n",
    "    vr = 1/tr # 1/s\n",
    "    \n",
    "    return vr\n",
    "    \n",
    "print(\"{:.3e}\".format(get_vr(4.5*10**19*100**3,10*eV))   )"
   ]
  },
  {
   "cell_type": "markdown",
   "metadata": {},
   "source": [
    "## get_vi"
   ]
  },
  {
   "cell_type": "code",
   "execution_count": 54,
   "metadata": {
    "ExecuteTime": {
     "end_time": "2021-08-17T19:47:19.379446Z",
     "start_time": "2021-08-17T19:47:19.369835Z"
    },
    "scrolled": true
   },
   "outputs": [
    {
     "name": "stdout",
     "output_type": "stream",
     "text": [
      "6.406e+11\n"
     ]
    }
   ],
   "source": [
    "def get_vi(laserE,omega,Eg,vc):\n",
    "\n",
    "    # input eCharge unit : Coulomb\n",
    "    # input vc      unit : 1/s\n",
    "    # input massElectron unit : kg\n",
    "    # input omega unit : 1/s\n",
    "    # input laserE unit : V/m\n",
    "    # input lightSpeed unit : m/s\n",
    "    # input vacuumPermittivity unit : # C⋅V−1⋅m−1\n",
    "    \n",
    "    vi  = eCharge**2*vc/massElectron/(omega**2+vc**2)*laserE**2/Eg_CH         # J/s\n",
    "    \n",
    "    return vi\n",
    "\n",
    "laserE = get_laserE(laserI=5.7*10**10*100**2,RefractiveIndex=1)\n",
    "\n",
    "print(\"{:.3e}\".format(get_vi(laserE,omega_355nm,Eg_CH,10**15)))"
   ]
  },
  {
   "cell_type": "markdown",
   "metadata": {},
   "source": [
    "## field solution parameters"
   ]
  },
  {
   "cell_type": "code",
   "execution_count": 55,
   "metadata": {},
   "outputs": [
    {
     "name": "stdout",
     "output_type": "stream",
     "text": [
      "delta-x in meters: 3.51e-08 delta_t in seconds: 5.85404987072757e-17\n",
      "T in nanoseconds: 1.75e-10 n_timestep: 2989383\n",
      "L in meters 2.9999999999999997e-05 n_cells 854\n"
     ]
    }
   ],
   "source": [
    "# Physical parameters\n",
    "RefractiveIndex = 1                         # unitless\n",
    "speed_of_light = 299792458                  # in m/s\n",
    "wavelength = 351 * nm                       # chosen wavelength\n",
    "R = 25 * um                                 # radius of laser\n",
    "E_L = 10 * (10 ** -6)                       # in joules laser energy (10 mu joules)\n",
    "Area_L = np.pi * R **2                      # area of laser\n",
    "T_laser = 100 * ps                          # laser pulse time\n",
    "I_0 = E_L / (Area_L * T_laser)              # laser intensities (SI unit is Joules/(m**2) * s )\n",
    "permittivity_free_space = 8.85418782 * 10 **-12\n",
    "E_0 = np.sqrt( (2 * I_0) / (speed_of_light * RefractiveIndex * permittivity_free_space)) # Electric field SI unit is voltage / m\n",
    "\n",
    "# time-step size “dt” is strictly controlled by Courant–Friedrichs–Lewy (CFL) condition \n",
    "#so that the wave propagation distance within a allowed time-step size cannot exceed the grid size “dx”.\n",
    "# CONFIRMED DEFINITION BY JACK 09/24\n",
    "CFL = 0.5\n",
    "# delta_x = 0.05 * wavelength original solution\n",
    "delta_x = 0.1 * wavelength\n",
    "delta_t = CFL * delta_x / speed_of_light    # time related time-step\n",
    "print(\"delta-x in meters:\", delta_x, \"delta_t in seconds:\", delta_t)\n",
    "\n",
    "# Physics formulas\n",
    "frequency = speed_of_light/wavelength       # in Hertz\n",
    "angular_frequency = 2 * np.pi * frequency   # in Hertz\n",
    "wavenumber = (2 * np.pi) / wavelength       # wave number 'k' will be imaginary part in the coming days (when we do it correctly)\n",
    "period = wavelength / speed_of_light        # wave period (can also be calculated with 1/f)\n",
    "\n",
    "# Grid and time parameters\n",
    "# lambda_mult = 10                    # represents number of cycles (OLD DEFINITIONS FOR TESTING)\n",
    "# T = lambda_mult * period            # modeling time (OLD DEFINITIONS FOR TESTING)\n",
    "# CONFIRMED FOR NEW T AND n_timesteps by Jack 09/24\n",
    "T = (pulse_1[-1, 0] - pulse_1[0, 0]) * ns # new defn of T 09/24. Same time as laser pulse\n",
    "n_timestep = int(T/delta_t)         # n time step\n",
    "print(\"T in nanoseconds:\", T, \"n_timestep:\", n_timestep)\n",
    "\n",
    "# CONFIRMED BY Jack 09/24\n",
    "# L = wavelength * lambda_mult        # 'length' of simulation (OLD DEFINITIONS FOR TESTING)\n",
    "Thickness = 30 # um\n",
    "L = Thickness * um # L is in units of meters\n",
    "n_cells = int(L/delta_x)            # number of cells (can also think of as number of grid points)\n",
    "print(\"L in meters\", L, \"n_cells\", n_cells)\n",
    "\n",
    "# Double check number of ghost cells in future. Why are we using 3 instead of 2?\n",
    "ghost_cell_size = 3                 # how many points of ghost cells"
   ]
  },
  {
   "cell_type": "code",
   "execution_count": 56,
   "metadata": {},
   "outputs": [
    {
     "data": {
      "text/plain": [
       "85410.9566951567"
      ]
     },
     "execution_count": 56,
     "metadata": {},
     "output_type": "execute_result"
    }
   ],
   "source": [
    "# for each interval, I need this amount of time_steps.\n",
    "# this is ite_max in original get_main code.\n",
    "# how many intervals I need to go from one data point to the next.\n",
    "(pulse_1[1,0] - pulse_1[0,0]) * ns / delta_t"
   ]
  },
  {
   "cell_type": "markdown",
   "metadata": {},
   "source": [
    "## get_I0\n",
    "Get matched I0 to at actual time from pulse. Needed this to match field solver to pulse data."
   ]
  },
  {
   "cell_type": "code",
   "execution_count": 57,
   "metadata": {},
   "outputs": [
    {
     "name": "stdout",
     "output_type": "stream",
     "text": [
      "3890645444.972239\n",
      "[1.00000000e-02 2.80608499e+08]\n"
     ]
    }
   ],
   "source": [
    "def get_I0(real_time, pulse_data):\n",
    "    for ite in range(pulse_data.shape[0]):\n",
    "#         print(\"ite\", ite)\n",
    "#         print(\"pulse_data[ite, 0]\", pulse_data[ite, 0])\n",
    "#         print(\"real_time\", real_time)\n",
    "#         print(\"pulse_data[ite, 0] * ns\", pulse_data[ite, 0] * ns)\n",
    "        if real_time < pulse_data[ite, 0] * ns:\n",
    "            # break\n",
    "            # output pulse_daya\n",
    "#             print(\"real_time\", real_time)\n",
    "#             print(\"ite\", ite)\n",
    "#             print(\"pulse_data[ite, 0] * ns\", pulse_data[ite, 0] * ns)\n",
    "#             print('pulse_data.shape[0]', pulse_data.shape[0])\n",
    "#             print(pulse_data[ite, 0], pulse_data[ite, 1])\n",
    "#             ite_real_time = ite\n",
    "            ite_I0 = pulse_data[ite, 1] # this is a unit of Watt/m^2\n",
    "            break\n",
    "        \n",
    "    return ite_I0 # unit of Watt/m^2\n",
    "\n",
    "ite_I0 = get_I0(200000*delta_t, pulse_1)\n",
    "print(ite_I0)\n",
    "print(pulse_1[2])"
   ]
  },
  {
   "cell_type": "markdown",
   "metadata": {},
   "source": [
    "## get_field_solution\n",
    "We will provide electric field at different time step and space and convert it into laser intensities which we will put into get_main\n",
    "\n",
    "\n",
    "Will return electric field solution and also return intensity."
   ]
  },
  {
   "cell_type": "code",
   "execution_count": 62,
   "metadata": {},
   "outputs": [
    {
     "data": {
      "text/plain": [
       "2989383"
      ]
     },
     "execution_count": 62,
     "metadata": {},
     "output_type": "execute_result"
    }
   ],
   "source": [
    "n_timestep"
   ]
  },
  {
   "cell_type": "code",
   "execution_count": 61,
   "metadata": {},
   "outputs": [
    {
     "data": {
      "text/plain": [
       "0.373672875"
      ]
     },
     "execution_count": 61,
     "metadata": {},
     "output_type": "execute_result"
    }
   ],
   "source": [
    "n_timestep/200**3"
   ]
  },
  {
   "cell_type": "code",
   "execution_count": 58,
   "metadata": {},
   "outputs": [
    {
     "ename": "KeyboardInterrupt",
     "evalue": "",
     "output_type": "error",
     "traceback": [
      "\u001b[1;31m---------------------------------------------------------------------------\u001b[0m",
      "\u001b[1;31mKeyboardInterrupt\u001b[0m                         Traceback (most recent call last)",
      "Cell \u001b[1;32mIn[58], line 81\u001b[0m\n\u001b[0;32m     78\u001b[0m     \u001b[38;5;28;01mreturn\u001b[39;00m (E_complex \u001b[38;5;241m+\u001b[39m residual), x, t \u001b[38;5;66;03m# units for Electric field in volts/m, x = nm, t = seconds\u001b[39;00m\n\u001b[0;32m     80\u001b[0m \u001b[38;5;66;03m# This is getting the value of solving the field solution with real index of refrac of 1 and imaginary index of refrac of 0\u001b[39;00m\n\u001b[1;32m---> 81\u001b[0m E_complex_non_damped \u001b[38;5;241m=\u001b[39m \u001b[43mget_field_solution\u001b[49m\u001b[43m(\u001b[49m\u001b[38;5;241;43m1\u001b[39;49m\u001b[43m,\u001b[49m\u001b[43m \u001b[49m\u001b[38;5;241;43m0\u001b[39;49m\u001b[43m,\u001b[49m\u001b[43m \u001b[49m\u001b[43mpulse_1\u001b[49m\u001b[43m)\u001b[49m\n\u001b[0;32m     83\u001b[0m \u001b[38;5;66;03m# re-defining complex index of refraction (prepping to add imaginary part to force damping using analytical solution)\u001b[39;00m\n\u001b[0;32m     84\u001b[0m n_real \u001b[38;5;241m=\u001b[39m \u001b[38;5;241m1\u001b[39m\n",
      "Cell \u001b[1;32mIn[58], line 70\u001b[0m, in \u001b[0;36mget_field_solution\u001b[1;34m(n_real, n_imaginary, pulse_data)\u001b[0m\n\u001b[0;32m     67\u001b[0m E_complex[n\u001b[38;5;241m+\u001b[39m\u001b[38;5;241m1\u001b[39m, i] \u001b[38;5;241m=\u001b[39m np\u001b[38;5;241m.\u001b[39mexp(\u001b[38;5;241m-\u001b[39mcomplex_wavenumber\u001b[38;5;241m.\u001b[39mimag \u001b[38;5;241m*\u001b[39m x[i]) \u001b[38;5;241m*\u001b[39m ( (r_const_complex\u001b[38;5;241m.\u001b[39mreal) \u001b[38;5;241m*\u001b[39m ( E_complex[n, i\u001b[38;5;241m+\u001b[39m\u001b[38;5;241m1\u001b[39m] \u001b[38;5;241m-\u001b[39m \u001b[38;5;241m2\u001b[39m\u001b[38;5;241m*\u001b[39mE_complex[n, i] \u001b[38;5;241m+\u001b[39m E_complex[n, i\u001b[38;5;241m-\u001b[39m\u001b[38;5;241m1\u001b[39m] ) \u001b[38;5;241m-\u001b[39m ( \u001b[38;5;241m-\u001b[39m\u001b[38;5;241m2\u001b[39m\u001b[38;5;241m*\u001b[39mE_complex[n, i] \u001b[38;5;241m+\u001b[39m E_complex[n\u001b[38;5;241m-\u001b[39m\u001b[38;5;241m1\u001b[39m, i] ) )\n\u001b[0;32m     69\u001b[0m \u001b[38;5;66;03m# this if block constrains the wave to inside our physical bounds\u001b[39;00m\n\u001b[1;32m---> 70\u001b[0m \u001b[38;5;28;01mif\u001b[39;00m (\u001b[38;5;28;01mTrue\u001b[39;00m) \u001b[38;5;129;01mand\u001b[39;00m \u001b[38;5;28mabs\u001b[39m(E_complex[n\u001b[38;5;241m+\u001b[39m\u001b[38;5;241m1\u001b[39m, i])\u001b[38;5;241m/\u001b[39m\u001b[38;5;28mabs\u001b[39m(E_0) \u001b[38;5;241m>\u001b[39m \u001b[38;5;241m1\u001b[39m:\n\u001b[0;32m     71\u001b[0m     E_complex[n\u001b[38;5;241m+\u001b[39m\u001b[38;5;241m1\u001b[39m, i] \u001b[38;5;241m=\u001b[39m E_0 \u001b[38;5;241m*\u001b[39m np\u001b[38;5;241m.\u001b[39msign(E_complex[n, i])\n\u001b[0;32m     73\u001b[0m index \u001b[38;5;241m+\u001b[39m\u001b[38;5;241m=\u001b[39m \u001b[38;5;241m1\u001b[39m\n",
      "\u001b[1;31mKeyboardInterrupt\u001b[0m: "
     ]
    }
   ],
   "source": [
    "def get_field_solution(n_real, n_imaginary, pulse_data):\n",
    "\n",
    "    # defining complex index of refraction (no imaginary yet)\n",
    "    complex_refractive_index = complex(n_real, n_imaginary)\n",
    "    complex_wavenumber = (angular_frequency / speed_of_light) * complex_refractive_index\n",
    "\n",
    "    x = []  # spatial domain (can also think of as coordinates of grid points)\n",
    "    t = []  # time domain\n",
    "\n",
    "    # Creating arrays for the spatial and time domains. Starting at -2 in order to create ghost cells. And ending with + 3 for the same reason\n",
    "    # The ghost cells are there so that in the matrix we can access all indeces\n",
    "    # To append, using formula Dr. Woo gave me: X_i = delta_x(i + 1/2)\n",
    "    for i in range(-2, n_cells + 3):\n",
    "        x.append(delta_x * (i + 0.5))\n",
    "\n",
    "    for i in range(-2, n_timestep + 3):\n",
    "        t.append(delta_t * (i + 0.5))\n",
    "\n",
    "    x = np.array(x)\n",
    "    t = np.array(t)\n",
    "\n",
    "    E_complex = 1j * np.zeros((len(t), len(x))) # initializing imaginary matrix of dimensions (t, x)\n",
    "    r_const_complex = ( (delta_t/delta_x) * (speed_of_light/complex_refractive_index) ) ** 2 # our parameter\n",
    "\n",
    "    # These loops will go through the grid. We start at 1 so as to not calculate the\n",
    "    # value when the a time or spatial point is equal to 0.\n",
    "    index = 0\n",
    "    for n in range(1, (len(t) - ghost_cell_size)*1 + 0):\n",
    "        \n",
    "#         t_sim = t[n] # in seconds\n",
    "        # CONFIRMED WITH JACK 09/24\n",
    "        ite_I0 = get_I0(t[n], pulse_data)\n",
    "        E_0 = np.sqrt( (2 * ite_I0) / (speed_of_light * RefractiveIndex * permittivity_free_space)) # Electric field SI unit is voltage / m\n",
    "        \n",
    "        # Defining cos and sin terms for wave to later be turned into complex numbers for t_nm1\n",
    "        # Making sin zero because it is imaginary component\n",
    "        cos_term_0_t_nm1 = E_0 * np.cos((wavenumber * x[0]) - (angular_frequency * t[n-1]) + np.pi/2)\n",
    "        sin_term_0_t_nm1 = 0\n",
    "\n",
    "        cos_term_1_t_nm1 = E_0 * np.cos((wavenumber * x[1]) - (angular_frequency * t[n-1]) + np.pi/2)\n",
    "        sin_term_1_t_nm1 = 0\n",
    "\n",
    "        # Initial conditions in time:\n",
    "        E_complex[n-1, 0] = complex(cos_term_0_t_nm1, sin_term_0_t_nm1)\n",
    "        E_complex[n-1, 1] = complex(cos_term_1_t_nm1, sin_term_1_t_nm1)\n",
    "\n",
    "\n",
    "        # Defning cos and sin terms for wave to later be turned into complex numbers for t_n\n",
    "        # Making sin zero because it is imaginary component\n",
    "        cos_term_0_t_n = E_0 * np.cos((wavenumber * x[0]) - (angular_frequency * t[n]) + np.pi/2)\n",
    "        sin_term_0_t_n = 0\n",
    "\n",
    "        cos_term_1_t_n = E_0 * np.cos((wavenumber * x[1]) - (angular_frequency * t[n]) + np.pi/2)\n",
    "        sin_term_1_t_n = 0\n",
    "\n",
    "        # Instantenously defining the boundary conditions/values of ghost cells on the RIGHT:\n",
    "        E_complex[n, 0] = complex(cos_term_0_t_n, sin_term_0_t_n)\n",
    "        E_complex[n, 1] = complex(cos_term_1_t_n, sin_term_1_t_n)\n",
    "\n",
    "        # We have no laser on the left, so boundary conditions are just 0\n",
    "        E_complex[n, -1] = complex(0)\n",
    "        E_complex[n, -2] = complex(0)\n",
    "\n",
    "        for i in range(2, len(x) - ghost_cell_size):\n",
    "\n",
    "            # explicit scheme\n",
    "            E_complex[n+1, i] = np.exp(-complex_wavenumber.imag * x[i]) * ( (r_const_complex.real) * ( E_complex[n, i+1] - 2*E_complex[n, i] + E_complex[n, i-1] ) - ( -2*E_complex[n, i] + E_complex[n-1, i] ) )\n",
    "\n",
    "            # this if block constrains the wave to inside our physical bounds\n",
    "            if (True) and abs(E_complex[n+1, i])/abs(E_0) > 1:\n",
    "                E_complex[n+1, i] = E_0 * np.sign(E_complex[n, i])\n",
    "\n",
    "            index += 1\n",
    "    # ADD RESIDUAL HERE!!!!!!!!\n",
    "    residual = np.ones_like(E_complex)*10**(-50) # so we don't get divide by 0\n",
    "    #E_complex_data += residual\n",
    "    #E_complex + residual\n",
    "    return (E_complex + residual), x, t # units for Electric field in volts/m, x = nm, t = seconds\n",
    "\n",
    "# This is getting the value of solving the field solution with real index of refrac of 1 and imaginary index of refrac of 0\n",
    "E_complex_non_damped = get_field_solution(1, 0, pulse_1)\n",
    "\n",
    "# re-defining complex index of refraction (prepping to add imaginary part to force damping using analytical solution)\n",
    "n_real = 1\n",
    "n_i = 0.125\n",
    "complex_refractive_index = complex(n_real, n_i)\n",
    "complex_wavenumber = (angular_frequency / speed_of_light) * complex_refractive_index\n",
    "E_complex_data = E_complex_non_damped[0]\n",
    "E_complex_data_xdata = E_complex_non_damped[1]\n",
    "E_complex_data_tdata = E_complex_non_damped[2]\n",
    "t_data_size = E_complex_data_tdata.shape[0]\n",
    "\n",
    "# format_title = \"{} Cycles Complex Model\".format(lambda_mult)\n",
    "# plt.title(format_title)\n",
    "# plt.xlabel(\"Position in system (nm)\") # in entire simulation domain. Units of 10 ** -9 meters in SI units\n",
    "# plt.ylabel(\"Electric field amplitude (V/m)\") # SI unit of volts / m\n",
    "\n",
    "# Plotting the solution with complex information\n",
    "\n",
    "plt.plot(np.linspace(0, wavelength / nm, E_complex_data_xdata.shape[0]), np.exp(-complex_wavenumber.imag * E_complex_data_xdata) * E_complex_data[int(t_data_size - 3), :].real)\n",
    "\n",
    "# plt.plot(np.linspace(0, wavelength / nm, E_complex_data_xdata.shape[0]), np.exp(-complex_wavenumber.imag * E_complex_data_xdata) * E_complex_data[100, :].real, label = \"100\")\n",
    "\n",
    "# plt.plot(np.linspace(0, wavelength / nm, E_complex_data_xdata.shape[0]), np.exp(-complex_wavenumber.imag * E_complex_data_xdata) * E_complex_data[200, :].real, label = \"200\")\n",
    "\n",
    "plt.plot(np.linspace(0, wavelength / nm, E_complex_data_xdata.shape[0]), np.exp(-complex_wavenumber.imag * E_complex_data_xdata) * E_complex_data[300, :].real, label = \"300\")\n",
    "\n",
    "\n",
    "plt.legend()\n",
    "\n",
    "print(\"E_complex_data\", E_complex_data.shape)\n",
    "\n",
    "print(\"Damped\", (np.exp(-complex_wavenumber.imag * E_complex_data_xdata) * E_complex_data.real).shape)\n",
    "\n",
    "# Let people know that absorption coeffecient will depend on (rho, T). Complex wavefunction is a function of material properties.\n",
    "# Heat up material then molecules vibrate more. Vibration will interact with electric field. E field will interact with free electrons\n",
    "# in material. Density and temperature in real life will effect. n will be function on material. We will assume to be constant and equal for solution.\n",
    "# Assumptions for testing. \n",
    "\n",
    "\n",
    "# Setting the x-axis to 1-10\n",
    "# and y-axis to 1-15\n",
    "# plt.axis([0, 200, -2*(10**8), 2*(10**8)])\n",
    "# plt.plot(np.exp(-complex_wavenumber.imag * E_complex_data_xdata) * E_complex_data[int(int(E_complex_data.shape[0]/lambda_mult) * lambda_mult), :].real)\n",
    "# plt.plot(np.linspace(0, wavelength / nm, E_complex_data_xdata.shape[0]), np.exp(-complex_wavenumber.imag * E_complex_data_xdata) * E_complex_data[int(401), :].real)\n",
    "# plt.plot(np.exp(-complex_wavenumber.imag * E_complex_data_xdata) * E_complex_data[int(int(250/lambda_mult) * lambda_mult), :].real)\n",
    "# plt.show()\n",
    "# print(E_complex_data[t_data_size-3][:-1])\n",
    "\n",
    "#Laser intensity from field solution is going to use the last non-zero value of E_complex_data.\n",
    "\n",
    "# S_xt_ = -2 * complex_wavenumber * laser_intensity"
   ]
  },
  {
   "cell_type": "markdown",
   "metadata": {},
   "source": [
    "## get_collisional_damping\n",
    "\n",
    "Takes in input from E_complex solution and adds damping factor. Return damped wave."
   ]
  },
  {
   "cell_type": "code",
   "execution_count": null,
   "metadata": {},
   "outputs": [],
   "source": [
    "def get_collisional_damping(E_complex_data, E_complex_data_xdata, complex_wavenumber):\n",
    "    E_complex_damped_data = np.exp(-complex_wavenumber.imag * E_complex_data_xdata) * E_complex_data.real\n",
    "    \n",
    "    return E_complex_damped_data # in same dimension as E_complex_data in space and time."
   ]
  },
  {
   "cell_type": "markdown",
   "metadata": {},
   "source": [
    "## get_laser_intensity"
   ]
  },
  {
   "cell_type": "code",
   "execution_count": null,
   "metadata": {},
   "outputs": [],
   "source": [
    "# complex_wavenumber = (angular_frequency / speed_of_light) * complex_refractive_index\n",
    "# E_complex_damped_data = get_collisional_damping(E_complex_data, E_complex_data_xdata, complex_wavenumber)\n",
    "\n",
    "def get_laser_intensity(speed_of_light, n_real, permittivity_free_space, E_complex_damped_data):\n",
    "    field_solution_laser_intensity = (speed_of_light * n_real * permittivity_free_space)/2 * (E_complex_damped_data.real)**2 #unit is in Watts\n",
    "    \n",
    "    return field_solution_laser_intensity # this is a 2d array in Watts/m^2\n",
    "\n",
    "\n",
    "\n",
    "# field_solution_laser_intensity = (speed_of_light * n_real * permittivity_free_space)/2 * \\\n",
    "# (E_comex_damped_data[t_data_size-3][-(ghost_cell_size + 1)].real)**2"
   ]
  },
  {
   "cell_type": "code",
   "execution_count": null,
   "metadata": {},
   "outputs": [],
   "source": [
    "E_complex_damped_data = get_collisional_damping(E_complex_data, E_complex_data_xdata, complex_wavenumber)\n",
    "\n",
    "field_solution_laser_intensity = get_laser_intensity(speed_of_light, n_real, permittivity_free_space, E_complex_damped_data) + 1\n",
    "\n",
    "# MAKE SURE THAT INTENSITY IS A REAL VALUE! CONVERT IF NOT.\n",
    "\n",
    "# PLOT LIKE THIS!\n",
    "#Plot Te vs cells\n",
    "# plot Ti vs cells\n",
    "# plot n_fe vs cells\n",
    "\n",
    "plt.plot(field_solution_laser_intensity[100, :], label = \"100\")\n",
    "plt.plot(field_solution_laser_intensity[200, :], label = \"200\")\n",
    "plt.plot(field_solution_laser_intensity[300, :], label = \"300\")\n",
    "plt.plot(field_solution_laser_intensity[400, :], label = \"400\")\n",
    "plt.legend()"
   ]
  },
  {
   "cell_type": "code",
   "execution_count": null,
   "metadata": {},
   "outputs": [],
   "source": [
    "field_solution_laser_intensity.shape"
   ]
  },
  {
   "cell_type": "code",
   "execution_count": null,
   "metadata": {},
   "outputs": [],
   "source": [
    "field_solution_laser_intensity.real"
   ]
  },
  {
   "cell_type": "code",
   "execution_count": null,
   "metadata": {},
   "outputs": [],
   "source": [
    "np.isreal(field_solution_laser_intensity)"
   ]
  },
  {
   "cell_type": "code",
   "execution_count": null,
   "metadata": {
    "scrolled": true
   },
   "outputs": [],
   "source": [
    "# Te_arr = np.array(Te_ls)\n",
    "# Ti_arr = np.array(Te_ls)\n",
    "# n_fe_arr = np.array(n_fe_ls)\n",
    "# laserI_arr = np.array(laserI_ls)\n",
    "# laserE_arr = np.array(laserE_ls)\n"
   ]
  },
  {
   "cell_type": "code",
   "execution_count": null,
   "metadata": {},
   "outputs": [],
   "source": [
    "# Nz_size_arr = np.arange(0, Nz)"
   ]
  },
  {
   "cell_type": "code",
   "execution_count": null,
   "metadata": {
    "scrolled": false
   },
   "outputs": [],
   "source": [
    "# plt.plot(Nz_size_arr, laserI_arr[:Nz])"
   ]
  },
  {
   "cell_type": "code",
   "execution_count": null,
   "metadata": {},
   "outputs": [],
   "source": [
    "# plt.plot(laserI_arr[:])"
   ]
  },
  {
   "cell_type": "code",
   "execution_count": null,
   "metadata": {},
   "outputs": [],
   "source": [
    "#plt.plot(Nz_size_arr, laserE_arr[:Nz])"
   ]
  },
  {
   "cell_type": "markdown",
   "metadata": {},
   "source": [
    "## get_main"
   ]
  },
  {
   "cell_type": "markdown",
   "metadata": {},
   "source": [
    "Debugging ideas: Use original Intensity to see if code runs.\n",
    "\n",
    "Search for all laser_I and print the value\n",
    "\n",
    "WPI was giving us trouble because my laserI was really really small. So Jack will give me a new formula/subroutine for aluminum and CH WPI calculations. Temporary fix was adding a residual of 10^5 (can be 10^10 if still have trouble) to laserI.\n",
    "\n",
    "Once I have new subroutine. Open one new subroutine for CH, one for Aluminum and we're done!"
   ]
  },
  {
   "cell_type": "code",
   "execution_count": 65,
   "metadata": {
    "ExecuteTime": {
     "end_time": "2021-08-23T08:14:21.772988Z",
     "start_time": "2021-08-22T21:55:35.800057Z"
    },
    "scrolled": false
   },
   "outputs": [
    {
     "name": "stdout",
     "output_type": "stream",
     "text": [
      "Nz 854\n",
      "var_zone[0,0] 0.0\n",
      "var_zone[0,0:2] [0. 0.]\n",
      "time_step    =  0\n",
      "laserI_INC         =  4.011e+07  W/m^2\n",
      "laserE_INC         =  1.738e+05  V/m\n",
      "time         =  0.000e+00  ps\n",
      "time_current =  0.000e+00  ps\n",
      "time_next    =  5.000e+00  ps\n",
      "dt           =  5.854e-17  s\n",
      "Te_IN, Te_OUT =  2.500e-02 2.500e-02 eV\n",
      "Ti_IN, Ti_OUT =  2.500e-02 2.500e-02 eV\n",
      "ne_IN, ne_OUT =  1.000e+16 1.000e+16 1/m^3\n",
      "vc_IN, vc_OUT =  1.486e+15 1.486e+15 1/s\n",
      "dU_IN, dU_OUT =  5.924e+09 5.924e+09 J/s/m^3\n",
      "si_IN, si_OUT =  5.196e-06 5.196e-06 1/m\n",
      "Z_IN,  Z_OUT  =  3.333e-13 3.333e-13\n",
      "Z_QMD_IN,Z_QMD_OUT =  1.183e-97 1.183e-97\n",
      "Te_max        =  2.500e-02 eV\n",
      "Ti_max        =  2.500e-02 eV\n",
      "ite_max       =  85410\n"
     ]
    },
    {
     "ename": "KeyboardInterrupt",
     "evalue": "",
     "output_type": "error",
     "traceback": [
      "\u001b[1;31m---------------------------------------------------------------------------\u001b[0m",
      "\u001b[1;31mKeyboardInterrupt\u001b[0m                         Traceback (most recent call last)",
      "\u001b[1;32mc:\\Users\\nickd\\OneDrive\\Documents\\GitHub\\PFURO-2023-PRIV\\Code\\FieldSolver_V1_AlV2.ipynb Cell 126\u001b[0m line \u001b[0;36m2\n\u001b[0;32m    <a href='vscode-notebook-cell:/c%3A/Users/nickd/OneDrive/Documents/GitHub/PFURO-2023-PRIV/Code/FieldSolver_V1_AlV2.ipynb#Y236sZmlsZQ%3D%3D?line=236'>237</a>\u001b[0m WPI       \u001b[39m=\u001b[39m get_WPI(laserI,laserE,Nmax,omega_355nm,Eg_CH) \u001b[39m# 1/(s.m^3)\u001b[39;00m\n\u001b[0;32m    <a href='vscode-notebook-cell:/c%3A/Users/nickd/OneDrive/Documents/GitHub/PFURO-2023-PRIV/Code/FieldSolver_V1_AlV2.ipynb#Y236sZmlsZQ%3D%3D?line=237'>238</a>\u001b[0m W1        \u001b[39m=\u001b[39m get_W1(laserE) \u001b[39m# 1/s\u001b[39;00m\n\u001b[1;32m--> <a href='vscode-notebook-cell:/c%3A/Users/nickd/OneDrive/Documents/GitHub/PFURO-2023-PRIV/Code/FieldSolver_V1_AlV2.ipynb#Y236sZmlsZQ%3D%3D?line=238'>239</a>\u001b[0m WPI_probe \u001b[39m=\u001b[39m get_WPI(laserI_probe,laserE_probe,Nmax,omega_450nm,Eg_CH) \u001b[39m#1/(s.m^3)     \u001b[39;00m\n\u001b[0;32m    <a href='vscode-notebook-cell:/c%3A/Users/nickd/OneDrive/Documents/GitHub/PFURO-2023-PRIV/Code/FieldSolver_V1_AlV2.ipynb#Y236sZmlsZQ%3D%3D?line=239'>240</a>\u001b[0m dUdt_JH, sigma_JH       \u001b[39m=\u001b[39m get_JH(n_fe,vc,omega_355nm,laserE,n)\n\u001b[0;32m    <a href='vscode-notebook-cell:/c%3A/Users/nickd/OneDrive/Documents/GitHub/PFURO-2023-PRIV/Code/FieldSolver_V1_AlV2.ipynb#Y236sZmlsZQ%3D%3D?line=240'>241</a>\u001b[0m dUdt_probe, sigma_probe \u001b[39m=\u001b[39m get_JH(n_fe,vc,omega_450nm,laserE_probe,n_probe) \n",
      "\u001b[1;32mc:\\Users\\nickd\\OneDrive\\Documents\\GitHub\\PFURO-2023-PRIV\\Code\\FieldSolver_V1_AlV2.ipynb Cell 126\u001b[0m line \u001b[0;36m1\n\u001b[0;32m    <a href='vscode-notebook-cell:/c%3A/Users/nickd/OneDrive/Documents/GitHub/PFURO-2023-PRIV/Code/FieldSolver_V1_AlV2.ipynb#Y236sZmlsZQ%3D%3D?line=108'>109</a>\u001b[0m bangGapEffective \u001b[39m=\u001b[39m \u001b[39m2\u001b[39m\u001b[39m*\u001b[39mbangGap\u001b[39m*\u001b[39mE2\u001b[39m/\u001b[39m(math\u001b[39m.\u001b[39mpi\u001b[39m*\u001b[39mgamma1)\n\u001b[0;32m    <a href='vscode-notebook-cell:/c%3A/Users/nickd/OneDrive/Documents/GitHub/PFURO-2023-PRIV/Code/FieldSolver_V1_AlV2.ipynb#Y236sZmlsZQ%3D%3D?line=109'>110</a>\u001b[0m x \u001b[39m=\u001b[39m bangGapEffective\u001b[39m/\u001b[39m(hbar\u001b[39m*\u001b[39momega_IN)\n\u001b[1;32m--> <a href='vscode-notebook-cell:/c%3A/Users/nickd/OneDrive/Documents/GitHub/PFURO-2023-PRIV/Code/FieldSolver_V1_AlV2.ipynb#Y236sZmlsZQ%3D%3D?line=111'>112</a>\u001b[0m Qvalue \u001b[39m=\u001b[39m math\u001b[39m.\u001b[39msqrt(math\u001b[39m.\u001b[39mpi\u001b[39m/\u001b[39m\u001b[39m2\u001b[39m\u001b[39m/\u001b[39mK2)\u001b[39m*\u001b[39mSumfunction(K1,K2,E1,E2,Nmax,x)\n\u001b[0;32m    <a href='vscode-notebook-cell:/c%3A/Users/nickd/OneDrive/Documents/GitHub/PFURO-2023-PRIV/Code/FieldSolver_V1_AlV2.ipynb#Y236sZmlsZQ%3D%3D?line=113'>114</a>\u001b[0m \u001b[39m# Jack's WPI is about three times smaller than Arnab's WPI\u001b[39;00m\n\u001b[0;32m    <a href='vscode-notebook-cell:/c%3A/Users/nickd/OneDrive/Documents/GitHub/PFURO-2023-PRIV/Code/FieldSolver_V1_AlV2.ipynb#Y236sZmlsZQ%3D%3D?line=114'>115</a>\u001b[0m WPI \u001b[39m=\u001b[39m \u001b[39m2\u001b[39m\u001b[39m*\u001b[39momega_IN\u001b[39m/\u001b[39m(\u001b[39m9\u001b[39m\u001b[39m*\u001b[39mmath\u001b[39m.\u001b[39mpi)\u001b[39m*\u001b[39m(omega_IN\u001b[39m*\u001b[39mmassElectronReduced\u001b[39m/\u001b[39m(hbar\u001b[39m*\u001b[39mgamma1))\u001b[39m*\u001b[39m\u001b[39m*\u001b[39m\u001b[39m1.5\u001b[39m\u001b[39m*\u001b[39m\\\n\u001b[0;32m    <a href='vscode-notebook-cell:/c%3A/Users/nickd/OneDrive/Documents/GitHub/PFURO-2023-PRIV/Code/FieldSolver_V1_AlV2.ipynb#Y236sZmlsZQ%3D%3D?line=115'>116</a>\u001b[0m Qvalue\u001b[39m*\u001b[39mmath\u001b[39m.\u001b[39mexp(\u001b[39m-\u001b[39mmath\u001b[39m.\u001b[39mpi\u001b[39m*\u001b[39mmath\u001b[39m.\u001b[39mmodf(x\u001b[39m+\u001b[39m\u001b[39m1\u001b[39m)[\u001b[39m1\u001b[39m]\u001b[39m*\u001b[39m(K1\u001b[39m-\u001b[39mE1)\u001b[39m/\u001b[39mE2)\u001b[39m*\u001b[39m\u001b[39m10\u001b[39m\u001b[39m*\u001b[39m\u001b[39m*\u001b[39m\u001b[39m-\u001b[39m\u001b[39m6\u001b[39m \u001b[39m# 1/(s.cm^3)\u001b[39;00m\n",
      "\u001b[1;32mc:\\Users\\nickd\\OneDrive\\Documents\\GitHub\\PFURO-2023-PRIV\\Code\\FieldSolver_V1_AlV2.ipynb Cell 126\u001b[0m line \u001b[0;36m7\n\u001b[0;32m      <a href='vscode-notebook-cell:/c%3A/Users/nickd/OneDrive/Documents/GitHub/PFURO-2023-PRIV/Code/FieldSolver_V1_AlV2.ipynb#Y236sZmlsZQ%3D%3D?line=4'>5</a>\u001b[0m     Z2 \u001b[39m=\u001b[39m \u001b[39m2\u001b[39m\u001b[39m*\u001b[39mK2\u001b[39m*\u001b[39mE2\n\u001b[0;32m      <a href='vscode-notebook-cell:/c%3A/Users/nickd/OneDrive/Documents/GitHub/PFURO-2023-PRIV/Code/FieldSolver_V1_AlV2.ipynb#Y236sZmlsZQ%3D%3D?line=5'>6</a>\u001b[0m     z \u001b[39m=\u001b[39m math\u001b[39m.\u001b[39msqrt(Z1\u001b[39m/\u001b[39mZ2)\n\u001b[1;32m----> <a href='vscode-notebook-cell:/c%3A/Users/nickd/OneDrive/Documents/GitHub/PFURO-2023-PRIV/Code/FieldSolver_V1_AlV2.ipynb#Y236sZmlsZQ%3D%3D?line=6'>7</a>\u001b[0m     summation \u001b[39m+\u001b[39m\u001b[39m=\u001b[39m math\u001b[39m.\u001b[39mexp(\u001b[39m-\u001b[39mmath\u001b[39m.\u001b[39mpi\u001b[39m*\u001b[39mn\u001b[39m*\u001b[39m(K1 \u001b[39m-\u001b[39m E1)\u001b[39m/\u001b[39mE2)\u001b[39m*\u001b[39mPhifunction(z)\n\u001b[0;32m      <a href='vscode-notebook-cell:/c%3A/Users/nickd/OneDrive/Documents/GitHub/PFURO-2023-PRIV/Code/FieldSolver_V1_AlV2.ipynb#Y236sZmlsZQ%3D%3D?line=7'>8</a>\u001b[0m \u001b[39mreturn\u001b[39;00m summation\n",
      "\u001b[1;32mc:\\Users\\nickd\\OneDrive\\Documents\\GitHub\\PFURO-2023-PRIV\\Code\\FieldSolver_V1_AlV2.ipynb Cell 126\u001b[0m line \u001b[0;36m1\n\u001b[0;32m     <a href='vscode-notebook-cell:/c%3A/Users/nickd/OneDrive/Documents/GitHub/PFURO-2023-PRIV/Code/FieldSolver_V1_AlV2.ipynb#Y236sZmlsZQ%3D%3D?line=9'>10</a>\u001b[0m \u001b[39mdef\u001b[39;00m \u001b[39mPhifunction\u001b[39m(z):\n\u001b[0;32m     <a href='vscode-notebook-cell:/c%3A/Users/nickd/OneDrive/Documents/GitHub/PFURO-2023-PRIV/Code/FieldSolver_V1_AlV2.ipynb#Y236sZmlsZQ%3D%3D?line=10'>11</a>\u001b[0m     integrand \u001b[39m=\u001b[39m \u001b[39mlambda\u001b[39;00m y: math\u001b[39m.\u001b[39mexp(y\u001b[39m*\u001b[39m\u001b[39m*\u001b[39m\u001b[39m2\u001b[39m\u001b[39m-\u001b[39mz\u001b[39m*\u001b[39m\u001b[39m*\u001b[39m\u001b[39m2\u001b[39m)\n\u001b[1;32m---> <a href='vscode-notebook-cell:/c%3A/Users/nickd/OneDrive/Documents/GitHub/PFURO-2023-PRIV/Code/FieldSolver_V1_AlV2.ipynb#Y236sZmlsZQ%3D%3D?line=11'>12</a>\u001b[0m     phi \u001b[39m=\u001b[39m integrate\u001b[39m.\u001b[39;49mquad(integrand, \u001b[39m0\u001b[39;49m, z)\n\u001b[0;32m     <a href='vscode-notebook-cell:/c%3A/Users/nickd/OneDrive/Documents/GitHub/PFURO-2023-PRIV/Code/FieldSolver_V1_AlV2.ipynb#Y236sZmlsZQ%3D%3D?line=12'>13</a>\u001b[0m     \u001b[39mreturn\u001b[39;00m phi[\u001b[39m0\u001b[39m]\n",
      "File \u001b[1;32mc:\\Users\\nickd\\OneDrive\\Documents\\GitHub\\PFURO-2023-PRIV\\Code\\pfurovenv\\Lib\\site-packages\\scipy\\integrate\\_quadpack_py.py:465\u001b[0m, in \u001b[0;36mquad\u001b[1;34m(func, a, b, args, full_output, epsabs, epsrel, limit, points, weight, wvar, wopts, maxp1, limlst, complex_func)\u001b[0m\n\u001b[0;32m    462\u001b[0m     \u001b[39mreturn\u001b[39;00m retval\n\u001b[0;32m    464\u001b[0m \u001b[39mif\u001b[39;00m weight \u001b[39mis\u001b[39;00m \u001b[39mNone\u001b[39;00m:\n\u001b[1;32m--> 465\u001b[0m     retval \u001b[39m=\u001b[39m _quad(func, a, b, args, full_output, epsabs, epsrel, limit,\n\u001b[0;32m    466\u001b[0m                    points)\n\u001b[0;32m    467\u001b[0m \u001b[39melse\u001b[39;00m:\n\u001b[0;32m    468\u001b[0m     \u001b[39mif\u001b[39;00m points \u001b[39mis\u001b[39;00m \u001b[39mnot\u001b[39;00m \u001b[39mNone\u001b[39;00m:\n",
      "File \u001b[1;32mc:\\Users\\nickd\\OneDrive\\Documents\\GitHub\\PFURO-2023-PRIV\\Code\\pfurovenv\\Lib\\site-packages\\scipy\\integrate\\_quadpack_py.py:577\u001b[0m, in \u001b[0;36m_quad\u001b[1;34m(func, a, b, args, full_output, epsabs, epsrel, limit, points)\u001b[0m\n\u001b[0;32m    575\u001b[0m \u001b[39mif\u001b[39;00m points \u001b[39mis\u001b[39;00m \u001b[39mNone\u001b[39;00m:\n\u001b[0;32m    576\u001b[0m     \u001b[39mif\u001b[39;00m infbounds \u001b[39m==\u001b[39m \u001b[39m0\u001b[39m:\n\u001b[1;32m--> 577\u001b[0m         \u001b[39mreturn\u001b[39;00m _quadpack\u001b[39m.\u001b[39;49m_qagse(func,a,b,args,full_output,epsabs,epsrel,limit)\n\u001b[0;32m    578\u001b[0m     \u001b[39melse\u001b[39;00m:\n\u001b[0;32m    579\u001b[0m         \u001b[39mreturn\u001b[39;00m _quadpack\u001b[39m.\u001b[39m_qagie(func,bound,infbounds,args,full_output,epsabs,epsrel,limit)\n",
      "\u001b[1;32mc:\\Users\\nickd\\OneDrive\\Documents\\GitHub\\PFURO-2023-PRIV\\Code\\FieldSolver_V1_AlV2.ipynb Cell 126\u001b[0m line \u001b[0;36m1\n\u001b[0;32m     <a href='vscode-notebook-cell:/c%3A/Users/nickd/OneDrive/Documents/GitHub/PFURO-2023-PRIV/Code/FieldSolver_V1_AlV2.ipynb#Y236sZmlsZQ%3D%3D?line=9'>10</a>\u001b[0m \u001b[39mdef\u001b[39;00m \u001b[39mPhifunction\u001b[39m(z):\n\u001b[1;32m---> <a href='vscode-notebook-cell:/c%3A/Users/nickd/OneDrive/Documents/GitHub/PFURO-2023-PRIV/Code/FieldSolver_V1_AlV2.ipynb#Y236sZmlsZQ%3D%3D?line=10'>11</a>\u001b[0m     integrand \u001b[39m=\u001b[39m \u001b[39mlambda\u001b[39;00m y: math\u001b[39m.\u001b[39mexp(y\u001b[39m*\u001b[39m\u001b[39m*\u001b[39m\u001b[39m2\u001b[39m\u001b[39m-\u001b[39mz\u001b[39m*\u001b[39m\u001b[39m*\u001b[39m\u001b[39m2\u001b[39m)\n\u001b[0;32m     <a href='vscode-notebook-cell:/c%3A/Users/nickd/OneDrive/Documents/GitHub/PFURO-2023-PRIV/Code/FieldSolver_V1_AlV2.ipynb#Y236sZmlsZQ%3D%3D?line=11'>12</a>\u001b[0m     phi \u001b[39m=\u001b[39m integrate\u001b[39m.\u001b[39mquad(integrand, \u001b[39m0\u001b[39m, z)\n\u001b[0;32m     <a href='vscode-notebook-cell:/c%3A/Users/nickd/OneDrive/Documents/GitHub/PFURO-2023-PRIV/Code/FieldSolver_V1_AlV2.ipynb#Y236sZmlsZQ%3D%3D?line=12'>13</a>\u001b[0m     \u001b[39mreturn\u001b[39;00m phi[\u001b[39m0\u001b[39m]\n",
      "\u001b[1;31mKeyboardInterrupt\u001b[0m: "
     ]
    }
   ],
   "source": [
    "# Confirmed with Jack 09/01 no need to change\n",
    "# Thickness is now used in the field_solution_parameters\n",
    "# Thickness = 30 # um\n",
    "# Nz = int(Thickness*um/wavelength_355nm)\n",
    "# dz = wavelength_355nm # m\n",
    "# dt = dz/lightSpeed*10 # s\n",
    "\n",
    "# Confirmed with Jack 09/24\n",
    "Nz = n_cells  # unitless n_cells = int(L/delta_x)\n",
    "dz = delta_x # in meters\n",
    "dt = delta_t # in seconds\n",
    "\n",
    "# PRINT ENTIRE NZ ARRAY FOR Te, Ti, n_fe, laserI, laserE\n",
    "# Te_ls = []\n",
    "# Ti_ls = []\n",
    "# n_fe_ls = []\n",
    "# laserI_ls = []\n",
    "# laserE_ls = []\n",
    "\n",
    "# Confirmed with Jack 09/01 no need to change\n",
    "# Probe beam has a longer wavelength without heating material but will get a response. Does not carry any physics.\n",
    "# Confirmed laserI no change on 09/24 by Jack\n",
    "laserI_probe_INC = probe_intensity # W/m^2 # laser intensity of probe pulse\n",
    "alpha        = 10**(14)  # 1/s # rate of impact ionization\n",
    "taur         = 10**(-12)*1000 # s   # electron recombination\n",
    "nc_355nm     = get_nc(wavelength_355nm) # (1/m^3)\n",
    "nc_450nm     = get_nc(wavelength_450nm) # (1/m^3)\n",
    "\n",
    "# Confirmed with Jack 09/01 no need to change\n",
    "Ns_zone  = 6\n",
    "Ns_edge  = 4\n",
    "var_zone = np.zeros([Nz,Ns_zone])\n",
    "print('Nz', Nz)\n",
    "print('var_zone[0,0]', var_zone[0,0])\n",
    "print('var_zone[0,0:2]', var_zone[0,0:2])\n",
    "\n",
    "# Confirmed with Jack 09/01 no need to change\n",
    "n_0 = 10**10*100**3 # 1/m^3 \n",
    "n_1 = 0             # 1/m^3 \n",
    "n_2 = 0             # 1/m^3 \n",
    "Te  = 0.025*eV # J\n",
    "Ti  = 0.025*eV # J\n",
    "\n",
    "# Confirmed with Jack 09/01 no need to change\n",
    "var_zone[:,0] = n_0 # 1/m^3 \n",
    "var_zone[:,1] = n_1 # 1/m^3 \n",
    "var_zone[:,2] = n_2 # 1/m^3\n",
    "var_zone[:,3] = Te  # J\n",
    "var_zone[:,4] = Ti  # J\n",
    "\n",
    "# Confirmed with Jack 09/01 no need to change\n",
    "t_start_wall = timeCheck.time()\n",
    "hist         = []\n",
    "\n",
    "# Confirmed with Jack 09/01 no need to change\n",
    "pulse_IN = pulse_1\n",
    "pulse_IN_Imax_TimePs = pulse_1_Imax_TimePs\n",
    "\n",
    "time_n       = 0 # time_n is a variable made to match n in my E_complex_data\n",
    "time         = 0                         # s\n",
    "time_step    = 0\n",
    "\n",
    "# Define laser intentisities at different point in laser pulse.\n",
    "# t1, t2, t3... but t1 ans t2 have a big gap, so we need to go through a lot of small delta_t which are time_step.\n",
    "for time_step in range(pulse_IN.shape[0]*1):\n",
    "    \n",
    "    \n",
    "    # insert some subroutine to do laser intensity calculation\n",
    "    # use this laser intensity in my code\n",
    "    # Confirmed with Jack 09/01 no need to change\n",
    "    # Incidence that provides boudnary condition for my electric field.\n",
    "    # So in my code, I will use laser_E_INC to propagate E. Sinusoidal is for amplitude boundary conditions.\n",
    "    # Confirmed with Jack 09/01 no need to change\n",
    "    laserI_INC   = pulse_IN[time_step,1]      # W/m^2\n",
    "    laserE_INC   = get_laserE(laserI_INC,1)   # V/m with RefractiveIndex = 1. Converts I to E.\n",
    "    \n",
    "    # Confirmed with Jack 09/01 no change needed\n",
    "    time_current = pulse_IN[time_step,0]*ns   # s\n",
    "    time_next    = pulse_IN[time_step+1,0]*ns # s\n",
    "    ite_max      = int((time_next - time_current)/dt)\n",
    "    \n",
    "    # Confirmed with Jack 09/01 no change needed\n",
    "    ne_IN  = sum(var_zone[0,0:2])  # 1/m^3\n",
    "    ne_OUT = sum(var_zone[-1,0:2]) # 1/m^3\n",
    "    n_IN     = get_n(ne_IN,omega_355nm)  # unitless\n",
    "    n_OUT    = get_n(ne_OUT,omega_355nm) # unitless \n",
    "    Te_IN    = var_zone[0,3]  # J\n",
    "    Te_OUT   = var_zone[-1,3] # J \n",
    "    Ti_IN    = var_zone[0,4]  # J\n",
    "    Ti_OUT   = var_zone[-1,4] # J     \n",
    "    vc_IN    = get_vc_new(Te_IN,Ti_IN,ne_IN,n_a_CH,R_CH)   # 1/s\n",
    "    vc_OUT   = get_vc_new(Te_OUT,Ti_OUT,ne_OUT,n_a_CH,R_CH)# 1/s    \n",
    "    dU_IN, si_IN   = get_JH(ne_IN,vc_IN,omega_355nm,laserE,n_IN)\n",
    "    dU_OUT, si_OUT = get_JH(ne_OUT,vc_OUT,omega_355nm,laserE,n_OUT) \n",
    "    Z_IN  = ne_IN/n_a_CH\n",
    "    Z_OUT = ne_OUT/n_a_CH\n",
    "    Z_QMD_IN  = get_Zeff(n_a_CH,Te_IN)\n",
    "    Z_QMD_OUT = get_Zeff(n_a_CH,Te_OUT)\n",
    "\n",
    "    print('time_step    = ',time_step)\n",
    "    # compare the beginning point of my laser intensity to this value. Should be equal or very close!\n",
    "    print('laserI_INC         = ',\"{:.3e}\".format(laserI_INC),' W/m^2')\n",
    "    print('laserE_INC         = ',\"{:.3e}\".format(laserE_INC),' V/m')\n",
    "    print('time         = ',\"{:.3e}\".format(time/ps),' ps')\n",
    "    print('time_current = ',\"{:.3e}\".format(time_current/ps),' ps')\n",
    "    print('time_next    = ',\"{:.3e}\".format(time_next/ps),' ps')\n",
    "    print('dt           = ',\"{:.3e}\".format(dt),' s')\n",
    "    print('Te_IN, Te_OUT = ',\"{:.3e}\".format(Te_IN/eV),\"{:.3e}\".format(Te_OUT/eV),'eV')\n",
    "    print('Ti_IN, Ti_OUT = ',\"{:.3e}\".format(Ti_IN/eV),\"{:.3e}\".format(Ti_OUT/eV),'eV') \n",
    "    print('ne_IN, ne_OUT = ',\"{:.3e}\".format(ne_IN),\"{:.3e}\".format(ne_OUT),'1/m^3')\n",
    "    print('vc_IN, vc_OUT = ',\"{:.3e}\".format(vc_IN),\"{:.3e}\".format(vc_OUT),'1/s')\n",
    "    print('dU_IN, dU_OUT = ',\"{:.3e}\".format(dU_IN),\"{:.3e}\".format(dU_OUT),'J/s/m^3') \n",
    "    print('si_IN, si_OUT = ',\"{:.3e}\".format(si_IN),\"{:.3e}\".format(si_OUT),'1/m') \n",
    "    print('Z_IN,  Z_OUT  = ',\"{:.3e}\".format(Z_IN),\"{:.3e}\".format(Z_OUT)) \n",
    "    print('Z_QMD_IN,Z_QMD_OUT = ',\"{:.3e}\".format(Z_QMD_IN),\"{:.3e}\".format(Z_QMD_OUT))\n",
    "    print('Te_max        = ',\"{:.3e}\".format(max(var_zone[:,3])/eV),'eV')\n",
    "    print('Ti_max        = ',\"{:.3e}\".format(max(var_zone[:,4])/eV),'eV')    \n",
    "    print('ite_max       = ',ite_max)\n",
    "    \n",
    "    # Checking initialization\n",
    "    \n",
    "#     plt.plot(var_zone[:,0])\n",
    "#     plt.show()\n",
    "#     plt.plot(var_zone[:,1])\n",
    "#     plt.show()\n",
    "#     plt.plot(var_zone[:,2])\n",
    "#     plt.show()\n",
    "#     plt.plot(var_zone[:,3])\n",
    "#     plt.show()\n",
    "#     plt.plot(var_zone[:,4])\n",
    "#     plt.show()\n",
    "    \n",
    "    # this for loop is summing all ite_max until we get to next time\n",
    "    # t1 and t2 have a big gap, but we define delta_t by ourselves to satisfy current condition\n",
    "    # delta_t for wave solution is very small and less than speed of light.\n",
    "    # when we run field solution until summation of all delta_t is big enough to go into next time step.\n",
    "    # t1 + sigma(delta_t) -> t2\n",
    "    # this gives the real time, to match mine I need to use time_n to count the summations\n",
    "    for ite in range(ite_max):\n",
    "        \n",
    "        # Confirmed with Jack 09/01 no need to change\n",
    "        n_fe_max = np.max(var_zone[:,0]+var_zone[:,1]+var_zone[:,2]) # 1/m^3\n",
    "        Te_max   = np.max(var_zone[:,3]) # J\n",
    "        Ti_max   = np.max(var_zone[:,4]) # J\n",
    "        \n",
    "        # Confirmed with Jack 09/01 no need to change\n",
    "        # Summarize: we get incident E from existing code and what I need to provide is inside propagation.\n",
    "        # make no changes for E_IN which provides boundary condition for amplitude.\n",
    "        # IF I see INC, no change.\n",
    "        laserI        = laserI_INC       # W/m^2     \n",
    "        laserI_probe  = laserI_probe_INC # W/m^2\n",
    "        laserE        = laserE_INC       # V/m   \n",
    "        var_edge      = np.zeros([Nz+1,Ns_edge])\n",
    "        var_edge[0,0] = 0      # m\n",
    "        var_edge[0,1] = laserI # W/m^2\n",
    "        var_edge[0,2] = laserE # V/m\n",
    "        var_edge[0,3] = laserI_probe # W/m^2\n",
    "        \n",
    "#         if 0 : \n",
    "#             print()\n",
    "#             print('ite, time, n_fe_max, transimittance = ',\n",
    "#                   ite,\n",
    "#                   \"{:.3e}\".format(time),\n",
    "#                   \"{:.3e}\".format(n_fe_max),\n",
    "#                   \"{:.3e}\".format(laserI_probe/laserI_probe_INC),\n",
    "#                   \"{:.3e}\".format(laserI/laserI_INC))\n",
    "#             print('---')        \n",
    "        \n",
    "        # space loop\n",
    "        for zone in range(1,Nz+1):\n",
    "            \n",
    "#             if x_i == Nz-1:\n",
    "#                 plt.plot(var_zone[:,0])\n",
    "#                 plt.show()\n",
    "#                 plt.plot(var_zone[:,1])\n",
    "#                 plt.show()\n",
    "#                 plt.plot(var_zone[:,2])\n",
    "#                 plt.show()\n",
    "#                 plt.plot(var_zone[:,3])\n",
    "#                 plt.show()\n",
    "#                 plt.plot(var_zone[:,4])\n",
    "#                 plt.show()\n",
    "                \n",
    "            # defines position\n",
    "            # Confirmed with Jack 09/01 no need to change\n",
    "            \n",
    "            # x_i begins with -2, -1, 0 .... n_cells + 2 so 2 ghost cells on left and right.\n",
    "            # i_zone begins with 1 to Nz+1\n",
    "            # Nz = n_cells. CONFIRMED in 10/09 meeting with Jack. So no mismatch.\n",
    "            i_zone = zone - 1 \n",
    "            zp     = zone*dz     # m\n",
    "            zm     = (zone-1)*dz # m\n",
    "            x_i = i_zone # to match the i_index for space in E_complex_data \n",
    "            \n",
    "            # Confirmed with Jack 09/01 no need to change\n",
    "            n_0 = var_zone[i_zone,0] # 1/m^3\n",
    "            n_1 = var_zone[i_zone,1] # 1/m^3\n",
    "            n_2 = var_zone[i_zone,2] # 1/m^3\n",
    "            Te  = var_zone[i_zone,3] # J\n",
    "            Ti  = var_zone[i_zone,4] # J\n",
    "            \n",
    "            \n",
    "            # Confirmed with Jack 09/01 no need to change\n",
    "            n_fe  = n_0 + n_1 + n_2          # 1/m^3\n",
    "            beta  = (n_vb_CH - n_fe)/n_vb_CH # no unit\n",
    "            n_old = [n_0, n_1, n_2]          # 1/m^3   \n",
    "            #####################################            \n",
    "            #vc_OLD  = get_vc(Te/eV,Ti/eV,n_fe,n_a_CH,1)               # 1/s\n",
    "            # Confirmed with Jack 09/01 no need to change\n",
    "#             Te_ls.append(Te)\n",
    "#             Ti_ls.append(Ti)\n",
    "#             n_fe_ls.append(n_fe)\n",
    "#             laserI_ls.append(laserI)\n",
    "#             laserE_ls.append(laserE)\n",
    "#             print()\n",
    "#             print(\"first vc\")\n",
    "#             print('x_i', x_i, 'Te', Te, 'Ti', Ti, 'n_fe', n_fe, 'n_a_CH', n_a_CH, 'R_CH', R_CH)\n",
    "            vc      = get_vc_new(Te,Ti,n_fe,n_a_CH,R_CH)# 1/s\n",
    "            #vr      = get_vr(n_fe,Te) # 1/s\n",
    "            #taur    = 1/vr # s\n",
    "            #alpha   = get_vi(laserE,omega_355nm,Eg_CH,vc) # 1/s\n",
    "            #####################################\n",
    "            # Confirmed with Jack 09/01 no need to change\n",
    "            # n is refractive index from free electron densities (n_fe)\n",
    "#             print('n_fe', n_fe)\n",
    "            n       = get_n(n_fe,omega_355nm) # unitless  \n",
    "            n_probe = get_n(n_fe,omega_450nm) # unitless     \n",
    "            \n",
    "            # provide laserE and laserE_probe\n",
    "            # Confirmed with Jack 09/01 no need to change\n",
    "            laserE       = get_laserE(laserI,n)             # V/m         \n",
    "            laserE_probe = get_laserE(laserI_probe,n_probe) # V/m \n",
    "            \n",
    "            # Confirmed with Jack 09/01 no need to change\n",
    "            Nmax      = 50\n",
    "            # WPI is the photoionization rate, which updates n_0, n_1, n_2 which updates n_fe\n",
    "            WPI       = get_WPI(laserI,laserE,Nmax,omega_355nm,Eg_CH) # 1/(s.m^3)\n",
    "            W1        = get_W1(laserE) # 1/s\n",
    "            WPI_probe = get_WPI(laserI_probe,laserE_probe,Nmax,omega_450nm,Eg_CH) #1/(s.m^3)     \n",
    "            dUdt_JH, sigma_JH       = get_JH(n_fe,vc,omega_355nm,laserE,n)\n",
    "            dUdt_probe, sigma_probe = get_JH(n_fe,vc,omega_450nm,laserE_probe,n_probe) \n",
    "            \n",
    "            #######################\n",
    "            # Field propagation solution\n",
    "            #######################   \n",
    "            # REPLACE THIS PART. In order to parallel, provide laserI_new and probe new from my code.\n",
    "            # module from my code.\n",
    "#             dIdz             = - sigma_JH    * laserI       - WPI       * Eg_CH\n",
    "            dIdz_probe       = - sigma_probe * laserI_probe - WPI_probe * Eg_CH\n",
    "#             laserI_new       = laserI       + dz * dIdz\n",
    "#             laserI_probe_new = laserI_probe + dz * dIdz_probe4.0000000000000004e-21\n",
    "            #Light Propagation (Ray tracing procedure) ^\n",
    "    \n",
    "            # NEED TO CHANGE. CONFIRMED 09/01 CHANGE. NEED FIELD SOLUTION.\n",
    "            # AS A FUNCTION OF TIME AND SPACE (t, x)\n",
    "            # call get_field_solution\n",
    "            # I need to get intesnity. For my code I get E, but I report I for Jack's code.\n",
    "            \n",
    "            # THIS IS THE ONLY PLACE I MADE A CHANGE BY MYSELF - NICK\n",
    "            \n",
    "            # WIll first consider both to be the same, but later will change.\n",
    "            # WILL NOT INTERACT WITH PROBE BEAM FOR NOW! IGNORE FOR NOW!\n",
    "            # CONFIRMED CORRECTION WITH JACK 09/24\n",
    "            # field_solution_laser_intensity is a 2d array with dimensions of time and space\n",
    "            laserI_new = field_solution_laser_intensity[time_n, x_i].real + 10**5 # in SI units Joule/(s/m^2)\n",
    "#             if laserI_new <= 0.0001:\n",
    "#                 laserI_new = 1\n",
    "            laserI_probe_new = laserI_probe + dz * dIdz_probe\n",
    "#             print('x_i', x_i, 'zone', zone, 'laserI_new', laserI_new)\n",
    "#             laserI_probe_new = field_solution_laser_intensity # in SI units Joule/(s/m^2)\n",
    "            \n",
    "            # Confirmed with Jack 09/01 no need to change\n",
    "            var_edge[zone,0] = zp                       # m\n",
    "            var_edge[zone,1] = laserI_new               # W/m^2\n",
    "            var_edge[zone,2] = get_laserE(laserI_new,n) # V/m\n",
    "            var_edge[zone,3] = laserI_probe_new         # W/m^2 \n",
    "\n",
    "            #######################\n",
    "            # Electron Dynamics\n",
    "            #######################\n",
    "            # Confirmed with Jack 09/01 no need to change\n",
    "            source = [beta*WPI,0,0]                             # 1/s/m^3\n",
    "            row1   = [-1/taur-W1,0,         2*alpha*beta      ] # 1/s\n",
    "            row2   = [W1        ,-1/taur-W1,0                 ] # 1/s\n",
    "            row3   = [0,        W1,         -1/taur-alpha*beta] # 1/s\n",
    "            matrix = [row1, row2, row3]                         # 1/s\n",
    "            n_new  = n_old + dt * (source + np.dot(matrix,n_old)) # 1/m^3\n",
    "            n_0_new, n_1_new, n_2_new = n_new       # 1/m^3       \n",
    "            n_fe_new = n_0_new + n_1_new + n_2_new  # 1/m^3\n",
    "            dn_fe    = n_fe_new - n_fe              # 1/m^3\n",
    "            \n",
    "#             print(\"Electron Dynamics\")\n",
    "#             print('x_i', x_i, 'ite', ite, 'n_0_new', n_0_new, 'n_1_new', n_1_new, 'n_2_new', n_2_new)\n",
    "            \n",
    "            # Confirmed with Jack 09/01 no need to change\n",
    "            var_zone[i_zone,0] = n_0_new # 1/m^3 \n",
    "            var_zone[i_zone,1] = n_1_new # 1/m^3 \n",
    "            var_zone[i_zone,2] = n_2_new # 1/m^3 \n",
    "\n",
    "            #######################\n",
    "            # Thermodynamics\n",
    "            #######################\n",
    "            #####################################\n",
    "            #vc =  get_vc(Te,Ti,n_fe_new,n_a_CH,1) # 1/s \n",
    "#             print(\"Thermodynamics vc\")\n",
    "#             print(\"Te\",Te,\"Ti\",Ti, \"n_fe\", n_fe, \"n_a_CH\", n_a_CH, \"R_CH\", R_CH)\n",
    "            \n",
    "            # Confirmed with Jack 09/01 no need to change\n",
    "            vc = get_vc_new(Te,Ti,n_fe,n_a_CH,R_CH)# 1/s\n",
    "            \n",
    "            #print('ite,vc = ',ite,vc)\n",
    "            #####################################\n",
    "            # Confirmed with Jack 09/01 no need to change\n",
    "            dUdt_JH, sigma_JH = get_JH(n_fe_new,vc,omega_355nm,laserE,n)\n",
    "            Ce = get_Ce(n_fe_new) # 1/m^3\n",
    "            Ci = get_Ci_new(n_a_CH,Ti)   # 1/m^3 \n",
    "            G  = get_G(Ce,vc,Ti)     # 1/m^3/s\n",
    "            #if Te <  Tc : G  = get_G(Ce,vc,'solid')     # 1/m^3/s\n",
    "            #if Te >= Tc : G  = get_G(Ce,vc,'plasma')    # 1/m^3/s\n",
    "            Qi = G*(Te-Ti)                             # J/s/m^3\n",
    "            Qe = dUdt_JH - 1.5*Te*dn_fe/dt - G*(Te-Ti) # J/s/m^3            \n",
    "            Te_new = Te + Qe*dt/Ce # eV\n",
    "            Ti_new = Ti + Qi*dt/Ci # eV    \n",
    "#             print(\"Thermodynamics\")\n",
    "#             print('x_i', x_i, 'ite', ite, 'Te_new', Te_new, 'Ti_new', Ti_new)\n",
    "            # Confirmed with Jack 09/01 no need to change\n",
    "            var_zone[i_zone,3] = Te_new  # eV\n",
    "            var_zone[i_zone,4] = Ti_new  # eV \n",
    "            \n",
    "            # Confirmed with Jack 09/01 no need to change\n",
    "            laserI       = laserI_new\n",
    "            laserI_probe = laserI_probe_new\n",
    "\n",
    "            if (n_0_new < 0) or (n_1_new < 0) or (n_2_new < 0) :\n",
    "                print('negative n_0, n_1, n_2 detected, STOP')\n",
    "                break\n",
    "\n",
    "            if (Te_new < 0) or (Ti_new < 0) :\n",
    "                print('negative Te, Ti detected, STOP')\n",
    "                print('Qe = ',Qe)\n",
    "                break \n",
    "\n",
    "            if (laserI_new < 0) or (laserI_probe_new < 0) :\n",
    "                print('negative laserI, laserI_probe detected, STOP')\n",
    "                break \n",
    "\n",
    "            if (n_fe_new > nc_355nm) or (n_fe_new > nc_450nm) :\n",
    "                print('negative n_fe exceed nc detected, STOP')\n",
    "                break             \n",
    "\n",
    "            #print(zone,laserI/laserI_INC)\n",
    "            #print(zone,\"{:.3e}\".format(laserI_probe),\"{:.3e}\".format(laserI_probe_INC))\n",
    "            #print(zone,laserI,laserI_new,laserI_probe,laserI_probe_new)\n",
    "            #print(zone,\"{:.3e}\".format(n_0_new),\"{:.3e}\".format(n_1_new),\"{:.3e}\".format(n_2_new),\n",
    "            #      ' : ',\"{:.3e}\".format(n_0),\"{:.3e}\".format(n_1),\"{:.3e}\".format(n_2))\n",
    "            #print(zone,time,Te_new,Ti_new,' : ',Te,Ti)\n",
    "            #print(zone,\"{:.3e}\".format(zp),\"{:.3e}\".format(time))\n",
    "            \n",
    "        time = time + dt \n",
    "        time_n = time_n + 1 # this will be time in field solution. Counter to count over summation of dt.\n",
    "                    \n",
    "    sol = [ne_IN,#0\n",
    "           ne_OUT,#1\n",
    "           n_IN,#2\n",
    "           n_OUT,#3\n",
    "           Te_IN,#4\n",
    "           Te_OUT,#5\n",
    "           vc_IN,#6\n",
    "           vc_OUT,#7\n",
    "           dU_IN,#8\n",
    "           dU_OUT,#9\n",
    "           si_IN,#10\n",
    "           si_OUT,#11\n",
    "           Ti_IN,#12\n",
    "           Ti_OUT,#13 \n",
    "           Z_IN,#14\n",
    "           Z_OUT,#15\n",
    "           Z_QMD_IN,#16\n",
    "           Z_QMD_OUT#17           \n",
    "          ]\n",
    "        \n",
    "    hist.append([time,#0\n",
    "                 laserI_probe/laserI_probe_INC,#1\n",
    "                 laserI/laserI_INC,#2\n",
    "                 var_zone,#3\n",
    "                 var_edge,#4\n",
    "                 sol#5\n",
    "                ])\n",
    "        \n",
    "    t_end_wall = timeCheck.time()\n",
    "    print('Ray propagation completed in time_step : ',time_step)    \n",
    "    print('t_end_wall - t_start_wall = ',int((t_end_wall-t_start_wall)/60),' minutes')\n",
    "    print('time_ps,transimittance for probe and pump = ',\n",
    "          \"{:.3e}\".format(time_current/ps-pulse_IN_Imax_TimePs),\n",
    "          \"{:.3e}\".format(laserI_probe/laserI_probe_INC),\n",
    "          \"{:.3e}\".format(laserI/laserI_INC))\n",
    "    print('---')      \n",
    "    \n",
    "hist = np.array(hist)    "
   ]
  },
  {
   "cell_type": "code",
   "execution_count": null,
   "metadata": {
    "scrolled": false
   },
   "outputs": [],
   "source": [
    "n_cells"
   ]
  },
  {
   "cell_type": "code",
   "execution_count": null,
   "metadata": {},
   "outputs": [],
   "source": [
    "var_zone"
   ]
  },
  {
   "cell_type": "code",
   "execution_count": null,
   "metadata": {},
   "outputs": [],
   "source": [
    "var_zone.shape"
   ]
  },
  {
   "cell_type": "code",
   "execution_count": null,
   "metadata": {},
   "outputs": [],
   "source": [
    "plt.plot(var_zone[:,3])"
   ]
  },
  {
   "cell_type": "code",
   "execution_count": null,
   "metadata": {},
   "outputs": [],
   "source": [
    "print(var_zone[:,3])"
   ]
  },
  {
   "cell_type": "markdown",
   "metadata": {},
   "source": [
    "Before update, plot through all the var_zone plots. Should be constant numbers and 0's.\n",
    "Then we make plot after second cycle."
   ]
  },
  {
   "cell_type": "markdown",
   "metadata": {},
   "source": [
    "# Data"
   ]
  },
  {
   "cell_type": "markdown",
   "metadata": {},
   "source": [
    "## get_save_data"
   ]
  },
  {
   "cell_type": "code",
   "execution_count": null,
   "metadata": {
    "ExecuteTime": {
     "end_time": "2021-08-23T12:57:47.541569Z",
     "start_time": "2021-08-23T12:57:46.324520Z"
    }
   },
   "outputs": [],
   "source": [
    "def get_save_data(exportFlag):\n",
    "    \n",
    "    if exportFlag : \n",
    "        export_name = 'pulse_2_transmittance_pump_WPI2xLower_vr1000xLarger_JHnew_VCPhonon_Zeff_VCneutral_TCnew_CInew'\n",
    "        print(f'{\"Save as\":30}',':',export_name)\n",
    "        path = '/Users/kwoo/Desktop/PostDoc/InitialPlasma/reports/plots/'\n",
    "        print(f'{\"path_local\":30}',':',str(pathlib.Path().absolute()))    \n",
    "        print(f'{\"path_save\":30}',':',path)\n",
    "        np.savetxt(export_name+'.csv', data, delimiter=\",\")\n",
    "            \n",
    "data = []\n",
    "for ele in hist:\n",
    "    ele = np.array(ele)\n",
    "    #print(ele[0],ele[1])\n",
    "    if ele[1]>0 : data.append([ele[0]/ps,#0\n",
    "                               ele[1],#1\n",
    "                               ele[2],#2\n",
    "                               ele[5][0],#3 ne_IN,#0\n",
    "                               ele[5][1],#4 ne_OUT,#1\n",
    "                               ele[5][2],#5 n_IN,#2\n",
    "                               ele[5][3],#6 n_OUT,#3\n",
    "                               ele[5][4],#7 Te_IN,#4\n",
    "                               ele[5][5],#8 Te_OUT,#5\n",
    "                               ele[5][6],#9 vc_IN,#6\n",
    "                               ele[5][7],#10 vc_OUT,#7\n",
    "                               ele[5][8],#11 dU_IN,#8\n",
    "                               ele[5][9],#12 dU_OUT,#9\n",
    "                               ele[5][10],#13 si_IN,#10\n",
    "                               ele[5][11],#14 si_OUT#11\n",
    "                               ele[5][12],#15 Ti_IN,#12\n",
    "                               ele[5][13],#16 Ti_OUT#13\n",
    "                               ele[5][14],#17 Z_IN,#14\n",
    "                               ele[5][15],#18 Z_OUT#15  \n",
    "                               ele[5][16],#19 ZQMD_IN,#16\n",
    "                               ele[5][17]#20 ZQMD_OUT#17\n",
    "                              ])\n",
    "data = np.array(data)\n",
    "plt.plot(data[:,0],data[:,1])\n",
    "plt.grid()              \n",
    "plt.show()              \n",
    "              \n",
    "get_save_data(exportFlag=1)"
   ]
  },
  {
   "cell_type": "markdown",
   "metadata": {
    "heading_collapsed": true
   },
   "source": [
    "## get_open_data_exp"
   ]
  },
  {
   "cell_type": "code",
   "execution_count": null,
   "metadata": {
    "ExecuteTime": {
     "end_time": "2021-08-22T19:48:40.615561Z",
     "start_time": "2021-08-22T19:48:39.650740Z"
    },
    "hidden": true
   },
   "outputs": [],
   "source": [
    "def get_open_data_exp(file_name):\n",
    "    \n",
    "    output = []\n",
    "    file_to_open = open(file_name,'r')\n",
    "    for line in file_to_open :\n",
    "        row = line.split('\\t')\n",
    "        tmp = [ float(ele) for ele in row ]\n",
    "        #print(tmp)\n",
    "        output.append(tmp)\n",
    "    return np.array(output)\n",
    "\n",
    "path = '/Users/kwoo/Desktop/PostDoc/InitialPlasma/Suxing/'\n",
    "file_name_1 = 'pulse_1_transmittance_new.csv' \n",
    "file_name_2 = 'pulse_2_transmittance_new.csv' \n",
    "file_name_3 = 'pulse_3_transmittance_new.csv' \n",
    "dat_1_exp = get_open_data_exp(path+file_name_1) \n",
    "dat_2_exp = get_open_data_exp(path+file_name_2) \n",
    "dat_3_exp = get_open_data_exp(path+file_name_3) \n",
    "\n",
    "plt.plot(dat_1_exp[:,0],dat_1_exp[:,1])\n",
    "plt.plot(dat_2_exp[:,0],dat_2_exp[:,1])\n",
    "plt.plot(dat_3_exp[:,0],dat_3_exp[:,1])"
   ]
  },
  {
   "cell_type": "markdown",
   "metadata": {},
   "source": [
    "## get_open_data_sim"
   ]
  },
  {
   "cell_type": "code",
   "execution_count": null,
   "metadata": {
    "ExecuteTime": {
     "end_time": "2021-08-23T13:01:14.017595Z",
     "start_time": "2021-08-23T13:01:13.647235Z"
    },
    "scrolled": true
   },
   "outputs": [],
   "source": [
    "def get_open_data_sim(file_name):\n",
    "    \n",
    "    output = []\n",
    "    file_to_open = open(file_name,'r')\n",
    "    for line in file_to_open :\n",
    "        row = line.split(',')\n",
    "        tmp = [ float(ele) for ele in row ]\n",
    "        #print(tmp)\n",
    "        output.append(tmp)\n",
    "    return np.array(output)\n",
    "\n",
    "path = '/Users/kwoo/Desktop/PostDoc/InitialPlasma/python/'\n",
    "file_name = 'pulse_1_transmittance_pump_vcSolidPhase10xLarger_WPI2xLower_vr1000xLower_JHnew.csv'  \n",
    "dat_1 = get_open_data_sim(path+file_name)\n",
    "\n",
    "path = '/Users/kwoo/Desktop/PostDoc/InitialPlasma/python/'\n",
    "file_name = 'pulse_2_transmittance_pump_vcSolidPhase10xLarger_WPI2xLower_vr1000xLower_JHnew.csv'  \n",
    "dat_2 = get_open_data_sim(path+file_name)\n",
    "\n",
    "path = '/Users/kwoo/Desktop/PostDoc/InitialPlasma/python/'\n",
    "file_name = 'pulse_3_transmittance_pump_vcSolidPhase10xLarger_WPI2xLower_vr1000xLower_JHnew.csv'  \n",
    "dat_3 = get_open_data_sim(path+file_name)\n",
    "\n",
    "path = '/Users/kwoo/Desktop/PostDoc/InitialPlasma/python/'\n",
    "file_name = 'pulse_1_transmittance_pump__WPI2xLower_vr1000xLower_JHnew_oldVCwithCorrectNEunit.csv' \n",
    "dat_4 = get_open_data_sim(path+file_name)\n",
    "\n",
    "path = '/Users/kwoo/Desktop/PostDoc/InitialPlasma/python/'\n",
    "file_name = 'pulse_1_transmittance_pump__WPI2xLower_vr1000xLower_JHnew_VCnew.csv'\n",
    "dat_5 = get_open_data_sim(path+file_name)\n",
    "\n",
    "path = '/Users/kwoo/Desktop/PostDoc/InitialPlasma/python/'\n",
    "file_name = 'pulse_1_transmittance_pump_WPIunchanged_vr1000xLower_JHnew_VCnew.csv'\n",
    "dat_6 = get_open_data_sim(path+file_name)\n",
    "\n",
    "path = '/Users/kwoo/Desktop/PostDoc/InitialPlasma/python/'\n",
    "file_name = 'pulse_1_transmittance_pump_WPIunchanged_vr1000xLower_JHnew_VCnew_vmfp.csv'\n",
    "dat_7 = get_open_data_sim(path+file_name)\n",
    "\n",
    "path = '/Users/kwoo/Desktop/PostDoc/InitialPlasma/python/'\n",
    "file_name = 'pulse_1_transmittance_pump_WPIunchanged_vr2000xLower_JHnew_VCnew_vmfp.csv'\n",
    "dat_8 = get_open_data_sim(path+file_name)\n",
    "\n",
    "path = '/Users/kwoo/Desktop/PostDoc/InitialPlasma/python/'\n",
    "file_name = 'pulse_1_transmittance_pump_WPI2xLower_vr10000xLower_JHnew_VCnew.csv'\n",
    "dat_9 = get_open_data_sim(path+file_name)\n",
    "\n",
    "path = '/Users/kwoo/Desktop/PostDoc/InitialPlasma/python/'\n",
    "file_name = 'pulse_1_transmittance_pump_WPI2xLower_vr1000xLarger_JHnew_VCnew_VCionE6Larger.csv'\n",
    "dat_10 = get_open_data_sim(path+file_name)\n",
    "\n",
    "path = '/Users/kwoo/Desktop/PostDoc/InitialPlasma/python/'\n",
    "file_name = 'pulse_1_transmittance_pump_WPI2xLower_vr1000xLarger_JHnew_VCnewPhonon_VCionE6Larger.csv'\n",
    "dat_11 = get_open_data_sim(path+file_name)\n",
    "\n",
    "path = '/Users/kwoo/Desktop/PostDoc/InitialPlasma/python/'\n",
    "file_name = 'pulse_1_transmittance_pump_WPI2xLower_vr1000xLarger_JHnew_VCnewPhonon_VCionE1Larger.csv'\n",
    "dat_12 = get_open_data_sim(path+file_name)\n",
    "\n",
    "path = '/Users/kwoo/Desktop/PostDoc/InitialPlasma/python/'\n",
    "file_name = 'pulse_1_transmittance_pump_WPI2xLower_vr1000xLarger_JHnew_VCnewPhonon_VCionZeff.csv'\n",
    "dat_13 = get_open_data_sim(path+file_name)\n",
    "\n",
    "path = '/Users/kwoo/Desktop/PostDoc/InitialPlasma/python/'\n",
    "file_name = 'pulse_1_transmittance_pump_WPI2xLower_vr10000xLarger_JHnew_VCnewPhonon_VCionZeff.csv'\n",
    "dat_14 = get_open_data_sim(path+file_name)\n",
    "\n",
    "path = '/Users/kwoo/Desktop/PostDoc/InitialPlasma/python/'\n",
    "file_name = 'pulse_1_transmittance_pump_WPI2xLower_vr10000xLarger_JHnew_VCnewPhonon_VCionZeff_VCneutral.csv'\n",
    "dat_15 = get_open_data_sim(path+file_name)\n",
    "\n",
    "path = '/Users/kwoo/Desktop/PostDoc/InitialPlasma/python/'\n",
    "file_name = 'pulse_1_transmittance_pump_WPI2xLower_vr1000xLarger_JHnew_VPhonon_VCionZeff_VCneutral_VrVinew.csv'\n",
    "dat_16 = get_open_data_sim(path+file_name)\n",
    "\n",
    "path = '/Users/kwoo/Desktop/PostDoc/InitialPlasma/python/'\n",
    "file_name = 'pulse_1_transmittance_pump_WPI2xLower_vr1000xLarger_JHnew_VCPhonon_VCionZeff_VCneutral_Gnew_TCnew.csv'\n",
    "dat_17 = get_open_data_sim(path+file_name)\n",
    "\n",
    "path = '/Users/kwoo/Desktop/PostDoc/InitialPlasma/python/'\n",
    "file_name = 'pulse_1_transmittance_pump_WPI2xLower_vr1000xLarger_JHnew_VCPhonon_VCionZeff_VCneutral_TCnew.csv'\n",
    "dat_18 = get_open_data_sim(path+file_name)\n",
    "\n",
    "path = '/Users/kwoo/Desktop/PostDoc/InitialPlasma/python/'\n",
    "file_name = 'pulse_1_transmittance_pump_WPI2xLower_vr1000xLarger_JHnew_VCPhonon_VCionZeff_VCneutral_TCnew_GmilMix.csv'\n",
    "dat_19 = get_open_data_sim(path+file_name)\n",
    "\n",
    "path = '/Users/kwoo/Desktop/PostDoc/InitialPlasma/python/'\n",
    "file_name = 'pulse_1_transmittance_pump_WPI2xLower_vr1000xLarger_JHnew_VCPhonon_VCZeff_VCneutral_TCnew_CInew.csv'\n",
    "dat_20 = get_open_data_sim(path+file_name)\n",
    "\n",
    "path = '/Users/kwoo/Desktop/PostDoc/InitialPlasma/python/'\n",
    "file_name = 'pulse_1_transmittance_pump_WPI2xLower_vr1000xLarger_JHnew_VCPhonon_QMDZeff_VCneutral_TCnew_CInew.csv'\n",
    "dat_21 = get_open_data_sim(path+file_name)\n",
    "\n",
    "path = '/Users/kwoo/Desktop/PostDoc/InitialPlasma/python/'\n",
    "file_name = 'pulse_2_transmittance_pump_WPI2xLower_vr1000xLarger_JHnew_VCPhonon_QMDZeff_VCneutral_TCnew_CInew.csv'\n",
    "dat_22 = get_open_data_sim(path+file_name)\n",
    "\n",
    "path = '/Users/kwoo/Desktop/PostDoc/InitialPlasma/python/'\n",
    "file_name = 'pulse_2_transmittance_pump_WPI2xLower_vr1000xLarger_JHnew_VCPhonon_Zeff_VCneutral_TCnew_CInew.csv'\n",
    "dat_23 = get_open_data_sim(path+file_name)\n",
    "\n",
    "#plt.plot(dat_1_exp[:,0],dat_1_exp[:,1])\n",
    "plt.plot(dat_2_exp[:,0],dat_2_exp[:,1])\n",
    "#plt.plot(dat_3_exp[:,0],dat_3_exp[:,1])\n",
    "#plt.plot(dat_1[:,0]-pulse_1_Imax_TimePs,dat_1[:,1])\n",
    "#plt.plot(dat_4[:,0]-pulse_1_Imax_TimePs,dat_4[:,1])\n",
    "#plt.plot(dat_5[:,0]-pulse_1_Imax_TimePs,dat_5[:,1])\n",
    "#plt.plot(dat_6[:,0]-pulse_1_Imax_TimePs,dat_6[:,1])\n",
    "#plt.plot(dat_7[:,0]-pulse_1_Imax_TimePs,dat_7[:,1])\n",
    "#plt.plot(dat_8[:,0]-pulse_1_Imax_TimePs,dat_8[:,1],ls='dashed')\n",
    "#plt.plot(dat_9[:,0]-pulse_1_Imax_TimePs,dat_9[:,1],ls='dashed')\n",
    "#plt.plot(dat_10[:,0]-pulse_1_Imax_TimePs,dat_10[:,1])\n",
    "#plt.plot(dat_11[:,0]-pulse_1_Imax_TimePs,dat_11[:,1])\n",
    "#plt.plot(dat_12[:,0]-pulse_1_Imax_TimePs,dat_12[:,1])\n",
    "#plt.plot(dat_13[:,0]-pulse_1_Imax_TimePs,dat_13[:,1])\n",
    "#plt.plot(dat_14[:,0]-pulse_1_Imax_TimePs,dat_14[:,1],ls='dashed')\n",
    "#plt.plot(dat_15[:,0]-pulse_1_Imax_TimePs,dat_15[:,1],c='k')\n",
    "#plt.plot(dat_16[:,0]-pulse_1_Imax_TimePs,dat_16[:,1],c='r')\n",
    "#plt.plot(dat_17[:,0]-pulse_1_Imax_TimePs,dat_17[:,1],c='r')\n",
    "#plt.plot(dat_18[:,0]-pulse_1_Imax_TimePs,dat_18[:,1],c='r')\n",
    "#plt.plot(dat_19[:,0]-pulse_1_Imax_TimePs,dat_19[:,1],c='g')\n",
    "#plt.plot(dat_20[:,0]-pulse_1_Imax_TimePs,dat_20[:,1],c='b')\n",
    "plt.plot(dat_21[:,0]-pulse_1_Imax_TimePs,dat_21[:,1],c='g')\n",
    "plt.plot(dat_22[:,0]-pulse_2_Imax_TimePs,dat_22[:,1],c='r')\n",
    "plt.plot(dat_23[:,0]-pulse_2_Imax_TimePs,dat_23[:,1],c='b')\n",
    "plt.grid()"
   ]
  },
  {
   "cell_type": "markdown",
   "metadata": {},
   "source": [
    "## get_report_transmittance"
   ]
  },
  {
   "cell_type": "code",
   "execution_count": null,
   "metadata": {
    "ExecuteTime": {
     "end_time": "2021-08-22T16:28:55.574774Z",
     "start_time": "2021-08-22T16:28:52.924215Z"
    }
   },
   "outputs": [],
   "source": [
    "def get_report(exportFlag):\n",
    "    \n",
    "    plt.close('all')\n",
    "    fig = plt.figure(figsize=[6.,4])\n",
    "    fs,fs2,fs3,fs4=20,15,18,10\n",
    "\n",
    "    label1 = r'\\textbf{Exp. data}'\n",
    "    label2 = r'\\textbf{Pump 2 : $Z$}'\n",
    "    label3 = r'\\textbf{Pump 2 : $Z_\\mathrm{QMD}$}'    \n",
    "\n",
    "    nrow,ncol=1,1\n",
    "    ax1 = plt.subplot2grid((nrow, ncol), (0,0), colspan=1, rowspan=1) \n",
    "    \n",
    "    #ax1.plot(dat_1_exp[:,0],dat_1_exp[:,1],label=label1,c='k',lw=2)\n",
    "    ax1.plot(dat_2_exp[:,0],dat_2_exp[:,1],label=label1,c='k',lw=2)    \n",
    "    #ax1.plot(dat_20[:,0]-pulse_1_Imax_TimePs,dat_20[:,1],label=label2,c='b',lw=2)\n",
    "    ax1.plot(data[:,0]-pulse_2_Imax_TimePs,data[:,1],label=label3,c='r',lw=2)    \n",
    "\n",
    "    ax1.tick_params(which='major',length=10,labelsize=fs2)\n",
    "    ax1.set_xlabel(r'\\textbf{Time (ps)}',fontsize=fs)\n",
    "    ax1.set_ylabel(r'\\textbf{Transmittane}',fontsize=fs)\n",
    "    ax1.set_title(r'\\textbf{$\\nu_{\\mathrm{r}}=10^9~\\mathrm{s^{-1}}, ~W_{\\mathrm{PI}}/2, ~\\nu_{\\mathrm{c}}^{\\mathrm{ep}}$}',fontsize=fs)\n",
    "    ax1.legend(fontsize=fs2,loc='lower left',numpoints=1)\n",
    "    #ax1.set_xlim([-np.pi,np.pi])\n",
    "    ax1.grid()\n",
    "    \n",
    "    #plt.sca(ax1)\n",
    "    #plt.xticks([-np.pi,-np.pi/2,0,np.pi/2,np.pi],\n",
    "    #           [r'$-180^\\circ$',r'$-90^\\circ$',r'$0^\\circ$',r'$90^\\circ$',r'$180^\\circ$'])   \n",
    "\n",
    "    plt.tight_layout()\n",
    "    if exportFlag : \n",
    "        export_name = 'transmittance_pump2_include_phonons_neutrals_Tc_Ci_Zqmd'\n",
    "        print(f'{\"Save as\":30}',':',export_name)\n",
    "        path = '/Users/kwoo/Desktop/PostDoc/InitialPlasma/reports/plots/'\n",
    "        print(f'{\"path_local\":30}',':',str(pathlib.Path().absolute()))    \n",
    "        print(f'{\"path_save\":30}',':',path)\n",
    "        plt.savefig(path+export_name+'.eps',format='eps')\n",
    "        plt.savefig(path+export_name,dpi=500) \n",
    "    plt.show() \n",
    "              \n",
    "get_report(exportFlag=1)"
   ]
  },
  {
   "cell_type": "markdown",
   "metadata": {},
   "source": [
    "## get_report_absorptionCoef"
   ]
  },
  {
   "cell_type": "code",
   "execution_count": null,
   "metadata": {
    "ExecuteTime": {
     "end_time": "2021-08-22T20:20:28.180009Z",
     "start_time": "2021-08-22T20:20:08.821387Z"
    }
   },
   "outputs": [],
   "source": [
    "def get_report(exportFlag):\n",
    "    \n",
    "    plt.close('all')\n",
    "    fig = plt.figure(figsize=[6.,4])\n",
    "    fs,fs2,fs3,fs4=20,15,18,10\n",
    "\n",
    "    label1 = r'\\textbf{Pump 2: $\\kappa_{\\mathrm{IN}}$}'\n",
    "    label2 = r'\\textbf{Pump 2: $\\kappa_{\\mathrm{OUT}}$}'\n",
    "\n",
    "    nrow,ncol=1,1\n",
    "    ax1 = plt.subplot2grid((nrow, ncol), (0,0), colspan=1, rowspan=1) \n",
    "    \n",
    "    ax1.plot(data[:,0]-pulse_1_Imax_TimePs,data[:,13]/10**6,label=label1,c='k',lw=2)  \n",
    "    ax1.plot(data[:,0]-pulse_1_Imax_TimePs,data[:,14]/10**6,label=label2,c='r',lw=2)    \n",
    "\n",
    "    ax1.tick_params(which='major',length=10,labelsize=fs2)\n",
    "    ax1.set_xlabel(r'\\textbf{Time (ps)}',fontsize=fs)\n",
    "    ax1.set_ylabel(r'\\textbf{Absorb coef. $\\kappa ~\\mathrm{(1/\\mu m)}$}',fontsize=fs)\n",
    "    ax1.set_title(r'\\textbf{$\\nu_{\\mathrm{r}}=10^9~\\mathrm{s^{-1}}, ~W_{\\mathrm{PI}}/2, ~\\nu_{\\mathrm{c}}^{\\mathrm{ep}}$}',fontsize=fs)\n",
    "    ax1.legend(fontsize=fs2,loc='upper left',numpoints=1)\n",
    "    #ax1.set_xlim([-np.pi,np.pi])\n",
    "    ax1.grid()\n",
    "    \n",
    "    #plt.sca(ax1)\n",
    "    #plt.xticks([-np.pi,-np.pi/2,0,np.pi/2,np.pi],\n",
    "    #           [r'$-180^\\circ$',r'$-90^\\circ$',r'$0^\\circ$',r'$90^\\circ$',r'$180^\\circ$'])   \n",
    "\n",
    "    plt.tight_layout()\n",
    "    if exportFlag : \n",
    "        export_name = 'transmittance_pump2_include_phonons_neutrals_absorptionCoef_Tc_Ci_Zqmd'\n",
    "        print(f'{\"Save as\":30}',':',export_name)\n",
    "        path = '/Users/kwoo/Desktop/PostDoc/InitialPlasma/reports/plots/'\n",
    "        print(f'{\"path_local\":30}',':',str(pathlib.Path().absolute()))    \n",
    "        print(f'{\"path_save\":30}',':',path)\n",
    "        plt.savefig(path+export_name+'.eps',format='eps')\n",
    "        plt.savefig(path+export_name,dpi=500) \n",
    "    plt.show() \n",
    "              \n",
    "get_report(exportFlag=1)"
   ]
  },
  {
   "cell_type": "markdown",
   "metadata": {},
   "source": [
    "## get_report_te"
   ]
  },
  {
   "cell_type": "code",
   "execution_count": null,
   "metadata": {
    "ExecuteTime": {
     "end_time": "2021-08-22T20:41:25.292699Z",
     "start_time": "2021-08-22T20:41:04.673609Z"
    }
   },
   "outputs": [],
   "source": [
    "def get_report(exportFlag):\n",
    "    \n",
    "    plt.close('all')\n",
    "    fig = plt.figure(figsize=[6.,4])\n",
    "    fs,fs2,fs3,fs4=20,15,18,10\n",
    "\n",
    "    label1 = r'\\textbf{Pump 2: $T_{\\mathrm{e,IN}}$}'\n",
    "    label2 = r'\\textbf{Pump 2: $T_{\\mathrm{e,OUT}}$}'\n",
    "\n",
    "    nrow,ncol=1,1\n",
    "    ax1 = plt.subplot2grid((nrow, ncol), (0,0), colspan=1, rowspan=1) \n",
    "    \n",
    "    ax1.plot(data[:,0]-pulse_1_Imax_TimePs,data[:,7]/eV,label=label1,c='k',lw=2)    \n",
    "    ax1.plot(data[:,0]-pulse_1_Imax_TimePs,data[:,8]/eV,label=label2,c='r',lw=2) \n",
    "\n",
    "    ax1.tick_params(which='major',length=10,labelsize=fs2)\n",
    "    ax1.set_xlabel(r'\\textbf{Time (ps)}',fontsize=fs)\n",
    "    ax1.set_ylabel(r'\\textbf{$T_{\\mathrm{e}} ~\\mathrm{(eV)}$}',fontsize=fs)\n",
    "    ax1.set_title(r'\\textbf{$\\nu_{\\mathrm{r}}=10^9~\\mathrm{s^{-1}}, ~W_{\\mathrm{PI}}/2, ~\\nu_{\\mathrm{c}}^{\\mathrm{ep}}$}',fontsize=fs)\n",
    "    ax1.legend(fontsize=fs2,loc='upper left',numpoints=1)\n",
    "    #ax1.set_xlim([-np.pi,np.pi])\n",
    "    ax1.grid()\n",
    "    \n",
    "    #plt.sca(ax1)\n",
    "    #plt.xticks([-np.pi,-np.pi/2,0,np.pi/2,np.pi],\n",
    "    #           [r'$-180^\\circ$',r'$-90^\\circ$',r'$0^\\circ$',r'$90^\\circ$',r'$180^\\circ$'])   \n",
    "\n",
    "    plt.tight_layout()\n",
    "    if exportFlag : \n",
    "        export_name = 'transmittance_pump2_include_phonons_neutrals_Te_Tc_Ci_Zqmd'\n",
    "        print(f'{\"Save as\":30}',':',export_name)\n",
    "        path = '/Users/kwoo/Desktop/PostDoc/InitialPlasma/reports/plots/'\n",
    "        print(f'{\"path_local\":30}',':',str(pathlib.Path().absolute()))    \n",
    "        print(f'{\"path_save\":30}',':',path)\n",
    "        plt.savefig(path+export_name+'.eps',format='eps')\n",
    "        plt.savefig(path+export_name,dpi=500) \n",
    "    plt.show() \n",
    "              \n",
    "get_report(exportFlag=1)"
   ]
  },
  {
   "cell_type": "markdown",
   "metadata": {},
   "source": [
    "## get_report_ti"
   ]
  },
  {
   "cell_type": "code",
   "execution_count": null,
   "metadata": {
    "ExecuteTime": {
     "end_time": "2021-08-22T20:41:57.411963Z",
     "start_time": "2021-08-22T20:41:41.928112Z"
    }
   },
   "outputs": [],
   "source": [
    "def get_report(exportFlag):\n",
    "    \n",
    "    plt.close('all')\n",
    "    fig = plt.figure(figsize=[6.,4])\n",
    "    fs,fs2,fs3,fs4=20,15,18,10\n",
    "\n",
    "    label1 = r'\\textbf{Pump 2: $T_{\\mathrm{i,IN}}$}'\n",
    "    label2 = r'\\textbf{Pump 2: $T_{\\mathrm{i,OUT}}$}'\n",
    "\n",
    "    nrow,ncol=1,1\n",
    "    ax1 = plt.subplot2grid((nrow, ncol), (0,0), colspan=1, rowspan=1) \n",
    "    \n",
    "    ax1.plot(data[:,0]-pulse_1_Imax_TimePs,data[:,15]/eV,label=label1,c='k',lw=2)    \n",
    "    ax1.plot(data[:,0]-pulse_1_Imax_TimePs,data[:,16]/eV,label=label2,c='r',lw=2) \n",
    "\n",
    "    ax1.tick_params(which='major',length=10,labelsize=fs2)\n",
    "    ax1.set_xlabel(r'\\textbf{Time (ps)}',fontsize=fs)\n",
    "    ax1.set_ylabel(r'\\textbf{$T_{\\mathrm{i}} ~\\mathrm{(eV)}$}',fontsize=fs)\n",
    "    ax1.set_title(r'\\textbf{$\\nu_{\\mathrm{r}}=10^9~\\mathrm{s^{-1}}, ~W_{\\mathrm{PI}}/2, ~\\nu_{\\mathrm{c}}^{\\mathrm{ep}}$}',fontsize=fs)\n",
    "    ax1.legend(fontsize=fs2,loc='upper left',numpoints=1)\n",
    "    #ax1.set_xlim([-np.pi,np.pi])\n",
    "    ax1.grid()\n",
    "    \n",
    "    #plt.sca(ax1)\n",
    "    #plt.xticks([-np.pi,-np.pi/2,0,np.pi/2,np.pi],\n",
    "    #           [r'$-180^\\circ$',r'$-90^\\circ$',r'$0^\\circ$',r'$90^\\circ$',r'$180^\\circ$'])   \n",
    "\n",
    "    plt.tight_layout()\n",
    "    if exportFlag : \n",
    "        export_name = 'transmittance_pump2_include_phonons_neutrals_Ti_Tc_Ci_Zqmd'\n",
    "        print(f'{\"Save as\":30}',':',export_name)\n",
    "        path = '/Users/kwoo/Desktop/PostDoc/InitialPlasma/reports/plots/'\n",
    "        print(f'{\"path_local\":30}',':',str(pathlib.Path().absolute()))    \n",
    "        print(f'{\"path_save\":30}',':',path)\n",
    "        plt.savefig(path+export_name+'.eps',format='eps')\n",
    "        plt.savefig(path+export_name,dpi=500) \n",
    "    plt.show() \n",
    "              \n",
    "get_report(exportFlag=1)"
   ]
  },
  {
   "cell_type": "markdown",
   "metadata": {},
   "source": [
    "## get_report_vc"
   ]
  },
  {
   "cell_type": "code",
   "execution_count": null,
   "metadata": {
    "ExecuteTime": {
     "end_time": "2021-08-22T20:43:52.213022Z",
     "start_time": "2021-08-22T20:43:35.568227Z"
    }
   },
   "outputs": [],
   "source": [
    "def get_report(exportFlag):\n",
    "    \n",
    "    plt.close('all')\n",
    "    fig = plt.figure(figsize=[6.,4])\n",
    "    fs,fs2,fs3,fs4=20,15,18,10\n",
    "\n",
    "    label1 = r'\\textbf{Pump 2: $\\nu_{\\mathrm{c,IN}}$}'\n",
    "    label2 = r'\\textbf{Pump 2: $\\nu_{\\mathrm{c,OUT}}$}'\n",
    "\n",
    "    nrow,ncol=1,1\n",
    "    ax1 = plt.subplot2grid((nrow, ncol), (0,0), colspan=1, rowspan=1) \n",
    "    \n",
    "    ax1.plot(data[:,0]-pulse_1_Imax_TimePs,data[:,9],label=label1,c='k',lw=2)    \n",
    "    ax1.plot(data[:,0]-pulse_1_Imax_TimePs,data[:,10],label=label2,c='r',lw=2) \n",
    "\n",
    "    ax1.tick_params(which='major',length=10,labelsize=fs2)\n",
    "    ax1.set_xlabel(r'\\textbf{Time (ps)}',fontsize=fs)\n",
    "    ax1.set_ylabel(r'\\textbf{$\\nu_{\\mathrm{c}} ~\\mathrm{(s^{-1})}$}',fontsize=fs)\n",
    "    ax1.set_title(r'\\textbf{$\\nu_{\\mathrm{r}}=10^9~\\mathrm{s^{-1}}, ~W_{\\mathrm{PI}}/2, ~\\nu_{\\mathrm{c}}^{\\mathrm{ep}}$}',fontsize=fs)\n",
    "    ax1.legend(fontsize=fs2,loc='center',bbox_to_anchor=[0.5,0.8],numpoints=1)\n",
    "    #ax1.set_xlim([-np.pi,np.pi])\n",
    "    ax1.grid()\n",
    "    \n",
    "    #plt.sca(ax1)\n",
    "    #plt.xticks([-np.pi,-np.pi/2,0,np.pi/2,np.pi],\n",
    "    #           [r'$-180^\\circ$',r'$-90^\\circ$',r'$0^\\circ$',r'$90^\\circ$',r'$180^\\circ$'])   \n",
    "\n",
    "    plt.tight_layout()\n",
    "    if exportFlag : \n",
    "        export_name = 'transmittance_pump2_include_phonons_neutrals_Vc_Tc_Ci_Zqmd'\n",
    "        print(f'{\"Save as\":30}',':',export_name)\n",
    "        path = '/Users/kwoo/Desktop/PostDoc/InitialPlasma/reports/plots/'\n",
    "        print(f'{\"path_local\":30}',':',str(pathlib.Path().absolute()))    \n",
    "        print(f'{\"path_save\":30}',':',path)\n",
    "        plt.savefig(path+export_name+'.eps',format='eps')\n",
    "        plt.savefig(path+export_name,dpi=500) \n",
    "    plt.show() \n",
    "              \n",
    "get_report(exportFlag=1)"
   ]
  },
  {
   "cell_type": "markdown",
   "metadata": {},
   "source": [
    "## get_report_ne"
   ]
  },
  {
   "cell_type": "code",
   "execution_count": null,
   "metadata": {
    "ExecuteTime": {
     "end_time": "2021-08-22T20:44:20.831333Z",
     "start_time": "2021-08-22T20:44:04.996981Z"
    }
   },
   "outputs": [],
   "source": [
    "def get_report(exportFlag):\n",
    "    \n",
    "    plt.close('all')\n",
    "    fig = plt.figure(figsize=[6.,4])\n",
    "    fs,fs2,fs3,fs4=20,15,18,10\n",
    "\n",
    "    label1 = r'\\textbf{Pump 2: $n_{\\mathrm{e,IN}}$}'\n",
    "    label2 = r'\\textbf{Pump 2: $n_{\\mathrm{e,OUT}}$}'\n",
    "\n",
    "    nrow,ncol=1,1\n",
    "    ax1 = plt.subplot2grid((nrow, ncol), (0,0), colspan=1, rowspan=1) \n",
    "    \n",
    "    ax1.plot(data[:,0]-pulse_1_Imax_TimePs,data[:,3]/100**3,label=label1,c='k',lw=2)    \n",
    "    ax1.plot(data[:,0]-pulse_1_Imax_TimePs,data[:,4]/100**3,label=label2,c='r',lw=2) \n",
    "\n",
    "    ax1.tick_params(which='major',length=10,labelsize=fs2)\n",
    "    ax1.set_xlabel(r'\\textbf{Time (ps)}',fontsize=fs)\n",
    "    ax1.set_ylabel(r'\\textbf{$n_{\\mathrm{e}} ~\\mathrm{(1/cm^{-3})}$}',fontsize=fs)\n",
    "    ax1.set_title(r'\\textbf{$\\nu_{\\mathrm{r}}=10^9~\\mathrm{s^{-1}}, ~W_{\\mathrm{PI}}/2, ~\\nu_{\\mathrm{c}}^{\\mathrm{ep}}$}',fontsize=fs)\n",
    "    ax1.legend(fontsize=fs2,loc='upper left',numpoints=1)\n",
    "    #ax1.set_xlim([-np.pi,np.pi])\n",
    "    ax1.grid()\n",
    "    \n",
    "    #plt.sca(ax1)\n",
    "    #plt.xticks([-np.pi,-np.pi/2,0,np.pi/2,np.pi],\n",
    "    #           [r'$-180^\\circ$',r'$-90^\\circ$',r'$0^\\circ$',r'$90^\\circ$',r'$180^\\circ$'])   \n",
    "\n",
    "    plt.tight_layout()\n",
    "    if exportFlag : \n",
    "        export_name = 'transmittance_pump2_include_phonons_neutrals_Ne_Tc_Ci_Zqmd'\n",
    "        print(f'{\"Save as\":30}',':',export_name)\n",
    "        path = '/Users/kwoo/Desktop/PostDoc/InitialPlasma/reports/plots/'\n",
    "        print(f'{\"path_local\":30}',':',str(pathlib.Path().absolute()))    \n",
    "        print(f'{\"path_save\":30}',':',path)\n",
    "        plt.savefig(path+export_name+'.eps',format='eps')\n",
    "        plt.savefig(path+export_name,dpi=500) \n",
    "    plt.show() \n",
    "              \n",
    "get_report(exportFlag=1)"
   ]
  },
  {
   "cell_type": "markdown",
   "metadata": {},
   "source": [
    "## get_report_JH"
   ]
  },
  {
   "cell_type": "code",
   "execution_count": null,
   "metadata": {
    "ExecuteTime": {
     "end_time": "2021-08-22T20:44:47.894806Z",
     "start_time": "2021-08-22T20:44:33.627014Z"
    }
   },
   "outputs": [],
   "source": [
    "def get_report(exportFlag):\n",
    "    \n",
    "    plt.close('all')\n",
    "    fig = plt.figure(figsize=[6.,4])\n",
    "    fs,fs2,fs3,fs4=20,15,18,10\n",
    "\n",
    "    label1 = r'\\textbf{Pump 2: $\\dot{U}_{\\mathrm{JH,IN}}$}'\n",
    "    label2 = r'\\textbf{Pump 2: $\\dot{U}_{\\mathrm{JH,OUT}}$}'\n",
    "\n",
    "    nrow,ncol=1,1\n",
    "    ax1 = plt.subplot2grid((nrow, ncol), (0,0), colspan=1, rowspan=1) \n",
    "    \n",
    "    ax1.plot(data[:,0]-pulse_1_Imax_TimePs,data[:,11],label=label1,c='k',lw=2)    \n",
    "    ax1.plot(data[:,0]-pulse_1_Imax_TimePs,data[:,12],label=label2,c='r',lw=2) \n",
    "\n",
    "    ax1.tick_params(which='major',length=10,labelsize=fs2)\n",
    "    ax1.set_xlabel(r'\\textbf{Time (ps)}',fontsize=fs)\n",
    "    ax1.set_ylabel(r'\\textbf{$\\dot{U}_{\\mathrm{JH}} ~\\mathrm{(J/m^3/s)}$}',fontsize=fs)\n",
    "    ax1.set_title(r'\\textbf{$\\nu_{\\mathrm{r}}=10^9~\\mathrm{s^{-1}}, ~W_{\\mathrm{PI}}/2, ~\\nu_{\\mathrm{c}}^{\\mathrm{ep}}$}',fontsize=fs)\n",
    "    ax1.legend(fontsize=fs2,loc='upper left',numpoints=1)\n",
    "    #ax1.set_xlim([-np.pi,np.pi])\n",
    "    ax1.grid()\n",
    "    \n",
    "    #plt.sca(ax1)\n",
    "    #plt.xticks([-np.pi,-np.pi/2,0,np.pi/2,np.pi],\n",
    "    #           [r'$-180^\\circ$',r'$-90^\\circ$',r'$0^\\circ$',r'$90^\\circ$',r'$180^\\circ$'])   \n",
    "\n",
    "    plt.tight_layout()\n",
    "    if exportFlag : \n",
    "        export_name = 'transmittance_pump2_include_phonons_neutrals_dUdt_Tc_Ci_Zqmd'\n",
    "        print(f'{\"Save as\":30}',':',export_name)\n",
    "        path = '/Users/kwoo/Desktop/PostDoc/InitialPlasma/reports/plots/'\n",
    "        print(f'{\"path_local\":30}',':',str(pathlib.Path().absolute()))    \n",
    "        print(f'{\"path_save\":30}',':',path)\n",
    "        plt.savefig(path+export_name+'.eps',format='eps')\n",
    "        plt.savefig(path+export_name,dpi=500) \n",
    "    plt.show() \n",
    "              \n",
    "get_report(exportFlag=1)"
   ]
  },
  {
   "cell_type": "markdown",
   "metadata": {},
   "source": [
    "## get_report_Z"
   ]
  },
  {
   "cell_type": "code",
   "execution_count": null,
   "metadata": {
    "ExecuteTime": {
     "end_time": "2021-08-22T16:32:17.759933Z",
     "start_time": "2021-08-22T16:31:51.487439Z"
    }
   },
   "outputs": [],
   "source": [
    "def get_report(exportFlag):\n",
    "    \n",
    "    plt.close('all')\n",
    "    fig = plt.figure(figsize=[6.,4])\n",
    "    fs,fs2,fs3,fs4=20,15,18,10\n",
    "\n",
    "    label1 = r'\\textbf{Pump 2: $Z_{\\mathrm{IN}}$}'\n",
    "    label2 = r'\\textbf{Pump 2: $Z_{\\mathrm{OUT}}$}'\n",
    "    label3 = r'\\textbf{Pump 2: $Z_{\\mathrm{IN}}^{\\mathrm{QMD}}$}'\n",
    "    label4 = r'\\textbf{Pump 2: $Z_{\\mathrm{OUT}}^{\\mathrm{QMD}}$}'    \n",
    "\n",
    "    nrow,ncol=1,1\n",
    "    ax1 = plt.subplot2grid((nrow, ncol), (0,0), colspan=1, rowspan=1) \n",
    "    \n",
    "    ax1.plot(data[:,0]-pulse_1_Imax_TimePs,data[:,17],label=label1,c='k',lw=2)    \n",
    "    ax1.plot(data[:,0]-pulse_1_Imax_TimePs,data[:,18],label=label2,c='r',lw=2)\n",
    "    \n",
    "    ax1.plot(data[:,0]-pulse_1_Imax_TimePs,data[:,19],label=label3,c='k',lw=2,ls='dashed')    \n",
    "    ax1.plot(data[:,0]-pulse_1_Imax_TimePs,data[:,20],label=label4,c='r',lw=2,ls='dashed')    \n",
    "\n",
    "    ax1.tick_params(which='major',length=10,labelsize=fs2)\n",
    "    ax1.set_xlabel(r'\\textbf{Time (ps)}',fontsize=fs)\n",
    "    ax1.set_ylabel(r'\\textbf{$Z$}',fontsize=fs)\n",
    "    ax1.set_title(r'\\textbf{$\\nu_{\\mathrm{r}}=10^9~\\mathrm{s^{-1}}, ~W_{\\mathrm{PI}}/2, ~\\nu_{\\mathrm{c}}^{\\mathrm{ep}}$}',fontsize=fs)\n",
    "    ax1.legend(fontsize=fs2,loc='upper left',numpoints=1)\n",
    "    #ax1.set_xlim([-np.pi,np.pi])\n",
    "    ax1.grid()\n",
    "    \n",
    "    #plt.sca(ax1)\n",
    "    #plt.xticks([-np.pi,-np.pi/2,0,np.pi/2,np.pi],\n",
    "    #           [r'$-180^\\circ$',r'$-90^\\circ$',r'$0^\\circ$',r'$90^\\circ$',r'$180^\\circ$'])   \n",
    "\n",
    "    plt.tight_layout()\n",
    "    if exportFlag : \n",
    "        export_name = 'transmittance_pump2_include_phonons_neutrals_Z_Tc_Ci_Zqmd'\n",
    "        print(f'{\"Save as\":30}',':',export_name)\n",
    "        path = '/Users/kwoo/Desktop/PostDoc/InitialPlasma/reports/plots/'\n",
    "        print(f'{\"path_local\":30}',':',str(pathlib.Path().absolute()))    \n",
    "        print(f'{\"path_save\":30}',':',path)\n",
    "        plt.savefig(path+export_name+'.eps',format='eps')\n",
    "        plt.savefig(path+export_name,dpi=500) \n",
    "    plt.show() \n",
    "              \n",
    "get_report(exportFlag=1)"
   ]
  },
  {
   "cell_type": "code",
   "execution_count": null,
   "metadata": {},
   "outputs": [],
   "source": []
  }
 ],
 "metadata": {
  "hide_input": false,
  "kernelspec": {
   "display_name": "Python 3 (ipykernel)",
   "language": "python",
   "name": "python3"
  },
  "language_info": {
   "codemirror_mode": {
    "name": "ipython",
    "version": 3
   },
   "file_extension": ".py",
   "mimetype": "text/x-python",
   "name": "python",
   "nbconvert_exporter": "python",
   "pygments_lexer": "ipython3",
   "version": "3.11.4"
  },
  "latex_envs": {
   "LaTeX_envs_menu_present": true,
   "autoclose": false,
   "autocomplete": true,
   "bibliofile": "biblio.bib",
   "cite_by": "apalike",
   "current_citInitial": 1,
   "eqLabelWithNumbers": true,
   "eqNumInitial": 1,
   "hotkeys": {
    "equation": "Ctrl-E",
    "itemize": "Ctrl-I"
   },
   "labels_anchors": false,
   "latex_user_defs": false,
   "report_style_numbering": false,
   "user_envs_cfg": false
  },
  "nbTranslate": {
   "displayLangs": [
    "*"
   ],
   "hotkey": "alt-t",
   "langInMainMenu": true,
   "sourceLang": "en",
   "targetLang": "fr",
   "useGoogleTranslate": true
  },
  "toc": {
   "base_numbering": 1,
   "nav_menu": {},
   "number_sections": true,
   "sideBar": true,
   "skip_h1_title": false,
   "title_cell": "Table of Contents",
   "title_sidebar": "Contents",
   "toc_cell": false,
   "toc_position": {
    "height": "calc(100% - 180px)",
    "left": "10px",
    "top": "150px",
    "width": "282.01px"
   },
   "toc_section_display": true,
   "toc_window_display": true
  },
  "varInspector": {
   "cols": {
    "lenName": 16,
    "lenType": 16,
    "lenVar": 40
   },
   "kernels_config": {
    "python": {
     "delete_cmd_postfix": "",
     "delete_cmd_prefix": "del ",
     "library": "var_list.py",
     "varRefreshCmd": "print(var_dic_list())"
    },
    "r": {
     "delete_cmd_postfix": ") ",
     "delete_cmd_prefix": "rm(",
     "library": "var_list.r",
     "varRefreshCmd": "cat(var_dic_list()) "
    }
   },
   "types_to_exclude": [
    "module",
    "function",
    "builtin_function_or_method",
    "instance",
    "_Feature"
   ],
   "window_display": false
  }
 },
 "nbformat": 4,
 "nbformat_minor": 4
}
