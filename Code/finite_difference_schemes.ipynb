{
 "cells": [
  {
   "cell_type": "code",
   "execution_count": 1,
   "id": "cc16b3f7",
   "metadata": {},
   "outputs": [
    {
     "data": {
      "application/javascript": [
       "MathJax.Hub.Config({\n",
       "    TeX: { equationNumbers: { autoNumber: \"AMS\" } }\n",
       "});\n",
       "// Code to be able to number equations in the markdown\n"
      ],
      "text/plain": [
       "<IPython.core.display.Javascript object>"
      ]
     },
     "metadata": {},
     "output_type": "display_data"
    }
   ],
   "source": [
    "%%javascript\n",
    "MathJax.Hub.Config({\n",
    "    TeX: { equationNumbers: { autoNumber: \"AMS\" } }\n",
    "});\n",
    "// Code to be able to number equations in the markdown"
   ]
  },
  {
   "cell_type": "code",
   "execution_count": 2,
   "id": "941d11c2",
   "metadata": {},
   "outputs": [],
   "source": [
    "import numpy as np\n",
    "import matplotlib.pyplot as plt\n",
    "# import matplotlib.animation as animation\n",
    "from matplotlib.animation import FuncAnimation\n",
    "from IPython.display import HTML"
   ]
  },
  {
   "cell_type": "markdown",
   "id": "c7c7ac6a",
   "metadata": {},
   "source": [
    "## Explicit finite difference scheme"
   ]
  },
  {
   "attachments": {
    "explicit_method_stencil.png": {
     "image/png": "[encoded data removed]"
    }
   },
   "cell_type": "markdown",
   "id": "71bd9635",
   "metadata": {},
   "source": [
    "### Rewriting equation in terms of row (position) and column (time) indicies.\n",
    "\n",
    "The equation (Eq. 4.0 in doc) given to me by Jack is: \n",
    "\n",
    "\\begin{equation}\n",
    "E^{n+1}_i = \\left ( \\frac{\\Delta t}{\\Delta x} \\frac{c}{n} \\right )^2 (E^{n}_{i+1} - 2E^{n}_{i} + E^{n}_{i-1})-(-2E^{n}_{i} + E^{n-1}_{i})\n",
    "\\end{equation}\n",
    "\n",
    "where $ \\displaystyle r = \\left ( \\frac{\\Delta t}{\\Delta x} \\frac{c}{n} \\right )^2 $ and n is the position index and i is the time index (dimensionless)\n",
    "\n",
    "![explicit_method_stencil.png](attachment:explicit_method_stencil.png)\n",
    "\n",
    "Using the image above, we use [i,n] ; [i-1,n] ; [i+1,n] ; [i, n-1] and take a weighted average to find [i,n+1]."
   ]
  },
  {
   "cell_type": "markdown",
   "id": "a54ff6a2",
   "metadata": {},
   "source": [
    "### Defining global arrays for I, E, T_e, T_i, n_e, rho\n"
   ]
  },
  {
   "cell_type": "code",
   "execution_count": 3,
   "id": "70368a4a",
   "metadata": {},
   "outputs": [],
   "source": [
    "I = np.zeros((10, 10))\n",
    "E = np.zeros((10, 10))\n",
    "T_e = np.zeros((10, 10))\n",
    "T_i = np.zeros((10, 10))\n",
    "n_e = np.zeros((10, 10))\n",
    "rho = np.zeros((10, 10))"
   ]
  },
  {
   "cell_type": "markdown",
   "id": "1fcc0d3c",
   "metadata": {},
   "source": [
    "### Defining parameters needed to solve differential equation: $ \\nabla^{2} E - \\frac{n^2}{c^2} \\frac{\\partial^2 E}{\\partial t^{2}} = 0$"
   ]
  },
  {
   "cell_type": "code",
   "execution_count": 64,
   "id": "e330e215",
   "metadata": {},
   "outputs": [],
   "source": [
    "# Unit conversions\n",
    "ps = 10**-12    # picoseconds unit\n",
    "nm = 10**-9     # nanometers unit\n",
    "um = 10 ** -6   # micrometer unit\n",
    "    \n",
    "# Physical parameters\n",
    "RefractiveIndex = 1                         # unitless\n",
    "speed_of_light = 299792458                  # in m/s\n",
    "wavelength = 351 * nm # we choose wavelength\n",
    "\n",
    "# time-step size “dt” is strictly controlled by Courant–Friedrichs–Lewy (CFL) condition \n",
    "#so that the wave propagation distance within a allowed time-step size cannot exceed the grid size “dx”.\n",
    "CFL = 0.1\n",
    "delta_x = 0.001 * wavelength\n",
    "delta_t = CFL * delta_x / speed_of_light    # time related time-step\n",
    "\n",
    "# Physics formulas\n",
    "frequency = speed_of_light/wavelength       # in Hertz\n",
    "angular_frequency = 2 * np.pi * frequency   # in Hertz\n",
    "wavenumber = (2 * np.pi) / wavelength       # wave number 'k' will be imaginary part in the coming days (when we do it correctly)\n",
    "period = wavelength / speed_of_light        # wave period (can also be calculated with 1/f)\n",
    "\n",
    "# Grid and time parameters\n",
    "# T = 1 * ps              # time in seconds (* picoseonds) (in the future, will represent modeling time)\n",
    "T = 2 * period\n",
    "n_timestep = int(T/delta_t)        # n time step\n",
    "n_cycles = period / delta_t  # number of timesteps to finish one period\n",
    "ntimestep_dividedby_ncycle = n_timestep / n_cycles # equal to number of periods passing through simulation time \n",
    "# L = 500 * nm            # length in SI units in meters\n",
    "lambda_mult = 2\n",
    "L = wavelength * lambda_mult\n",
    "n_cells = int(L/delta_x)            # number of cells (can also think of as number of grid points)\n",
    "# delta_x = L/n_cells     # spatial time-step (can also think of as grid spacing)"
   ]
  },
  {
   "cell_type": "code",
   "execution_count": 65,
   "id": "151068dc",
   "metadata": {},
   "outputs": [
    {
     "data": {
      "text/plain": [
       "0.004100000000000001"
      ]
     },
     "execution_count": 65,
     "metadata": {},
     "output_type": "execute_result"
    }
   ],
   "source": [
    "(82 * delta_t) / T"
   ]
  },
  {
   "cell_type": "markdown",
   "id": "32e10d66",
   "metadata": {},
   "source": [
    "### Initializing laser intensity and electric field"
   ]
  },
  {
   "cell_type": "code",
   "execution_count": 66,
   "id": "6d288bdc",
   "metadata": {},
   "outputs": [],
   "source": [
    "R = 25 * um # radius of laser\n",
    "E_L = 10 * (10 ** -6) # in joules laser energy (10 mu joules)\n",
    "Area_L = np.pi * R **2 # area of laser\n",
    "T_laser = 100 * ps # laser pulse time\n",
    "I_0 = E_L / (Area_L * T_laser) # laser intensities (SI unit is Joules/(m**2) * s )\n",
    "permittivity_free_space = 8.85418782 * 10 **-12\n",
    "\n",
    "# Electric field\n",
    "E_0 = np.sqrt( (2 * I_0) / (speed_of_light * RefractiveIndex * permittivity_free_space) ) # SI unit is voltage / m\n",
    "\n",
    "# Laser intensity\n",
    "I_0 = E_L / (Area_L * T_laser) # laser intensities (SI unit is Joules/(m**2) * s )"
   ]
  },
  {
   "cell_type": "markdown",
   "id": "f38ce331",
   "metadata": {},
   "source": [
    "### Solving explicitly using Eq (1): $E^{n+1}_i = \\left ( \\frac{\\Delta t}{\\Delta x} \\frac{c}{n} \\right )^2 (E^{n}_{i+1} - 2E^{n}_{i} + E^{n}_{i-1})-(-2E^{n}_{i} + E^{n-1}_{i})$"
   ]
  },
  {
   "cell_type": "code",
   "execution_count": 67,
   "id": "2eca982b",
   "metadata": {},
   "outputs": [
    {
     "name": "stdout",
     "output_type": "stream",
     "text": [
      "r_const 0.010000000000000004\n"
     ]
    }
   ],
   "source": [
    "x = []  # spatial domain (can also think of as coordinates of grid points)\n",
    "t = []  # time domain\n",
    "\n",
    "# Creating arrays for the spatial and time domains. Starting at -2 in order to create ghost cells. And ending with + 3 for the same reason\n",
    "# The ghost cells are there so that in the matrix we can access all indeces\n",
    "# To append, using formula Dr. Woo gave me: X_i = delta_x(i + 1/2)\n",
    "for i in range(-2, n_cells + 3):\n",
    "    x.append(delta_x * (i + 0.5))\n",
    "\n",
    "for i in range(-2, n_timestep + 3):\n",
    "    t.append(delta_t * (i + 0.5))\n",
    "    \n",
    "x = np.array(x)\n",
    "t = np.array(t)\n",
    "\n",
    "# BEFORE: E = np.zeros((len(x), len(t)))\n",
    "E = np.zeros((len(t), len(x)))\n",
    "E_10 = np.zeros((len(t), len(x)))\n",
    "\n",
    "r_const = ( (delta_t/delta_x) * (speed_of_light/RefractiveIndex) ) ** 2 # our parameter\n",
    "print('r_const', r_const)\n",
    "\n",
    "# These loops will go through the grid. We start at 1 so as to not calculate the\n",
    "# value when the a time or spatial point is equal to 0.\n",
    "index = 0\n",
    "for n in range(1, (len(t) - 3)*1 + 0):\n",
    "    t_sim = t[n] # in seconds\n",
    "    \n",
    "    # Initial conditions in time:\n",
    "    E[n-1, 0] = E_0 * np.sin( angular_frequency * t[n-1] - wavenumber * x[0] )\n",
    "    E[n-1, 1] = E_0 * np.sin( angular_frequency * t[n-1] - wavenumber * x[1] )\n",
    "    \n",
    "    # Instantenously defining the boundary conditions/values of ghost cells on the RIGHT:\n",
    "    E[n, 0] = E_0 * np.sin( angular_frequency * t[n] - wavenumber * x[0] )\n",
    "    E[n, 1] = E_0 * np.sin( angular_frequency * t[n] - wavenumber * x[1] )\n",
    "    \n",
    "    # We have no laser on the left, so boundary conditions are just 0\n",
    "    E[n, -1] = 0\n",
    "    E[n, -2] = 0\n",
    "    \n",
    "    # Initial conditions in time:\n",
    "    E[1, 2:] = 0\n",
    "    for i in range(2, len(x) - 3):\n",
    "        E[n+1, i] = (r_const) * ( E[n, i+1] - 2*E[n, i] + E[n, i-1] ) - ( -2*E[n, i] + E[n-1, i] )\n",
    "        \n",
    "#         print('E[n+1, i]/E_0', E[n+1, i]/E_0)\n",
    "        \n",
    "        # if the ratio is not bounded to from -1 to 1, then we have overshot and are out of simulation physical bounds\n",
    "        if (False) and abs(E[n+1, i]/E_0) > 1:\n",
    "            print('stop')\n",
    "            print('index', index, 'n+1', n+1, 'i', i, 'E[n+1, i]', E[n+1, i], 'E[n+1, i]/E_0', E[n+1, i]/E_0, (r_const) * (E[n, i+1] - 2*E[n, i] + E[n, i-1]), -2*E[n, i] + E[n-1, i], E[n, i-1] * r_const)\n",
    "            break\n",
    "    \n",
    "        index += 1"
   ]
  },
  {
   "cell_type": "code",
   "execution_count": 68,
   "id": "f1021c05",
   "metadata": {},
   "outputs": [
    {
     "data": {
      "text/plain": [
       "[<matplotlib.lines.Line2D at 0x28f0118d410>]"
      ]
     },
     "execution_count": 68,
     "metadata": {},
     "output_type": "execute_result"
    },
    {
     "data": {
      "image/png": "[encoded data removed]",
      "text/plain": [
       "<Figure size 640x480 with 1 Axes>"
      ]
     },
     "metadata": {},
     "output_type": "display_data"
    }
   ],
   "source": [
    "plt.plot(x/nm, E[19999, :])"
   ]
  },
  {
   "cell_type": "code",
   "execution_count": 7,
   "id": "550075c3",
   "metadata": {},
   "outputs": [
    {
     "data": {
      "text/plain": [
       "(10004, 1004)"
      ]
     },
     "execution_count": 7,
     "metadata": {},
     "output_type": "execute_result"
    }
   ],
   "source": [
    "E.shape"
   ]
  },
  {
   "cell_type": "code",
   "execution_count": 8,
   "id": "f1252091",
   "metadata": {},
   "outputs": [
    {
     "data": {
      "text/plain": [
       "9999"
      ]
     },
     "execution_count": 8,
     "metadata": {},
     "output_type": "execute_result"
    }
   ],
   "source": [
    "n_timestep"
   ]
  },
  {
   "cell_type": "code",
   "execution_count": 9,
   "id": "da904c39",
   "metadata": {
    "scrolled": true
   },
   "outputs": [
    {
     "ename": "IndexError",
     "evalue": "index 99990 is out of bounds for axis 0 with size 10004",
     "output_type": "error",
     "traceback": [
      "\u001b[1;31m---------------------------------------------------------------------------\u001b[0m",
      "\u001b[1;31mIndexError\u001b[0m                                Traceback (most recent call last)",
      "Cell \u001b[1;32mIn[9], line 1\u001b[0m\n\u001b[1;32m----> 1\u001b[0m plt\u001b[38;5;241m.\u001b[39mplot(x\u001b[38;5;241m/\u001b[39mnm, \u001b[43mE\u001b[49m\u001b[43m[\u001b[49m\u001b[38;5;241;43m9999\u001b[39;49m\u001b[43m \u001b[49m\u001b[38;5;241;43m*\u001b[39;49m\u001b[43m \u001b[49m\u001b[38;5;241;43m10\u001b[39;49m\u001b[43m,\u001b[49m\u001b[43m \u001b[49m\u001b[43m:\u001b[49m\u001b[43m]\u001b[49m, \u001b[38;5;124m'\u001b[39m\u001b[38;5;124mro\u001b[39m\u001b[38;5;124m'\u001b[39m)\n",
      "\u001b[1;31mIndexError\u001b[0m: index 99990 is out of bounds for axis 0 with size 10004"
     ]
    }
   ],
   "source": [
    "plt.plot(x/nm, E[9999 * 10, :], 'ro')"
   ]
  },
  {
   "cell_type": "code",
   "execution_count": 52,
   "id": "d19e6e4d",
   "metadata": {
    "scrolled": false
   },
   "outputs": [
    {
     "data": {
      "text/plain": [
       "[<matplotlib.lines.Line2D at 0x1ea40891990>]"
      ]
     },
     "execution_count": 52,
     "metadata": {},
     "output_type": "execute_result"
    },
    {
     "data": {
      "image/png": "[encoded data removed]",
      "text/plain": [
       "<Figure size 640x480 with 1 Axes>"
      ]
     },
     "metadata": {},
     "output_type": "display_data"
    }
   ],
   "source": [
    "plt.plot(x/nm, E[9999 * int(9.5), :], 'ro')"
   ]
  },
  {
   "cell_type": "code",
   "execution_count": 10,
   "id": "8e8cd5cd",
   "metadata": {},
   "outputs": [
    {
     "data": {
      "text/plain": [
       "[<matplotlib.lines.Line2D at 0x2377fc891d0>]"
      ]
     },
     "execution_count": 10,
     "metadata": {},
     "output_type": "execute_result"
    },
    {
     "data": {
      "image/png": "[encoded data removed]",
      "text/plain": [
       "<Figure size 640x480 with 1 Axes>"
      ]
     },
     "metadata": {},
     "output_type": "display_data"
    }
   ],
   "source": [
    "plt.plot(E_0 * np.sin( angular_frequency * t - wavenumber * x[0] ))"
   ]
  },
  {
   "cell_type": "code",
   "execution_count": 11,
   "id": "e0a9b27a",
   "metadata": {},
   "outputs": [
    {
     "data": {
      "text/plain": [
       "1.170809974145514e-19"
      ]
     },
     "execution_count": 11,
     "metadata": {},
     "output_type": "execute_result"
    }
   ],
   "source": [
    "delta_t"
   ]
  },
  {
   "cell_type": "code",
   "execution_count": 12,
   "id": "f03d59c8",
   "metadata": {},
   "outputs": [
    {
     "data": {
      "text/plain": [
       "9999.999999999998"
      ]
     },
     "execution_count": 12,
     "metadata": {},
     "output_type": "execute_result"
    }
   ],
   "source": [
    "T/delta_t"
   ]
  },
  {
   "cell_type": "code",
   "execution_count": 13,
   "id": "c27482a7",
   "metadata": {},
   "outputs": [
    {
     "data": {
      "text/plain": [
       "0.06000000000000001"
      ]
     },
     "execution_count": 13,
     "metadata": {},
     "output_type": "execute_result"
    }
   ],
   "source": [
    "(delta_t * 600) / period"
   ]
  },
  {
   "cell_type": "markdown",
   "id": "823398fa",
   "metadata": {},
   "source": [
    "## Modeling the damping wave"
   ]
  },
  {
   "cell_type": "code",
   "execution_count": 52,
   "id": "2a7c67b4",
   "metadata": {},
   "outputs": [],
   "source": [
    "# defining complex index of refraction\n",
    "n_r = 1\n",
    "# n_i = 6.48\n",
    "n_i = 0\n",
    "# complex_refractive_index = np.cdouble(complex(n_r, n_i))\n",
    "complex_refractive_index = complex(n_r, n_i)"
   ]
  },
  {
   "cell_type": "code",
   "execution_count": 53,
   "id": "f34484c4",
   "metadata": {},
   "outputs": [
    {
     "data": {
      "text/plain": [
       "(1+0j)"
      ]
     },
     "execution_count": 53,
     "metadata": {},
     "output_type": "execute_result"
    }
   ],
   "source": [
    "complex_refractive_index"
   ]
  },
  {
   "cell_type": "code",
   "execution_count": 54,
   "id": "95f549aa",
   "metadata": {},
   "outputs": [],
   "source": [
    "R = 25 * um # radius of laser\n",
    "E_L = 10 * (10 ** -6) # in joules laser energy (10 mu joules)\n",
    "Area_L = np.pi * R **2 # area of laser\n",
    "T_laser = 100 * ps # laser pulse time\n",
    "I_0 = E_L / (Area_L * T_laser) # laser intensities (SI unit is Joules/(m**2) * s )\n",
    "permittivity_free_space = 8.85418782 * 10 **-12\n",
    "\n",
    "# Electric field (same as before but now using complex refractive index)\n",
    "refract_index_ghost = 1\n",
    "E_0 = np.sqrt( (2 * I_0) / (speed_of_light * refract_index_ghost * permittivity_free_space)) # SI unit is voltage / m\n",
    "\n",
    "# Laser intensity\n",
    "I_0 = E_L / (Area_L * T_laser) # laser intensities (SI unit is Joules/(m**2) * s )"
   ]
  },
  {
   "cell_type": "code",
   "execution_count": 55,
   "id": "687d18a9",
   "metadata": {},
   "outputs": [
    {
     "data": {
      "text/plain": [
       "195891384.73574314"
      ]
     },
     "execution_count": 55,
     "metadata": {},
     "output_type": "execute_result"
    }
   ],
   "source": [
    "E_0"
   ]
  },
  {
   "cell_type": "code",
   "execution_count": 74,
   "id": "26ddc959",
   "metadata": {},
   "outputs": [
    {
     "name": "stdout",
     "output_type": "stream",
     "text": [
      "r_const_complex (0.010000000000000004+0j)\n",
      "stop\n",
      "index 35982 n+1 20 i 2 E[n+1, i] 1.56e+06+1.99e+08j abs(E[n+1, i])/abs(E_0) 1.02e+00\n",
      "\n",
      "E_0 1.96e+08\n",
      "\n",
      "(r_const_complex) * ( E[n, i+1] - 2*E[n, i] + E[n, i-1] ) 2.55e+03-1.25e+06j\n",
      "abs((r_const_complex) * ( E[n, i+1] - 2*E[n, i] + E[n, i-1] )) 1.25e+06\n",
      "\n",
      "( -2*E[n, i] + E[n-1, i] ) -1.55e+06-2.00e+08j\n",
      "abs( -2*E[n, i] + E[n-1, i] ) 2.00e+08\n",
      "\n",
      "abs(r_const_complex) 1.00e-02\n",
      "\n",
      "E[n, i+1] 3.12e+05+6.02e+07j E[n, i] 1.41e+06+1.90e+08j E[n, i-1] 2.77e+06+1.96e+08j E[n-1, i] 1.27e+06+1.81e+08j\n",
      "\n",
      "0.3071413829278647 0.9720149565026492 0.9999999999999999 0.9226537595968505\n",
      "\n",
      "cos_term_0_t_nm1 3876835.7714562863\n",
      "sin_term_0_t_nm1 195853018.25115716\n",
      "cos_term_1_t_nm1 2646186.5362760285\n",
      "sin_term_1_t_nm1 195873510.9975368\n",
      "195891384.73574314\n",
      "195891384.73574314\n",
      "195891384.73574314\n",
      "195891384.7357431\n",
      "\n",
      "stop\n",
      "index 35982 n+1 21 i 2 E[n+1, i] 1.70e+06+2.05e+08j abs(E[n+1, i])/abs(E_0) 1.05e+00\n",
      "\n",
      "E_0 1.96e+08\n",
      "\n",
      "(r_const_complex) * ( E[n, i+1] - 2*E[n, i] + E[n, i-1] ) -2.21e+03-2.02e+06j\n",
      "abs((r_const_complex) * ( E[n, i+1] - 2*E[n, i] + E[n, i-1] )) 2.02e+06\n",
      "\n",
      "( -2*E[n, i] + E[n-1, i] ) -1.70e+06-2.07e+08j\n",
      "abs( -2*E[n, i] + E[n-1, i] ) 2.07e+08\n",
      "\n",
      "abs(r_const_complex) 1.00e-02\n",
      "\n",
      "E[n, i+1] 0.00e+00+0.00e+00j E[n, i] 1.56e+06+1.99e+08j E[n, i-1] 2.89e+06+1.96e+08j E[n-1, i] 1.41e+06+1.90e+08j\n",
      "\n",
      "0.0 1.0150071864861911 1.0 0.9720149565026492\n",
      "\n",
      "cos_term_0_t_nm1 3999893.0787669783\n",
      "sin_term_0_t_nm1 195850543.70372674\n",
      "cos_term_1_t_nm1 2769256.96247854\n",
      "sin_term_1_t_nm1 195871809.68572965\n",
      "195891384.73574314\n",
      "195891384.7357431\n",
      "195891384.73574317\n",
      "195891384.73574314\n",
      "\n",
      "stop\n",
      "index 35982 n+1 22 i 2 E[n+1, i] 1.84e+06+2.09e+08j abs(E[n+1, i])/abs(E_0) 1.07e+00\n",
      "\n",
      "E_0 1.96e+08\n",
      "\n",
      "(r_const_complex) * ( E[n, i+1] - 2*E[n, i] + E[n, i-1] ) -3.80e+03-2.15e+06j\n",
      "abs((r_const_complex) * ( E[n, i+1] - 2*E[n, i] + E[n, i-1] )) 2.15e+06\n",
      "\n",
      "( -2*E[n, i] + E[n-1, i] ) -1.84e+06-2.12e+08j\n",
      "abs( -2*E[n, i] + E[n-1, i] ) 2.12e+08\n",
      "\n",
      "abs(r_const_complex) 1.00e-02\n",
      "\n",
      "E[n, i+1] 0.00e+00+0.00e+00j E[n, i] 1.70e+06+2.05e+08j E[n, i-1] 3.02e+06+1.96e+08j E[n-1, i] 1.56e+06+1.99e+08j\n",
      "\n",
      "0.0 1.0476992159084657 0.9999999999999999 1.0150071864861911\n",
      "\n",
      "cos_term_0_t_nm1 4122948.8069831855\n",
      "sin_term_0_t_nm1 195847991.83760333\n",
      "cos_term_1_t_nm1 2892326.295422259\n",
      "sin_term_1_t_nm1 195870031.04683408\n",
      "195891384.73574317\n",
      "195891384.73574314\n",
      "195891384.73574314\n",
      "195891384.73574314\n",
      "\n",
      "stop\n",
      "index 35982 n+1 23 i 2 E[n+1, i] 1.97e+06+2.12e+08j abs(E[n+1, i])/abs(E_0) 1.08e+00\n",
      "\n",
      "E_0 1.96e+08\n",
      "\n",
      "(r_const_complex) * ( E[n, i+1] - 2*E[n, i] + E[n, i-1] ) -5.32e+03-2.23e+06j\n",
      "abs((r_const_complex) * ( E[n, i+1] - 2*E[n, i] + E[n, i-1] )) 2.23e+06\n",
      "\n",
      "( -2*E[n, i] + E[n-1, i] ) -1.97e+06-2.14e+08j\n",
      "abs( -2*E[n, i] + E[n-1, i] ) 2.14e+08\n",
      "\n",
      "abs(r_const_complex) 1.00e-02\n",
      "\n",
      "E[n, i+1] 0.00e+00+0.00e+00j E[n, i] 1.84e+06+2.09e+08j E[n, i-1] 3.14e+06+1.96e+08j E[n-1, i] 1.70e+06+2.05e+08j\n",
      "\n",
      "0.0 1.0694372347455532 0.9999999999999999 1.0476992159084657\n",
      "\n",
      "cos_term_0_t_nm1 4246002.907524498\n",
      "sin_term_0_t_nm1 195845362.65379438\n",
      "cos_term_1_t_nm1 3015394.486521405\n",
      "sin_term_1_t_nm1 195868175.0815522\n",
      "195891384.73574314\n",
      "195891384.73574314\n",
      "195891384.73574314\n",
      "195891384.7357431\n",
      "\n",
      "stop\n",
      "index 35982 n+1 24 i 2 E[n+1, i] 2.09e+06+2.11e+08j abs(E[n+1, i])/abs(E_0) 1.08e+00\n",
      "\n",
      "E_0 1.96e+08\n",
      "\n",
      "(r_const_complex) * ( E[n, i+1] - 2*E[n, i] + E[n, i-1] ) -6.73e+03-2.27e+06j\n",
      "abs((r_const_complex) * ( E[n, i+1] - 2*E[n, i] + E[n, i-1] )) 2.27e+06\n",
      "\n",
      "( -2*E[n, i] + E[n-1, i] ) -2.10e+06-2.14e+08j\n",
      "abs( -2*E[n, i] + E[n-1, i] ) 2.14e+08\n",
      "\n",
      "abs(r_const_complex) 1.00e-02\n",
      "\n",
      "E[n, i+1] 0.00e+00+0.00e+00j E[n, i] 1.97e+06+2.12e+08j E[n, i-1] 3.26e+06+1.96e+08j E[n-1, i] 1.84e+06+2.09e+08j\n",
      "\n",
      "0.0 1.0797865277536844 1.0 1.0694372347455532\n",
      "\n",
      "cos_term_0_t_nm1 4369055.331811151\n",
      "sin_term_0_t_nm1 195842656.15333784\n",
      "cos_term_1_t_nm1 3138461.48719052\n",
      "sin_term_1_t_nm1 195866241.79061678\n",
      "195891384.73574314\n",
      "195891384.7357431\n",
      "195891384.73574314\n",
      "195891384.73574314\n",
      "\n",
      "stop\n",
      "index 35982 n+1 25 i 2 E[n+1, i] 2.21e+06+2.09e+08j abs(E[n+1, i])/abs(E_0) 1.07e+00\n",
      "\n",
      "E_0 1.96e+08\n",
      "\n",
      "(r_const_complex) * ( E[n, i+1] - 2*E[n, i] + E[n, i-1] ) -8.01e+03-2.27e+06j\n",
      "abs((r_const_complex) * ( E[n, i+1] - 2*E[n, i] + E[n, i-1] )) 2.27e+06\n",
      "\n",
      "( -2*E[n, i] + E[n-1, i] ) -2.22e+06-2.11e+08j\n",
      "abs( -2*E[n, i] + E[n-1, i] ) 2.11e+08\n",
      "\n",
      "abs(r_const_complex) 1.00e-02\n",
      "\n",
      "E[n, i+1] 0.00e+00+0.00e+00j E[n, i] 2.09e+06+2.11e+08j E[n, i-1] 3.38e+06+1.96e+08j E[n-1, i] 1.97e+06+2.12e+08j\n",
      "\n",
      "0.0 1.0785401733507622 0.9999999999999999 1.0797865277536844\n",
      "\n",
      "cos_term_0_t_nm1 4492106.031263907\n",
      "sin_term_0_t_nm1 195839872.33730218\n",
      "cos_term_1_t_nm1 3261527.2488447423\n",
      "sin_term_1_t_nm1 195864231.17479104\n",
      "195891384.73574314\n",
      "195891384.73574314\n",
      "195891384.7357431\n",
      "195891384.73574314\n",
      "\n",
      "stop\n",
      "index 35982 n+1 26 i 2 E[n+1, i] 2.32e+06+2.04e+08j abs(E[n+1, i])/abs(E_0) 1.04e+00\n",
      "\n",
      "E_0 1.96e+08\n",
      "\n",
      "(r_const_complex) * ( E[n, i+1] - 2*E[n, i] + E[n, i-1] ) -9.12e+03-2.22e+06j\n",
      "abs((r_const_complex) * ( E[n, i+1] - 2*E[n, i] + E[n, i-1] )) 2.22e+06\n",
      "\n",
      "( -2*E[n, i] + E[n-1, i] ) -2.33e+06-2.06e+08j\n",
      "abs( -2*E[n, i] + E[n-1, i] ) 2.06e+08\n",
      "\n",
      "abs(r_const_complex) 1.00e-02\n",
      "\n",
      "E[n, i+1] 0.00e+00+0.00e+00j E[n, i] 2.21e+06+2.09e+08j E[n, i-1] 3.51e+06+1.96e+08j E[n-1, i] 2.09e+06+2.11e+08j\n",
      "\n",
      "0.0 1.0657231881960174 0.9999999999999999 1.0785401733507622\n",
      "\n",
      "cos_term_0_t_nm1 4615154.957304387\n",
      "sin_term_0_t_nm1 195837011.20678645\n",
      "cos_term_1_t_nm1 3384591.722899704\n",
      "sin_term_1_t_nm1 195862143.23486868\n",
      "195891384.7357431\n",
      "195891384.73574314\n",
      "195891384.73574314\n",
      "195891384.73574314\n",
      "\n",
      "stop\n",
      "index 35982 n+1 27 i 2 E[n+1, i] 2.42e+06+1.97e+08j abs(E[n+1, i])/abs(E_0) 1.01e+00\n",
      "\n",
      "E_0 1.96e+08\n",
      "\n",
      "(r_const_complex) * ( E[n, i+1] - 2*E[n, i] + E[n, i-1] ) -1.01e+04-2.12e+06j\n",
      "abs((r_const_complex) * ( E[n, i+1] - 2*E[n, i] + E[n, i-1] )) 2.12e+06\n",
      "\n",
      "( -2*E[n, i] + E[n-1, i] ) -2.43e+06-1.99e+08j\n",
      "abs( -2*E[n, i] + E[n-1, i] ) 1.99e+08\n",
      "\n",
      "abs(r_const_complex) 1.00e-02\n",
      "\n",
      "E[n, i+1] 0.00e+00+0.00e+00j E[n, i] 2.32e+06+2.04e+08j E[n, i-1] 3.63e+06+1.96e+08j E[n-1, i] 2.21e+06+2.09e+08j\n",
      "\n",
      "0.0 1.0415920352548476 0.9999999999999999 1.0657231881960174\n",
      "\n",
      "cos_term_0_t_nm1 4738202.061354737\n",
      "sin_term_0_t_nm1 195834072.76292017\n",
      "cos_term_1_t_nm1 3507654.860771411\n",
      "sin_term_1_t_nm1 195859977.97167405\n",
      "195891384.73574314\n",
      "195891384.73574314\n",
      "195891384.73574314\n",
      "195891384.73574314\n",
      "\n",
      "stop\n",
      "index 95952 n+1 58 i 2 E[n+1, i] 6.23e+06+2.04e+08j abs(E[n+1, i])/abs(E_0) 1.04e+00\n",
      "\n",
      "E_0 1.96e+08\n",
      "\n",
      "(r_const_complex) * ( E[n, i+1] - 2*E[n, i] + E[n, i-1] ) -4.97e+03-1.25e+06j\n",
      "abs((r_const_complex) * ( E[n, i+1] - 2*E[n, i] + E[n, i-1] )) 1.25e+06\n",
      "\n",
      "( -2*E[n, i] + E[n-1, i] ) -6.24e+06-2.05e+08j\n",
      "abs( -2*E[n, i] + E[n-1, i] ) 2.05e+08\n",
      "\n",
      "abs(r_const_complex) 1.00e-02\n",
      "\n",
      "E[n, i+1] 4.04e+06+6.07e+07j E[n, i] 5.99e+06+1.91e+08j E[n, i-1] 7.44e+06+1.96e+08j E[n-1, i] 5.75e+06+1.77e+08j\n",
      "\n",
      "0.3105113088430903 0.9747939536716821 1.0 0.9018295814543763\n",
      "\n",
      "cos_term_0_t_nm1 8551493.578228282\n",
      "sin_term_0_t_nm1 195704641.159244\n",
      "cos_term_1_t_nm1 7321684.343934705\n",
      "sin_term_1_t_nm1 195754508.38245007\n",
      "195891384.73574314\n",
      "195891384.73574314\n",
      "195891384.73574314\n",
      "195891384.73574314\n",
      "\n",
      "stop\n",
      "index 95952 n+1 59 i 2 E[n+1, i] 6.42e+06+2.15e+08j abs(E[n+1, i])/abs(E_0) 1.10e+00\n",
      "\n",
      "E_0 1.96e+08\n",
      "\n",
      "(r_const_complex) * ( E[n, i+1] - 2*E[n, i] + E[n, i-1] ) -4.89e+04-2.12e+06j\n",
      "abs((r_const_complex) * ( E[n, i+1] - 2*E[n, i] + E[n, i-1] )) 2.12e+06\n",
      "\n",
      "( -2*E[n, i] + E[n-1, i] ) -6.47e+06-2.17e+08j\n",
      "abs( -2*E[n, i] + E[n-1, i] ) 2.17e+08\n",
      "\n",
      "abs(r_const_complex) 1.00e-02\n",
      "\n",
      "E[n, i+1] 0.00e+00+0.00e+00j E[n, i] 6.23e+06+2.04e+08j E[n, i-1] 7.57e+06+1.96e+08j E[n-1, i] 5.99e+06+1.91e+08j\n",
      "\n",
      "0.0 1.0413663949570515 1.0 0.9747939536716821\n",
      "\n",
      "cos_term_0_t_nm1 8674456.734728245\n",
      "sin_term_0_t_nm1 195699229.46717054\n",
      "cos_term_1_t_nm1 7444679.075687627\n",
      "sin_term_1_t_nm1 195749869.39241353\n",
      "195891384.73574314\n",
      "195891384.73574314\n",
      "195891384.73574314\n",
      "195891384.73574314\n",
      "\n",
      "stop\n",
      "index 95952 n+1 60 i 2 E[n+1, i] 6.56e+06+2.23e+08j abs(E[n+1, i])/abs(E_0) 1.14e+00\n",
      "\n",
      "E_0 1.96e+08\n",
      "\n",
      "(r_const_complex) * ( E[n, i+1] - 2*E[n, i] + E[n, i-1] ) -5.15e+04-2.34e+06j\n",
      "abs((r_const_complex) * ( E[n, i+1] - 2*E[n, i] + E[n, i-1] )) 2.34e+06\n",
      "\n",
      "( -2*E[n, i] + E[n-1, i] ) -6.61e+06-2.26e+08j\n",
      "abs( -2*E[n, i] + E[n-1, i] ) 2.26e+08\n",
      "\n",
      "abs(r_const_complex) 1.00e-02\n",
      "\n",
      "E[n, i+1] 0.00e+00+0.00e+00j E[n, i] 6.42e+06+2.15e+08j E[n, i-1] 7.69e+06+1.96e+08j E[n-1, i] 6.23e+06+2.04e+08j\n",
      "\n",
      "0.0 1.097111765366313 0.9999999999999998 1.0413663949570515\n",
      "\n",
      "cos_term_0_t_nm1 8797416.466690069\n",
      "sin_term_0_t_nm1 195693740.51614055\n",
      "cos_term_1_t_nm1 7567670.868399197\n",
      "sin_term_1_t_nm1 195745153.12342864\n",
      "195891384.73574314\n",
      "195891384.73574314\n",
      "195891384.73574314\n",
      "195891384.73574314\n",
      "\n",
      "stop\n",
      "index 95952 n+1 61 i 2 E[n+1, i] 6.64e+06+2.29e+08j abs(E[n+1, i])/abs(E_0) 1.17e+00\n",
      "\n",
      "E_0 1.96e+08\n",
      "\n",
      "(r_const_complex) * ( E[n, i+1] - 2*E[n, i] + E[n, i-1] ) -5.30e+04-2.51e+06j\n",
      "abs((r_const_complex) * ( E[n, i+1] - 2*E[n, i] + E[n, i-1] )) 2.51e+06\n",
      "\n",
      "( -2*E[n, i] + E[n-1, i] ) -6.70e+06-2.32e+08j\n",
      "abs( -2*E[n, i] + E[n-1, i] ) 2.32e+08\n",
      "\n",
      "abs(r_const_complex) 1.00e-02\n",
      "\n",
      "E[n, i+1] 0.00e+00+0.00e+00j E[n, i] 6.56e+06+2.23e+08j E[n, i-1] 7.81e+06+1.96e+08j E[n-1, i] 6.42e+06+2.15e+08j\n",
      "\n",
      "0.0 1.1409148506703772 0.9999999999999999 1.097111765366313\n",
      "\n",
      "cos_term_0_t_nm1 8920372.725571238\n",
      "sin_term_0_t_nm1 195688174.308321\n",
      "cos_term_1_t_nm1 7690659.673514111\n",
      "sin_term_1_t_nm1 195740359.57735726\n",
      "195891384.73574314\n",
      "195891384.73574314\n",
      "195891384.73574314\n",
      "195891384.73574314\n",
      "\n",
      "stop\n",
      "index 95952 n+1 62 i 2 E[n+1, i] 6.68e+06+2.33e+08j abs(E[n+1, i])/abs(E_0) 1.19e+00\n",
      "\n",
      "E_0 1.96e+08\n",
      "\n",
      "(r_const_complex) * ( E[n, i+1] - 2*E[n, i] + E[n, i-1] ) -5.35e+04-2.63e+06j\n",
      "abs((r_const_complex) * ( E[n, i+1] - 2*E[n, i] + E[n, i-1] )) 2.63e+06\n",
      "\n",
      "( -2*E[n, i] + E[n-1, i] ) -6.73e+06-2.36e+08j\n",
      "abs( -2*E[n, i] + E[n-1, i] ) 2.36e+08\n",
      "\n",
      "abs(r_const_complex) 1.00e-02\n",
      "\n",
      "E[n, i+1] 0.00e+00+0.00e+00j E[n, i] 6.64e+06+2.29e+08j E[n, i-1] 7.94e+06+1.96e+08j E[n-1, i] 6.56e+06+2.23e+08j\n",
      "\n",
      "0.0 1.1718993310230528 0.9999999999999998 1.1409148506703772\n",
      "\n",
      "cos_term_0_t_nm1 9043325.462830484\n",
      "sin_term_0_t_nm1 195682530.84590936\n",
      "cos_term_1_t_nm1 7813645.442478386\n",
      "sin_term_1_t_nm1 195735488.7560919\n",
      "195891384.73574314\n",
      "195891384.73574314\n",
      "195891384.73574314\n",
      "195891384.73574314\n",
      "\n",
      "stop\n",
      "index 95952 n+1 63 i 2 E[n+1, i] 6.66e+06+2.34e+08j abs(E[n+1, i])/abs(E_0) 1.19e+00\n",
      "\n",
      "E_0 1.96e+08\n",
      "\n",
      "(r_const_complex) * ( E[n, i+1] - 2*E[n, i] + E[n, i-1] ) -5.29e+04-2.70e+06j\n",
      "abs((r_const_complex) * ( E[n, i+1] - 2*E[n, i] + E[n, i-1] )) 2.70e+06\n",
      "\n",
      "( -2*E[n, i] + E[n-1, i] ) -6.71e+06-2.36e+08j\n",
      "abs( -2*E[n, i] + E[n-1, i] ) 2.36e+08\n",
      "\n",
      "abs(r_const_complex) 1.00e-02\n",
      "\n",
      "E[n, i+1] 0.00e+00+0.00e+00j E[n, i] 6.68e+06+2.33e+08j E[n, i-1] 8.06e+06+1.96e+08j E[n-1, i] 6.64e+06+2.29e+08j\n",
      "\n",
      "0.0 1.1894452975115317 0.9999999999999999 1.1718993310230528\n",
      "\n",
      "cos_term_0_t_nm1 9166274.629928099\n",
      "sin_term_0_t_nm1 195676810.13113353\n",
      "cos_term_1_t_nm1 7936628.126739225\n",
      "sin_term_1_t_nm1 195730540.66155538\n",
      "195891384.73574314\n",
      "195891384.73574314\n",
      "195891384.73574314\n",
      "195891384.73574314\n",
      "\n",
      "stop\n",
      "index 95952 n+1 64 i 2 E[n+1, i] 6.58e+06+2.32e+08j abs(E[n+1, i])/abs(E_0) 1.18e+00\n",
      "\n",
      "E_0 1.96e+08\n",
      "\n",
      "(r_const_complex) * ( E[n, i+1] - 2*E[n, i] + E[n, i-1] ) -5.13e+04-2.72e+06j\n",
      "abs((r_const_complex) * ( E[n, i+1] - 2*E[n, i] + E[n, i-1] )) 2.72e+06\n",
      "\n",
      "( -2*E[n, i] + E[n-1, i] ) -6.63e+06-2.34e+08j\n",
      "abs( -2*E[n, i] + E[n-1, i] ) 2.34e+08\n",
      "\n",
      "abs(r_const_complex) 1.00e-02\n",
      "\n",
      "E[n, i+1] 0.00e+00+0.00e+00j E[n, i] 6.66e+06+2.34e+08j E[n, i-1] 8.18e+06+1.96e+08j E[n-1, i] 6.68e+06+2.33e+08j\n",
      "\n",
      "0.0 1.1932016458556307 1.0 1.1894452975115317\n",
      "\n",
      "cos_term_0_t_nm1 9289220.17832561\n",
      "sin_term_0_t_nm1 195671012.166252\n",
      "cos_term_1_t_nm1 8059607.677744929\n",
      "sin_term_1_t_nm1 195725515.2957012\n",
      "195891384.73574314\n",
      "195891384.73574314\n",
      "195891384.73574317\n",
      "195891384.73574314\n",
      "\n",
      "stop\n",
      "index 95952 n+1 65 i 2 E[n+1, i] 6.46e+06+2.27e+08j abs(E[n+1, i])/abs(E_0) 1.16e+00\n",
      "\n",
      "E_0 1.96e+08\n",
      "\n",
      "(r_const_complex) * ( E[n, i+1] - 2*E[n, i] + E[n, i-1] ) -4.86e+04-2.68e+06j\n",
      "abs((r_const_complex) * ( E[n, i+1] - 2*E[n, i] + E[n, i-1] )) 2.68e+06\n",
      "\n",
      "( -2*E[n, i] + E[n-1, i] ) -6.51e+06-2.30e+08j\n",
      "abs( -2*E[n, i] + E[n-1, i] ) 2.30e+08\n",
      "\n",
      "abs(r_const_complex) 1.00e-02\n",
      "\n",
      "E[n, i+1] 0.00e+00+0.00e+00j E[n, i] 6.58e+06+2.32e+08j E[n, i-1] 8.31e+06+1.96e+08j E[n-1, i] 6.66e+06+2.34e+08j\n",
      "\n",
      "0.0 1.1830930982445598 0.9999999999999998 1.1932016458556307\n",
      "\n",
      "cos_term_0_t_nm1 9412162.059486112\n",
      "sin_term_0_t_nm1 195665136.95355368\n",
      "cos_term_1_t_nm1 8182584.046945204\n",
      "sin_term_1_t_nm1 195720412.6605133\n",
      "195891384.73574317\n",
      "195891384.73574314\n",
      "195891384.73574314\n",
      "195891384.7357431\n",
      "\n",
      "stop\n",
      "index 95952 n+1 66 i 2 E[n+1, i] 6.30e+06+2.20e+08j abs(E[n+1, i])/abs(E_0) 1.12e+00\n",
      "\n",
      "E_0 1.96e+08\n",
      "\n",
      "(r_const_complex) * ( E[n, i+1] - 2*E[n, i] + E[n, i-1] ) -4.50e+04-2.58e+06j\n",
      "abs((r_const_complex) * ( E[n, i+1] - 2*E[n, i] + E[n, i-1] )) 2.58e+06\n",
      "\n",
      "( -2*E[n, i] + E[n-1, i] ) -6.34e+06-2.22e+08j\n",
      "abs( -2*E[n, i] + E[n-1, i] ) 2.22e+08\n",
      "\n",
      "abs(r_const_complex) 1.00e-02\n",
      "\n",
      "E[n, i+1] 0.00e+00+0.00e+00j E[n, i] 6.46e+06+2.27e+08j E[n, i-1] 8.43e+06+1.96e+08j E[n-1, i] 6.58e+06+2.32e+08j\n",
      "\n",
      "0.0 1.159321712673118 1.0 1.1830930982445598\n",
      "\n",
      "cos_term_0_t_nm1 9535100.224874133\n",
      "sin_term_0_t_nm1 195659184.49535802\n",
      "cos_term_1_t_nm1 8305557.185790842\n",
      "sin_term_1_t_nm1 195715232.75800607\n",
      "195891384.73574314\n",
      "195891384.7357431\n",
      "195891384.73574314\n",
      "195891384.73574314\n",
      "\n",
      "stop\n",
      "index 95952 n+1 67 i 2 E[n+1, i] 6.09e+06+2.10e+08j abs(E[n+1, i])/abs(E_0) 1.07e+00\n",
      "\n",
      "E_0 1.96e+08\n",
      "\n",
      "(r_const_complex) * ( E[n, i+1] - 2*E[n, i] + E[n, i-1] ) -4.04e+04-2.44e+06j\n",
      "abs((r_const_complex) * ( E[n, i+1] - 2*E[n, i] + E[n, i-1] )) 2.44e+06\n",
      "\n",
      "( -2*E[n, i] + E[n-1, i] ) -6.13e+06-2.13e+08j\n",
      "abs( -2*E[n, i] + E[n-1, i] ) 2.13e+08\n",
      "\n",
      "abs(r_const_complex) 1.00e-02\n",
      "\n",
      "E[n, i+1] 0.00e+00+0.00e+00j E[n, i] 6.30e+06+2.20e+08j E[n, i-1] 8.55e+06+1.96e+08j E[n-1, i] 6.46e+06+2.27e+08j\n",
      "\n",
      "0.0 1.1223628502022571 1.0 1.159321712673118\n",
      "\n",
      "cos_term_0_t_nm1 9658034.625955548\n",
      "sin_term_0_t_nm1 195653154.79401496\n",
      "cos_term_1_t_nm1 8428527.045734037\n",
      "sin_term_1_t_nm1 195709975.5902245\n",
      "195891384.73574314\n",
      "195891384.73574314\n",
      "195891384.73574314\n",
      "195891384.73574314\n",
      "\n",
      "stop\n",
      "index 95952 n+1 68 i 2 E[n+1, i] 5.85e+06+1.98e+08j abs(E[n+1, i])/abs(E_0) 1.01e+00\n",
      "\n",
      "E_0 1.96e+08\n",
      "\n",
      "(r_const_complex) * ( E[n, i+1] - 2*E[n, i] + E[n, i-1] ) -3.51e+04-2.24e+06j\n",
      "abs((r_const_complex) * ( E[n, i+1] - 2*E[n, i] + E[n, i-1] )) 2.25e+06\n",
      "\n",
      "( -2*E[n, i] + E[n-1, i] ) -5.88e+06-2.00e+08j\n",
      "abs( -2*E[n, i] + E[n-1, i] ) 2.01e+08\n",
      "\n",
      "abs(r_const_complex) 1.00e-02\n",
      "\n",
      "E[n, i+1] 0.00e+00+0.00e+00j E[n, i] 6.09e+06+2.10e+08j E[n, i-1] 8.67e+06+1.96e+08j E[n-1, i] 6.30e+06+2.20e+08j\n",
      "\n",
      "0.0 1.0729556823789672 1.0 1.1223628502022571\n",
      "\n",
      "cos_term_0_t_nm1 9780965.21419785\n",
      "sin_term_0_t_nm1 195647047.85190496\n",
      "cos_term_1_t_nm1 8551493.578228282\n",
      "sin_term_1_t_nm1 195704641.159244\n",
      "195891384.73574314\n",
      "195891384.73574314\n",
      "195891384.73574314\n",
      "195891384.73574314\n",
      "\n"
     ]
    }
   ],
   "source": [
    "x = []  # spatial domain (can also think of as coordinates of grid points)\n",
    "t = []  # time domain\n",
    "\n",
    "# Creating arrays for the spatial and time domains. Starting at -2 in order to create ghost cells. And ending with + 3 for the same reason\n",
    "# The ghost cells are there so that in the matrix we can access all indeces\n",
    "# To append, using formula Dr. Woo gave me: X_i = delta_x(i + 1/2)\n",
    "for i in range(-2, n_cells + 3):\n",
    "    x.append(delta_x * (i + 0.5))\n",
    "\n",
    "for i in range(-2, n_timestep + 3):\n",
    "    t.append(delta_t * (i + 0.5))\n",
    "    \n",
    "x = np.array(x)\n",
    "t = np.array(t)\n",
    "\n",
    "E_complex = 1j * np.zeros((len(t), len(x)))\n",
    "\n",
    "r_const_complex = ( (delta_t/delta_x) * (speed_of_light/complex_refractive_index) ) ** 2 # our parameter\n",
    "print('r_const_complex', r_const_complex)\n",
    "# These loops will go through the grid. We start at 1 so as to not calculate the\n",
    "# value when the a time or spatial point is equal to 0.\n",
    "index = 0\n",
    "for n in range(1, (len(t) - 3)*0 + 80):\n",
    "    t_sim = t[n] # in seconds\n",
    "    \n",
    "    # Defning cos and sin terms for wave to later be turned into complex numbers for t_nm1\n",
    "    cos_term_0_t_nm1 = E_0 * np.cos((wavenumber * x[0]) - (angular_frequency * t[n-1]) + np.pi/2)\n",
    "    sin_term_0_t_nm1 = E_0 * np.sin((wavenumber * x[0]) - (angular_frequency * t[n-1]) + np.pi/2)\n",
    "    \n",
    "    cos_term_1_t_nm1 = E_0 * np.cos((wavenumber * x[1]) - (angular_frequency * t[n-1]) + np.pi/2)\n",
    "    sin_term_1_t_nm1 = E_0 * np.sin((wavenumber * x[1]) - (angular_frequency * t[n-1]) + np.pi/2)\n",
    "    \n",
    "#     print('cos_term_0_t_nm1', cos_term_0_t_nm1)\n",
    "#     print('sin_term_0_t_nm1', sin_term_0_t_nm1)\n",
    "#     print('cos_term_1_t_nm1', cos_term_1_t_nm1)\n",
    "#     print('sin_term_1_t_nm1', sin_term_1_t_nm1)\n",
    "\n",
    "    \n",
    "    # Initial conditions in time:\n",
    "    E_complex[n-1, 0] = complex(cos_term_0_t_nm1, sin_term_0_t_nm1)\n",
    "    E_complex[n-1, 1] = complex(cos_term_1_t_nm1, sin_term_1_t_nm1)\n",
    "\n",
    "    \n",
    "    # Defning cos and sin terms for wave to later be turned into complex numbers for t_n\n",
    "    cos_term_0_t_n = E_0 * np.cos((wavenumber * x[0]) - (angular_frequency * t[n]) + np.pi/2)\n",
    "    sin_term_0_t_n = E_0 * np.sin((wavenumber * x[0]) - (angular_frequency * t[n]) + np.pi/2)\n",
    "    \n",
    "    cos_term_1_t_n = E_0 * np.cos((wavenumber * x[1]) - (angular_frequency * t[n]) + np.pi/2)\n",
    "    sin_term_1_t_n = E_0 * np.sin((wavenumber * x[1]) - (angular_frequency * t[n]) + np.pi/2)\n",
    "    \n",
    "#     print('cos_term_0_t_n', cos_term_0_t_n)\n",
    "#     print('sin_term_1_t_n', sin_term_1_t_n)\n",
    "    \n",
    "    \n",
    "    # Instantenously defining the boundary conditions/values of ghost cells on the RIGHT:\n",
    "    E_complex[n, 0] = complex(cos_term_0_t_n, sin_term_0_t_n)\n",
    "    E_complex[n, 1] = complex(cos_term_1_t_n, sin_term_1_t_n)\n",
    "    \n",
    "    \n",
    "    # We have no laser on the left, so boundary conditions are just 0\n",
    "    E_complex[n, -1] = 0\n",
    "    E_complex[n, -2] = 0\n",
    "    \n",
    "    # Initial conditions in time:\n",
    "    E_complex[1, 2:] = 0\n",
    "    \n",
    "    precision_num = 2\n",
    "    for i in range(2, len(x) - 3):\n",
    "        E_complex[n+1, i] = (r_const_complex) * ( E_complex[n, i+1] - 2*E_complex[n, i] + E_complex[n, i-1] ) - ( -2*E_complex[n, i] + E_complex[n-1, i] )\n",
    "        \n",
    "#         if (True) and abs(E_complex[n+1, i])/abs(E_0) > 1:\n",
    "#             E_complex[n+1, i] = E_0\n",
    "            \n",
    "#         print('E[n+1, i]/E_0', E[n+1, i]/E_0)\n",
    "\n",
    "        # if the ratio is not bounded to from -1 to 1, then we have overshot and are out of simulation physical bounds\n",
    "        if (True) and abs(E_complex[n+1, i])/abs(E_0) > 1:\n",
    "            print('stop')\n",
    "            print('index', index, 'n+1', n+1, 'i', i, \"E[n+1, i] {:.{}e}\".format(E_complex[n+1, i], precision_num), 'abs(E[n+1, i])/abs(E_0) {:.{}e}'.format(abs(E_complex[n+1, i])/abs(E_0), precision_num))\n",
    "            print()\n",
    "            print(\"E_0 {:.{}e}\".format(E_0, precision_num))\n",
    "            print()\n",
    "            print('(r_const_complex) * ( E[n, i+1] - 2*E[n, i] + E[n, i-1] ) {:.{}e}'.format((r_const_complex) * ( E_complex[n, i+1] - 2*E_complex[n, i] + E_complex[n, i-1] ), precision_num))\n",
    "            print('abs((r_const_complex) * ( E[n, i+1] - 2*E[n, i] + E[n, i-1] )) {:.{}e}'.format(abs((r_const_complex) * ( E_complex[n, i+1] - 2*E_complex[n, i] + E_complex[n, i-1] )), precision_num))\n",
    "            print()\n",
    "            print('( -2*E[n, i] + E[n-1, i] ) {:.{}e}'.format( ( -2*E_complex[n, i] + E_complex[n-1, i] ), precision_num) )\n",
    "            \n",
    "            print('abs( -2*E[n, i] + E[n-1, i] ) {:.{}e}'.format( abs(( -2*E_complex[n, i] + E_complex[n-1, i] )), precision_num) )\n",
    "            print()\n",
    "            print('abs(r_const_complex) {:.{}e}'.format( abs(r_const_complex), precision_num) )\n",
    "            print()\n",
    "            \n",
    "            print('E[n, i+1] {:.{}e}'.format(E_complex[n, i+1], precision_num), 'E[n, i] {:.{}e}'.format(E_complex[n, i], precision_num), 'E[n, i-1] {:.{}e}'.format(E_complex[n, i-1], precision_num), 'E[n-1, i] {:.{}e}'.format( E_complex[n-1, i], precision_num))\n",
    "            print()\n",
    "            print(abs(E_complex[n, i+1]/E_0),  abs(E_complex[n, i]/E_0), abs(E_complex[n, i-1]/E_0), abs(E_complex[n-1, i]/E_0))\n",
    "            print()\n",
    "            \n",
    "            print('cos_term_0_t_nm1', cos_term_0_t_nm1)\n",
    "            print('sin_term_0_t_nm1', sin_term_0_t_nm1)\n",
    "            print('cos_term_1_t_nm1', cos_term_1_t_nm1)\n",
    "            print('sin_term_1_t_nm1', sin_term_1_t_nm1)\n",
    "            \n",
    "            print(np.sqrt(cos_term_0_t_nm1 ** 2 + sin_term_0_t_nm1 ** 2))\n",
    "            print(np.sqrt(cos_term_1_t_nm1 ** 2 + sin_term_1_t_nm1 ** 2))\n",
    "            \n",
    "            print(np.sqrt(cos_term_0_t_n ** 2 + sin_term_0_t_n ** 2))\n",
    "            print(np.sqrt(cos_term_1_t_n ** 2 + sin_term_1_t_n ** 2))\n",
    "            print()\n",
    "            break\n",
    "    \n",
    "        index += 1"
   ]
  },
  {
   "cell_type": "code",
   "execution_count": 71,
   "id": "fb5b17bb",
   "metadata": {
    "scrolled": true
   },
   "outputs": [
    {
     "data": {
      "text/plain": [
       "0.004100000000000001"
      ]
     },
     "execution_count": 71,
     "metadata": {},
     "output_type": "execute_result"
    }
   ],
   "source": [
    "(82 * delta_t )/T"
   ]
  },
  {
   "cell_type": "code",
   "execution_count": 72,
   "id": "46983e12",
   "metadata": {},
   "outputs": [
    {
     "data": {
      "text/plain": [
       "(20004, 2004)"
      ]
     },
     "execution_count": 72,
     "metadata": {},
     "output_type": "execute_result"
    }
   ],
   "source": [
    "E_complex.shape"
   ]
  },
  {
   "cell_type": "code",
   "execution_count": 73,
   "id": "3f909b87",
   "metadata": {},
   "outputs": [
    {
     "name": "stderr",
     "output_type": "stream",
     "text": [
      "C:\\Users\\nickd\\OneDrive\\Documents\\GitHub\\PFURO-2023-PRIV\\Code\\pfurovenv\\Lib\\site-packages\\matplotlib\\cbook\\__init__.py:1335: ComplexWarning: Casting complex values to real discards the imaginary part\n",
      "  return np.asarray(x, float)\n"
     ]
    },
    {
     "data": {
      "text/plain": [
       "[<matplotlib.lines.Line2D at 0x28f00905a90>]"
      ]
     },
     "execution_count": 73,
     "metadata": {},
     "output_type": "execute_result"
    },
    {
     "data": {
      "image/png": "[encoded data removed]",
      "text/plain": [
       "<Figure size 640x480 with 1 Axes>"
      ]
     },
     "metadata": {},
     "output_type": "display_data"
    }
   ],
   "source": [
    "plt.plot(x/nm, E_complex[19999, :])"
   ]
  },
  {
   "cell_type": "code",
   "execution_count": 13,
   "id": "a4ef2716",
   "metadata": {},
   "outputs": [],
   "source": [
    "cos_term_0_t_nm1 = E_0 * np.cos((wavenumber * x[0]) - (angular_frequency * t) + np.pi/2)\n",
    "sin_term_0_t_nm1 = E_0 * np.sin((wavenumber * x[0]) - (angular_frequency * t) + np.pi/2)\n",
    "\n",
    "cos_term_1_t_nm1 = E_0 * np.cos((wavenumber * x[1]) - (angular_frequency * t) + np.pi/2)\n",
    "sin_term_1_t_nm1 = E_0 * np.sin((wavenumber * x[1]) - (angular_frequency * t) + np.pi/2)"
   ]
  },
  {
   "cell_type": "code",
   "execution_count": 14,
   "id": "12618548",
   "metadata": {},
   "outputs": [
    {
     "data": {
      "text/plain": [
       "[<matplotlib.lines.Line2D at 0x232c8da5890>]"
      ]
     },
     "execution_count": 14,
     "metadata": {},
     "output_type": "execute_result"
    },
    {
     "data": {
      "image/png": "[encoded data removed]",
      "text/plain": [
       "<Figure size 640x480 with 1 Axes>"
      ]
     },
     "metadata": {},
     "output_type": "display_data"
    }
   ],
   "source": [
    "plt.plot(E_0 * np.sin( angular_frequency * t - wavenumber * x[0] ))"
   ]
  },
  {
   "cell_type": "code",
   "execution_count": 15,
   "id": "0d49185f",
   "metadata": {},
   "outputs": [
    {
     "data": {
      "image/png": "[encoded data removed]",
      "text/plain": [
       "<Figure size 640x480 with 1 Axes>"
      ]
     },
     "metadata": {},
     "output_type": "display_data"
    }
   ],
   "source": [
    "plt.plot(cos_term_0_t_nm1)\n",
    "plt.plot(cos_term_1_t_nm1)\n",
    "plt.show()"
   ]
  },
  {
   "cell_type": "code",
   "execution_count": 13,
   "id": "e680a950",
   "metadata": {},
   "outputs": [
    {
     "name": "stderr",
     "output_type": "stream",
     "text": [
      "C:\\Users\\nickd\\OneDrive\\Documents\\GitHub\\PFURO-2023-PRIV\\Code\\pfurovenv\\Lib\\site-packages\\matplotlib\\cbook\\__init__.py:1335: ComplexWarning: Casting complex values to real discards the imaginary part\n",
      "  return np.asarray(x, float)\n"
     ]
    },
    {
     "data": {
      "image/png": "[encoded data removed]",
      "text/plain": [
       "<Figure size 640x480 with 1 Axes>"
      ]
     },
     "metadata": {},
     "output_type": "display_data"
    }
   ],
   "source": [
    "plt.plot(x/nm, E[9999, :])\n",
    "plt.plot(x/nm, E_complex[9999, :])\n",
    "format_title = \"{} * λ real over complex\".format(lambda_mult)\n",
    "plt.title(format_title)\n",
    "plt.legend([\"real: {} * λ\".format(lambda_mult), \"complex: {} * λ\".format(lambda_mult)])\n",
    "plt.savefig('{}_times_lambda.png'.format(lambda_mult))"
   ]
  },
  {
   "cell_type": "code",
   "execution_count": 68,
   "id": "837a0032",
   "metadata": {},
   "outputs": [],
   "source": [
    "cos_term_0_t_n = E_0 * np.cos((wavenumber * x[0]) - (angular_frequency * t))\n",
    "sin_term_0_t_n = E_0 * np.sin((wavenumber * x[0]) - (angular_frequency * t))\n",
    "\n",
    "cos_term_1_t_n = E_0 * np.cos((wavenumber * x[1]) - (angular_frequency * t))\n",
    "sin_term_1_t_n = E_0 * np.sin((wavenumber * x[1]) - (angular_frequency * t))"
   ]
  },
  {
   "cell_type": "code",
   "execution_count": 254,
   "id": "acd29865",
   "metadata": {},
   "outputs": [
    {
     "data": {
      "text/plain": [
       "923112.9862372458"
      ]
     },
     "execution_count": 254,
     "metadata": {},
     "output_type": "execute_result"
    }
   ],
   "source": [
    "cos_term_0_t_nm1"
   ]
  },
  {
   "cell_type": "code",
   "execution_count": 244,
   "id": "03ff8e22",
   "metadata": {},
   "outputs": [
    {
     "data": {
      "text/plain": [
       "[<matplotlib.lines.Line2D at 0x22b5a142a90>]"
      ]
     },
     "execution_count": 244,
     "metadata": {},
     "output_type": "execute_result"
    },
    {
     "data": {
      "image/png": "[encoded data removed]",
      "text/plain": [
       "<Figure size 640x480 with 1 Axes>"
      ]
     },
     "metadata": {},
     "output_type": "display_data"
    }
   ],
   "source": [
    "plt.plot(np.sqrt(cos_term_1_t_nm1 ** 2 + sin_term_1_t_nm1 ** 2))"
   ]
  },
  {
   "cell_type": "code",
   "execution_count": 289,
   "id": "c626c1b0",
   "metadata": {},
   "outputs": [],
   "source": [
    "from scipy.ndimage import gaussian_filter1d"
   ]
  },
  {
   "cell_type": "code",
   "execution_count": null,
   "id": "de13cc0d",
   "metadata": {
    "scrolled": false
   },
   "outputs": [],
   "source": [
    "plt.plot(x/nm, gaussian_filter1d(E[2000, :].real, 5))"
   ]
  },
  {
   "cell_type": "code",
   "execution_count": 92,
   "id": "fbd553ba",
   "metadata": {
    "collapsed": true
   },
   "outputs": [
    {
     "data": {
      "text/plain": [
       "[<matplotlib.lines.Line2D at 0x22b522fd610>]"
      ]
     },
     "execution_count": 92,
     "metadata": {},
     "output_type": "execute_result"
    },
    {
     "data": {
      "image/png": "[encoded data removed]",
      "text/plain": [
       "<Figure size 640x480 with 1 Axes>"
      ]
     },
     "metadata": {},
     "output_type": "display_data"
    }
   ],
   "source": [
    "plt.plot(E[10,:])"
   ]
  },
  {
   "cell_type": "code",
   "execution_count": 93,
   "id": "702f4e59",
   "metadata": {
    "collapsed": true
   },
   "outputs": [
    {
     "data": {
      "text/plain": [
       "[<matplotlib.lines.Line2D at 0x22b525b2990>]"
      ]
     },
     "execution_count": 93,
     "metadata": {},
     "output_type": "execute_result"
    },
    {
     "data": {
      "image/png": "[encoded data removed]",
      "text/plain": [
       "<Figure size 640x480 with 1 Axes>"
      ]
     },
     "metadata": {},
     "output_type": "display_data"
    }
   ],
   "source": [
    "plt.plot(E[20, :])"
   ]
  },
  {
   "cell_type": "code",
   "execution_count": null,
   "id": "da0ea3c0",
   "metadata": {},
   "outputs": [],
   "source": [
    "plt.plot()"
   ]
  },
  {
   "cell_type": "code",
   "execution_count": 85,
   "id": "80bc5e91",
   "metadata": {},
   "outputs": [
    {
     "data": {
      "text/plain": [
       "0.082"
      ]
     },
     "execution_count": 85,
     "metadata": {},
     "output_type": "execute_result"
    }
   ],
   "source": [
    "(delta_t * 820) / period "
   ]
  },
  {
   "cell_type": "code",
   "execution_count": 42,
   "id": "ea888186",
   "metadata": {},
   "outputs": [],
   "source": [
    "r_const_complex = ( (delta_t/delta_x) * (speed_of_light/complex_refractive_index) ) ** 2"
   ]
  },
  {
   "cell_type": "code",
   "execution_count": 43,
   "id": "6f1af768",
   "metadata": {},
   "outputs": [
    {
     "data": {
      "text/plain": [
       "(-0.00022620085993920567-6.0381765805633185e-05j)"
      ]
     },
     "execution_count": 43,
     "metadata": {},
     "output_type": "execute_result"
    }
   ],
   "source": [
    "r_const_complex"
   ]
  },
  {
   "cell_type": "code",
   "execution_count": 38,
   "id": "518bb77e",
   "metadata": {},
   "outputs": [
    {
     "data": {
      "text/plain": [
       "(76350402.8111051-6491847.304042041j)"
      ]
     },
     "execution_count": 38,
     "metadata": {},
     "output_type": "execute_result"
    }
   ],
   "source": [
    "complex(cos_term_0_t_nm1, sin_term_0_t_nm1)"
   ]
  },
  {
   "cell_type": "code",
   "execution_count": 26,
   "id": "712703c2",
   "metadata": {},
   "outputs": [
    {
     "data": {
      "text/plain": [
       "(10004, 1004)"
      ]
     },
     "execution_count": 26,
     "metadata": {},
     "output_type": "execute_result"
    }
   ],
   "source": [
    "E_complex.shape"
   ]
  },
  {
   "cell_type": "code",
   "execution_count": 29,
   "id": "2d39687e",
   "metadata": {},
   "outputs": [
    {
     "data": {
      "text/plain": [
       "<matplotlib.legend.Legend at 0x162287afcd0>"
      ]
     },
     "execution_count": 29,
     "metadata": {},
     "output_type": "execute_result"
    },
    {
     "data": {
      "image/png": "[encoded data removed]",
      "text/plain": [
       "<Figure size 640x480 with 1 Axes>"
      ]
     },
     "metadata": {},
     "output_type": "display_data"
    }
   ],
   "source": []
  },
  {
   "cell_type": "markdown",
   "id": "bf52f226",
   "metadata": {},
   "source": [
    "## Laser source\n",
    "\n",
    "Plot an animated wave through time."
   ]
  },
  {
   "cell_type": "code",
   "execution_count": null,
   "id": "22ead11f",
   "metadata": {},
   "outputs": [],
   "source": [
    "plt.plot(E)\n",
    "plt.legend\n",
    "plt.show()"
   ]
  },
  {
   "cell_type": "code",
   "execution_count": null,
   "id": "b6ebe25a",
   "metadata": {},
   "outputs": [],
   "source": [
    "%matplotlib notebook"
   ]
  },
  {
   "cell_type": "code",
   "execution_count": null,
   "id": "bd3ba60b",
   "metadata": {},
   "outputs": [],
   "source": [
    "Y_UPPER_LIMIT = 3 * 10**8\n",
    "Y_LOWER_LIMIT = -3 * 10**8"
   ]
  },
  {
   "cell_type": "code",
   "execution_count": null,
   "id": "aadb594f",
   "metadata": {},
   "outputs": [],
   "source": [
    "fig, ax = plt.subplots()\n",
    "ax.set(xlim=(0, 100), ylim=(Y_LOWER_LIMIT, Y_UPPER_LIMIT))\n",
    "\n",
    "line = ax.plot(x, E[:,0], color='k', lw=2)[0]\n",
    "\n",
    "def animate(i):\n",
    "    line.set_ydata(E[:,i])\n",
    "    \n",
    "anim = FuncAnimation(fig, animate, interval=1, frames=100)\n",
    " \n",
    "anim.save('filename.gif')\n",
    "    \n",
    "# plt.draw()\n",
    "plt.show()"
   ]
  },
  {
   "cell_type": "code",
   "execution_count": null,
   "id": "e3d03d56",
   "metadata": {
    "scrolled": false
   },
   "outputs": [],
   "source": [
    "# initializing a figure in \n",
    "# which the graph will be plotted\n",
    "fig = plt.figure() \n",
    "   \n",
    "# marking the x-axis and y-axis\n",
    "axis = plt.axes(xlim=(0, 100), ylim=(Y_LOWER_LIMIT, Y_UPPER_LIMIT)) \n",
    "  \n",
    "# initializing a line variable\n",
    "line, = axis.plot([], [], lw = 3) \n",
    "\n",
    "# data which the line will \n",
    "# contain (x, y)\n",
    "def init(): \n",
    "    line.set_data([])\n",
    "    return line,\n",
    "   \n",
    "def animate(i):\n",
    "#     x = np.linspace(0, 4, 1000)\n",
    "   \n",
    "    # plots a sine graph\n",
    "#     y = np.sin(2 * np.pi * (x - 0.01 * i))\n",
    "    line.set_data(E[i])\n",
    "      \n",
    "    return line,\n",
    "   \n",
    "anim = FuncAnimation(fig, animate, init_func = init,\n",
    "                     frames = 1, interval = 20, blit = True)\n",
    "  \n",
    "anim.save('test.gif')\n",
    "\n",
    "plt.show()"
   ]
  },
  {
   "cell_type": "code",
   "execution_count": null,
   "id": "c6d241c3",
   "metadata": {},
   "outputs": [],
   "source": []
  }
 ],
 "metadata": {
  "kernelspec": {
   "display_name": "Python 3 (ipykernel)",
   "language": "python",
   "name": "python3"
  },
  "language_info": {
   "codemirror_mode": {
    "name": "ipython",
    "version": 3
   },
   "file_extension": ".py",
   "mimetype": "text/x-python",
   "name": "python",
   "nbconvert_exporter": "python",
   "pygments_lexer": "ipython3",
   "version": "3.11.4"
  }
 },
 "nbformat": 4,
 "nbformat_minor": 5
}
