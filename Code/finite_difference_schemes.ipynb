{
 "cells": [
  {
   "cell_type": "code",
   "execution_count": 1,
   "id": "cc16b3f7",
   "metadata": {},
   "outputs": [
    {
     "data": {
      "application/javascript": [
       "MathJax.Hub.Config({\n",
       "    TeX: { equationNumbers: { autoNumber: \"AMS\" } }\n",
       "});\n",
       "// Code to be able to number equations in the markdown\n"
      ],
      "text/plain": [
       "<IPython.core.display.Javascript object>"
      ]
     },
     "metadata": {},
     "output_type": "display_data"
    }
   ],
   "source": [
    "%%javascript\n",
    "MathJax.Hub.Config({\n",
    "    TeX: { equationNumbers: { autoNumber: \"AMS\" } }\n",
    "});\n",
    "// Code to be able to number equations in the markdown"
   ]
  },
  {
   "cell_type": "code",
   "execution_count": 2,
   "id": "941d11c2",
   "metadata": {},
   "outputs": [],
   "source": [
    "import numpy as np\n",
    "import matplotlib.pyplot as plt\n",
    "# import matplotlib.animation as animation\n",
    "from matplotlib.animation import FuncAnimation\n",
    "from IPython.display import HTML"
   ]
  },
  {
   "cell_type": "markdown",
   "id": "c7c7ac6a",
   "metadata": {},
   "source": [
    "## Explicit finite difference scheme"
   ]
  },
  {
   "attachments": {
    "explicit_method_stencil.png": {
     "image/png": "[encoded data removed]"
    }
   },
   "cell_type": "markdown",
   "id": "71bd9635",
   "metadata": {},
   "source": [
    "### Rewriting equation in terms of row (position) and column (time) indicies.\n",
    "\n",
    "The equation (Eq. 4.0 in doc) given to me by Jack is: \n",
    "\n",
    "$$ E^{n+1}_i = \\left ( \\frac{\\Delta t}{\\Delta x} \\frac{c}{n} \\right )^2 (E^{n}_{i+1} - 2E^{n}_{i} + E^{n}_{i-1})-(-2E^{n}_{i} + E^{n-1}_{i}) $$\n",
    "\n",
    "I want to have the equation in terms of rows and columns, so ultimately I want to rewrite the following equation to be in the form of rows and columns: \n",
    "\n",
    "\\begin{equation}\n",
    "E^{n+1}_{i} = rE^{n}_{i-1} + (1-2r)E^{n}_{i} + rE^{n}_{i+1} - (-2E^{n}_{i} + E^{n-1}_{i})\n",
    "\\end{equation}\n",
    "\n",
    "where $ \\displaystyle r = \\left ( \\frac{\\Delta t}{\\Delta x} \\frac{c}{n} \\right )^2 $ and n is the position index and i is the time index (dimensionless)\n",
    "\n",
    "![explicit_method_stencil.png](attachment:explicit_method_stencil.png)\n",
    "\n",
    "Using the image above, we use [i,n] ; [i-1,n] ; [i+1,n] ; [i, n-1] and take a weighted average to find [i,n+1]."
   ]
  },
  {
   "cell_type": "markdown",
   "id": "a54ff6a2",
   "metadata": {},
   "source": [
    "### Defining global arrays for I, E, T_e, T_i, n_e, rho\n"
   ]
  },
  {
   "cell_type": "code",
   "execution_count": 3,
   "id": "70368a4a",
   "metadata": {},
   "outputs": [],
   "source": [
    "I = np.zeros((10, 10))\n",
    "E = np.zeros((10, 10))\n",
    "T_e = np.zeros((10, 10))\n",
    "T_i = np.zeros((10, 10))\n",
    "n_e = np.zeros((10, 10))\n",
    "rho = np.zeros((10, 10))"
   ]
  },
  {
   "cell_type": "markdown",
   "id": "1fcc0d3c",
   "metadata": {},
   "source": [
    "### Defining parameters needed to solve differential equation: $ \\nabla^{2} E - \\frac{n^2}{c^2} \\frac{\\partial^2 E}{\\partial t^{2}} = 0$"
   ]
  },
  {
   "cell_type": "code",
   "execution_count": 58,
   "id": "e330e215",
   "metadata": {},
   "outputs": [],
   "source": [
    "# Unit conversions\n",
    "ps = 10**-12    # picoseconds unit\n",
    "nm = 10**-9     # nanometers unit\n",
    "um = 10 ** -6   # micrometer unit\n",
    "    \n",
    "# Physical parameters\n",
    "RefractiveIndex = 1                         # unitless\n",
    "speed_of_light = 299792458                  # in m/s\n",
    "wavelength = 351 * nm\n",
    "CFL = 0.01\n",
    "\n",
    "# Physics formulas\n",
    "frequency = speed_of_light/wavelength       # in Hertz\n",
    "angular_frequency = 2 * np.pi * frequency   # in Hertz\n",
    "wavenumber = (2 * np.pi) / wavelength       # wave number 'k' will be imaginary part in the coming days (when we do it correctly)\n",
    "period = wavelength / speed_of_light\n",
    "\n",
    "# Grid and time parameters\n",
    "T = 1 * ps              # time in seconds (* picoseonds) (in the future, will represent modeling time)\n",
    "n_timestep = 1000        # n time step\n",
    "n_cycles = period / delta_t  # number of timesteps to finish one period\n",
    "ntimestep_dividedby_ncycle = n_timestep / n_cycles # equal to number of periods passing through simulation time \n",
    "L = 500 * nm            # length in SI units in meters\n",
    "n_cells = 10            # number of cells (can also think of as number of grid points)\n",
    "delta_x = L/n_cells     # spatial time-step (can also think of as grid spacing)\n",
    "# delta_t = T/n_timestep  # time related time-step\n",
    "delta_t = CFL * delta_x / speed_of_light"
   ]
  },
  {
   "cell_type": "markdown",
   "id": "32e10d66",
   "metadata": {},
   "source": [
    "### Initializing laser intensity and electric field"
   ]
  },
  {
   "cell_type": "code",
   "execution_count": 5,
   "id": "6d288bdc",
   "metadata": {},
   "outputs": [],
   "source": [
    "R = 25 * um # radius of laser\n",
    "E_L = 10 * (10 ** -6) # in joules laser energy (10 mu joules)\n",
    "Area_L = np.pi * R **2 # area of laser\n",
    "T_laser = 100 * ps # laser pulse time\n",
    "I_0 = E_L / (Area_L * T_laser) # laser intensities (SI unit is Joules/(m**2) * s )\n",
    "permittivity_free_space = 8.85418782 * 10 **-12\n",
    "\n",
    "# Electric field\n",
    "E_0 = np.sqrt( (2 * I_0) / (speed_of_light * RefractiveIndex * permittivity_free_space) ) # SI unit is voltage / m\n",
    "\n",
    "# Laser intensity\n",
    "I_0 = E_L / (Area_L * T_laser) # laser intensities (SI unit is Joules/(m**2) * s )"
   ]
  },
  {
   "cell_type": "markdown",
   "id": "f38ce331",
   "metadata": {},
   "source": [
    "### Solving Eq (1) explicitly: $E^{n+1}_{i} = rE^{n}_{i-1} + (1-2r)E^{n}_{i} + rE^{n}_{i+1} - (-2E^{n}_{i} + E^{n-1}_{i})$"
   ]
  },
  {
   "cell_type": "code",
   "execution_count": 7,
   "id": "53318814",
   "metadata": {},
   "outputs": [
    {
     "data": {
      "text/plain": [
       "1.1708099741455137e-15"
      ]
     },
     "execution_count": 7,
     "metadata": {},
     "output_type": "execute_result"
    }
   ],
   "source": [
    "period"
   ]
  },
  {
   "cell_type": "code",
   "execution_count": 8,
   "id": "432e62e1",
   "metadata": {},
   "outputs": [
    {
     "data": {
      "text/plain": [
       "5366528681791604.0"
      ]
     },
     "execution_count": 8,
     "metadata": {},
     "output_type": "execute_result"
    }
   ],
   "source": [
    "angular_frequency"
   ]
  },
  {
   "cell_type": "code",
   "execution_count": 9,
   "id": "e05eb7cb",
   "metadata": {},
   "outputs": [
    {
     "data": {
      "text/plain": [
       "17900812.84096748"
      ]
     },
     "execution_count": 9,
     "metadata": {},
     "output_type": "execute_result"
    }
   ],
   "source": [
    "wavenumber"
   ]
  },
  {
   "cell_type": "code",
   "execution_count": 10,
   "id": "4dc4ec7f",
   "metadata": {},
   "outputs": [
    {
     "data": {
      "text/plain": [
       "195891384.73574314"
      ]
     },
     "execution_count": 10,
     "metadata": {},
     "output_type": "execute_result"
    }
   ],
   "source": [
    "E_0"
   ]
  },
  {
   "cell_type": "code",
   "execution_count": 11,
   "id": "aa6539c5",
   "metadata": {},
   "outputs": [
    {
     "data": {
      "text/plain": [
       "1e-14"
      ]
     },
     "execution_count": 11,
     "metadata": {},
     "output_type": "execute_result"
    }
   ],
   "source": [
    "delta_t"
   ]
  },
  {
   "cell_type": "code",
   "execution_count": 60,
   "id": "2e4f0de2",
   "metadata": {},
   "outputs": [
    {
     "data": {
      "text/plain": [
       "array([-7.50e-08, -2.50e-08,  2.50e-08,  7.50e-08,  1.25e-07,  1.75e-07,\n",
       "        2.25e-07,  2.75e-07,  3.25e-07,  3.75e-07,  4.25e-07,  4.75e-07,\n",
       "        5.25e-07,  5.75e-07,  6.25e-07])"
      ]
     },
     "execution_count": 60,
     "metadata": {},
     "output_type": "execute_result"
    }
   ],
   "source": [
    "x"
   ]
  },
  {
   "cell_type": "code",
   "execution_count": 61,
   "id": "f3371069",
   "metadata": {},
   "outputs": [
    {
     "name": "stdout",
     "output_type": "stream",
     "text": [
      "1.5707963267948966\n"
     ]
    }
   ],
   "source": [
    "print(angular_frequency * tsim)"
   ]
  },
  {
   "cell_type": "code",
   "execution_count": 62,
   "id": "a21e614a",
   "metadata": {},
   "outputs": [
    {
     "name": "stdout",
     "output_type": "stream",
     "text": [
      "[-1.34256096 -0.44752032  0.44752032  1.34256096  2.23760161  3.13264225\n",
      "  4.02768289  4.92272353  5.81776417  6.71280482  7.60784546  8.5028861\n",
      "  9.39792674 10.29296738 11.18800803]\n"
     ]
    }
   ],
   "source": [
    "print(wavenumber * x)"
   ]
  },
  {
   "cell_type": "code",
   "execution_count": 63,
   "id": "c54609f6",
   "metadata": {
    "scrolled": false
   },
   "outputs": [
    {
     "data": {
      "text/plain": [
       "[<matplotlib.lines.Line2D at 0x22f9744a910>]"
      ]
     },
     "execution_count": 63,
     "metadata": {},
     "output_type": "execute_result"
    },
    {
     "data": {
      "image/png": "[encoded data removed]",
      "text/plain": [
       "<Figure size 640x480 with 1 Axes>"
      ]
     },
     "metadata": {},
     "output_type": "display_data"
    }
   ],
   "source": [
    "tsim = period/2\n",
    "plt.plot(E_0 * np.sin( angular_frequency * tsim - wavenumber * x))"
   ]
  },
  {
   "cell_type": "code",
   "execution_count": 64,
   "id": "b4dc3944",
   "metadata": {},
   "outputs": [
    {
     "name": "stdout",
     "output_type": "stream",
     "text": [
      "6.283185307179586\n",
      "190811367.97841793 6.283185307179586 -1.3425609630725615 1.1708099741455137e-15\n"
     ]
    }
   ],
   "source": [
    "tsim = period\n",
    "print(angular_frequency * tsim)\n",
    "print(E_0 * np.sin( angular_frequency * tsim - wavenumber * x[0]),  angular_frequency * tsim, wavenumber * x[0], tsim)"
   ]
  },
  {
   "cell_type": "code",
   "execution_count": 65,
   "id": "184d87a0",
   "metadata": {},
   "outputs": [
    {
     "name": "stdout",
     "output_type": "stream",
     "text": [
      "6.283185307179586 -1.3425609630725615 7.625746270252147\n",
      "190811367.97841793 6.283185307179586 -1.3425609630725615 1.1708099741455137e-15 5366528681791604.0\n"
     ]
    }
   ],
   "source": [
    "tsim = period\n",
    "print(angular_frequency * tsim, wavenumber * x[0], angular_frequency * tsim - wavenumber * x[0] )\n",
    "print(E_0 * np.sin( (angular_frequency * tsim) - (wavenumber * x[0]) ),  angular_frequency * tsim, wavenumber * x[0], tsim, angular_frequency)"
   ]
  },
  {
   "cell_type": "code",
   "execution_count": 66,
   "id": "d2a018e9",
   "metadata": {},
   "outputs": [
    {
     "name": "stdout",
     "output_type": "stream",
     "text": [
      "1.5707963267948966 -1.3425609630725615 2.913357289867458\n",
      "44322189.2948861 1.5707963267948966 -1.3425609630725615 2.9270249353637844e-16 5366528681791604.0\n"
     ]
    }
   ],
   "source": [
    "tsim = period / 4\n",
    "print(angular_frequency * tsim, wavenumber * x[0], angular_frequency * tsim - wavenumber * x[0]  )\n",
    "print(E_0 * np.sin( angular_frequency * tsim - wavenumber * x[0]),  angular_frequency * tsim, wavenumber * x[0], tsim, angular_frequency)"
   ]
  },
  {
   "cell_type": "code",
   "execution_count": 67,
   "id": "d28e3265",
   "metadata": {},
   "outputs": [
    {
     "data": {
      "text/plain": [
       "0.00010000000000000005"
      ]
     },
     "execution_count": 67,
     "metadata": {},
     "output_type": "execute_result"
    }
   ],
   "source": [
    "r_const"
   ]
  },
  {
   "cell_type": "code",
   "execution_count": 20,
   "id": "cd480031",
   "metadata": {},
   "outputs": [
    {
     "name": "stdout",
     "output_type": "stream",
     "text": [
      "1.9999999999999996e-07 5000000.000000001\n"
     ]
    }
   ],
   "source": [
    "print((delta_t/delta_x), (delta_x/delta_t))"
   ]
  },
  {
   "cell_type": "code",
   "execution_count": 21,
   "id": "fa157a12",
   "metadata": {},
   "outputs": [
    {
     "data": {
      "text/plain": [
       "1"
      ]
     },
     "execution_count": 21,
     "metadata": {},
     "output_type": "execute_result"
    }
   ],
   "source": [
    "RefractiveIndex"
   ]
  },
  {
   "cell_type": "code",
   "execution_count": 22,
   "id": "8bf85774",
   "metadata": {},
   "outputs": [
    {
     "data": {
      "text/plain": [
       "299792458"
      ]
     },
     "execution_count": 22,
     "metadata": {},
     "output_type": "execute_result"
    }
   ],
   "source": [
    "speed_of_light"
   ]
  },
  {
   "cell_type": "code",
   "execution_count": 37,
   "id": "7c7ef516",
   "metadata": {},
   "outputs": [
    {
     "data": {
      "text/plain": [
       "2.99792458e-06"
      ]
     },
     "execution_count": 37,
     "metadata": {},
     "output_type": "execute_result"
    }
   ],
   "source": [
    "speed_of_light * delta_t"
   ]
  },
  {
   "cell_type": "code",
   "execution_count": 38,
   "id": "2d5b0b3d",
   "metadata": {},
   "outputs": [
    {
     "data": {
      "text/plain": [
       "5.000000000000001e-08"
      ]
     },
     "execution_count": 38,
     "metadata": {},
     "output_type": "execute_result"
    }
   ],
   "source": [
    "delta_x"
   ]
  },
  {
   "cell_type": "code",
   "execution_count": 39,
   "id": "c933e3e6",
   "metadata": {},
   "outputs": [
    {
     "data": {
      "text/plain": [
       "1.9999999999999996e-07"
      ]
     },
     "execution_count": 39,
     "metadata": {},
     "output_type": "execute_result"
    }
   ],
   "source": [
    "delta_t/delta_x"
   ]
  },
  {
   "cell_type": "code",
   "execution_count": 59,
   "id": "2eca982b",
   "metadata": {
    "scrolled": true
   },
   "outputs": [
    {
     "name": "stdout",
     "output_type": "stream",
     "text": [
      "stop\n",
      "index 2420 n+1 244 i 2 E[n+1, i] 195931975.39770085 E[n+1, i]/E_0 1.0002072100414854 -19443.842576992043 -195951419.24027783 9946.015775949434\n",
      "stop\n",
      "index 2420 n+1 245 i 2 E[n+1, i] 196031466.82737666 E[n+1, i]/E_0 1.0007151008290769 -29391.825842753035 -196060858.6532194 9794.569236787152\n",
      "stop\n",
      "index 2420 n+1 246 i 2 E[n+1, i] 196101394.30174914 E[n+1, i]/E_0 1.0010720714761872 -29563.955303351053 -196130958.25705248 9642.3380621243\n",
      "stop\n",
      "index 2420 n+1 247 i 2 E[n+1, i] 196141590.83170834 E[n+1, i]/E_0 1.0012772695251644 -29730.944413265235 -196171321.77612162 9489.334447084611\n",
      "stop\n",
      "index 2420 n+1 248 i 2 E[n+1, i] 196151894.61414987 E[n+1, i]/E_0 1.0013298689922385 -29892.747517670217 -196181787.36166754 9335.570648671468\n",
      "stop\n",
      "index 2420 n+1 249 i 2 E[n+1, i] 196132149.07665336 E[n+1, i]/E_0 1.0012290705956008 -30049.31993804406 -196162198.3965914 9181.058984785928\n",
      "stop\n",
      "index 2420 n+1 250 i 2 E[n+1, i] 196082202.92117476 E[n+1, i]/E_0 1.0009741019784462 -30200.617982090676 -196112403.53915685 9025.811833240012\n",
      "stop\n",
      "index 2420 n+1 251 i 2 E[n+1, i] 196001910.1667427 E[n+1, i]/E_0 1.0005642179269327 -30346.598953469875 -196032256.76569617 8869.841630765093\n",
      "stop\n",
      "index 4420 n+1 452 i 2 E[n+1, i] -196375405.31205973 E[n+1, i]/E_0 -1.0024708619879814 25961.534007992967 196401366.84606773 -19019.91371134285\n",
      "stop\n",
      "index 4420 n+1 453 i 2 E[n+1, i] -197847806.53289485 E[n+1, i]/E_0 -1.009987278408343 20213.97035162259 197868020.5032465 -19061.110710789373\n",
      "stop\n",
      "index 4420 n+1 454 i 2 E[n+1, i] -199299738.97316253 E[n+1, i]/E_0 -1.0173992043704079 20468.780567441314 199320207.75372997 -19100.780739137674\n",
      "stop\n",
      "index 4420 n+1 455 i 2 E[n+1, i] -200730950.38625404 E[n+1, i]/E_0 -1.0247053521880989 20721.02717618061 200751671.4134302 -19138.920618451913\n",
      "stop\n",
      "index 4420 n+1 456 i 2 E[n+1, i] -202141191.1365617 E[n+1, i]/E_0 -1.0319044475041592 20970.662783875494 202162161.79934555 -19175.527293375333\n",
      "stop\n",
      "index 4420 n+1 457 i 2 E[n+1, i] -203530214.2464734 E[n+1, i]/E_0 -1.0389952295300533 21217.640395937327 203551431.88686934 -19210.59783137503\n",
      "stop\n",
      "index 4420 n+1 458 i 2 E[n+1, i] -204897775.4429588 E[n+1, i]/E_0 -1.0459764512837828 21461.913426317868 204919237.3563851 -19244.129422976832\n",
      "stop\n",
      "index 4420 n+1 459 i 2 E[n+1, i] -206243633.2037376 E[n+1, i]/E_0 -1.0528468798255708 21703.43570660137 206265336.6394442 -19276.11938199041\n",
      "stop\n",
      "index 4420 n+1 460 i 2 E[n+1, i] -207567548.80302134 E[n+1, i]/E_0 -1.059605296491366 21942.161495023076 207589490.96451637 -19306.56514572446\n",
      "stop\n",
      "index 4420 n+1 461 i 2 E[n+1, i] -208869286.3568197 E[n+1, i]/E_0 -1.0662504971241267 22178.045485412305 208891464.4023051 -19335.464275191982\n",
      "stop\n",
      "index 4420 n+1 462 i 2 E[n+1, i] -210148612.86780196 E[n+1, i]/E_0 -1.072781292302833 22411.042816058303 210171023.91061804 -19362.814455305655\n",
      "stop\n",
      "index 4420 n+1 463 i 2 E[n+1, i] -211405298.26970574 E[n+1, i]/E_0 -1.079196507569186 22641.109078497077 211427939.37878424 -19388.613495063335\n",
      "stop\n",
      "index 4420 n+1 464 i 2 E[n+1, i] -212639115.47128332 E[n+1, i]/E_0 -1.0854949836519499 22868.20032621762 212661983.67160952 -19412.859327723552\n",
      "stop\n",
      "index 4420 n+1 465 i 2 E[n+1, i] -213849840.3997776 E[n+1, i]/E_0 -1.09167557668889 23092.273083285618 213872932.6728609 -19435.550010971063\n",
      "stop\n",
      "index 4420 n+1 466 i 2 E[n+1, i] -215037252.043919 E[n+1, i]/E_0 -1.0977371584462665 23313.284352883067 215060565.32827187 -19456.68372707247\n",
      "stop\n",
      "index 4420 n+1 467 i 2 E[n+1, i] -216201132.49643463 E[n+1, i]/E_0 -1.1036786165358383 23531.191625761974 216224663.6880604 -19476.258783021844\n",
      "stop\n",
      "index 4420 n+1 468 i 2 E[n+1, i] -217341266.99606165 E[n+1, i]/E_0 -1.1094988546293363 23745.952888610635 217365012.94895026 -19494.27361067631\n",
      "stop\n",
      "index 4420 n+1 469 i 2 E[n+1, i] -218457443.96905634 E[n+1, i]/E_0 -1.1151967926703603 23957.526632330628 218481401.49568868 -19510.726766881722\n",
      "stop\n",
      "index 4420 n+1 470 i 2 E[n+1, i] -219549455.0701908 E[n+1, i]/E_0 -1.1207713670836639 24165.87186022306 219573620.94205102 -19525.61693358823\n",
      "stop\n",
      "index 4420 n+1 471 i 2 E[n+1, i] -220617095.22322914 E[n+1, i]/E_0 -1.126221530981778 24370.948096082288 220641466.17132524 -19538.94291795589\n",
      "stop\n",
      "index 4420 n+1 472 i 2 E[n+1, i] -221660162.6608753 E[n+1, i]/E_0 -1.131546254368941 24572.715392195627 221684735.3762675 -19550.703652450222\n",
      "stop\n",
      "index 4420 n+1 473 i 2 E[n+1, i] -222678458.9641842 E[n+1, i]/E_0 -1.1367445243422867 24771.134337247364 222703230.09852144 -19560.898194927715\n",
      "stop\n",
      "index 4420 n+1 474 i 2 E[n+1, i] -223671789.101429 E[n+1, i]/E_0 -1.1418153452902562 24966.166064125537 223696755.2674931 -19569.525728711324\n",
      "stop\n",
      "index 4420 n+1 475 i 2 E[n+1, i] -224639961.46641615 E[n+1, i]/E_0 -1.146757739088193 25157.772257629953 224665119.23867378 -19576.585562655862\n",
      "stop\n",
      "index 4420 n+1 476 i 2 E[n+1, i] -225582787.91624123 E[n+1, i]/E_0 -1.151570745291079 25345.915162079844 225608133.83140332 -19582.07713120341\n",
      "stop\n",
      "index 4420 n+1 477 i 2 E[n+1, i] -226500083.8084775 E[n+1, i]/E_0 -1.1562534213233797 25530.5575888197 226525614.3660663 -19585.999994428563\n",
      "stop\n",
      "index 4420 n+1 478 i 2 E[n+1, i] -227391668.03779012 E[n+1, i]/E_0 -1.1608048426659536 25711.662923621778 227417379.70071375 -19588.35383807374\n",
      "stop\n",
      "index 4420 n+1 479 i 2 E[n+1, i] -228257363.07196876 E[n+1, i]/E_0 -1.1652241030399946 25889.19513398372 228283252.26710275 -19589.138473574323\n",
      "stop\n",
      "index 4420 n+1 480 i 2 E[n+1, i] -229096994.9873711 E[n+1, i]/E_0 -1.1695103145879653 26063.118776320032 229123058.1061474 -19588.35383807374\n",
      "stop\n",
      "index 4420 n+1 481 i 2 E[n+1, i] -229910393.50377035 E[n+1, i]/E_0 -1.1736626080514911 26233.399003045673 229936626.9027734 -19585.999994428563\n",
      "stop\n",
      "index 4420 n+1 482 i 2 E[n+1, i] -230697392.01860008 E[n+1, i]/E_0 -1.177680132946174 26400.001569550688 230723792.02016962 -19582.077131203405\n",
      "stop\n",
      "index 4420 n+1 483 i 2 E[n+1, i] -231457827.64058873 E[n+1, i]/E_0 -1.1815620577332924 26562.892841064175 231484390.5334298 -19576.585562655862\n",
      "stop\n",
      "index 4420 n+1 484 i 2 E[n+1, i] -232191541.222778 E[n+1, i]/E_0 -1.1853075699883568 26722.039799406444 232218263.26257738 -19569.525728711324\n",
      "stop\n",
      "index 4420 n+1 485 i 2 E[n+1, i] -232898377.39491764 E[n+1, i]/E_0 -1.18891587656648 26877.410049627906 232925254.80496725 -19560.898194927715\n",
      "stop\n",
      "index 4420 n+1 486 i 2 E[n+1, i] -233578184.59523076 E[n+1, i]/E_0 -1.1923862037645352 27028.97182653333 233605213.56705728 -19550.703652450222\n",
      "stop\n",
      "index 4420 n+1 487 i 2 E[n+1, i] -234230815.1015428 E[n+1, i]/E_0 -1.195717797480065 27176.694001090287 234257991.79554388 -19538.942917955887\n",
      "stop\n",
      "index 4420 n+1 488 i 2 E[n+1, i] -234856125.0617681 E[n+1, i]/E_0 -1.1989099233669123 27320.546086720355 234883445.60785484 -19525.616933588226\n",
      "stop\n",
      "index 4420 n+1 489 i 2 E[n+1, i] -235453974.52374795 E[n+1, i]/E_0 -1.201961866987538 27460.498245471917 235481435.02199343 -19510.726766881722\n",
      "stop\n",
      "index 4420 n+1 490 i 2 E[n+1, i] -236024227.4644337 E[n+1, i]/E_0 -1.2048729339619997 27596.521294073296 236051823.9857278 -19494.27361067631\n",
      "stop\n",
      "index 4420 n+1 491 i 2 E[n+1, i] -236566751.8184096 E[n+1, i]/E_0 -1.2076424501135534 27728.586709864914 236594480.40511945 -19476.258783021844\n",
      "stop\n",
      "index 4420 n+1 492 i 2 E[n+1, i] -237081419.50574887 E[n+1, i]/E_0 -1.2102697616108589 27856.666636609472 237109276.17238548 -19456.68372707247\n",
      "stop\n",
      "index 4420 n+1 493 i 2 E[n+1, i] -237568106.45919797 E[n+1, i]/E_0 -1.2127542351067486 27980.73389017874 237596087.19308814 -19435.550010971056\n",
      "stop\n",
      "index 4420 n+1 494 i 2 E[n+1, i] -238026692.65068296 E[n+1, i]/E_0 -1.2150952578735417 28100.761964116067 238054793.41264707 -19412.85932772355\n",
      "stop\n",
      "index 4420 n+1 495 i 2 E[n+1, i] -238457062.11713287 E[n+1, i]/E_0 -1.2172922379348674 28216.725035073283 238485278.84216794 -19388.613495063335\n",
      "stop\n",
      "index 4420 n+1 496 i 2 E[n+1, i] -238859102.98561466 E[n+1, i]/E_0 -1.2193446041939764 28328.597968120946 238887431.5835828 -19362.814455305655\n",
      "stop\n",
      "index 4420 n+1 497 i 2 E[n+1, i] -239232707.4977745 E[n+1, i]/E_0 -1.2212518065585103 28436.356321930976 239261143.85409644 -19335.46427519198\n",
      "stop\n",
      "index 4420 n+1 498 i 2 E[n+1, i] -239577772.03358054 E[n+1, i]/E_0 -1.2230133160617054 28539.976353830465 239606312.00993437 -19306.56514572446\n",
      "stop\n",
      "index 4420 n+1 499 i 2 E[n+1, i] -239894197.13436183 E[n+1, i]/E_0 -1.224628624980003 28639.435024725717 239922836.56938657 -19276.11938199041\n",
      "stop\n",
      "index 4420 n+1 500 i 2 E[n+1, i] -240181887.52513924 E[n+1, i]/E_0 -1.226097246947046 28734.710003895558 240210622.23514313 -19244.12942297683\n",
      "stop\n",
      "index 4420 n+1 501 i 2 E[n+1, i] -240440752.136243 E[n+1, i]/E_0 -1.2274187170640343 28825.77967365284 240469577.91591665 -19210.597831375027\n",
      "stop\n",
      "index 4420 n+1 502 i 2 E[n+1, i] -240670704.12421286 E[n+1, i]/E_0 -1.2285925920064167 28912.623133873287 240699616.74734673 -19175.527293375333\n",
      "stop\n",
      "index 4420 n+1 503 i 2 E[n+1, i] -240871660.89197636 E[n+1, i]/E_0 -1.229618450126898 28995.22020639068 240900656.11218274 -19138.92061845191\n",
      "stop\n",
      "index 4420 n+1 504 i 2 E[n+1, i] -241043544.1083006 E[n+1, i]/E_0 -1.2304958915547388 29073.551439257622 241072617.65973985 -19100.78073913767\n",
      "stop\n",
      "index 4420 n+1 505 i 2 E[n+1, i] -241186279.72651395 E[n+1, i]/E_0 -1.2312245382913265 29147.598110870767 241215427.32462484 -19061.11071078937\n",
      "stop\n",
      "index 4420 n+1 506 i 2 E[n+1, i] -241299798.00249335 E[n+1, i]/E_0 -1.2318040343019987 29217.342233959964 241329015.3447273 -19019.91371134285\n",
      "stop\n",
      "index 4420 n+1 507 i 2 E[n+1, i] -241384033.5119133 E[n+1, i]/E_0 -1.2322340456040963 29282.766559440264 241413316.27847275 -18977.19304105843\n",
      "stop\n",
      "index 4420 n+1 508 i 2 E[n+1, i] -241438925.1667531 E[n+1, i]/E_0 -1.2325142603512322 29343.85458012613 241468269.02133325 -18932.95212225655\n",
      "stop\n",
      "index 4420 n+1 509 i 2 E[n+1, i] -241464416.23105863 E[n+1, i]/E_0 -1.2326443889137513 29400.59053430703 241493816.82159293 -18887.194499043617\n",
      "stop\n",
      "index 4420 n+1 510 i 2 E[n+1, i] -241460454.33595496 E[n+1, i]/E_0 -1.2326241639553692 29452.959409183695 241489907.29536414 -18839.923837028055\n",
      "stop\n",
      "index 4420 n+1 511 i 2 E[n+1, i] -241426991.49390712 E[n+1, i]/E_0 -1.2324533405059717 29500.946944164327 241456492.4408513 -18791.143923026688\n",
      "stop\n",
      "index 4420 n+1 512 i 2 E[n+1, i] -241363984.11222526 E[n+1, i]/E_0 -1.2321316960305555 29544.539634020086 241393528.65185928 -18740.85866476136\n",
      "stop\n",
      "index 4420 n+1 513 i 2 E[n+1, i] -241271393.0058115 E[n+1, i]/E_0 -1.2316590304943011 29583.72473189915 241300976.7305434 -18689.072090545924\n",
      "stop\n",
      "index 4420 n+1 514 i 2 E[n+1, i] -241149183.40914556 E[n+1, i]/E_0 -1.231035166423756 29618.49025219883 241178801.89939776 -18635.788348963495\n",
      "stop\n",
      "index 4420 n+1 515 i 2 E[n+1, i] -240997324.98750633 E[n+1, i]/E_0 -1.230259948964121 29648.82497329501 241026973.81247962 -18581.011708534123\n",
      "stop\n",
      "index 4420 n+1 516 i 2 E[n+1, i] -240815791.84742698 E[n+1, i]/E_0 -1.229333245932621 29674.718440128425 240845466.5658671 -18524.746557372866\n",
      "stop\n",
      "index 4420 n+1 517 i 2 E[n+1, i] -240604562.546381 E[n+1, i]/E_0 -1.2282549478679514 29696.160966647185 240634258.70734763 -18466.99740283823\n",
      "stop\n",
      "index 4420 n+1 518 i 2 E[n+1, i] -240363620.1016969 E[n+1, i]/E_0 -1.227024968075787 29713.143638105095 240393333.245335 -18407.768871171123\n",
      "stop\n",
      "index 4420 n+1 519 i 2 E[n+1, i] -240092951.9986996 E[n+1, i]/E_0 -1.2256432426703412 29725.658313215186 240122677.65701282 -18347.065707124213\n",
      "stop\n",
      "index 4420 n+1 520 i 2 E[n+1, i] -239792550.19807616 E[n+1, i]/E_0 -1.2241097306119693 29733.697626158086 239822283.8957023 -18284.89277358186\n",
      "stop\n",
      "index 4420 n+1 521 i 2 E[n+1, i] -239462411.14246428 E[n+1, i]/E_0 -1.2224244137407998 29737.25498844472 239492148.3974527 -18221.25505117053\n",
      "stop\n",
      "index 4420 n+1 522 i 2 E[n+1, i] -239102535.76226178 E[n+1, i]/E_0 -1.2205872968063927 29736.32459063305 239132272.0868524 -18156.157637859833\n",
      "stop\n",
      "index 4420 n+1 523 i 2 E[n+1, i] -238712929.48065537 E[n+1, i]/E_0 -1.2185984074934095 29730.901403898293 238742660.38205928 -18089.605748554084\n",
      "stop\n",
      "index 4420 n+1 524 i 2 E[n+1, i] -238293602.21786752 E[n+1, i]/E_0 -1.2164577964432934 29720.981181456533 238323323.19904897 -18021.604714674566\n",
      "stop\n",
      "index 4420 n+1 525 i 2 E[n+1, i] -237844568.39461982 E[n+1, i]/E_0 -1.21416553727195 29706.56045984106 237874274.95507967 -17952.15998373247\n",
      "stop\n",
      "index 4420 n+1 526 i 2 E[n+1, i] -237365846.9348121 E[n+1, i]/E_0 -1.2117217265834221 29687.636560031577 237395534.57137212 -17881.27711889241\n",
      "stop\n",
      "index 4420 n+1 527 i 2 E[n+1, i] -236857461.26741594 E[n+1, i]/E_0 -1.209126483979558 29664.207588435598 236887125.47500437 -17808.961798526845\n",
      "stop\n",
      "index 4420 n+1 528 i 2 E[n+1, i] -236319439.32758206 E[n+1, i]/E_0 -1.2063799520656626 29636.27243772205 236349075.60001978 -17735.219815761156\n",
      "stop\n",
      "index 4420 n+1 529 i 2 E[n+1, i] -235751813.55696067 E[n+1, i]/E_0 -1.2034822964521341 29603.830787506875 235781417.38774818 -17660.05707800956\n",
      "stop\n",
      "index 4420 n+1 530 i 2 E[n+1, i] -235154620.9032344 E[n+1, i]/E_0 -1.200433705752079 29566.883104890287 235184187.78633928 -17583.47960650187\n",
      "stop\n",
      "index 4420 n+1 531 i 2 E[n+1, i] -234527902.81886327 E[n+1, i]/E_0 -1.197234391574906 29525.43064484575 234557428.2495081 -17505.493535801153\n",
      "stop\n",
      "index 4420 n+1 532 i 2 E[n+1, i] -233871705.2590417 E[n+1, i]/E_0 -1.1938845885158957 29479.47545046038 233901184.73449215 -17426.105113312293\n",
      "stop\n",
      "index 4420 n+1 533 i 2 E[n+1, i] -233186078.6788671 E[n+1, i]/E_0 -1.1903845541417475 29429.020353026855 233215507.69922012 -17345.320698781503\n",
      "stop\n",
      "index 4420 n+1 534 i 2 E[n+1, i] -232471078.02972052 E[n+1, i]/E_0 -1.186734568972103 29374.068971986595 232500452.0986925 -17263.146763786848\n",
      "stop\n",
      "index 4420 n+1 535 i 2 E[n+1, i] -231726762.7548592 E[n+1, i]/E_0 -1.1829349364570467 29314.62571472428 231756077.38057393 -17179.589891219846\n",
      "stop\n",
      "index 4420 n+1 536 i 2 E[n+1, i] -230953196.78422168 E[n+1, i]/E_0 -1.1789859829505867 29250.695776213783 230982447.4799979 -17094.656774758078\n",
      "stop\n",
      "index 4420 n+1 537 i 2 E[n+1, i] -230150448.52844563 E[n+1, i]/E_0 -1.1748880576801164 29182.28513851539 230179630.81358415 -17008.35421832897\n",
      "stop\n",
      "index 4420 n+1 538 i 2 E[n+1, i] -229318590.87209946 E[n+1, i]/E_0 -1.1706415327118624 29109.400570124377 229347700.27266958 -16920.689135564768\n",
      "stop\n",
      "index 4420 n+1 539 i 2 E[n+1, i] -228457701.16612813 E[n+1, i]/E_0 -1.1662468029123223 29032.049625171283 228486733.2157533 -16831.66854924863\n",
      "stop\n",
      "index 4420 n+1 540 i 2 E[n+1, i] -227567861.2195143 E[n+1, i]/E_0 -1.1617042859056954 28950.24064247353 227596811.4601568 -16741.299590752118\n",
      "stop\n",
      "index 4420 n+1 541 i 2 E[n+1, i] -226649157.29015607 E[n+1, i]/E_0 -1.1570144220273142 28863.982744439054 226678021.2729005 -16649.58949946383\n",
      "stop\n",
      "index 4420 n+1 542 i 2 E[n+1, i] -225701680.074962 E[n+1, i]/E_0 -1.1521776742730818 28773.285835821713 225730453.36079782 -16556.545622209524\n",
      "stop\n",
      "index 4420 n+1 543 i 2 E[n+1, i] -224725524.69916558 E[n+1, i]/E_0 -1.1471945282449232 28678.16060232892 224754202.8597679 -16462.175412663495\n",
      "stop\n",
      "index 4420 n+1 544 i 2 E[n+1, i] -223720790.7048601 E[n+1, i]/E_0 -1.1420654920922568 28578.618509081578 223749369.32336918 -16366.486430751558\n",
      "stop\n",
      "index 4420 n+1 545 i 2 E[n+1, i] -222687582.03875569 E[n+1, i]/E_0 -1.136791096449497 28474.6717989267 222716056.7105546 -16269.486342045342\n",
      "stop\n",
      "index 4420 n+1 546 i 2 E[n+1, i] -221626007.03916067 E[n+1, i]/E_0 -1.1313718943695938 28366.333490602876 221654373.37265128 -16171.182917148279\n",
      "stop\n",
      "index 4420 n+1 547 i 2 E[n+1, i] -220536178.4221889 E[n+1, i]/E_0 -1.1258084612536254 28253.617376759095 220564432.03956565 -16071.584031073058\n",
      "stop\n",
      "index 4420 n+1 548 i 2 E[n+1, i] -219418213.2671953 E[n+1, i]/E_0 -1.1201013947764462 28136.538021827055 219446349.80521715 -15970.69766261075\n",
      "stop\n",
      "index 4420 n+1 549 i 2 E[n+1, i] -218272233.001442 E[n+1, i]/E_0 -1.1142513148084106 28015.110759747375 218300248.11220172 -15868.53189369171\n",
      "stop\n",
      "index 4420 n+1 550 i 2 E[n+1, i] -217098363.3839971 E[n+1, i]/E_0 -1.108258863333179 27889.351691550364 217126252.73568866 -15765.094908738058\n",
      "stop\n",
      "index 4420 n+1 551 i 2 E[n+1, i] -215896734.48886946 E[n+1, i]/E_0 -1.102124704361621 27759.27768279135 215924493.76655224 -15660.394994008093\n",
      "stop\n",
      "index 4420 n+1 552 i 2 E[n+1, i] -214667480.68738097 E[n+1, i]/E_0 -1.0958495238418307 27624.906360841476 214695105.5937418 -15554.440536932434\n",
      "stop\n",
      "index 4420 n+1 553 i 2 E[n+1, i] -213410740.62978044 E[n+1, i]/E_0 -1.0894340295652658 27486.256112034072 213438226.88589248 -15447.240025442145\n",
      "stop\n",
      "index 4420 n+1 554 i 2 E[n+1, i] -212126657.22610125 E[n+1, i]/E_0 -1.0828789510690295 27343.346078667357 212154000.5721799 -15338.80204728875\n",
      "stop\n",
      "index 4420 n+1 555 i 2 E[n+1, i] -210815377.62626618 E[n+1, i]/E_0 -1.0761850395343087 27196.196155863952 210842573.82242206 -15229.135289356316\n",
      "stop\n",
      "index 4420 n+1 556 i 2 E[n+1, i] -209477053.19944283 E[n+1, i]/E_0 -1.0693530676809841 27044.826988287765 209504098.0264311 -15118.24853696549\n",
      "stop\n",
      "index 4420 n+1 557 i 2 E[n+1, i] -208111839.51265275 E[n+1, i]/E_0 -1.0623838296584354 26889.259966718793 208138728.7726195 -15006.15067316979\n",
      "stop\n",
      "index 4420 n+1 558 i 2 E[n+1, i] -206719896.3086382 E[n+1, i]/E_0 -1.0552781409325513 26729.51722448668 206746625.82586268 -14892.850678043887\n",
      "stop\n",
      "index 4420 n+1 559 i 2 E[n+1, i] -205301387.48298985 E[n+1, i]/E_0 -1.048036838168972 26565.621633763312 205327953.10462362 -14778.357627964346\n",
      "stop\n",
      "index 4420 n+1 560 i 2 E[n+1, i] -203856481.06053978 E[n+1, i]/E_0 -1.0406607791125757 26397.596801715583 203882878.6573415 -14662.680694882405\n",
      "stop\n",
      "index 4420 n+1 561 i 2 E[n+1, i] -202385349.1710232 E[n+1, i]/E_0 -1.0331508424632374 26225.467066518657 202411574.63808972 -14545.829145589316\n",
      "stop\n",
      "index 4420 n+1 562 i 2 E[n+1, i] -200888168.02401337 E[n+1, i]/E_0 -1.0255079277478736 26049.257493230743 200914217.2815066 -14427.812340973911\n",
      "stop\n",
      "index 4420 n+1 563 i 2 E[n+1, i] -199365117.883134 E[n+1, i]/E_0 -1.0177329551887997 25868.993869529946 199390986.87700355 -14308.639735272747\n",
      "stop\n",
      "index 4420 n+1 564 i 2 E[n+1, i] -197816383.03955334 E[n+1, i]/E_0 -1.0098268655684222 25684.7027013141 197842067.74225464 -14188.32087531272\n",
      "stop\n",
      "index 4420 n+1 565 i 2 E[n+1, i] -196242151.78476453 E[n+1, i]/E_0 -1.0017906200902842 25496.411208164365 196267648.19597268 -14066.86539974632\n",
      "stop\n",
      "index 7661 n+1 890 i 3 E[n+1, i] 196653946.83531603 E[n+1, i]/E_0 1.0038927801781665 -21422.11668930074 -196675368.95200533 15042.29841327887\n",
      "stop\n",
      "index 7662 n+1 891 i 3 E[n+1, i] 197426951.47390234 E[n+1, i]/E_0 1.0078388681576307 -24327.157351701342 -197451278.63125405 15003.632015361882\n",
      "stop\n",
      "index 7663 n+1 892 i 3 E[n+1, i] 198175436.32775435 E[n+1, i]/E_0 1.011659785830257 -24519.784734311237 -198199956.11248866 14965.60556046925\n",
      "stop\n",
      "index 7664 n+1 893 i 3 E[n+1, i] 198899214.31955373 E[n+1, i]/E_0 1.0153545781907058 -24706.86205262168 -198923921.18160635 14928.225212929208\n",
      "stop\n",
      "index 7665 n+1 894 i 3 E[n+1, i] 199598103.96511847 E[n+1, i]/E_0 1.0189223187858705 -24888.346234638688 -199622992.31135312 14891.496629272076\n",
      "stop\n",
      "index 7666 n+1 895 i 3 E[n+1, i] 200271929.41484615 E[n+1, i]/E_0 1.0223621099264388 -25064.195837050156 -200296993.6106832 14855.424955973554\n",
      "stop\n",
      "index 7667 n+1 896 i 3 E[n+1, i] 200920520.49351823 E[n+1, i]/E_0 1.0256730828900893 -25234.371055602685 -200945754.86457384 14820.014827366564\n",
      "stop\n",
      "index 7668 n+1 897 i 3 E[n+1, i] 201543712.73845533 E[n+1, i]/E_0 1.028854398116268 -25398.83373498121 -201569111.5721903 14785.270363722453\n",
      "stop\n",
      "index 7669 n+1 898 i 3 E[n+1, i] 202141347.43601424 E[n+1, i]/E_0 1.031905245392503 -25557.547378188836 -202166904.98339242 14751.195169502247\n",
      "stop\n",
      "index 7670 n+1 899 i 3 E[n+1, i] 202713271.65641773 E[n+1, i]/E_0 1.0348248440322034 -25710.477155424232 -202738982.13357314 14717.792331778632\n",
      "stop\n",
      "index 7671 n+1 900 i 3 E[n+1, i] 203259338.28690878 E[n+1, i]/E_0 1.037612443043909 -25857.589912454285 -203285195.87682122 14685.06441882928\n",
      "stop\n",
      "index 7672 n+1 901 i 3 E[n+1, i] 203779406.06322134 E[n+1, i]/E_0 1.040267321291945 -25998.854178479673 -203805404.91739982 14653.0134789021\n",
      "stop\n",
      "index 7673 n+1 902 i 3 E[n+1, i] 204273339.5993604 E[n+1, i]/E_0 1.0427887876484436 -26134.240173491406 -204299473.8395339 14621.641039152879\n",
      "stop\n",
      "index 7674 n+1 903 i 3 E[n+1, i] 204741009.41568437 E[n+1, i]/E_0 1.0451761811367015 -26263.719815116237 -204767273.13549948 14590.948104755862\n",
      "stop\n",
      "index 7675 n+1 904 i 3 E[n+1, i] 205182291.9652834 E[n+1, i]/E_0 1.0474288710658393 -26387.266724949317 -205208679.23200834 14560.935158187578\n",
      "stop\n",
      "index 7676 n+1 905 i 3 E[n+1, i] 205597069.65864804 E[n+1, i]/E_0 1.0495462571567291 -26504.85623437234 -205623574.51488242 14531.602158684358\n",
      "stop\n",
      "index 7677 n+1 906 i 3 E[n+1, i] 205985230.88662285 E[n+1, i]/E_0 1.0515277696591725 -26616.465389855843 -206011847.3520127 14502.948541873784\n",
      "stop\n",
      "index 7678 n+1 907 i 3 E[n+1, i] 206346670.0416399 E[n+1, i]/E_0 1.0533728694602926 -26722.072957744233 -206373392.11459765 14474.973219580355\n",
      "stop\n",
      "index 7679 n+1 908 i 3 E[n+1, i] 206681287.5372284 E[n+1, i]/E_0 1.0550810481841293 -26821.659428522424 -206708109.19665694 14447.674579805574\n",
      "stop\n",
      "index 7680 n+1 909 i 3 E[n+1, i] 206988989.82579637 E[n+1, i]/E_0 1.056651828282412 -26915.20702056314 -207015905.03281692 14421.050486882565\n",
      "stop\n",
      "index 7681 n+1 910 i 3 E[n+1, i] 207269689.41468096 E[n+1, i]/E_0 1.058084763116495 -27002.699683353938 -207296692.11436433 14395.098281805354\n",
      "stop\n",
      "index 7682 n+1 911 i 3 E[n+1, i] 207523304.88046536 E[n+1, i]/E_0 1.0593794370304424 -27084.12310020337 -207550389.00356555 14369.81478273284\n",
      "stop\n",
      "index 7683 n+1 912 i 3 E[n+1, i] 207749760.88155934 E[n+1, i]/E_0 1.060535465415251 -27159.464690425684 -207776920.34624976 14345.19628566741\n",
      "stop\n",
      "index 7684 n+1 913 i 3 E[n+1, i] 207948988.16904232 E[n+1, i]/E_0 1.0615524947642023 -27228.713611003674 -207976216.88265333 14321.238565308215\n",
      "stop\n",
      "index 7685 n+1 914 i 3 E[n+1, i] 208120923.59576756 E[n+1, i]/E_0 1.0624302027193386 -27291.860757729613 -208148215.4565253 14297.93687607887\n",
      "stop\n",
      "index 7686 n+1 915 i 3 E[n+1, i] 208265510.12372696 E[n+1, i]/E_0 1.063168298109059 -27348.898765824008 -208292859.0224928 14275.285953329525\n",
      "stop\n",
      "index 7687 n+1 916 i 3 E[n+1, i] 208382696.82967633 E[n+1, i]/E_0 1.0637665209768359 -27399.822010032403 -208410096.65168637 14253.280014713006\n",
      "stop\n",
      "index 7688 n+1 917 i 3 E[n+1, i] 208472438.9090215 E[n+1, i]/E_0 1.0642246426010524 -27444.62660420053 -208499883.5356257 14231.912761734755\n",
      "stop\n",
      "index 7689 n+1 918 i 3 E[n+1, i] 208534697.67796633 E[n+1, i]/E_0 1.064542465505969 -27483.310400328042 -208562180.98836666 14211.17738147628\n",
      "stop\n",
      "index 7690 n+1 919 i 3 E[n+1, i] 208569440.57392406 E[n+1, i]/E_0 1.064719823463822 -27515.872987101593 -208596956.44691116 14191.06654849169\n",
      "stop\n",
      "index 7691 n+1 920 i 3 E[n+1, i] 208576641.1541939 E[n+1, i]/E_0 1.0647565814880686 -27542.315687907947 -208604183.4698818 14171.572426876884\n",
      "stop\n",
      "index 7692 n+1 921 i 3 E[n+1, i] 208556279.09290543 E[n+1, i]/E_0 1.0646526358177886 -27562.641558327865 -208583841.73446375 14152.686672510938\n",
      "stop\n",
      "index 7693 n+1 922 i 3 E[n+1, i] 208508340.17623386 E[n+1, i]/E_0 1.0644079138932576 -27576.855383112026 -208535917.03161696 14134.400435469082\n",
      "stop\n",
      "index 7694 n+1 923 i 3 E[n+1, i] 208432816.29588965 E[n+1, i]/E_0 1.064022374322714 -27584.96367264002 -208460401.25956228 14116.70436260677\n",
      "stop\n",
      "index 7695 n+1 924 i 3 E[n+1, i] 208329705.44088656 E[n+1, i]/E_0 1.063496006840335 -27586.974658863855 -208357292.41554543 14099.58860031409\n",
      "stop\n",
      "index 7696 n+1 925 i 3 E[n+1, i] 208199011.68759274 E[n+1, i]/E_0 1.0628288322554489 -27582.898290737437 -208226594.58588347 14083.042797439895\n",
      "stop\n",
      "index 7697 n+1 926 i 3 E[n+1, i] 208040745.1880698 E[n+1, i]/E_0 1.0620209023930078 -27572.746229133696 -208068317.93429893 14067.056108384872\n",
      "stop\n",
      "index 7698 n+1 927 i 3 E[n+1, i] 207854922.1567056 E[n+1, i]/E_0 1.0610723000253495 -27556.531841251224 -207882478.68854684 14051.617196362753\n",
      "stop\n",
      "index 7699 n+1 928 i 3 E[n+1, i] 207641564.85514688 E[n+1, i]/E_0 1.0599831387952803 -27534.270194512334 -207669099.1253414 14036.714236828804\n",
      "stop\n",
      "index 7700 n+1 929 i 3 E[n+1, i] 207400701.57553822 E[n+1, i]/E_0 1.058753563130513 -27505.978049954676 -207428207.55358818 14022.334921074718\n",
      "stop\n",
      "index 7701 n+1 930 i 3 E[n+1, i] 207132366.62207443 E[n+1, i]/E_0 1.0573837481494928 -27471.67385511874 -207159838.29592955 14008.46645998892\n",
      "stop\n",
      "index 7702 n+1 931 i 3 E[n+1, i] 206836600.2908742 E[n+1, i]/E_0 1.0558738995586567 -27431.377736433602 -206864031.66861063 13995.0955879813\n",
      "stop\n",
      "index 7703 n+1 932 i 3 E[n+1, i] 206513448.8481829 E[n+1, i]/E_0 1.0542242535411595 -27385.111491103544 -206540833.959674 13982.208567071319\n",
      "stop\n",
      "index 7704 n+1 933 i 3 E[n+1, i] 206162964.50691307 E[n+1, i]/E_0 1.0524350766371184 -27332.898578498232 -206190297.40549156 13969.791191138367\n",
      "stop\n",
      "index 7705 n+1 934 i 3 E[n+1, i] 205785205.4015322 E[n+1, i]/E_0 1.0505066656154165 -27274.7641110494 -205812480.16564324 13957.828790333228\n",
      "stop\n",
      "index 7706 n+1 935 i 3 E[n+1, i] 205380235.5613067 E[n+1, i]/E_0 1.0484393473371174 -27210.734844657018 -205407446.29615134 13946.306235649447\n",
      "stop\n",
      "index 7707 n+1 936 i 3 E[n+1, i] 204948124.88191256 E[n+1, i]/E_0 1.046233478610542 -27140.83916860802 -204975265.72108117 13935.207943653337\n",
      "stop\n",
      "index 7708 n+1 937 i 3 E[n+1, i] 204488949.09542343 E[n+1, i]/E_0 1.0438894460380603 -27065.107095011197 -204516014.20251843 13924.517881371328\n",
      "stop\n",
      "index 7709 n+1 938 i 3 E[n+1, i] 204002789.73868656 E[n+1, i]/E_0 1.0414076658546556 -26983.5702477514 -204029773.3089343 13914.219571333308\n",
      "stop\n",
      "index 7710 n+1 939 i 3 E[n+1, i] 203489734.12009874 E[n+1, i]/E_0 1.0387885837583197 -26896.26185096679 -203516630.3819497 13904.29609677054\n",
      "stop\n",
      "index 7711 n+1 940 i 3 E[n+1, i] 202949875.28479385 E[n+1, i]/E_0 1.03603267473234 -26803.216717053023 -202976678.50151092 13894.730106966743\n",
      "stop\n",
      "index 7712 n+1 941 i 3 E[n+1, i] 202383311.97825477 E[n+1, i]/E_0 1.033140442859543 -26704.471234197994 -202410016.44948897 13885.503822760797\n",
      "stop\n",
      "index 7713 n+1 942 i 3 E[n+1, i] 201790148.60836223 E[n+1, i]/E_0 1.0301124211285582 -26600.06335345141 -201816748.67171568 13876.599042199561\n",
      "stop\n",
      "index 7714 n+1 943 i 3 E[n+1, i] 201170495.20589435 E[n+1, i]/E_0 1.0269491712321739 -26490.03257533325 -201196985.2384697 13867.997146339214\n",
      "stop\n",
      "index 7715 n+1 944 i 3 E[n+1, i] 200524467.3834905 E[n+1, i]/E_0 1.0236512833578535 -26374.41993598542 -200550841.80342647 13859.679105193469\n",
      "stop\n",
      "index 7716 n+1 945 i 3 E[n+1, i] 199852186.29309377 E[n+1, i]/E_0 1.0202193759704836 -26253.267992871122 -199878439.56108665 13851.625483826998\n",
      "stop\n",
      "index 7717 n+1 946 i 3 E[n+1, i] 199153778.581887 E[n+1, i]/E_0 1.016654095587434 -26126.62081002644 -199179905.20269704 13843.816448592332\n",
      "stop\n",
      "index 7718 n+1 947 i 3 E[n+1, i] 198429376.34673738 E[n+1, i]/E_0 1.0129561165460033 -25994.523942868946 -198455370.87068024 13836.231773508474\n",
      "stop\n",
      "index 7719 n+1 948 i 3 E[n+1, i] 197679117.0871652 E[n+1, i]/E_0 1.0091261407633303 -25857.024422568084 -197704974.11158776 13828.850846779413\n",
      "stop\n",
      "index 7720 n+1 949 i 3 E[n+1, i] 196903143.65685305 E[n+1, i]/E_0 1.0051648974888547 -25714.170739982383 -196928857.82759303 13821.652677450675\n",
      "stop\n",
      "index 7721 n+1 950 i 3 E[n+1, i] 196101604.21371174 E[n+1, i]/E_0 1.0010731430494106 -25566.012829168598 -196127170.2265409 13814.61590220203\n"
     ]
    }
   ],
   "source": [
    "x = []  # spatial domain (can also think of as coordinates of grid points)\n",
    "t = []  # time domain\n",
    "\n",
    "# Creating arrays for the spatial and time domains. Starting at -2 in order to create ghost cells. And ending with + 3 for the same reason\n",
    "# The ghost cells are there so that in the matrix we can access all indeces\n",
    "# To append, using formula Dr. Woo gave me: X_i = delta_x(i + 1/2)\n",
    "for i in range(-2, n_cells + 3):\n",
    "    x.append(delta_x * (i + 0.5))\n",
    "\n",
    "for i in range(-2, n_timestep + 3):\n",
    "    t.append(delta_t * (i + 0.5))\n",
    "    \n",
    "x = np.array(x)\n",
    "t = np.array(t)\n",
    "\n",
    "# BEFORE: E = np.zeros((len(x), len(t)))\n",
    "E = np.zeros((len(t), len(x)))\n",
    "\n",
    "r_const = ( (delta_t/delta_x) * (speed_of_light/RefractiveIndex) ) ** 2 # our parameter\n",
    "\n",
    "# These loops will go through the grid. We start at 1 so as to not calculate the\n",
    "# value when the a time or spatial point is equal to 0.\n",
    "index = 0\n",
    "for n in range(1, (len(t) - 3)*1 + 0):\n",
    "    t_sim = t[n] # in seconds\n",
    "    \n",
    "    # Initial conditions in time:\n",
    "    E[n-1, 0] = E_0 * np.sin( angular_frequency * t[n-1] - wavenumber * x[0] )\n",
    "    E[n-1, 1] = E_0 * np.sin( angular_frequency * t[n-1] - wavenumber * x[1] )\n",
    "    \n",
    "    # Instantenously defining the boundary conditions/values of ghost cells on the RIGHT:\n",
    "    E[n, 0] = E_0 * np.sin( angular_frequency * t[n] - wavenumber * x[0] )\n",
    "    E[n, 1] = E_0 * np.sin( angular_frequency * t[n] - wavenumber * x[1] )\n",
    "    \n",
    "    # We have no laser on the left, so boundary conditions are just 0\n",
    "    E[n, -1] = 0\n",
    "    E[n, -2] = 0\n",
    "    \n",
    "#     print('E[n, 0]', E[n, 0], \"phase0\", angular_frequency * t[n] - wavenumber * x[0])\n",
    "#     print('E[n, 1]', E[n, 1], \"phase1\", angular_frequency * t[n] - wavenumber * x[1])\n",
    "    \n",
    "    # Initial conditions in time:\n",
    "    E[1, 2:] = 0\n",
    "    for i in range(2, len(x) - 3):\n",
    "#         E[n+1, i] = (r_const) * (E[n, i-1] + (1 - 2*r_const) * E[n, i] + r_const * E[n, i+1]) - (-2 * E[n, i] + E[n-1,i])\n",
    "        E[n+1, i] = (r_const) * (E[n, i+1] - 2*E[n, i] + E[n, i-1]) - (-2*E[n, i] + E[n-1, i])\n",
    "#         E[2, i] = (r_const) * (E[1, i+1] - 2*E[1, i] + E[1, i-1]) - (-2*E[1, i] + E[0, i])\n",
    "#         print('index', index, 'n+1', n+1, 'i', i, 'E[n+1, i]', E[n+1, i], 'E[n+1, i]/E_0', E[n+1, i]/E_0, (r_const) * (E[n, i+1] - 2*E[n, i] + E[n, i-1]), -2*E[n, i] + E[n-1, i], E[n, i-1] * r_const)\n",
    "\n",
    "        if abs(E[n+1, i]/E_0) > 1:\n",
    "            print('stop')\n",
    "            print('index', index, 'n+1', n+1, 'i', i, 'E[n+1, i]', E[n+1, i], 'E[n+1, i]/E_0', E[n+1, i]/E_0, (r_const) * (E[n, i+1] - 2*E[n, i] + E[n, i-1]), -2*E[n, i] + E[n-1, i], E[n, i-1] * r_const)\n",
    "            break\n",
    "    \n",
    "        index += 1\n"
   ]
  },
  {
   "cell_type": "code",
   "execution_count": 32,
   "id": "b36f7a16",
   "metadata": {},
   "outputs": [
    {
     "data": {
      "text/plain": [
       "array([0., 0., 0., 0., 0., 0., 0., 0., 0., 0., 0., 0., 0., 0., 0.])"
      ]
     },
     "execution_count": 32,
     "metadata": {},
     "output_type": "execute_result"
    }
   ],
   "source": [
    "E[1, :]"
   ]
  },
  {
   "cell_type": "code",
   "execution_count": 25,
   "id": "411f3f36",
   "metadata": {},
   "outputs": [
    {
     "data": {
      "text/plain": [
       "array([[0.00000000e+00, 0.00000000e+00, 0.00000000e+00, ...,\n",
       "        0.00000000e+00, 0.00000000e+00, 0.00000000e+00],\n",
       "       [0.00000000e+00, 0.00000000e+00, 0.00000000e+00, ...,\n",
       "        0.00000000e+00, 0.00000000e+00, 0.00000000e+00],\n",
       "       [1.93868293e+07, 1.64217084e+08, 0.00000000e+00, ...,\n",
       "        0.00000000e+00, 0.00000000e+00, 0.00000000e+00],\n",
       "       ...,\n",
       "       [0.00000000e+00, 0.00000000e+00, 0.00000000e+00, ...,\n",
       "        0.00000000e+00, 0.00000000e+00, 0.00000000e+00],\n",
       "       [0.00000000e+00, 0.00000000e+00, 0.00000000e+00, ...,\n",
       "        0.00000000e+00, 0.00000000e+00, 0.00000000e+00],\n",
       "       [0.00000000e+00, 0.00000000e+00, 0.00000000e+00, ...,\n",
       "        0.00000000e+00, 0.00000000e+00, 0.00000000e+00]])"
      ]
     },
     "execution_count": 25,
     "metadata": {},
     "output_type": "execute_result"
    }
   ],
   "source": [
    "E"
   ]
  },
  {
   "cell_type": "code",
   "execution_count": 21,
   "id": "707087a3",
   "metadata": {
    "scrolled": true
   },
   "outputs": [
    {
     "ename": "ValueError",
     "evalue": "'nan' is not in list",
     "output_type": "error",
     "traceback": [
      "\u001b[1;31m---------------------------------------------------------------------------\u001b[0m",
      "\u001b[1;31mValueError\u001b[0m                                Traceback (most recent call last)",
      "Cell \u001b[1;32mIn[21], line 2\u001b[0m\n\u001b[0;32m      1\u001b[0m \u001b[38;5;28;01mfor\u001b[39;00m i \u001b[38;5;129;01min\u001b[39;00m \u001b[38;5;28mrange\u001b[39m(\u001b[38;5;28mlen\u001b[39m(x)):\n\u001b[1;32m----> 2\u001b[0m     \u001b[38;5;28;43mlist\u001b[39;49m\u001b[43m(\u001b[49m\u001b[43mE\u001b[49m\u001b[43m[\u001b[49m\u001b[43mi\u001b[49m\u001b[43m,\u001b[49m\u001b[43m:\u001b[49m\u001b[43m]\u001b[49m\u001b[43m)\u001b[49m\u001b[38;5;241;43m.\u001b[39;49m\u001b[43mindex\u001b[49m\u001b[43m(\u001b[49m\u001b[38;5;124;43m'\u001b[39;49m\u001b[38;5;124;43mnan\u001b[39;49m\u001b[38;5;124;43m'\u001b[39;49m\u001b[43m)\u001b[49m\n",
      "\u001b[1;31mValueError\u001b[0m: 'nan' is not in list"
     ]
    }
   ],
   "source": [
    "for i in range(len(x)):\n",
    "    list(E[i,:]).index('nan')"
   ]
  },
  {
   "cell_type": "code",
   "execution_count": null,
   "id": "f5029cb8",
   "metadata": {},
   "outputs": [],
   "source": [
    "E.shape"
   ]
  },
  {
   "cell_type": "markdown",
   "id": "b01bdd08",
   "metadata": {},
   "source": [
    "# Remove all nan values from array\n",
    "E = E[:, ~np.isnan(E).any(axis=0)]"
   ]
  },
  {
   "cell_type": "code",
   "execution_count": null,
   "id": "6c194a66",
   "metadata": {},
   "outputs": [],
   "source": [
    "E.shape"
   ]
  },
  {
   "cell_type": "markdown",
   "id": "bf52f226",
   "metadata": {},
   "source": [
    "## Laser source\n",
    "\n",
    "Plot an animated wave through time."
   ]
  },
  {
   "cell_type": "code",
   "execution_count": 50,
   "id": "22ead11f",
   "metadata": {},
   "outputs": [
    {
     "data": {
      "image/png": "[encoded data removed]",
      "text/plain": [
       "<Figure size 640x480 with 1 Axes>"
      ]
     },
     "metadata": {},
     "output_type": "display_data"
    }
   ],
   "source": [
    "plt.plot(E)\n",
    "plt.show()"
   ]
  },
  {
   "cell_type": "code",
   "execution_count": null,
   "id": "b6ebe25a",
   "metadata": {},
   "outputs": [],
   "source": [
    "%matplotlib notebook"
   ]
  },
  {
   "cell_type": "code",
   "execution_count": null,
   "id": "bd3ba60b",
   "metadata": {},
   "outputs": [],
   "source": [
    "Y_UPPER_LIMIT = 3 * 10**8\n",
    "Y_LOWER_LIMIT = -3 * 10**8"
   ]
  },
  {
   "cell_type": "code",
   "execution_count": null,
   "id": "4d9f4030",
   "metadata": {},
   "outputs": [],
   "source": [
    "E.shape"
   ]
  },
  {
   "cell_type": "code",
   "execution_count": null,
   "id": "454e9102",
   "metadata": {
    "scrolled": true
   },
   "outputs": [],
   "source": [
    "E[:, 0].shape"
   ]
  },
  {
   "cell_type": "code",
   "execution_count": null,
   "id": "cd6e66e4",
   "metadata": {},
   "outputs": [],
   "source": []
  },
  {
   "cell_type": "code",
   "execution_count": null,
   "id": "aadb594f",
   "metadata": {},
   "outputs": [],
   "source": [
    "fig, ax = plt.subplots()\n",
    "ax.set(xlim=(0, 100), ylim=(Y_LOWER_LIMIT, Y_UPPER_LIMIT))\n",
    "\n",
    "line = ax.plot(x, E[:,0], color='k', lw=2)[0]\n",
    "\n",
    "def animate(i):\n",
    "    line.set_ydata(E[:,i])\n",
    "    \n",
    "anim = FuncAnimation(fig, animate, interval=1, frames=100)\n",
    " \n",
    "anim.save('filename.gif')\n",
    "    \n",
    "# plt.draw()\n",
    "plt.show()"
   ]
  },
  {
   "cell_type": "code",
   "execution_count": null,
   "id": "880a72fb",
   "metadata": {},
   "outputs": [],
   "source": [
    "line"
   ]
  },
  {
   "cell_type": "code",
   "execution_count": null,
   "id": "e3d03d56",
   "metadata": {
    "scrolled": false
   },
   "outputs": [],
   "source": [
    "# initializing a figure in \n",
    "# which the graph will be plotted\n",
    "fig = plt.figure() \n",
    "   \n",
    "# marking the x-axis and y-axis\n",
    "axis = plt.axes(xlim=(0, 100), ylim=(Y_LOWER_LIMIT, Y_UPPER_LIMIT)) \n",
    "  \n",
    "# initializing a line variable\n",
    "line, = axis.plot([], [], lw = 3) \n",
    "\n",
    "# data which the line will \n",
    "# contain (x, y)\n",
    "def init(): \n",
    "    line.set_data([])\n",
    "    return line,\n",
    "   \n",
    "def animate(i):\n",
    "#     x = np.linspace(0, 4, 1000)\n",
    "   \n",
    "    # plots a sine graph\n",
    "#     y = np.sin(2 * np.pi * (x - 0.01 * i))\n",
    "    line.set_data(E[i])\n",
    "      \n",
    "    return line,\n",
    "   \n",
    "anim = FuncAnimation(fig, animate, init_func = init,\n",
    "                     frames = 1, interval = 20, blit = True)\n",
    "  \n",
    "anim.save('test.gif')\n",
    "\n",
    "plt.show()"
   ]
  },
  {
   "cell_type": "code",
   "execution_count": null,
   "id": "14a8ad6b",
   "metadata": {},
   "outputs": [],
   "source": []
  }
 ],
 "metadata": {
  "kernelspec": {
   "display_name": "Python 3 (ipykernel)",
   "language": "python",
   "name": "python3"
  },
  "language_info": {
   "codemirror_mode": {
    "name": "ipython",
    "version": 3
   },
   "file_extension": ".py",
   "mimetype": "text/x-python",
   "name": "python",
   "nbconvert_exporter": "python",
   "pygments_lexer": "ipython3",
   "version": "3.11.4"
  }
 },
 "nbformat": 4,
 "nbformat_minor": 5
}
