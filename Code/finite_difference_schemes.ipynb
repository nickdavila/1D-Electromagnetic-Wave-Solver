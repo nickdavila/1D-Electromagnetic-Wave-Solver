{
 "cells": [
  {
   "cell_type": "code",
   "execution_count": 3,
   "id": "cc16b3f7",
   "metadata": {},
   "outputs": [
    {
     "data": {
      "application/javascript": [
       "MathJax.Hub.Config({\n",
       "    TeX: { equationNumbers: { autoNumber: \"AMS\" } }\n",
       "});\n",
       "// Code to be able to number equations in the markdown\n"
      ],
      "text/plain": [
       "<IPython.core.display.Javascript object>"
      ]
     },
     "metadata": {},
     "output_type": "display_data"
    }
   ],
   "source": [
    "%%javascript\n",
    "MathJax.Hub.Config({\n",
    "    TeX: { equationNumbers: { autoNumber: \"AMS\" } }\n",
    "});\n",
    "// Code to be able to number equations in the markdown"
   ]
  },
  {
   "cell_type": "code",
   "execution_count": 4,
   "id": "941d11c2",
   "metadata": {},
   "outputs": [],
   "source": [
    "import numpy as np\n",
    "import matplotlib.pyplot as plt\n",
    "# import matplotlib.animation as animation\n",
    "from matplotlib.animation import FuncAnimation\n",
    "from IPython.display import HTML"
   ]
  },
  {
   "cell_type": "markdown",
   "id": "c7c7ac6a",
   "metadata": {},
   "source": [
    "## Explicit finite difference scheme"
   ]
  },
  {
   "attachments": {
    "explicit_method_stencil.png": {
     "image/png": "[encoded data removed]"
    }
   },
   "cell_type": "markdown",
   "id": "71bd9635",
   "metadata": {},
   "source": [
    "### Rewriting equation in terms of row (position) and column (time) indicies.\n",
    "\n",
    "The equation (Eq. 4.0 in doc) given to me by Jack is: \n",
    "\n",
    "\\begin{equation}\n",
    "E^{n+1}_i = \\left ( \\frac{\\Delta t}{\\Delta x} \\frac{c}{n} \\right )^2 (E^{n}_{i+1} - 2E^{n}_{i} + E^{n}_{i-1})-(-2E^{n}_{i} + E^{n-1}_{i})\n",
    "\\end{equation}\n",
    "\n",
    "where $ \\displaystyle r = \\left ( \\frac{\\Delta t}{\\Delta x} \\frac{c}{n} \\right )^2 $ and n is the position index and i is the time index (dimensionless)\n",
    "\n",
    "![explicit_method_stencil.png](attachment:explicit_method_stencil.png)\n",
    "\n",
    "Using the image above, we use [i,n] ; [i-1,n] ; [i+1,n] ; [i, n-1] and take a weighted average to find [i,n+1]."
   ]
  },
  {
   "cell_type": "markdown",
   "id": "a54ff6a2",
   "metadata": {},
   "source": [
    "### Defining global arrays for I, E, T_e, T_i, n_e, rho\n"
   ]
  },
  {
   "cell_type": "code",
   "execution_count": 5,
   "id": "70368a4a",
   "metadata": {},
   "outputs": [],
   "source": [
    "I = np.zeros((10, 10))\n",
    "E = np.zeros((10, 10))\n",
    "T_e = np.zeros((10, 10))\n",
    "T_i = np.zeros((10, 10))\n",
    "n_e = np.zeros((10, 10))\n",
    "rho = np.zeros((10, 10))"
   ]
  },
  {
   "cell_type": "markdown",
   "id": "1fcc0d3c",
   "metadata": {},
   "source": [
    "### Defining parameters needed to solve differential equation: $ \\nabla^{2} E - \\frac{n^2}{c^2} \\frac{\\partial^2 E}{\\partial t^{2}} = 0$"
   ]
  },
  {
   "cell_type": "code",
   "execution_count": 6,
   "id": "e330e215",
   "metadata": {},
   "outputs": [],
   "source": [
    "# Unit conversions\n",
    "ps = 10**-12    # picoseconds unit\n",
    "nm = 10**-9     # nanometers unit\n",
    "um = 10 ** -6   # micrometer unit\n",
    "    \n",
    "# Physical parameters\n",
    "RefractiveIndex = 1                         # unitless\n",
    "speed_of_light = 299792458                  # in m/s\n",
    "wavelength = 351 * nm # we choose wavelength\n",
    "\n",
    "# time-step size “dt” is strictly controlled by Courant–Friedrichs–Lewy (CFL) condition \n",
    "#so that the wave propagation distance within a allowed time-step size cannot exceed the grid size “dx”.\n",
    "CFL = 0.1\n",
    "delta_x = 0.001 * wavelength\n",
    "delta_t = CFL * delta_x / speed_of_light    # time related time-step\n",
    "\n",
    "# Physics formulas\n",
    "frequency = speed_of_light/wavelength       # in Hertz\n",
    "angular_frequency = 2 * np.pi * frequency   # in Hertz\n",
    "wavenumber = (2 * np.pi) / wavelength       # wave number 'k' will be imaginary part in the coming days (when we do it correctly)\n",
    "period = wavelength / speed_of_light        # wave period (can also be calculated with 1/f)\n",
    "\n",
    "# Grid and time parameters\n",
    "lambda_mult = 1  # used for plot titles\n",
    "# T = 1 * ps              # time in seconds (* picoseonds) (in the future, will represent modeling time)\n",
    "T = lambda_mult * period\n",
    "n_timestep = int(T/delta_t)        # n time step\n",
    "n_cycles = period / delta_t  # number of timesteps to finish one period\n",
    "ntimestep_dividedby_ncycle = n_timestep / n_cycles # equal to number of periods passing through simulation time \n",
    "# L = 500 * nm            # length in SI units in meters\n",
    "\n",
    "L = wavelength * lambda_mult\n",
    "n_cells = int(L/delta_x)            # number of cells (can also think of as number of grid points)\n",
    "# delta_x = L/n_cells     # spatial time-step (can also think of as grid spacing)"
   ]
  },
  {
   "cell_type": "code",
   "execution_count": 65,
   "id": "2909333c",
   "metadata": {},
   "outputs": [
    {
     "data": {
      "text/plain": [
       "0.004100000000000001"
      ]
     },
     "execution_count": 65,
     "metadata": {},
     "output_type": "execute_result"
    }
   ],
   "source": [
    "(82 * delta_t) / T"
   ]
  },
  {
   "cell_type": "markdown",
   "id": "32e10d66",
   "metadata": {},
   "source": [
    "### Initializing laser intensity and electric field"
   ]
  },
  {
   "cell_type": "code",
   "execution_count": 7,
   "id": "6d288bdc",
   "metadata": {},
   "outputs": [],
   "source": [
    "R = 25 * um # radius of laser\n",
    "E_L = 10 * (10 ** -6) # in joules laser energy (10 mu joules)\n",
    "Area_L = np.pi * R **2 # area of laser\n",
    "T_laser = 100 * ps # laser pulse time\n",
    "I_0 = E_L / (Area_L * T_laser) # laser intensities (SI unit is Joules/(m**2) * s )\n",
    "permittivity_free_space = 8.85418782 * 10 **-12\n",
    "\n",
    "# Electric field\n",
    "E_0 = np.sqrt( (2 * I_0) / (speed_of_light * RefractiveIndex * permittivity_free_space) ) # SI unit is voltage / m\n",
    "\n",
    "# Laser intensity\n",
    "I_0 = E_L / (Area_L * T_laser) # laser intensities (SI unit is Joules/(m**2) * s )"
   ]
  },
  {
   "cell_type": "markdown",
   "id": "f38ce331",
   "metadata": {},
   "source": [
    "### Solving explicitly using Eq (1): $E^{n+1}_i = \\left ( \\frac{\\Delta t}{\\Delta x} \\frac{c}{n} \\right )^2 (E^{n}_{i+1} - 2E^{n}_{i} + E^{n}_{i-1})-(-2E^{n}_{i} + E^{n-1}_{i})$"
   ]
  },
  {
   "cell_type": "code",
   "execution_count": 8,
   "id": "2eca982b",
   "metadata": {},
   "outputs": [
    {
     "name": "stdout",
     "output_type": "stream",
     "text": [
      "r_const 0.010000000000000004\n",
      "index 999 n+1 3 i 2 E[n+1, i] 17736.115066370556 E[n+1, i]/E_0 9.054055690247185e-05 6658.732992478301 -11077.382073892255 6769.506813217224\n",
      "index 1000 n+1 3 i 3 E[n+1, i] 55.3869103694613 E[n+1, i]/E_0 2.8274296209697056e-07 55.3869103694613 0.0 55.3869103694613\n",
      "index 1001 n+1 3 i 4 E[n+1, i] 0.0 E[n+1, i]/E_0 0.0 0.0 0.0 0.0\n",
      "index 1002 n+1 3 i 5 E[n+1, i] 0.0 E[n+1, i]/E_0 0.0 0.0 0.0 0.0\n",
      "index 1003 n+1 3 i 6 E[n+1, i] 0.0 E[n+1, i]/E_0 0.0 0.0 0.0 0.0\n",
      "index 1004 n+1 3 i 7 E[n+1, i] 0.0 E[n+1, i]/E_0 0.0 0.0 0.0 0.0\n",
      "index 1005 n+1 3 i 8 E[n+1, i] 0.0 E[n+1, i]/E_0 0.0 0.0 0.0 0.0\n",
      "index 1006 n+1 3 i 9 E[n+1, i] 0.0 E[n+1, i]/E_0 0.0 0.0 0.0 0.0\n",
      "index 1007 n+1 3 i 10 E[n+1, i] 0.0 E[n+1, i]/E_0 0.0 0.0 0.0 0.0\n",
      "index 1008 n+1 3 i 11 E[n+1, i] 0.0 E[n+1, i]/E_0 0.0 0.0 0.0 0.0\n",
      "index 1009 n+1 3 i 12 E[n+1, i] 0.0 E[n+1, i]/E_0 0.0 0.0 0.0 0.0\n",
      "index 1010 n+1 3 i 13 E[n+1, i] 0.0 E[n+1, i]/E_0 0.0 0.0 0.0 0.0\n",
      "index 1011 n+1 3 i 14 E[n+1, i] 0.0 E[n+1, i]/E_0 0.0 0.0 0.0 0.0\n",
      "index 1012 n+1 3 i 15 E[n+1, i] 0.0 E[n+1, i]/E_0 0.0 0.0 0.0 0.0\n",
      "index 1013 n+1 3 i 16 E[n+1, i] 0.0 E[n+1, i]/E_0 0.0 0.0 0.0 0.0\n",
      "index 1014 n+1 3 i 17 E[n+1, i] 0.0 E[n+1, i]/E_0 0.0 0.0 0.0 0.0\n",
      "index 1015 n+1 3 i 18 E[n+1, i] 0.0 E[n+1, i]/E_0 0.0 0.0 0.0 0.0\n",
      "index 1016 n+1 3 i 19 E[n+1, i] 0.0 E[n+1, i]/E_0 0.0 0.0 0.0 0.0\n",
      "index 1017 n+1 3 i 20 E[n+1, i] 0.0 E[n+1, i]/E_0 0.0 0.0 0.0 0.0\n",
      "index 1018 n+1 3 i 21 E[n+1, i] 0.0 E[n+1, i]/E_0 0.0 0.0 0.0 0.0\n",
      "index 1019 n+1 3 i 22 E[n+1, i] 0.0 E[n+1, i]/E_0 0.0 0.0 0.0 0.0\n",
      "index 1020 n+1 3 i 23 E[n+1, i] 0.0 E[n+1, i]/E_0 0.0 0.0 0.0 0.0\n",
      "index 1021 n+1 3 i 24 E[n+1, i] 0.0 E[n+1, i]/E_0 0.0 0.0 0.0 0.0\n",
      "index 1022 n+1 3 i 25 E[n+1, i] 0.0 E[n+1, i]/E_0 0.0 0.0 0.0 0.0\n",
      "index 1023 n+1 3 i 26 E[n+1, i] 0.0 E[n+1, i]/E_0 0.0 0.0 0.0 0.0\n",
      "index 1024 n+1 3 i 27 E[n+1, i] 0.0 E[n+1, i]/E_0 0.0 0.0 0.0 0.0\n",
      "index 1025 n+1 3 i 28 E[n+1, i] 0.0 E[n+1, i]/E_0 0.0 0.0 0.0 0.0\n",
      "index 1026 n+1 3 i 29 E[n+1, i] 0.0 E[n+1, i]/E_0 0.0 0.0 0.0 0.0\n",
      "index 1027 n+1 3 i 30 E[n+1, i] 0.0 E[n+1, i]/E_0 0.0 0.0 0.0 0.0\n",
      "index 1028 n+1 3 i 31 E[n+1, i] 0.0 E[n+1, i]/E_0 0.0 0.0 0.0 0.0\n",
      "index 1029 n+1 3 i 32 E[n+1, i] 0.0 E[n+1, i]/E_0 0.0 0.0 0.0 0.0\n",
      "index 1030 n+1 3 i 33 E[n+1, i] 0.0 E[n+1, i]/E_0 0.0 0.0 0.0 0.0\n",
      "index 1031 n+1 3 i 34 E[n+1, i] 0.0 E[n+1, i]/E_0 0.0 0.0 0.0 0.0\n",
      "index 1032 n+1 3 i 35 E[n+1, i] 0.0 E[n+1, i]/E_0 0.0 0.0 0.0 0.0\n",
      "index 1033 n+1 3 i 36 E[n+1, i] 0.0 E[n+1, i]/E_0 0.0 0.0 0.0 0.0\n",
      "index 1034 n+1 3 i 37 E[n+1, i] 0.0 E[n+1, i]/E_0 0.0 0.0 0.0 0.0\n",
      "index 1035 n+1 3 i 38 E[n+1, i] 0.0 E[n+1, i]/E_0 0.0 0.0 0.0 0.0\n",
      "index 1036 n+1 3 i 39 E[n+1, i] 0.0 E[n+1, i]/E_0 0.0 0.0 0.0 0.0\n",
      "index 1037 n+1 3 i 40 E[n+1, i] 0.0 E[n+1, i]/E_0 0.0 0.0 0.0 0.0\n",
      "index 1038 n+1 3 i 41 E[n+1, i] 0.0 E[n+1, i]/E_0 0.0 0.0 0.0 0.0\n",
      "index 1039 n+1 3 i 42 E[n+1, i] 0.0 E[n+1, i]/E_0 0.0 0.0 0.0 0.0\n",
      "index 1040 n+1 3 i 43 E[n+1, i] 0.0 E[n+1, i]/E_0 0.0 0.0 0.0 0.0\n",
      "index 1041 n+1 3 i 44 E[n+1, i] 0.0 E[n+1, i]/E_0 0.0 0.0 0.0 0.0\n",
      "index 1042 n+1 3 i 45 E[n+1, i] 0.0 E[n+1, i]/E_0 0.0 0.0 0.0 0.0\n",
      "index 1043 n+1 3 i 46 E[n+1, i] 0.0 E[n+1, i]/E_0 0.0 0.0 0.0 0.0\n",
      "index 1044 n+1 3 i 47 E[n+1, i] 0.0 E[n+1, i]/E_0 0.0 0.0 0.0 0.0\n",
      "index 1045 n+1 3 i 48 E[n+1, i] 0.0 E[n+1, i]/E_0 0.0 0.0 0.0 0.0\n",
      "index 1046 n+1 3 i 49 E[n+1, i] 0.0 E[n+1, i]/E_0 0.0 0.0 0.0 0.0\n",
      "index 1047 n+1 3 i 50 E[n+1, i] 0.0 E[n+1, i]/E_0 0.0 0.0 0.0 0.0\n",
      "index 1048 n+1 3 i 51 E[n+1, i] 0.0 E[n+1, i]/E_0 0.0 0.0 0.0 0.0\n",
      "index 1049 n+1 3 i 52 E[n+1, i] 0.0 E[n+1, i]/E_0 0.0 0.0 0.0 0.0\n",
      "index 1050 n+1 3 i 53 E[n+1, i] 0.0 E[n+1, i]/E_0 0.0 0.0 0.0 0.0\n",
      "index 1051 n+1 3 i 54 E[n+1, i] 0.0 E[n+1, i]/E_0 0.0 0.0 0.0 0.0\n",
      "index 1052 n+1 3 i 55 E[n+1, i] 0.0 E[n+1, i]/E_0 0.0 0.0 0.0 0.0\n",
      "index 1053 n+1 3 i 56 E[n+1, i] 0.0 E[n+1, i]/E_0 0.0 0.0 0.0 0.0\n",
      "index 1054 n+1 3 i 57 E[n+1, i] 0.0 E[n+1, i]/E_0 0.0 0.0 0.0 0.0\n",
      "index 1055 n+1 3 i 58 E[n+1, i] 0.0 E[n+1, i]/E_0 0.0 0.0 0.0 0.0\n",
      "index 1056 n+1 3 i 59 E[n+1, i] 0.0 E[n+1, i]/E_0 0.0 0.0 0.0 0.0\n",
      "index 1057 n+1 3 i 60 E[n+1, i] 0.0 E[n+1, i]/E_0 0.0 0.0 0.0 0.0\n",
      "index 1058 n+1 3 i 61 E[n+1, i] 0.0 E[n+1, i]/E_0 0.0 0.0 0.0 0.0\n",
      "index 1059 n+1 3 i 62 E[n+1, i] 0.0 E[n+1, i]/E_0 0.0 0.0 0.0 0.0\n",
      "index 1060 n+1 3 i 63 E[n+1, i] 0.0 E[n+1, i]/E_0 0.0 0.0 0.0 0.0\n",
      "index 1061 n+1 3 i 64 E[n+1, i] 0.0 E[n+1, i]/E_0 0.0 0.0 0.0 0.0\n",
      "index 1062 n+1 3 i 65 E[n+1, i] 0.0 E[n+1, i]/E_0 0.0 0.0 0.0 0.0\n",
      "index 1063 n+1 3 i 66 E[n+1, i] 0.0 E[n+1, i]/E_0 0.0 0.0 0.0 0.0\n",
      "index 1064 n+1 3 i 67 E[n+1, i] 0.0 E[n+1, i]/E_0 0.0 0.0 0.0 0.0\n",
      "index 1065 n+1 3 i 68 E[n+1, i] 0.0 E[n+1, i]/E_0 0.0 0.0 0.0 0.0\n",
      "index 1066 n+1 3 i 69 E[n+1, i] 0.0 E[n+1, i]/E_0 0.0 0.0 0.0 0.0\n",
      "index 1067 n+1 3 i 70 E[n+1, i] 0.0 E[n+1, i]/E_0 0.0 0.0 0.0 0.0\n",
      "index 1068 n+1 3 i 71 E[n+1, i] 0.0 E[n+1, i]/E_0 0.0 0.0 0.0 0.0\n",
      "index 1069 n+1 3 i 72 E[n+1, i] 0.0 E[n+1, i]/E_0 0.0 0.0 0.0 0.0\n",
      "index 1070 n+1 3 i 73 E[n+1, i] 0.0 E[n+1, i]/E_0 0.0 0.0 0.0 0.0\n",
      "index 1071 n+1 3 i 74 E[n+1, i] 0.0 E[n+1, i]/E_0 0.0 0.0 0.0 0.0\n",
      "index 1072 n+1 3 i 75 E[n+1, i] 0.0 E[n+1, i]/E_0 0.0 0.0 0.0 0.0\n",
      "index 1073 n+1 3 i 76 E[n+1, i] 0.0 E[n+1, i]/E_0 0.0 0.0 0.0 0.0\n",
      "index 1074 n+1 3 i 77 E[n+1, i] 0.0 E[n+1, i]/E_0 0.0 0.0 0.0 0.0\n",
      "index 1075 n+1 3 i 78 E[n+1, i] 0.0 E[n+1, i]/E_0 0.0 0.0 0.0 0.0\n",
      "index 1076 n+1 3 i 79 E[n+1, i] 0.0 E[n+1, i]/E_0 0.0 0.0 0.0 0.0\n",
      "index 1077 n+1 3 i 80 E[n+1, i] 0.0 E[n+1, i]/E_0 0.0 0.0 0.0 0.0\n",
      "index 1078 n+1 3 i 81 E[n+1, i] 0.0 E[n+1, i]/E_0 0.0 0.0 0.0 0.0\n",
      "index 1079 n+1 3 i 82 E[n+1, i] 0.0 E[n+1, i]/E_0 0.0 0.0 0.0 0.0\n",
      "index 1080 n+1 3 i 83 E[n+1, i] 0.0 E[n+1, i]/E_0 0.0 0.0 0.0 0.0\n",
      "index 1081 n+1 3 i 84 E[n+1, i] 0.0 E[n+1, i]/E_0 0.0 0.0 0.0 0.0\n",
      "index 1082 n+1 3 i 85 E[n+1, i] 0.0 E[n+1, i]/E_0 0.0 0.0 0.0 0.0\n",
      "index 1083 n+1 3 i 86 E[n+1, i] 0.0 E[n+1, i]/E_0 0.0 0.0 0.0 0.0\n",
      "index 1084 n+1 3 i 87 E[n+1, i] 0.0 E[n+1, i]/E_0 0.0 0.0 0.0 0.0\n",
      "index 1085 n+1 3 i 88 E[n+1, i] 0.0 E[n+1, i]/E_0 0.0 0.0 0.0 0.0\n",
      "index 1086 n+1 3 i 89 E[n+1, i] 0.0 E[n+1, i]/E_0 0.0 0.0 0.0 0.0\n",
      "index 1087 n+1 3 i 90 E[n+1, i] 0.0 E[n+1, i]/E_0 0.0 0.0 0.0 0.0\n",
      "index 1088 n+1 3 i 91 E[n+1, i] 0.0 E[n+1, i]/E_0 0.0 0.0 0.0 0.0\n",
      "index 1089 n+1 3 i 92 E[n+1, i] 0.0 E[n+1, i]/E_0 0.0 0.0 0.0 0.0\n",
      "index 1090 n+1 3 i 93 E[n+1, i] 0.0 E[n+1, i]/E_0 0.0 0.0 0.0 0.0\n",
      "index 1091 n+1 3 i 94 E[n+1, i] 0.0 E[n+1, i]/E_0 0.0 0.0 0.0 0.0\n",
      "index 1092 n+1 3 i 95 E[n+1, i] 0.0 E[n+1, i]/E_0 0.0 0.0 0.0 0.0\n",
      "index 1093 n+1 3 i 96 E[n+1, i] 0.0 E[n+1, i]/E_0 0.0 0.0 0.0 0.0\n",
      "index 1094 n+1 3 i 97 E[n+1, i] 0.0 E[n+1, i]/E_0 0.0 0.0 0.0 0.0\n",
      "index 1095 n+1 3 i 98 E[n+1, i] 0.0 E[n+1, i]/E_0 0.0 0.0 0.0 0.0\n",
      "index 1096 n+1 3 i 99 E[n+1, i] 0.0 E[n+1, i]/E_0 0.0 0.0 0.0 0.0\n",
      "index 1097 n+1 3 i 100 E[n+1, i] 0.0 E[n+1, i]/E_0 0.0 0.0 0.0 0.0\n",
      "index 1098 n+1 3 i 101 E[n+1, i] 0.0 E[n+1, i]/E_0 0.0 0.0 0.0 0.0\n",
      "index 1099 n+1 3 i 102 E[n+1, i] 0.0 E[n+1, i]/E_0 0.0 0.0 0.0 0.0\n",
      "index 1100 n+1 3 i 103 E[n+1, i] 0.0 E[n+1, i]/E_0 0.0 0.0 0.0 0.0\n",
      "index 1101 n+1 3 i 104 E[n+1, i] 0.0 E[n+1, i]/E_0 0.0 0.0 0.0 0.0\n",
      "index 1102 n+1 3 i 105 E[n+1, i] 0.0 E[n+1, i]/E_0 0.0 0.0 0.0 0.0\n",
      "index 1103 n+1 3 i 106 E[n+1, i] 0.0 E[n+1, i]/E_0 0.0 0.0 0.0 0.0\n",
      "index 1104 n+1 3 i 107 E[n+1, i] 0.0 E[n+1, i]/E_0 0.0 0.0 0.0 0.0\n",
      "index 1105 n+1 3 i 108 E[n+1, i] 0.0 E[n+1, i]/E_0 0.0 0.0 0.0 0.0\n",
      "index 1106 n+1 3 i 109 E[n+1, i] 0.0 E[n+1, i]/E_0 0.0 0.0 0.0 0.0\n",
      "index 1107 n+1 3 i 110 E[n+1, i] 0.0 E[n+1, i]/E_0 0.0 0.0 0.0 0.0\n",
      "index 1108 n+1 3 i 111 E[n+1, i] 0.0 E[n+1, i]/E_0 0.0 0.0 0.0 0.0\n",
      "index 1109 n+1 3 i 112 E[n+1, i] 0.0 E[n+1, i]/E_0 0.0 0.0 0.0 0.0\n",
      "index 1110 n+1 3 i 113 E[n+1, i] 0.0 E[n+1, i]/E_0 0.0 0.0 0.0 0.0\n",
      "index 1111 n+1 3 i 114 E[n+1, i] 0.0 E[n+1, i]/E_0 0.0 0.0 0.0 0.0\n",
      "index 1112 n+1 3 i 115 E[n+1, i] 0.0 E[n+1, i]/E_0 0.0 0.0 0.0 0.0\n",
      "index 1113 n+1 3 i 116 E[n+1, i] 0.0 E[n+1, i]/E_0 0.0 0.0 0.0 0.0\n",
      "index 1114 n+1 3 i 117 E[n+1, i] 0.0 E[n+1, i]/E_0 0.0 0.0 0.0 0.0\n",
      "index 1115 n+1 3 i 118 E[n+1, i] 0.0 E[n+1, i]/E_0 0.0 0.0 0.0 0.0\n",
      "index 1116 n+1 3 i 119 E[n+1, i] 0.0 E[n+1, i]/E_0 0.0 0.0 0.0 0.0\n",
      "index 1117 n+1 3 i 120 E[n+1, i] 0.0 E[n+1, i]/E_0 0.0 0.0 0.0 0.0\n",
      "index 1118 n+1 3 i 121 E[n+1, i] 0.0 E[n+1, i]/E_0 0.0 0.0 0.0 0.0\n",
      "index 1119 n+1 3 i 122 E[n+1, i] 0.0 E[n+1, i]/E_0 0.0 0.0 0.0 0.0\n",
      "index 1120 n+1 3 i 123 E[n+1, i] 0.0 E[n+1, i]/E_0 0.0 0.0 0.0 0.0\n",
      "index 1121 n+1 3 i 124 E[n+1, i] 0.0 E[n+1, i]/E_0 0.0 0.0 0.0 0.0\n",
      "index 1122 n+1 3 i 125 E[n+1, i] 0.0 E[n+1, i]/E_0 0.0 0.0 0.0 0.0\n",
      "index 1123 n+1 3 i 126 E[n+1, i] 0.0 E[n+1, i]/E_0 0.0 0.0 0.0 0.0\n",
      "index 1124 n+1 3 i 127 E[n+1, i] 0.0 E[n+1, i]/E_0 0.0 0.0 0.0 0.0\n",
      "index 1125 n+1 3 i 128 E[n+1, i] 0.0 E[n+1, i]/E_0 0.0 0.0 0.0 0.0\n",
      "index 1126 n+1 3 i 129 E[n+1, i] 0.0 E[n+1, i]/E_0 0.0 0.0 0.0 0.0\n",
      "index 1127 n+1 3 i 130 E[n+1, i] 0.0 E[n+1, i]/E_0 0.0 0.0 0.0 0.0\n",
      "index 1128 n+1 3 i 131 E[n+1, i] 0.0 E[n+1, i]/E_0 0.0 0.0 0.0 0.0\n",
      "index 1129 n+1 3 i 132 E[n+1, i] 0.0 E[n+1, i]/E_0 0.0 0.0 0.0 0.0\n",
      "index 1130 n+1 3 i 133 E[n+1, i] 0.0 E[n+1, i]/E_0 0.0 0.0 0.0 0.0\n",
      "index 1131 n+1 3 i 134 E[n+1, i] 0.0 E[n+1, i]/E_0 0.0 0.0 0.0 0.0\n",
      "index 1132 n+1 3 i 135 E[n+1, i] 0.0 E[n+1, i]/E_0 0.0 0.0 0.0 0.0\n",
      "index 1133 n+1 3 i 136 E[n+1, i] 0.0 E[n+1, i]/E_0 0.0 0.0 0.0 0.0\n",
      "index 1134 n+1 3 i 137 E[n+1, i] 0.0 E[n+1, i]/E_0 0.0 0.0 0.0 0.0\n",
      "index 1135 n+1 3 i 138 E[n+1, i] 0.0 E[n+1, i]/E_0 0.0 0.0 0.0 0.0\n",
      "index 1136 n+1 3 i 139 E[n+1, i] 0.0 E[n+1, i]/E_0 0.0 0.0 0.0 0.0\n",
      "index 1137 n+1 3 i 140 E[n+1, i] 0.0 E[n+1, i]/E_0 0.0 0.0 0.0 0.0\n",
      "index 1138 n+1 3 i 141 E[n+1, i] 0.0 E[n+1, i]/E_0 0.0 0.0 0.0 0.0\n",
      "index 1139 n+1 3 i 142 E[n+1, i] 0.0 E[n+1, i]/E_0 0.0 0.0 0.0 0.0\n",
      "index 1140 n+1 3 i 143 E[n+1, i] 0.0 E[n+1, i]/E_0 0.0 0.0 0.0 0.0\n",
      "index 1141 n+1 3 i 144 E[n+1, i] 0.0 E[n+1, i]/E_0 0.0 0.0 0.0 0.0\n",
      "index 1142 n+1 3 i 145 E[n+1, i] 0.0 E[n+1, i]/E_0 0.0 0.0 0.0 0.0\n",
      "index 1143 n+1 3 i 146 E[n+1, i] 0.0 E[n+1, i]/E_0 0.0 0.0 0.0 0.0\n",
      "index 1144 n+1 3 i 147 E[n+1, i] 0.0 E[n+1, i]/E_0 0.0 0.0 0.0 0.0\n",
      "index 1145 n+1 3 i 148 E[n+1, i] 0.0 E[n+1, i]/E_0 0.0 0.0 0.0 0.0\n",
      "index 1146 n+1 3 i 149 E[n+1, i] 0.0 E[n+1, i]/E_0 0.0 0.0 0.0 0.0\n",
      "index 1147 n+1 3 i 150 E[n+1, i] 0.0 E[n+1, i]/E_0 0.0 0.0 0.0 0.0\n",
      "index 1148 n+1 3 i 151 E[n+1, i] 0.0 E[n+1, i]/E_0 0.0 0.0 0.0 0.0\n",
      "index 1149 n+1 3 i 152 E[n+1, i] 0.0 E[n+1, i]/E_0 0.0 0.0 0.0 0.0\n",
      "index 1150 n+1 3 i 153 E[n+1, i] 0.0 E[n+1, i]/E_0 0.0 0.0 0.0 0.0\n",
      "index 1151 n+1 3 i 154 E[n+1, i] 0.0 E[n+1, i]/E_0 0.0 0.0 0.0 0.0\n",
      "index 1152 n+1 3 i 155 E[n+1, i] 0.0 E[n+1, i]/E_0 0.0 0.0 0.0 0.0\n",
      "index 1153 n+1 3 i 156 E[n+1, i] 0.0 E[n+1, i]/E_0 0.0 0.0 0.0 0.0\n",
      "index 1154 n+1 3 i 157 E[n+1, i] 0.0 E[n+1, i]/E_0 0.0 0.0 0.0 0.0\n",
      "index 1155 n+1 3 i 158 E[n+1, i] 0.0 E[n+1, i]/E_0 0.0 0.0 0.0 0.0\n",
      "index 1156 n+1 3 i 159 E[n+1, i] 0.0 E[n+1, i]/E_0 0.0 0.0 0.0 0.0\n",
      "index 1157 n+1 3 i 160 E[n+1, i] 0.0 E[n+1, i]/E_0 0.0 0.0 0.0 0.0\n",
      "index 1158 n+1 3 i 161 E[n+1, i] 0.0 E[n+1, i]/E_0 0.0 0.0 0.0 0.0\n",
      "index 1159 n+1 3 i 162 E[n+1, i] 0.0 E[n+1, i]/E_0 0.0 0.0 0.0 0.0\n",
      "index 1160 n+1 3 i 163 E[n+1, i] 0.0 E[n+1, i]/E_0 0.0 0.0 0.0 0.0\n",
      "index 1161 n+1 3 i 164 E[n+1, i] 0.0 E[n+1, i]/E_0 0.0 0.0 0.0 0.0\n",
      "index 1162 n+1 3 i 165 E[n+1, i] 0.0 E[n+1, i]/E_0 0.0 0.0 0.0 0.0\n",
      "index 1163 n+1 3 i 166 E[n+1, i] 0.0 E[n+1, i]/E_0 0.0 0.0 0.0 0.0\n",
      "index 1164 n+1 3 i 167 E[n+1, i] 0.0 E[n+1, i]/E_0 0.0 0.0 0.0 0.0\n",
      "index 1165 n+1 3 i 168 E[n+1, i] 0.0 E[n+1, i]/E_0 0.0 0.0 0.0 0.0\n",
      "index 1166 n+1 3 i 169 E[n+1, i] 0.0 E[n+1, i]/E_0 0.0 0.0 0.0 0.0\n",
      "index 1167 n+1 3 i 170 E[n+1, i] 0.0 E[n+1, i]/E_0 0.0 0.0 0.0 0.0\n",
      "index 1168 n+1 3 i 171 E[n+1, i] 0.0 E[n+1, i]/E_0 0.0 0.0 0.0 0.0\n",
      "index 1169 n+1 3 i 172 E[n+1, i] 0.0 E[n+1, i]/E_0 0.0 0.0 0.0 0.0\n",
      "index 1170 n+1 3 i 173 E[n+1, i] 0.0 E[n+1, i]/E_0 0.0 0.0 0.0 0.0\n",
      "index 1171 n+1 3 i 174 E[n+1, i] 0.0 E[n+1, i]/E_0 0.0 0.0 0.0 0.0\n",
      "index 1172 n+1 3 i 175 E[n+1, i] 0.0 E[n+1, i]/E_0 0.0 0.0 0.0 0.0\n",
      "index 1173 n+1 3 i 176 E[n+1, i] 0.0 E[n+1, i]/E_0 0.0 0.0 0.0 0.0\n",
      "index 1174 n+1 3 i 177 E[n+1, i] 0.0 E[n+1, i]/E_0 0.0 0.0 0.0 0.0\n",
      "index 1175 n+1 3 i 178 E[n+1, i] 0.0 E[n+1, i]/E_0 0.0 0.0 0.0 0.0\n",
      "index 1176 n+1 3 i 179 E[n+1, i] 0.0 E[n+1, i]/E_0 0.0 0.0 0.0 0.0\n",
      "index 1177 n+1 3 i 180 E[n+1, i] 0.0 E[n+1, i]/E_0 0.0 0.0 0.0 0.0\n",
      "index 1178 n+1 3 i 181 E[n+1, i] 0.0 E[n+1, i]/E_0 0.0 0.0 0.0 0.0\n",
      "index 1179 n+1 3 i 182 E[n+1, i] 0.0 E[n+1, i]/E_0 0.0 0.0 0.0 0.0\n",
      "index 1180 n+1 3 i 183 E[n+1, i] 0.0 E[n+1, i]/E_0 0.0 0.0 0.0 0.0\n",
      "index 1181 n+1 3 i 184 E[n+1, i] 0.0 E[n+1, i]/E_0 0.0 0.0 0.0 0.0\n",
      "index 1182 n+1 3 i 185 E[n+1, i] 0.0 E[n+1, i]/E_0 0.0 0.0 0.0 0.0\n",
      "index 1183 n+1 3 i 186 E[n+1, i] 0.0 E[n+1, i]/E_0 0.0 0.0 0.0 0.0\n",
      "index 1184 n+1 3 i 187 E[n+1, i] 0.0 E[n+1, i]/E_0 0.0 0.0 0.0 0.0\n",
      "index 1185 n+1 3 i 188 E[n+1, i] 0.0 E[n+1, i]/E_0 0.0 0.0 0.0 0.0\n",
      "index 1186 n+1 3 i 189 E[n+1, i] 0.0 E[n+1, i]/E_0 0.0 0.0 0.0 0.0\n",
      "index 1187 n+1 3 i 190 E[n+1, i] 0.0 E[n+1, i]/E_0 0.0 0.0 0.0 0.0\n",
      "index 1188 n+1 3 i 191 E[n+1, i] 0.0 E[n+1, i]/E_0 0.0 0.0 0.0 0.0\n",
      "index 1189 n+1 3 i 192 E[n+1, i] 0.0 E[n+1, i]/E_0 0.0 0.0 0.0 0.0\n",
      "index 1190 n+1 3 i 193 E[n+1, i] 0.0 E[n+1, i]/E_0 0.0 0.0 0.0 0.0\n",
      "index 1191 n+1 3 i 194 E[n+1, i] 0.0 E[n+1, i]/E_0 0.0 0.0 0.0 0.0\n",
      "index 1192 n+1 3 i 195 E[n+1, i] 0.0 E[n+1, i]/E_0 0.0 0.0 0.0 0.0\n",
      "index 1193 n+1 3 i 196 E[n+1, i] 0.0 E[n+1, i]/E_0 0.0 0.0 0.0 0.0\n",
      "index 1194 n+1 3 i 197 E[n+1, i] 0.0 E[n+1, i]/E_0 0.0 0.0 0.0 0.0\n",
      "index 1195 n+1 3 i 198 E[n+1, i] 0.0 E[n+1, i]/E_0 0.0 0.0 0.0 0.0\n",
      "index 1196 n+1 3 i 199 E[n+1, i] 0.0 E[n+1, i]/E_0 0.0 0.0 0.0 0.0\n",
      "index 1197 n+1 3 i 200 E[n+1, i] 0.0 E[n+1, i]/E_0 0.0 0.0 0.0 0.0\n",
      "index 1198 n+1 3 i 201 E[n+1, i] 0.0 E[n+1, i]/E_0 0.0 0.0 0.0 0.0\n",
      "index 1199 n+1 3 i 202 E[n+1, i] 0.0 E[n+1, i]/E_0 0.0 0.0 0.0 0.0\n",
      "index 1200 n+1 3 i 203 E[n+1, i] 0.0 E[n+1, i]/E_0 0.0 0.0 0.0 0.0\n",
      "index 1201 n+1 3 i 204 E[n+1, i] 0.0 E[n+1, i]/E_0 0.0 0.0 0.0 0.0\n",
      "index 1202 n+1 3 i 205 E[n+1, i] 0.0 E[n+1, i]/E_0 0.0 0.0 0.0 0.0\n",
      "index 1203 n+1 3 i 206 E[n+1, i] 0.0 E[n+1, i]/E_0 0.0 0.0 0.0 0.0\n",
      "index 1204 n+1 3 i 207 E[n+1, i] 0.0 E[n+1, i]/E_0 0.0 0.0 0.0 0.0\n",
      "index 1205 n+1 3 i 208 E[n+1, i] 0.0 E[n+1, i]/E_0 0.0 0.0 0.0 0.0\n",
      "index 1206 n+1 3 i 209 E[n+1, i] 0.0 E[n+1, i]/E_0 0.0 0.0 0.0 0.0\n",
      "index 1207 n+1 3 i 210 E[n+1, i] 0.0 E[n+1, i]/E_0 0.0 0.0 0.0 0.0\n",
      "index 1208 n+1 3 i 211 E[n+1, i] 0.0 E[n+1, i]/E_0 0.0 0.0 0.0 0.0\n",
      "index 1209 n+1 3 i 212 E[n+1, i] 0.0 E[n+1, i]/E_0 0.0 0.0 0.0 0.0\n",
      "index 1210 n+1 3 i 213 E[n+1, i] 0.0 E[n+1, i]/E_0 0.0 0.0 0.0 0.0\n",
      "index 1211 n+1 3 i 214 E[n+1, i] 0.0 E[n+1, i]/E_0 0.0 0.0 0.0 0.0\n",
      "index 1212 n+1 3 i 215 E[n+1, i] 0.0 E[n+1, i]/E_0 0.0 0.0 0.0 0.0\n",
      "index 1213 n+1 3 i 216 E[n+1, i] 0.0 E[n+1, i]/E_0 0.0 0.0 0.0 0.0\n",
      "index 1214 n+1 3 i 217 E[n+1, i] 0.0 E[n+1, i]/E_0 0.0 0.0 0.0 0.0\n",
      "index 1215 n+1 3 i 218 E[n+1, i] 0.0 E[n+1, i]/E_0 0.0 0.0 0.0 0.0\n",
      "index 1216 n+1 3 i 219 E[n+1, i] 0.0 E[n+1, i]/E_0 0.0 0.0 0.0 0.0\n",
      "index 1217 n+1 3 i 220 E[n+1, i] 0.0 E[n+1, i]/E_0 0.0 0.0 0.0 0.0\n",
      "index 1218 n+1 3 i 221 E[n+1, i] 0.0 E[n+1, i]/E_0 0.0 0.0 0.0 0.0\n",
      "index 1219 n+1 3 i 222 E[n+1, i] 0.0 E[n+1, i]/E_0 0.0 0.0 0.0 0.0\n",
      "index 1220 n+1 3 i 223 E[n+1, i] 0.0 E[n+1, i]/E_0 0.0 0.0 0.0 0.0\n",
      "index 1221 n+1 3 i 224 E[n+1, i] 0.0 E[n+1, i]/E_0 0.0 0.0 0.0 0.0\n",
      "index 1222 n+1 3 i 225 E[n+1, i] 0.0 E[n+1, i]/E_0 0.0 0.0 0.0 0.0\n",
      "index 1223 n+1 3 i 226 E[n+1, i] 0.0 E[n+1, i]/E_0 0.0 0.0 0.0 0.0\n",
      "index 1224 n+1 3 i 227 E[n+1, i] 0.0 E[n+1, i]/E_0 0.0 0.0 0.0 0.0\n",
      "index 1225 n+1 3 i 228 E[n+1, i] 0.0 E[n+1, i]/E_0 0.0 0.0 0.0 0.0\n",
      "index 1226 n+1 3 i 229 E[n+1, i] 0.0 E[n+1, i]/E_0 0.0 0.0 0.0 0.0\n",
      "index 1227 n+1 3 i 230 E[n+1, i] 0.0 E[n+1, i]/E_0 0.0 0.0 0.0 0.0\n",
      "index 1228 n+1 3 i 231 E[n+1, i] 0.0 E[n+1, i]/E_0 0.0 0.0 0.0 0.0\n",
      "index 1229 n+1 3 i 232 E[n+1, i] 0.0 E[n+1, i]/E_0 0.0 0.0 0.0 0.0\n",
      "index 1230 n+1 3 i 233 E[n+1, i] 0.0 E[n+1, i]/E_0 0.0 0.0 0.0 0.0\n",
      "index 1231 n+1 3 i 234 E[n+1, i] 0.0 E[n+1, i]/E_0 0.0 0.0 0.0 0.0\n",
      "index 1232 n+1 3 i 235 E[n+1, i] 0.0 E[n+1, i]/E_0 0.0 0.0 0.0 0.0\n",
      "index 1233 n+1 3 i 236 E[n+1, i] 0.0 E[n+1, i]/E_0 0.0 0.0 0.0 0.0\n",
      "index 1234 n+1 3 i 237 E[n+1, i] 0.0 E[n+1, i]/E_0 0.0 0.0 0.0 0.0\n",
      "index 1235 n+1 3 i 238 E[n+1, i] 0.0 E[n+1, i]/E_0 0.0 0.0 0.0 0.0\n",
      "index 1236 n+1 3 i 239 E[n+1, i] 0.0 E[n+1, i]/E_0 0.0 0.0 0.0 0.0\n",
      "index 1237 n+1 3 i 240 E[n+1, i] 0.0 E[n+1, i]/E_0 0.0 0.0 0.0 0.0\n",
      "index 1238 n+1 3 i 241 E[n+1, i] 0.0 E[n+1, i]/E_0 0.0 0.0 0.0 0.0\n",
      "index 1239 n+1 3 i 242 E[n+1, i] 0.0 E[n+1, i]/E_0 0.0 0.0 0.0 0.0\n",
      "index 1240 n+1 3 i 243 E[n+1, i] 0.0 E[n+1, i]/E_0 0.0 0.0 0.0 0.0\n",
      "index 1241 n+1 3 i 244 E[n+1, i] 0.0 E[n+1, i]/E_0 0.0 0.0 0.0 0.0\n",
      "index 1242 n+1 3 i 245 E[n+1, i] 0.0 E[n+1, i]/E_0 0.0 0.0 0.0 0.0\n",
      "index 1243 n+1 3 i 246 E[n+1, i] 0.0 E[n+1, i]/E_0 0.0 0.0 0.0 0.0\n",
      "index 1244 n+1 3 i 247 E[n+1, i] 0.0 E[n+1, i]/E_0 0.0 0.0 0.0 0.0\n",
      "index 1245 n+1 3 i 248 E[n+1, i] 0.0 E[n+1, i]/E_0 0.0 0.0 0.0 0.0\n",
      "index 1246 n+1 3 i 249 E[n+1, i] 0.0 E[n+1, i]/E_0 0.0 0.0 0.0 0.0\n",
      "index 1247 n+1 3 i 250 E[n+1, i] 0.0 E[n+1, i]/E_0 0.0 0.0 0.0 0.0\n",
      "index 1248 n+1 3 i 251 E[n+1, i] 0.0 E[n+1, i]/E_0 0.0 0.0 0.0 0.0\n",
      "index 1249 n+1 3 i 252 E[n+1, i] 0.0 E[n+1, i]/E_0 0.0 0.0 0.0 0.0\n",
      "index 1250 n+1 3 i 253 E[n+1, i] 0.0 E[n+1, i]/E_0 0.0 0.0 0.0 0.0\n",
      "index 1251 n+1 3 i 254 E[n+1, i] 0.0 E[n+1, i]/E_0 0.0 0.0 0.0 0.0\n",
      "index 1252 n+1 3 i 255 E[n+1, i] 0.0 E[n+1, i]/E_0 0.0 0.0 0.0 0.0\n",
      "index 1253 n+1 3 i 256 E[n+1, i] 0.0 E[n+1, i]/E_0 0.0 0.0 0.0 0.0\n",
      "index 1254 n+1 3 i 257 E[n+1, i] 0.0 E[n+1, i]/E_0 0.0 0.0 0.0 0.0\n",
      "index 1255 n+1 3 i 258 E[n+1, i] 0.0 E[n+1, i]/E_0 0.0 0.0 0.0 0.0\n",
      "index 1256 n+1 3 i 259 E[n+1, i] 0.0 E[n+1, i]/E_0 0.0 0.0 0.0 0.0\n",
      "index 1257 n+1 3 i 260 E[n+1, i] 0.0 E[n+1, i]/E_0 0.0 0.0 0.0 0.0\n",
      "index 1258 n+1 3 i 261 E[n+1, i] 0.0 E[n+1, i]/E_0 0.0 0.0 0.0 0.0\n",
      "index 1259 n+1 3 i 262 E[n+1, i] 0.0 E[n+1, i]/E_0 0.0 0.0 0.0 0.0\n",
      "index 1260 n+1 3 i 263 E[n+1, i] 0.0 E[n+1, i]/E_0 0.0 0.0 0.0 0.0\n",
      "index 1261 n+1 3 i 264 E[n+1, i] 0.0 E[n+1, i]/E_0 0.0 0.0 0.0 0.0\n",
      "index 1262 n+1 3 i 265 E[n+1, i] 0.0 E[n+1, i]/E_0 0.0 0.0 0.0 0.0\n",
      "index 1263 n+1 3 i 266 E[n+1, i] 0.0 E[n+1, i]/E_0 0.0 0.0 0.0 0.0\n",
      "index 1264 n+1 3 i 267 E[n+1, i] 0.0 E[n+1, i]/E_0 0.0 0.0 0.0 0.0\n",
      "index 1265 n+1 3 i 268 E[n+1, i] 0.0 E[n+1, i]/E_0 0.0 0.0 0.0 0.0\n",
      "index 1266 n+1 3 i 269 E[n+1, i] 0.0 E[n+1, i]/E_0 0.0 0.0 0.0 0.0\n",
      "index 1267 n+1 3 i 270 E[n+1, i] 0.0 E[n+1, i]/E_0 0.0 0.0 0.0 0.0\n",
      "index 1268 n+1 3 i 271 E[n+1, i] 0.0 E[n+1, i]/E_0 0.0 0.0 0.0 0.0\n",
      "index 1269 n+1 3 i 272 E[n+1, i] 0.0 E[n+1, i]/E_0 0.0 0.0 0.0 0.0\n",
      "index 1270 n+1 3 i 273 E[n+1, i] 0.0 E[n+1, i]/E_0 0.0 0.0 0.0 0.0\n",
      "index 1271 n+1 3 i 274 E[n+1, i] 0.0 E[n+1, i]/E_0 0.0 0.0 0.0 0.0\n",
      "index 1272 n+1 3 i 275 E[n+1, i] 0.0 E[n+1, i]/E_0 0.0 0.0 0.0 0.0\n",
      "index 1273 n+1 3 i 276 E[n+1, i] 0.0 E[n+1, i]/E_0 0.0 0.0 0.0 0.0\n",
      "index 1274 n+1 3 i 277 E[n+1, i] 0.0 E[n+1, i]/E_0 0.0 0.0 0.0 0.0\n",
      "index 1275 n+1 3 i 278 E[n+1, i] 0.0 E[n+1, i]/E_0 0.0 0.0 0.0 0.0\n",
      "index 1276 n+1 3 i 279 E[n+1, i] 0.0 E[n+1, i]/E_0 0.0 0.0 0.0 0.0\n",
      "index 1277 n+1 3 i 280 E[n+1, i] 0.0 E[n+1, i]/E_0 0.0 0.0 0.0 0.0\n",
      "index 1278 n+1 3 i 281 E[n+1, i] 0.0 E[n+1, i]/E_0 0.0 0.0 0.0 0.0\n",
      "index 1279 n+1 3 i 282 E[n+1, i] 0.0 E[n+1, i]/E_0 0.0 0.0 0.0 0.0\n",
      "index 1280 n+1 3 i 283 E[n+1, i] 0.0 E[n+1, i]/E_0 0.0 0.0 0.0 0.0\n",
      "index 1281 n+1 3 i 284 E[n+1, i] 0.0 E[n+1, i]/E_0 0.0 0.0 0.0 0.0\n",
      "index 1282 n+1 3 i 285 E[n+1, i] 0.0 E[n+1, i]/E_0 0.0 0.0 0.0 0.0\n",
      "index 1283 n+1 3 i 286 E[n+1, i] 0.0 E[n+1, i]/E_0 0.0 0.0 0.0 0.0\n",
      "index 1284 n+1 3 i 287 E[n+1, i] 0.0 E[n+1, i]/E_0 0.0 0.0 0.0 0.0\n",
      "index 1285 n+1 3 i 288 E[n+1, i] 0.0 E[n+1, i]/E_0 0.0 0.0 0.0 0.0\n",
      "index 1286 n+1 3 i 289 E[n+1, i] 0.0 E[n+1, i]/E_0 0.0 0.0 0.0 0.0\n",
      "index 1287 n+1 3 i 290 E[n+1, i] 0.0 E[n+1, i]/E_0 0.0 0.0 0.0 0.0\n",
      "index 1288 n+1 3 i 291 E[n+1, i] 0.0 E[n+1, i]/E_0 0.0 0.0 0.0 0.0\n",
      "index 1289 n+1 3 i 292 E[n+1, i] 0.0 E[n+1, i]/E_0 0.0 0.0 0.0 0.0\n",
      "index 1290 n+1 3 i 293 E[n+1, i] 0.0 E[n+1, i]/E_0 0.0 0.0 0.0 0.0\n",
      "index 1291 n+1 3 i 294 E[n+1, i] 0.0 E[n+1, i]/E_0 0.0 0.0 0.0 0.0\n",
      "index 1292 n+1 3 i 295 E[n+1, i] 0.0 E[n+1, i]/E_0 0.0 0.0 0.0 0.0\n",
      "index 1293 n+1 3 i 296 E[n+1, i] 0.0 E[n+1, i]/E_0 0.0 0.0 0.0 0.0\n",
      "index 1294 n+1 3 i 297 E[n+1, i] 0.0 E[n+1, i]/E_0 0.0 0.0 0.0 0.0\n",
      "index 1295 n+1 3 i 298 E[n+1, i] 0.0 E[n+1, i]/E_0 0.0 0.0 0.0 0.0\n",
      "index 1296 n+1 3 i 299 E[n+1, i] 0.0 E[n+1, i]/E_0 0.0 0.0 0.0 0.0\n",
      "index 1297 n+1 3 i 300 E[n+1, i] 0.0 E[n+1, i]/E_0 0.0 0.0 0.0 0.0\n",
      "index 1298 n+1 3 i 301 E[n+1, i] 0.0 E[n+1, i]/E_0 0.0 0.0 0.0 0.0\n",
      "index 1299 n+1 3 i 302 E[n+1, i] 0.0 E[n+1, i]/E_0 0.0 0.0 0.0 0.0\n",
      "index 1300 n+1 3 i 303 E[n+1, i] 0.0 E[n+1, i]/E_0 0.0 0.0 0.0 0.0\n",
      "index 1301 n+1 3 i 304 E[n+1, i] 0.0 E[n+1, i]/E_0 0.0 0.0 0.0 0.0\n",
      "index 1302 n+1 3 i 305 E[n+1, i] 0.0 E[n+1, i]/E_0 0.0 0.0 0.0 0.0\n",
      "index 1303 n+1 3 i 306 E[n+1, i] 0.0 E[n+1, i]/E_0 0.0 0.0 0.0 0.0\n",
      "index 1304 n+1 3 i 307 E[n+1, i] 0.0 E[n+1, i]/E_0 0.0 0.0 0.0 0.0\n",
      "index 1305 n+1 3 i 308 E[n+1, i] 0.0 E[n+1, i]/E_0 0.0 0.0 0.0 0.0\n",
      "index 1306 n+1 3 i 309 E[n+1, i] 0.0 E[n+1, i]/E_0 0.0 0.0 0.0 0.0\n",
      "index 1307 n+1 3 i 310 E[n+1, i] 0.0 E[n+1, i]/E_0 0.0 0.0 0.0 0.0\n",
      "index 1308 n+1 3 i 311 E[n+1, i] 0.0 E[n+1, i]/E_0 0.0 0.0 0.0 0.0\n",
      "index 1309 n+1 3 i 312 E[n+1, i] 0.0 E[n+1, i]/E_0 0.0 0.0 0.0 0.0\n",
      "index 1310 n+1 3 i 313 E[n+1, i] 0.0 E[n+1, i]/E_0 0.0 0.0 0.0 0.0\n",
      "index 1311 n+1 3 i 314 E[n+1, i] 0.0 E[n+1, i]/E_0 0.0 0.0 0.0 0.0\n",
      "index 1312 n+1 3 i 315 E[n+1, i] 0.0 E[n+1, i]/E_0 0.0 0.0 0.0 0.0\n",
      "index 1313 n+1 3 i 316 E[n+1, i] 0.0 E[n+1, i]/E_0 0.0 0.0 0.0 0.0\n",
      "index 1314 n+1 3 i 317 E[n+1, i] 0.0 E[n+1, i]/E_0 0.0 0.0 0.0 0.0\n",
      "index 1315 n+1 3 i 318 E[n+1, i] 0.0 E[n+1, i]/E_0 0.0 0.0 0.0 0.0\n",
      "index 1316 n+1 3 i 319 E[n+1, i] 0.0 E[n+1, i]/E_0 0.0 0.0 0.0 0.0\n",
      "index 1317 n+1 3 i 320 E[n+1, i] 0.0 E[n+1, i]/E_0 0.0 0.0 0.0 0.0\n",
      "index 1318 n+1 3 i 321 E[n+1, i] 0.0 E[n+1, i]/E_0 0.0 0.0 0.0 0.0\n",
      "index 1319 n+1 3 i 322 E[n+1, i] 0.0 E[n+1, i]/E_0 0.0 0.0 0.0 0.0\n",
      "index 1320 n+1 3 i 323 E[n+1, i] 0.0 E[n+1, i]/E_0 0.0 0.0 0.0 0.0\n",
      "index 1321 n+1 3 i 324 E[n+1, i] 0.0 E[n+1, i]/E_0 0.0 0.0 0.0 0.0\n",
      "index 1322 n+1 3 i 325 E[n+1, i] 0.0 E[n+1, i]/E_0 0.0 0.0 0.0 0.0\n",
      "index 1323 n+1 3 i 326 E[n+1, i] 0.0 E[n+1, i]/E_0 0.0 0.0 0.0 0.0\n",
      "index 1324 n+1 3 i 327 E[n+1, i] 0.0 E[n+1, i]/E_0 0.0 0.0 0.0 0.0\n",
      "index 1325 n+1 3 i 328 E[n+1, i] 0.0 E[n+1, i]/E_0 0.0 0.0 0.0 0.0\n",
      "index 1326 n+1 3 i 329 E[n+1, i] 0.0 E[n+1, i]/E_0 0.0 0.0 0.0 0.0\n",
      "index 1327 n+1 3 i 330 E[n+1, i] 0.0 E[n+1, i]/E_0 0.0 0.0 0.0 0.0\n",
      "index 1328 n+1 3 i 331 E[n+1, i] 0.0 E[n+1, i]/E_0 0.0 0.0 0.0 0.0\n",
      "index 1329 n+1 3 i 332 E[n+1, i] 0.0 E[n+1, i]/E_0 0.0 0.0 0.0 0.0\n",
      "index 1330 n+1 3 i 333 E[n+1, i] 0.0 E[n+1, i]/E_0 0.0 0.0 0.0 0.0\n",
      "index 1331 n+1 3 i 334 E[n+1, i] 0.0 E[n+1, i]/E_0 0.0 0.0 0.0 0.0\n",
      "index 1332 n+1 3 i 335 E[n+1, i] 0.0 E[n+1, i]/E_0 0.0 0.0 0.0 0.0\n",
      "index 1333 n+1 3 i 336 E[n+1, i] 0.0 E[n+1, i]/E_0 0.0 0.0 0.0 0.0\n",
      "index 1334 n+1 3 i 337 E[n+1, i] 0.0 E[n+1, i]/E_0 0.0 0.0 0.0 0.0\n",
      "index 1335 n+1 3 i 338 E[n+1, i] 0.0 E[n+1, i]/E_0 0.0 0.0 0.0 0.0\n",
      "index 1336 n+1 3 i 339 E[n+1, i] 0.0 E[n+1, i]/E_0 0.0 0.0 0.0 0.0\n",
      "index 1337 n+1 3 i 340 E[n+1, i] 0.0 E[n+1, i]/E_0 0.0 0.0 0.0 0.0\n",
      "index 1338 n+1 3 i 341 E[n+1, i] 0.0 E[n+1, i]/E_0 0.0 0.0 0.0 0.0\n",
      "index 1339 n+1 3 i 342 E[n+1, i] 0.0 E[n+1, i]/E_0 0.0 0.0 0.0 0.0\n",
      "index 1340 n+1 3 i 343 E[n+1, i] 0.0 E[n+1, i]/E_0 0.0 0.0 0.0 0.0\n",
      "index 1341 n+1 3 i 344 E[n+1, i] 0.0 E[n+1, i]/E_0 0.0 0.0 0.0 0.0\n",
      "index 1342 n+1 3 i 345 E[n+1, i] 0.0 E[n+1, i]/E_0 0.0 0.0 0.0 0.0\n",
      "index 1343 n+1 3 i 346 E[n+1, i] 0.0 E[n+1, i]/E_0 0.0 0.0 0.0 0.0\n",
      "index 1344 n+1 3 i 347 E[n+1, i] 0.0 E[n+1, i]/E_0 0.0 0.0 0.0 0.0\n",
      "index 1345 n+1 3 i 348 E[n+1, i] 0.0 E[n+1, i]/E_0 0.0 0.0 0.0 0.0\n",
      "index 1346 n+1 3 i 349 E[n+1, i] 0.0 E[n+1, i]/E_0 0.0 0.0 0.0 0.0\n",
      "index 1347 n+1 3 i 350 E[n+1, i] 0.0 E[n+1, i]/E_0 0.0 0.0 0.0 0.0\n",
      "index 1348 n+1 3 i 351 E[n+1, i] 0.0 E[n+1, i]/E_0 0.0 0.0 0.0 0.0\n",
      "index 1349 n+1 3 i 352 E[n+1, i] 0.0 E[n+1, i]/E_0 0.0 0.0 0.0 0.0\n",
      "index 1350 n+1 3 i 353 E[n+1, i] 0.0 E[n+1, i]/E_0 0.0 0.0 0.0 0.0\n",
      "index 1351 n+1 3 i 354 E[n+1, i] 0.0 E[n+1, i]/E_0 0.0 0.0 0.0 0.0\n",
      "index 1352 n+1 3 i 355 E[n+1, i] 0.0 E[n+1, i]/E_0 0.0 0.0 0.0 0.0\n",
      "index 1353 n+1 3 i 356 E[n+1, i] 0.0 E[n+1, i]/E_0 0.0 0.0 0.0 0.0\n",
      "index 1354 n+1 3 i 357 E[n+1, i] 0.0 E[n+1, i]/E_0 0.0 0.0 0.0 0.0\n",
      "index 1355 n+1 3 i 358 E[n+1, i] 0.0 E[n+1, i]/E_0 0.0 0.0 0.0 0.0\n",
      "index 1356 n+1 3 i 359 E[n+1, i] 0.0 E[n+1, i]/E_0 0.0 0.0 0.0 0.0\n",
      "index 1357 n+1 3 i 360 E[n+1, i] 0.0 E[n+1, i]/E_0 0.0 0.0 0.0 0.0\n",
      "index 1358 n+1 3 i 361 E[n+1, i] 0.0 E[n+1, i]/E_0 0.0 0.0 0.0 0.0\n",
      "index 1359 n+1 3 i 362 E[n+1, i] 0.0 E[n+1, i]/E_0 0.0 0.0 0.0 0.0\n",
      "index 1360 n+1 3 i 363 E[n+1, i] 0.0 E[n+1, i]/E_0 0.0 0.0 0.0 0.0\n",
      "index 1361 n+1 3 i 364 E[n+1, i] 0.0 E[n+1, i]/E_0 0.0 0.0 0.0 0.0\n",
      "index 1362 n+1 3 i 365 E[n+1, i] 0.0 E[n+1, i]/E_0 0.0 0.0 0.0 0.0\n",
      "index 1363 n+1 3 i 366 E[n+1, i] 0.0 E[n+1, i]/E_0 0.0 0.0 0.0 0.0\n",
      "index 1364 n+1 3 i 367 E[n+1, i] 0.0 E[n+1, i]/E_0 0.0 0.0 0.0 0.0\n",
      "index 1365 n+1 3 i 368 E[n+1, i] 0.0 E[n+1, i]/E_0 0.0 0.0 0.0 0.0\n",
      "index 1366 n+1 3 i 369 E[n+1, i] 0.0 E[n+1, i]/E_0 0.0 0.0 0.0 0.0\n",
      "index 1367 n+1 3 i 370 E[n+1, i] 0.0 E[n+1, i]/E_0 0.0 0.0 0.0 0.0\n",
      "index 1368 n+1 3 i 371 E[n+1, i] 0.0 E[n+1, i]/E_0 0.0 0.0 0.0 0.0\n",
      "index 1369 n+1 3 i 372 E[n+1, i] 0.0 E[n+1, i]/E_0 0.0 0.0 0.0 0.0\n",
      "index 1370 n+1 3 i 373 E[n+1, i] 0.0 E[n+1, i]/E_0 0.0 0.0 0.0 0.0\n",
      "index 1371 n+1 3 i 374 E[n+1, i] 0.0 E[n+1, i]/E_0 0.0 0.0 0.0 0.0\n",
      "index 1372 n+1 3 i 375 E[n+1, i] 0.0 E[n+1, i]/E_0 0.0 0.0 0.0 0.0\n",
      "index 1373 n+1 3 i 376 E[n+1, i] 0.0 E[n+1, i]/E_0 0.0 0.0 0.0 0.0\n",
      "index 1374 n+1 3 i 377 E[n+1, i] 0.0 E[n+1, i]/E_0 0.0 0.0 0.0 0.0\n",
      "index 1375 n+1 3 i 378 E[n+1, i] 0.0 E[n+1, i]/E_0 0.0 0.0 0.0 0.0\n",
      "index 1376 n+1 3 i 379 E[n+1, i] 0.0 E[n+1, i]/E_0 0.0 0.0 0.0 0.0\n",
      "index 1377 n+1 3 i 380 E[n+1, i] 0.0 E[n+1, i]/E_0 0.0 0.0 0.0 0.0\n",
      "index 1378 n+1 3 i 381 E[n+1, i] 0.0 E[n+1, i]/E_0 0.0 0.0 0.0 0.0\n",
      "index 1379 n+1 3 i 382 E[n+1, i] 0.0 E[n+1, i]/E_0 0.0 0.0 0.0 0.0\n",
      "index 1380 n+1 3 i 383 E[n+1, i] 0.0 E[n+1, i]/E_0 0.0 0.0 0.0 0.0\n",
      "index 1381 n+1 3 i 384 E[n+1, i] 0.0 E[n+1, i]/E_0 0.0 0.0 0.0 0.0\n",
      "index 1382 n+1 3 i 385 E[n+1, i] 0.0 E[n+1, i]/E_0 0.0 0.0 0.0 0.0\n",
      "index 1383 n+1 3 i 386 E[n+1, i] 0.0 E[n+1, i]/E_0 0.0 0.0 0.0 0.0\n",
      "index 1384 n+1 3 i 387 E[n+1, i] 0.0 E[n+1, i]/E_0 0.0 0.0 0.0 0.0\n",
      "index 1385 n+1 3 i 388 E[n+1, i] 0.0 E[n+1, i]/E_0 0.0 0.0 0.0 0.0\n",
      "index 1386 n+1 3 i 389 E[n+1, i] 0.0 E[n+1, i]/E_0 0.0 0.0 0.0 0.0\n",
      "index 1387 n+1 3 i 390 E[n+1, i] 0.0 E[n+1, i]/E_0 0.0 0.0 0.0 0.0\n",
      "index 1388 n+1 3 i 391 E[n+1, i] 0.0 E[n+1, i]/E_0 0.0 0.0 0.0 0.0\n",
      "index 1389 n+1 3 i 392 E[n+1, i] 0.0 E[n+1, i]/E_0 0.0 0.0 0.0 0.0\n",
      "index 1390 n+1 3 i 393 E[n+1, i] 0.0 E[n+1, i]/E_0 0.0 0.0 0.0 0.0\n",
      "index 1391 n+1 3 i 394 E[n+1, i] 0.0 E[n+1, i]/E_0 0.0 0.0 0.0 0.0\n",
      "index 1392 n+1 3 i 395 E[n+1, i] 0.0 E[n+1, i]/E_0 0.0 0.0 0.0 0.0\n",
      "index 1393 n+1 3 i 396 E[n+1, i] 0.0 E[n+1, i]/E_0 0.0 0.0 0.0 0.0\n",
      "index 1394 n+1 3 i 397 E[n+1, i] 0.0 E[n+1, i]/E_0 0.0 0.0 0.0 0.0\n",
      "index 1395 n+1 3 i 398 E[n+1, i] 0.0 E[n+1, i]/E_0 0.0 0.0 0.0 0.0\n",
      "index 1396 n+1 3 i 399 E[n+1, i] 0.0 E[n+1, i]/E_0 0.0 0.0 0.0 0.0\n",
      "index 1397 n+1 3 i 400 E[n+1, i] 0.0 E[n+1, i]/E_0 0.0 0.0 0.0 0.0\n",
      "index 1398 n+1 3 i 401 E[n+1, i] 0.0 E[n+1, i]/E_0 0.0 0.0 0.0 0.0\n",
      "index 1399 n+1 3 i 402 E[n+1, i] 0.0 E[n+1, i]/E_0 0.0 0.0 0.0 0.0\n",
      "index 1400 n+1 3 i 403 E[n+1, i] 0.0 E[n+1, i]/E_0 0.0 0.0 0.0 0.0\n",
      "index 1401 n+1 3 i 404 E[n+1, i] 0.0 E[n+1, i]/E_0 0.0 0.0 0.0 0.0\n",
      "index 1402 n+1 3 i 405 E[n+1, i] 0.0 E[n+1, i]/E_0 0.0 0.0 0.0 0.0\n",
      "index 1403 n+1 3 i 406 E[n+1, i] 0.0 E[n+1, i]/E_0 0.0 0.0 0.0 0.0\n",
      "index 1404 n+1 3 i 407 E[n+1, i] 0.0 E[n+1, i]/E_0 0.0 0.0 0.0 0.0\n",
      "index 1405 n+1 3 i 408 E[n+1, i] 0.0 E[n+1, i]/E_0 0.0 0.0 0.0 0.0\n",
      "index 1406 n+1 3 i 409 E[n+1, i] 0.0 E[n+1, i]/E_0 0.0 0.0 0.0 0.0\n",
      "index 1407 n+1 3 i 410 E[n+1, i] 0.0 E[n+1, i]/E_0 0.0 0.0 0.0 0.0\n",
      "index 1408 n+1 3 i 411 E[n+1, i] 0.0 E[n+1, i]/E_0 0.0 0.0 0.0 0.0\n",
      "index 1409 n+1 3 i 412 E[n+1, i] 0.0 E[n+1, i]/E_0 0.0 0.0 0.0 0.0\n",
      "index 1410 n+1 3 i 413 E[n+1, i] 0.0 E[n+1, i]/E_0 0.0 0.0 0.0 0.0\n",
      "index 1411 n+1 3 i 414 E[n+1, i] 0.0 E[n+1, i]/E_0 0.0 0.0 0.0 0.0\n",
      "index 1412 n+1 3 i 415 E[n+1, i] 0.0 E[n+1, i]/E_0 0.0 0.0 0.0 0.0\n",
      "index 1413 n+1 3 i 416 E[n+1, i] 0.0 E[n+1, i]/E_0 0.0 0.0 0.0 0.0\n",
      "index 1414 n+1 3 i 417 E[n+1, i] 0.0 E[n+1, i]/E_0 0.0 0.0 0.0 0.0\n",
      "index 1415 n+1 3 i 418 E[n+1, i] 0.0 E[n+1, i]/E_0 0.0 0.0 0.0 0.0\n",
      "index 1416 n+1 3 i 419 E[n+1, i] 0.0 E[n+1, i]/E_0 0.0 0.0 0.0 0.0\n",
      "index 1417 n+1 3 i 420 E[n+1, i] 0.0 E[n+1, i]/E_0 0.0 0.0 0.0 0.0\n",
      "index 1418 n+1 3 i 421 E[n+1, i] 0.0 E[n+1, i]/E_0 0.0 0.0 0.0 0.0\n",
      "index 1419 n+1 3 i 422 E[n+1, i] 0.0 E[n+1, i]/E_0 0.0 0.0 0.0 0.0\n",
      "index 1420 n+1 3 i 423 E[n+1, i] 0.0 E[n+1, i]/E_0 0.0 0.0 0.0 0.0\n",
      "index 1421 n+1 3 i 424 E[n+1, i] 0.0 E[n+1, i]/E_0 0.0 0.0 0.0 0.0\n",
      "index 1422 n+1 3 i 425 E[n+1, i] 0.0 E[n+1, i]/E_0 0.0 0.0 0.0 0.0\n",
      "index 1423 n+1 3 i 426 E[n+1, i] 0.0 E[n+1, i]/E_0 0.0 0.0 0.0 0.0\n",
      "index 1424 n+1 3 i 427 E[n+1, i] 0.0 E[n+1, i]/E_0 0.0 0.0 0.0 0.0\n",
      "index 1425 n+1 3 i 428 E[n+1, i] 0.0 E[n+1, i]/E_0 0.0 0.0 0.0 0.0\n",
      "index 1426 n+1 3 i 429 E[n+1, i] 0.0 E[n+1, i]/E_0 0.0 0.0 0.0 0.0\n",
      "index 1427 n+1 3 i 430 E[n+1, i] 0.0 E[n+1, i]/E_0 0.0 0.0 0.0 0.0\n",
      "index 1428 n+1 3 i 431 E[n+1, i] 0.0 E[n+1, i]/E_0 0.0 0.0 0.0 0.0\n",
      "index 1429 n+1 3 i 432 E[n+1, i] 0.0 E[n+1, i]/E_0 0.0 0.0 0.0 0.0\n",
      "index 1430 n+1 3 i 433 E[n+1, i] 0.0 E[n+1, i]/E_0 0.0 0.0 0.0 0.0\n",
      "index 1431 n+1 3 i 434 E[n+1, i] 0.0 E[n+1, i]/E_0 0.0 0.0 0.0 0.0\n",
      "index 1432 n+1 3 i 435 E[n+1, i] 0.0 E[n+1, i]/E_0 0.0 0.0 0.0 0.0\n",
      "index 1433 n+1 3 i 436 E[n+1, i] 0.0 E[n+1, i]/E_0 0.0 0.0 0.0 0.0\n",
      "index 1434 n+1 3 i 437 E[n+1, i] 0.0 E[n+1, i]/E_0 0.0 0.0 0.0 0.0\n",
      "index 1435 n+1 3 i 438 E[n+1, i] 0.0 E[n+1, i]/E_0 0.0 0.0 0.0 0.0\n",
      "index 1436 n+1 3 i 439 E[n+1, i] 0.0 E[n+1, i]/E_0 0.0 0.0 0.0 0.0\n",
      "index 1437 n+1 3 i 440 E[n+1, i] 0.0 E[n+1, i]/E_0 0.0 0.0 0.0 0.0\n",
      "index 1438 n+1 3 i 441 E[n+1, i] 0.0 E[n+1, i]/E_0 0.0 0.0 0.0 0.0\n",
      "index 1439 n+1 3 i 442 E[n+1, i] 0.0 E[n+1, i]/E_0 0.0 0.0 0.0 0.0\n",
      "index 1440 n+1 3 i 443 E[n+1, i] 0.0 E[n+1, i]/E_0 0.0 0.0 0.0 0.0\n",
      "index 1441 n+1 3 i 444 E[n+1, i] 0.0 E[n+1, i]/E_0 0.0 0.0 0.0 0.0\n",
      "index 1442 n+1 3 i 445 E[n+1, i] 0.0 E[n+1, i]/E_0 0.0 0.0 0.0 0.0\n",
      "index 1443 n+1 3 i 446 E[n+1, i] 0.0 E[n+1, i]/E_0 0.0 0.0 0.0 0.0\n",
      "index 1444 n+1 3 i 447 E[n+1, i] 0.0 E[n+1, i]/E_0 0.0 0.0 0.0 0.0\n",
      "index 1445 n+1 3 i 448 E[n+1, i] 0.0 E[n+1, i]/E_0 0.0 0.0 0.0 0.0\n",
      "index 1446 n+1 3 i 449 E[n+1, i] 0.0 E[n+1, i]/E_0 0.0 0.0 0.0 0.0\n",
      "index 1447 n+1 3 i 450 E[n+1, i] 0.0 E[n+1, i]/E_0 0.0 0.0 0.0 0.0\n",
      "index 1448 n+1 3 i 451 E[n+1, i] 0.0 E[n+1, i]/E_0 0.0 0.0 0.0 0.0\n",
      "index 1449 n+1 3 i 452 E[n+1, i] 0.0 E[n+1, i]/E_0 0.0 0.0 0.0 0.0\n",
      "index 1450 n+1 3 i 453 E[n+1, i] 0.0 E[n+1, i]/E_0 0.0 0.0 0.0 0.0\n",
      "index 1451 n+1 3 i 454 E[n+1, i] 0.0 E[n+1, i]/E_0 0.0 0.0 0.0 0.0\n",
      "index 1452 n+1 3 i 455 E[n+1, i] 0.0 E[n+1, i]/E_0 0.0 0.0 0.0 0.0\n",
      "index 1453 n+1 3 i 456 E[n+1, i] 0.0 E[n+1, i]/E_0 0.0 0.0 0.0 0.0\n",
      "index 1454 n+1 3 i 457 E[n+1, i] 0.0 E[n+1, i]/E_0 0.0 0.0 0.0 0.0\n",
      "index 1455 n+1 3 i 458 E[n+1, i] 0.0 E[n+1, i]/E_0 0.0 0.0 0.0 0.0\n",
      "index 1456 n+1 3 i 459 E[n+1, i] 0.0 E[n+1, i]/E_0 0.0 0.0 0.0 0.0\n",
      "index 1457 n+1 3 i 460 E[n+1, i] 0.0 E[n+1, i]/E_0 0.0 0.0 0.0 0.0\n",
      "index 1458 n+1 3 i 461 E[n+1, i] 0.0 E[n+1, i]/E_0 0.0 0.0 0.0 0.0\n",
      "index 1459 n+1 3 i 462 E[n+1, i] 0.0 E[n+1, i]/E_0 0.0 0.0 0.0 0.0\n",
      "index 1460 n+1 3 i 463 E[n+1, i] 0.0 E[n+1, i]/E_0 0.0 0.0 0.0 0.0\n",
      "index 1461 n+1 3 i 464 E[n+1, i] 0.0 E[n+1, i]/E_0 0.0 0.0 0.0 0.0\n",
      "index 1462 n+1 3 i 465 E[n+1, i] 0.0 E[n+1, i]/E_0 0.0 0.0 0.0 0.0\n",
      "index 1463 n+1 3 i 466 E[n+1, i] 0.0 E[n+1, i]/E_0 0.0 0.0 0.0 0.0\n",
      "index 1464 n+1 3 i 467 E[n+1, i] 0.0 E[n+1, i]/E_0 0.0 0.0 0.0 0.0\n",
      "index 1465 n+1 3 i 468 E[n+1, i] 0.0 E[n+1, i]/E_0 0.0 0.0 0.0 0.0\n",
      "index 1466 n+1 3 i 469 E[n+1, i] 0.0 E[n+1, i]/E_0 0.0 0.0 0.0 0.0\n",
      "index 1467 n+1 3 i 470 E[n+1, i] 0.0 E[n+1, i]/E_0 0.0 0.0 0.0 0.0\n",
      "index 1468 n+1 3 i 471 E[n+1, i] 0.0 E[n+1, i]/E_0 0.0 0.0 0.0 0.0\n",
      "index 1469 n+1 3 i 472 E[n+1, i] 0.0 E[n+1, i]/E_0 0.0 0.0 0.0 0.0\n",
      "index 1470 n+1 3 i 473 E[n+1, i] 0.0 E[n+1, i]/E_0 0.0 0.0 0.0 0.0\n",
      "index 1471 n+1 3 i 474 E[n+1, i] 0.0 E[n+1, i]/E_0 0.0 0.0 0.0 0.0\n",
      "index 1472 n+1 3 i 475 E[n+1, i] 0.0 E[n+1, i]/E_0 0.0 0.0 0.0 0.0\n",
      "index 1473 n+1 3 i 476 E[n+1, i] 0.0 E[n+1, i]/E_0 0.0 0.0 0.0 0.0\n",
      "index 1474 n+1 3 i 477 E[n+1, i] 0.0 E[n+1, i]/E_0 0.0 0.0 0.0 0.0\n",
      "index 1475 n+1 3 i 478 E[n+1, i] 0.0 E[n+1, i]/E_0 0.0 0.0 0.0 0.0\n",
      "index 1476 n+1 3 i 479 E[n+1, i] 0.0 E[n+1, i]/E_0 0.0 0.0 0.0 0.0\n",
      "index 1477 n+1 3 i 480 E[n+1, i] 0.0 E[n+1, i]/E_0 0.0 0.0 0.0 0.0\n",
      "index 1478 n+1 3 i 481 E[n+1, i] 0.0 E[n+1, i]/E_0 0.0 0.0 0.0 0.0\n",
      "index 1479 n+1 3 i 482 E[n+1, i] 0.0 E[n+1, i]/E_0 0.0 0.0 0.0 0.0\n",
      "index 1480 n+1 3 i 483 E[n+1, i] 0.0 E[n+1, i]/E_0 0.0 0.0 0.0 0.0\n",
      "index 1481 n+1 3 i 484 E[n+1, i] 0.0 E[n+1, i]/E_0 0.0 0.0 0.0 0.0\n",
      "index 1482 n+1 3 i 485 E[n+1, i] 0.0 E[n+1, i]/E_0 0.0 0.0 0.0 0.0\n",
      "index 1483 n+1 3 i 486 E[n+1, i] 0.0 E[n+1, i]/E_0 0.0 0.0 0.0 0.0\n",
      "index 1484 n+1 3 i 487 E[n+1, i] 0.0 E[n+1, i]/E_0 0.0 0.0 0.0 0.0\n",
      "index 1485 n+1 3 i 488 E[n+1, i] 0.0 E[n+1, i]/E_0 0.0 0.0 0.0 0.0\n",
      "index 1486 n+1 3 i 489 E[n+1, i] 0.0 E[n+1, i]/E_0 0.0 0.0 0.0 0.0\n",
      "index 1487 n+1 3 i 490 E[n+1, i] 0.0 E[n+1, i]/E_0 0.0 0.0 0.0 0.0\n",
      "index 1488 n+1 3 i 491 E[n+1, i] 0.0 E[n+1, i]/E_0 0.0 0.0 0.0 0.0\n",
      "index 1489 n+1 3 i 492 E[n+1, i] 0.0 E[n+1, i]/E_0 0.0 0.0 0.0 0.0\n",
      "index 1490 n+1 3 i 493 E[n+1, i] 0.0 E[n+1, i]/E_0 0.0 0.0 0.0 0.0\n",
      "index 1491 n+1 3 i 494 E[n+1, i] 0.0 E[n+1, i]/E_0 0.0 0.0 0.0 0.0\n",
      "index 1492 n+1 3 i 495 E[n+1, i] 0.0 E[n+1, i]/E_0 0.0 0.0 0.0 0.0\n",
      "index 1493 n+1 3 i 496 E[n+1, i] 0.0 E[n+1, i]/E_0 0.0 0.0 0.0 0.0\n",
      "index 1494 n+1 3 i 497 E[n+1, i] 0.0 E[n+1, i]/E_0 0.0 0.0 0.0 0.0\n",
      "index 1495 n+1 3 i 498 E[n+1, i] 0.0 E[n+1, i]/E_0 0.0 0.0 0.0 0.0\n",
      "index 1496 n+1 3 i 499 E[n+1, i] 0.0 E[n+1, i]/E_0 0.0 0.0 0.0 0.0\n",
      "index 1497 n+1 3 i 500 E[n+1, i] 0.0 E[n+1, i]/E_0 0.0 0.0 0.0 0.0\n",
      "index 1498 n+1 3 i 501 E[n+1, i] 0.0 E[n+1, i]/E_0 0.0 0.0 0.0 0.0\n",
      "index 1499 n+1 3 i 502 E[n+1, i] 0.0 E[n+1, i]/E_0 0.0 0.0 0.0 0.0\n",
      "index 1500 n+1 3 i 503 E[n+1, i] 0.0 E[n+1, i]/E_0 0.0 0.0 0.0 0.0\n",
      "index 1501 n+1 3 i 504 E[n+1, i] 0.0 E[n+1, i]/E_0 0.0 0.0 0.0 0.0\n",
      "index 1502 n+1 3 i 505 E[n+1, i] 0.0 E[n+1, i]/E_0 0.0 0.0 0.0 0.0\n",
      "index 1503 n+1 3 i 506 E[n+1, i] 0.0 E[n+1, i]/E_0 0.0 0.0 0.0 0.0\n",
      "index 1504 n+1 3 i 507 E[n+1, i] 0.0 E[n+1, i]/E_0 0.0 0.0 0.0 0.0\n",
      "index 1505 n+1 3 i 508 E[n+1, i] 0.0 E[n+1, i]/E_0 0.0 0.0 0.0 0.0\n",
      "index 1506 n+1 3 i 509 E[n+1, i] 0.0 E[n+1, i]/E_0 0.0 0.0 0.0 0.0\n",
      "index 1507 n+1 3 i 510 E[n+1, i] 0.0 E[n+1, i]/E_0 0.0 0.0 0.0 0.0\n",
      "index 1508 n+1 3 i 511 E[n+1, i] 0.0 E[n+1, i]/E_0 0.0 0.0 0.0 0.0\n",
      "index 1509 n+1 3 i 512 E[n+1, i] 0.0 E[n+1, i]/E_0 0.0 0.0 0.0 0.0\n",
      "index 1510 n+1 3 i 513 E[n+1, i] 0.0 E[n+1, i]/E_0 0.0 0.0 0.0 0.0\n",
      "index 1511 n+1 3 i 514 E[n+1, i] 0.0 E[n+1, i]/E_0 0.0 0.0 0.0 0.0\n",
      "index 1512 n+1 3 i 515 E[n+1, i] 0.0 E[n+1, i]/E_0 0.0 0.0 0.0 0.0\n",
      "index 1513 n+1 3 i 516 E[n+1, i] 0.0 E[n+1, i]/E_0 0.0 0.0 0.0 0.0\n",
      "index 1514 n+1 3 i 517 E[n+1, i] 0.0 E[n+1, i]/E_0 0.0 0.0 0.0 0.0\n",
      "index 1515 n+1 3 i 518 E[n+1, i] 0.0 E[n+1, i]/E_0 0.0 0.0 0.0 0.0\n",
      "index 1516 n+1 3 i 519 E[n+1, i] 0.0 E[n+1, i]/E_0 0.0 0.0 0.0 0.0\n",
      "index 1517 n+1 3 i 520 E[n+1, i] 0.0 E[n+1, i]/E_0 0.0 0.0 0.0 0.0\n",
      "index 1518 n+1 3 i 521 E[n+1, i] 0.0 E[n+1, i]/E_0 0.0 0.0 0.0 0.0\n",
      "index 1519 n+1 3 i 522 E[n+1, i] 0.0 E[n+1, i]/E_0 0.0 0.0 0.0 0.0\n",
      "index 1520 n+1 3 i 523 E[n+1, i] 0.0 E[n+1, i]/E_0 0.0 0.0 0.0 0.0\n",
      "index 1521 n+1 3 i 524 E[n+1, i] 0.0 E[n+1, i]/E_0 0.0 0.0 0.0 0.0\n",
      "index 1522 n+1 3 i 525 E[n+1, i] 0.0 E[n+1, i]/E_0 0.0 0.0 0.0 0.0\n",
      "index 1523 n+1 3 i 526 E[n+1, i] 0.0 E[n+1, i]/E_0 0.0 0.0 0.0 0.0\n",
      "index 1524 n+1 3 i 527 E[n+1, i] 0.0 E[n+1, i]/E_0 0.0 0.0 0.0 0.0\n",
      "index 1525 n+1 3 i 528 E[n+1, i] 0.0 E[n+1, i]/E_0 0.0 0.0 0.0 0.0\n",
      "index 1526 n+1 3 i 529 E[n+1, i] 0.0 E[n+1, i]/E_0 0.0 0.0 0.0 0.0\n",
      "index 1527 n+1 3 i 530 E[n+1, i] 0.0 E[n+1, i]/E_0 0.0 0.0 0.0 0.0\n",
      "index 1528 n+1 3 i 531 E[n+1, i] 0.0 E[n+1, i]/E_0 0.0 0.0 0.0 0.0\n",
      "index 1529 n+1 3 i 532 E[n+1, i] 0.0 E[n+1, i]/E_0 0.0 0.0 0.0 0.0\n",
      "index 1530 n+1 3 i 533 E[n+1, i] 0.0 E[n+1, i]/E_0 0.0 0.0 0.0 0.0\n",
      "index 1531 n+1 3 i 534 E[n+1, i] 0.0 E[n+1, i]/E_0 0.0 0.0 0.0 0.0\n",
      "index 1532 n+1 3 i 535 E[n+1, i] 0.0 E[n+1, i]/E_0 0.0 0.0 0.0 0.0\n",
      "index 1533 n+1 3 i 536 E[n+1, i] 0.0 E[n+1, i]/E_0 0.0 0.0 0.0 0.0\n",
      "index 1534 n+1 3 i 537 E[n+1, i] 0.0 E[n+1, i]/E_0 0.0 0.0 0.0 0.0\n",
      "index 1535 n+1 3 i 538 E[n+1, i] 0.0 E[n+1, i]/E_0 0.0 0.0 0.0 0.0\n",
      "index 1536 n+1 3 i 539 E[n+1, i] 0.0 E[n+1, i]/E_0 0.0 0.0 0.0 0.0\n",
      "index 1537 n+1 3 i 540 E[n+1, i] 0.0 E[n+1, i]/E_0 0.0 0.0 0.0 0.0\n",
      "index 1538 n+1 3 i 541 E[n+1, i] 0.0 E[n+1, i]/E_0 0.0 0.0 0.0 0.0\n",
      "index 1539 n+1 3 i 542 E[n+1, i] 0.0 E[n+1, i]/E_0 0.0 0.0 0.0 0.0\n",
      "index 1540 n+1 3 i 543 E[n+1, i] 0.0 E[n+1, i]/E_0 0.0 0.0 0.0 0.0\n",
      "index 1541 n+1 3 i 544 E[n+1, i] 0.0 E[n+1, i]/E_0 0.0 0.0 0.0 0.0\n",
      "index 1542 n+1 3 i 545 E[n+1, i] 0.0 E[n+1, i]/E_0 0.0 0.0 0.0 0.0\n",
      "index 1543 n+1 3 i 546 E[n+1, i] 0.0 E[n+1, i]/E_0 0.0 0.0 0.0 0.0\n",
      "index 1544 n+1 3 i 547 E[n+1, i] 0.0 E[n+1, i]/E_0 0.0 0.0 0.0 0.0\n",
      "index 1545 n+1 3 i 548 E[n+1, i] 0.0 E[n+1, i]/E_0 0.0 0.0 0.0 0.0\n",
      "index 1546 n+1 3 i 549 E[n+1, i] 0.0 E[n+1, i]/E_0 0.0 0.0 0.0 0.0\n",
      "index 1547 n+1 3 i 550 E[n+1, i] 0.0 E[n+1, i]/E_0 0.0 0.0 0.0 0.0\n",
      "index 1548 n+1 3 i 551 E[n+1, i] 0.0 E[n+1, i]/E_0 0.0 0.0 0.0 0.0\n",
      "index 1549 n+1 3 i 552 E[n+1, i] 0.0 E[n+1, i]/E_0 0.0 0.0 0.0 0.0\n",
      "index 1550 n+1 3 i 553 E[n+1, i] 0.0 E[n+1, i]/E_0 0.0 0.0 0.0 0.0\n",
      "index 1551 n+1 3 i 554 E[n+1, i] 0.0 E[n+1, i]/E_0 0.0 0.0 0.0 0.0\n",
      "index 1552 n+1 3 i 555 E[n+1, i] 0.0 E[n+1, i]/E_0 0.0 0.0 0.0 0.0\n",
      "index 1553 n+1 3 i 556 E[n+1, i] 0.0 E[n+1, i]/E_0 0.0 0.0 0.0 0.0\n",
      "index 1554 n+1 3 i 557 E[n+1, i] 0.0 E[n+1, i]/E_0 0.0 0.0 0.0 0.0\n",
      "index 1555 n+1 3 i 558 E[n+1, i] 0.0 E[n+1, i]/E_0 0.0 0.0 0.0 0.0\n",
      "index 1556 n+1 3 i 559 E[n+1, i] 0.0 E[n+1, i]/E_0 0.0 0.0 0.0 0.0\n",
      "index 1557 n+1 3 i 560 E[n+1, i] 0.0 E[n+1, i]/E_0 0.0 0.0 0.0 0.0\n",
      "index 1558 n+1 3 i 561 E[n+1, i] 0.0 E[n+1, i]/E_0 0.0 0.0 0.0 0.0\n",
      "index 1559 n+1 3 i 562 E[n+1, i] 0.0 E[n+1, i]/E_0 0.0 0.0 0.0 0.0\n",
      "index 1560 n+1 3 i 563 E[n+1, i] 0.0 E[n+1, i]/E_0 0.0 0.0 0.0 0.0\n",
      "index 1561 n+1 3 i 564 E[n+1, i] 0.0 E[n+1, i]/E_0 0.0 0.0 0.0 0.0\n",
      "index 1562 n+1 3 i 565 E[n+1, i] 0.0 E[n+1, i]/E_0 0.0 0.0 0.0 0.0\n",
      "index 1563 n+1 3 i 566 E[n+1, i] 0.0 E[n+1, i]/E_0 0.0 0.0 0.0 0.0\n",
      "index 1564 n+1 3 i 567 E[n+1, i] 0.0 E[n+1, i]/E_0 0.0 0.0 0.0 0.0\n",
      "index 1565 n+1 3 i 568 E[n+1, i] 0.0 E[n+1, i]/E_0 0.0 0.0 0.0 0.0\n",
      "index 1566 n+1 3 i 569 E[n+1, i] 0.0 E[n+1, i]/E_0 0.0 0.0 0.0 0.0\n",
      "index 1567 n+1 3 i 570 E[n+1, i] 0.0 E[n+1, i]/E_0 0.0 0.0 0.0 0.0\n",
      "index 1568 n+1 3 i 571 E[n+1, i] 0.0 E[n+1, i]/E_0 0.0 0.0 0.0 0.0\n",
      "index 1569 n+1 3 i 572 E[n+1, i] 0.0 E[n+1, i]/E_0 0.0 0.0 0.0 0.0\n",
      "index 1570 n+1 3 i 573 E[n+1, i] 0.0 E[n+1, i]/E_0 0.0 0.0 0.0 0.0\n",
      "index 1571 n+1 3 i 574 E[n+1, i] 0.0 E[n+1, i]/E_0 0.0 0.0 0.0 0.0\n",
      "index 1572 n+1 3 i 575 E[n+1, i] 0.0 E[n+1, i]/E_0 0.0 0.0 0.0 0.0\n",
      "index 1573 n+1 3 i 576 E[n+1, i] 0.0 E[n+1, i]/E_0 0.0 0.0 0.0 0.0\n",
      "index 1574 n+1 3 i 577 E[n+1, i] 0.0 E[n+1, i]/E_0 0.0 0.0 0.0 0.0\n",
      "index 1575 n+1 3 i 578 E[n+1, i] 0.0 E[n+1, i]/E_0 0.0 0.0 0.0 0.0\n",
      "index 1576 n+1 3 i 579 E[n+1, i] 0.0 E[n+1, i]/E_0 0.0 0.0 0.0 0.0\n",
      "index 1577 n+1 3 i 580 E[n+1, i] 0.0 E[n+1, i]/E_0 0.0 0.0 0.0 0.0\n",
      "index 1578 n+1 3 i 581 E[n+1, i] 0.0 E[n+1, i]/E_0 0.0 0.0 0.0 0.0\n",
      "index 1579 n+1 3 i 582 E[n+1, i] 0.0 E[n+1, i]/E_0 0.0 0.0 0.0 0.0\n",
      "index 1580 n+1 3 i 583 E[n+1, i] 0.0 E[n+1, i]/E_0 0.0 0.0 0.0 0.0\n",
      "index 1581 n+1 3 i 584 E[n+1, i] 0.0 E[n+1, i]/E_0 0.0 0.0 0.0 0.0\n",
      "index 1582 n+1 3 i 585 E[n+1, i] 0.0 E[n+1, i]/E_0 0.0 0.0 0.0 0.0\n",
      "index 1583 n+1 3 i 586 E[n+1, i] 0.0 E[n+1, i]/E_0 0.0 0.0 0.0 0.0\n",
      "index 1584 n+1 3 i 587 E[n+1, i] 0.0 E[n+1, i]/E_0 0.0 0.0 0.0 0.0\n",
      "index 1585 n+1 3 i 588 E[n+1, i] 0.0 E[n+1, i]/E_0 0.0 0.0 0.0 0.0\n",
      "index 1586 n+1 3 i 589 E[n+1, i] 0.0 E[n+1, i]/E_0 0.0 0.0 0.0 0.0\n",
      "index 1587 n+1 3 i 590 E[n+1, i] 0.0 E[n+1, i]/E_0 0.0 0.0 0.0 0.0\n",
      "index 1588 n+1 3 i 591 E[n+1, i] 0.0 E[n+1, i]/E_0 0.0 0.0 0.0 0.0\n",
      "index 1589 n+1 3 i 592 E[n+1, i] 0.0 E[n+1, i]/E_0 0.0 0.0 0.0 0.0\n",
      "index 1590 n+1 3 i 593 E[n+1, i] 0.0 E[n+1, i]/E_0 0.0 0.0 0.0 0.0\n",
      "index 1591 n+1 3 i 594 E[n+1, i] 0.0 E[n+1, i]/E_0 0.0 0.0 0.0 0.0\n",
      "index 1592 n+1 3 i 595 E[n+1, i] 0.0 E[n+1, i]/E_0 0.0 0.0 0.0 0.0\n",
      "index 1593 n+1 3 i 596 E[n+1, i] 0.0 E[n+1, i]/E_0 0.0 0.0 0.0 0.0\n",
      "index 1594 n+1 3 i 597 E[n+1, i] 0.0 E[n+1, i]/E_0 0.0 0.0 0.0 0.0\n",
      "index 1595 n+1 3 i 598 E[n+1, i] 0.0 E[n+1, i]/E_0 0.0 0.0 0.0 0.0\n",
      "index 1596 n+1 3 i 599 E[n+1, i] 0.0 E[n+1, i]/E_0 0.0 0.0 0.0 0.0\n",
      "index 1597 n+1 3 i 600 E[n+1, i] 0.0 E[n+1, i]/E_0 0.0 0.0 0.0 0.0\n",
      "index 1598 n+1 3 i 601 E[n+1, i] 0.0 E[n+1, i]/E_0 0.0 0.0 0.0 0.0\n",
      "index 1599 n+1 3 i 602 E[n+1, i] 0.0 E[n+1, i]/E_0 0.0 0.0 0.0 0.0\n",
      "index 1600 n+1 3 i 603 E[n+1, i] 0.0 E[n+1, i]/E_0 0.0 0.0 0.0 0.0\n",
      "index 1601 n+1 3 i 604 E[n+1, i] 0.0 E[n+1, i]/E_0 0.0 0.0 0.0 0.0\n",
      "index 1602 n+1 3 i 605 E[n+1, i] 0.0 E[n+1, i]/E_0 0.0 0.0 0.0 0.0\n",
      "index 1603 n+1 3 i 606 E[n+1, i] 0.0 E[n+1, i]/E_0 0.0 0.0 0.0 0.0\n",
      "index 1604 n+1 3 i 607 E[n+1, i] 0.0 E[n+1, i]/E_0 0.0 0.0 0.0 0.0\n",
      "index 1605 n+1 3 i 608 E[n+1, i] 0.0 E[n+1, i]/E_0 0.0 0.0 0.0 0.0\n",
      "index 1606 n+1 3 i 609 E[n+1, i] 0.0 E[n+1, i]/E_0 0.0 0.0 0.0 0.0\n",
      "index 1607 n+1 3 i 610 E[n+1, i] 0.0 E[n+1, i]/E_0 0.0 0.0 0.0 0.0\n",
      "index 1608 n+1 3 i 611 E[n+1, i] 0.0 E[n+1, i]/E_0 0.0 0.0 0.0 0.0\n",
      "index 1609 n+1 3 i 612 E[n+1, i] 0.0 E[n+1, i]/E_0 0.0 0.0 0.0 0.0\n",
      "index 1610 n+1 3 i 613 E[n+1, i] 0.0 E[n+1, i]/E_0 0.0 0.0 0.0 0.0\n",
      "index 1611 n+1 3 i 614 E[n+1, i] 0.0 E[n+1, i]/E_0 0.0 0.0 0.0 0.0\n",
      "index 1612 n+1 3 i 615 E[n+1, i] 0.0 E[n+1, i]/E_0 0.0 0.0 0.0 0.0\n",
      "index 1613 n+1 3 i 616 E[n+1, i] 0.0 E[n+1, i]/E_0 0.0 0.0 0.0 0.0\n",
      "index 1614 n+1 3 i 617 E[n+1, i] 0.0 E[n+1, i]/E_0 0.0 0.0 0.0 0.0\n",
      "index 1615 n+1 3 i 618 E[n+1, i] 0.0 E[n+1, i]/E_0 0.0 0.0 0.0 0.0\n",
      "index 1616 n+1 3 i 619 E[n+1, i] 0.0 E[n+1, i]/E_0 0.0 0.0 0.0 0.0\n",
      "index 1617 n+1 3 i 620 E[n+1, i] 0.0 E[n+1, i]/E_0 0.0 0.0 0.0 0.0\n",
      "index 1618 n+1 3 i 621 E[n+1, i] 0.0 E[n+1, i]/E_0 0.0 0.0 0.0 0.0\n",
      "index 1619 n+1 3 i 622 E[n+1, i] 0.0 E[n+1, i]/E_0 0.0 0.0 0.0 0.0\n",
      "index 1620 n+1 3 i 623 E[n+1, i] 0.0 E[n+1, i]/E_0 0.0 0.0 0.0 0.0\n",
      "index 1621 n+1 3 i 624 E[n+1, i] 0.0 E[n+1, i]/E_0 0.0 0.0 0.0 0.0\n",
      "index 1622 n+1 3 i 625 E[n+1, i] 0.0 E[n+1, i]/E_0 0.0 0.0 0.0 0.0\n",
      "index 1623 n+1 3 i 626 E[n+1, i] 0.0 E[n+1, i]/E_0 0.0 0.0 0.0 0.0\n",
      "index 1624 n+1 3 i 627 E[n+1, i] 0.0 E[n+1, i]/E_0 0.0 0.0 0.0 0.0\n",
      "index 1625 n+1 3 i 628 E[n+1, i] 0.0 E[n+1, i]/E_0 0.0 0.0 0.0 0.0\n",
      "index 1626 n+1 3 i 629 E[n+1, i] 0.0 E[n+1, i]/E_0 0.0 0.0 0.0 0.0\n",
      "index 1627 n+1 3 i 630 E[n+1, i] 0.0 E[n+1, i]/E_0 0.0 0.0 0.0 0.0\n",
      "index 1628 n+1 3 i 631 E[n+1, i] 0.0 E[n+1, i]/E_0 0.0 0.0 0.0 0.0\n",
      "index 1629 n+1 3 i 632 E[n+1, i] 0.0 E[n+1, i]/E_0 0.0 0.0 0.0 0.0\n",
      "index 1630 n+1 3 i 633 E[n+1, i] 0.0 E[n+1, i]/E_0 0.0 0.0 0.0 0.0\n",
      "index 1631 n+1 3 i 634 E[n+1, i] 0.0 E[n+1, i]/E_0 0.0 0.0 0.0 0.0\n",
      "index 1632 n+1 3 i 635 E[n+1, i] 0.0 E[n+1, i]/E_0 0.0 0.0 0.0 0.0\n",
      "index 1633 n+1 3 i 636 E[n+1, i] 0.0 E[n+1, i]/E_0 0.0 0.0 0.0 0.0\n",
      "index 1634 n+1 3 i 637 E[n+1, i] 0.0 E[n+1, i]/E_0 0.0 0.0 0.0 0.0\n",
      "index 1635 n+1 3 i 638 E[n+1, i] 0.0 E[n+1, i]/E_0 0.0 0.0 0.0 0.0\n",
      "index 1636 n+1 3 i 639 E[n+1, i] 0.0 E[n+1, i]/E_0 0.0 0.0 0.0 0.0\n",
      "index 1637 n+1 3 i 640 E[n+1, i] 0.0 E[n+1, i]/E_0 0.0 0.0 0.0 0.0\n",
      "index 1638 n+1 3 i 641 E[n+1, i] 0.0 E[n+1, i]/E_0 0.0 0.0 0.0 0.0\n",
      "index 1639 n+1 3 i 642 E[n+1, i] 0.0 E[n+1, i]/E_0 0.0 0.0 0.0 0.0\n",
      "index 1640 n+1 3 i 643 E[n+1, i] 0.0 E[n+1, i]/E_0 0.0 0.0 0.0 0.0\n",
      "index 1641 n+1 3 i 644 E[n+1, i] 0.0 E[n+1, i]/E_0 0.0 0.0 0.0 0.0\n",
      "index 1642 n+1 3 i 645 E[n+1, i] 0.0 E[n+1, i]/E_0 0.0 0.0 0.0 0.0\n",
      "index 1643 n+1 3 i 646 E[n+1, i] 0.0 E[n+1, i]/E_0 0.0 0.0 0.0 0.0\n",
      "index 1644 n+1 3 i 647 E[n+1, i] 0.0 E[n+1, i]/E_0 0.0 0.0 0.0 0.0\n",
      "index 1645 n+1 3 i 648 E[n+1, i] 0.0 E[n+1, i]/E_0 0.0 0.0 0.0 0.0\n",
      "index 1646 n+1 3 i 649 E[n+1, i] 0.0 E[n+1, i]/E_0 0.0 0.0 0.0 0.0\n",
      "index 1647 n+1 3 i 650 E[n+1, i] 0.0 E[n+1, i]/E_0 0.0 0.0 0.0 0.0\n",
      "index 1648 n+1 3 i 651 E[n+1, i] 0.0 E[n+1, i]/E_0 0.0 0.0 0.0 0.0\n",
      "index 1649 n+1 3 i 652 E[n+1, i] 0.0 E[n+1, i]/E_0 0.0 0.0 0.0 0.0\n",
      "index 1650 n+1 3 i 653 E[n+1, i] 0.0 E[n+1, i]/E_0 0.0 0.0 0.0 0.0\n",
      "index 1651 n+1 3 i 654 E[n+1, i] 0.0 E[n+1, i]/E_0 0.0 0.0 0.0 0.0\n",
      "index 1652 n+1 3 i 655 E[n+1, i] 0.0 E[n+1, i]/E_0 0.0 0.0 0.0 0.0\n",
      "index 1653 n+1 3 i 656 E[n+1, i] 0.0 E[n+1, i]/E_0 0.0 0.0 0.0 0.0\n",
      "index 1654 n+1 3 i 657 E[n+1, i] 0.0 E[n+1, i]/E_0 0.0 0.0 0.0 0.0\n",
      "index 1655 n+1 3 i 658 E[n+1, i] 0.0 E[n+1, i]/E_0 0.0 0.0 0.0 0.0\n",
      "index 1656 n+1 3 i 659 E[n+1, i] 0.0 E[n+1, i]/E_0 0.0 0.0 0.0 0.0\n",
      "index 1657 n+1 3 i 660 E[n+1, i] 0.0 E[n+1, i]/E_0 0.0 0.0 0.0 0.0\n",
      "index 1658 n+1 3 i 661 E[n+1, i] 0.0 E[n+1, i]/E_0 0.0 0.0 0.0 0.0\n",
      "index 1659 n+1 3 i 662 E[n+1, i] 0.0 E[n+1, i]/E_0 0.0 0.0 0.0 0.0\n",
      "index 1660 n+1 3 i 663 E[n+1, i] 0.0 E[n+1, i]/E_0 0.0 0.0 0.0 0.0\n",
      "index 1661 n+1 3 i 664 E[n+1, i] 0.0 E[n+1, i]/E_0 0.0 0.0 0.0 0.0\n",
      "index 1662 n+1 3 i 665 E[n+1, i] 0.0 E[n+1, i]/E_0 0.0 0.0 0.0 0.0\n",
      "index 1663 n+1 3 i 666 E[n+1, i] 0.0 E[n+1, i]/E_0 0.0 0.0 0.0 0.0\n",
      "index 1664 n+1 3 i 667 E[n+1, i] 0.0 E[n+1, i]/E_0 0.0 0.0 0.0 0.0\n",
      "index 1665 n+1 3 i 668 E[n+1, i] 0.0 E[n+1, i]/E_0 0.0 0.0 0.0 0.0\n",
      "index 1666 n+1 3 i 669 E[n+1, i] 0.0 E[n+1, i]/E_0 0.0 0.0 0.0 0.0\n",
      "index 1667 n+1 3 i 670 E[n+1, i] 0.0 E[n+1, i]/E_0 0.0 0.0 0.0 0.0\n",
      "index 1668 n+1 3 i 671 E[n+1, i] 0.0 E[n+1, i]/E_0 0.0 0.0 0.0 0.0\n",
      "index 1669 n+1 3 i 672 E[n+1, i] 0.0 E[n+1, i]/E_0 0.0 0.0 0.0 0.0\n",
      "index 1670 n+1 3 i 673 E[n+1, i] 0.0 E[n+1, i]/E_0 0.0 0.0 0.0 0.0\n",
      "index 1671 n+1 3 i 674 E[n+1, i] 0.0 E[n+1, i]/E_0 0.0 0.0 0.0 0.0\n",
      "index 1672 n+1 3 i 675 E[n+1, i] 0.0 E[n+1, i]/E_0 0.0 0.0 0.0 0.0\n",
      "index 1673 n+1 3 i 676 E[n+1, i] 0.0 E[n+1, i]/E_0 0.0 0.0 0.0 0.0\n",
      "index 1674 n+1 3 i 677 E[n+1, i] 0.0 E[n+1, i]/E_0 0.0 0.0 0.0 0.0\n",
      "index 1675 n+1 3 i 678 E[n+1, i] 0.0 E[n+1, i]/E_0 0.0 0.0 0.0 0.0\n",
      "index 1676 n+1 3 i 679 E[n+1, i] 0.0 E[n+1, i]/E_0 0.0 0.0 0.0 0.0\n",
      "index 1677 n+1 3 i 680 E[n+1, i] 0.0 E[n+1, i]/E_0 0.0 0.0 0.0 0.0\n",
      "index 1678 n+1 3 i 681 E[n+1, i] 0.0 E[n+1, i]/E_0 0.0 0.0 0.0 0.0\n",
      "index 1679 n+1 3 i 682 E[n+1, i] 0.0 E[n+1, i]/E_0 0.0 0.0 0.0 0.0\n",
      "index 1680 n+1 3 i 683 E[n+1, i] 0.0 E[n+1, i]/E_0 0.0 0.0 0.0 0.0\n",
      "index 1681 n+1 3 i 684 E[n+1, i] 0.0 E[n+1, i]/E_0 0.0 0.0 0.0 0.0\n",
      "index 1682 n+1 3 i 685 E[n+1, i] 0.0 E[n+1, i]/E_0 0.0 0.0 0.0 0.0\n",
      "index 1683 n+1 3 i 686 E[n+1, i] 0.0 E[n+1, i]/E_0 0.0 0.0 0.0 0.0\n",
      "index 1684 n+1 3 i 687 E[n+1, i] 0.0 E[n+1, i]/E_0 0.0 0.0 0.0 0.0\n",
      "index 1685 n+1 3 i 688 E[n+1, i] 0.0 E[n+1, i]/E_0 0.0 0.0 0.0 0.0\n",
      "index 1686 n+1 3 i 689 E[n+1, i] 0.0 E[n+1, i]/E_0 0.0 0.0 0.0 0.0\n",
      "index 1687 n+1 3 i 690 E[n+1, i] 0.0 E[n+1, i]/E_0 0.0 0.0 0.0 0.0\n",
      "index 1688 n+1 3 i 691 E[n+1, i] 0.0 E[n+1, i]/E_0 0.0 0.0 0.0 0.0\n",
      "index 1689 n+1 3 i 692 E[n+1, i] 0.0 E[n+1, i]/E_0 0.0 0.0 0.0 0.0\n",
      "index 1690 n+1 3 i 693 E[n+1, i] 0.0 E[n+1, i]/E_0 0.0 0.0 0.0 0.0\n",
      "index 1691 n+1 3 i 694 E[n+1, i] 0.0 E[n+1, i]/E_0 0.0 0.0 0.0 0.0\n",
      "index 1692 n+1 3 i 695 E[n+1, i] 0.0 E[n+1, i]/E_0 0.0 0.0 0.0 0.0\n",
      "index 1693 n+1 3 i 696 E[n+1, i] 0.0 E[n+1, i]/E_0 0.0 0.0 0.0 0.0\n",
      "index 1694 n+1 3 i 697 E[n+1, i] 0.0 E[n+1, i]/E_0 0.0 0.0 0.0 0.0\n",
      "index 1695 n+1 3 i 698 E[n+1, i] 0.0 E[n+1, i]/E_0 0.0 0.0 0.0 0.0\n",
      "index 1696 n+1 3 i 699 E[n+1, i] 0.0 E[n+1, i]/E_0 0.0 0.0 0.0 0.0\n",
      "index 1697 n+1 3 i 700 E[n+1, i] 0.0 E[n+1, i]/E_0 0.0 0.0 0.0 0.0\n",
      "index 1698 n+1 3 i 701 E[n+1, i] 0.0 E[n+1, i]/E_0 0.0 0.0 0.0 0.0\n",
      "index 1699 n+1 3 i 702 E[n+1, i] 0.0 E[n+1, i]/E_0 0.0 0.0 0.0 0.0\n",
      "index 1700 n+1 3 i 703 E[n+1, i] 0.0 E[n+1, i]/E_0 0.0 0.0 0.0 0.0\n",
      "index 1701 n+1 3 i 704 E[n+1, i] 0.0 E[n+1, i]/E_0 0.0 0.0 0.0 0.0\n",
      "index 1702 n+1 3 i 705 E[n+1, i] 0.0 E[n+1, i]/E_0 0.0 0.0 0.0 0.0\n",
      "index 1703 n+1 3 i 706 E[n+1, i] 0.0 E[n+1, i]/E_0 0.0 0.0 0.0 0.0\n",
      "index 1704 n+1 3 i 707 E[n+1, i] 0.0 E[n+1, i]/E_0 0.0 0.0 0.0 0.0\n",
      "index 1705 n+1 3 i 708 E[n+1, i] 0.0 E[n+1, i]/E_0 0.0 0.0 0.0 0.0\n",
      "index 1706 n+1 3 i 709 E[n+1, i] 0.0 E[n+1, i]/E_0 0.0 0.0 0.0 0.0\n",
      "index 1707 n+1 3 i 710 E[n+1, i] 0.0 E[n+1, i]/E_0 0.0 0.0 0.0 0.0\n",
      "index 1708 n+1 3 i 711 E[n+1, i] 0.0 E[n+1, i]/E_0 0.0 0.0 0.0 0.0\n",
      "index 1709 n+1 3 i 712 E[n+1, i] 0.0 E[n+1, i]/E_0 0.0 0.0 0.0 0.0\n",
      "index 1710 n+1 3 i 713 E[n+1, i] 0.0 E[n+1, i]/E_0 0.0 0.0 0.0 0.0\n",
      "index 1711 n+1 3 i 714 E[n+1, i] 0.0 E[n+1, i]/E_0 0.0 0.0 0.0 0.0\n",
      "index 1712 n+1 3 i 715 E[n+1, i] 0.0 E[n+1, i]/E_0 0.0 0.0 0.0 0.0\n",
      "index 1713 n+1 3 i 716 E[n+1, i] 0.0 E[n+1, i]/E_0 0.0 0.0 0.0 0.0\n",
      "index 1714 n+1 3 i 717 E[n+1, i] 0.0 E[n+1, i]/E_0 0.0 0.0 0.0 0.0\n",
      "index 1715 n+1 3 i 718 E[n+1, i] 0.0 E[n+1, i]/E_0 0.0 0.0 0.0 0.0\n",
      "index 1716 n+1 3 i 719 E[n+1, i] 0.0 E[n+1, i]/E_0 0.0 0.0 0.0 0.0\n",
      "index 1717 n+1 3 i 720 E[n+1, i] 0.0 E[n+1, i]/E_0 0.0 0.0 0.0 0.0\n",
      "index 1718 n+1 3 i 721 E[n+1, i] 0.0 E[n+1, i]/E_0 0.0 0.0 0.0 0.0\n",
      "index 1719 n+1 3 i 722 E[n+1, i] 0.0 E[n+1, i]/E_0 0.0 0.0 0.0 0.0\n",
      "index 1720 n+1 3 i 723 E[n+1, i] 0.0 E[n+1, i]/E_0 0.0 0.0 0.0 0.0\n",
      "index 1721 n+1 3 i 724 E[n+1, i] 0.0 E[n+1, i]/E_0 0.0 0.0 0.0 0.0\n",
      "index 1722 n+1 3 i 725 E[n+1, i] 0.0 E[n+1, i]/E_0 0.0 0.0 0.0 0.0\n",
      "index 1723 n+1 3 i 726 E[n+1, i] 0.0 E[n+1, i]/E_0 0.0 0.0 0.0 0.0\n",
      "index 1724 n+1 3 i 727 E[n+1, i] 0.0 E[n+1, i]/E_0 0.0 0.0 0.0 0.0\n",
      "index 1725 n+1 3 i 728 E[n+1, i] 0.0 E[n+1, i]/E_0 0.0 0.0 0.0 0.0\n",
      "index 1726 n+1 3 i 729 E[n+1, i] 0.0 E[n+1, i]/E_0 0.0 0.0 0.0 0.0\n",
      "index 1727 n+1 3 i 730 E[n+1, i] 0.0 E[n+1, i]/E_0 0.0 0.0 0.0 0.0\n",
      "index 1728 n+1 3 i 731 E[n+1, i] 0.0 E[n+1, i]/E_0 0.0 0.0 0.0 0.0\n",
      "index 1729 n+1 3 i 732 E[n+1, i] 0.0 E[n+1, i]/E_0 0.0 0.0 0.0 0.0\n",
      "index 1730 n+1 3 i 733 E[n+1, i] 0.0 E[n+1, i]/E_0 0.0 0.0 0.0 0.0\n",
      "index 1731 n+1 3 i 734 E[n+1, i] 0.0 E[n+1, i]/E_0 0.0 0.0 0.0 0.0\n",
      "index 1732 n+1 3 i 735 E[n+1, i] 0.0 E[n+1, i]/E_0 0.0 0.0 0.0 0.0\n",
      "index 1733 n+1 3 i 736 E[n+1, i] 0.0 E[n+1, i]/E_0 0.0 0.0 0.0 0.0\n",
      "index 1734 n+1 3 i 737 E[n+1, i] 0.0 E[n+1, i]/E_0 0.0 0.0 0.0 0.0\n",
      "index 1735 n+1 3 i 738 E[n+1, i] 0.0 E[n+1, i]/E_0 0.0 0.0 0.0 0.0\n",
      "index 1736 n+1 3 i 739 E[n+1, i] 0.0 E[n+1, i]/E_0 0.0 0.0 0.0 0.0\n",
      "index 1737 n+1 3 i 740 E[n+1, i] 0.0 E[n+1, i]/E_0 0.0 0.0 0.0 0.0\n",
      "index 1738 n+1 3 i 741 E[n+1, i] 0.0 E[n+1, i]/E_0 0.0 0.0 0.0 0.0\n",
      "index 1739 n+1 3 i 742 E[n+1, i] 0.0 E[n+1, i]/E_0 0.0 0.0 0.0 0.0\n",
      "index 1740 n+1 3 i 743 E[n+1, i] 0.0 E[n+1, i]/E_0 0.0 0.0 0.0 0.0\n",
      "index 1741 n+1 3 i 744 E[n+1, i] 0.0 E[n+1, i]/E_0 0.0 0.0 0.0 0.0\n",
      "index 1742 n+1 3 i 745 E[n+1, i] 0.0 E[n+1, i]/E_0 0.0 0.0 0.0 0.0\n",
      "index 1743 n+1 3 i 746 E[n+1, i] 0.0 E[n+1, i]/E_0 0.0 0.0 0.0 0.0\n",
      "index 1744 n+1 3 i 747 E[n+1, i] 0.0 E[n+1, i]/E_0 0.0 0.0 0.0 0.0\n",
      "index 1745 n+1 3 i 748 E[n+1, i] 0.0 E[n+1, i]/E_0 0.0 0.0 0.0 0.0\n",
      "index 1746 n+1 3 i 749 E[n+1, i] 0.0 E[n+1, i]/E_0 0.0 0.0 0.0 0.0\n",
      "index 1747 n+1 3 i 750 E[n+1, i] 0.0 E[n+1, i]/E_0 0.0 0.0 0.0 0.0\n",
      "index 1748 n+1 3 i 751 E[n+1, i] 0.0 E[n+1, i]/E_0 0.0 0.0 0.0 0.0\n",
      "index 1749 n+1 3 i 752 E[n+1, i] 0.0 E[n+1, i]/E_0 0.0 0.0 0.0 0.0\n",
      "index 1750 n+1 3 i 753 E[n+1, i] 0.0 E[n+1, i]/E_0 0.0 0.0 0.0 0.0\n",
      "index 1751 n+1 3 i 754 E[n+1, i] 0.0 E[n+1, i]/E_0 0.0 0.0 0.0 0.0\n",
      "index 1752 n+1 3 i 755 E[n+1, i] 0.0 E[n+1, i]/E_0 0.0 0.0 0.0 0.0\n",
      "index 1753 n+1 3 i 756 E[n+1, i] 0.0 E[n+1, i]/E_0 0.0 0.0 0.0 0.0\n",
      "index 1754 n+1 3 i 757 E[n+1, i] 0.0 E[n+1, i]/E_0 0.0 0.0 0.0 0.0\n",
      "index 1755 n+1 3 i 758 E[n+1, i] 0.0 E[n+1, i]/E_0 0.0 0.0 0.0 0.0\n",
      "index 1756 n+1 3 i 759 E[n+1, i] 0.0 E[n+1, i]/E_0 0.0 0.0 0.0 0.0\n",
      "index 1757 n+1 3 i 760 E[n+1, i] 0.0 E[n+1, i]/E_0 0.0 0.0 0.0 0.0\n",
      "index 1758 n+1 3 i 761 E[n+1, i] 0.0 E[n+1, i]/E_0 0.0 0.0 0.0 0.0\n",
      "index 1759 n+1 3 i 762 E[n+1, i] 0.0 E[n+1, i]/E_0 0.0 0.0 0.0 0.0\n",
      "index 1760 n+1 3 i 763 E[n+1, i] 0.0 E[n+1, i]/E_0 0.0 0.0 0.0 0.0\n",
      "index 1761 n+1 3 i 764 E[n+1, i] 0.0 E[n+1, i]/E_0 0.0 0.0 0.0 0.0\n",
      "index 1762 n+1 3 i 765 E[n+1, i] 0.0 E[n+1, i]/E_0 0.0 0.0 0.0 0.0\n",
      "index 1763 n+1 3 i 766 E[n+1, i] 0.0 E[n+1, i]/E_0 0.0 0.0 0.0 0.0\n",
      "index 1764 n+1 3 i 767 E[n+1, i] 0.0 E[n+1, i]/E_0 0.0 0.0 0.0 0.0\n",
      "index 1765 n+1 3 i 768 E[n+1, i] 0.0 E[n+1, i]/E_0 0.0 0.0 0.0 0.0\n",
      "index 1766 n+1 3 i 769 E[n+1, i] 0.0 E[n+1, i]/E_0 0.0 0.0 0.0 0.0\n",
      "index 1767 n+1 3 i 770 E[n+1, i] 0.0 E[n+1, i]/E_0 0.0 0.0 0.0 0.0\n",
      "index 1768 n+1 3 i 771 E[n+1, i] 0.0 E[n+1, i]/E_0 0.0 0.0 0.0 0.0\n",
      "index 1769 n+1 3 i 772 E[n+1, i] 0.0 E[n+1, i]/E_0 0.0 0.0 0.0 0.0\n",
      "index 1770 n+1 3 i 773 E[n+1, i] 0.0 E[n+1, i]/E_0 0.0 0.0 0.0 0.0\n",
      "index 1771 n+1 3 i 774 E[n+1, i] 0.0 E[n+1, i]/E_0 0.0 0.0 0.0 0.0\n",
      "index 1772 n+1 3 i 775 E[n+1, i] 0.0 E[n+1, i]/E_0 0.0 0.0 0.0 0.0\n",
      "index 1773 n+1 3 i 776 E[n+1, i] 0.0 E[n+1, i]/E_0 0.0 0.0 0.0 0.0\n",
      "index 1774 n+1 3 i 777 E[n+1, i] 0.0 E[n+1, i]/E_0 0.0 0.0 0.0 0.0\n",
      "index 1775 n+1 3 i 778 E[n+1, i] 0.0 E[n+1, i]/E_0 0.0 0.0 0.0 0.0\n",
      "index 1776 n+1 3 i 779 E[n+1, i] 0.0 E[n+1, i]/E_0 0.0 0.0 0.0 0.0\n",
      "index 1777 n+1 3 i 780 E[n+1, i] 0.0 E[n+1, i]/E_0 0.0 0.0 0.0 0.0\n",
      "index 1778 n+1 3 i 781 E[n+1, i] 0.0 E[n+1, i]/E_0 0.0 0.0 0.0 0.0\n",
      "index 1779 n+1 3 i 782 E[n+1, i] 0.0 E[n+1, i]/E_0 0.0 0.0 0.0 0.0\n",
      "index 1780 n+1 3 i 783 E[n+1, i] 0.0 E[n+1, i]/E_0 0.0 0.0 0.0 0.0\n",
      "index 1781 n+1 3 i 784 E[n+1, i] 0.0 E[n+1, i]/E_0 0.0 0.0 0.0 0.0\n",
      "index 1782 n+1 3 i 785 E[n+1, i] 0.0 E[n+1, i]/E_0 0.0 0.0 0.0 0.0\n",
      "index 1783 n+1 3 i 786 E[n+1, i] 0.0 E[n+1, i]/E_0 0.0 0.0 0.0 0.0\n",
      "index 1784 n+1 3 i 787 E[n+1, i] 0.0 E[n+1, i]/E_0 0.0 0.0 0.0 0.0\n",
      "index 1785 n+1 3 i 788 E[n+1, i] 0.0 E[n+1, i]/E_0 0.0 0.0 0.0 0.0\n",
      "index 1786 n+1 3 i 789 E[n+1, i] 0.0 E[n+1, i]/E_0 0.0 0.0 0.0 0.0\n",
      "index 1787 n+1 3 i 790 E[n+1, i] 0.0 E[n+1, i]/E_0 0.0 0.0 0.0 0.0\n",
      "index 1788 n+1 3 i 791 E[n+1, i] 0.0 E[n+1, i]/E_0 0.0 0.0 0.0 0.0\n",
      "index 1789 n+1 3 i 792 E[n+1, i] 0.0 E[n+1, i]/E_0 0.0 0.0 0.0 0.0\n",
      "index 1790 n+1 3 i 793 E[n+1, i] 0.0 E[n+1, i]/E_0 0.0 0.0 0.0 0.0\n",
      "index 1791 n+1 3 i 794 E[n+1, i] 0.0 E[n+1, i]/E_0 0.0 0.0 0.0 0.0\n",
      "index 1792 n+1 3 i 795 E[n+1, i] 0.0 E[n+1, i]/E_0 0.0 0.0 0.0 0.0\n",
      "index 1793 n+1 3 i 796 E[n+1, i] 0.0 E[n+1, i]/E_0 0.0 0.0 0.0 0.0\n",
      "index 1794 n+1 3 i 797 E[n+1, i] 0.0 E[n+1, i]/E_0 0.0 0.0 0.0 0.0\n",
      "index 1795 n+1 3 i 798 E[n+1, i] 0.0 E[n+1, i]/E_0 0.0 0.0 0.0 0.0\n",
      "index 1796 n+1 3 i 799 E[n+1, i] 0.0 E[n+1, i]/E_0 0.0 0.0 0.0 0.0\n",
      "index 1797 n+1 3 i 800 E[n+1, i] 0.0 E[n+1, i]/E_0 0.0 0.0 0.0 0.0\n",
      "index 1798 n+1 3 i 801 E[n+1, i] 0.0 E[n+1, i]/E_0 0.0 0.0 0.0 0.0\n",
      "index 1799 n+1 3 i 802 E[n+1, i] 0.0 E[n+1, i]/E_0 0.0 0.0 0.0 0.0\n",
      "index 1800 n+1 3 i 803 E[n+1, i] 0.0 E[n+1, i]/E_0 0.0 0.0 0.0 0.0\n",
      "index 1801 n+1 3 i 804 E[n+1, i] 0.0 E[n+1, i]/E_0 0.0 0.0 0.0 0.0\n",
      "index 1802 n+1 3 i 805 E[n+1, i] 0.0 E[n+1, i]/E_0 0.0 0.0 0.0 0.0\n",
      "index 1803 n+1 3 i 806 E[n+1, i] 0.0 E[n+1, i]/E_0 0.0 0.0 0.0 0.0\n",
      "index 1804 n+1 3 i 807 E[n+1, i] 0.0 E[n+1, i]/E_0 0.0 0.0 0.0 0.0\n",
      "index 1805 n+1 3 i 808 E[n+1, i] 0.0 E[n+1, i]/E_0 0.0 0.0 0.0 0.0\n",
      "index 1806 n+1 3 i 809 E[n+1, i] 0.0 E[n+1, i]/E_0 0.0 0.0 0.0 0.0\n",
      "index 1807 n+1 3 i 810 E[n+1, i] 0.0 E[n+1, i]/E_0 0.0 0.0 0.0 0.0\n",
      "index 1808 n+1 3 i 811 E[n+1, i] 0.0 E[n+1, i]/E_0 0.0 0.0 0.0 0.0\n",
      "index 1809 n+1 3 i 812 E[n+1, i] 0.0 E[n+1, i]/E_0 0.0 0.0 0.0 0.0\n",
      "index 1810 n+1 3 i 813 E[n+1, i] 0.0 E[n+1, i]/E_0 0.0 0.0 0.0 0.0\n",
      "index 1811 n+1 3 i 814 E[n+1, i] 0.0 E[n+1, i]/E_0 0.0 0.0 0.0 0.0\n",
      "index 1812 n+1 3 i 815 E[n+1, i] 0.0 E[n+1, i]/E_0 0.0 0.0 0.0 0.0\n",
      "index 1813 n+1 3 i 816 E[n+1, i] 0.0 E[n+1, i]/E_0 0.0 0.0 0.0 0.0\n",
      "index 1814 n+1 3 i 817 E[n+1, i] 0.0 E[n+1, i]/E_0 0.0 0.0 0.0 0.0\n",
      "index 1815 n+1 3 i 818 E[n+1, i] 0.0 E[n+1, i]/E_0 0.0 0.0 0.0 0.0\n",
      "index 1816 n+1 3 i 819 E[n+1, i] 0.0 E[n+1, i]/E_0 0.0 0.0 0.0 0.0\n",
      "index 1817 n+1 3 i 820 E[n+1, i] 0.0 E[n+1, i]/E_0 0.0 0.0 0.0 0.0\n",
      "index 1818 n+1 3 i 821 E[n+1, i] 0.0 E[n+1, i]/E_0 0.0 0.0 0.0 0.0\n",
      "index 1819 n+1 3 i 822 E[n+1, i] 0.0 E[n+1, i]/E_0 0.0 0.0 0.0 0.0\n",
      "index 1820 n+1 3 i 823 E[n+1, i] 0.0 E[n+1, i]/E_0 0.0 0.0 0.0 0.0\n",
      "index 1821 n+1 3 i 824 E[n+1, i] 0.0 E[n+1, i]/E_0 0.0 0.0 0.0 0.0\n",
      "index 1822 n+1 3 i 825 E[n+1, i] 0.0 E[n+1, i]/E_0 0.0 0.0 0.0 0.0\n",
      "index 1823 n+1 3 i 826 E[n+1, i] 0.0 E[n+1, i]/E_0 0.0 0.0 0.0 0.0\n",
      "index 1824 n+1 3 i 827 E[n+1, i] 0.0 E[n+1, i]/E_0 0.0 0.0 0.0 0.0\n",
      "index 1825 n+1 3 i 828 E[n+1, i] 0.0 E[n+1, i]/E_0 0.0 0.0 0.0 0.0\n",
      "index 1826 n+1 3 i 829 E[n+1, i] 0.0 E[n+1, i]/E_0 0.0 0.0 0.0 0.0\n",
      "index 1827 n+1 3 i 830 E[n+1, i] 0.0 E[n+1, i]/E_0 0.0 0.0 0.0 0.0\n",
      "index 1828 n+1 3 i 831 E[n+1, i] 0.0 E[n+1, i]/E_0 0.0 0.0 0.0 0.0\n",
      "index 1829 n+1 3 i 832 E[n+1, i] 0.0 E[n+1, i]/E_0 0.0 0.0 0.0 0.0\n",
      "index 1830 n+1 3 i 833 E[n+1, i] 0.0 E[n+1, i]/E_0 0.0 0.0 0.0 0.0\n",
      "index 1831 n+1 3 i 834 E[n+1, i] 0.0 E[n+1, i]/E_0 0.0 0.0 0.0 0.0\n",
      "index 1832 n+1 3 i 835 E[n+1, i] 0.0 E[n+1, i]/E_0 0.0 0.0 0.0 0.0\n",
      "index 1833 n+1 3 i 836 E[n+1, i] 0.0 E[n+1, i]/E_0 0.0 0.0 0.0 0.0\n",
      "index 1834 n+1 3 i 837 E[n+1, i] 0.0 E[n+1, i]/E_0 0.0 0.0 0.0 0.0\n",
      "index 1835 n+1 3 i 838 E[n+1, i] 0.0 E[n+1, i]/E_0 0.0 0.0 0.0 0.0\n",
      "index 1836 n+1 3 i 839 E[n+1, i] 0.0 E[n+1, i]/E_0 0.0 0.0 0.0 0.0\n",
      "index 1837 n+1 3 i 840 E[n+1, i] 0.0 E[n+1, i]/E_0 0.0 0.0 0.0 0.0\n",
      "index 1838 n+1 3 i 841 E[n+1, i] 0.0 E[n+1, i]/E_0 0.0 0.0 0.0 0.0\n",
      "index 1839 n+1 3 i 842 E[n+1, i] 0.0 E[n+1, i]/E_0 0.0 0.0 0.0 0.0\n",
      "index 1840 n+1 3 i 843 E[n+1, i] 0.0 E[n+1, i]/E_0 0.0 0.0 0.0 0.0\n",
      "index 1841 n+1 3 i 844 E[n+1, i] 0.0 E[n+1, i]/E_0 0.0 0.0 0.0 0.0\n",
      "index 1842 n+1 3 i 845 E[n+1, i] 0.0 E[n+1, i]/E_0 0.0 0.0 0.0 0.0\n",
      "index 1843 n+1 3 i 846 E[n+1, i] 0.0 E[n+1, i]/E_0 0.0 0.0 0.0 0.0\n",
      "index 1844 n+1 3 i 847 E[n+1, i] 0.0 E[n+1, i]/E_0 0.0 0.0 0.0 0.0\n",
      "index 1845 n+1 3 i 848 E[n+1, i] 0.0 E[n+1, i]/E_0 0.0 0.0 0.0 0.0\n",
      "index 1846 n+1 3 i 849 E[n+1, i] 0.0 E[n+1, i]/E_0 0.0 0.0 0.0 0.0\n",
      "index 1847 n+1 3 i 850 E[n+1, i] 0.0 E[n+1, i]/E_0 0.0 0.0 0.0 0.0\n",
      "index 1848 n+1 3 i 851 E[n+1, i] 0.0 E[n+1, i]/E_0 0.0 0.0 0.0 0.0\n",
      "index 1849 n+1 3 i 852 E[n+1, i] 0.0 E[n+1, i]/E_0 0.0 0.0 0.0 0.0\n",
      "index 1850 n+1 3 i 853 E[n+1, i] 0.0 E[n+1, i]/E_0 0.0 0.0 0.0 0.0\n",
      "index 1851 n+1 3 i 854 E[n+1, i] 0.0 E[n+1, i]/E_0 0.0 0.0 0.0 0.0\n",
      "index 1852 n+1 3 i 855 E[n+1, i] 0.0 E[n+1, i]/E_0 0.0 0.0 0.0 0.0\n",
      "index 1853 n+1 3 i 856 E[n+1, i] 0.0 E[n+1, i]/E_0 0.0 0.0 0.0 0.0\n",
      "index 1854 n+1 3 i 857 E[n+1, i] 0.0 E[n+1, i]/E_0 0.0 0.0 0.0 0.0\n",
      "index 1855 n+1 3 i 858 E[n+1, i] 0.0 E[n+1, i]/E_0 0.0 0.0 0.0 0.0\n",
      "index 1856 n+1 3 i 859 E[n+1, i] 0.0 E[n+1, i]/E_0 0.0 0.0 0.0 0.0\n",
      "index 1857 n+1 3 i 860 E[n+1, i] 0.0 E[n+1, i]/E_0 0.0 0.0 0.0 0.0\n",
      "index 1858 n+1 3 i 861 E[n+1, i] 0.0 E[n+1, i]/E_0 0.0 0.0 0.0 0.0\n",
      "index 1859 n+1 3 i 862 E[n+1, i] 0.0 E[n+1, i]/E_0 0.0 0.0 0.0 0.0\n",
      "index 1860 n+1 3 i 863 E[n+1, i] 0.0 E[n+1, i]/E_0 0.0 0.0 0.0 0.0\n",
      "index 1861 n+1 3 i 864 E[n+1, i] 0.0 E[n+1, i]/E_0 0.0 0.0 0.0 0.0\n",
      "index 1862 n+1 3 i 865 E[n+1, i] 0.0 E[n+1, i]/E_0 0.0 0.0 0.0 0.0\n",
      "index 1863 n+1 3 i 866 E[n+1, i] 0.0 E[n+1, i]/E_0 0.0 0.0 0.0 0.0\n",
      "index 1864 n+1 3 i 867 E[n+1, i] 0.0 E[n+1, i]/E_0 0.0 0.0 0.0 0.0\n",
      "index 1865 n+1 3 i 868 E[n+1, i] 0.0 E[n+1, i]/E_0 0.0 0.0 0.0 0.0\n",
      "index 1866 n+1 3 i 869 E[n+1, i] 0.0 E[n+1, i]/E_0 0.0 0.0 0.0 0.0\n",
      "index 1867 n+1 3 i 870 E[n+1, i] 0.0 E[n+1, i]/E_0 0.0 0.0 0.0 0.0\n",
      "index 1868 n+1 3 i 871 E[n+1, i] 0.0 E[n+1, i]/E_0 0.0 0.0 0.0 0.0\n",
      "index 1869 n+1 3 i 872 E[n+1, i] 0.0 E[n+1, i]/E_0 0.0 0.0 0.0 0.0\n",
      "index 1870 n+1 3 i 873 E[n+1, i] 0.0 E[n+1, i]/E_0 0.0 0.0 0.0 0.0\n",
      "index 1871 n+1 3 i 874 E[n+1, i] 0.0 E[n+1, i]/E_0 0.0 0.0 0.0 0.0\n",
      "index 1872 n+1 3 i 875 E[n+1, i] 0.0 E[n+1, i]/E_0 0.0 0.0 0.0 0.0\n",
      "index 1873 n+1 3 i 876 E[n+1, i] 0.0 E[n+1, i]/E_0 0.0 0.0 0.0 0.0\n",
      "index 1874 n+1 3 i 877 E[n+1, i] 0.0 E[n+1, i]/E_0 0.0 0.0 0.0 0.0\n",
      "index 1875 n+1 3 i 878 E[n+1, i] 0.0 E[n+1, i]/E_0 0.0 0.0 0.0 0.0\n",
      "index 1876 n+1 3 i 879 E[n+1, i] 0.0 E[n+1, i]/E_0 0.0 0.0 0.0 0.0\n",
      "index 1877 n+1 3 i 880 E[n+1, i] 0.0 E[n+1, i]/E_0 0.0 0.0 0.0 0.0\n",
      "index 1878 n+1 3 i 881 E[n+1, i] 0.0 E[n+1, i]/E_0 0.0 0.0 0.0 0.0\n",
      "index 1879 n+1 3 i 882 E[n+1, i] 0.0 E[n+1, i]/E_0 0.0 0.0 0.0 0.0\n",
      "index 1880 n+1 3 i 883 E[n+1, i] 0.0 E[n+1, i]/E_0 0.0 0.0 0.0 0.0\n",
      "index 1881 n+1 3 i 884 E[n+1, i] 0.0 E[n+1, i]/E_0 0.0 0.0 0.0 0.0\n",
      "index 1882 n+1 3 i 885 E[n+1, i] 0.0 E[n+1, i]/E_0 0.0 0.0 0.0 0.0\n",
      "index 1883 n+1 3 i 886 E[n+1, i] 0.0 E[n+1, i]/E_0 0.0 0.0 0.0 0.0\n",
      "index 1884 n+1 3 i 887 E[n+1, i] 0.0 E[n+1, i]/E_0 0.0 0.0 0.0 0.0\n",
      "index 1885 n+1 3 i 888 E[n+1, i] 0.0 E[n+1, i]/E_0 0.0 0.0 0.0 0.0\n",
      "index 1886 n+1 3 i 889 E[n+1, i] 0.0 E[n+1, i]/E_0 0.0 0.0 0.0 0.0\n",
      "index 1887 n+1 3 i 890 E[n+1, i] 0.0 E[n+1, i]/E_0 0.0 0.0 0.0 0.0\n",
      "index 1888 n+1 3 i 891 E[n+1, i] 0.0 E[n+1, i]/E_0 0.0 0.0 0.0 0.0\n",
      "index 1889 n+1 3 i 892 E[n+1, i] 0.0 E[n+1, i]/E_0 0.0 0.0 0.0 0.0\n",
      "index 1890 n+1 3 i 893 E[n+1, i] 0.0 E[n+1, i]/E_0 0.0 0.0 0.0 0.0\n",
      "index 1891 n+1 3 i 894 E[n+1, i] 0.0 E[n+1, i]/E_0 0.0 0.0 0.0 0.0\n",
      "index 1892 n+1 3 i 895 E[n+1, i] 0.0 E[n+1, i]/E_0 0.0 0.0 0.0 0.0\n",
      "index 1893 n+1 3 i 896 E[n+1, i] 0.0 E[n+1, i]/E_0 0.0 0.0 0.0 0.0\n",
      "index 1894 n+1 3 i 897 E[n+1, i] 0.0 E[n+1, i]/E_0 0.0 0.0 0.0 0.0\n",
      "index 1895 n+1 3 i 898 E[n+1, i] 0.0 E[n+1, i]/E_0 0.0 0.0 0.0 0.0\n",
      "index 1896 n+1 3 i 899 E[n+1, i] 0.0 E[n+1, i]/E_0 0.0 0.0 0.0 0.0\n",
      "index 1897 n+1 3 i 900 E[n+1, i] 0.0 E[n+1, i]/E_0 0.0 0.0 0.0 0.0\n",
      "index 1898 n+1 3 i 901 E[n+1, i] 0.0 E[n+1, i]/E_0 0.0 0.0 0.0 0.0\n",
      "index 1899 n+1 3 i 902 E[n+1, i] 0.0 E[n+1, i]/E_0 0.0 0.0 0.0 0.0\n",
      "index 1900 n+1 3 i 903 E[n+1, i] 0.0 E[n+1, i]/E_0 0.0 0.0 0.0 0.0\n",
      "index 1901 n+1 3 i 904 E[n+1, i] 0.0 E[n+1, i]/E_0 0.0 0.0 0.0 0.0\n",
      "index 1902 n+1 3 i 905 E[n+1, i] 0.0 E[n+1, i]/E_0 0.0 0.0 0.0 0.0\n",
      "index 1903 n+1 3 i 906 E[n+1, i] 0.0 E[n+1, i]/E_0 0.0 0.0 0.0 0.0\n",
      "index 1904 n+1 3 i 907 E[n+1, i] 0.0 E[n+1, i]/E_0 0.0 0.0 0.0 0.0\n",
      "index 1905 n+1 3 i 908 E[n+1, i] 0.0 E[n+1, i]/E_0 0.0 0.0 0.0 0.0\n",
      "index 1906 n+1 3 i 909 E[n+1, i] 0.0 E[n+1, i]/E_0 0.0 0.0 0.0 0.0\n",
      "index 1907 n+1 3 i 910 E[n+1, i] 0.0 E[n+1, i]/E_0 0.0 0.0 0.0 0.0\n",
      "index 1908 n+1 3 i 911 E[n+1, i] 0.0 E[n+1, i]/E_0 0.0 0.0 0.0 0.0\n",
      "index 1909 n+1 3 i 912 E[n+1, i] 0.0 E[n+1, i]/E_0 0.0 0.0 0.0 0.0\n",
      "index 1910 n+1 3 i 913 E[n+1, i] 0.0 E[n+1, i]/E_0 0.0 0.0 0.0 0.0\n",
      "index 1911 n+1 3 i 914 E[n+1, i] 0.0 E[n+1, i]/E_0 0.0 0.0 0.0 0.0\n",
      "index 1912 n+1 3 i 915 E[n+1, i] 0.0 E[n+1, i]/E_0 0.0 0.0 0.0 0.0\n",
      "index 1913 n+1 3 i 916 E[n+1, i] 0.0 E[n+1, i]/E_0 0.0 0.0 0.0 0.0\n",
      "index 1914 n+1 3 i 917 E[n+1, i] 0.0 E[n+1, i]/E_0 0.0 0.0 0.0 0.0\n",
      "index 1915 n+1 3 i 918 E[n+1, i] 0.0 E[n+1, i]/E_0 0.0 0.0 0.0 0.0\n",
      "index 1916 n+1 3 i 919 E[n+1, i] 0.0 E[n+1, i]/E_0 0.0 0.0 0.0 0.0\n",
      "index 1917 n+1 3 i 920 E[n+1, i] 0.0 E[n+1, i]/E_0 0.0 0.0 0.0 0.0\n",
      "index 1918 n+1 3 i 921 E[n+1, i] 0.0 E[n+1, i]/E_0 0.0 0.0 0.0 0.0\n",
      "index 1919 n+1 3 i 922 E[n+1, i] 0.0 E[n+1, i]/E_0 0.0 0.0 0.0 0.0\n",
      "index 1920 n+1 3 i 923 E[n+1, i] 0.0 E[n+1, i]/E_0 0.0 0.0 0.0 0.0\n",
      "index 1921 n+1 3 i 924 E[n+1, i] 0.0 E[n+1, i]/E_0 0.0 0.0 0.0 0.0\n",
      "index 1922 n+1 3 i 925 E[n+1, i] 0.0 E[n+1, i]/E_0 0.0 0.0 0.0 0.0\n",
      "index 1923 n+1 3 i 926 E[n+1, i] 0.0 E[n+1, i]/E_0 0.0 0.0 0.0 0.0\n",
      "index 1924 n+1 3 i 927 E[n+1, i] 0.0 E[n+1, i]/E_0 0.0 0.0 0.0 0.0\n",
      "index 1925 n+1 3 i 928 E[n+1, i] 0.0 E[n+1, i]/E_0 0.0 0.0 0.0 0.0\n",
      "index 1926 n+1 3 i 929 E[n+1, i] 0.0 E[n+1, i]/E_0 0.0 0.0 0.0 0.0\n",
      "index 1927 n+1 3 i 930 E[n+1, i] 0.0 E[n+1, i]/E_0 0.0 0.0 0.0 0.0\n",
      "index 1928 n+1 3 i 931 E[n+1, i] 0.0 E[n+1, i]/E_0 0.0 0.0 0.0 0.0\n",
      "index 1929 n+1 3 i 932 E[n+1, i] 0.0 E[n+1, i]/E_0 0.0 0.0 0.0 0.0\n",
      "index 1930 n+1 3 i 933 E[n+1, i] 0.0 E[n+1, i]/E_0 0.0 0.0 0.0 0.0\n",
      "index 1931 n+1 3 i 934 E[n+1, i] 0.0 E[n+1, i]/E_0 0.0 0.0 0.0 0.0\n",
      "index 1932 n+1 3 i 935 E[n+1, i] 0.0 E[n+1, i]/E_0 0.0 0.0 0.0 0.0\n",
      "index 1933 n+1 3 i 936 E[n+1, i] 0.0 E[n+1, i]/E_0 0.0 0.0 0.0 0.0\n",
      "index 1934 n+1 3 i 937 E[n+1, i] 0.0 E[n+1, i]/E_0 0.0 0.0 0.0 0.0\n",
      "index 1935 n+1 3 i 938 E[n+1, i] 0.0 E[n+1, i]/E_0 0.0 0.0 0.0 0.0\n",
      "index 1936 n+1 3 i 939 E[n+1, i] 0.0 E[n+1, i]/E_0 0.0 0.0 0.0 0.0\n",
      "index 1937 n+1 3 i 940 E[n+1, i] 0.0 E[n+1, i]/E_0 0.0 0.0 0.0 0.0\n",
      "index 1938 n+1 3 i 941 E[n+1, i] 0.0 E[n+1, i]/E_0 0.0 0.0 0.0 0.0\n",
      "index 1939 n+1 3 i 942 E[n+1, i] 0.0 E[n+1, i]/E_0 0.0 0.0 0.0 0.0\n",
      "index 1940 n+1 3 i 943 E[n+1, i] 0.0 E[n+1, i]/E_0 0.0 0.0 0.0 0.0\n",
      "index 1941 n+1 3 i 944 E[n+1, i] 0.0 E[n+1, i]/E_0 0.0 0.0 0.0 0.0\n",
      "index 1942 n+1 3 i 945 E[n+1, i] 0.0 E[n+1, i]/E_0 0.0 0.0 0.0 0.0\n",
      "index 1943 n+1 3 i 946 E[n+1, i] 0.0 E[n+1, i]/E_0 0.0 0.0 0.0 0.0\n",
      "index 1944 n+1 3 i 947 E[n+1, i] 0.0 E[n+1, i]/E_0 0.0 0.0 0.0 0.0\n",
      "index 1945 n+1 3 i 948 E[n+1, i] 0.0 E[n+1, i]/E_0 0.0 0.0 0.0 0.0\n",
      "index 1946 n+1 3 i 949 E[n+1, i] 0.0 E[n+1, i]/E_0 0.0 0.0 0.0 0.0\n",
      "index 1947 n+1 3 i 950 E[n+1, i] 0.0 E[n+1, i]/E_0 0.0 0.0 0.0 0.0\n",
      "index 1948 n+1 3 i 951 E[n+1, i] 0.0 E[n+1, i]/E_0 0.0 0.0 0.0 0.0\n",
      "index 1949 n+1 3 i 952 E[n+1, i] 0.0 E[n+1, i]/E_0 0.0 0.0 0.0 0.0\n",
      "index 1950 n+1 3 i 953 E[n+1, i] 0.0 E[n+1, i]/E_0 0.0 0.0 0.0 0.0\n",
      "index 1951 n+1 3 i 954 E[n+1, i] 0.0 E[n+1, i]/E_0 0.0 0.0 0.0 0.0\n",
      "index 1952 n+1 3 i 955 E[n+1, i] 0.0 E[n+1, i]/E_0 0.0 0.0 0.0 0.0\n",
      "index 1953 n+1 3 i 956 E[n+1, i] 0.0 E[n+1, i]/E_0 0.0 0.0 0.0 0.0\n",
      "index 1954 n+1 3 i 957 E[n+1, i] 0.0 E[n+1, i]/E_0 0.0 0.0 0.0 0.0\n",
      "index 1955 n+1 3 i 958 E[n+1, i] 0.0 E[n+1, i]/E_0 0.0 0.0 0.0 0.0\n",
      "index 1956 n+1 3 i 959 E[n+1, i] 0.0 E[n+1, i]/E_0 0.0 0.0 0.0 0.0\n",
      "index 1957 n+1 3 i 960 E[n+1, i] 0.0 E[n+1, i]/E_0 0.0 0.0 0.0 0.0\n",
      "index 1958 n+1 3 i 961 E[n+1, i] 0.0 E[n+1, i]/E_0 0.0 0.0 0.0 0.0\n",
      "index 1959 n+1 3 i 962 E[n+1, i] 0.0 E[n+1, i]/E_0 0.0 0.0 0.0 0.0\n",
      "index 1960 n+1 3 i 963 E[n+1, i] 0.0 E[n+1, i]/E_0 0.0 0.0 0.0 0.0\n",
      "index 1961 n+1 3 i 964 E[n+1, i] 0.0 E[n+1, i]/E_0 0.0 0.0 0.0 0.0\n",
      "index 1962 n+1 3 i 965 E[n+1, i] 0.0 E[n+1, i]/E_0 0.0 0.0 0.0 0.0\n",
      "index 1963 n+1 3 i 966 E[n+1, i] 0.0 E[n+1, i]/E_0 0.0 0.0 0.0 0.0\n",
      "index 1964 n+1 3 i 967 E[n+1, i] 0.0 E[n+1, i]/E_0 0.0 0.0 0.0 0.0\n",
      "index 1965 n+1 3 i 968 E[n+1, i] 0.0 E[n+1, i]/E_0 0.0 0.0 0.0 0.0\n",
      "index 1966 n+1 3 i 969 E[n+1, i] 0.0 E[n+1, i]/E_0 0.0 0.0 0.0 0.0\n",
      "index 1967 n+1 3 i 970 E[n+1, i] 0.0 E[n+1, i]/E_0 0.0 0.0 0.0 0.0\n",
      "index 1968 n+1 3 i 971 E[n+1, i] 0.0 E[n+1, i]/E_0 0.0 0.0 0.0 0.0\n",
      "index 1969 n+1 3 i 972 E[n+1, i] 0.0 E[n+1, i]/E_0 0.0 0.0 0.0 0.0\n",
      "index 1970 n+1 3 i 973 E[n+1, i] 0.0 E[n+1, i]/E_0 0.0 0.0 0.0 0.0\n",
      "index 1971 n+1 3 i 974 E[n+1, i] 0.0 E[n+1, i]/E_0 0.0 0.0 0.0 0.0\n",
      "index 1972 n+1 3 i 975 E[n+1, i] 0.0 E[n+1, i]/E_0 0.0 0.0 0.0 0.0\n",
      "index 1973 n+1 3 i 976 E[n+1, i] 0.0 E[n+1, i]/E_0 0.0 0.0 0.0 0.0\n",
      "index 1974 n+1 3 i 977 E[n+1, i] 0.0 E[n+1, i]/E_0 0.0 0.0 0.0 0.0\n",
      "index 1975 n+1 3 i 978 E[n+1, i] 0.0 E[n+1, i]/E_0 0.0 0.0 0.0 0.0\n",
      "index 1976 n+1 3 i 979 E[n+1, i] 0.0 E[n+1, i]/E_0 0.0 0.0 0.0 0.0\n",
      "index 1977 n+1 3 i 980 E[n+1, i] 0.0 E[n+1, i]/E_0 0.0 0.0 0.0 0.0\n",
      "index 1978 n+1 3 i 981 E[n+1, i] 0.0 E[n+1, i]/E_0 0.0 0.0 0.0 0.0\n",
      "index 1979 n+1 3 i 982 E[n+1, i] 0.0 E[n+1, i]/E_0 0.0 0.0 0.0 0.0\n",
      "index 1980 n+1 3 i 983 E[n+1, i] 0.0 E[n+1, i]/E_0 0.0 0.0 0.0 0.0\n",
      "index 1981 n+1 3 i 984 E[n+1, i] 0.0 E[n+1, i]/E_0 0.0 0.0 0.0 0.0\n",
      "index 1982 n+1 3 i 985 E[n+1, i] 0.0 E[n+1, i]/E_0 0.0 0.0 0.0 0.0\n",
      "index 1983 n+1 3 i 986 E[n+1, i] 0.0 E[n+1, i]/E_0 0.0 0.0 0.0 0.0\n",
      "index 1984 n+1 3 i 987 E[n+1, i] 0.0 E[n+1, i]/E_0 0.0 0.0 0.0 0.0\n",
      "index 1985 n+1 3 i 988 E[n+1, i] 0.0 E[n+1, i]/E_0 0.0 0.0 0.0 0.0\n",
      "index 1986 n+1 3 i 989 E[n+1, i] 0.0 E[n+1, i]/E_0 0.0 0.0 0.0 0.0\n",
      "index 1987 n+1 3 i 990 E[n+1, i] 0.0 E[n+1, i]/E_0 0.0 0.0 0.0 0.0\n",
      "index 1988 n+1 3 i 991 E[n+1, i] 0.0 E[n+1, i]/E_0 0.0 0.0 0.0 0.0\n",
      "index 1989 n+1 3 i 992 E[n+1, i] 0.0 E[n+1, i]/E_0 0.0 0.0 0.0 0.0\n",
      "index 1990 n+1 3 i 993 E[n+1, i] 0.0 E[n+1, i]/E_0 0.0 0.0 0.0 0.0\n",
      "index 1991 n+1 3 i 994 E[n+1, i] 0.0 E[n+1, i]/E_0 0.0 0.0 0.0 0.0\n",
      "index 1992 n+1 3 i 995 E[n+1, i] 0.0 E[n+1, i]/E_0 0.0 0.0 0.0 0.0\n",
      "index 1993 n+1 3 i 996 E[n+1, i] 0.0 E[n+1, i]/E_0 0.0 0.0 0.0 0.0\n",
      "index 1994 n+1 3 i 997 E[n+1, i] 0.0 E[n+1, i]/E_0 0.0 0.0 0.0 0.0\n",
      "index 1995 n+1 3 i 998 E[n+1, i] 0.0 E[n+1, i]/E_0 0.0 0.0 0.0 0.0\n",
      "index 1996 n+1 3 i 999 E[n+1, i] 0.0 E[n+1, i]/E_0 0.0 0.0 0.0 0.0\n",
      "index 1997 n+1 3 i 1000 E[n+1, i] 0.0 E[n+1, i]/E_0 0.0 0.0 0.0 0.0\n"
     ]
    }
   ],
   "source": [
    "x = []  # spatial domain (can also think of as coordinates of grid points)\n",
    "t = []  # time domain\n",
    "\n",
    "# Creating arrays for the spatial and time domains. Starting at -2 in order to create ghost cells. And ending with + 3 for the same reason\n",
    "# The ghost cells are there so that in the matrix we can access all indeces\n",
    "# To append, using formula Dr. Woo gave me: X_i = delta_x(i + 1/2)\n",
    "for i in range(-2, n_cells + 3):\n",
    "    x.append(delta_x * (i + 0.5))\n",
    "\n",
    "for i in range(-2, n_timestep + 3):\n",
    "    t.append(delta_t * (i + 0.5))\n",
    "    \n",
    "x = np.array(x)\n",
    "t = np.array(t)\n",
    "\n",
    "# BEFORE: E = np.zeros((len(x), len(t)))\n",
    "E = np.zeros((len(t), len(x)))\n",
    "# E_10 = np.zeros((len(t), len(x)))\n",
    "\n",
    "r_const = ( (delta_t/delta_x) * (speed_of_light/RefractiveIndex) ) ** 2 # our parameter\n",
    "print('r_const', r_const)\n",
    "\n",
    "# These loops will go through the grid. We start at 1 so as to not calculate the\n",
    "# value when the a time or spatial point is equal to 0.\n",
    "index = 0\n",
    "for n in range(1, (len(t) - 3)*0 + 3):\n",
    "    t_sim = t[n] # in seconds\n",
    "    \n",
    "    # Initial conditions in time:\n",
    "    E[n-1, 0] = E_0 * np.sin( angular_frequency * t[n-1] - wavenumber * x[0] )\n",
    "    E[n-1, 1] = E_0 * np.sin( angular_frequency * t[n-1] - wavenumber * x[1] )\n",
    "    \n",
    "    # Instantenously defining the boundary conditions/values of ghost cells on the RIGHT:\n",
    "    E[n, 0] = E_0 * np.sin( angular_frequency * t[n] - wavenumber * x[0] )\n",
    "    E[n, 1] = E_0 * np.sin( angular_frequency * t[n] - wavenumber * x[1] )\n",
    "    \n",
    "    # We have no laser on the left, so boundary conditions are just 0\n",
    "    E[n, -1] = 0\n",
    "    E[n, -2] = 0\n",
    "    \n",
    "    # Initial conditions in time:\n",
    "    E[1, 2:] = 0\n",
    "    for i in range(2, len(x) - 3):\n",
    "        E[n+1, i] = (r_const) * ( E[n, i+1] - 2*E[n, i] + E[n, i-1] ) - ( -2*E[n, i] + E[n-1, i] )\n",
    "        \n",
    "#         print('E[n+1, i]/E_0', E[n+1, i]/E_0)\n",
    "        if n == 2:\n",
    "            print('index', index, 'n+1', n+1, 'i', i, 'E[n+1, i]', E[n+1, i], 'E[n+1, i]/E_0', E[n+1, i]/E_0, (r_const) * (E[n, i+1] - 2*E[n, i] + E[n, i-1]), -2*E[n, i] + E[n-1, i], E[n, i-1] * r_const)\n",
    "        \n",
    "        # if the ratio is not bounded to from -1 to 1, then we have overshot and are out of simulation physical bounds\n",
    "        if (True) and abs(E[n+1, i]/E_0) > 1:\n",
    "            print('stop')\n",
    "            #print('index', index, 'n+1', n+1, 'i', i, \"E[n+1, i] {:.{}e}\".format(E_complex[n+1, i], precision_num), 'abs(E[n+1, i])/abs(E_0) {:.{}e}'.format(abs(E_complex[n+1, i])/abs(E_0), precision_num))\n",
    "            print('index', index, 'n+1', n+1, 'i', i, 'E[n+1, i]', E[n+1, i], 'E[n+1, i]/E_0', E[n+1, i]/E_0, (r_const) * (E[n, i+1] - 2*E[n, i] + E[n, i-1]), -2*E[n, i] + E[n-1, i], E[n, i-1] * r_const)\n",
    "            break\n",
    "    \n",
    "        index += 1"
   ]
  },
  {
   "cell_type": "code",
   "execution_count": 9,
   "id": "c3525f12",
   "metadata": {},
   "outputs": [
    {
     "ename": "IndexError",
     "evalue": "index 19999 is out of bounds for axis 0 with size 10004",
     "output_type": "error",
     "traceback": [
      "\u001b[1;31m---------------------------------------------------------------------------\u001b[0m",
      "\u001b[1;31mIndexError\u001b[0m                                Traceback (most recent call last)",
      "Cell \u001b[1;32mIn[9], line 1\u001b[0m\n\u001b[1;32m----> 1\u001b[0m plt\u001b[38;5;241m.\u001b[39mplot(x\u001b[38;5;241m/\u001b[39mnm, \u001b[43mE\u001b[49m\u001b[43m[\u001b[49m\u001b[38;5;241;43m19999\u001b[39;49m\u001b[43m,\u001b[49m\u001b[43m \u001b[49m\u001b[43m:\u001b[49m\u001b[43m]\u001b[49m)\n",
      "\u001b[1;31mIndexError\u001b[0m: index 19999 is out of bounds for axis 0 with size 10004"
     ]
    }
   ],
   "source": [
    "plt.plot(x/nm, E[19999, :])"
   ]
  },
  {
   "cell_type": "code",
   "execution_count": null,
   "id": "53758751",
   "metadata": {},
   "outputs": [],
   "source": [
    "E.shape"
   ]
  },
  {
   "cell_type": "code",
   "execution_count": null,
   "id": "1d215db9",
   "metadata": {},
   "outputs": [],
   "source": [
    "n_timestep"
   ]
  },
  {
   "cell_type": "code",
   "execution_count": null,
   "id": "da904c39",
   "metadata": {
    "scrolled": true
   },
   "outputs": [],
   "source": [
    "plt.plot(x/nm, E[9999 * 10, :], 'ro')"
   ]
  },
  {
   "cell_type": "code",
   "execution_count": null,
   "id": "d19e6e4d",
   "metadata": {
    "scrolled": false
   },
   "outputs": [],
   "source": [
    "plt.plot(x/nm, E[9999 * int(9.5), :], 'ro')"
   ]
  },
  {
   "cell_type": "code",
   "execution_count": null,
   "id": "8e8cd5cd",
   "metadata": {},
   "outputs": [],
   "source": [
    "plt.plot(E_0 * np.sin( angular_frequency * t - wavenumber * x[0] ))"
   ]
  },
  {
   "cell_type": "code",
   "execution_count": null,
   "id": "e0a9b27a",
   "metadata": {},
   "outputs": [],
   "source": [
    "delta_t"
   ]
  },
  {
   "cell_type": "code",
   "execution_count": null,
   "id": "f03d59c8",
   "metadata": {},
   "outputs": [],
   "source": [
    "T/delta_t"
   ]
  },
  {
   "cell_type": "code",
   "execution_count": null,
   "id": "c27482a7",
   "metadata": {},
   "outputs": [],
   "source": [
    "(delta_t * 600) / period"
   ]
  },
  {
   "cell_type": "markdown",
   "id": "823398fa",
   "metadata": {},
   "source": [
    "## Modeling the damping wave"
   ]
  },
  {
   "cell_type": "code",
   "execution_count": 10,
   "id": "2a7c67b4",
   "metadata": {},
   "outputs": [],
   "source": [
    "# defining complex index of refraction\n",
    "n_r = 1\n",
    "# n_i = 6.48\n",
    "n_i = 0\n",
    "# complex_refractive_index = np.cdouble(complex(n_r, n_i))\n",
    "complex_refractive_index = complex(n_r, n_i)"
   ]
  },
  {
   "cell_type": "code",
   "execution_count": 11,
   "id": "f34484c4",
   "metadata": {},
   "outputs": [
    {
     "data": {
      "text/plain": [
       "(1+0j)"
      ]
     },
     "execution_count": 11,
     "metadata": {},
     "output_type": "execute_result"
    }
   ],
   "source": [
    "complex_refractive_index"
   ]
  },
  {
   "cell_type": "code",
   "execution_count": 12,
   "id": "95f549aa",
   "metadata": {},
   "outputs": [],
   "source": [
    "R = 25 * um # radius of laser\n",
    "E_L = 10 * (10 ** -6) # in joules laser energy (10 mu joules)\n",
    "Area_L = np.pi * R **2 # area of laser\n",
    "T_laser = 100 * ps # laser pulse time\n",
    "I_0 = E_L / (Area_L * T_laser) # laser intensities (SI unit is Joules/(m**2) * s )\n",
    "permittivity_free_space = 8.85418782 * 10 **-12\n",
    "\n",
    "# Electric field (same as before but now using complex refractive index)\n",
    "refract_index_ghost = 1\n",
    "E_0 = np.sqrt( (2 * I_0) / (speed_of_light * refract_index_ghost * permittivity_free_space)) # SI unit is voltage / m\n",
    "\n",
    "# Laser intensity\n",
    "I_0 = E_L / (Area_L * T_laser) # laser intensities (SI unit is Joules/(m**2) * s )"
   ]
  },
  {
   "cell_type": "code",
   "execution_count": 55,
   "id": "687d18a9",
   "metadata": {},
   "outputs": [
    {
     "data": {
      "text/plain": [
       "195891384.73574314"
      ]
     },
     "execution_count": 55,
     "metadata": {},
     "output_type": "execute_result"
    }
   ],
   "source": [
    "E_0"
   ]
  },
  {
   "cell_type": "code",
   "execution_count": 13,
   "id": "f6ed27eb",
   "metadata": {},
   "outputs": [],
   "source": [
    "E_complex = 1j * np.zeros((len(t), len(x)))"
   ]
  },
  {
   "cell_type": "code",
   "execution_count": 14,
   "id": "ce3b4b85",
   "metadata": {},
   "outputs": [],
   "source": [
    "from time import process_time"
   ]
  },
  {
   "cell_type": "code",
   "execution_count": 18,
   "id": "26ddc959",
   "metadata": {},
   "outputs": [
    {
     "name": "stdout",
     "output_type": "stream",
     "text": [
      "E_complex.max() 0j\n",
      "E_complex.min() 0j\n",
      "r_const_complex (0.010000000000000004+0j)\n",
      "Elapsed time: 13.53125 7.109375\n",
      "Elapsed time during the whole program in minutes: 0.10703125000000001\n"
     ]
    }
   ],
   "source": [
    "# Start the stopwatch / counter \n",
    "t1_start = process_time() \n",
    "\n",
    "x = []  # spatial domain (can also think of as coordinates of grid points)\n",
    "t = []  # time domain\n",
    "\n",
    "# Creating arrays for the spatial and time domains. Starting at -2 in order to create ghost cells. And ending with + 3 for the same reason\n",
    "# The ghost cells are there so that in the matrix we can access all indeces\n",
    "# To append, using formula Dr. Woo gave me: X_i = delta_x(i + 1/2)\n",
    "for i in range(-2, n_cells + 3):\n",
    "    x.append(delta_x * (i + 0.5))\n",
    "\n",
    "for i in range(-2, n_timestep + 3):\n",
    "    t.append(delta_t * (i + 0.5))\n",
    "    \n",
    "x = np.array(x)\n",
    "t = np.array(t)\n",
    "\n",
    "E_complex = 1j * np.zeros((len(t), len(x)))\n",
    "\n",
    "print('E_complex.max()', E_complex.max()) \n",
    "print('E_complex.min()', E_complex.min())\n",
    "\n",
    "r_const_complex = ( (delta_t/delta_x) * (speed_of_light/complex_refractive_index) ) ** 2 # our parameter\n",
    "print('r_const_complex', r_const_complex)\n",
    "\n",
    "# These loops will go through the grid. We start at 1 so as to not calculate the\n",
    "# value when the a time or spatial point is equal to 0.\n",
    "index = 0\n",
    "for n in range(1, (len(t) - 3)*1 + 0):\n",
    "    t_sim = t[n] # in seconds\n",
    "    \n",
    "    # Defning cos and sin terms for wave to later be turned into complex numbers for t_nm1\n",
    "    cos_term_0_t_nm1 = E_0 * np.cos((wavenumber * x[0]) - (angular_frequency * t[n-1]) + np.pi/2)\n",
    "#     sin_term_0_t_nm1 = E_0 * np.sin((wavenumber * x[0]) - (angular_frequency * t[n-1]) + np.pi/2)\n",
    "    sin_term_0_t_nm1 = 0\n",
    "    \n",
    "    cos_term_1_t_nm1 = E_0 * np.cos((wavenumber * x[1]) - (angular_frequency * t[n-1]) + np.pi/2)\n",
    "#     sin_term_1_t_nm1 = E_0 * np.sin((wavenumber * x[1]) - (angular_frequency * t[n-1]) + np.pi/2)\n",
    "    sin_term_1_t_nm1 = 0\n",
    "    \n",
    "#     print('cos_term_0_t_nm1', cos_term_0_t_nm1)\n",
    "#     print('sin_term_0_t_nm1', sin_term_0_t_nm1)\n",
    "#     print('cos_term_1_t_nm1', cos_term_1_t_nm1)\n",
    "#     print('sin_term_1_t_nm1', sin_term_1_t_nm1)\n",
    "\n",
    "    \n",
    "    # Initial conditions in time:\n",
    "    E_complex[n-1, 0] = complex(cos_term_0_t_nm1, sin_term_0_t_nm1)\n",
    "    E_complex[n-1, 1] = complex(cos_term_1_t_nm1, sin_term_1_t_nm1)\n",
    "    \n",
    "#     print('E_complex[n-1, 0]', E_complex[n-1, 0])\n",
    "#     print('E_complex[n-1, 1]', E_complex[n-1, 1])\n",
    "#     print('abs(E_complex[n-1, 0])', abs(E_complex[n-1, 0]), 'abs(E_complex[n-1, 1])', abs(E_complex[n-1, 1]))\n",
    "#     print('E_0', E_0)\n",
    "\n",
    "    \n",
    "    # Defning cos and sin terms for wave to later be turned into complex numbers for t_n\n",
    "    cos_term_0_t_n = E_0 * np.cos((wavenumber * x[0]) - (angular_frequency * t[n]) + np.pi/2)\n",
    "#     sin_term_0_t_n = E_0 * np.sin((wavenumber * x[0]) - (angular_frequency * t[n]) + np.pi/2)\n",
    "    sin_term_0_t_n = 0\n",
    "    \n",
    "    cos_term_1_t_n = E_0 * np.cos((wavenumber * x[1]) - (angular_frequency * t[n]) + np.pi/2)\n",
    "#     sin_term_1_t_n = E_0 * np.sin((wavenumber * x[1]) - (angular_frequency * t[n]) + np.pi/2)\n",
    "    sin_term_1_t_n = 0\n",
    "    \n",
    "#     print('cos_term_0_t_n', cos_term_0_t_n)\n",
    "#     print('sin_term_1_t_n', sin_term_1_t_n)\n",
    "    \n",
    "    \n",
    "    # Instantenously defining the boundary conditions/values of ghost cells on the RIGHT:\n",
    "    E_complex[n, 0] = complex(cos_term_0_t_n, sin_term_0_t_n)\n",
    "    E_complex[n, 1] = complex(cos_term_1_t_n, sin_term_1_t_n)\n",
    "    \n",
    "#     print()\n",
    "#     print('E_complex[n, 0]', E_complex[n, 0])\n",
    "#     print('E_complex[n, 1]', E_complex[n, 1])\n",
    "#     print('abs(E_complex[n, 0])', abs(E_complex[n, 0]), 'abs(E_complex[n, 1])', abs(E_complex[n, 1]))\n",
    "#     print('E_0', E_0)\n",
    "    \n",
    "    # We have no laser on the left, so boundary conditions are just 0\n",
    "    E_complex[n, -1] = complex(0)\n",
    "    E_complex[n, -2] = complex(0)\n",
    "    \n",
    "    # Initial conditions in time:\n",
    "#     E_complex[1, 2:] = 0\n",
    "    \n",
    "    precision_num = 10\n",
    "    for i in range(2, len(x) - 3):\n",
    "        E_complex[n+1, i] = (r_const_complex) * ( E_complex[n, i+1] - 2*E_complex[n, i] + E_complex[n, i-1] ) - ( -2*E_complex[n, i] + E_complex[n-1, i] )\n",
    "        \n",
    "        if (True) and abs(E_complex[n+1, i])/abs(E_0) > 1:\n",
    "            E_complex[n+1, i] = E_0 * np.sign(E_complex[n, i])\n",
    "            \n",
    "#         print('E[n+1, i]/E_0', E[n+1, i]/E_0)\n",
    "\n",
    "        if (False) and n == 2:\n",
    "            print('index', index, 'n+1', n+1, 'i', i, \"E[n+1, i] {:.{}e}\".format(E_complex[n+1, i], precision_num), 'abs(E[n+1, i])/abs(E_0) {:.{}e}'.format(abs(E_complex[n+1, i])/abs(E_0), precision_num))\n",
    "            \n",
    "\n",
    "        # if the ratio is not bounded to from -1 to 1, then we have overshot and are out of simulation physical bounds\n",
    "        if (False) and abs(E_complex[n+1, i])/abs(E_0) > 1:\n",
    "            print('stop')\n",
    "#             print('index', index, 'n+1', n+1, 'i', i, \"E[n+1, i] {:.{}e}\".format(E_complex[n+1, i], precision_num), 'abs(E[n+1, i])/abs(E_0) {:.{}e}'.format(abs(E_complex[n+1, i])/abs(E_0), precision_num))\n",
    "            print('index', index, 'n+1', n+1, 'i', i, \"E[n+1, i]\", E_complex[n+1, i], 'abs(E[n+1, i])/abs(E_0) ', abs(E_complex[n+1, i])/abs(E_0))\n",
    "            print()\n",
    "            print(\"E_0 {:.{}e}\".format(E_0, precision_num))\n",
    "            print()\n",
    "            print('(r_const_complex) * ( E[n, i+1] - 2*E[n, i] + E[n, i-1] ) {:.{}e}'.format((r_const_complex) * ( E_complex[n, i+1] - 2*E_complex[n, i] + E_complex[n, i-1] ), precision_num))\n",
    "            print('abs((r_const_complex) * ( E[n, i+1] - 2*E[n, i] + E[n, i-1] )) {:.{}e}'.format(abs((r_const_complex) * ( E_complex[n, i+1] - 2*E_complex[n, i] + E_complex[n, i-1] )), precision_num))\n",
    "            print()\n",
    "            print('( -2*E[n, i] + E[n-1, i] ) {:.{}e}'.format( ( -2*E_complex[n, i] + E_complex[n-1, i] ), precision_num) )\n",
    "            \n",
    "            print('abs( -2*E[n, i] + E[n-1, i] ) {:.{}e}'.format( abs(( -2*E_complex[n, i] + E_complex[n-1, i] )), precision_num) )\n",
    "            print()\n",
    "            print('abs(r_const_complex) {:.{}e}'.format( abs(r_const_complex), precision_num) )\n",
    "            print()\n",
    "            \n",
    "            print('E[n, i+1] {:.{}e}'.format(E_complex[n, i+1], precision_num), 'E[n, i] {:.{}e}'.format(E_complex[n, i], precision_num), 'E[n, i-1] {:.{}e}'.format(E_complex[n, i-1], precision_num), 'E[n-1, i] {:.{}e}'.format( E_complex[n-1, i], precision_num))\n",
    "            print()\n",
    "            print(abs(E_complex[n, i+1]/E_0),  abs(E_complex[n, i]/E_0), abs(E_complex[n, i-1]/E_0), abs(E_complex[n-1, i]/E_0))\n",
    "            print()\n",
    "            \n",
    "            print('cos_term_0_t_nm1', cos_term_0_t_nm1)\n",
    "            print('sin_term_0_t_nm1', sin_term_0_t_nm1)\n",
    "            print('cos_term_1_t_nm1', cos_term_1_t_nm1)\n",
    "            print('sin_term_1_t_nm1', sin_term_1_t_nm1)\n",
    "            \n",
    "            print(np.sqrt(cos_term_0_t_nm1 ** 2 + sin_term_0_t_nm1 ** 2))\n",
    "            print(np.sqrt(cos_term_1_t_nm1 ** 2 + sin_term_1_t_nm1 ** 2))\n",
    "            \n",
    "            print(np.sqrt(cos_term_0_t_n ** 2 + sin_term_0_t_n ** 2))\n",
    "            print(np.sqrt(cos_term_1_t_n ** 2 + sin_term_1_t_n ** 2))\n",
    "            print()\n",
    "            break\n",
    "    \n",
    "        index += 1\n",
    "        \n",
    "# Stop the stopwatch / counter\n",
    "t1_stop = process_time()\n",
    "   \n",
    "print(\"Elapsed time:\", t1_stop, t1_start) \n",
    "   \n",
    "print(\"Elapsed time during the whole program in minutes:\",\n",
    "                                         t1_stop/60 -t1_start/60 ) "
   ]
  },
  {
   "cell_type": "code",
   "execution_count": 151,
   "id": "4ae73b7a",
   "metadata": {
    "scrolled": true
   },
   "outputs": [
    {
     "data": {
      "text/plain": [
       "0.008200000000000002"
      ]
     },
     "execution_count": 151,
     "metadata": {},
     "output_type": "execute_result"
    }
   ],
   "source": [
    "(82 * delta_t )/T"
   ]
  },
  {
   "cell_type": "code",
   "execution_count": 128,
   "id": "f03e1b78",
   "metadata": {
    "scrolled": true
   },
   "outputs": [
    {
     "data": {
      "text/plain": [
       "(100004, 2004)"
      ]
     },
     "execution_count": 128,
     "metadata": {},
     "output_type": "execute_result"
    }
   ],
   "source": [
    "E_complex.shape"
   ]
  },
  {
   "cell_type": "code",
   "execution_count": 22,
   "id": "bacac8a0",
   "metadata": {},
   "outputs": [
    {
     "data": {
      "text/plain": [
       "[<matplotlib.lines.Line2D at 0x1df59291050>]"
      ]
     },
     "execution_count": 22,
     "metadata": {},
     "output_type": "execute_result"
    },
    {
     "data": {
      "image/png": "[encoded data removed]",
      "text/plain": [
       "<Figure size 640x480 with 1 Axes>"
      ]
     },
     "metadata": {},
     "output_type": "display_data"
    }
   ],
   "source": [
    "plt.plot( E_complex[int(9999 * 1), :].real)"
   ]
  },
  {
   "cell_type": "code",
   "execution_count": 132,
   "id": "26d28473",
   "metadata": {},
   "outputs": [
    {
     "data": {
      "text/plain": [
       "[<matplotlib.lines.Line2D at 0x28f029dfe10>]"
      ]
     },
     "execution_count": 132,
     "metadata": {},
     "output_type": "execute_result"
    },
    {
     "data": {
      "image/png": "[encoded data removed]",
      "text/plain": [
       "<Figure size 640x480 with 1 Axes>"
      ]
     },
     "metadata": {},
     "output_type": "display_data"
    }
   ],
   "source": [
    "plt.plot(x/nm, E_complex[9999 * 10, :]/E_0)"
   ]
  },
  {
   "cell_type": "code",
   "execution_count": 13,
   "id": "a4ef2716",
   "metadata": {},
   "outputs": [],
   "source": [
    "cos_term_0_t_nm1 = E_0 * np.cos((wavenumber * x[0]) - (angular_frequency * t) + np.pi/2)\n",
    "sin_term_0_t_nm1 = E_0 * np.sin((wavenumber * x[0]) - (angular_frequency * t) + np.pi/2)\n",
    "\n",
    "cos_term_1_t_nm1 = E_0 * np.cos((wavenumber * x[1]) - (angular_frequency * t) + np.pi/2)\n",
    "sin_term_1_t_nm1 = E_0 * np.sin((wavenumber * x[1]) - (angular_frequency * t) + np.pi/2)"
   ]
  },
  {
   "cell_type": "code",
   "execution_count": 14,
   "id": "12618548",
   "metadata": {},
   "outputs": [
    {
     "data": {
      "text/plain": [
       "[<matplotlib.lines.Line2D at 0x232c8da5890>]"
      ]
     },
     "execution_count": 14,
     "metadata": {},
     "output_type": "execute_result"
    },
    {
     "data": {
      "image/png": "[encoded data removed]",
      "text/plain": [
       "<Figure size 640x480 with 1 Axes>"
      ]
     },
     "metadata": {},
     "output_type": "display_data"
    }
   ],
   "source": [
    "plt.plot(E_0 * np.sin( angular_frequency * t - wavenumber * x[0] ))"
   ]
  },
  {
   "cell_type": "code",
   "execution_count": 15,
   "id": "0d49185f",
   "metadata": {},
   "outputs": [
    {
     "data": {
      "image/png": "[encoded data removed]",
      "text/plain": [
       "<Figure size 640x480 with 1 Axes>"
      ]
     },
     "metadata": {},
     "output_type": "display_data"
    }
   ],
   "source": [
    "plt.plot(cos_term_0_t_nm1)\n",
    "plt.plot(cos_term_1_t_nm1)\n",
    "plt.show()"
   ]
  },
  {
   "cell_type": "code",
   "execution_count": 13,
   "id": "d5a018f4",
   "metadata": {},
   "outputs": [
    {
     "name": "stderr",
     "output_type": "stream",
     "text": [
      "C:\\Users\\nickd\\OneDrive\\Documents\\GitHub\\PFURO-2023-PRIV\\Code\\pfurovenv\\Lib\\site-packages\\matplotlib\\cbook\\__init__.py:1335: ComplexWarning: Casting complex values to real discards the imaginary part\n",
      "  return np.asarray(x, float)\n"
     ]
    },
    {
     "data": {
      "image/png": "[encoded data removed]",
      "text/plain": [
       "<Figure size 640x480 with 1 Axes>"
      ]
     },
     "metadata": {},
     "output_type": "display_data"
    }
   ],
   "source": [
    "plt.plot(x/nm, E[9999, :])\n",
    "plt.plot(x/nm, E_complex[9999, :])\n",
    "format_title = \"{} * λ real over complex\".format(lambda_mult)\n",
    "plt.title(format_title)\n",
    "plt.legend([\"real: {} * λ\".format(lambda_mult), \"complex: {} * λ\".format(lambda_mult)])\n",
    "plt.savefig('{}_times_lambda.png'.format(lambda_mult))"
   ]
  },
  {
   "cell_type": "code",
   "execution_count": 68,
   "id": "837a0032",
   "metadata": {},
   "outputs": [],
   "source": [
    "cos_term_0_t_n = E_0 * np.cos((wavenumber * x[0]) - (angular_frequency * t))\n",
    "sin_term_0_t_n = E_0 * np.sin((wavenumber * x[0]) - (angular_frequency * t))\n",
    "\n",
    "cos_term_1_t_n = E_0 * np.cos((wavenumber * x[1]) - (angular_frequency * t))\n",
    "sin_term_1_t_n = E_0 * np.sin((wavenumber * x[1]) - (angular_frequency * t))"
   ]
  },
  {
   "cell_type": "code",
   "execution_count": 254,
   "id": "acd29865",
   "metadata": {},
   "outputs": [
    {
     "data": {
      "text/plain": [
       "923112.9862372458"
      ]
     },
     "execution_count": 254,
     "metadata": {},
     "output_type": "execute_result"
    }
   ],
   "source": [
    "cos_term_0_t_nm1"
   ]
  },
  {
   "cell_type": "code",
   "execution_count": 244,
   "id": "03ff8e22",
   "metadata": {},
   "outputs": [
    {
     "data": {
      "text/plain": [
       "[<matplotlib.lines.Line2D at 0x22b5a142a90>]"
      ]
     },
     "execution_count": 244,
     "metadata": {},
     "output_type": "execute_result"
    },
    {
     "data": {
      "image/png": "[encoded data removed]",
      "text/plain": [
       "<Figure size 640x480 with 1 Axes>"
      ]
     },
     "metadata": {},
     "output_type": "display_data"
    }
   ],
   "source": [
    "plt.plot(np.sqrt(cos_term_1_t_nm1 ** 2 + sin_term_1_t_nm1 ** 2))"
   ]
  },
  {
   "cell_type": "code",
   "execution_count": 289,
   "id": "c626c1b0",
   "metadata": {},
   "outputs": [],
   "source": [
    "from scipy.ndimage import gaussian_filter1d"
   ]
  },
  {
   "cell_type": "code",
   "execution_count": null,
   "id": "de13cc0d",
   "metadata": {
    "scrolled": false
   },
   "outputs": [],
   "source": [
    "plt.plot(x/nm, gaussian_filter1d(E[2000, :].real, 5))"
   ]
  },
  {
   "cell_type": "code",
   "execution_count": 92,
   "id": "fbd553ba",
   "metadata": {
    "collapsed": true
   },
   "outputs": [
    {
     "data": {
      "text/plain": [
       "[<matplotlib.lines.Line2D at 0x22b522fd610>]"
      ]
     },
     "execution_count": 92,
     "metadata": {},
     "output_type": "execute_result"
    },
    {
     "data": {
      "image/png": "[encoded data removed]",
      "text/plain": [
       "<Figure size 640x480 with 1 Axes>"
      ]
     },
     "metadata": {},
     "output_type": "display_data"
    }
   ],
   "source": [
    "plt.plot(E[10,:])"
   ]
  },
  {
   "cell_type": "code",
   "execution_count": 93,
   "id": "702f4e59",
   "metadata": {
    "collapsed": true
   },
   "outputs": [
    {
     "data": {
      "text/plain": [
       "[<matplotlib.lines.Line2D at 0x22b525b2990>]"
      ]
     },
     "execution_count": 93,
     "metadata": {},
     "output_type": "execute_result"
    },
    {
     "data": {
      "image/png": "[encoded data removed]",
      "text/plain": [
       "<Figure size 640x480 with 1 Axes>"
      ]
     },
     "metadata": {},
     "output_type": "display_data"
    }
   ],
   "source": [
    "plt.plot(E[20, :])"
   ]
  },
  {
   "cell_type": "code",
   "execution_count": null,
   "id": "da0ea3c0",
   "metadata": {},
   "outputs": [],
   "source": [
    "plt.plot()"
   ]
  },
  {
   "cell_type": "code",
   "execution_count": 85,
   "id": "80bc5e91",
   "metadata": {},
   "outputs": [
    {
     "data": {
      "text/plain": [
       "0.082"
      ]
     },
     "execution_count": 85,
     "metadata": {},
     "output_type": "execute_result"
    }
   ],
   "source": [
    "(delta_t * 820) / period "
   ]
  },
  {
   "cell_type": "code",
   "execution_count": 42,
   "id": "ea888186",
   "metadata": {},
   "outputs": [],
   "source": [
    "r_const_complex = ( (delta_t/delta_x) * (speed_of_light/complex_refractive_index) ) ** 2"
   ]
  },
  {
   "cell_type": "code",
   "execution_count": 43,
   "id": "6f1af768",
   "metadata": {},
   "outputs": [
    {
     "data": {
      "text/plain": [
       "(-0.00022620085993920567-6.0381765805633185e-05j)"
      ]
     },
     "execution_count": 43,
     "metadata": {},
     "output_type": "execute_result"
    }
   ],
   "source": [
    "r_const_complex"
   ]
  },
  {
   "cell_type": "code",
   "execution_count": 38,
   "id": "518bb77e",
   "metadata": {},
   "outputs": [
    {
     "data": {
      "text/plain": [
       "(76350402.8111051-6491847.304042041j)"
      ]
     },
     "execution_count": 38,
     "metadata": {},
     "output_type": "execute_result"
    }
   ],
   "source": [
    "complex(cos_term_0_t_nm1, sin_term_0_t_nm1)"
   ]
  },
  {
   "cell_type": "code",
   "execution_count": 26,
   "id": "53d8e1b0",
   "metadata": {},
   "outputs": [
    {
     "data": {
      "text/plain": [
       "(10004, 1004)"
      ]
     },
     "execution_count": 26,
     "metadata": {},
     "output_type": "execute_result"
    }
   ],
   "source": [
    "E_complex.shape"
   ]
  },
  {
   "cell_type": "code",
   "execution_count": 29,
   "id": "971bbf04",
   "metadata": {},
   "outputs": [
    {
     "data": {
      "text/plain": [
       "<matplotlib.legend.Legend at 0x162287afcd0>"
      ]
     },
     "execution_count": 29,
     "metadata": {},
     "output_type": "execute_result"
    },
    {
     "data": {
      "image/png": "[encoded data removed]",
      "text/plain": [
       "<Figure size 640x480 with 1 Axes>"
      ]
     },
     "metadata": {},
     "output_type": "display_data"
    }
   ],
   "source": []
  },
  {
   "cell_type": "markdown",
   "id": "bf52f226",
   "metadata": {},
   "source": [
    "## Laser source\n",
    "\n",
    "Plot an animated wave through time."
   ]
  },
  {
   "cell_type": "code",
   "execution_count": null,
   "id": "22ead11f",
   "metadata": {},
   "outputs": [],
   "source": [
    "plt.plot(E)\n",
    "plt.legend\n",
    "plt.show()"
   ]
  },
  {
   "cell_type": "code",
   "execution_count": null,
   "id": "b6ebe25a",
   "metadata": {},
   "outputs": [],
   "source": [
    "%matplotlib notebook"
   ]
  },
  {
   "cell_type": "code",
   "execution_count": null,
   "id": "bd3ba60b",
   "metadata": {},
   "outputs": [],
   "source": [
    "Y_UPPER_LIMIT = 3 * 10**8\n",
    "Y_LOWER_LIMIT = -3 * 10**8"
   ]
  },
  {
   "cell_type": "code",
   "execution_count": null,
   "id": "aadb594f",
   "metadata": {},
   "outputs": [],
   "source": [
    "fig, ax = plt.subplots()\n",
    "ax.set(xlim=(0, 100), ylim=(Y_LOWER_LIMIT, Y_UPPER_LIMIT))\n",
    "\n",
    "line = ax.plot(x, E[:,0], color='k', lw=2)[0]\n",
    "\n",
    "def animate(i):\n",
    "    line.set_ydata(E[:,i])\n",
    "    \n",
    "anim = FuncAnimation(fig, animate, interval=1, frames=100)\n",
    " \n",
    "anim.save('filename.gif')\n",
    "    \n",
    "# plt.draw()\n",
    "plt.show()"
   ]
  },
  {
   "cell_type": "code",
   "execution_count": null,
   "id": "e3d03d56",
   "metadata": {
    "scrolled": false
   },
   "outputs": [],
   "source": [
    "# initializing a figure in \n",
    "# which the graph will be plotted\n",
    "fig = plt.figure() \n",
    "   \n",
    "# marking the x-axis and y-axis\n",
    "axis = plt.axes(xlim=(0, 100), ylim=(Y_LOWER_LIMIT, Y_UPPER_LIMIT)) \n",
    "  \n",
    "# initializing a line variable\n",
    "line, = axis.plot([], [], lw = 3) \n",
    "\n",
    "# data which the line will \n",
    "# contain (x, y)\n",
    "def init(): \n",
    "    line.set_data([])\n",
    "    return line,\n",
    "   \n",
    "def animate(i):\n",
    "#     x = np.linspace(0, 4, 1000)\n",
    "   \n",
    "    # plots a sine graph\n",
    "#     y = np.sin(2 * np.pi * (x - 0.01 * i))\n",
    "    line.set_data(E[i])\n",
    "      \n",
    "    return line,\n",
    "   \n",
    "anim = FuncAnimation(fig, animate, init_func = init,\n",
    "                     frames = 1, interval = 20, blit = True)\n",
    "  \n",
    "anim.save('test.gif')\n",
    "\n",
    "plt.show()"
   ]
  },
  {
   "cell_type": "code",
   "execution_count": null,
   "id": "c6d241c3",
   "metadata": {},
   "outputs": [],
   "source": []
  }
 ],
 "metadata": {
  "kernelspec": {
   "display_name": "Python 3 (ipykernel)",
   "language": "python",
   "name": "python3"
  },
  "language_info": {
   "codemirror_mode": {
    "name": "ipython",
    "version": 3
   },
   "file_extension": ".py",
   "mimetype": "text/x-python",
   "name": "python",
   "nbconvert_exporter": "python",
   "pygments_lexer": "ipython3",
   "version": "3.11.4"
  }
 },
 "nbformat": 4,
 "nbformat_minor": 5
}
