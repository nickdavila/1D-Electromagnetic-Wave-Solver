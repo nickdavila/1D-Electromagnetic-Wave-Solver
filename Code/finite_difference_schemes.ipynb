{
 "cells": [
  {
   "cell_type": "code",
   "execution_count": 1,
   "id": "cc16b3f7",
   "metadata": {},
   "outputs": [
    {
     "data": {
      "application/javascript": [
       "MathJax.Hub.Config({\n",
       "    TeX: { equationNumbers: { autoNumber: \"AMS\" } }\n",
       "});\n",
       "// Code to be able to number equations in the markdown\n"
      ],
      "text/plain": [
       "<IPython.core.display.Javascript object>"
      ]
     },
     "metadata": {},
     "output_type": "display_data"
    }
   ],
   "source": [
    "%%javascript\n",
    "MathJax.Hub.Config({\n",
    "    TeX: { equationNumbers: { autoNumber: \"AMS\" } }\n",
    "});\n",
    "// Code to be able to number equations in the markdown"
   ]
  },
  {
   "cell_type": "code",
   "execution_count": 2,
   "id": "941d11c2",
   "metadata": {},
   "outputs": [],
   "source": [
    "import numpy as np\n",
    "import matplotlib.pyplot as plt\n",
    "# import matplotlib.animation as animation\n",
    "from matplotlib.animation import FuncAnimation\n",
    "from IPython.display import HTML"
   ]
  },
  {
   "cell_type": "markdown",
   "id": "c7c7ac6a",
   "metadata": {},
   "source": [
    "## Explicit finite difference scheme"
   ]
  },
  {
   "attachments": {
    "explicit_method_stencil.png": {
     "image/png": "[encoded data removed]"
    }
   },
   "cell_type": "markdown",
   "id": "71bd9635",
   "metadata": {},
   "source": [
    "### Rewriting equation in terms of row (position) and column (time) indicies.\n",
    "\n",
    "The equation (Eq. 4.0 in doc) given to me by Jack is: \n",
    "\n",
    "\\begin{equation}\n",
    "E^{n+1}_i = \\left ( \\frac{\\Delta t}{\\Delta x} \\frac{c}{n} \\right )^2 (E^{n}_{i+1} - 2E^{n}_{i} + E^{n}_{i-1})-(-2E^{n}_{i} + E^{n-1}_{i})\n",
    "\\end{equation}\n",
    "\n",
    "where $ \\displaystyle r = \\left ( \\frac{\\Delta t}{\\Delta x} \\frac{c}{n} \\right )^2 $ and n is the position index and i is the time index (dimensionless)\n",
    "\n",
    "![explicit_method_stencil.png](attachment:explicit_method_stencil.png)\n",
    "\n",
    "Using the image above, we use [i,n] ; [i-1,n] ; [i+1,n] ; [i, n-1] and take a weighted average to find [i,n+1]."
   ]
  },
  {
   "cell_type": "markdown",
   "id": "a54ff6a2",
   "metadata": {},
   "source": [
    "### Defining global arrays for I, E, T_e, T_i, n_e, rho\n"
   ]
  },
  {
   "cell_type": "code",
   "execution_count": 3,
   "id": "70368a4a",
   "metadata": {},
   "outputs": [],
   "source": [
    "I = np.zeros((10, 10))\n",
    "E = np.zeros((10, 10))\n",
    "T_e = np.zeros((10, 10))\n",
    "T_i = np.zeros((10, 10))\n",
    "n_e = np.zeros((10, 10))\n",
    "rho = np.zeros((10, 10))"
   ]
  },
  {
   "cell_type": "markdown",
   "id": "1fcc0d3c",
   "metadata": {},
   "source": [
    "### Defining parameters needed to solve differential equation: $ \\nabla^{2} E - \\frac{n^2}{c^2} \\frac{\\partial^2 E}{\\partial t^{2}} = 0$"
   ]
  },
  {
   "cell_type": "code",
   "execution_count": 295,
   "id": "e330e215",
   "metadata": {},
   "outputs": [],
   "source": [
    "# Unit conversions\n",
    "ps = 10**-12    # picoseconds unit\n",
    "nm = 10**-9     # nanometers unit\n",
    "um = 10 ** -6   # micrometer unit\n",
    "    \n",
    "# Physical parameters\n",
    "RefractiveIndex = 1                         # unitless\n",
    "speed_of_light = 299792458                  # in m/s\n",
    "wavelength = 351 * nm # we choose wavelength\n",
    "\n",
    "# time-step size “dt” is strictly controlled by Courant–Friedrichs–Lewy (CFL) condition \n",
    "#so that the wave propagation distance within a allowed time-step size cannot exceed the grid size “dx”.\n",
    "CFL = 0.1\n",
    "delta_x = 0.001 * wavelength\n",
    "delta_t = CFL * delta_x / speed_of_light    # time related time-step\n",
    "\n",
    "# Physics formulas\n",
    "frequency = speed_of_light/wavelength       # in Hertz\n",
    "angular_frequency = 2 * np.pi * frequency   # in Hertz\n",
    "wavenumber = (2 * np.pi) / wavelength       # wave number 'k' will be imaginary part in the coming days (when we do it correctly)\n",
    "period = wavelength / speed_of_light        # wave period (can also be calculated with 1/f)\n",
    "\n",
    "# Grid and time parameters\n",
    "# T = 1 * ps              # time in seconds (* picoseonds) (in the future, will represent modeling time)\n",
    "T = period\n",
    "n_timestep = int(T/delta_t)        # n time step\n",
    "n_cycles = period / delta_t  # number of timesteps to finish one period\n",
    "ntimestep_dividedby_ncycle = n_timestep / n_cycles # equal to number of periods passing through simulation time \n",
    "# L = 500 * nm            # length in SI units in meters\n",
    "L = wavelength\n",
    "n_cells = int(L/delta_x)            # number of cells (can also think of as number of grid points)\n",
    "# delta_x = L/n_cells     # spatial time-step (can also think of as grid spacing)\n",
    "\n"
   ]
  },
  {
   "cell_type": "markdown",
   "id": "32e10d66",
   "metadata": {},
   "source": [
    "### Initializing laser intensity and electric field"
   ]
  },
  {
   "cell_type": "code",
   "execution_count": 206,
   "id": "6d288bdc",
   "metadata": {},
   "outputs": [],
   "source": [
    "R = 25 * um # radius of laser\n",
    "E_L = 10 * (10 ** -6) # in joules laser energy (10 mu joules)\n",
    "Area_L = np.pi * R **2 # area of laser\n",
    "T_laser = 100 * ps # laser pulse time\n",
    "I_0 = E_L / (Area_L * T_laser) # laser intensities (SI unit is Joules/(m**2) * s )\n",
    "permittivity_free_space = 8.85418782 * 10 **-12\n",
    "\n",
    "# Electric field\n",
    "E_0 = np.sqrt( (2 * I_0) / (speed_of_light * RefractiveIndex * permittivity_free_space) ) # SI unit is voltage / m\n",
    "\n",
    "# Laser intensity\n",
    "I_0 = E_L / (Area_L * T_laser) # laser intensities (SI unit is Joules/(m**2) * s )"
   ]
  },
  {
   "cell_type": "markdown",
   "id": "f38ce331",
   "metadata": {},
   "source": [
    "### Solving explicitly using Eq (1): $E^{n+1}_i = \\left ( \\frac{\\Delta t}{\\Delta x} \\frac{c}{n} \\right )^2 (E^{n}_{i+1} - 2E^{n}_{i} + E^{n}_{i-1})-(-2E^{n}_{i} + E^{n-1}_{i})$"
   ]
  },
  {
   "cell_type": "code",
   "execution_count": 207,
   "id": "2eca982b",
   "metadata": {},
   "outputs": [],
   "source": [
    "x = []  # spatial domain (can also think of as coordinates of grid points)\n",
    "t = []  # time domain\n",
    "\n",
    "# Creating arrays for the spatial and time domains. Starting at -2 in order to create ghost cells. And ending with + 3 for the same reason\n",
    "# The ghost cells are there so that in the matrix we can access all indeces\n",
    "# To append, using formula Dr. Woo gave me: X_i = delta_x(i + 1/2)\n",
    "for i in range(-2, n_cells + 3):\n",
    "    x.append(delta_x * (i + 0.5))\n",
    "\n",
    "for i in range(-2, n_timestep + 3):\n",
    "    t.append(delta_t * (i + 0.5))\n",
    "    \n",
    "x = np.array(x)\n",
    "t = np.array(t)\n",
    "\n",
    "# BEFORE: E = np.zeros((len(x), len(t)))\n",
    "E = np.zeros((len(t), len(x)))\n",
    "\n",
    "r_const = ( (delta_t/delta_x) * (speed_of_light/RefractiveIndex) ) ** 2 # our parameter\n",
    "\n",
    "# These loops will go through the grid. We start at 1 so as to not calculate the\n",
    "# value when the a time or spatial point is equal to 0.\n",
    "index = 0\n",
    "for n in range(1, (len(t) - 3)*1 + 0):\n",
    "    t_sim = t[n] # in seconds\n",
    "    \n",
    "    # Initial conditions in time:\n",
    "    E[n-1, 0] = E_0 * np.sin( angular_frequency * t[n-1] - wavenumber * x[0] )\n",
    "    E[n-1, 1] = E_0 * np.sin( angular_frequency * t[n-1] - wavenumber * x[1] )\n",
    "    \n",
    "    # Instantenously defining the boundary conditions/values of ghost cells on the RIGHT:\n",
    "    E[n, 0] = E_0 * np.sin( angular_frequency * t[n] - wavenumber * x[0] )\n",
    "    E[n, 1] = E_0 * np.sin( angular_frequency * t[n] - wavenumber * x[1] )\n",
    "    \n",
    "    # We have no laser on the left, so boundary conditions are just 0\n",
    "    E[n, -1] = 0\n",
    "    E[n, -2] = 0\n",
    "    \n",
    "    # Initial conditions in time:\n",
    "    E[1, 2:] = 0\n",
    "    for i in range(2, len(x) - 3):\n",
    "        E[n+1, i] = (r_const) * ( E[n, i+1] - 2*E[n, i] + E[n, i-1] ) - ( -2*E[n, i] + E[n-1, i] )\n",
    "        \n",
    "#         print('E[n+1, i]/E_0', E[n+1, i]/E_0)\n",
    "        \n",
    "        # if the ratio is not bounded to from -1 to 1, then we have overshot and are out of simulation physical bounds\n",
    "        if (False) and abs(E[n+1, i]/E_0) > 1:\n",
    "            print('stop')\n",
    "            print('index', index, 'n+1', n+1, 'i', i, 'E[n+1, i]', E[n+1, i], 'E[n+1, i]/E_0', E[n+1, i]/E_0, (r_const) * (E[n, i+1] - 2*E[n, i] + E[n, i-1]), -2*E[n, i] + E[n-1, i], E[n, i-1] * r_const)\n",
    "            break\n",
    "    \n",
    "        index += 1"
   ]
  },
  {
   "cell_type": "code",
   "execution_count": 208,
   "id": "3002d2b8",
   "metadata": {},
   "outputs": [
    {
     "data": {
      "text/plain": [
       "999.9999999999999"
      ]
     },
     "execution_count": 208,
     "metadata": {},
     "output_type": "execute_result"
    }
   ],
   "source": [
    "L/delta_x"
   ]
  },
  {
   "cell_type": "code",
   "execution_count": 209,
   "id": "174fd371",
   "metadata": {},
   "outputs": [
    {
     "data": {
      "text/plain": [
       "3.3356409519815205e-06"
      ]
     },
     "execution_count": 209,
     "metadata": {},
     "output_type": "execute_result"
    }
   ],
   "source": [
    "T/delta_x"
   ]
  },
  {
   "cell_type": "code",
   "execution_count": 210,
   "id": "fe864809",
   "metadata": {},
   "outputs": [
    {
     "data": {
      "text/plain": [
       "2000.0"
      ]
     },
     "execution_count": 210,
     "metadata": {},
     "output_type": "execute_result"
    }
   ],
   "source": [
    "T/delta_t"
   ]
  },
  {
   "cell_type": "code",
   "execution_count": 211,
   "id": "2ed4f37a",
   "metadata": {},
   "outputs": [
    {
     "data": {
      "text/plain": [
       "0.25"
      ]
     },
     "execution_count": 211,
     "metadata": {},
     "output_type": "execute_result"
    }
   ],
   "source": [
    "r_const"
   ]
  },
  {
   "cell_type": "code",
   "execution_count": 212,
   "id": "844e3826",
   "metadata": {},
   "outputs": [
    {
     "data": {
      "text/plain": [
       "3.51e-07"
      ]
     },
     "execution_count": 212,
     "metadata": {},
     "output_type": "execute_result"
    }
   ],
   "source": [
    "wavelength"
   ]
  },
  {
   "cell_type": "code",
   "execution_count": 213,
   "id": "f0351003",
   "metadata": {},
   "outputs": [
    {
     "data": {
      "text/plain": [
       "[<matplotlib.lines.Line2D at 0x22b5aef5550>]"
      ]
     },
     "execution_count": 213,
     "metadata": {},
     "output_type": "execute_result"
    },
    {
     "data": {
      "image/png": "[encoded data removed]",
      "text/plain": [
       "<Figure size 640x480 with 1 Axes>"
      ]
     },
     "metadata": {},
     "output_type": "display_data"
    }
   ],
   "source": [
    "plt.plot(x/nm, E[2000, :], 'ro')"
   ]
  },
  {
   "cell_type": "code",
   "execution_count": 214,
   "id": "83c1e567",
   "metadata": {},
   "outputs": [
    {
     "data": {
      "text/plain": [
       "[<matplotlib.lines.Line2D at 0x22b5af72410>]"
      ]
     },
     "execution_count": 214,
     "metadata": {},
     "output_type": "execute_result"
    },
    {
     "data": {
      "image/png": "[encoded data removed]",
      "text/plain": [
       "<Figure size 640x480 with 1 Axes>"
      ]
     },
     "metadata": {},
     "output_type": "display_data"
    }
   ],
   "source": [
    "plt.plot(E_0 * np.sin( angular_frequency * t - wavenumber * x[0] ))"
   ]
  },
  {
   "cell_type": "code",
   "execution_count": 215,
   "id": "2c7cc4cf",
   "metadata": {},
   "outputs": [
    {
     "data": {
      "text/plain": [
       "5.854049870727569e-19"
      ]
     },
     "execution_count": 215,
     "metadata": {},
     "output_type": "execute_result"
    }
   ],
   "source": [
    "delta_t"
   ]
  },
  {
   "cell_type": "code",
   "execution_count": 216,
   "id": "5b22c494",
   "metadata": {},
   "outputs": [
    {
     "data": {
      "text/plain": [
       "2000.0"
      ]
     },
     "execution_count": 216,
     "metadata": {},
     "output_type": "execute_result"
    }
   ],
   "source": [
    "T/delta_t"
   ]
  },
  {
   "cell_type": "code",
   "execution_count": 217,
   "id": "aa25558c",
   "metadata": {},
   "outputs": [
    {
     "data": {
      "text/plain": [
       "0.30000000000000004"
      ]
     },
     "execution_count": 217,
     "metadata": {},
     "output_type": "execute_result"
    }
   ],
   "source": [
    "(delta_t * 600) / period"
   ]
  },
  {
   "cell_type": "markdown",
   "id": "823398fa",
   "metadata": {},
   "source": [
    "## Modeling the damping wave"
   ]
  },
  {
   "cell_type": "code",
   "execution_count": 367,
   "id": "2a7c67b4",
   "metadata": {},
   "outputs": [],
   "source": [
    "# defining complex index of refraction\n",
    "n_r = 1\n",
    "# n_i = 6.48\n",
    "n_i = 0\n",
    "# complex_refractive_index = np.cdouble(complex(n_r, n_i))\n",
    "complex_refractive_index = complex(n_r, n_i)"
   ]
  },
  {
   "cell_type": "code",
   "execution_count": 368,
   "id": "de6b229b",
   "metadata": {},
   "outputs": [
    {
     "data": {
      "text/plain": [
       "(1+0j)"
      ]
     },
     "execution_count": 368,
     "metadata": {},
     "output_type": "execute_result"
    }
   ],
   "source": [
    "complex_refractive_index"
   ]
  },
  {
   "cell_type": "code",
   "execution_count": 369,
   "id": "95f549aa",
   "metadata": {},
   "outputs": [],
   "source": [
    "R = 25 * um # radius of laser\n",
    "E_L = 10 * (10 ** -6) # in joules laser energy (10 mu joules)\n",
    "Area_L = np.pi * R **2 # area of laser\n",
    "T_laser = 100 * ps # laser pulse time\n",
    "I_0 = E_L / (Area_L * T_laser) # laser intensities (SI unit is Joules/(m**2) * s )\n",
    "permittivity_free_space = 8.85418782 * 10 **-12\n",
    "\n",
    "# Electric field (same as before but now using complex refractive index)\n",
    "refract_index_ghost = 1\n",
    "E_0 = np.sqrt( (2 * I_0) / (speed_of_light * refract_index_ghost * permittivity_free_space)) # SI unit is voltage / m\n",
    "\n",
    "# Laser intensity\n",
    "I_0 = E_L / (Area_L * T_laser) # laser intensities (SI unit is Joules/(m**2) * s )"
   ]
  },
  {
   "cell_type": "code",
   "execution_count": 370,
   "id": "687d18a9",
   "metadata": {},
   "outputs": [
    {
     "data": {
      "text/plain": [
       "195891384.73574314"
      ]
     },
     "execution_count": 370,
     "metadata": {},
     "output_type": "execute_result"
    }
   ],
   "source": [
    "E_0"
   ]
  },
  {
   "cell_type": "code",
   "execution_count": 371,
   "id": "26ddc959",
   "metadata": {},
   "outputs": [],
   "source": [
    "x = []  # spatial domain (can also think of as coordinates of grid points)\n",
    "t = []  # time domain\n",
    "\n",
    "# Creating arrays for the spatial and time domains. Starting at -2 in order to create ghost cells. And ending with + 3 for the same reason\n",
    "# The ghost cells are there so that in the matrix we can access all indeces\n",
    "# To append, using formula Dr. Woo gave me: X_i = delta_x(i + 1/2)\n",
    "for i in range(-2, n_cells + 3):\n",
    "    x.append(delta_x * (i + 0.5))\n",
    "\n",
    "for i in range(-2, n_timestep + 3):\n",
    "    t.append(delta_t * (i + 0.5))\n",
    "    \n",
    "x = np.array(x)\n",
    "t = np.array(t)\n",
    "\n",
    "E = 1j * np.zeros((len(t), len(x)))\n",
    "\n",
    "r_const_complex = ( (delta_t/delta_x) * (speed_of_light/complex_refractive_index) ) ** 2 # our parameter\n",
    "\n",
    "# These loops will go through the grid. We start at 1 so as to not calculate the\n",
    "# value when the a time or spatial point is equal to 0.\n",
    "index = 0\n",
    "for n in range(1, (len(t) - 3)*1 + 0):\n",
    "    t_sim = t[n] # in seconds\n",
    "    \n",
    "    # Defning cos and sin terms for wave to later be turned into complex numbers for t_nm1\n",
    "    cos_term_0_t_nm1 = E_0 * np.cos((wavenumber * x[0]) - (angular_frequency * t[n-1]) + np.pi/2)\n",
    "    sin_term_0_t_nm1 = E_0 * np.sin((wavenumber * x[0]) - (angular_frequency * t[n-1]) + np.pi/2)\n",
    "    \n",
    "    cos_term_1_t_nm1 = E_0 * np.cos((wavenumber * x[1]) - (angular_frequency * t[n-1]) + np.pi/2)\n",
    "    sin_term_1_t_nm1 = E_0 * np.sin((wavenumber * x[1]) - (angular_frequency * t[n-1]) + np.pi/2)\n",
    "    \n",
    "#     print('cos_term_0_t_nm1', cos_term_0_t_nm1)\n",
    "#     print('sin_term_0_t_nm1', sin_term_0_t_nm1)\n",
    "#     print('cos_term_1_t_nm1', cos_term_1_t_nm1)\n",
    "#     print('sin_term_1_t_nm1', sin_term_1_t_nm1)\n",
    "\n",
    "    \n",
    "    # Initial conditions in time:\n",
    "    E[n-1, 0] = complex(cos_term_0_t_nm1, sin_term_0_t_nm1)\n",
    "    E[n-1, 1] = complex(cos_term_1_t_nm1, sin_term_1_t_nm1)\n",
    "\n",
    "    \n",
    "    # Defning cos and sin terms for wave to later be turned into complex numbers for t_n\n",
    "    cos_term_0_t_n = E_0 * np.cos((wavenumber * x[0]) - (angular_frequency * t[n]) + np.pi/2)\n",
    "    sin_term_0_t_n = E_0 * np.sin((wavenumber * x[0]) - (angular_frequency * t[n]) + np.pi/2)\n",
    "    \n",
    "    cos_term_1_t_n = E_0 * np.cos((wavenumber * x[1]) - (angular_frequency * t[n]) + np.pi/2)\n",
    "    sin_term_1_t_n = E_0 * np.sin((wavenumber * x[1]) - (angular_frequency * t[n]) + np.pi/2)\n",
    "    \n",
    "#     print('cos_term_0_t_n', cos_term_0_t_n)\n",
    "#     print('sin_term_1_t_n', sin_term_1_t_n)\n",
    "    \n",
    "    \n",
    "    # Instantenously defining the boundary conditions/values of ghost cells on the RIGHT:\n",
    "    E[n, 0] = complex(cos_term_0_t_n, sin_term_0_t_n)\n",
    "    E[n, 1] = complex(cos_term_1_t_n, sin_term_1_t_n)\n",
    "    \n",
    "    \n",
    "    # We have no laser on the left, so boundary conditions are just 0\n",
    "    E[n, -1] = 0\n",
    "    E[n, -2] = 0\n",
    "    \n",
    "    # Initial conditions in time:\n",
    "    E[1, 2:] = 0\n",
    "    for i in range(2, len(x) - 3):\n",
    "        E[n+1, i] = (r_const_complex) * ( E[n, i+1] - 2*E[n, i] + E[n, i-1] ) - ( -2*E[n, i] + E[n-1, i] )\n",
    "        \n",
    "#         print('E[n+1, i]/E_0', E[n+1, i]/E_0)\n",
    "        \n",
    "        # if the ratio is not bounded to from -1 to 1, then we have overshot and are out of simulation physical bounds\n",
    "        if (False) and abs(E[n+1, i])/abs(E_0) > 1:\n",
    "            print('stop')\n",
    "            print('index', index, 'n+1', n+1, 'i', i, 'E[n+1, i]', E[n+1, i], 'abs(E[n+1, i])/abs(E_0)', abs(E[n+1, i])/abs(E_0))\n",
    "            print()\n",
    "            print('E_0', E_0)\n",
    "            print()\n",
    "            print('(r_const_complex) * ( E[n, i+1] - 2*E[n, i] + E[n, i-1] )', (r_const_complex) * ( E[n, i+1] - 2*E[n, i] + E[n, i-1] ))\n",
    "            print()\n",
    "            print('( -2*E[n, i] + E[n-1, i] )', ( -2*E[n, i] + E[n-1, i] ))\n",
    "            \n",
    "            print('abs( -2*E[n, i] + E[n-1, i] )', abs(( -2*E[n, i] + E[n-1, i] )))\n",
    "            print()\n",
    "            print('abs(r_const_complex)', abs(r_const_complex))\n",
    "            print()\n",
    "            \n",
    "            print('E[n, i+1]', E[n, i+1], 'E[n, i]', E[n, i], 'E[n, i-1]', E[n, i-1], 'E[n-1, i]', E[n-1, i])\n",
    "            print(abs(E[n, i+1]/E_0),  abs(E[n, i]/E_0), abs(E[n, i-1]/E_0), abs(E[n-1, i]/E_0))\n",
    "            print()\n",
    "            \n",
    "            print('cos_term_0_t_nm1', cos_term_0_t_nm1)\n",
    "            print('sin_term_0_t_nm1', sin_term_0_t_nm1)\n",
    "            print('cos_term_1_t_nm1', cos_term_1_t_nm1)\n",
    "            print('sin_term_1_t_nm1', sin_term_1_t_nm1)\n",
    "            \n",
    "            print(np.sqrt(cos_term_0_t_nm1 ** 2 + sin_term_0_t_nm1 ** 2))\n",
    "            print(np.sqrt(cos_term_1_t_nm1 ** 2 + sin_term_1_t_nm1 ** 2))\n",
    "            \n",
    "            print(np.sqrt(cos_term_0_t_n ** 2 + sin_term_0_t_n ** 2))\n",
    "            print(np.sqrt(cos_term_1_t_n ** 2 + sin_term_1_t_n ** 2))\n",
    "            break\n",
    "    \n",
    "        index += 1"
   ]
  },
  {
   "cell_type": "code",
   "execution_count": 356,
   "id": "1a0de950",
   "metadata": {},
   "outputs": [
    {
     "data": {
      "text/plain": [
       "(1+1j)"
      ]
     },
     "execution_count": 356,
     "metadata": {},
     "output_type": "execute_result"
    }
   ],
   "source": [
    "np.cdouble(complex(1,1))"
   ]
  },
  {
   "cell_type": "code",
   "execution_count": 357,
   "id": "ac386551",
   "metadata": {},
   "outputs": [],
   "source": [
    "cos_term_0_t_nm1 = E_0 * np.cos((wavenumber * x[0]) - (angular_frequency * t) + np.pi/2)\n",
    "sin_term_0_t_nm1 = E_0 * np.sin((wavenumber * x[0]) - (angular_frequency * t) + np.pi/2)\n",
    "\n",
    "cos_term_1_t_nm1 = E_0 * np.cos((wavenumber * x[1]) - (angular_frequency * t) + np.pi/2)\n",
    "sin_term_1_t_nm1 = E_0 * np.sin((wavenumber * x[1]) - (angular_frequency * t) + np.pi/2)"
   ]
  },
  {
   "cell_type": "code",
   "execution_count": 251,
   "id": "5bad596e",
   "metadata": {},
   "outputs": [
    {
     "data": {
      "text/plain": [
       "[<matplotlib.lines.Line2D at 0x22b5a47d9d0>]"
      ]
     },
     "execution_count": 251,
     "metadata": {},
     "output_type": "execute_result"
    },
    {
     "data": {
      "image/png": "[encoded data removed]",
      "text/plain": [
       "<Figure size 640x480 with 1 Axes>"
      ]
     },
     "metadata": {},
     "output_type": "display_data"
    }
   ],
   "source": [
    "plt.plot(E_0 * np.sin( angular_frequency * t - wavenumber * x[0] ))"
   ]
  },
  {
   "cell_type": "code",
   "execution_count": 262,
   "id": "beada334",
   "metadata": {},
   "outputs": [
    {
     "data": {
      "image/png": "[encoded data removed]",
      "text/plain": [
       "<Figure size 640x480 with 1 Axes>"
      ]
     },
     "metadata": {},
     "output_type": "display_data"
    }
   ],
   "source": [
    "plt.plot(cos_term_0_t_nm1)\n",
    "plt.plot(cos_term_1_t_nm1)\n",
    "plt.show()"
   ]
  },
  {
   "cell_type": "code",
   "execution_count": null,
   "id": "0ee750d3",
   "metadata": {},
   "outputs": [],
   "source": [
    "cos_term_0_t_n = E_0 * np.cos((wavenumber * x[0]) - (angular_frequency * t))\n",
    "sin_term_0_t_n = E_0 * np.sin((wavenumber * x[0]) - (angular_frequency * t))\n",
    "\n",
    "cos_term_1_t_n = E_0 * np.cos((wavenumber * x[1]) - (angular_frequency * t))\n",
    "sin_term_1_t_n = E_0 * np.sin((wavenumber * x[1]) - (angular_frequency * t))"
   ]
  },
  {
   "cell_type": "code",
   "execution_count": 254,
   "id": "62f25d51",
   "metadata": {},
   "outputs": [
    {
     "data": {
      "text/plain": [
       "923112.9862372458"
      ]
     },
     "execution_count": 254,
     "metadata": {},
     "output_type": "execute_result"
    }
   ],
   "source": [
    "cos_term_0_t_nm1"
   ]
  },
  {
   "cell_type": "code",
   "execution_count": 244,
   "id": "db029d14",
   "metadata": {},
   "outputs": [
    {
     "data": {
      "text/plain": [
       "[<matplotlib.lines.Line2D at 0x22b5a142a90>]"
      ]
     },
     "execution_count": 244,
     "metadata": {},
     "output_type": "execute_result"
    },
    {
     "data": {
      "image/png": "[encoded data removed]",
      "text/plain": [
       "<Figure size 640x480 with 1 Axes>"
      ]
     },
     "metadata": {},
     "output_type": "display_data"
    }
   ],
   "source": [
    "plt.plot(np.sqrt(cos_term_1_t_nm1 ** 2 + sin_term_1_t_nm1 ** 2))"
   ]
  },
  {
   "cell_type": "code",
   "execution_count": 289,
   "id": "d262a1c5",
   "metadata": {},
   "outputs": [],
   "source": [
    "from scipy.ndimage import gaussian_filter1d"
   ]
  },
  {
   "cell_type": "code",
   "execution_count": null,
   "id": "fbda5d0f",
   "metadata": {
    "scrolled": false
   },
   "outputs": [],
   "source": [
    "plt.plot(x/nm, gaussian_filter1d(E[2000, :].real, 5))"
   ]
  },
  {
   "cell_type": "code",
   "execution_count": 373,
   "id": "eaec3e99",
   "metadata": {},
   "outputs": [
    {
     "data": {
      "text/plain": [
       "999"
      ]
     },
     "execution_count": 373,
     "metadata": {},
     "output_type": "execute_result"
    }
   ],
   "source": [
    "n_cells"
   ]
  },
  {
   "cell_type": "code",
   "execution_count": 374,
   "id": "7647c99b",
   "metadata": {},
   "outputs": [
    {
     "data": {
      "text/plain": [
       "9999"
      ]
     },
     "execution_count": 374,
     "metadata": {},
     "output_type": "execute_result"
    }
   ],
   "source": [
    "n_timestep"
   ]
  },
  {
   "cell_type": "code",
   "execution_count": 375,
   "id": "10f44261",
   "metadata": {},
   "outputs": [
    {
     "data": {
      "text/plain": [
       "[<matplotlib.lines.Line2D at 0x22b6150b590>]"
      ]
     },
     "execution_count": 375,
     "metadata": {},
     "output_type": "execute_result"
    },
    {
     "data": {
      "image/png": "[encoded data removed]",
      "text/plain": [
       "<Figure size 640x480 with 1 Axes>"
      ]
     },
     "metadata": {},
     "output_type": "display_data"
    }
   ],
   "source": [
    "plt.plot(x/nm, E[9999, :])"
   ]
  },
  {
   "cell_type": "code",
   "execution_count": 92,
   "id": "fef38939",
   "metadata": {},
   "outputs": [
    {
     "data": {
      "text/plain": [
       "[<matplotlib.lines.Line2D at 0x22b522fd610>]"
      ]
     },
     "execution_count": 92,
     "metadata": {},
     "output_type": "execute_result"
    },
    {
     "data": {
      "image/png": "[encoded data removed]",
      "text/plain": [
       "<Figure size 640x480 with 1 Axes>"
      ]
     },
     "metadata": {},
     "output_type": "display_data"
    }
   ],
   "source": [
    "plt.plot(E[10,:])"
   ]
  },
  {
   "cell_type": "code",
   "execution_count": 93,
   "id": "d95bfb5f",
   "metadata": {},
   "outputs": [
    {
     "data": {
      "text/plain": [
       "[<matplotlib.lines.Line2D at 0x22b525b2990>]"
      ]
     },
     "execution_count": 93,
     "metadata": {},
     "output_type": "execute_result"
    },
    {
     "data": {
      "image/png": "[encoded data removed]",
      "text/plain": [
       "<Figure size 640x480 with 1 Axes>"
      ]
     },
     "metadata": {},
     "output_type": "display_data"
    }
   ],
   "source": [
    "plt.plot(E[20, :])"
   ]
  },
  {
   "cell_type": "code",
   "execution_count": null,
   "id": "d3786609",
   "metadata": {},
   "outputs": [],
   "source": [
    "plt.plot()"
   ]
  },
  {
   "cell_type": "code",
   "execution_count": 85,
   "id": "472f8ba2",
   "metadata": {},
   "outputs": [
    {
     "data": {
      "text/plain": [
       "0.082"
      ]
     },
     "execution_count": 85,
     "metadata": {},
     "output_type": "execute_result"
    }
   ],
   "source": [
    "(delta_t * 820) / period "
   ]
  },
  {
   "cell_type": "code",
   "execution_count": 42,
   "id": "ea888186",
   "metadata": {},
   "outputs": [],
   "source": [
    "r_const_complex = ( (delta_t/delta_x) * (speed_of_light/complex_refractive_index) ) ** 2"
   ]
  },
  {
   "cell_type": "code",
   "execution_count": 43,
   "id": "6f1af768",
   "metadata": {},
   "outputs": [
    {
     "data": {
      "text/plain": [
       "(-0.00022620085993920567-6.0381765805633185e-05j)"
      ]
     },
     "execution_count": 43,
     "metadata": {},
     "output_type": "execute_result"
    }
   ],
   "source": [
    "r_const_complex"
   ]
  },
  {
   "cell_type": "code",
   "execution_count": 38,
   "id": "518bb77e",
   "metadata": {},
   "outputs": [
    {
     "data": {
      "text/plain": [
       "(76350402.8111051-6491847.304042041j)"
      ]
     },
     "execution_count": 38,
     "metadata": {},
     "output_type": "execute_result"
    }
   ],
   "source": [
    "complex(cos_term_0_t_nm1, sin_term_0_t_nm1)"
   ]
  },
  {
   "cell_type": "markdown",
   "id": "bf52f226",
   "metadata": {},
   "source": [
    "## Laser source\n",
    "\n",
    "Plot an animated wave through time."
   ]
  },
  {
   "cell_type": "code",
   "execution_count": null,
   "id": "22ead11f",
   "metadata": {},
   "outputs": [],
   "source": [
    "plt.plot(E)\n",
    "plt.legend\n",
    "plt.show()"
   ]
  },
  {
   "cell_type": "code",
   "execution_count": null,
   "id": "b6ebe25a",
   "metadata": {},
   "outputs": [],
   "source": [
    "%matplotlib notebook"
   ]
  },
  {
   "cell_type": "code",
   "execution_count": null,
   "id": "bd3ba60b",
   "metadata": {},
   "outputs": [],
   "source": [
    "Y_UPPER_LIMIT = 3 * 10**8\n",
    "Y_LOWER_LIMIT = -3 * 10**8"
   ]
  },
  {
   "cell_type": "code",
   "execution_count": null,
   "id": "aadb594f",
   "metadata": {},
   "outputs": [],
   "source": [
    "fig, ax = plt.subplots()\n",
    "ax.set(xlim=(0, 100), ylim=(Y_LOWER_LIMIT, Y_UPPER_LIMIT))\n",
    "\n",
    "line = ax.plot(x, E[:,0], color='k', lw=2)[0]\n",
    "\n",
    "def animate(i):\n",
    "    line.set_ydata(E[:,i])\n",
    "    \n",
    "anim = FuncAnimation(fig, animate, interval=1, frames=100)\n",
    " \n",
    "anim.save('filename.gif')\n",
    "    \n",
    "# plt.draw()\n",
    "plt.show()"
   ]
  },
  {
   "cell_type": "code",
   "execution_count": null,
   "id": "e3d03d56",
   "metadata": {
    "scrolled": false
   },
   "outputs": [],
   "source": [
    "# initializing a figure in \n",
    "# which the graph will be plotted\n",
    "fig = plt.figure() \n",
    "   \n",
    "# marking the x-axis and y-axis\n",
    "axis = plt.axes(xlim=(0, 100), ylim=(Y_LOWER_LIMIT, Y_UPPER_LIMIT)) \n",
    "  \n",
    "# initializing a line variable\n",
    "line, = axis.plot([], [], lw = 3) \n",
    "\n",
    "# data which the line will \n",
    "# contain (x, y)\n",
    "def init(): \n",
    "    line.set_data([])\n",
    "    return line,\n",
    "   \n",
    "def animate(i):\n",
    "#     x = np.linspace(0, 4, 1000)\n",
    "   \n",
    "    # plots a sine graph\n",
    "#     y = np.sin(2 * np.pi * (x - 0.01 * i))\n",
    "    line.set_data(E[i])\n",
    "      \n",
    "    return line,\n",
    "   \n",
    "anim = FuncAnimation(fig, animate, init_func = init,\n",
    "                     frames = 1, interval = 20, blit = True)\n",
    "  \n",
    "anim.save('test.gif')\n",
    "\n",
    "plt.show()"
   ]
  },
  {
   "cell_type": "code",
   "execution_count": null,
   "id": "c6d241c3",
   "metadata": {},
   "outputs": [],
   "source": []
  }
 ],
 "metadata": {
  "kernelspec": {
   "display_name": "Python 3 (ipykernel)",
   "language": "python",
   "name": "python3"
  },
  "language_info": {
   "codemirror_mode": {
    "name": "ipython",
    "version": 3
   },
   "file_extension": ".py",
   "mimetype": "text/x-python",
   "name": "python",
   "nbconvert_exporter": "python",
   "pygments_lexer": "ipython3",
   "version": "3.11.4"
  }
 },
 "nbformat": 4,
 "nbformat_minor": 5
}
